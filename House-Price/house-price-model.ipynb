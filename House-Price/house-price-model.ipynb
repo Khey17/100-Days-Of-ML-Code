{
 "cells": [
  {
   "cell_type": "code",
   "execution_count": 1,
   "id": "1f3e108e",
   "metadata": {
    "_cell_guid": "b1076dfc-b9ad-4769-8c92-a6c4dae69d19",
    "_uuid": "8f2839f25d086af736a60e9eeb907d3b93b6e0e5",
    "execution": {
     "iopub.execute_input": "2023-03-12T11:44:01.164495Z",
     "iopub.status.busy": "2023-03-12T11:44:01.163834Z",
     "iopub.status.idle": "2023-03-12T11:44:02.645463Z",
     "shell.execute_reply": "2023-03-12T11:44:02.643861Z"
    },
    "papermill": {
     "duration": 1.503297,
     "end_time": "2023-03-12T11:44:02.648684",
     "exception": false,
     "start_time": "2023-03-12T11:44:01.145387",
     "status": "completed"
    },
    "tags": []
   },
   "outputs": [],
   "source": [
    "# This Python 3 environment comes with many helpful analytics libraries installed\n",
    "# It is defined by the kaggle/python Docker image: https://github.com/kaggle/docker-python\n",
    "# For example, here's several helpful packages to load\n",
    "\n",
    "# Import Statements\n",
    "import numpy as np # linear algebra\n",
    "import pandas as pd # data processing, CSV file I/O (e.g. pd.read_csv)\n",
    "import matplotlib.pyplot as plt\n",
    "from collections import Counter\n",
    "\n",
    "# Input data files are available in the read-only \"../input/\" directory\n",
    "# For example, running this (by clicking run or pressing Shift+Enter) will list all files under the input directory\n",
    "\n",
    "from sklearn.preprocessing import StandardScaler, MinMaxScaler\n",
    "from sklearn.preprocessing import OneHotEncoder\n",
    "from sklearn.preprocessing import LabelEncoder\n",
    "from sklearn.compose import ColumnTransformer\n",
    "from sklearn.compose import TransformedTargetRegressor\n",
    "from sklearn.linear_model import LinearRegression\n",
    "from sklearn.ensemble import RandomForestRegressor, GradientBoostingRegressor\n",
    "from sklearn.model_selection import cross_val_score, train_test_split, RandomizedSearchCV, GridSearchCV\n",
    "from sklearn.metrics import mean_squared_error, r2_score\n",
    "\n",
    "# You can write up to 20GB to the current directory (/kaggle/working/) that gets preserved as output when you create a version using \"Save & Run All\" \n",
    "# You can also write temporary files to /kaggle/temp/, but they won't be saved outside of the current session"
   ]
  },
  {
   "cell_type": "markdown",
   "id": "f1aa0825",
   "metadata": {
    "papermill": {
     "duration": 0.01009,
     "end_time": "2023-03-12T11:44:02.669466",
     "exception": false,
     "start_time": "2023-03-12T11:44:02.659376",
     "status": "completed"
    },
    "tags": []
   },
   "source": [
    "# Cleaning the Training Dataset"
   ]
  },
  {
   "cell_type": "code",
   "execution_count": 2,
   "id": "fa0fa972",
   "metadata": {
    "execution": {
     "iopub.execute_input": "2023-03-12T11:44:02.692158Z",
     "iopub.status.busy": "2023-03-12T11:44:02.691709Z",
     "iopub.status.idle": "2023-03-12T11:44:02.771505Z",
     "shell.execute_reply": "2023-03-12T11:44:02.770286Z"
    },
    "papermill": {
     "duration": 0.09416,
     "end_time": "2023-03-12T11:44:02.773940",
     "exception": false,
     "start_time": "2023-03-12T11:44:02.679780",
     "status": "completed"
    },
    "tags": []
   },
   "outputs": [
    {
     "data": {
      "text/html": [
       "<div>\n",
       "<style scoped>\n",
       "    .dataframe tbody tr th:only-of-type {\n",
       "        vertical-align: middle;\n",
       "    }\n",
       "\n",
       "    .dataframe tbody tr th {\n",
       "        vertical-align: top;\n",
       "    }\n",
       "\n",
       "    .dataframe thead th {\n",
       "        text-align: right;\n",
       "    }\n",
       "</style>\n",
       "<table border=\"1\" class=\"dataframe\">\n",
       "  <thead>\n",
       "    <tr style=\"text-align: right;\">\n",
       "      <th></th>\n",
       "      <th>Id</th>\n",
       "      <th>MSSubClass</th>\n",
       "      <th>MSZoning</th>\n",
       "      <th>LotFrontage</th>\n",
       "      <th>LotArea</th>\n",
       "      <th>Street</th>\n",
       "      <th>Alley</th>\n",
       "      <th>LotShape</th>\n",
       "      <th>LandContour</th>\n",
       "      <th>Utilities</th>\n",
       "      <th>...</th>\n",
       "      <th>PoolArea</th>\n",
       "      <th>PoolQC</th>\n",
       "      <th>Fence</th>\n",
       "      <th>MiscFeature</th>\n",
       "      <th>MiscVal</th>\n",
       "      <th>MoSold</th>\n",
       "      <th>YrSold</th>\n",
       "      <th>SaleType</th>\n",
       "      <th>SaleCondition</th>\n",
       "      <th>SalePrice</th>\n",
       "    </tr>\n",
       "  </thead>\n",
       "  <tbody>\n",
       "    <tr>\n",
       "      <th>0</th>\n",
       "      <td>1</td>\n",
       "      <td>60</td>\n",
       "      <td>RL</td>\n",
       "      <td>65.0</td>\n",
       "      <td>8450</td>\n",
       "      <td>Pave</td>\n",
       "      <td>NaN</td>\n",
       "      <td>Reg</td>\n",
       "      <td>Lvl</td>\n",
       "      <td>AllPub</td>\n",
       "      <td>...</td>\n",
       "      <td>0</td>\n",
       "      <td>NaN</td>\n",
       "      <td>NaN</td>\n",
       "      <td>NaN</td>\n",
       "      <td>0</td>\n",
       "      <td>2</td>\n",
       "      <td>2008</td>\n",
       "      <td>WD</td>\n",
       "      <td>Normal</td>\n",
       "      <td>208500</td>\n",
       "    </tr>\n",
       "    <tr>\n",
       "      <th>1</th>\n",
       "      <td>2</td>\n",
       "      <td>20</td>\n",
       "      <td>RL</td>\n",
       "      <td>80.0</td>\n",
       "      <td>9600</td>\n",
       "      <td>Pave</td>\n",
       "      <td>NaN</td>\n",
       "      <td>Reg</td>\n",
       "      <td>Lvl</td>\n",
       "      <td>AllPub</td>\n",
       "      <td>...</td>\n",
       "      <td>0</td>\n",
       "      <td>NaN</td>\n",
       "      <td>NaN</td>\n",
       "      <td>NaN</td>\n",
       "      <td>0</td>\n",
       "      <td>5</td>\n",
       "      <td>2007</td>\n",
       "      <td>WD</td>\n",
       "      <td>Normal</td>\n",
       "      <td>181500</td>\n",
       "    </tr>\n",
       "    <tr>\n",
       "      <th>2</th>\n",
       "      <td>3</td>\n",
       "      <td>60</td>\n",
       "      <td>RL</td>\n",
       "      <td>68.0</td>\n",
       "      <td>11250</td>\n",
       "      <td>Pave</td>\n",
       "      <td>NaN</td>\n",
       "      <td>IR1</td>\n",
       "      <td>Lvl</td>\n",
       "      <td>AllPub</td>\n",
       "      <td>...</td>\n",
       "      <td>0</td>\n",
       "      <td>NaN</td>\n",
       "      <td>NaN</td>\n",
       "      <td>NaN</td>\n",
       "      <td>0</td>\n",
       "      <td>9</td>\n",
       "      <td>2008</td>\n",
       "      <td>WD</td>\n",
       "      <td>Normal</td>\n",
       "      <td>223500</td>\n",
       "    </tr>\n",
       "    <tr>\n",
       "      <th>3</th>\n",
       "      <td>4</td>\n",
       "      <td>70</td>\n",
       "      <td>RL</td>\n",
       "      <td>60.0</td>\n",
       "      <td>9550</td>\n",
       "      <td>Pave</td>\n",
       "      <td>NaN</td>\n",
       "      <td>IR1</td>\n",
       "      <td>Lvl</td>\n",
       "      <td>AllPub</td>\n",
       "      <td>...</td>\n",
       "      <td>0</td>\n",
       "      <td>NaN</td>\n",
       "      <td>NaN</td>\n",
       "      <td>NaN</td>\n",
       "      <td>0</td>\n",
       "      <td>2</td>\n",
       "      <td>2006</td>\n",
       "      <td>WD</td>\n",
       "      <td>Abnorml</td>\n",
       "      <td>140000</td>\n",
       "    </tr>\n",
       "    <tr>\n",
       "      <th>4</th>\n",
       "      <td>5</td>\n",
       "      <td>60</td>\n",
       "      <td>RL</td>\n",
       "      <td>84.0</td>\n",
       "      <td>14260</td>\n",
       "      <td>Pave</td>\n",
       "      <td>NaN</td>\n",
       "      <td>IR1</td>\n",
       "      <td>Lvl</td>\n",
       "      <td>AllPub</td>\n",
       "      <td>...</td>\n",
       "      <td>0</td>\n",
       "      <td>NaN</td>\n",
       "      <td>NaN</td>\n",
       "      <td>NaN</td>\n",
       "      <td>0</td>\n",
       "      <td>12</td>\n",
       "      <td>2008</td>\n",
       "      <td>WD</td>\n",
       "      <td>Normal</td>\n",
       "      <td>250000</td>\n",
       "    </tr>\n",
       "  </tbody>\n",
       "</table>\n",
       "<p>5 rows × 81 columns</p>\n",
       "</div>"
      ],
      "text/plain": [
       "   Id  MSSubClass MSZoning  LotFrontage  LotArea Street Alley LotShape  \\\n",
       "0   1          60       RL         65.0     8450   Pave   NaN      Reg   \n",
       "1   2          20       RL         80.0     9600   Pave   NaN      Reg   \n",
       "2   3          60       RL         68.0    11250   Pave   NaN      IR1   \n",
       "3   4          70       RL         60.0     9550   Pave   NaN      IR1   \n",
       "4   5          60       RL         84.0    14260   Pave   NaN      IR1   \n",
       "\n",
       "  LandContour Utilities  ... PoolArea PoolQC Fence MiscFeature MiscVal MoSold  \\\n",
       "0         Lvl    AllPub  ...        0    NaN   NaN         NaN       0      2   \n",
       "1         Lvl    AllPub  ...        0    NaN   NaN         NaN       0      5   \n",
       "2         Lvl    AllPub  ...        0    NaN   NaN         NaN       0      9   \n",
       "3         Lvl    AllPub  ...        0    NaN   NaN         NaN       0      2   \n",
       "4         Lvl    AllPub  ...        0    NaN   NaN         NaN       0     12   \n",
       "\n",
       "  YrSold  SaleType  SaleCondition  SalePrice  \n",
       "0   2008        WD         Normal     208500  \n",
       "1   2007        WD         Normal     181500  \n",
       "2   2008        WD         Normal     223500  \n",
       "3   2006        WD        Abnorml     140000  \n",
       "4   2008        WD         Normal     250000  \n",
       "\n",
       "[5 rows x 81 columns]"
      ]
     },
     "execution_count": 2,
     "metadata": {},
     "output_type": "execute_result"
    }
   ],
   "source": [
    "# Read the Dataset\n",
    "tr = pd.read_csv('/kaggle/input/house-prices-advanced-regression-techniques/train.csv')\n",
    "tr.head()"
   ]
  },
  {
   "cell_type": "code",
   "execution_count": 3,
   "id": "f2b0f87d",
   "metadata": {
    "execution": {
     "iopub.execute_input": "2023-03-12T11:44:02.798912Z",
     "iopub.status.busy": "2023-03-12T11:44:02.798465Z",
     "iopub.status.idle": "2023-03-12T11:44:02.817129Z",
     "shell.execute_reply": "2023-03-12T11:44:02.815560Z"
    },
    "papermill": {
     "duration": 0.035165,
     "end_time": "2023-03-12T11:44:02.820059",
     "exception": false,
     "start_time": "2023-03-12T11:44:02.784894",
     "status": "completed"
    },
    "tags": []
   },
   "outputs": [
    {
     "name": "stdout",
     "output_type": "stream",
     "text": [
      "Shape:  (1460, 81) \n",
      "\n",
      "Id                0\n",
      "MSSubClass        0\n",
      "MSZoning          0\n",
      "LotFrontage     259\n",
      "LotArea           0\n",
      "Street            0\n",
      "Alley          1369\n",
      "LotShape          0\n",
      "LandContour       0\n",
      "Utilities         0\n",
      "dtype: int64 \n",
      "\n",
      "Column List:  ['Id', 'MSSubClass', 'MSZoning', 'LotFrontage', 'LotArea', 'Street', 'Alley'] \n",
      "\n",
      "NaN Columns:  ['LotFrontage', 'Alley', 'MasVnrType', 'MasVnrArea', 'BsmtQual', 'BsmtCond', 'BsmtExposure', 'BsmtFinType1', 'BsmtFinType2', 'Electrical', 'FireplaceQu', 'GarageType', 'GarageYrBlt', 'GarageFinish', 'GarageQual', 'GarageCond', 'PoolQC', 'Fence', 'MiscFeature']\n",
      "Number of NaNs in the column:  [259, 1369, 8, 8, 37, 37, 38, 37, 38, 1, 690, 81, 81, 81, 81, 81, 1453, 1179, 1406]\n",
      "\n",
      "Column % DataFrame: \n",
      "LotFrontage     17.74\n",
      "Alley           93.77\n",
      "MasVnrType       0.55\n",
      "MasVnrArea       0.55\n",
      "BsmtQual         2.53\n",
      "BsmtCond         2.53\n",
      "BsmtExposure     2.60\n",
      "BsmtFinType1     2.53\n",
      "BsmtFinType2     2.60\n",
      "Electrical       0.07\n",
      "FireplaceQu     47.26\n",
      "GarageType       5.55\n",
      "GarageYrBlt      5.55\n",
      "GarageFinish     5.55\n",
      "GarageQual       5.55\n",
      "GarageCond       5.55\n",
      "PoolQC          99.52\n",
      "Fence           80.75\n",
      "MiscFeature     96.30\n",
      "dtype: float64\n"
     ]
    }
   ],
   "source": [
    "# Shape of the Data\n",
    "print('Shape: ', tr.shape, '\\n')\n",
    "\n",
    "# Check for the NaN or Missing data\n",
    "null = tr.isna().sum()\n",
    "print(null.head(10), '\\n')\n",
    "\n",
    "# Make a column list\n",
    "cols = list(tr.columns)\n",
    "print('Column List: ', cols[0:7], '\\n')\n",
    "\n",
    "# Identifying the cols which have NaNs\n",
    "nan = []\n",
    "nan_num = []\n",
    "for i in range(len(null)):\n",
    "    if null[i] > 0:\n",
    "        nan.append(cols[i])\n",
    "        nan_num.append(null[i])\n",
    "print('NaN Columns: ', nan)\n",
    "print('Number of NaNs in the column: ', nan_num)\n",
    "\n",
    "# Calculating the NaN % in the columns\n",
    "dicts = {nan[i]: round((nan_num[i]/len(tr))*100, 2) for i in range(len(nan))}\n",
    "nan_percent = pd.Series(dicts)\n",
    "print()\n",
    "print('Column % DataFrame: ')\n",
    "print(nan_percent)"
   ]
  },
  {
   "cell_type": "code",
   "execution_count": 4,
   "id": "f71a2f59",
   "metadata": {
    "execution": {
     "iopub.execute_input": "2023-03-12T11:44:02.844936Z",
     "iopub.status.busy": "2023-03-12T11:44:02.844515Z",
     "iopub.status.idle": "2023-03-12T11:44:02.888572Z",
     "shell.execute_reply": "2023-03-12T11:44:02.887328Z"
    },
    "papermill": {
     "duration": 0.059302,
     "end_time": "2023-03-12T11:44:02.891104",
     "exception": false,
     "start_time": "2023-03-12T11:44:02.831802",
     "status": "completed"
    },
    "tags": []
   },
   "outputs": [
    {
     "data": {
      "text/html": [
       "<div>\n",
       "<style scoped>\n",
       "    .dataframe tbody tr th:only-of-type {\n",
       "        vertical-align: middle;\n",
       "    }\n",
       "\n",
       "    .dataframe tbody tr th {\n",
       "        vertical-align: top;\n",
       "    }\n",
       "\n",
       "    .dataframe thead th {\n",
       "        text-align: right;\n",
       "    }\n",
       "</style>\n",
       "<table border=\"1\" class=\"dataframe\">\n",
       "  <thead>\n",
       "    <tr style=\"text-align: right;\">\n",
       "      <th></th>\n",
       "      <th>Id</th>\n",
       "      <th>MSSubClass</th>\n",
       "      <th>MSZoning</th>\n",
       "      <th>LotFrontage</th>\n",
       "      <th>LotArea</th>\n",
       "      <th>Street</th>\n",
       "      <th>LotShape</th>\n",
       "      <th>LandContour</th>\n",
       "      <th>Utilities</th>\n",
       "      <th>LotConfig</th>\n",
       "      <th>...</th>\n",
       "      <th>EnclosedPorch</th>\n",
       "      <th>3SsnPorch</th>\n",
       "      <th>ScreenPorch</th>\n",
       "      <th>PoolArea</th>\n",
       "      <th>MiscVal</th>\n",
       "      <th>MoSold</th>\n",
       "      <th>YrSold</th>\n",
       "      <th>SaleType</th>\n",
       "      <th>SaleCondition</th>\n",
       "      <th>SalePrice</th>\n",
       "    </tr>\n",
       "  </thead>\n",
       "  <tbody>\n",
       "    <tr>\n",
       "      <th>0</th>\n",
       "      <td>1</td>\n",
       "      <td>60</td>\n",
       "      <td>RL</td>\n",
       "      <td>65.0</td>\n",
       "      <td>8450</td>\n",
       "      <td>Pave</td>\n",
       "      <td>Reg</td>\n",
       "      <td>Lvl</td>\n",
       "      <td>AllPub</td>\n",
       "      <td>Inside</td>\n",
       "      <td>...</td>\n",
       "      <td>0</td>\n",
       "      <td>0</td>\n",
       "      <td>0</td>\n",
       "      <td>0</td>\n",
       "      <td>0</td>\n",
       "      <td>2</td>\n",
       "      <td>2008</td>\n",
       "      <td>WD</td>\n",
       "      <td>Normal</td>\n",
       "      <td>208500</td>\n",
       "    </tr>\n",
       "    <tr>\n",
       "      <th>1</th>\n",
       "      <td>2</td>\n",
       "      <td>20</td>\n",
       "      <td>RL</td>\n",
       "      <td>80.0</td>\n",
       "      <td>9600</td>\n",
       "      <td>Pave</td>\n",
       "      <td>Reg</td>\n",
       "      <td>Lvl</td>\n",
       "      <td>AllPub</td>\n",
       "      <td>FR2</td>\n",
       "      <td>...</td>\n",
       "      <td>0</td>\n",
       "      <td>0</td>\n",
       "      <td>0</td>\n",
       "      <td>0</td>\n",
       "      <td>0</td>\n",
       "      <td>5</td>\n",
       "      <td>2007</td>\n",
       "      <td>WD</td>\n",
       "      <td>Normal</td>\n",
       "      <td>181500</td>\n",
       "    </tr>\n",
       "    <tr>\n",
       "      <th>2</th>\n",
       "      <td>3</td>\n",
       "      <td>60</td>\n",
       "      <td>RL</td>\n",
       "      <td>68.0</td>\n",
       "      <td>11250</td>\n",
       "      <td>Pave</td>\n",
       "      <td>IR1</td>\n",
       "      <td>Lvl</td>\n",
       "      <td>AllPub</td>\n",
       "      <td>Inside</td>\n",
       "      <td>...</td>\n",
       "      <td>0</td>\n",
       "      <td>0</td>\n",
       "      <td>0</td>\n",
       "      <td>0</td>\n",
       "      <td>0</td>\n",
       "      <td>9</td>\n",
       "      <td>2008</td>\n",
       "      <td>WD</td>\n",
       "      <td>Normal</td>\n",
       "      <td>223500</td>\n",
       "    </tr>\n",
       "    <tr>\n",
       "      <th>3</th>\n",
       "      <td>4</td>\n",
       "      <td>70</td>\n",
       "      <td>RL</td>\n",
       "      <td>60.0</td>\n",
       "      <td>9550</td>\n",
       "      <td>Pave</td>\n",
       "      <td>IR1</td>\n",
       "      <td>Lvl</td>\n",
       "      <td>AllPub</td>\n",
       "      <td>Corner</td>\n",
       "      <td>...</td>\n",
       "      <td>272</td>\n",
       "      <td>0</td>\n",
       "      <td>0</td>\n",
       "      <td>0</td>\n",
       "      <td>0</td>\n",
       "      <td>2</td>\n",
       "      <td>2006</td>\n",
       "      <td>WD</td>\n",
       "      <td>Abnorml</td>\n",
       "      <td>140000</td>\n",
       "    </tr>\n",
       "    <tr>\n",
       "      <th>4</th>\n",
       "      <td>5</td>\n",
       "      <td>60</td>\n",
       "      <td>RL</td>\n",
       "      <td>84.0</td>\n",
       "      <td>14260</td>\n",
       "      <td>Pave</td>\n",
       "      <td>IR1</td>\n",
       "      <td>Lvl</td>\n",
       "      <td>AllPub</td>\n",
       "      <td>FR2</td>\n",
       "      <td>...</td>\n",
       "      <td>0</td>\n",
       "      <td>0</td>\n",
       "      <td>0</td>\n",
       "      <td>0</td>\n",
       "      <td>0</td>\n",
       "      <td>12</td>\n",
       "      <td>2008</td>\n",
       "      <td>WD</td>\n",
       "      <td>Normal</td>\n",
       "      <td>250000</td>\n",
       "    </tr>\n",
       "  </tbody>\n",
       "</table>\n",
       "<p>5 rows × 77 columns</p>\n",
       "</div>"
      ],
      "text/plain": [
       "   Id  MSSubClass MSZoning  LotFrontage  LotArea Street LotShape LandContour  \\\n",
       "0   1          60       RL         65.0     8450   Pave      Reg         Lvl   \n",
       "1   2          20       RL         80.0     9600   Pave      Reg         Lvl   \n",
       "2   3          60       RL         68.0    11250   Pave      IR1         Lvl   \n",
       "3   4          70       RL         60.0     9550   Pave      IR1         Lvl   \n",
       "4   5          60       RL         84.0    14260   Pave      IR1         Lvl   \n",
       "\n",
       "  Utilities LotConfig  ... EnclosedPorch 3SsnPorch ScreenPorch PoolArea  \\\n",
       "0    AllPub    Inside  ...             0         0           0        0   \n",
       "1    AllPub       FR2  ...             0         0           0        0   \n",
       "2    AllPub    Inside  ...             0         0           0        0   \n",
       "3    AllPub    Corner  ...           272         0           0        0   \n",
       "4    AllPub       FR2  ...             0         0           0        0   \n",
       "\n",
       "  MiscVal MoSold  YrSold  SaleType  SaleCondition  SalePrice  \n",
       "0       0      2    2008        WD         Normal     208500  \n",
       "1       0      5    2007        WD         Normal     181500  \n",
       "2       0      9    2008        WD         Normal     223500  \n",
       "3       0      2    2006        WD        Abnorml     140000  \n",
       "4       0     12    2008        WD         Normal     250000  \n",
       "\n",
       "[5 rows x 77 columns]"
      ]
     },
     "execution_count": 4,
     "metadata": {},
     "output_type": "execute_result"
    }
   ],
   "source": [
    "# Dropping the unnecessary columns\n",
    "filtered_nan_cols = []\n",
    "for i in range(len(nan)):\n",
    "    if nan_percent[i] > 50:\n",
    "        tr.drop(nan[i], axis=1, inplace=True)\n",
    "    else:\n",
    "        filtered_nan_cols.append(nan[i])\n",
    "        \n",
    "obj_ft = list(tr[filtered_nan_cols].select_dtypes(include='object'))\n",
    "num_ft = list(tr[filtered_nan_cols].select_dtypes(exclude='object'))\n",
    "\n",
    "tr.head()"
   ]
  },
  {
   "cell_type": "code",
   "execution_count": 5,
   "id": "08fddada",
   "metadata": {
    "execution": {
     "iopub.execute_input": "2023-03-12T11:44:02.916770Z",
     "iopub.status.busy": "2023-03-12T11:44:02.915470Z",
     "iopub.status.idle": "2023-03-12T11:44:02.922359Z",
     "shell.execute_reply": "2023-03-12T11:44:02.920859Z"
    },
    "papermill": {
     "duration": 0.022721,
     "end_time": "2023-03-12T11:44:02.925287",
     "exception": false,
     "start_time": "2023-03-12T11:44:02.902566",
     "status": "completed"
    },
    "tags": []
   },
   "outputs": [
    {
     "name": "stdout",
     "output_type": "stream",
     "text": [
      "Object Features ['MasVnrType', 'BsmtQual', 'BsmtCond', 'BsmtExposure', 'BsmtFinType1', 'BsmtFinType2', 'Electrical', 'FireplaceQu', 'GarageType', 'GarageFinish', 'GarageQual', 'GarageCond']\n",
      "Numerical Features:  ['LotFrontage', 'MasVnrArea', 'GarageYrBlt']\n"
     ]
    }
   ],
   "source": [
    "# Object % Numerical type columns\n",
    "print('Object Features', obj_ft)\n",
    "print('Numerical Features: ', num_ft)"
   ]
  },
  {
   "cell_type": "markdown",
   "id": "6f5b8be1",
   "metadata": {
    "papermill": {
     "duration": 0.012888,
     "end_time": "2023-03-12T11:44:02.950650",
     "exception": false,
     "start_time": "2023-03-12T11:44:02.937762",
     "status": "completed"
    },
    "tags": []
   },
   "source": [
    "# Visualize Data"
   ]
  },
  {
   "cell_type": "code",
   "execution_count": 6,
   "id": "dd2b1a9d",
   "metadata": {
    "execution": {
     "iopub.execute_input": "2023-03-12T11:44:02.976513Z",
     "iopub.status.busy": "2023-03-12T11:44:02.976076Z",
     "iopub.status.idle": "2023-03-12T11:44:03.534306Z",
     "shell.execute_reply": "2023-03-12T11:44:03.533067Z"
    },
    "papermill": {
     "duration": 0.574857,
     "end_time": "2023-03-12T11:44:03.536998",
     "exception": false,
     "start_time": "2023-03-12T11:44:02.962141",
     "status": "completed"
    },
    "tags": []
   },
   "outputs": [
    {
     "data": {
      "image/png": "[encoded data removed]",
      "text/plain": [
       "<Figure size 640x480 with 4 Axes>"
      ]
     },
     "metadata": {},
     "output_type": "display_data"
    }
   ],
   "source": [
    "tr[num_ft].hist();"
   ]
  },
  {
   "cell_type": "code",
   "execution_count": 7,
   "id": "a20df2a7",
   "metadata": {
    "execution": {
     "iopub.execute_input": "2023-03-12T11:44:03.562879Z",
     "iopub.status.busy": "2023-03-12T11:44:03.562484Z",
     "iopub.status.idle": "2023-03-12T11:44:03.597903Z",
     "shell.execute_reply": "2023-03-12T11:44:03.596749Z"
    },
    "papermill": {
     "duration": 0.052175,
     "end_time": "2023-03-12T11:44:03.601144",
     "exception": false,
     "start_time": "2023-03-12T11:44:03.548969",
     "status": "completed"
    },
    "tags": []
   },
   "outputs": [
    {
     "data": {
      "text/plain": [
       "LotFrontage     0\n",
       "MasVnrType      0\n",
       "MasVnrArea      0\n",
       "BsmtQual        0\n",
       "BsmtCond        0\n",
       "BsmtExposure    0\n",
       "BsmtFinType1    0\n",
       "BsmtFinType2    0\n",
       "Electrical      0\n",
       "FireplaceQu     0\n",
       "GarageType      0\n",
       "GarageYrBlt     0\n",
       "GarageFinish    0\n",
       "GarageQual      0\n",
       "GarageCond      0\n",
       "dtype: int64"
      ]
     },
     "execution_count": 7,
     "metadata": {},
     "output_type": "execute_result"
    }
   ],
   "source": [
    "# Filling the missing data\n",
    "tr['LotFrontage'].fillna(tr['LotFrontage'].mean(), inplace=True)\n",
    "tr[num_ft[1]].fillna(tr[num_ft[1]].mode()[0], inplace=True)\n",
    "tr[num_ft[2]].fillna(tr[num_ft[2]].mode()[0], inplace=True)\n",
    "\n",
    "tr = tr.ffill().bfill()\n",
    "tr[filtered_nan_cols].isna().sum()"
   ]
  },
  {
   "cell_type": "code",
   "execution_count": 8,
   "id": "41932dd7",
   "metadata": {
    "execution": {
     "iopub.execute_input": "2023-03-12T11:44:03.627422Z",
     "iopub.status.busy": "2023-03-12T11:44:03.626690Z",
     "iopub.status.idle": "2023-03-12T11:44:03.945547Z",
     "shell.execute_reply": "2023-03-12T11:44:03.944165Z"
    },
    "papermill": {
     "duration": 0.335081,
     "end_time": "2023-03-12T11:44:03.948303",
     "exception": false,
     "start_time": "2023-03-12T11:44:03.613222",
     "status": "completed"
    },
    "tags": []
   },
   "outputs": [
    {
     "name": "stdout",
     "output_type": "stream",
     "text": [
      "77\n"
     ]
    }
   ],
   "source": [
    "# Cross-Check fot NaNs\n",
    "new_cols = list(tr.columns)\n",
    "string = ''\n",
    "check = 0\n",
    "for i in range(len(new_cols)):\n",
    "    if tr.isna().sum()[i] > 0:\n",
    "        print('Missing Values Found!')\n",
    "    else:\n",
    "        check+=1\n",
    "print(check)"
   ]
  },
  {
   "cell_type": "markdown",
   "id": "91b2058a",
   "metadata": {
    "papermill": {
     "duration": 0.012001,
     "end_time": "2023-03-12T11:44:03.972731",
     "exception": false,
     "start_time": "2023-03-12T11:44:03.960730",
     "status": "completed"
    },
    "tags": []
   },
   "source": [
    "# Correlation()"
   ]
  },
  {
   "cell_type": "code",
   "execution_count": 9,
   "id": "209655d9",
   "metadata": {
    "execution": {
     "iopub.execute_input": "2023-03-12T11:44:03.999104Z",
     "iopub.status.busy": "2023-03-12T11:44:03.997846Z",
     "iopub.status.idle": "2023-03-12T11:44:04.015451Z",
     "shell.execute_reply": "2023-03-12T11:44:04.014073Z"
    },
    "papermill": {
     "duration": 0.03419,
     "end_time": "2023-03-12T11:44:04.018829",
     "exception": false,
     "start_time": "2023-03-12T11:44:03.984639",
     "status": "completed"
    },
    "tags": []
   },
   "outputs": [
    {
     "name": "stdout",
     "output_type": "stream",
     "text": [
      "Highly correlated features:\n",
      " Index(['OverallQual', 'YearBuilt', 'YearRemodAdd', 'TotalBsmtSF', '1stFlrSF',\n",
      "       'GrLivArea', 'FullBath', 'TotRmsAbvGrd', 'GarageCars', 'GarageArea'],\n",
      "      dtype='object')\n",
      "\n",
      "No. of correlated features: 10\n"
     ]
    }
   ],
   "source": [
    "# Finding correlation() between the features\n",
    "corr = tr.corr()\n",
    "salePrice = tr['SalePrice']\n",
    "\n",
    "# After referring some Kaggle notebooks, Internet, and Blogs on correlation, 0.5 - 0.7 correlation value implies features are moderately correlated and >0.7 implies highly correlated\n",
    "corr_ft = corr.index[abs(corr['SalePrice']) > 0.5]\n",
    "corr_ft = corr_ft[0:len(corr_ft) - 1]\n",
    "print(f'Highly correlated features:\\n {corr_ft}\\n')\n",
    "print(f'No. of correlated features: {len(corr_ft)}')"
   ]
  },
  {
   "cell_type": "code",
   "execution_count": 10,
   "id": "087de36c",
   "metadata": {
    "execution": {
     "iopub.execute_input": "2023-03-12T11:44:04.045916Z",
     "iopub.status.busy": "2023-03-12T11:44:04.045261Z",
     "iopub.status.idle": "2023-03-12T11:44:04.062600Z",
     "shell.execute_reply": "2023-03-12T11:44:04.061282Z"
    },
    "papermill": {
     "duration": 0.033622,
     "end_time": "2023-03-12T11:44:04.065302",
     "exception": false,
     "start_time": "2023-03-12T11:44:04.031680",
     "status": "completed"
    },
    "tags": []
   },
   "outputs": [
    {
     "data": {
      "text/html": [
       "<div>\n",
       "<style scoped>\n",
       "    .dataframe tbody tr th:only-of-type {\n",
       "        vertical-align: middle;\n",
       "    }\n",
       "\n",
       "    .dataframe tbody tr th {\n",
       "        vertical-align: top;\n",
       "    }\n",
       "\n",
       "    .dataframe thead th {\n",
       "        text-align: right;\n",
       "    }\n",
       "</style>\n",
       "<table border=\"1\" class=\"dataframe\">\n",
       "  <thead>\n",
       "    <tr style=\"text-align: right;\">\n",
       "      <th></th>\n",
       "      <th>OverallQual</th>\n",
       "      <th>YearBuilt</th>\n",
       "      <th>YearRemodAdd</th>\n",
       "      <th>TotalBsmtSF</th>\n",
       "      <th>1stFlrSF</th>\n",
       "      <th>GrLivArea</th>\n",
       "      <th>FullBath</th>\n",
       "      <th>TotRmsAbvGrd</th>\n",
       "      <th>GarageCars</th>\n",
       "      <th>GarageArea</th>\n",
       "    </tr>\n",
       "  </thead>\n",
       "  <tbody>\n",
       "    <tr>\n",
       "      <th>0</th>\n",
       "      <td>7</td>\n",
       "      <td>2003</td>\n",
       "      <td>2003</td>\n",
       "      <td>856</td>\n",
       "      <td>856</td>\n",
       "      <td>1710</td>\n",
       "      <td>2</td>\n",
       "      <td>8</td>\n",
       "      <td>2</td>\n",
       "      <td>548</td>\n",
       "    </tr>\n",
       "    <tr>\n",
       "      <th>1</th>\n",
       "      <td>6</td>\n",
       "      <td>1976</td>\n",
       "      <td>1976</td>\n",
       "      <td>1262</td>\n",
       "      <td>1262</td>\n",
       "      <td>1262</td>\n",
       "      <td>2</td>\n",
       "      <td>6</td>\n",
       "      <td>2</td>\n",
       "      <td>460</td>\n",
       "    </tr>\n",
       "    <tr>\n",
       "      <th>2</th>\n",
       "      <td>7</td>\n",
       "      <td>2001</td>\n",
       "      <td>2002</td>\n",
       "      <td>920</td>\n",
       "      <td>920</td>\n",
       "      <td>1786</td>\n",
       "      <td>2</td>\n",
       "      <td>6</td>\n",
       "      <td>2</td>\n",
       "      <td>608</td>\n",
       "    </tr>\n",
       "    <tr>\n",
       "      <th>3</th>\n",
       "      <td>7</td>\n",
       "      <td>1915</td>\n",
       "      <td>1970</td>\n",
       "      <td>756</td>\n",
       "      <td>961</td>\n",
       "      <td>1717</td>\n",
       "      <td>1</td>\n",
       "      <td>7</td>\n",
       "      <td>3</td>\n",
       "      <td>642</td>\n",
       "    </tr>\n",
       "    <tr>\n",
       "      <th>4</th>\n",
       "      <td>8</td>\n",
       "      <td>2000</td>\n",
       "      <td>2000</td>\n",
       "      <td>1145</td>\n",
       "      <td>1145</td>\n",
       "      <td>2198</td>\n",
       "      <td>2</td>\n",
       "      <td>9</td>\n",
       "      <td>3</td>\n",
       "      <td>836</td>\n",
       "    </tr>\n",
       "  </tbody>\n",
       "</table>\n",
       "</div>"
      ],
      "text/plain": [
       "   OverallQual  YearBuilt  YearRemodAdd  TotalBsmtSF  1stFlrSF  GrLivArea  \\\n",
       "0            7       2003          2003          856       856       1710   \n",
       "1            6       1976          1976         1262      1262       1262   \n",
       "2            7       2001          2002          920       920       1786   \n",
       "3            7       1915          1970          756       961       1717   \n",
       "4            8       2000          2000         1145      1145       2198   \n",
       "\n",
       "   FullBath  TotRmsAbvGrd  GarageCars  GarageArea  \n",
       "0         2             8           2         548  \n",
       "1         2             6           2         460  \n",
       "2         2             6           2         608  \n",
       "3         1             7           3         642  \n",
       "4         2             9           3         836  "
      ]
     },
     "execution_count": 10,
     "metadata": {},
     "output_type": "execute_result"
    }
   ],
   "source": [
    "tr = pd.get_dummies(tr[corr_ft], drop_first=True)\n",
    "tr.head()"
   ]
  },
  {
   "cell_type": "code",
   "execution_count": 11,
   "id": "115ac9c1",
   "metadata": {
    "execution": {
     "iopub.execute_input": "2023-03-12T11:44:04.091359Z",
     "iopub.status.busy": "2023-03-12T11:44:04.090946Z",
     "iopub.status.idle": "2023-03-12T11:44:04.097102Z",
     "shell.execute_reply": "2023-03-12T11:44:04.096149Z"
    },
    "papermill": {
     "duration": 0.021872,
     "end_time": "2023-03-12T11:44:04.099320",
     "exception": false,
     "start_time": "2023-03-12T11:44:04.077448",
     "status": "completed"
    },
    "tags": []
   },
   "outputs": [
    {
     "data": {
      "text/plain": [
       "(1460, 10)"
      ]
     },
     "execution_count": 11,
     "metadata": {},
     "output_type": "execute_result"
    }
   ],
   "source": [
    "tr.shape"
   ]
  },
  {
   "cell_type": "markdown",
   "id": "9dd0485c",
   "metadata": {
    "papermill": {
     "duration": 0.012634,
     "end_time": "2023-03-12T11:44:04.124354",
     "exception": false,
     "start_time": "2023-03-12T11:44:04.111720",
     "status": "completed"
    },
    "tags": []
   },
   "source": [
    "# Test Dataset"
   ]
  },
  {
   "cell_type": "code",
   "execution_count": 12,
   "id": "9f83f57a",
   "metadata": {
    "execution": {
     "iopub.execute_input": "2023-03-12T11:44:04.153011Z",
     "iopub.status.busy": "2023-03-12T11:44:04.151859Z",
     "iopub.status.idle": "2023-03-12T11:44:04.204836Z",
     "shell.execute_reply": "2023-03-12T11:44:04.203495Z"
    },
    "papermill": {
     "duration": 0.069685,
     "end_time": "2023-03-12T11:44:04.207480",
     "exception": false,
     "start_time": "2023-03-12T11:44:04.137795",
     "status": "completed"
    },
    "tags": []
   },
   "outputs": [
    {
     "data": {
      "text/html": [
       "<div>\n",
       "<style scoped>\n",
       "    .dataframe tbody tr th:only-of-type {\n",
       "        vertical-align: middle;\n",
       "    }\n",
       "\n",
       "    .dataframe tbody tr th {\n",
       "        vertical-align: top;\n",
       "    }\n",
       "\n",
       "    .dataframe thead th {\n",
       "        text-align: right;\n",
       "    }\n",
       "</style>\n",
       "<table border=\"1\" class=\"dataframe\">\n",
       "  <thead>\n",
       "    <tr style=\"text-align: right;\">\n",
       "      <th></th>\n",
       "      <th>Id</th>\n",
       "      <th>MSSubClass</th>\n",
       "      <th>MSZoning</th>\n",
       "      <th>LotFrontage</th>\n",
       "      <th>LotArea</th>\n",
       "      <th>Street</th>\n",
       "      <th>Alley</th>\n",
       "      <th>LotShape</th>\n",
       "      <th>LandContour</th>\n",
       "      <th>Utilities</th>\n",
       "      <th>...</th>\n",
       "      <th>ScreenPorch</th>\n",
       "      <th>PoolArea</th>\n",
       "      <th>PoolQC</th>\n",
       "      <th>Fence</th>\n",
       "      <th>MiscFeature</th>\n",
       "      <th>MiscVal</th>\n",
       "      <th>MoSold</th>\n",
       "      <th>YrSold</th>\n",
       "      <th>SaleType</th>\n",
       "      <th>SaleCondition</th>\n",
       "    </tr>\n",
       "  </thead>\n",
       "  <tbody>\n",
       "    <tr>\n",
       "      <th>0</th>\n",
       "      <td>1461</td>\n",
       "      <td>20</td>\n",
       "      <td>RH</td>\n",
       "      <td>80.0</td>\n",
       "      <td>11622</td>\n",
       "      <td>Pave</td>\n",
       "      <td>NaN</td>\n",
       "      <td>Reg</td>\n",
       "      <td>Lvl</td>\n",
       "      <td>AllPub</td>\n",
       "      <td>...</td>\n",
       "      <td>120</td>\n",
       "      <td>0</td>\n",
       "      <td>NaN</td>\n",
       "      <td>MnPrv</td>\n",
       "      <td>NaN</td>\n",
       "      <td>0</td>\n",
       "      <td>6</td>\n",
       "      <td>2010</td>\n",
       "      <td>WD</td>\n",
       "      <td>Normal</td>\n",
       "    </tr>\n",
       "    <tr>\n",
       "      <th>1</th>\n",
       "      <td>1462</td>\n",
       "      <td>20</td>\n",
       "      <td>RL</td>\n",
       "      <td>81.0</td>\n",
       "      <td>14267</td>\n",
       "      <td>Pave</td>\n",
       "      <td>NaN</td>\n",
       "      <td>IR1</td>\n",
       "      <td>Lvl</td>\n",
       "      <td>AllPub</td>\n",
       "      <td>...</td>\n",
       "      <td>0</td>\n",
       "      <td>0</td>\n",
       "      <td>NaN</td>\n",
       "      <td>NaN</td>\n",
       "      <td>Gar2</td>\n",
       "      <td>12500</td>\n",
       "      <td>6</td>\n",
       "      <td>2010</td>\n",
       "      <td>WD</td>\n",
       "      <td>Normal</td>\n",
       "    </tr>\n",
       "    <tr>\n",
       "      <th>2</th>\n",
       "      <td>1463</td>\n",
       "      <td>60</td>\n",
       "      <td>RL</td>\n",
       "      <td>74.0</td>\n",
       "      <td>13830</td>\n",
       "      <td>Pave</td>\n",
       "      <td>NaN</td>\n",
       "      <td>IR1</td>\n",
       "      <td>Lvl</td>\n",
       "      <td>AllPub</td>\n",
       "      <td>...</td>\n",
       "      <td>0</td>\n",
       "      <td>0</td>\n",
       "      <td>NaN</td>\n",
       "      <td>MnPrv</td>\n",
       "      <td>NaN</td>\n",
       "      <td>0</td>\n",
       "      <td>3</td>\n",
       "      <td>2010</td>\n",
       "      <td>WD</td>\n",
       "      <td>Normal</td>\n",
       "    </tr>\n",
       "    <tr>\n",
       "      <th>3</th>\n",
       "      <td>1464</td>\n",
       "      <td>60</td>\n",
       "      <td>RL</td>\n",
       "      <td>78.0</td>\n",
       "      <td>9978</td>\n",
       "      <td>Pave</td>\n",
       "      <td>NaN</td>\n",
       "      <td>IR1</td>\n",
       "      <td>Lvl</td>\n",
       "      <td>AllPub</td>\n",
       "      <td>...</td>\n",
       "      <td>0</td>\n",
       "      <td>0</td>\n",
       "      <td>NaN</td>\n",
       "      <td>NaN</td>\n",
       "      <td>NaN</td>\n",
       "      <td>0</td>\n",
       "      <td>6</td>\n",
       "      <td>2010</td>\n",
       "      <td>WD</td>\n",
       "      <td>Normal</td>\n",
       "    </tr>\n",
       "    <tr>\n",
       "      <th>4</th>\n",
       "      <td>1465</td>\n",
       "      <td>120</td>\n",
       "      <td>RL</td>\n",
       "      <td>43.0</td>\n",
       "      <td>5005</td>\n",
       "      <td>Pave</td>\n",
       "      <td>NaN</td>\n",
       "      <td>IR1</td>\n",
       "      <td>HLS</td>\n",
       "      <td>AllPub</td>\n",
       "      <td>...</td>\n",
       "      <td>144</td>\n",
       "      <td>0</td>\n",
       "      <td>NaN</td>\n",
       "      <td>NaN</td>\n",
       "      <td>NaN</td>\n",
       "      <td>0</td>\n",
       "      <td>1</td>\n",
       "      <td>2010</td>\n",
       "      <td>WD</td>\n",
       "      <td>Normal</td>\n",
       "    </tr>\n",
       "  </tbody>\n",
       "</table>\n",
       "<p>5 rows × 80 columns</p>\n",
       "</div>"
      ],
      "text/plain": [
       "     Id  MSSubClass MSZoning  LotFrontage  LotArea Street Alley LotShape  \\\n",
       "0  1461          20       RH         80.0    11622   Pave   NaN      Reg   \n",
       "1  1462          20       RL         81.0    14267   Pave   NaN      IR1   \n",
       "2  1463          60       RL         74.0    13830   Pave   NaN      IR1   \n",
       "3  1464          60       RL         78.0     9978   Pave   NaN      IR1   \n",
       "4  1465         120       RL         43.0     5005   Pave   NaN      IR1   \n",
       "\n",
       "  LandContour Utilities  ... ScreenPorch PoolArea PoolQC  Fence MiscFeature  \\\n",
       "0         Lvl    AllPub  ...         120        0    NaN  MnPrv         NaN   \n",
       "1         Lvl    AllPub  ...           0        0    NaN    NaN        Gar2   \n",
       "2         Lvl    AllPub  ...           0        0    NaN  MnPrv         NaN   \n",
       "3         Lvl    AllPub  ...           0        0    NaN    NaN         NaN   \n",
       "4         HLS    AllPub  ...         144        0    NaN    NaN         NaN   \n",
       "\n",
       "  MiscVal MoSold  YrSold  SaleType  SaleCondition  \n",
       "0       0      6    2010        WD         Normal  \n",
       "1   12500      6    2010        WD         Normal  \n",
       "2       0      3    2010        WD         Normal  \n",
       "3       0      6    2010        WD         Normal  \n",
       "4       0      1    2010        WD         Normal  \n",
       "\n",
       "[5 rows x 80 columns]"
      ]
     },
     "execution_count": 12,
     "metadata": {},
     "output_type": "execute_result"
    }
   ],
   "source": [
    "tst = pd.read_csv('/kaggle/input/house-prices-advanced-regression-techniques/test.csv')\n",
    "tst.head()"
   ]
  },
  {
   "cell_type": "code",
   "execution_count": 13,
   "id": "fa6fa77a",
   "metadata": {
    "execution": {
     "iopub.execute_input": "2023-03-12T11:44:04.235004Z",
     "iopub.status.busy": "2023-03-12T11:44:04.234619Z",
     "iopub.status.idle": "2023-03-12T11:44:04.254030Z",
     "shell.execute_reply": "2023-03-12T11:44:04.251773Z"
    },
    "papermill": {
     "duration": 0.036135,
     "end_time": "2023-03-12T11:44:04.256507",
     "exception": false,
     "start_time": "2023-03-12T11:44:04.220372",
     "status": "completed"
    },
    "tags": []
   },
   "outputs": [
    {
     "name": "stdout",
     "output_type": "stream",
     "text": [
      "Shape:  (1459, 80) \n",
      "\n",
      "Id                0\n",
      "MSSubClass        0\n",
      "MSZoning          4\n",
      "LotFrontage     227\n",
      "LotArea           0\n",
      "Street            0\n",
      "Alley          1352\n",
      "LotShape          0\n",
      "LandContour       0\n",
      "Utilities         2\n",
      "dtype: int64 \n",
      "\n",
      "Column List:  ['Id', 'MSSubClass', 'MSZoning', 'LotFrontage', 'LotArea', 'Street', 'Alley'] \n",
      "\n",
      "NaN Columns:  ['LotFrontage', 'Alley', 'MasVnrType', 'MasVnrArea', 'BsmtQual', 'BsmtCond', 'BsmtExposure', 'BsmtFinType1', 'BsmtFinType2', 'Electrical', 'FireplaceQu', 'GarageType', 'GarageYrBlt', 'GarageFinish', 'GarageQual', 'GarageCond', 'PoolQC', 'Fence', 'MiscFeature']\n",
      "Number of NaNs in the column:  [227, 1352, 16, 15, 44, 45, 44, 42, 42, 0, 730, 76, 78, 78, 78, 78, 1456, 1169, 1408]\n",
      "\n",
      "Column % DataFrame: \n",
      "LotFrontage     15.56\n",
      "Alley           92.67\n",
      "MasVnrType       1.10\n",
      "MasVnrArea       1.03\n",
      "BsmtQual         3.02\n",
      "BsmtCond         3.08\n",
      "BsmtExposure     3.02\n",
      "BsmtFinType1     2.88\n",
      "BsmtFinType2     2.88\n",
      "Electrical       0.00\n",
      "FireplaceQu     50.03\n",
      "GarageType       5.21\n",
      "GarageYrBlt      5.35\n",
      "GarageFinish     5.35\n",
      "GarageQual       5.35\n",
      "GarageCond       5.35\n",
      "PoolQC          99.79\n",
      "Fence           80.12\n",
      "MiscFeature     96.50\n",
      "dtype: float64\n"
     ]
    }
   ],
   "source": [
    "# Shape of the Data\n",
    "print('Shape: ', tst.shape, '\\n')\n",
    "\n",
    "# Check for the NaN or Missing data\n",
    "null_tst = tst.isna().sum()\n",
    "print(null_tst.head(10), '\\n')\n",
    "\n",
    "# Make a column list\n",
    "tst_cols = list(tst.columns)\n",
    "print('Column List: ', tst_cols[0:7], '\\n')\n",
    "\n",
    "# Identifying the cols which have NaNs\n",
    "nan_tst = []\n",
    "nan_num_tst = []\n",
    "for i in range(len(null_tst)):\n",
    "    if null[i] > 0:\n",
    "        nan_tst.append(tst_cols[i])\n",
    "        nan_num_tst.append(null_tst[i])\n",
    "print('NaN Columns: ', nan_tst)\n",
    "print('Number of NaNs in the column: ', nan_num_tst)\n",
    "\n",
    "# Calculating the NaN % in the columns\n",
    "dicts_tst = {nan_tst[i]: round((nan_num_tst[i]/len(tst))*100, 2) for i in range(len(nan_tst))}\n",
    "nan_percent_tst = pd.Series(dicts_tst)\n",
    "print()\n",
    "print('Column % DataFrame: ')\n",
    "print(nan_percent_tst)"
   ]
  },
  {
   "cell_type": "code",
   "execution_count": 14,
   "id": "a799ad8d",
   "metadata": {
    "execution": {
     "iopub.execute_input": "2023-03-12T11:44:04.284481Z",
     "iopub.status.busy": "2023-03-12T11:44:04.284028Z",
     "iopub.status.idle": "2023-03-12T11:44:04.323409Z",
     "shell.execute_reply": "2023-03-12T11:44:04.322171Z"
    },
    "papermill": {
     "duration": 0.056049,
     "end_time": "2023-03-12T11:44:04.325747",
     "exception": false,
     "start_time": "2023-03-12T11:44:04.269698",
     "status": "completed"
    },
    "tags": []
   },
   "outputs": [
    {
     "data": {
      "text/html": [
       "<div>\n",
       "<style scoped>\n",
       "    .dataframe tbody tr th:only-of-type {\n",
       "        vertical-align: middle;\n",
       "    }\n",
       "\n",
       "    .dataframe tbody tr th {\n",
       "        vertical-align: top;\n",
       "    }\n",
       "\n",
       "    .dataframe thead th {\n",
       "        text-align: right;\n",
       "    }\n",
       "</style>\n",
       "<table border=\"1\" class=\"dataframe\">\n",
       "  <thead>\n",
       "    <tr style=\"text-align: right;\">\n",
       "      <th></th>\n",
       "      <th>Id</th>\n",
       "      <th>MSSubClass</th>\n",
       "      <th>MSZoning</th>\n",
       "      <th>LotFrontage</th>\n",
       "      <th>LotArea</th>\n",
       "      <th>Street</th>\n",
       "      <th>LotShape</th>\n",
       "      <th>LandContour</th>\n",
       "      <th>Utilities</th>\n",
       "      <th>LotConfig</th>\n",
       "      <th>...</th>\n",
       "      <th>OpenPorchSF</th>\n",
       "      <th>EnclosedPorch</th>\n",
       "      <th>3SsnPorch</th>\n",
       "      <th>ScreenPorch</th>\n",
       "      <th>PoolArea</th>\n",
       "      <th>MiscVal</th>\n",
       "      <th>MoSold</th>\n",
       "      <th>YrSold</th>\n",
       "      <th>SaleType</th>\n",
       "      <th>SaleCondition</th>\n",
       "    </tr>\n",
       "  </thead>\n",
       "  <tbody>\n",
       "    <tr>\n",
       "      <th>0</th>\n",
       "      <td>1461</td>\n",
       "      <td>20</td>\n",
       "      <td>RH</td>\n",
       "      <td>80.0</td>\n",
       "      <td>11622</td>\n",
       "      <td>Pave</td>\n",
       "      <td>Reg</td>\n",
       "      <td>Lvl</td>\n",
       "      <td>AllPub</td>\n",
       "      <td>Inside</td>\n",
       "      <td>...</td>\n",
       "      <td>0</td>\n",
       "      <td>0</td>\n",
       "      <td>0</td>\n",
       "      <td>120</td>\n",
       "      <td>0</td>\n",
       "      <td>0</td>\n",
       "      <td>6</td>\n",
       "      <td>2010</td>\n",
       "      <td>WD</td>\n",
       "      <td>Normal</td>\n",
       "    </tr>\n",
       "    <tr>\n",
       "      <th>1</th>\n",
       "      <td>1462</td>\n",
       "      <td>20</td>\n",
       "      <td>RL</td>\n",
       "      <td>81.0</td>\n",
       "      <td>14267</td>\n",
       "      <td>Pave</td>\n",
       "      <td>IR1</td>\n",
       "      <td>Lvl</td>\n",
       "      <td>AllPub</td>\n",
       "      <td>Corner</td>\n",
       "      <td>...</td>\n",
       "      <td>36</td>\n",
       "      <td>0</td>\n",
       "      <td>0</td>\n",
       "      <td>0</td>\n",
       "      <td>0</td>\n",
       "      <td>12500</td>\n",
       "      <td>6</td>\n",
       "      <td>2010</td>\n",
       "      <td>WD</td>\n",
       "      <td>Normal</td>\n",
       "    </tr>\n",
       "    <tr>\n",
       "      <th>2</th>\n",
       "      <td>1463</td>\n",
       "      <td>60</td>\n",
       "      <td>RL</td>\n",
       "      <td>74.0</td>\n",
       "      <td>13830</td>\n",
       "      <td>Pave</td>\n",
       "      <td>IR1</td>\n",
       "      <td>Lvl</td>\n",
       "      <td>AllPub</td>\n",
       "      <td>Inside</td>\n",
       "      <td>...</td>\n",
       "      <td>34</td>\n",
       "      <td>0</td>\n",
       "      <td>0</td>\n",
       "      <td>0</td>\n",
       "      <td>0</td>\n",
       "      <td>0</td>\n",
       "      <td>3</td>\n",
       "      <td>2010</td>\n",
       "      <td>WD</td>\n",
       "      <td>Normal</td>\n",
       "    </tr>\n",
       "    <tr>\n",
       "      <th>3</th>\n",
       "      <td>1464</td>\n",
       "      <td>60</td>\n",
       "      <td>RL</td>\n",
       "      <td>78.0</td>\n",
       "      <td>9978</td>\n",
       "      <td>Pave</td>\n",
       "      <td>IR1</td>\n",
       "      <td>Lvl</td>\n",
       "      <td>AllPub</td>\n",
       "      <td>Inside</td>\n",
       "      <td>...</td>\n",
       "      <td>36</td>\n",
       "      <td>0</td>\n",
       "      <td>0</td>\n",
       "      <td>0</td>\n",
       "      <td>0</td>\n",
       "      <td>0</td>\n",
       "      <td>6</td>\n",
       "      <td>2010</td>\n",
       "      <td>WD</td>\n",
       "      <td>Normal</td>\n",
       "    </tr>\n",
       "    <tr>\n",
       "      <th>4</th>\n",
       "      <td>1465</td>\n",
       "      <td>120</td>\n",
       "      <td>RL</td>\n",
       "      <td>43.0</td>\n",
       "      <td>5005</td>\n",
       "      <td>Pave</td>\n",
       "      <td>IR1</td>\n",
       "      <td>HLS</td>\n",
       "      <td>AllPub</td>\n",
       "      <td>Inside</td>\n",
       "      <td>...</td>\n",
       "      <td>82</td>\n",
       "      <td>0</td>\n",
       "      <td>0</td>\n",
       "      <td>144</td>\n",
       "      <td>0</td>\n",
       "      <td>0</td>\n",
       "      <td>1</td>\n",
       "      <td>2010</td>\n",
       "      <td>WD</td>\n",
       "      <td>Normal</td>\n",
       "    </tr>\n",
       "  </tbody>\n",
       "</table>\n",
       "<p>5 rows × 75 columns</p>\n",
       "</div>"
      ],
      "text/plain": [
       "     Id  MSSubClass MSZoning  LotFrontage  LotArea Street LotShape  \\\n",
       "0  1461          20       RH         80.0    11622   Pave      Reg   \n",
       "1  1462          20       RL         81.0    14267   Pave      IR1   \n",
       "2  1463          60       RL         74.0    13830   Pave      IR1   \n",
       "3  1464          60       RL         78.0     9978   Pave      IR1   \n",
       "4  1465         120       RL         43.0     5005   Pave      IR1   \n",
       "\n",
       "  LandContour Utilities LotConfig  ... OpenPorchSF EnclosedPorch 3SsnPorch  \\\n",
       "0         Lvl    AllPub    Inside  ...           0             0         0   \n",
       "1         Lvl    AllPub    Corner  ...          36             0         0   \n",
       "2         Lvl    AllPub    Inside  ...          34             0         0   \n",
       "3         Lvl    AllPub    Inside  ...          36             0         0   \n",
       "4         HLS    AllPub    Inside  ...          82             0         0   \n",
       "\n",
       "  ScreenPorch PoolArea MiscVal  MoSold  YrSold  SaleType  SaleCondition  \n",
       "0         120        0       0       6    2010        WD         Normal  \n",
       "1           0        0   12500       6    2010        WD         Normal  \n",
       "2           0        0       0       3    2010        WD         Normal  \n",
       "3           0        0       0       6    2010        WD         Normal  \n",
       "4         144        0       0       1    2010        WD         Normal  \n",
       "\n",
       "[5 rows x 75 columns]"
      ]
     },
     "execution_count": 14,
     "metadata": {},
     "output_type": "execute_result"
    }
   ],
   "source": [
    "# Dropping the unnecessary columns\n",
    "filtered_tst_cols = []\n",
    "for i in range(len(nan_tst)):\n",
    "    if nan_percent_tst[i] > 50:\n",
    "        tst.drop(nan_tst[i], axis=1, inplace=True)\n",
    "    else:\n",
    "        filtered_tst_cols.append(nan_tst[i])\n",
    "        \n",
    "object_ft = list(tst[filtered_tst_cols].select_dtypes(include='object'))\n",
    "int_ft = list(tst[filtered_tst_cols].select_dtypes(exclude='object'))\n",
    "\n",
    "tst.head()"
   ]
  },
  {
   "cell_type": "code",
   "execution_count": 15,
   "id": "81f281f9",
   "metadata": {
    "execution": {
     "iopub.execute_input": "2023-03-12T11:44:04.354451Z",
     "iopub.status.busy": "2023-03-12T11:44:04.353299Z",
     "iopub.status.idle": "2023-03-12T11:44:04.360218Z",
     "shell.execute_reply": "2023-03-12T11:44:04.358550Z"
    },
    "papermill": {
     "duration": 0.023878,
     "end_time": "2023-03-12T11:44:04.362788",
     "exception": false,
     "start_time": "2023-03-12T11:44:04.338910",
     "status": "completed"
    },
    "tags": []
   },
   "outputs": [
    {
     "name": "stdout",
     "output_type": "stream",
     "text": [
      "Object Features ['MasVnrType', 'BsmtQual', 'BsmtCond', 'BsmtExposure', 'BsmtFinType1', 'BsmtFinType2', 'Electrical', 'GarageType', 'GarageFinish', 'GarageQual', 'GarageCond']\n",
      "Numerical Features:  ['LotFrontage', 'MasVnrArea', 'GarageYrBlt']\n"
     ]
    }
   ],
   "source": [
    "# Object % Numerical type columns\n",
    "print('Object Features', object_ft)\n",
    "print('Numerical Features: ', int_ft)"
   ]
  },
  {
   "cell_type": "code",
   "execution_count": 16,
   "id": "1902d500",
   "metadata": {
    "execution": {
     "iopub.execute_input": "2023-03-12T11:44:04.391401Z",
     "iopub.status.busy": "2023-03-12T11:44:04.390977Z",
     "iopub.status.idle": "2023-03-12T11:44:04.863840Z",
     "shell.execute_reply": "2023-03-12T11:44:04.862460Z"
    },
    "papermill": {
     "duration": 0.490789,
     "end_time": "2023-03-12T11:44:04.866923",
     "exception": false,
     "start_time": "2023-03-12T11:44:04.376134",
     "status": "completed"
    },
    "tags": []
   },
   "outputs": [
    {
     "data": {
      "image/png": "[encoded data removed]",
      "text/plain": [
       "<Figure size 640x480 with 4 Axes>"
      ]
     },
     "metadata": {},
     "output_type": "display_data"
    }
   ],
   "source": [
    "tst[int_ft].hist();"
   ]
  },
  {
   "cell_type": "code",
   "execution_count": 17,
   "id": "7960cd86",
   "metadata": {
    "execution": {
     "iopub.execute_input": "2023-03-12T11:44:04.896543Z",
     "iopub.status.busy": "2023-03-12T11:44:04.896053Z",
     "iopub.status.idle": "2023-03-12T11:44:04.927857Z",
     "shell.execute_reply": "2023-03-12T11:44:04.926613Z"
    },
    "papermill": {
     "duration": 0.049458,
     "end_time": "2023-03-12T11:44:04.930351",
     "exception": false,
     "start_time": "2023-03-12T11:44:04.880893",
     "status": "completed"
    },
    "tags": []
   },
   "outputs": [
    {
     "data": {
      "text/plain": [
       "LotFrontage     0\n",
       "MasVnrType      0\n",
       "MasVnrArea      0\n",
       "BsmtQual        0\n",
       "BsmtCond        0\n",
       "BsmtExposure    0\n",
       "BsmtFinType1    0\n",
       "BsmtFinType2    0\n",
       "Electrical      0\n",
       "GarageType      0\n",
       "GarageYrBlt     0\n",
       "GarageFinish    0\n",
       "GarageQual      0\n",
       "GarageCond      0\n",
       "dtype: int64"
      ]
     },
     "execution_count": 17,
     "metadata": {},
     "output_type": "execute_result"
    }
   ],
   "source": [
    "# Filling the missing data\n",
    "tst[int_ft[0]].fillna(tst[int_ft[0]].mean(), inplace=True)\n",
    "tst[int_ft[1]].fillna(tst[int_ft[1]].mode()[0], inplace=True)\n",
    "tst[int_ft[2]].fillna(tst[int_ft[2]].mode()[0], inplace=True)\n",
    "\n",
    "tst = tst.ffill().bfill()\n",
    "tst[filtered_tst_cols].isna().sum()"
   ]
  },
  {
   "cell_type": "code",
   "execution_count": 18,
   "id": "78b6139f",
   "metadata": {
    "execution": {
     "iopub.execute_input": "2023-03-12T11:44:04.960488Z",
     "iopub.status.busy": "2023-03-12T11:44:04.959629Z",
     "iopub.status.idle": "2023-03-12T11:44:05.264602Z",
     "shell.execute_reply": "2023-03-12T11:44:05.263007Z"
    },
    "papermill": {
     "duration": 0.322918,
     "end_time": "2023-03-12T11:44:05.267365",
     "exception": false,
     "start_time": "2023-03-12T11:44:04.944447",
     "status": "completed"
    },
    "tags": []
   },
   "outputs": [
    {
     "name": "stdout",
     "output_type": "stream",
     "text": [
      "75\n"
     ]
    }
   ],
   "source": [
    "# Cross-Check fot NaNs\n",
    "new_tst_cols = list(tst.columns)\n",
    "string = ''\n",
    "check = 0\n",
    "for i in range(len(new_tst_cols)):\n",
    "    if tst.isna().sum()[i] > 0:\n",
    "        print('Missing Values Found!')\n",
    "    else:\n",
    "        check+=1\n",
    "print(check)"
   ]
  },
  {
   "cell_type": "markdown",
   "id": "d36ad87a",
   "metadata": {
    "papermill": {
     "duration": 0.013727,
     "end_time": "2023-03-12T11:44:05.295099",
     "exception": false,
     "start_time": "2023-03-12T11:44:05.281372",
     "status": "completed"
    },
    "tags": []
   },
   "source": [
    "# Correlation()"
   ]
  },
  {
   "cell_type": "code",
   "execution_count": 19,
   "id": "78e7991c",
   "metadata": {
    "execution": {
     "iopub.execute_input": "2023-03-12T11:44:05.325052Z",
     "iopub.status.busy": "2023-03-12T11:44:05.324074Z",
     "iopub.status.idle": "2023-03-12T11:44:05.343285Z",
     "shell.execute_reply": "2023-03-12T11:44:05.342346Z"
    },
    "papermill": {
     "duration": 0.036601,
     "end_time": "2023-03-12T11:44:05.345433",
     "exception": false,
     "start_time": "2023-03-12T11:44:05.308832",
     "status": "completed"
    },
    "tags": []
   },
   "outputs": [
    {
     "data": {
      "text/html": [
       "<div>\n",
       "<style scoped>\n",
       "    .dataframe tbody tr th:only-of-type {\n",
       "        vertical-align: middle;\n",
       "    }\n",
       "\n",
       "    .dataframe tbody tr th {\n",
       "        vertical-align: top;\n",
       "    }\n",
       "\n",
       "    .dataframe thead th {\n",
       "        text-align: right;\n",
       "    }\n",
       "</style>\n",
       "<table border=\"1\" class=\"dataframe\">\n",
       "  <thead>\n",
       "    <tr style=\"text-align: right;\">\n",
       "      <th></th>\n",
       "      <th>OverallQual</th>\n",
       "      <th>YearBuilt</th>\n",
       "      <th>YearRemodAdd</th>\n",
       "      <th>TotalBsmtSF</th>\n",
       "      <th>1stFlrSF</th>\n",
       "      <th>GrLivArea</th>\n",
       "      <th>FullBath</th>\n",
       "      <th>TotRmsAbvGrd</th>\n",
       "      <th>GarageCars</th>\n",
       "      <th>GarageArea</th>\n",
       "    </tr>\n",
       "  </thead>\n",
       "  <tbody>\n",
       "    <tr>\n",
       "      <th>0</th>\n",
       "      <td>5</td>\n",
       "      <td>1961</td>\n",
       "      <td>1961</td>\n",
       "      <td>882.0</td>\n",
       "      <td>896</td>\n",
       "      <td>896</td>\n",
       "      <td>1</td>\n",
       "      <td>5</td>\n",
       "      <td>1.0</td>\n",
       "      <td>730.0</td>\n",
       "    </tr>\n",
       "    <tr>\n",
       "      <th>1</th>\n",
       "      <td>6</td>\n",
       "      <td>1958</td>\n",
       "      <td>1958</td>\n",
       "      <td>1329.0</td>\n",
       "      <td>1329</td>\n",
       "      <td>1329</td>\n",
       "      <td>1</td>\n",
       "      <td>6</td>\n",
       "      <td>1.0</td>\n",
       "      <td>312.0</td>\n",
       "    </tr>\n",
       "    <tr>\n",
       "      <th>2</th>\n",
       "      <td>5</td>\n",
       "      <td>1997</td>\n",
       "      <td>1998</td>\n",
       "      <td>928.0</td>\n",
       "      <td>928</td>\n",
       "      <td>1629</td>\n",
       "      <td>2</td>\n",
       "      <td>6</td>\n",
       "      <td>2.0</td>\n",
       "      <td>482.0</td>\n",
       "    </tr>\n",
       "    <tr>\n",
       "      <th>3</th>\n",
       "      <td>6</td>\n",
       "      <td>1998</td>\n",
       "      <td>1998</td>\n",
       "      <td>926.0</td>\n",
       "      <td>926</td>\n",
       "      <td>1604</td>\n",
       "      <td>2</td>\n",
       "      <td>7</td>\n",
       "      <td>2.0</td>\n",
       "      <td>470.0</td>\n",
       "    </tr>\n",
       "    <tr>\n",
       "      <th>4</th>\n",
       "      <td>8</td>\n",
       "      <td>1992</td>\n",
       "      <td>1992</td>\n",
       "      <td>1280.0</td>\n",
       "      <td>1280</td>\n",
       "      <td>1280</td>\n",
       "      <td>2</td>\n",
       "      <td>5</td>\n",
       "      <td>2.0</td>\n",
       "      <td>506.0</td>\n",
       "    </tr>\n",
       "  </tbody>\n",
       "</table>\n",
       "</div>"
      ],
      "text/plain": [
       "   OverallQual  YearBuilt  YearRemodAdd  TotalBsmtSF  1stFlrSF  GrLivArea  \\\n",
       "0            5       1961          1961        882.0       896        896   \n",
       "1            6       1958          1958       1329.0      1329       1329   \n",
       "2            5       1997          1998        928.0       928       1629   \n",
       "3            6       1998          1998        926.0       926       1604   \n",
       "4            8       1992          1992       1280.0      1280       1280   \n",
       "\n",
       "   FullBath  TotRmsAbvGrd  GarageCars  GarageArea  \n",
       "0         1             5         1.0       730.0  \n",
       "1         1             6         1.0       312.0  \n",
       "2         2             6         2.0       482.0  \n",
       "3         2             7         2.0       470.0  \n",
       "4         2             5         2.0       506.0  "
      ]
     },
     "execution_count": 19,
     "metadata": {},
     "output_type": "execute_result"
    }
   ],
   "source": [
    "tst = pd.get_dummies(tst[corr_ft], drop_first=True)\n",
    "tst.head()"
   ]
  },
  {
   "cell_type": "code",
   "execution_count": 20,
   "id": "518ebad3",
   "metadata": {
    "execution": {
     "iopub.execute_input": "2023-03-12T11:44:05.375960Z",
     "iopub.status.busy": "2023-03-12T11:44:05.375192Z",
     "iopub.status.idle": "2023-03-12T11:44:05.381092Z",
     "shell.execute_reply": "2023-03-12T11:44:05.380201Z"
    },
    "papermill": {
     "duration": 0.024075,
     "end_time": "2023-03-12T11:44:05.383524",
     "exception": false,
     "start_time": "2023-03-12T11:44:05.359449",
     "status": "completed"
    },
    "tags": []
   },
   "outputs": [
    {
     "data": {
      "text/plain": [
       "(1459, 10)"
      ]
     },
     "execution_count": 20,
     "metadata": {},
     "output_type": "execute_result"
    }
   ],
   "source": [
    "tst.shape"
   ]
  },
  {
   "cell_type": "markdown",
   "id": "9eb0e58f",
   "metadata": {
    "papermill": {
     "duration": 0.013759,
     "end_time": "2023-03-12T11:44:05.411847",
     "exception": false,
     "start_time": "2023-03-12T11:44:05.398088",
     "status": "completed"
    },
    "tags": []
   },
   "source": [
    "# Sample Submission"
   ]
  },
  {
   "cell_type": "code",
   "execution_count": 21,
   "id": "8fbafbbd",
   "metadata": {
    "execution": {
     "iopub.execute_input": "2023-03-12T11:44:05.442805Z",
     "iopub.status.busy": "2023-03-12T11:44:05.442061Z",
     "iopub.status.idle": "2023-03-12T11:44:05.459054Z",
     "shell.execute_reply": "2023-03-12T11:44:05.458141Z"
    },
    "papermill": {
     "duration": 0.035588,
     "end_time": "2023-03-12T11:44:05.461662",
     "exception": false,
     "start_time": "2023-03-12T11:44:05.426074",
     "status": "completed"
    },
    "tags": []
   },
   "outputs": [
    {
     "data": {
      "text/html": [
       "<div>\n",
       "<style scoped>\n",
       "    .dataframe tbody tr th:only-of-type {\n",
       "        vertical-align: middle;\n",
       "    }\n",
       "\n",
       "    .dataframe tbody tr th {\n",
       "        vertical-align: top;\n",
       "    }\n",
       "\n",
       "    .dataframe thead th {\n",
       "        text-align: right;\n",
       "    }\n",
       "</style>\n",
       "<table border=\"1\" class=\"dataframe\">\n",
       "  <thead>\n",
       "    <tr style=\"text-align: right;\">\n",
       "      <th></th>\n",
       "      <th>Id</th>\n",
       "      <th>SalePrice</th>\n",
       "    </tr>\n",
       "  </thead>\n",
       "  <tbody>\n",
       "    <tr>\n",
       "      <th>0</th>\n",
       "      <td>1461</td>\n",
       "      <td>169277.052498</td>\n",
       "    </tr>\n",
       "    <tr>\n",
       "      <th>1</th>\n",
       "      <td>1462</td>\n",
       "      <td>187758.393989</td>\n",
       "    </tr>\n",
       "    <tr>\n",
       "      <th>2</th>\n",
       "      <td>1463</td>\n",
       "      <td>183583.683570</td>\n",
       "    </tr>\n",
       "    <tr>\n",
       "      <th>3</th>\n",
       "      <td>1464</td>\n",
       "      <td>179317.477511</td>\n",
       "    </tr>\n",
       "    <tr>\n",
       "      <th>4</th>\n",
       "      <td>1465</td>\n",
       "      <td>150730.079977</td>\n",
       "    </tr>\n",
       "  </tbody>\n",
       "</table>\n",
       "</div>"
      ],
      "text/plain": [
       "     Id      SalePrice\n",
       "0  1461  169277.052498\n",
       "1  1462  187758.393989\n",
       "2  1463  183583.683570\n",
       "3  1464  179317.477511\n",
       "4  1465  150730.079977"
      ]
     },
     "execution_count": 21,
     "metadata": {},
     "output_type": "execute_result"
    }
   ],
   "source": [
    "sample = pd.read_csv('/kaggle/input/house-prices-advanced-regression-techniques/sample_submission.csv')\n",
    "sample.head()"
   ]
  },
  {
   "cell_type": "code",
   "execution_count": 22,
   "id": "94b2bbef",
   "metadata": {
    "execution": {
     "iopub.execute_input": "2023-03-12T11:44:05.493894Z",
     "iopub.status.busy": "2023-03-12T11:44:05.493096Z",
     "iopub.status.idle": "2023-03-12T11:44:05.505623Z",
     "shell.execute_reply": "2023-03-12T11:44:05.504372Z"
    },
    "papermill": {
     "duration": 0.031569,
     "end_time": "2023-03-12T11:44:05.508018",
     "exception": false,
     "start_time": "2023-03-12T11:44:05.476449",
     "status": "completed"
    },
    "tags": []
   },
   "outputs": [
    {
     "data": {
      "text/plain": [
       "((1314, 10), (146, 10), (1314,), (146,))"
      ]
     },
     "execution_count": 22,
     "metadata": {},
     "output_type": "execute_result"
    }
   ],
   "source": [
    "# Split the data\n",
    "np.random.seed(2)\n",
    "x = tr\n",
    "y = salePrice\n",
    "\n",
    "x_tr, x_tst, y_tr, y_tst = train_test_split(x, y, test_size=0.1, random_state=5)\n",
    "x_tr.shape, x_tst.shape, y_tr.shape, y_tst.shape"
   ]
  },
  {
   "cell_type": "markdown",
   "id": "f17fd695",
   "metadata": {
    "papermill": {
     "duration": 0.01429,
     "end_time": "2023-03-12T11:44:05.537295",
     "exception": false,
     "start_time": "2023-03-12T11:44:05.523005",
     "status": "completed"
    },
    "tags": []
   },
   "source": [
    "# Build a ML Model\n",
    "\n",
    "> RandomForestRegressor\n",
    "\n",
    "> RandomizedSearchCV\n",
    "\n",
    "> GridSearchCV\n",
    "\n",
    "> TransformedTargetRegressor"
   ]
  },
  {
   "cell_type": "markdown",
   "id": "f4444e19",
   "metadata": {
    "papermill": {
     "duration": 0.014108,
     "end_time": "2023-03-12T11:44:05.565887",
     "exception": false,
     "start_time": "2023-03-12T11:44:05.551779",
     "status": "completed"
    },
    "tags": []
   },
   "source": [
    "### RandomForestRegressor()"
   ]
  },
  {
   "cell_type": "code",
   "execution_count": 23,
   "id": "695d99ec",
   "metadata": {
    "execution": {
     "iopub.execute_input": "2023-03-12T11:44:05.596762Z",
     "iopub.status.busy": "2023-03-12T11:44:05.596361Z",
     "iopub.status.idle": "2023-03-12T11:44:06.252883Z",
     "shell.execute_reply": "2023-03-12T11:44:06.251606Z"
    },
    "papermill": {
     "duration": 0.675375,
     "end_time": "2023-03-12T11:44:06.255681",
     "exception": false,
     "start_time": "2023-03-12T11:44:05.580306",
     "status": "completed"
    },
    "tags": []
   },
   "outputs": [
    {
     "data": {
      "text/plain": [
       "RandomForestRegressor()"
      ]
     },
     "execution_count": 23,
     "metadata": {},
     "output_type": "execute_result"
    }
   ],
   "source": [
    "# Instantiate RandomForestRegressor()\n",
    "np.random.seed(2)\n",
    "rfr = RandomForestRegressor()\n",
    "# Fit the model\n",
    "rfr.fit(x_tr, y_tr)"
   ]
  },
  {
   "cell_type": "code",
   "execution_count": 24,
   "id": "2a68ccda",
   "metadata": {
    "execution": {
     "iopub.execute_input": "2023-03-12T11:44:06.290261Z",
     "iopub.status.busy": "2023-03-12T11:44:06.289071Z",
     "iopub.status.idle": "2023-03-12T11:44:06.382023Z",
     "shell.execute_reply": "2023-03-12T11:44:06.380726Z"
    },
    "papermill": {
     "duration": 0.114478,
     "end_time": "2023-03-12T11:44:06.384795",
     "exception": false,
     "start_time": "2023-03-12T11:44:06.270317",
     "status": "completed"
    },
    "tags": []
   },
   "outputs": [
    {
     "data": {
      "text/plain": [
       "{'Train Accuracy': 0.9748991647328145,\n",
       " 'Test Accuracy': 0.8934621284516221,\n",
       " 'R2 Score': 0.8934621284516221,\n",
       " 'RMSE': 0.16511883175291786}"
      ]
     },
     "execution_count": 24,
     "metadata": {},
     "output_type": "execute_result"
    }
   ],
   "source": [
    "# Evaluate the Model\n",
    "mse = mean_squared_error\n",
    "def evaluate(model):\n",
    "    metrics = {\n",
    "        'Train Accuracy': model.score(x_tr, y_tr),\n",
    "        'Test Accuracy': model.score(x_tst, y_tst),\n",
    "        'R2 Score': r2_score(np.array(y_tst), rfr.predict(x_tst)),\n",
    "        'RMSE': np.sqrt(mse(np.log(np.array(y_tst)), np.log(rfr.predict(x_tst))))\n",
    "    }\n",
    "    return metrics\n",
    "    \n",
    "evaluate(rfr)"
   ]
  },
  {
   "cell_type": "code",
   "execution_count": 25,
   "id": "df33507a",
   "metadata": {
    "execution": {
     "iopub.execute_input": "2023-03-12T11:44:06.416688Z",
     "iopub.status.busy": "2023-03-12T11:44:06.416279Z",
     "iopub.status.idle": "2023-03-12T11:44:06.462672Z",
     "shell.execute_reply": "2023-03-12T11:44:06.461530Z"
    },
    "papermill": {
     "duration": 0.065476,
     "end_time": "2023-03-12T11:44:06.465303",
     "exception": false,
     "start_time": "2023-03-12T11:44:06.399827",
     "status": "completed"
    },
    "tags": []
   },
   "outputs": [
    {
     "data": {
      "text/plain": [
       "0.3643846768719009"
      ]
     },
     "execution_count": 25,
     "metadata": {},
     "output_type": "execute_result"
    }
   ],
   "source": [
    "np.sqrt(mse(np.log(np.array(sample['SalePrice'])), np.log(rfr.predict(tst))))"
   ]
  },
  {
   "cell_type": "markdown",
   "id": "6962bb80",
   "metadata": {
    "papermill": {
     "duration": 0.014531,
     "end_time": "2023-03-12T11:44:06.494774",
     "exception": false,
     "start_time": "2023-03-12T11:44:06.480243",
     "status": "completed"
    },
    "tags": []
   },
   "source": [
    "### RandomizedSearchCV"
   ]
  },
  {
   "cell_type": "code",
   "execution_count": 26,
   "id": "a9502a7e",
   "metadata": {
    "execution": {
     "iopub.execute_input": "2023-03-12T11:44:06.526995Z",
     "iopub.status.busy": "2023-03-12T11:44:06.526604Z",
     "iopub.status.idle": "2023-03-12T11:47:30.948235Z",
     "shell.execute_reply": "2023-03-12T11:47:30.946943Z"
    },
    "papermill": {
     "duration": 204.461279,
     "end_time": "2023-03-12T11:47:30.970943",
     "exception": false,
     "start_time": "2023-03-12T11:44:06.509664",
     "status": "completed"
    },
    "tags": []
   },
   "outputs": [
    {
     "data": {
      "text/plain": [
       "RandomizedSearchCV(estimator=RandomForestRegressor(),\n",
       "                   param_distributions={'bootstrap': [True, False],\n",
       "                                        'criterion': ['squared_error'],\n",
       "                                        'max_depth': [20, 40, 60, 80, 100,\n",
       "                                                      None],\n",
       "                                        'max_features': ['auto', 'sqrt'],\n",
       "                                        'min_samples_leaf': [1, 2, 4],\n",
       "                                        'min_samples_split': [2, 5, 10],\n",
       "                                        'n_estimators': array([ 100,  200,  300,  400,  500,  600,  700,  800,  900, 1000, 1100,\n",
       "       1200, 1300, 1400])},\n",
       "                   random_state=2)"
      ]
     },
     "execution_count": 26,
     "metadata": {},
     "output_type": "execute_result"
    }
   ],
   "source": [
    "grid = {\n",
    "    'bootstrap': [True, False],\n",
    "    'max_depth': [20, 40, 60, 80, 100, None],\n",
    "    'max_features': ['auto', 'sqrt'],\n",
    "    'min_samples_leaf': [1, 2, 4],\n",
    "    'criterion' : ['squared_error'],\n",
    "    'min_samples_split': [2, 5, 10],\n",
    "    'n_estimators': np.arange(100, 1500, 100, dtype=int)\n",
    "}\n",
    "\n",
    "# Instantiate RandomizedSearchCV\n",
    "np.random.seed(2)\n",
    "rsv = RandomizedSearchCV(RandomForestRegressor(), grid, n_iter=10, random_state=2)\n",
    "rsv.fit(x_tr, y_tr)"
   ]
  },
  {
   "cell_type": "code",
   "execution_count": 27,
   "id": "b667d10c",
   "metadata": {
    "execution": {
     "iopub.execute_input": "2023-03-12T11:47:31.004479Z",
     "iopub.status.busy": "2023-03-12T11:47:31.004019Z",
     "iopub.status.idle": "2023-03-12T11:47:31.594397Z",
     "shell.execute_reply": "2023-03-12T11:47:31.593127Z"
    },
    "papermill": {
     "duration": 0.609894,
     "end_time": "2023-03-12T11:47:31.597213",
     "exception": false,
     "start_time": "2023-03-12T11:47:30.987319",
     "status": "completed"
    },
    "tags": []
   },
   "outputs": [
    {
     "data": {
      "text/plain": [
       "{'Train Accuracy': 0.947652523173832,\n",
       " 'Test Accuracy': 0.8680376898725075,\n",
       " 'R2 Score': 0.8934621284516221,\n",
       " 'RMSE': 0.16511883175291786}"
      ]
     },
     "execution_count": 27,
     "metadata": {},
     "output_type": "execute_result"
    }
   ],
   "source": [
    "evaluate(rsv)"
   ]
  },
  {
   "cell_type": "code",
   "execution_count": 28,
   "id": "0ebdcff3",
   "metadata": {
    "execution": {
     "iopub.execute_input": "2023-03-12T11:47:31.629205Z",
     "iopub.status.busy": "2023-03-12T11:47:31.628184Z",
     "iopub.status.idle": "2023-03-12T11:47:31.635034Z",
     "shell.execute_reply": "2023-03-12T11:47:31.633785Z"
    },
    "papermill": {
     "duration": 0.025303,
     "end_time": "2023-03-12T11:47:31.637371",
     "exception": false,
     "start_time": "2023-03-12T11:47:31.612068",
     "status": "completed"
    },
    "tags": []
   },
   "outputs": [
    {
     "data": {
      "text/plain": [
       "{'n_estimators': 1400,\n",
       " 'min_samples_split': 2,\n",
       " 'min_samples_leaf': 2,\n",
       " 'max_features': 'sqrt',\n",
       " 'max_depth': 40,\n",
       " 'criterion': 'squared_error',\n",
       " 'bootstrap': True}"
      ]
     },
     "execution_count": 28,
     "metadata": {},
     "output_type": "execute_result"
    }
   ],
   "source": [
    "rsv.best_params_"
   ]
  },
  {
   "cell_type": "code",
   "execution_count": 29,
   "id": "d5b27014",
   "metadata": {
    "execution": {
     "iopub.execute_input": "2023-03-12T11:47:31.669591Z",
     "iopub.status.busy": "2023-03-12T11:47:31.669153Z",
     "iopub.status.idle": "2023-03-12T11:47:32.483430Z",
     "shell.execute_reply": "2023-03-12T11:47:32.482376Z"
    },
    "papermill": {
     "duration": 0.833298,
     "end_time": "2023-03-12T11:47:32.485874",
     "exception": false,
     "start_time": "2023-03-12T11:47:31.652576",
     "status": "completed"
    },
    "tags": []
   },
   "outputs": [
    {
     "data": {
      "text/plain": [
       "(-16.009080109742033, 0.3509161713434297)"
      ]
     },
     "execution_count": 29,
     "metadata": {},
     "output_type": "execute_result"
    }
   ],
   "source": [
    "r2_score(np.array(sample['SalePrice']), rsv.predict(tst)), np.sqrt(mse(np.log(np.array(sample['SalePrice'])), np.log(rsv.predict(tst))))"
   ]
  },
  {
   "cell_type": "markdown",
   "id": "60e29f95",
   "metadata": {
    "papermill": {
     "duration": 0.014697,
     "end_time": "2023-03-12T11:47:32.515656",
     "exception": false,
     "start_time": "2023-03-12T11:47:32.500959",
     "status": "completed"
    },
    "tags": []
   },
   "source": [
    "### GridSearchCV()"
   ]
  },
  {
   "cell_type": "code",
   "execution_count": 30,
   "id": "d30c6187",
   "metadata": {
    "execution": {
     "iopub.execute_input": "2023-03-12T11:47:32.547551Z",
     "iopub.status.busy": "2023-03-12T11:47:32.547152Z",
     "iopub.status.idle": "2023-03-12T11:50:27.593133Z",
     "shell.execute_reply": "2023-03-12T11:50:27.591844Z"
    },
    "papermill": {
     "duration": 175.080478,
     "end_time": "2023-03-12T11:50:27.611257",
     "exception": false,
     "start_time": "2023-03-12T11:47:32.530779",
     "status": "completed"
    },
    "tags": []
   },
   "outputs": [
    {
     "data": {
      "text/plain": [
       "GridSearchCV(estimator=RandomForestRegressor(),\n",
       "             param_grid={'bootstrap': [True, False],\n",
       "                         'criterion': ['squared_error'], 'max_depth': [100],\n",
       "                         'max_features': ['sqrt'], 'min_samples_leaf': [1, 2],\n",
       "                         'min_samples_split': [2],\n",
       "                         'n_estimators': [800, 1000, 1200]})"
      ]
     },
     "execution_count": 30,
     "metadata": {},
     "output_type": "execute_result"
    }
   ],
   "source": [
    "grid_search = {'n_estimators': [800, 1000, 1200],\n",
    " 'min_samples_split': [2],\n",
    " 'min_samples_leaf': [1, 2],\n",
    " 'max_features': ['sqrt'],\n",
    " 'max_depth': [100],\n",
    " 'criterion': ['squared_error'],\n",
    " 'bootstrap': [True, False]}\n",
    "\n",
    "# Instantiate GridSearchCV\n",
    "np.random.seed(2)\n",
    "gsv = GridSearchCV(RandomForestRegressor(), grid_search)\n",
    "gsv.fit(x_tr, y_tr)"
   ]
  },
  {
   "cell_type": "code",
   "execution_count": 31,
   "id": "55069872",
   "metadata": {
    "execution": {
     "iopub.execute_input": "2023-03-12T11:50:27.644161Z",
     "iopub.status.busy": "2023-03-12T11:50:27.643731Z",
     "iopub.status.idle": "2023-03-12T11:50:27.650892Z",
     "shell.execute_reply": "2023-03-12T11:50:27.649585Z"
    },
    "papermill": {
     "duration": 0.026752,
     "end_time": "2023-03-12T11:50:27.653329",
     "exception": false,
     "start_time": "2023-03-12T11:50:27.626577",
     "status": "completed"
    },
    "tags": []
   },
   "outputs": [
    {
     "data": {
      "text/plain": [
       "{'bootstrap': True,\n",
       " 'criterion': 'squared_error',\n",
       " 'max_depth': 100,\n",
       " 'max_features': 'sqrt',\n",
       " 'min_samples_leaf': 2,\n",
       " 'min_samples_split': 2,\n",
       " 'n_estimators': 800}"
      ]
     },
     "execution_count": 31,
     "metadata": {},
     "output_type": "execute_result"
    }
   ],
   "source": [
    "gsv.best_params_"
   ]
  },
  {
   "cell_type": "code",
   "execution_count": 32,
   "id": "ec99ce62",
   "metadata": {
    "execution": {
     "iopub.execute_input": "2023-03-12T11:50:27.686986Z",
     "iopub.status.busy": "2023-03-12T11:50:27.686401Z",
     "iopub.status.idle": "2023-03-12T11:50:27.928529Z",
     "shell.execute_reply": "2023-03-12T11:50:27.927185Z"
    },
    "papermill": {
     "duration": 0.262405,
     "end_time": "2023-03-12T11:50:27.931299",
     "exception": false,
     "start_time": "2023-03-12T11:50:27.668894",
     "status": "completed"
    },
    "tags": []
   },
   "outputs": [
    {
     "data": {
      "text/plain": [
       "0.35048218321682373"
      ]
     },
     "execution_count": 32,
     "metadata": {},
     "output_type": "execute_result"
    }
   ],
   "source": [
    "np.sqrt(mse(np.log(np.array(sample['SalePrice'])), np.log(gsv.predict(tst))))"
   ]
  },
  {
   "cell_type": "markdown",
   "id": "2ec75c9f",
   "metadata": {
    "papermill": {
     "duration": 0.015221,
     "end_time": "2023-03-12T11:50:27.962710",
     "exception": false,
     "start_time": "2023-03-12T11:50:27.947489",
     "status": "completed"
    },
    "tags": []
   },
   "source": [
    "### TransformedTargetRegressor()"
   ]
  },
  {
   "cell_type": "code",
   "execution_count": 33,
   "id": "6981d606",
   "metadata": {
    "execution": {
     "iopub.execute_input": "2023-03-12T11:50:27.997516Z",
     "iopub.status.busy": "2023-03-12T11:50:27.997131Z",
     "iopub.status.idle": "2023-03-12T11:50:28.001380Z",
     "shell.execute_reply": "2023-03-12T11:50:28.000411Z"
    },
    "papermill": {
     "duration": 0.024565,
     "end_time": "2023-03-12T11:50:28.003900",
     "exception": false,
     "start_time": "2023-03-12T11:50:27.979335",
     "status": "completed"
    },
    "tags": []
   },
   "outputs": [],
   "source": [
    "# Instantiate TransformedTargetRegressor()\n",
    "# {'n_estimators': 1400,\n",
    "#  'min_samples_split': 2,\n",
    "#  'min_samples_leaf': 2,\n",
    "#  'max_features': 'sqrt',\n",
    "#  'max_depth': 40,\n",
    "#  'criterion': 'squared_error',\n",
    "#  'bootstrap': True}"
   ]
  },
  {
   "cell_type": "code",
   "execution_count": 34,
   "id": "61a0a29f",
   "metadata": {
    "execution": {
     "iopub.execute_input": "2023-03-12T11:50:28.037014Z",
     "iopub.status.busy": "2023-03-12T11:50:28.036623Z",
     "iopub.status.idle": "2023-03-12T11:51:14.232087Z",
     "shell.execute_reply": "2023-03-12T11:51:14.230737Z"
    },
    "papermill": {
     "duration": 46.215219,
     "end_time": "2023-03-12T11:51:14.234926",
     "exception": false,
     "start_time": "2023-03-12T11:50:28.019707",
     "status": "completed"
    },
    "tags": []
   },
   "outputs": [
    {
     "name": "stdout",
     "output_type": "stream",
     "text": [
      "LR:  0.001\n",
      "0.8935134689514859 0.7969130610610291 0.7969130610610291 0.22218697562713075\n",
      "0.24706328008139875\n",
      "LR:  0.002\n",
      "0.9864587039817762 0.8964503808493979 0.8964503808493979 0.17890276117128162\n",
      "0.32700886638749616\n",
      "LR:  0.003\n",
      "0.9976215181522394 0.911643470958206 0.911643470958206 0.17152515176817262\n",
      "0.35394784772657556\n",
      "LR:  0.004\n",
      "0.9993454095176084 0.9148901475958688 0.9148901475958688 0.17022115402131768\n",
      "0.3624493051188031\n",
      "LR:  0.005\n",
      "0.9997075882652936 0.9162207520328901 0.9162207520328901 0.1688937169969098\n",
      "0.36534156706293197\n",
      "LR:  0.006\n",
      "0.9998109215649109 0.9163812202569763 0.9163812202569763 0.16906044023707273\n",
      "0.3666285741732968\n",
      "LR:  0.007\n",
      "0.9998518794435133 0.9148176116240798 0.9148176116240798 0.16949753172494872\n",
      "0.3657971792479171\n",
      "LR:  0.008\n",
      "0.9998658753609249 0.9189175908272933 0.9189175908272933 0.16788235386844147\n",
      "0.3672139845896942\n",
      "LR:  0.009000000000000001\n",
      "0.9998711071626776 0.9164477204562532 0.9164477204562532 0.16864994418146195\n",
      "0.3668079199004104\n",
      "LR:  0.01\n",
      "0.9998727614417254 0.9204866871890539 0.9204866871890539 0.16992096668449544\n",
      "0.3677793886412131\n"
     ]
    }
   ],
   "source": [
    "for i in np.linspace(0.001, 0.01, 10):\n",
    "    np.random.seed(2)\n",
    "    gbr = GradientBoostingRegressor(n_estimators=1200, min_samples_split=2, min_samples_leaf=2, max_depth=100, loss='squared_error', learning_rate=i, max_features='sqrt')\n",
    "    gbr.fit(x_tr, y_tr)\n",
    "    print('LR: ', i)\n",
    "    print(gbr.score(x_tr, y_tr), gbr.score(x_tst, y_tst), r2_score(y_tst, gbr.predict(x_tst)), np.sqrt(mse(np.log(y_tst), np.log(gbr.predict(x_tst)))))\n",
    "    print(np.sqrt(mse(np.log(sample['SalePrice']), np.log(gbr.predict(tst)))))"
   ]
  },
  {
   "cell_type": "code",
   "execution_count": 35,
   "id": "07b3bbd3",
   "metadata": {
    "execution": {
     "iopub.execute_input": "2023-03-12T11:51:14.272132Z",
     "iopub.status.busy": "2023-03-12T11:51:14.271437Z",
     "iopub.status.idle": "2023-03-12T11:51:14.527486Z",
     "shell.execute_reply": "2023-03-12T11:51:14.526149Z"
    },
    "papermill": {
     "duration": 0.277284,
     "end_time": "2023-03-12T11:51:14.529840",
     "exception": false,
     "start_time": "2023-03-12T11:51:14.252556",
     "status": "completed"
    },
    "tags": []
   },
   "outputs": [
    {
     "data": {
      "text/html": [
       "<div>\n",
       "<style scoped>\n",
       "    .dataframe tbody tr th:only-of-type {\n",
       "        vertical-align: middle;\n",
       "    }\n",
       "\n",
       "    .dataframe tbody tr th {\n",
       "        vertical-align: top;\n",
       "    }\n",
       "\n",
       "    .dataframe thead th {\n",
       "        text-align: right;\n",
       "    }\n",
       "</style>\n",
       "<table border=\"1\" class=\"dataframe\">\n",
       "  <thead>\n",
       "    <tr style=\"text-align: right;\">\n",
       "      <th></th>\n",
       "      <th>Id</th>\n",
       "      <th>SalePrice</th>\n",
       "    </tr>\n",
       "  </thead>\n",
       "  <tbody>\n",
       "    <tr>\n",
       "      <th>0</th>\n",
       "      <td>1461</td>\n",
       "      <td>119154.146401</td>\n",
       "    </tr>\n",
       "    <tr>\n",
       "      <th>1</th>\n",
       "      <td>1462</td>\n",
       "      <td>149199.368480</td>\n",
       "    </tr>\n",
       "    <tr>\n",
       "      <th>2</th>\n",
       "      <td>1463</td>\n",
       "      <td>171278.503493</td>\n",
       "    </tr>\n",
       "    <tr>\n",
       "      <th>3</th>\n",
       "      <td>1464</td>\n",
       "      <td>181084.982726</td>\n",
       "    </tr>\n",
       "    <tr>\n",
       "      <th>4</th>\n",
       "      <td>1465</td>\n",
       "      <td>217557.467325</td>\n",
       "    </tr>\n",
       "    <tr>\n",
       "      <th>...</th>\n",
       "      <td>...</td>\n",
       "      <td>...</td>\n",
       "    </tr>\n",
       "    <tr>\n",
       "      <th>1454</th>\n",
       "      <td>2915</td>\n",
       "      <td>82957.322147</td>\n",
       "    </tr>\n",
       "    <tr>\n",
       "      <th>1455</th>\n",
       "      <td>2916</td>\n",
       "      <td>81498.622471</td>\n",
       "    </tr>\n",
       "    <tr>\n",
       "      <th>1456</th>\n",
       "      <td>2917</td>\n",
       "      <td>145599.223973</td>\n",
       "    </tr>\n",
       "    <tr>\n",
       "      <th>1457</th>\n",
       "      <td>2918</td>\n",
       "      <td>104428.975000</td>\n",
       "    </tr>\n",
       "    <tr>\n",
       "      <th>1458</th>\n",
       "      <td>2919</td>\n",
       "      <td>231486.117899</td>\n",
       "    </tr>\n",
       "  </tbody>\n",
       "</table>\n",
       "<p>1459 rows × 2 columns</p>\n",
       "</div>"
      ],
      "text/plain": [
       "        Id      SalePrice\n",
       "0     1461  119154.146401\n",
       "1     1462  149199.368480\n",
       "2     1463  171278.503493\n",
       "3     1464  181084.982726\n",
       "4     1465  217557.467325\n",
       "...    ...            ...\n",
       "1454  2915   82957.322147\n",
       "1455  2916   81498.622471\n",
       "1456  2917  145599.223973\n",
       "1457  2918  104428.975000\n",
       "1458  2919  231486.117899\n",
       "\n",
       "[1459 rows x 2 columns]"
      ]
     },
     "execution_count": 35,
     "metadata": {},
     "output_type": "execute_result"
    }
   ],
   "source": [
    "preds = pd.Series(gbr.predict(tst))\n",
    "submission = sample.drop('SalePrice', axis=1)\n",
    "submission['SalePrice'] = preds\n",
    "submission.to_csv('submission.csv', index=False)\n",
    "submission"
   ]
  },
  {
   "cell_type": "code",
   "execution_count": 36,
   "id": "60506555",
   "metadata": {
    "execution": {
     "iopub.execute_input": "2023-03-12T11:51:14.566721Z",
     "iopub.status.busy": "2023-03-12T11:51:14.566290Z",
     "iopub.status.idle": "2023-03-12T11:51:14.582811Z",
     "shell.execute_reply": "2023-03-12T11:51:14.581526Z"
    },
    "papermill": {
     "duration": 0.037959,
     "end_time": "2023-03-12T11:51:14.585298",
     "exception": false,
     "start_time": "2023-03-12T11:51:14.547339",
     "status": "completed"
    },
    "tags": []
   },
   "outputs": [
    {
     "data": {
      "text/html": [
       "<div>\n",
       "<style scoped>\n",
       "    .dataframe tbody tr th:only-of-type {\n",
       "        vertical-align: middle;\n",
       "    }\n",
       "\n",
       "    .dataframe tbody tr th {\n",
       "        vertical-align: top;\n",
       "    }\n",
       "\n",
       "    .dataframe thead th {\n",
       "        text-align: right;\n",
       "    }\n",
       "</style>\n",
       "<table border=\"1\" class=\"dataframe\">\n",
       "  <thead>\n",
       "    <tr style=\"text-align: right;\">\n",
       "      <th></th>\n",
       "      <th>Id</th>\n",
       "      <th>SalePrice</th>\n",
       "    </tr>\n",
       "  </thead>\n",
       "  <tbody>\n",
       "    <tr>\n",
       "      <th>0</th>\n",
       "      <td>1461</td>\n",
       "      <td>119154.146401</td>\n",
       "    </tr>\n",
       "    <tr>\n",
       "      <th>1</th>\n",
       "      <td>1462</td>\n",
       "      <td>149199.368480</td>\n",
       "    </tr>\n",
       "    <tr>\n",
       "      <th>2</th>\n",
       "      <td>1463</td>\n",
       "      <td>171278.503493</td>\n",
       "    </tr>\n",
       "    <tr>\n",
       "      <th>3</th>\n",
       "      <td>1464</td>\n",
       "      <td>181084.982726</td>\n",
       "    </tr>\n",
       "    <tr>\n",
       "      <th>4</th>\n",
       "      <td>1465</td>\n",
       "      <td>217557.467325</td>\n",
       "    </tr>\n",
       "    <tr>\n",
       "      <th>...</th>\n",
       "      <td>...</td>\n",
       "      <td>...</td>\n",
       "    </tr>\n",
       "    <tr>\n",
       "      <th>1454</th>\n",
       "      <td>2915</td>\n",
       "      <td>82957.322147</td>\n",
       "    </tr>\n",
       "    <tr>\n",
       "      <th>1455</th>\n",
       "      <td>2916</td>\n",
       "      <td>81498.622471</td>\n",
       "    </tr>\n",
       "    <tr>\n",
       "      <th>1456</th>\n",
       "      <td>2917</td>\n",
       "      <td>145599.223973</td>\n",
       "    </tr>\n",
       "    <tr>\n",
       "      <th>1457</th>\n",
       "      <td>2918</td>\n",
       "      <td>104428.975000</td>\n",
       "    </tr>\n",
       "    <tr>\n",
       "      <th>1458</th>\n",
       "      <td>2919</td>\n",
       "      <td>231486.117899</td>\n",
       "    </tr>\n",
       "  </tbody>\n",
       "</table>\n",
       "<p>1459 rows × 2 columns</p>\n",
       "</div>"
      ],
      "text/plain": [
       "        Id      SalePrice\n",
       "0     1461  119154.146401\n",
       "1     1462  149199.368480\n",
       "2     1463  171278.503493\n",
       "3     1464  181084.982726\n",
       "4     1465  217557.467325\n",
       "...    ...            ...\n",
       "1454  2915   82957.322147\n",
       "1455  2916   81498.622471\n",
       "1456  2917  145599.223973\n",
       "1457  2918  104428.975000\n",
       "1458  2919  231486.117899\n",
       "\n",
       "[1459 rows x 2 columns]"
      ]
     },
     "execution_count": 36,
     "metadata": {},
     "output_type": "execute_result"
    }
   ],
   "source": [
    "final_sub = pd.read_csv('/kaggle/working/submission.csv')\n",
    "final_sub\n",
    "# # Get a list of all column names in the dataframe\n",
    "# ft = list(df.columns)\n",
    "\n",
    "# # Create a LabelEncoder object\n",
    "# label = LabelEncoder()\n",
    "\n",
    "# # Apply LabelEncoder to all columns in the dataframe\n",
    "# for col in ft:\n",
    "#     if df[col].dtype == object:\n",
    "#         df[col] = label.fit_transform(df[col].astype(str))\n",
    "\n",
    "# # Create a OneHotEncoder object with sparse output\n",
    "# encoder = OneHotEncoder(sparse=True)\n",
    "\n",
    "# # Apply OneHotEncoder to the encoded dataframe\n",
    "# ohe = encoder.fit_transform(df)\n",
    "\n",
    "# # Convert the one-hot-encoded output to a dense numpy array and create a new dataframe\n",
    "# df_obj = pd.DataFrame(ohe.toarray(), index=df.index)\n",
    "\n",
    "# # Extract all columns that were not one-hot-encoded\n",
    "# df_num = df.drop(columns=ft)\n",
    "\n",
    "# # Concatenate the one-hot-encoded and numerical dataframes\n",
    "# df = pd.concat([df_obj, df_num], axis=1)"
   ]
  },
  {
   "cell_type": "code",
   "execution_count": 37,
   "id": "f26fc877",
   "metadata": {
    "execution": {
     "iopub.execute_input": "2023-03-12T11:51:14.622329Z",
     "iopub.status.busy": "2023-03-12T11:51:14.621582Z",
     "iopub.status.idle": "2023-03-12T11:51:14.626301Z",
     "shell.execute_reply": "2023-03-12T11:51:14.624987Z"
    },
    "papermill": {
     "duration": 0.025763,
     "end_time": "2023-03-12T11:51:14.628603",
     "exception": false,
     "start_time": "2023-03-12T11:51:14.602840",
     "status": "completed"
    },
    "tags": []
   },
   "outputs": [],
   "source": [
    "# # Finding correlation() between the features\n",
    "# corr = df.corr()\n",
    "\n",
    "# # After referring some Kaggle notebooks, Internet, and Blogs on correlation, 0.5 - 0.7 correlation value implies features are moderately correlated and >0.7 implies highly correlated\n",
    "# high_corr_ft = corr.index[abs(corr['SalePrice']) >= 0.30]\n",
    "# print(f'Highly correlated features:\\n {high_corr_ft}\\n')\n",
    "# print(f'No. of correlated features: {len(high_corr_ft)}')"
   ]
  }
 ],
 "metadata": {
  "kernelspec": {
   "display_name": "Python 3",
   "language": "python",
   "name": "python3"
  },
  "language_info": {
   "codemirror_mode": {
    "name": "ipython",
    "version": 3
   },
   "file_extension": ".py",
   "mimetype": "text/x-python",
   "name": "python",
   "nbconvert_exporter": "python",
   "pygments_lexer": "ipython3",
   "version": "3.7.12"
  },
  "papermill": {
   "default_parameters": {},
   "duration": 444.588679,
   "end_time": "2023-03-12T11:51:15.470510",
   "environment_variables": {},
   "exception": null,
   "input_path": "__notebook__.ipynb",
   "output_path": "__notebook__.ipynb",
   "parameters": {},
   "start_time": "2023-03-12T11:43:50.881831",
   "version": "2.4.0"
  }
 },
 "nbformat": 4,
 "nbformat_minor": 5
}
