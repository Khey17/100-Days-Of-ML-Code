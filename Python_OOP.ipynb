{
  "nbformat": 4,
  "nbformat_minor": 0,
  "metadata": {
    "colab": {
      "provenance": [],
      "authorship_tag": "ABX9TyOiaSZS3N8qlZ1lvUgx58fp",
      "include_colab_link": true
    },
    "kernelspec": {
      "name": "python3",
      "display_name": "Python 3"
    },
    "language_info": {
      "name": "python"
    }
  },
  "cells": [
    {
      "cell_type": "markdown",
      "metadata": {
        "id": "view-in-github",
        "colab_type": "text"
      },
      "source": [
        "<a href=\"https://colab.research.google.com/github/Khey17/100-Days-Of-ML-Code/blob/main/Python_OOP.ipynb\" target=\"_parent\"><img src=\"https://colab.research.google.com/assets/colab-badge.svg\" alt=\"Open In Colab\"/></a>"
      ]
    },
    {
      "cell_type": "markdown",
      "source": [
        "### OOP"
      ],
      "metadata": {
        "id": "RoA0R333-VUm"
      }
    },
    {
      "cell_type": "code",
      "source": [
        "class BigObj:  # Class\n",
        "  pass\n",
        "\n",
        "obj1 = BigObj()  # Instantiate\n",
        "obj2 = BigObj()\n",
        "obj3 = BigObj()"
      ],
      "metadata": {
        "id": "zZot5lRYAb3d"
      },
      "execution_count": null,
      "outputs": []
    },
    {
      "cell_type": "code",
      "source": [
        "# Example (Gaming)\n",
        "class PlayerCharacter:\n",
        "  hogwartsAcceptance = True\n",
        "  def __init__(self, name, age):  # Constructor Analogy\n",
        "    if (self.hogwartsAcceptance):\n",
        "      self.name = name  # Analogous to this.name (Java)\n",
        "      self.age = age\n",
        "\n",
        "  def shout(self):\n",
        "    # print(f'{name}: Expecto Patronum!') # Will throw an error undefined name\n",
        "    print(f'{self.name}: Expecto Patronum!')\n",
        "\n",
        "player1 = PlayerCharacter('Harry Potter', 11)\n",
        "# print(player) prints memory location\n",
        "print(player1.name)\n",
        "print(player1.age)\n",
        "player1.shout()\n",
        "\n",
        "player1.school = 'Hogwarts'\n",
        "print(player1.school)\n",
        "\n",
        "player2 = PlayerCharacter('Hermione Granger', 11)\n",
        "\n",
        "print(player1.__dict__)\n",
        "print(player2.__dict__)\n",
        "\n",
        "print(player1.hogwartsAcceptance)\n",
        "\n",
        "# Explore help(class/datatype) function"
      ],
      "metadata": {
        "colab": {
          "base_uri": "https://localhost:8080/"
        },
        "id": "8e8_NP8WBHDy",
        "outputId": "7bfc39e3-8f91-4e7f-871f-37d4500d4794"
      },
      "execution_count": null,
      "outputs": [
        {
          "output_type": "stream",
          "name": "stdout",
          "text": [
            "Harry Potter\n",
            "11\n",
            "Harry Potter: Expecto Patronum!\n",
            "Hogwarts\n",
            "{'name': 'Harry Potter', 'age': 11, 'school': 'Hogwarts'}\n",
            "{'name': 'Hermione Granger', 'age': 11}\n",
            "True\n"
          ]
        }
      ]
    },
    {
      "cell_type": "markdown",
      "source": [
        "###More Examples"
      ],
      "metadata": {
        "id": "kURHf7IW0qZT"
      }
    },
    {
      "cell_type": "code",
      "source": [
        "class Person:\n",
        "  def __init__(self, name = 'Anonymous', age = 0):\n",
        "    self.name = name\n",
        "    self.age = age\n",
        "\n",
        "  def hello(self):\n",
        "    print(\"Hi there, My name is {} and I am {} years old.\".format(self.name, self.age))\n",
        "\n",
        "person = Person(\"Harry\", \"17\")\n",
        "person.hello()\n",
        "\n",
        "# help(list) - shows you the blueprint of the class"
      ],
      "metadata": {
        "colab": {
          "base_uri": "https://localhost:8080/"
        },
        "id": "URI52dOa0uuu",
        "outputId": "458d0653-be42-4e57-b80e-a479542b4e8d"
      },
      "execution_count": null,
      "outputs": [
        {
          "output_type": "stream",
          "name": "stdout",
          "text": [
            "Hi there, My name is Harry and I am 17 years old.\n"
          ]
        }
      ]
    },
    {
      "cell_type": "markdown",
      "source": [
        "### MyCode"
      ],
      "metadata": {
        "id": "M0yc2mnoRGIZ"
      }
    },
    {
      "cell_type": "code",
      "source": [
        "#Given the below class:\n",
        "class Cat:\n",
        "    species = 'mammal'\n",
        "    def __init__(self, name, age):\n",
        "        self.name = name\n",
        "        self.age = age\n",
        "\n",
        "\n",
        "# 1 Instantiate the Cat object with 3 cats\n",
        "cat1 = Cat('Fluffy', 2)\n",
        "cat2 = Cat('Mi-chan', 3)\n",
        "cat3 = Cat('Tom', 5)\n",
        "\n",
        "# 2 Create a function that finds the oldest cat\n",
        "def oldest(dict1, dict2, dict3):\n",
        "  if (dict1.age > dict2.age and dict1.age > dict3.age):\n",
        "    return dict1.name, dict1.age\n",
        "\n",
        "  elif (dict2.age > dict1.age and dict2.age > dict3.age):\n",
        "    return dict2.name, dict2.age\n",
        "\n",
        "  else:\n",
        "    return dict3.name, dict3.age\n",
        "\n",
        "# 3 Print out: \"The oldest cat is x years old.\". x will be the oldest cat age by using the function in #2\n",
        "oldest_cat, age = oldest(cat1, cat2, cat3)\n",
        "print(f'{oldest_cat} is {age} years old. {age} will be the {oldest_cat} age by using oldest() function')"
      ],
      "metadata": {
        "colab": {
          "base_uri": "https://localhost:8080/"
        },
        "id": "gNOa48LEDgJw",
        "outputId": "11656517-92c2-4155-8832-af4579db0974"
      },
      "execution_count": null,
      "outputs": [
        {
          "output_type": "stream",
          "name": "stdout",
          "text": [
            "Tom is 5 years old. 5 will be the Tom age by using oldest() function\n"
          ]
        }
      ]
    },
    {
      "cell_type": "markdown",
      "source": [
        "### Optimized Code"
      ],
      "metadata": {
        "id": "CNOndjvBRLD3"
      }
    },
    {
      "cell_type": "code",
      "source": [
        "class Cat:\n",
        "    species = 'mammal'\n",
        "    def __init__(self, name, age):\n",
        "        self.name = name\n",
        "        self.age = age\n",
        "\n",
        "# Instantiate the Cat object with 3 cats\n",
        "fluffy = Cat(\"Fluffy\", 2)\n",
        "michan = Cat(\"Mi-Chan\", 3)\n",
        "tom = Cat(\"Tom\", 5)\n",
        "\n",
        "# Find the oldest cat\n",
        "def oldest(*args):\n",
        "    return max(args)\n",
        "\n",
        "# Output\n",
        "print(f\"The oldest cat is {oldest(fluffy.age, michan.age, tom.age)} years old.\")\n",
        "\n",
        "\n",
        "# Alternate Approach for the Cat Example\n",
        "#Given the below class:\n",
        "class Cat:\n",
        "    species = 'mammal'\n",
        "    def __init__(self, name, age):\n",
        "        self.name = name\n",
        "        self.age = age\n",
        "\n",
        "\n",
        "# 1 Instantiate the Cat object with 3 cats\n",
        "fluffy = Cat('Fluffy', 3)\n",
        "tom = Cat('Tom', 2)\n",
        "snowbell = Cat('Snowbell', 4)\n",
        "\n",
        "# 2 Create a function that finds the oldest cat\n",
        "# def oldest(n1, n2, n3):\n",
        "#   if (n1 > n2):\n",
        "#     if (n1 > n3):\n",
        "#       return n1\n",
        "#     else:\n",
        "#       return n3\n",
        "#   elif (n2 > n3):\n",
        "#     return n2\n",
        "#   else:\n",
        "#     return n3\n",
        "\n",
        "# Alternate approach\n",
        "def oldest(*cats):\n",
        "  ages = []\n",
        "  names = []\n",
        "  for cat in cats:\n",
        "    ages.append(cat.age)\n",
        "    names.append(cat.name)\n",
        "\n",
        "  cat = dict(zip(names, ages))\n",
        "  oldest_cat = max(cat, key=cat.get)\n",
        "  oldest_cat_age = cat[oldest_cat]\n",
        "\n",
        "  return oldest_cat, oldest_cat_age\n",
        "\n",
        "\n",
        "\n",
        "\n",
        "# 3 Print out: \"The oldest cat is x years old.\". x will be the oldest cat age by using the function in #2\n",
        "cat = oldest(fluffy, tom, snowbell)\n",
        "print('{} is {} years old. {} will be the oldest cat by using the function in #2'.format(cat[0], cat[1], cat[0]))\n"
      ],
      "metadata": {
        "colab": {
          "base_uri": "https://localhost:8080/"
        },
        "id": "lLTX3O64RKM4",
        "outputId": "be5b4905-bd64-4aad-ed10-70f3ee8d9965"
      },
      "execution_count": null,
      "outputs": [
        {
          "output_type": "stream",
          "name": "stdout",
          "text": [
            "The oldest cat is 5 years old.\n",
            "Snowbell is 4 years old. Snowbell will be the oldest cat by using the function in #2\n"
          ]
        }
      ]
    },
    {
      "cell_type": "markdown",
      "source": [
        "### ***@classmethod & @staticmethod***"
      ],
      "metadata": {
        "id": "Tajq5HjCTM0A"
      }
    },
    {
      "cell_type": "code",
      "source": [
        "class PlayerCharacter:\n",
        "  hogwartsAcceptance = True\n",
        "  def __init__(self, name, age):  # Constructor\n",
        "    if (self.hogwartsAcceptance):\n",
        "      self.name = name  # Analogous to this.name (Java)\n",
        "      self.age = age\n",
        "\n",
        "  def shout(self):\n",
        "    # print(f'{name}: Expecto Patronum!') # Will throw an error undefined name\n",
        "    print(f'{self.name}: Expecto Patronum!')\n",
        "\n",
        "  @classmethod\n",
        "  def add_num(cls, num1, num2):\n",
        "    return cls('Peter', num1 + num2)\n",
        "\n",
        "  @staticmethod\n",
        "  def add_nums(num1, num2):\n",
        "    return num1 + num2\n",
        "\n",
        "player1 = PlayerCharacter('Harry Potter', 11)\n",
        "\n",
        "# player1.add_num(3, 14) throws an error without cls and it expects 3 arguments but 2 were given\n",
        "print(PlayerCharacter.add_num(3, 14))\n",
        "\n",
        "player2 = PlayerCharacter.add_num(3, 14)\n",
        "print(player2.age)\n",
        "print(player2.add_nums(3, 14))\n",
        "\n",
        "# Class methods can be called without instantiation"
      ],
      "metadata": {
        "colab": {
          "base_uri": "https://localhost:8080/"
        },
        "id": "Z3P2gcvqTL4g",
        "outputId": "f91c342f-810f-4685-bc78-e4d3f3509e5c"
      },
      "execution_count": null,
      "outputs": [
        {
          "output_type": "stream",
          "name": "stdout",
          "text": [
            "<__main__.PlayerCharacter object at 0x78a406008eb0>\n",
            "17\n",
            "17\n"
          ]
        }
      ]
    },
    {
      "cell_type": "markdown",
      "source": [
        "### 4 Pillars of OOP\n",
        "*   **Encapsulation**\n",
        "*   **Abstraction**\n",
        "*   **Inheritance**\n",
        "*   **Polymorphism**"
      ],
      "metadata": {
        "id": "Fw9fjJuT4mZa"
      }
    },
    {
      "cell_type": "markdown",
      "source": [
        "### Inheritance"
      ],
      "metadata": {
        "id": "wwLZQxY94oH9"
      }
    },
    {
      "cell_type": "code",
      "source": [
        "# Users\n",
        "# -> Wizard, Elf, Dragon (characters)\n",
        "\n",
        "class User:\n",
        "  def __init__(self, email):\n",
        "    self.email = email\n",
        "\n",
        "  def sign_in(self):\n",
        "    return 'Logged in'\n",
        "\n",
        "class Wizard(User):\n",
        "  def __init__(self, name, power, email):\n",
        "    super().__init__(email)\n",
        "    # User.__init__(self, email) method 2\n",
        "    self.name = name\n",
        "    self.power = power\n",
        "\n",
        "  def attack(self):\n",
        "    print(f'Expecto Patronum! Power Left: {self.power}')\n",
        "  # print('Wizard Class Called!')\n",
        "\n",
        "class Archer(User):\n",
        "  def __init__(self, name, arrows, email):\n",
        "    super().__init__(email)\n",
        "    self.name = name\n",
        "    self.arrows = arrows\n",
        "\n",
        "  def attack(self):\n",
        "    print(f'Arrows Left: {self.arrows}')\n",
        "\n",
        "  def run(self):\n",
        "    print(\"Run Fast!!\")\n",
        "\n",
        "harry = Wizard('Harry Potter', 100, 'harrypotter@gmail.com')\n",
        "hermione = Archer('Hermione Granger', 75, 'Hermione@outlook.com')\n",
        "harry.attack()\n",
        "hermione.attack()\n",
        "\n",
        "print(isinstance(harry, User))\n",
        "print(isinstance(harry, object))\n",
        "print(harry.email)\n",
        "print(dir(harry)) # Introspection Checks what kind of methods it has access to (Dunder Methods)"
      ],
      "metadata": {
        "id": "st2gHdPk4nHU",
        "colab": {
          "base_uri": "https://localhost:8080/"
        },
        "outputId": "6dc95ca3-9da1-4a40-ef99-29c2d27e5bd1"
      },
      "execution_count": null,
      "outputs": [
        {
          "output_type": "stream",
          "name": "stdout",
          "text": [
            "Expecto Patronum! Power Left: 100\n",
            "Arrows Left: 75\n",
            "True\n",
            "True\n",
            "harrypotter@gmail.com\n",
            "['__class__', '__delattr__', '__dict__', '__dir__', '__doc__', '__eq__', '__format__', '__ge__', '__getattribute__', '__gt__', '__hash__', '__init__', '__init_subclass__', '__le__', '__lt__', '__module__', '__ne__', '__new__', '__reduce__', '__reduce_ex__', '__repr__', '__setattr__', '__sizeof__', '__str__', '__subclasshook__', '__weakref__', 'attack', 'email', 'name', 'power', 'sign_in']\n"
          ]
        }
      ]
    },
    {
      "cell_type": "code",
      "source": [
        "class Toy():\n",
        "  def __init__(self, color, age):\n",
        "    self.color = color\n",
        "    self.age = age\n",
        "\n",
        "  def __str__(self):  # overriding built-in functions\n",
        "    return f'{self.color}'\n",
        "\n",
        "  def __del__(self):\n",
        "    print(\"Deleted\")\n",
        "\n",
        "  def __call__(self):\n",
        "    return ('yess??')\n",
        "\n",
        "action_figure = Toy('red', 0)\n",
        "print(action_figure.__str__())\n",
        "print(str(action_figure)) # refer to python documentation Special Methods section\n",
        "# del(action_figure)\n",
        "print(action_figure())  # calling by overriding the message in call()"
      ],
      "metadata": {
        "colab": {
          "base_uri": "https://localhost:8080/"
        },
        "id": "ofhy32YKqKTt",
        "outputId": "c5de911c-bb13-4fbc-8426-9ce835cbbb4e"
      },
      "execution_count": null,
      "outputs": [
        {
          "output_type": "stream",
          "name": "stdout",
          "text": [
            "red\n",
            "red\n",
            "yess??\n"
          ]
        }
      ]
    },
    {
      "cell_type": "code",
      "source": [
        "class SuperList(list):\n",
        "  def __len__(self):\n",
        "    return 1000\n",
        "\n",
        "super_list1 = SuperList()\n",
        "\n",
        "print(len(super_list1))\n",
        "super_list1.append(5)\n",
        "print(super_list1[0])   # inheriting append functioanlity from list class\n",
        "print(issubclass(SuperList, list))"
      ],
      "metadata": {
        "colab": {
          "base_uri": "https://localhost:8080/"
        },
        "id": "5HDlAO4D9bAB",
        "outputId": "073e3162-4acd-4dc0-bf23-eac1529d9ea5"
      },
      "execution_count": null,
      "outputs": [
        {
          "output_type": "stream",
          "name": "stdout",
          "text": [
            "1000\n",
            "5\n",
            "True\n"
          ]
        }
      ]
    },
    {
      "cell_type": "code",
      "source": [
        "class User:\n",
        "    def __init__(self, name):\n",
        "        self.name = name\n",
        "\n",
        "    def sign_in(self):\n",
        "        print(f'{self.name} is now signed in')\n",
        "\n",
        "    def run(self):\n",
        "        print(f'{self.name} is running fast')\n",
        "\n",
        "\n",
        "class Wizard(User):\n",
        "    def __init__(self, name, power, arrows):\n",
        "        super().__init__(name, arrows)\n",
        "        self.power = power\n",
        "\n",
        "    def attack(self):\n",
        "        print(f'{self.name} attacks with {self.power} power')\n",
        "\n",
        "\n",
        "class Archer(User):\n",
        "    def __init__(self, name, arrows):\n",
        "        super().__init__(name)\n",
        "        self.arrows = arrows\n",
        "\n",
        "    def attack(self):\n",
        "        self.arrows -= 1\n",
        "        print(f'{self.name} attacks and has {self.arrows} arrows left')\n",
        "\n",
        "    def check_arrows(self):\n",
        "        print(f'{self.name} has {self.arrows} remaining')\n",
        "\n",
        "\n",
        "class HybridBorg(Wizard, Archer):\n",
        "    # def __init__(self, name, power, arrows):\n",
        "    #     Archer.__init__(self, name, arrows)\n",
        "    #     Wizard.__init__(self, name, power, arrows)\n",
        "    pass\n",
        "\n",
        "\n",
        "hb = HybridBorg('Borg', 50, 100)\n",
        "\n",
        "hb.check_arrows()\n",
        "hb.attack()"
      ],
      "metadata": {
        "colab": {
          "base_uri": "https://localhost:8080/"
        },
        "id": "2OFLP0R4r5gH",
        "outputId": "9ed8bccc-73be-497f-ecc6-a414390db388"
      },
      "execution_count": null,
      "outputs": [
        {
          "output_type": "stream",
          "name": "stdout",
          "text": [
            "Borg has 100 remaining\n",
            "Borg attacks with 50 power\n"
          ]
        }
      ]
    },
    {
      "cell_type": "markdown",
      "source": [
        "### Functional Programming\n",
        "\n",
        "* **Clear + Understandable**\n",
        "* **Easy to Maintain**\n",
        "* **Easy to Extend**\n",
        "* **Memory Efficient**\n",
        "* **DRY**\n",
        "\n",
        "### Pure Functions"
      ],
      "metadata": {
        "id": "qMlnfd15fXgT"
      }
    },
    {
      "cell_type": "code",
      "source": [
        "def multiply_by_2(item):\n",
        "  # for item in li:\n",
        "\n",
        "  #   new_li.append(item * 2)\n",
        "\n",
        "  return item * 2 # return print(new_li) - this stmt makes the function not a pure function because it interacts with the outside world (print func)\n",
        "\n",
        "\n",
        "# map()\n",
        "my_list = [1, 2, 3]\n",
        "print(list(map(multiply_by_2, my_list)))\n",
        "print(my_list) # Doesn't affect the outside world\n",
        "\n",
        "# filter()\n",
        "def check_odd(item):\n",
        "  return item % 2 != 0\n",
        "\n",
        "print(list(filter(check_odd, my_list)))\n",
        "print(my_list)\n",
        "\n",
        "# zip()\n",
        "your_list = [10, 20, 30]\n",
        "print(list(zip(my_list, your_list)))\n",
        "\n",
        "# reduce()\n",
        "from functools import reduce # refer to Documentation for more details.\n",
        "\n",
        "def accumulator(acc, item):\n",
        "  print(acc, item)\n",
        "  return acc + item\n",
        "\n",
        "print(reduce(accumulator, my_list, 0))\n"
      ],
      "metadata": {
        "colab": {
          "base_uri": "https://localhost:8080/"
        },
        "id": "Wg2tOaOAfWtV",
        "outputId": "32ba8ee9-d9fd-4168-dd69-293f13eff89b"
      },
      "execution_count": null,
      "outputs": [
        {
          "output_type": "stream",
          "name": "stdout",
          "text": [
            "[2, 4, 6]\n",
            "[1, 2, 3]\n",
            "[1, 3]\n",
            "[1, 2, 3]\n",
            "[(1, 10), (2, 20), (3, 30)]\n",
            "0 1\n",
            "1 2\n",
            "3 3\n",
            "6\n"
          ]
        }
      ]
    },
    {
      "cell_type": "code",
      "source": [],
      "metadata": {
        "colab": {
          "base_uri": "https://localhost:8080/"
        },
        "id": "-puUR9T9hCHB",
        "outputId": "bf5aaa83-a466-48d8-fa51-a8844e868622"
      },
      "execution_count": null,
      "outputs": [
        {
          "output_type": "stream",
          "name": "stdout",
          "text": [
            "<map object at 0x7f9d1f627b80>\n"
          ]
        }
      ]
    }
  ]
}