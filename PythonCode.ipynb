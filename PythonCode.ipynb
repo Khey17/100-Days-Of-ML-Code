{
  "nbformat": 4,
  "nbformat_minor": 0,
  "metadata": {
    "colab": {
      "provenance": [],
      "mount_file_id": "1wBtLXni8O7VUjW4qDOiOfyThIxWXCSyk",
      "authorship_tag": "ABX9TyMXdUdAq7KlA6JMfgpjSswV",
      "include_colab_link": true
    },
    "kernelspec": {
      "name": "python3",
      "display_name": "Python 3"
    },
    "language_info": {
      "name": "python"
    }
  },
  "cells": [
    {
      "cell_type": "markdown",
      "metadata": {
        "id": "view-in-github",
        "colab_type": "text"
      },
      "source": [
        "<a href=\"https://colab.research.google.com/github/Khey17/100-Days-Of-ML-Code/blob/main/PythonCode.ipynb\" target=\"_parent\"><img src=\"https://colab.research.google.com/assets/colab-badge.svg\" alt=\"Open In Colab\"/></a>"
      ]
    },
    {
      "cell_type": "markdown",
      "source": [
        "**First Program**\n",
        "\n"
      ],
      "metadata": {
        "id": "THZqphUQAFgz"
      }
    },
    {
      "cell_type": "code",
      "source": [
        "name = input('What is your name?')\n",
        "'Hello ' + name"
      ],
      "metadata": {
        "colab": {
          "base_uri": "https://localhost:8080/",
          "height": 53
        },
        "id": "oq3UF2N9B_FB",
        "outputId": "a74373c1-7de5-414a-caa7-4ee80b7890b9"
      },
      "execution_count": null,
      "outputs": [
        {
          "name": "stdout",
          "output_type": "stream",
          "text": [
            "What is your name?Barthalemow Henry Allen\n"
          ]
        },
        {
          "output_type": "execute_result",
          "data": {
            "text/plain": [
              "'Hello Barthalemow Henry Allen'"
            ],
            "application/vnd.google.colaboratory.intrinsic+json": {
              "type": "string"
            }
          },
          "metadata": {},
          "execution_count": 1
        }
      ]
    },
    {
      "cell_type": "markdown",
      "source": [
        "**Fundamental Data Types**"
      ],
      "metadata": {
        "id": "S0HUHmUwK8Jd"
      }
    },
    {
      "cell_type": "code",
      "source": [
        "int\n",
        "float\n",
        "bool\n",
        "str\n",
        "# list\n",
        "tuple\n",
        "set\n",
        "dict"
      ],
      "metadata": {
        "colab": {
          "base_uri": "https://localhost:8080/"
        },
        "id": "Oi0k2qt-CF5M",
        "outputId": "f76f8bbc-02a3-45ec-b611-36317f965446"
      },
      "execution_count": null,
      "outputs": [
        {
          "output_type": "execute_result",
          "data": {
            "text/plain": [
              "dict"
            ]
          },
          "metadata": {},
          "execution_count": 2
        }
      ]
    },
    {
      "cell_type": "markdown",
      "source": [
        "*Classes -> Custom Types*"
      ],
      "metadata": {
        "id": "ajHC5yQ9LcCx"
      }
    },
    {
      "cell_type": "markdown",
      "source": [
        "*Specialized Data Types*"
      ],
      "metadata": {
        "id": "wQ2pGbjrLi2o"
      }
    },
    {
      "cell_type": "code",
      "source": [
        "None"
      ],
      "metadata": {
        "id": "M6gcQK6sLtpr"
      },
      "execution_count": null,
      "outputs": []
    },
    {
      "cell_type": "markdown",
      "source": [
        "**int & float**"
      ],
      "metadata": {
        "id": "ABjFpmCfL651"
      }
    },
    {
      "cell_type": "code",
      "source": [
        "print(type(2 + 4))\n",
        "print(type(2 - 4))\n",
        "print(type(2 * 4))\n",
        "print(type(2 / 4))\n",
        "print(type(2 % 4))\n",
        "print(2 ** 4)\n",
        "print(2 // 4)\n",
        "print(round(2/3))\n",
        "print(abs(2 - 4))"
      ],
      "metadata": {
        "colab": {
          "base_uri": "https://localhost:8080/"
        },
        "id": "BjuIz4LmL_4o",
        "outputId": "180ce023-b40a-44de-84bc-70164bc0db3f"
      },
      "execution_count": null,
      "outputs": [
        {
          "output_type": "stream",
          "name": "stdout",
          "text": [
            "<class 'int'>\n",
            "<class 'int'>\n",
            "<class 'int'>\n",
            "<class 'float'>\n",
            "<class 'int'>\n",
            "16\n",
            "0\n",
            "1\n",
            "2\n"
          ]
        }
      ]
    },
    {
      "cell_type": "markdown",
      "source": [
        "**Operator Precedence**"
      ],
      "metadata": {
        "id": "DGAK679dP3XG"
      }
    },
    {
      "cell_type": "code",
      "source": [
        "print((20 - 3) + 2 ** 2)"
      ],
      "metadata": {
        "colab": {
          "base_uri": "https://localhost:8080/"
        },
        "id": "tr6HOek4P7Gu",
        "outputId": "2aef48b3-2082-4c20-a24e-ca13ea31824f"
      },
      "execution_count": null,
      "outputs": [
        {
          "output_type": "stream",
          "name": "stdout",
          "text": [
            "21\n"
          ]
        }
      ]
    },
    {
      "cell_type": "markdown",
      "source": [
        "**Other Data Type**"
      ],
      "metadata": {
        "id": "vJUm4_mwQwxI"
      }
    },
    {
      "cell_type": "code",
      "source": [
        "print(complex(2, 4))\n",
        "print(bin(5))\n",
        "print(int('0b101', 2))"
      ],
      "metadata": {
        "colab": {
          "base_uri": "https://localhost:8080/"
        },
        "id": "1tqQE52XQ0kz",
        "outputId": "674efff4-6aad-48e6-a5d7-4c35073716ea"
      },
      "execution_count": null,
      "outputs": [
        {
          "output_type": "stream",
          "name": "stdout",
          "text": [
            "(2+4j)\n",
            "0b101\n",
            "5\n"
          ]
        }
      ]
    },
    {
      "cell_type": "markdown",
      "source": [
        "**Variables**"
      ],
      "metadata": {
        "id": "vfhLWKCiU8LY"
      }
    },
    {
      "cell_type": "code",
      "source": [
        "var = 192\n",
        "print(\"I'm Batman \" + str(var))\n",
        "\n",
        "var1, var2, var3 = 1, 2, 3\n",
        "print(var1 + var2 + var3)"
      ],
      "metadata": {
        "colab": {
          "base_uri": "https://localhost:8080/"
        },
        "id": "YbpDg6QEU-sO",
        "outputId": "ca286769-adb6-4311-9fdc-3b56fecee8ee"
      },
      "execution_count": null,
      "outputs": [
        {
          "output_type": "stream",
          "name": "stdout",
          "text": [
            "I'm Batman 192\n",
            "6\n"
          ]
        }
      ]
    },
    {
      "cell_type": "markdown",
      "source": [
        "**Expressions & Statements**"
      ],
      "metadata": {
        "id": "MXDSt2dzXPkG"
      }
    },
    {
      "cell_type": "code",
      "source": [
        "iq = 192 # Expression\n",
        "print(iq) # Statement\n",
        "\n",
        "# augmented assignment operator\n",
        "someValue = 5\n",
        "someValue += 2\n",
        "print(someValue)"
      ],
      "metadata": {
        "colab": {
          "base_uri": "https://localhost:8080/"
        },
        "id": "ikmqbmRMXUXn",
        "outputId": "25698099-b103-4b8a-e385-d73f64f9e2de"
      },
      "execution_count": null,
      "outputs": [
        {
          "output_type": "stream",
          "name": "stdout",
          "text": [
            "192\n",
            "7\n"
          ]
        }
      ]
    },
    {
      "cell_type": "markdown",
      "source": [
        "**Strings**"
      ],
      "metadata": {
        "id": "AEdIv7F3YHkH"
      }
    },
    {
      "cell_type": "code",
      "source": [
        "print(type('''I'm Batman'''))\n",
        "print(type(\"I'm Batman\"))\n",
        "\n",
        "# string concatenation\n",
        "firstName = 'Karthikheyaa'\n",
        "lastName = 'Kurra'\n",
        "print(firstName + \" \" + lastName)\n",
        "print('Hello' + 'Everyone')\n",
        "print('My IQ is ' + str(192))\n",
        "\n",
        "print(type(str(192)))\n",
        "print(type(int(str(192)))) # Type Conversion"
      ],
      "metadata": {
        "colab": {
          "base_uri": "https://localhost:8080/"
        },
        "id": "X7oxe5c2YJVp",
        "outputId": "6ae9eed5-bf75-47ff-c0b3-497b9005bd42"
      },
      "execution_count": null,
      "outputs": [
        {
          "output_type": "stream",
          "name": "stdout",
          "text": [
            "<class 'str'>\n",
            "<class 'str'>\n",
            "Karthikheyaa Kurra\n",
            "HelloEveryone\n",
            "My IQ is 192\n",
            "<class 'str'>\n",
            "<class 'int'>\n"
          ]
        }
      ]
    },
    {
      "cell_type": "markdown",
      "source": [
        "**Escape Sequence**"
      ],
      "metadata": {
        "id": "pXdSU7mTbD4U"
      }
    },
    {
      "cell_type": "code",
      "source": [
        "weather = \"It's kinda sunny\" # correct way\n",
        "# 'It's kinda sunny' or print('It's kinda sunny') will throw an error\n",
        "\n",
        "weather = '''It's kinda sunny'''\n",
        "# Or\n",
        "# weather = 'It\\'s kinda sunny'\n",
        "print(weather)\n",
        "\n",
        "# formatted strings\n",
        "name = 'John'\n",
        "age = 55\n",
        "print('hi ' + name + ', You are ' + str(age) + ' years old')\n",
        "print(f'hi {name}, You are {age} years old')\n",
        "print('hi {}, You are {} years old'.format(name, age))\n",
        "print('hi {}, You are {} years old'.format('John', 55))"
      ],
      "metadata": {
        "colab": {
          "base_uri": "https://localhost:8080/"
        },
        "id": "SFU85-XrbHlB",
        "outputId": "bfb94b8b-80f3-4daf-f283-2f09e2f38628"
      },
      "execution_count": null,
      "outputs": [
        {
          "output_type": "stream",
          "name": "stdout",
          "text": [
            "It's kinda sunny\n",
            "hi John, You are 55 years old\n",
            "hi John, You are 55 years old\n",
            "hi John, You are 55 years old\n",
            "hi John, You are 55 years old\n"
          ]
        }
      ]
    },
    {
      "cell_type": "markdown",
      "source": [
        "**String Indexes**"
      ],
      "metadata": {
        "id": "M0cdD2sQduby"
      }
    },
    {
      "cell_type": "code",
      "source": [
        "name = 'kurra'\n",
        "print(name[0])\n",
        "# name[5] will throw an error\n",
        "# [start:stop:stepover]\n",
        "print(name[0:3:2])\n",
        "print(name[0:5:2])\n",
        "print(name[1:])\n",
        "print(name[::1])\n",
        "print(name[-1:-6:-1])\n",
        "print(name[::-1])\n",
        "\n",
        "# This is called as String Slicing"
      ],
      "metadata": {
        "colab": {
          "base_uri": "https://localhost:8080/"
        },
        "id": "6V0rHMxJdw-h",
        "outputId": "4ae1df62-a67b-4b4a-9048-f42aef8fb163"
      },
      "execution_count": null,
      "outputs": [
        {
          "output_type": "stream",
          "name": "stdout",
          "text": [
            "k\n",
            "kr\n",
            "kra\n",
            "urra\n",
            "kurra\n",
            "arruk\n",
            "arruk\n"
          ]
        }
      ]
    },
    {
      "cell_type": "code",
      "source": [
        "# immutability\n",
        "# name[0] = 'I' throws an error, you cannot reassign a value to a part of a string\n",
        "name = name + ' K'\n",
        "name"
      ],
      "metadata": {
        "colab": {
          "base_uri": "https://localhost:8080/",
          "height": 35
        },
        "id": "hpRRJz6k72Cb",
        "outputId": "01d151cd-b43e-403f-b974-8ead6e04e22d"
      },
      "execution_count": null,
      "outputs": [
        {
          "output_type": "execute_result",
          "data": {
            "text/plain": [
              "'kurra K'"
            ],
            "application/vnd.google.colaboratory.intrinsic+json": {
              "type": "string"
            }
          },
          "metadata": {},
          "execution_count": 13
        }
      ]
    },
    {
      "cell_type": "markdown",
      "source": [
        "**Built-in Functions**"
      ],
      "metadata": {
        "id": "CfZ4YgnU8kzD"
      }
    },
    {
      "cell_type": "code",
      "source": [
        "# Examples\n",
        "str()\n",
        "int()\n",
        "abs(0)\n",
        "len('char')\n",
        "print(name[0:len(name)])  # len(name) = number of character (incl spaces) or elements\n",
        "print(name.capitalize())\n",
        "print(name.upper())\n",
        "print(name.find('K'))\n",
        "print(name.replace('urra K', 'athi R'))"
      ],
      "metadata": {
        "colab": {
          "base_uri": "https://localhost:8080/"
        },
        "id": "7zBrWgDn8oAf",
        "outputId": "83422b7e-020e-4e07-b66b-c4f05461b649"
      },
      "execution_count": null,
      "outputs": [
        {
          "output_type": "stream",
          "name": "stdout",
          "text": [
            "kurra K\n",
            "Kurra k\n",
            "KURRA K\n",
            "6\n",
            "kathi R\n"
          ]
        }
      ]
    },
    {
      "cell_type": "markdown",
      "source": [
        "**Booleans**"
      ],
      "metadata": {
        "id": "Jkf-DENdOqsf"
      }
    },
    {
      "cell_type": "code",
      "source": [
        "False\n",
        "True"
      ],
      "metadata": {
        "colab": {
          "base_uri": "https://localhost:8080/"
        },
        "id": "al6EDhU7OtSo",
        "outputId": "9f2c18c0-8e02-4cde-d3fa-e1f78940d7e3"
      },
      "execution_count": null,
      "outputs": [
        {
          "output_type": "execute_result",
          "data": {
            "text/plain": [
              "True"
            ]
          },
          "metadata": {},
          "execution_count": 15
        }
      ]
    },
    {
      "cell_type": "code",
      "source": [
        "print(bool(0))\n",
        "print(bool(1))"
      ],
      "metadata": {
        "colab": {
          "base_uri": "https://localhost:8080/"
        },
        "id": "nZNMeeOcO8bN",
        "outputId": "ff90538b-c760-4dd8-d79e-7a71c7a8727f"
      },
      "execution_count": null,
      "outputs": [
        {
          "output_type": "stream",
          "name": "stdout",
          "text": [
            "False\n",
            "True\n"
          ]
        }
      ]
    },
    {
      "cell_type": "markdown",
      "source": [
        "**Type Conversion**"
      ],
      "metadata": {
        "id": "UN5EYgCjPPbA"
      }
    },
    {
      "cell_type": "code",
      "source": [
        "name = 'Khey'\n",
        "age = 50\n",
        "relationShip = 'single'\n",
        "\n",
        "relationShip = 'complicated'\n",
        "relationShip"
      ],
      "metadata": {
        "colab": {
          "base_uri": "https://localhost:8080/",
          "height": 35
        },
        "id": "ItoDQ4xQPSmN",
        "outputId": "e51eac78-df21-42d9-8cb7-53efb722c32a"
      },
      "execution_count": null,
      "outputs": [
        {
          "output_type": "execute_result",
          "data": {
            "text/plain": [
              "'complicated'"
            ],
            "application/vnd.google.colaboratory.intrinsic+json": {
              "type": "string"
            }
          },
          "metadata": {},
          "execution_count": 17
        }
      ]
    },
    {
      "cell_type": "code",
      "source": [
        "birthYear = input('What year you were born? ')  # This is a string\n",
        "birthYear = int(birthYear)  # str to int conversion\n",
        "\n",
        "age = 2022 - birthYear\n",
        "print(f'You are {age} years old')"
      ],
      "metadata": {
        "colab": {
          "base_uri": "https://localhost:8080/"
        },
        "id": "riUd2cxzP202",
        "outputId": "55a494e7-75a9-43f0-badb-ddb32564202f"
      },
      "execution_count": null,
      "outputs": [
        {
          "output_type": "stream",
          "name": "stdout",
          "text": [
            "What year you were born? 2002\n",
            "You are 20 years old\n"
          ]
        }
      ]
    },
    {
      "cell_type": "markdown",
      "source": [
        "**Password Checker Exercise**"
      ],
      "metadata": {
        "id": "3wNEXrYwSYVn"
      }
    },
    {
      "cell_type": "code",
      "source": [
        "username = input('username: ')\n",
        "password = input('password: ')\n",
        "\n",
        "print(username)\n",
        "print(password.replace(password[0:len(password)], str('*' * len(password))) + ' contains ' + str(len(password)) + ' characters')"
      ],
      "metadata": {
        "colab": {
          "base_uri": "https://localhost:8080/"
        },
        "id": "y1l3-7nCScF4",
        "outputId": "a337f719-7085-406c-b5d0-84900d4ad392"
      },
      "execution_count": null,
      "outputs": [
        {
          "output_type": "stream",
          "name": "stdout",
          "text": [
            "username: Khey69\n",
            "password: 69LadiesMan\n",
            "Khey69\n",
            "*********** contains 11 characters\n"
          ]
        }
      ]
    },
    {
      "cell_type": "markdown",
      "source": [
        "**Lists**"
      ],
      "metadata": {
        "id": "gnUQwSrXy2le"
      }
    },
    {
      "cell_type": "code",
      "source": [
        "List = ['hello', 'Mr. Stark']\n",
        "print(List)  # Data Structure\n",
        "\n",
        "L = [2, 4, 6, 8, False, True, 'bool']\n",
        "print(L)\n",
        "\n",
        "amazonCart = ['Mamaearth Bodywash', 'Argan Shampoo', 'Neutrogena Foam Face Wash']\n",
        "print(amazonCart)\n",
        "\n",
        "# list slicing\n",
        "print(amazonCart[1:3:2])  # [start:end:step]\n",
        "print(amazonCart[0::2])\n",
        "\n",
        "newCart = amazonCart[1::]\n",
        "print(newCart)\n",
        "newCart = amazonCart[0::2]\n",
        "print(newCart)"
      ],
      "metadata": {
        "colab": {
          "base_uri": "https://localhost:8080/"
        },
        "id": "vgxu1e8Fy5Ao",
        "outputId": "020437b4-256f-4ba7-e27c-59ea9eec533d"
      },
      "execution_count": null,
      "outputs": [
        {
          "output_type": "stream",
          "name": "stdout",
          "text": [
            "['hello', 'Mr. Stark']\n",
            "[2, 4, 6, 8, False, True, 'bool']\n",
            "['Mamaearth Bodywash', 'Argan Shampoo', 'Neutrogena Foam Face Wash']\n",
            "['Argan Shampoo']\n",
            "['Mamaearth Bodywash', 'Neutrogena Foam Face Wash']\n",
            "['Argan Shampoo', 'Neutrogena Foam Face Wash']\n",
            "['Mamaearth Bodywash', 'Neutrogena Foam Face Wash']\n"
          ]
        }
      ]
    },
    {
      "cell_type": "markdown",
      "source": [
        "**Matrix**"
      ],
      "metadata": {
        "id": "BRyopKoh3gFX"
      }
    },
    {
      "cell_type": "code",
      "source": [
        "matrix = [[1, 2, 7],\n",
        "          [3, 4, 8],  # Or written as [[1, 2], [3, 4], [5, 6]]\n",
        "          [5, 6, 9]]\n",
        "print(matrix)\n",
        "print(matrix[0][0])\n",
        "print(matrix[0][0] + matrix[0][1])\n",
        "print(matrix[0::2][0::])\n",
        "print(len(matrix))  # refer to list methods w3 Schools\n",
        "newMatrix = matrix.append([10, 11, 12])\n",
        "print(matrix)\n",
        "print(newMatrix)  # prints None\n",
        "\n",
        "# Append\n",
        "matrix.append([10, 11, 12])\n",
        "newMatrix = matrix\n",
        "print(matrix)\n",
        "print(newMatrix)  # Doesn't print None\n",
        "\n",
        "# Insert\n",
        "matrix.insert(3, 100) # (index, element)\n",
        "print(matrix)\n",
        "\n",
        "# Extend\n",
        "matrix.extend([[10, 20]])\n",
        "print(matrix)\n",
        "\n",
        "# Remove\n",
        "matrix.pop()\n",
        "print(matrix)  # Removes the extended elements\n",
        "matrix.pop(0)\n",
        "print(matrix)  # Removes the element at index 0\n",
        "matrix.pop(2)\n",
        "print(matrix)  # Removes the element at index 2\n",
        "\n",
        "newMatrix = matrix.pop(3)\n",
        "print(newMatrix)\n",
        "\n",
        "# Index\n",
        "print(newMatrix.index(11))  # Outputs the index location\n",
        "basket = ['flowers', 'fruits', 'stones', 'water', 'flowers']\n",
        "print(basket.index('stones'))\n",
        "print('water' in basket)  # Outputs true if the mentioned element exists in the list\n",
        "print(basket.count('flowers'))\n",
        "\n",
        "# Sort\n",
        "basket.sort()\n",
        "print(basket)\n",
        "newList = [3, 9, 1, -5, 2, -10]\n",
        "newList.sort()\n",
        "print(newList)\n",
        "copyList = newList.copy()\n",
        "print(copyList)\n",
        "newList.reverse()\n",
        "print(newList)\n",
        "\n",
        "print(newList[::-1])  # reverse order uaing slicing"
      ],
      "metadata": {
        "colab": {
          "base_uri": "https://localhost:8080/"
        },
        "id": "h7wfO5dR3i4v",
        "outputId": "51564335-5224-48f4-ee7e-9301933a35f2"
      },
      "execution_count": null,
      "outputs": [
        {
          "output_type": "stream",
          "name": "stdout",
          "text": [
            "[[1, 2, 7], [3, 4, 8], [5, 6, 9]]\n",
            "1\n",
            "3\n",
            "[[1, 2, 7], [5, 6, 9]]\n",
            "3\n",
            "[[1, 2, 7], [3, 4, 8], [5, 6, 9], [10, 11, 12]]\n",
            "None\n",
            "[[1, 2, 7], [3, 4, 8], [5, 6, 9], [10, 11, 12], [10, 11, 12]]\n",
            "[[1, 2, 7], [3, 4, 8], [5, 6, 9], [10, 11, 12], [10, 11, 12]]\n",
            "[[1, 2, 7], [3, 4, 8], [5, 6, 9], 100, [10, 11, 12], [10, 11, 12]]\n",
            "[[1, 2, 7], [3, 4, 8], [5, 6, 9], 100, [10, 11, 12], [10, 11, 12], [10, 20]]\n",
            "[[1, 2, 7], [3, 4, 8], [5, 6, 9], 100, [10, 11, 12], [10, 11, 12]]\n",
            "[[3, 4, 8], [5, 6, 9], 100, [10, 11, 12], [10, 11, 12]]\n",
            "[[3, 4, 8], [5, 6, 9], [10, 11, 12], [10, 11, 12]]\n",
            "[10, 11, 12]\n",
            "1\n",
            "2\n",
            "True\n",
            "2\n",
            "['flowers', 'flowers', 'fruits', 'stones', 'water']\n",
            "[-10, -5, 1, 2, 3, 9]\n",
            "[-10, -5, 1, 2, 3, 9]\n",
            "[9, 3, 2, 1, -5, -10]\n",
            "[-10, -5, 1, 2, 3, 9]\n"
          ]
        }
      ]
    },
    {
      "cell_type": "code",
      "source": [
        "sentence = ''\n",
        "newSentence = sentence.join(['Hi ', 'my ', 'name ', 'is ', 'Gojo'])\n",
        "newSentence\n",
        "\n",
        "# list unpacking\n",
        "a, c, b, *other = [1, 2, 3, 4, 5, 6, 7, 8]\n",
        "print(a)\n",
        "print(c + b)\n",
        "print(other)"
      ],
      "metadata": {
        "colab": {
          "base_uri": "https://localhost:8080/"
        },
        "id": "CPybWAnsdn_t",
        "outputId": "f8a766eb-332b-4db1-cc3f-e7338e883654"
      },
      "execution_count": null,
      "outputs": [
        {
          "output_type": "stream",
          "name": "stdout",
          "text": [
            "1\n",
            "5\n",
            "[4, 5, 6, 7, 8]\n"
          ]
        }
      ]
    },
    {
      "cell_type": "code",
      "source": [
        "# None\n",
        "weapons = None\n",
        "print(weapons)"
      ],
      "metadata": {
        "colab": {
          "base_uri": "https://localhost:8080/"
        },
        "id": "UnApV8BrfAZq",
        "outputId": "e0f932e9-c172-4865-9a4b-6137933df7d3"
      },
      "execution_count": null,
      "outputs": [
        {
          "output_type": "stream",
          "name": "stdout",
          "text": [
            "None\n"
          ]
        }
      ]
    },
    {
      "cell_type": "markdown",
      "source": [
        "**Dictionaries**"
      ],
      "metadata": {
        "id": "G73BGBzPfQSM"
      }
    },
    {
      "cell_type": "code",
      "source": [
        "dictionary = {\n",
        "    'a': [1,2,3],\n",
        "    'b': 'hello',\n",
        "    'c': True,\n",
        "    'age': 20\n",
        "}\n",
        "print(dictionary)\n",
        "print(dictionary['b'])\n",
        "print(dictionary['c'])\n",
        "\n",
        "# Dictionary is a type of Data Structure\n",
        "print(dictionary['a'][1])\n",
        "\n",
        "myList = [\n",
        "    {\n",
        "    'a': [1,2,3],\n",
        "    'b': 'hello',\n",
        "    'c': True\n",
        "  },\n",
        "  {\n",
        "    'a': [4,5,6],\n",
        "    'b': 'world',\n",
        "    'c': False\n",
        "  }\n",
        "]\n",
        "\n",
        "# Dictionaries hold a lot of information than lists\n",
        "print(myList[0]['a'])\n",
        "print(myList[0]['a'][2])\n",
        "print(myList[1]['a'])"
      ],
      "metadata": {
        "colab": {
          "base_uri": "https://localhost:8080/"
        },
        "id": "jDjdped8fTR8",
        "outputId": "3f63ccb9-cd15-4bbe-c125-7b52059a5875"
      },
      "execution_count": null,
      "outputs": [
        {
          "output_type": "stream",
          "name": "stdout",
          "text": [
            "{'a': [1, 2, 3], 'b': 'hello', 'c': True, 'age': 20}\n",
            "hello\n",
            "True\n",
            "2\n",
            "[1, 2, 3]\n",
            "3\n",
            "[4, 5, 6]\n"
          ]
        }
      ]
    },
    {
      "cell_type": "markdown",
      "source": [
        "**Dictionary Methods**"
      ],
      "metadata": {
        "id": "VU8EeJ4QmLwO"
      }
    },
    {
      "cell_type": "code",
      "source": [
        "print(dictionary.get('d'))  # There is no word called age in the dictionary\n",
        "print(dictionary.get('age', 55))  # Just in case there's no keyword age assign 55\n",
        "\n",
        "# Dict\n",
        "user = dict(name = 'John Jones')\n",
        "print(user)\n",
        "\n",
        "print('name' in user)  # refer dictionary methods w3 Schools\n",
        "\n",
        "# Keys\n",
        "print('hello' in user.keys())\n",
        "\n",
        "# Values\n",
        "print('John Jones' in user.values())\n",
        "\n",
        "# Items\n",
        "print(user.items())\n",
        "print(dictionary.items())\n",
        "\n",
        "# Clear\n",
        "print(user.clear())\n",
        "dictionary.clear()\n",
        "print(dictionary)\n",
        "\n",
        "# Copy\n",
        "newDictionary = {\n",
        "    'a': [1,2,3],\n",
        "    'b': 'hello',\n",
        "    'c': True,\n",
        "    'age': 20\n",
        "}\n",
        "newDict = newDictionary.copy()\n",
        "print(newDict)\n",
        "\n",
        "# Pop\n",
        "print(newDict.pop('a'))\n",
        "print(newDict.popitem())\n",
        "print(newDict)\n",
        "\n",
        "# Update\n",
        "newDictionary.update({'d': 100})\n",
        "print(newDictionary)"
      ],
      "metadata": {
        "colab": {
          "base_uri": "https://localhost:8080/"
        },
        "id": "zqXBH-SimOdt",
        "outputId": "d345e59b-605f-4b54-ffe8-b34c843e77d2"
      },
      "execution_count": null,
      "outputs": [
        {
          "output_type": "stream",
          "name": "stdout",
          "text": [
            "None\n",
            "20\n",
            "{'name': 'John Jones'}\n",
            "True\n",
            "False\n",
            "True\n",
            "dict_items([('name', 'John Jones')])\n",
            "dict_items([('a', [1, 2, 3]), ('b', 'hello'), ('c', True), ('age', 20)])\n",
            "None\n",
            "{}\n",
            "{'a': [1, 2, 3], 'b': 'hello', 'c': True, 'age': 20}\n",
            "[1, 2, 3]\n",
            "('age', 20)\n",
            "{'b': 'hello', 'c': True}\n",
            "{'a': [1, 2, 3], 'b': 'hello', 'c': True, 'age': 20, 'd': 100}\n"
          ]
        }
      ]
    },
    {
      "cell_type": "markdown",
      "source": [
        "**Tuples**"
      ],
      "metadata": {
        "id": "DdfstSV1uLCS"
      }
    },
    {
      "cell_type": "code",
      "source": [
        "myTuple = (1, 2, 3, 4, 5)\n",
        "# myTuple[1] = 'a' throws an error and cannot be reassigned\n",
        "print(myTuple)\n",
        "print(5 in myTuple)\n",
        "# Lists can be changed but Tuples cannot be changed\n",
        "# Tuples are faster than lists\n",
        "newDictionary.update({(1, 2): 99})\n",
        "print(newDictionary[(1, 2)])\n",
        "\n",
        "newTuple = myTuple[::-1]\n",
        "print(newTuple)"
      ],
      "metadata": {
        "colab": {
          "base_uri": "https://localhost:8080/"
        },
        "id": "JDTT4bNluNJ5",
        "outputId": "9128a5a5-59d1-4e07-bd36-f670357a1ded"
      },
      "execution_count": null,
      "outputs": [
        {
          "output_type": "stream",
          "name": "stdout",
          "text": [
            "(1, 2, 3, 4, 5)\n",
            "True\n",
            "99\n",
            "(5, 4, 3, 2, 1)\n"
          ]
        }
      ]
    },
    {
      "cell_type": "markdown",
      "source": [
        "**Tuple Methods**"
      ],
      "metadata": {
        "id": "EQypHX7_v9vn"
      }
    },
    {
      "cell_type": "code",
      "source": [
        "# Index\n",
        "print(newTuple.index(3))\n",
        "print(len(newTuple))"
      ],
      "metadata": {
        "colab": {
          "base_uri": "https://localhost:8080/"
        },
        "id": "2_s1UdNcwAYH",
        "outputId": "94b4b924-1e3d-4f65-ff08-bea6ac1a7200"
      },
      "execution_count": null,
      "outputs": [
        {
          "output_type": "stream",
          "name": "stdout",
          "text": [
            "2\n",
            "5\n"
          ]
        }
      ]
    },
    {
      "cell_type": "markdown",
      "source": [
        "**Set**"
      ],
      "metadata": {
        "id": "5fxkLDqoxCP8"
      }
    },
    {
      "cell_type": "code",
      "source": [
        "mySet = {1,2,3,4,5,5}  # Unordered collection of UNIQUE objects or items & do not support indexing\n",
        "myList = [1,2,3,4]\n",
        "mySet.add(100)\n",
        "mySet.add(2)\n",
        "print(mySet)\n",
        "print(set(myList))  # examples discarding repeating usernames or emails\n",
        "print(1 in mySet)\n",
        "newSet = mySet.copy()\n",
        "print(newSet)\n",
        "mySet.clear()\n",
        "print(mySet) # Empty Set"
      ],
      "metadata": {
        "colab": {
          "base_uri": "https://localhost:8080/"
        },
        "id": "tVM2yXWbxFTD",
        "outputId": "56553fa0-c26b-4f13-a42e-7680b6a22b05"
      },
      "execution_count": null,
      "outputs": [
        {
          "output_type": "stream",
          "name": "stdout",
          "text": [
            "{1, 2, 3, 4, 5, 100}\n",
            "{1, 2, 3, 4}\n",
            "True\n",
            "{1, 2, 3, 4, 5, 100}\n",
            "set()\n"
          ]
        }
      ]
    },
    {
      "cell_type": "markdown",
      "source": [
        "**Set Methods**"
      ],
      "metadata": {
        "id": "wec0e_Vjyh_t"
      }
    },
    {
      "cell_type": "code",
      "source": [
        "# Difference\n",
        "Set = set(myList)\n",
        "print(newSet)\n",
        "print(Set)\n",
        "print(newSet.difference(Set))\n",
        "print(Set.difference(newSet))\n",
        "\n",
        "# Discard\n",
        "Set.discard(100)\n",
        "print(Set)\n",
        "copySet = newSet.copy()\n",
        "copySet.discard(100)\n",
        "print(copySet)\n",
        "\n",
        "# Difference_update\n",
        "print('--------------')\n",
        "Set.add(99)\n",
        "newSet.add(99)\n",
        "print(Set)\n",
        "print(newSet)\n",
        "print(newSet.difference_update(Set))\n",
        "print(newSet)\n",
        "newSet.add(3)\n",
        "print(Set.difference_update(newSet))\n",
        "print(Set)\n",
        "\n",
        "# Intersection\n",
        "A = {1, 2, 3, 4, 5}\n",
        "B = {3, 4, 5, 6}\n",
        "print(A.intersection(B))\n",
        "\n",
        "# Union\n",
        "print(A.union(B))\n",
        "\n",
        "# IsDisjoint\n",
        "print(A.isdisjoint(B))\n",
        "\n",
        "# Subset\n",
        "print(A.issubset(B))\n",
        "print(B.issubset(A))\n",
        "\n",
        "# Superset\n",
        "print(A.issuperset(B))\n",
        "print(B.issuperset(A))"
      ],
      "metadata": {
        "colab": {
          "base_uri": "https://localhost:8080/"
        },
        "id": "7o9pp07Jykta",
        "outputId": "a851daff-aa5c-46b7-e8b5-0b3e5c21a9a9"
      },
      "execution_count": null,
      "outputs": [
        {
          "output_type": "stream",
          "name": "stdout",
          "text": [
            "{1, 2, 3, 4, 5, 100}\n",
            "{1, 2, 3, 4}\n",
            "{100, 5}\n",
            "set()\n",
            "{1, 2, 3, 4}\n",
            "{1, 2, 3, 4, 5}\n",
            "--------------\n",
            "{1, 2, 99, 3, 4}\n",
            "{1, 2, 3, 4, 5, 100, 99}\n",
            "None\n",
            "{100, 5}\n",
            "None\n",
            "{1, 2, 99, 4}\n",
            "{3, 4, 5}\n",
            "{1, 2, 3, 4, 5, 6}\n",
            "False\n",
            "False\n",
            "False\n",
            "False\n",
            "False\n"
          ]
        }
      ]
    },
    {
      "cell_type": "markdown",
      "source": [
        "**Conditional Logic**"
      ],
      "metadata": {
        "id": "InajxeIaYgkk"
      }
    },
    {
      "cell_type": "code",
      "source": [
        "Age = int(input(\"Enter your Age: \"))\n",
        "if Age >= 18:   # Age >= 18 is true (boolean)\n",
        "  print('you are old enough to drink & drive')\n",
        "elif Age >= 16:\n",
        "  print(\"you are old enough to drive but you can't drink\")\n",
        "else:  # in case Age >= 18 is false (boolean)\n",
        "  print('come back when you are 18')\n",
        "\n",
        "# elif part gets executed iff the if part is false & same goes with the else part and so forth\n",
        "# Always try to avoid Indentation errors in Python"
      ],
      "metadata": {
        "colab": {
          "base_uri": "https://localhost:8080/"
        },
        "id": "6aBvukaKYjtY",
        "outputId": "5dc26a3b-7cc9-4926-fefc-1cc561ab0070"
      },
      "execution_count": null,
      "outputs": [
        {
          "output_type": "stream",
          "name": "stdout",
          "text": [
            "Enter your Age: 17\n",
            "you are old enough to drive but you can't drink\n"
          ]
        }
      ]
    },
    {
      "cell_type": "code",
      "source": [
        "bool = True\n",
        "\n",
        "if bool:  # Or bool == True\n",
        "  print('run!')\n",
        "else:\n",
        "  print('walk!!')\n",
        "\n",
        "# Google Truthy and Falsy"
      ],
      "metadata": {
        "colab": {
          "base_uri": "https://localhost:8080/"
        },
        "id": "BsdXyrRwbooa",
        "outputId": "e1268ab6-b3c2-459e-d561-b626e0bfde02"
      },
      "execution_count": null,
      "outputs": [
        {
          "output_type": "stream",
          "name": "stdout",
          "text": [
            "run!\n"
          ]
        }
      ]
    },
    {
      "cell_type": "code",
      "source": [
        "# Ternary Operator\n",
        "num = int(input(\"Num: \"))\n",
        "a = num if num > 5 else 'error'\n",
        "print(a)\n",
        "message = 'Hello'\n",
        "msg = message if message == 'Hello' else 'Word not found'\n",
        "print(msg)\n",
        "\n",
        "# Short Circuiting\n",
        "flag = True\n",
        "bool = False\n",
        "\n",
        "if flag and bool:  # or and operators (kind of)\n",
        "  print('Hii')"
      ],
      "metadata": {
        "colab": {
          "base_uri": "https://localhost:8080/"
        },
        "id": "clhJIzofclVs",
        "outputId": "943a5136-0632-4f2b-edf5-a03fc1fe1a65"
      },
      "execution_count": null,
      "outputs": [
        {
          "output_type": "stream",
          "name": "stdout",
          "text": [
            "Num: 4\n",
            "error\n",
            "Hello\n"
          ]
        }
      ]
    },
    {
      "cell_type": "markdown",
      "source": [
        "**Logical Operators**"
      ],
      "metadata": {
        "id": "fyMDXNDOfLnB"
      }
    },
    {
      "cell_type": "code",
      "source": [
        "print(3>5)\n",
        "print(3==5)\n",
        "print('a' > 'A')\n",
        "print('b'>'A')  # Upper case letters are less prioritized\n",
        "print(1==1)\n",
        "print(not(1==1)) # or !(1==1)"
      ],
      "metadata": {
        "colab": {
          "base_uri": "https://localhost:8080/"
        },
        "id": "1ySwoioWfO_N",
        "outputId": "c728cbc7-4771-48f6-a05f-f344ca9ce026"
      },
      "execution_count": null,
      "outputs": [
        {
          "output_type": "stream",
          "name": "stdout",
          "text": [
            "False\n",
            "False\n",
            "True\n",
            "True\n",
            "True\n",
            "False\n"
          ]
        }
      ]
    },
    {
      "cell_type": "code",
      "source": [
        "# Exercise\n",
        "isMagician = False\n",
        "isSorcerer = True\n",
        "\n",
        "if isMagician and isSorcerer:\n",
        "  print(\"You are Dr. Strange! Holy Fu...\")\n",
        "elif isSorcerer and not isMagician:\n",
        "  print('You are Wong! Sh*t...')\n",
        "elif not isSorcerer and not isMagician:\n",
        "  print('''I'm Batman''')\n",
        "\n",
        "print(True == 1)\n",
        "print('' == 1)\n",
        "print([] == 1)\n",
        "print(10 == 10.0) # Python converts the type and compares in case of an int or double\n",
        "print([] == [])\n",
        "print('1' == 1)\n",
        "\n",
        "print('---------------------------')\n",
        "\n",
        "\n",
        "print(True is 1)\n",
        "print('' is 1)\n",
        "print([] is 1)\n",
        "print(10 is 10.0)\n",
        "print([] is [])  # False because it's a Data Structure, they are created in a diff memory space\n",
        "print('1' is 1)\n",
        "print('----------------------------')"
      ],
      "metadata": {
        "colab": {
          "base_uri": "https://localhost:8080/"
        },
        "id": "2SKULW7phRl9",
        "outputId": "126c5834-eacc-4898-cd12-c22e94ba68e6"
      },
      "execution_count": null,
      "outputs": [
        {
          "output_type": "stream",
          "name": "stdout",
          "text": [
            "You are Wong! Sh*t...\n",
            "True\n",
            "False\n",
            "False\n",
            "True\n",
            "True\n",
            "False\n",
            "---------------------------\n",
            "False\n",
            "False\n",
            "False\n",
            "False\n",
            "False\n",
            "False\n",
            "----------------------------\n"
          ]
        },
        {
          "output_type": "stream",
          "name": "stderr",
          "text": [
            "<>:22: SyntaxWarning: \"is\" with a literal. Did you mean \"==\"?\n",
            "<>:23: SyntaxWarning: \"is\" with a literal. Did you mean \"==\"?\n",
            "<>:24: SyntaxWarning: \"is\" with a literal. Did you mean \"==\"?\n",
            "<>:25: SyntaxWarning: \"is\" with a literal. Did you mean \"==\"?\n",
            "<>:27: SyntaxWarning: \"is\" with a literal. Did you mean \"==\"?\n",
            "<>:22: SyntaxWarning: \"is\" with a literal. Did you mean \"==\"?\n",
            "<>:23: SyntaxWarning: \"is\" with a literal. Did you mean \"==\"?\n",
            "<>:24: SyntaxWarning: \"is\" with a literal. Did you mean \"==\"?\n",
            "<>:25: SyntaxWarning: \"is\" with a literal. Did you mean \"==\"?\n",
            "<>:27: SyntaxWarning: \"is\" with a literal. Did you mean \"==\"?\n",
            "<ipython-input-6-2b559d5dd016>:22: SyntaxWarning: \"is\" with a literal. Did you mean \"==\"?\n",
            "  print(True is 1)\n",
            "<ipython-input-6-2b559d5dd016>:23: SyntaxWarning: \"is\" with a literal. Did you mean \"==\"?\n",
            "  print('' is 1)\n",
            "<ipython-input-6-2b559d5dd016>:24: SyntaxWarning: \"is\" with a literal. Did you mean \"==\"?\n",
            "  print([] is 1)\n",
            "<ipython-input-6-2b559d5dd016>:25: SyntaxWarning: \"is\" with a literal. Did you mean \"==\"?\n",
            "  print(10 is 10.0)\n",
            "<ipython-input-6-2b559d5dd016>:27: SyntaxWarning: \"is\" with a literal. Did you mean \"==\"?\n",
            "  print('1' is 1)\n"
          ]
        }
      ]
    },
    {
      "cell_type": "markdown",
      "source": [
        "**Loops**"
      ],
      "metadata": {
        "id": "-KTHwO8yk8ev"
      }
    },
    {
      "cell_type": "code",
      "source": [
        "items = ['Potato', 'Dal', 'Idly Rava', 'Mint Leaves', 'Spinach']\n",
        "\n",
        "for item in items:\n",
        "  print(item)\n",
        "\n",
        "items = ('Potato', 'Dal', 'Idly Rava', 'Mint Leaves', 'Spinach')\n",
        "i = 0\n",
        "for item in items:\n",
        "  print(item, i)\n",
        "  i += 1\n",
        "\n",
        "print('-------------------')\n",
        "# iterable - lists, dictionaries, tuple, set, string\n",
        "\n",
        "# iterations in dictionaries (important)\n",
        "user = {\n",
        "    'name': 'Ben',\n",
        "    'age': 10,\n",
        "    'canSwim': False\n",
        "}\n",
        "\n",
        "for item in user.items():\n",
        "  print(item) # prints tuples\n",
        "\n",
        "for item in user.values():\n",
        "  print(item)\n",
        "\n",
        "for item in user.keys():\n",
        "  print(item)\n",
        "\n",
        "for key, value in user.items():\n",
        "  # key, value = item;\n",
        "  print(key, value) # seperate the key and values\n",
        "\n",
        "# for item in 50:\n",
        "#  print(item) Not iterable"
      ],
      "metadata": {
        "colab": {
          "base_uri": "https://localhost:8080/"
        },
        "id": "8XSZy0Ekk-Y5",
        "outputId": "6e71d0f5-2631-4422-98d2-f28b9813d480"
      },
      "execution_count": null,
      "outputs": [
        {
          "output_type": "stream",
          "name": "stdout",
          "text": [
            "Potato\n",
            "Dal\n",
            "Idly Rava\n",
            "Mint Leaves\n",
            "Spinach\n",
            "Potato 0\n",
            "Dal 1\n",
            "Idly Rava 2\n",
            "Mint Leaves 3\n",
            "Spinach 4\n",
            "-------------------\n",
            "('name', 'Ben')\n",
            "('age', 10)\n",
            "('canSwim', False)\n",
            "Ben\n",
            "10\n",
            "False\n",
            "name\n",
            "age\n",
            "canSwim\n",
            "name Ben\n",
            "age 10\n",
            "canSwim False\n"
          ]
        }
      ]
    },
    {
      "cell_type": "code",
      "source": [
        "# Exercise\n",
        "MyList = [1,2,3,4,5,6,7,8,9,10]\n",
        "sum = 0\n",
        "\n",
        "for i in MyList:\n",
        "  sum += i\n",
        "print(sum)"
      ],
      "metadata": {
        "colab": {
          "base_uri": "https://localhost:8080/"
        },
        "id": "oPLX5r-VvNIx",
        "outputId": "8bf6138f-ffb2-4733-e0f2-7e3e9eff01f4"
      },
      "execution_count": null,
      "outputs": [
        {
          "output_type": "stream",
          "name": "stdout",
          "text": [
            "55\n"
          ]
        }
      ]
    },
    {
      "cell_type": "markdown",
      "source": [
        "**Range()**"
      ],
      "metadata": {
        "id": "Lfh_Wxriv2wt"
      }
    },
    {
      "cell_type": "code",
      "source": [
        "print(list(range(10)))\n",
        "\n",
        "for num in range(10):\n",
        "  print(num)\n",
        "\n",
        "for _ in range(10):\n",
        "  print('sending message')\n",
        "\n",
        "for i in range(10, 0, -2):\n",
        "  print(i)"
      ],
      "metadata": {
        "colab": {
          "base_uri": "https://localhost:8080/"
        },
        "id": "WRumUn7zv4lT",
        "outputId": "b4035c2e-f5c7-4fe4-c53d-2fcb83d4778e"
      },
      "execution_count": null,
      "outputs": [
        {
          "output_type": "stream",
          "name": "stdout",
          "text": [
            "[0, 1, 2, 3, 4, 5, 6, 7, 8, 9]\n",
            "0\n",
            "1\n",
            "2\n",
            "3\n",
            "4\n",
            "5\n",
            "6\n",
            "7\n",
            "8\n",
            "9\n",
            "sending message\n",
            "sending message\n",
            "sending message\n",
            "sending message\n",
            "sending message\n",
            "sending message\n",
            "sending message\n",
            "sending message\n",
            "sending message\n",
            "sending message\n",
            "10\n",
            "8\n",
            "6\n",
            "4\n",
            "2\n"
          ]
        }
      ]
    },
    {
      "cell_type": "markdown",
      "source": [
        "**Enumeration**"
      ],
      "metadata": {
        "id": "1xWl5ZmPw3vY"
      }
    },
    {
      "cell_type": "code",
      "source": [
        "for i, char in enumerate('Hello'):\n",
        "  print (i, char)\n",
        "\n",
        "for i, j in enumerate(list(range(1,10))):\n",
        "  if j == 5:\n",
        "    print(i)"
      ],
      "metadata": {
        "colab": {
          "base_uri": "https://localhost:8080/"
        },
        "id": "KVcD7hmmw59b",
        "outputId": "769c8e72-a80a-48ee-aa4e-aa72b8357457"
      },
      "execution_count": null,
      "outputs": [
        {
          "output_type": "stream",
          "name": "stdout",
          "text": [
            "0 H\n",
            "1 e\n",
            "2 l\n",
            "3 l\n",
            "4 o\n",
            "4\n"
          ]
        }
      ]
    },
    {
      "cell_type": "code",
      "source": [
        "# While Loops\n",
        "i = 0\n",
        "while i < 10:\n",
        "  print(i)\n",
        "  i += 1\n",
        "  if i == 5:\n",
        "    break\n",
        "\n",
        "R = [1,2,3]\n",
        "i = 0\n",
        "while True:\n",
        "  print(R[i])\n",
        "  i += 1\n",
        "  if (i == len(R)):\n",
        "    break\n",
        "\n",
        "# Break, Continue, Pass"
      ],
      "metadata": {
        "colab": {
          "base_uri": "https://localhost:8080/"
        },
        "id": "c7_FhxGPZFbz",
        "outputId": "9e80982b-99dd-458c-943c-54447bacf0c5"
      },
      "execution_count": null,
      "outputs": [
        {
          "output_type": "stream",
          "name": "stdout",
          "text": [
            "0\n",
            "1\n",
            "2\n",
            "3\n",
            "4\n",
            "1\n",
            "2\n",
            "3\n"
          ]
        }
      ]
    },
    {
      "cell_type": "code",
      "source": [
        "# Exercise\n",
        "picture = [\n",
        "    [0,0,0,1,0,0,0],\n",
        "    [0,0,1,1,1,0,0],\n",
        "    [0,1,1,1,1,1,0],\n",
        "    [1,1,1,1,1,1,1],\n",
        "    [0,0,0,1,0,0,0],\n",
        "    [0,0,0,1,0,0,0]\n",
        "]\n",
        "\n",
        "for r in range(len(picture)):\n",
        "  for c in range(len(picture[0])):\n",
        "    if picture[r][c] == 1:\n",
        "      print('*', end='')\n",
        "    else:\n",
        "      print(' ', end='')\n",
        "  print('')"
      ],
      "metadata": {
        "colab": {
          "base_uri": "https://localhost:8080/"
        },
        "id": "EtdfTmHBdftz",
        "outputId": "88c521fd-0d92-4df1-b6dc-3153dc3bb082"
      },
      "execution_count": null,
      "outputs": [
        {
          "output_type": "stream",
          "name": "stdout",
          "text": [
            "   *   \n",
            "  ***  \n",
            " ***** \n",
            "*******\n",
            "   *   \n",
            "   *   \n"
          ]
        }
      ]
    },
    {
      "cell_type": "markdown",
      "source": [
        "**Rules**"
      ],
      "metadata": {
        "id": "mBGtkLEIm9CA"
      }
    },
    {
      "cell_type": "code",
      "source": [
        "# Your code must be:\n",
        "# clean\n",
        "# readable\n",
        "# predictablr\n",
        "# DRY (Do not Repeat Yourself)"
      ],
      "metadata": {
        "id": "wyPd9xsGnBa3"
      },
      "execution_count": null,
      "outputs": []
    },
    {
      "cell_type": "code",
      "source": [
        "# Exercise\n",
        "some_list = ['a', 'b', 'c', 'b', 'd', 'm', 'n', 'n']\n",
        "\n",
        "# Set Method\n",
        "Set = set(some_list)\n",
        "if len(some_list) != len(Set):\n",
        "  print('Duplicates Found!')\n",
        "else:\n",
        "  print('No Duplicates Found!')\n",
        "\n",
        "duplicates = []\n",
        "for value in Set:\n",
        "  if some_list.count(value) > 1:\n",
        "    duplicates.append(value)\n",
        "\n",
        "print(duplicates)\n",
        "\n",
        "# Loops Approach\n",
        "duplicates = []\n",
        "for i in range(len(some_list)):\n",
        "  for j in range(i + 1, len(some_list)):\n",
        "    if some_list[i] == some_list[j]:\n",
        "      duplicates.append(some_list[j])\n",
        "\n",
        "print(duplicates)\n",
        "\n",
        "# Count Approach\n",
        "duplicates = []\n",
        "for value in some_list:\n",
        "  if some_list.count(value) > 1:\n",
        "    if value not in duplicates:\n",
        "      duplicates.append(value)\n",
        "print(duplicates)"
      ],
      "metadata": {
        "colab": {
          "base_uri": "https://localhost:8080/"
        },
        "id": "QmTo05DXn7zo",
        "outputId": "4b4a3a11-9e06-4d6c-fa41-e890a5cde129"
      },
      "execution_count": null,
      "outputs": [
        {
          "output_type": "stream",
          "name": "stdout",
          "text": [
            "Duplicates Found!\n",
            "['b', 'n']\n",
            "['b', 'n']\n",
            "['b', 'n']\n"
          ]
        }
      ]
    },
    {
      "cell_type": "markdown",
      "source": [
        "****Functions****"
      ],
      "metadata": {
        "id": "MaiCx0fkux_a"
      }
    },
    {
      "cell_type": "code",
      "source": [
        "def say_hello(n):\n",
        "  for i in range(n):\n",
        "    print('hello world')\n",
        "\n",
        "say_hello(1)\n",
        "\n",
        "def tree():\n",
        "  for r in range(len(picture)):\n",
        "    for c in range(len(picture[0])):\n",
        "      if picture[r][c] == 1:\n",
        "        print('*', end='')\n",
        "      else:\n",
        "        print(' ', end='')\n",
        "    print('')\n",
        "\n",
        "tree()"
      ],
      "metadata": {
        "colab": {
          "base_uri": "https://localhost:8080/"
        },
        "id": "lA_S1XBCu1pC",
        "outputId": "2033b24f-f95c-4468-fd80-d726999b5392"
      },
      "execution_count": null,
      "outputs": [
        {
          "output_type": "stream",
          "name": "stdout",
          "text": [
            "hello world\n",
            "   *   \n",
            "  ***  \n",
            " ***** \n",
            "*******\n",
            "   *   \n",
            "   *   \n"
          ]
        }
      ]
    },
    {
      "cell_type": "markdown",
      "source": [
        "**Arguments Vs Parameters**"
      ],
      "metadata": {
        "id": "zsXrV_0TxBLf"
      }
    },
    {
      "cell_type": "code",
      "source": [
        "# Parameters\n",
        "# Default Parameters\n",
        "def sayHello(name = 'Peter Parker', emoji = '🕸️'):\n",
        "  print(f'Hello {name} {emoji}')\n",
        "\n",
        "# Arguments\n",
        "sayHello('Emily', '🤓')\n",
        "\n",
        "# Positional Arguments\n",
        "sayHello('🤓', 'Emily')\n",
        "\n",
        "# Keyword Arguments\n",
        "sayHello(emoji = '🤓', name = 'Emily')\n",
        "sayHello()\n",
        "sayHello('Emily')"
      ],
      "metadata": {
        "colab": {
          "base_uri": "https://localhost:8080/"
        },
        "id": "cIxcWV4fxF-F",
        "outputId": "a0af81be-b78d-4569-a26b-5a0fd8bd8103"
      },
      "execution_count": null,
      "outputs": [
        {
          "output_type": "stream",
          "name": "stdout",
          "text": [
            "Hello Emily 🤓\n",
            "Hello 🤓 Emily\n",
            "Hello Emily 🤓\n",
            "Hello Peter Parker 🕸️\n",
            "Hello Emily 🕸️\n"
          ]
        }
      ]
    },
    {
      "cell_type": "markdown",
      "source": [
        "**Return**"
      ],
      "metadata": {
        "id": "sJqEkrG9yyQN"
      }
    },
    {
      "cell_type": "code",
      "source": [
        "def add(num1, num2):\n",
        "  return num1 + num2\n",
        "\n",
        "print(add(3, 8))\n",
        "\n",
        "total = add(3, 8)\n",
        "print(add(9, total))"
      ],
      "metadata": {
        "colab": {
          "base_uri": "https://localhost:8080/"
        },
        "id": "c2L0kJ71yz7q",
        "outputId": "d1551192-b30c-43fa-bf6b-de7e70bc0935"
      },
      "execution_count": null,
      "outputs": [
        {
          "output_type": "stream",
          "name": "stdout",
          "text": [
            "11\n",
            "20\n"
          ]
        }
      ]
    },
    {
      "cell_type": "markdown",
      "source": [
        "**Methods Vs Functions**"
      ],
      "metadata": {
        "id": "2rGD2vlHCw19"
      }
    },
    {
      "cell_type": "code",
      "source": [
        "# list()\n",
        "# print()\n",
        "# max()\n",
        "# min()\n",
        "# input()\n",
        "\n",
        "def some_random_stuff():\n",
        "  pass\n",
        "\n",
        "some_random_stuff()\n",
        "\n",
        "'hello'.capitalize()\n",
        "\n",
        "def test(a):\n",
        "  '''\n",
        "  Info: This func tests and prints parameter a\n",
        "  '''\n",
        "  print(a)\n",
        "\n",
        "test('!!!')\n",
        "test('Nice')\n",
        "help(test)\n",
        "print(test.__doc__)"
      ],
      "metadata": {
        "colab": {
          "base_uri": "https://localhost:8080/"
        },
        "id": "t_LvYGDOC2nv",
        "outputId": "73b4f50c-04a9-4b3a-b9bc-ac1ed6ac67af"
      },
      "execution_count": null,
      "outputs": [
        {
          "output_type": "stream",
          "name": "stdout",
          "text": [
            "!!!\n",
            "Nice\n",
            "Help on function test in module __main__:\n",
            "\n",
            "test(a)\n",
            "    Info: This func tests and prints parameter a\n",
            "\n",
            "\n",
            "  Info: This func tests and prints parameter a\n",
            "  \n"
          ]
        }
      ]
    },
    {
      "cell_type": "markdown",
      "source": [
        "**Clean Code**"
      ],
      "metadata": {
        "id": "w1PonMeqJGqW"
      }
    },
    {
      "cell_type": "code",
      "source": [
        "def isEven(num):\n",
        "  return num % 2 == 0\n",
        "\n",
        "print(isEven(5))\n",
        "\n",
        "# *args **kwargs\n",
        "def super_func(*args, **kwargs):\n",
        "  print(args)\n",
        "  print(kwargs)\n",
        "\n",
        "super_func(1,2,3,4,5)\n",
        "super_func(num1=5,num2=10)"
      ],
      "metadata": {
        "colab": {
          "base_uri": "https://localhost:8080/"
        },
        "id": "tbTBE44nSuv9",
        "outputId": "24fd5d1a-d5ec-48f6-b08e-b647b80476cf"
      },
      "execution_count": null,
      "outputs": [
        {
          "output_type": "stream",
          "name": "stdout",
          "text": [
            "False\n",
            "(1, 2, 3, 4, 5)\n",
            "{}\n",
            "()\n",
            "{'num1': 5, 'num2': 10}\n"
          ]
        }
      ]
    },
    {
      "cell_type": "code",
      "source": [
        "# Exercise\n",
        "def highestEven(li):\n",
        "  highValue = 0\n",
        "  for i in range(len(li)):\n",
        "    for j in range(i+1, len(li)):\n",
        "      if li[i] % 2 == 0:\n",
        "        if li[i] > li[j]:\n",
        "          highValue = li[i]\n",
        "        else:\n",
        "          highValue = li[j]\n",
        "  return highValue\n",
        "\n",
        "print(highestEven([10,15,8,5,3,16]))\n",
        "\n",
        "# Alternate Approach\n",
        "def highestEven(arr):\n",
        "  highValue = 0\n",
        "  evens = []\n",
        "  for item in arr:\n",
        "    evens.append(item)\n",
        "  return max(evens)\n",
        "\n",
        "print(highestEven([10,15,8,5,3,16]))"
      ],
      "metadata": {
        "colab": {
          "base_uri": "https://localhost:8080/"
        },
        "id": "yWhidNRKVBpy",
        "outputId": "6ab395d0-132b-4f14-ff4e-342e700f2415"
      },
      "execution_count": null,
      "outputs": [
        {
          "output_type": "stream",
          "name": "stdout",
          "text": [
            "16\n",
            "16\n"
          ]
        }
      ]
    },
    {
      "cell_type": "markdown",
      "source": [
        "**Scope**"
      ],
      "metadata": {
        "id": "vyuOBhoGYQ1y"
      }
    },
    {
      "cell_type": "code",
      "source": [
        "# Scope - what var do i have access to?\n",
        "def some_func():\n",
        "  tot = 100\n",
        "\n",
        "# print(tot) will throw an error because it's only valuable to def scope (like a world or block of code)\n",
        "\n",
        "a = 1 # global scope\n",
        "\n",
        "def confuse():\n",
        "  #a = 5 local scope\n",
        "  return a\n",
        "\n",
        "print(a)\n",
        "print(confuse())\n",
        "\n",
        "# Scope Rules\n",
        "#1 - start with local\n",
        "#2 - parent local\n",
        "#3 - global\n",
        "#4 - built in python functions.\n",
        "\n",
        "# accessing var outside the scope\n",
        "total = 0\n",
        "def count():  # not a best practice\n",
        "  global total  # ignoring this line would throw an error\n",
        "  total += 1\n",
        "  return total\n",
        "\n",
        "count()\n",
        "print(count())\n",
        "\n",
        "# alternate method\n",
        "def count(total):\n",
        "  total += 1\n",
        "  return total\n",
        "\n",
        "print(count(count(count(total))))"
      ],
      "metadata": {
        "colab": {
          "base_uri": "https://localhost:8080/"
        },
        "id": "AHPx46tMYS2W",
        "outputId": "2c2b7d99-b402-44d6-a809-96f0f962f467"
      },
      "execution_count": null,
      "outputs": [
        {
          "output_type": "stream",
          "name": "stdout",
          "text": [
            "1\n",
            "1\n",
            "2\n",
            "5\n"
          ]
        }
      ]
    },
    {
      "cell_type": "code",
      "source": [
        "# nonlocal keyword (new python feature)\n",
        "def outer():\n",
        "  x = 'local'\n",
        "  def inner():\n",
        "    nonlocal x\n",
        "    x = 'nonlocal'\n",
        "    print('inner: ', x)\n",
        "\n",
        "  inner()\n",
        "  print('outer: ', x)\n",
        "\n",
        "outer()"
      ],
      "metadata": {
        "colab": {
          "base_uri": "https://localhost:8080/"
        },
        "id": "gbLKibc7qBIL",
        "outputId": "b7a0d946-434f-4345-f9f4-f0abbfed71b1"
      },
      "execution_count": null,
      "outputs": [
        {
          "output_type": "stream",
          "name": "stdout",
          "text": [
            "inner:  nonlocal\n",
            "outer:  nonlocal\n"
          ]
        }
      ]
    },
    {
      "cell_type": "markdown",
      "source": [
        "**Common Functions**"
      ],
      "metadata": {
        "id": "XtgqanUzLT_K"
      }
    },
    {
      "cell_type": "code",
      "source": [
        "# map, filter, zip, reduce\n",
        "def multiply(item): # clean code\n",
        "  # newList = []\n",
        "  return (item*2)\n",
        "\n",
        "print(list(map(multiply, [1,2,3])))\n",
        "\n",
        "def isOdd(item):\n",
        "  return item % 2 != 0\n",
        "\n",
        "print(list(filter(isOdd, [1,2,3])))\n",
        "\n",
        "myList = [1,2,3]\n",
        "yourList = [10, 20, 30]\n",
        "theirList = [100, 200, 300]\n",
        "print(list(zip(myList, yourList, theirList)))\n",
        "\n",
        "from functools import reduce\n",
        "def accumulator(acc, item):\n",
        "  print(acc, item)\n",
        "  return acc + item\n",
        "print(reduce(accumulator, myList, 10))\n"
      ],
      "metadata": {
        "colab": {
          "base_uri": "https://localhost:8080/"
        },
        "id": "eCSBSWr9LXY6",
        "outputId": "11f8f672-69b2-49f3-da4d-19ffeb0caa69"
      },
      "execution_count": null,
      "outputs": [
        {
          "output_type": "stream",
          "name": "stdout",
          "text": [
            "[2, 4, 6]\n",
            "[1, 3]\n",
            "[(1, 10, 100), (2, 20, 200), (3, 30, 300)]\n",
            "10 1\n",
            "11 2\n",
            "13 3\n",
            "16\n"
          ]
        }
      ]
    },
    {
      "cell_type": "markdown",
      "source": [
        "**List Comprehensions**"
      ],
      "metadata": {
        "id": "Mbd0VHL2tA4f"
      }
    },
    {
      "cell_type": "code",
      "source": [
        "myList = [char for char in 'hello']\n",
        "myList"
      ],
      "metadata": {
        "colab": {
          "base_uri": "https://localhost:8080/"
        },
        "id": "GFM-CStIsb1r",
        "outputId": "3bdf13cf-5aeb-4f86-9f8e-867b8516fc1b"
      },
      "execution_count": null,
      "outputs": [
        {
          "output_type": "execute_result",
          "data": {
            "text/plain": [
              "['h', 'e', 'l', 'l', 'o']"
            ]
          },
          "metadata": {},
          "execution_count": 26
        }
      ]
    },
    {
      "cell_type": "code",
      "source": [
        "myList = [num for num in range(5)]\n",
        "myList"
      ],
      "metadata": {
        "colab": {
          "base_uri": "https://localhost:8080/"
        },
        "id": "q2z2FOhcslpj",
        "outputId": "ccc0110f-8f18-406e-bb72-233cd57b6c32"
      },
      "execution_count": null,
      "outputs": [
        {
          "output_type": "execute_result",
          "data": {
            "text/plain": [
              "[0, 1, 2, 3, 4]"
            ]
          },
          "metadata": {},
          "execution_count": 27
        }
      ]
    },
    {
      "cell_type": "code",
      "source": [
        "myList = [num*2 for num in range(5)]\n",
        "myList"
      ],
      "metadata": {
        "colab": {
          "base_uri": "https://localhost:8080/"
        },
        "id": "5BppaFjds127",
        "outputId": "b8716ff9-9490-45a1-fa8c-ff3d12c6aab7"
      },
      "execution_count": null,
      "outputs": [
        {
          "output_type": "execute_result",
          "data": {
            "text/plain": [
              "[0, 2, 4, 6, 8]"
            ]
          },
          "metadata": {},
          "execution_count": 28
        }
      ]
    },
    {
      "cell_type": "code",
      "source": [
        "myList = [num**2 for num in range(20) if num % 2 == 0]\n",
        "myList\n",
        "\n",
        "# Same goes for Set Comprehensions"
      ],
      "metadata": {
        "colab": {
          "base_uri": "https://localhost:8080/"
        },
        "id": "_W70VG4ls_iP",
        "outputId": "ce79b104-c6c3-45e3-d024-c39984c74dee"
      },
      "execution_count": null,
      "outputs": [
        {
          "output_type": "execute_result",
          "data": {
            "text/plain": [
              "[0, 4, 16, 36, 64, 100, 144, 196, 256, 324]"
            ]
          },
          "metadata": {},
          "execution_count": 29
        }
      ]
    },
    {
      "cell_type": "markdown",
      "source": [
        "**Dict Comprehensions**"
      ],
      "metadata": {
        "id": "tjfEAvE0ubTS"
      }
    },
    {
      "cell_type": "code",
      "source": [
        "simpleDict = {\n",
        "    'a' : 1,\n",
        "    'b' : 2\n",
        "}\n",
        "myDict = {key: value**2 for key, value in simpleDict.items()}\n",
        "print(myDict)\n",
        "\n",
        "Dict = {num: num*2 for num in [1,2,3]}\n",
        "print(Dict)"
      ],
      "metadata": {
        "colab": {
          "base_uri": "https://localhost:8080/"
        },
        "id": "DZIGBPD5ufxm",
        "outputId": "a02c2323-7e25-479a-856b-ed3766a23e52"
      },
      "execution_count": null,
      "outputs": [
        {
          "output_type": "stream",
          "name": "stdout",
          "text": [
            "{'a': 1, 'b': 4}\n",
            "{1: 2, 2: 4, 3: 6}\n"
          ]
        }
      ]
    },
    {
      "cell_type": "code",
      "source": [
        "# Exercise\n",
        "someList = ['a', 'b', 'c', 'b', 'd', 'm', 'n', 'n']\n",
        "\n",
        "duplicates = list({char for char in someList if someList.count(char) > 1})\n",
        "duplicates"
      ],
      "metadata": {
        "colab": {
          "base_uri": "https://localhost:8080/"
        },
        "id": "rxOrFqqBw4TA",
        "outputId": "d0b41cc5-8541-40e0-ba69-6dc4ccc5cc83"
      },
      "execution_count": null,
      "outputs": [
        {
          "output_type": "execute_result",
          "data": {
            "text/plain": [
              "['n', 'b']"
            ]
          },
          "metadata": {},
          "execution_count": 32
        }
      ]
    },
    {
      "cell_type": "code",
      "source": [
        "# Walrus Operator\n",
        "a = 'helloooooooooooo'\n",
        "if (n := len(a)) > 10:\n",
        "    print(f\"List is too long ({n} elements, expected <= 10)\")\n",
        "\n",
        "while (n := len(a)) > 1:\n",
        "  print(n)\n",
        "  a = a[:-1]\n",
        "  print(a)\n",
        "\n",
        "print(a)"
      ],
      "metadata": {
        "colab": {
          "base_uri": "https://localhost:8080/"
        },
        "id": "ciSrWQLxs32i",
        "outputId": "93579a6f-bf28-4626-cb67-66493c4697a3"
      },
      "execution_count": null,
      "outputs": [
        {
          "output_type": "stream",
          "name": "stdout",
          "text": [
            "List is too long (16 elements, expected <= 10)\n",
            "16\n",
            "hellooooooooooo\n",
            "15\n",
            "helloooooooooo\n",
            "14\n",
            "hellooooooooo\n",
            "13\n",
            "helloooooooo\n",
            "12\n",
            "hellooooooo\n",
            "11\n",
            "helloooooo\n",
            "10\n",
            "hellooooo\n",
            "9\n",
            "helloooo\n",
            "8\n",
            "hellooo\n",
            "7\n",
            "helloo\n",
            "6\n",
            "hello\n",
            "5\n",
            "hell\n",
            "4\n",
            "hel\n",
            "3\n",
            "he\n",
            "2\n",
            "h\n",
            "h\n"
          ]
        }
      ]
    }
  ]
}