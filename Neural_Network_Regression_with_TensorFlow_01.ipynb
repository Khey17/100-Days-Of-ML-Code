{
  "nbformat": 4,
  "nbformat_minor": 0,
  "metadata": {
    "colab": {
      "provenance": [],
      "mount_file_id": "1bl9RBNdCbgTI8DRCQGLT71YbqmsSDOly",
      "authorship_tag": "ABX9TyO4KIRxH58vR9Y2CIDILJ4c",
      "include_colab_link": true
    },
    "kernelspec": {
      "name": "python3",
      "display_name": "Python 3"
    },
    "language_info": {
      "name": "python"
    }
  },
  "cells": [
    {
      "cell_type": "markdown",
      "metadata": {
        "id": "view-in-github",
        "colab_type": "text"
      },
      "source": [
        "<a href=\"https://colab.research.google.com/github/Khey17/100-Days-Of-ML-Code/blob/main/Neural_Network_Regression_with_TensorFlow_01.ipynb\" target=\"_parent\"><img src=\"https://colab.research.google.com/assets/colab-badge.svg\" alt=\"Open In Colab\"/></a>"
      ]
    },
    {
      "cell_type": "markdown",
      "source": [
        "# Introduction to Regression with Neural Networks in TensorFlow\n",
        "\n",
        "There are many definitions for a regression problem but in our case, we're going to simplify it: predicting a continuous value based on some other combination of variables, even shorter... predicting a number."
      ],
      "metadata": {
        "id": "vvIp9ME4Eg3z"
      }
    },
    {
      "cell_type": "code",
      "source": [
        "# Import TensorFlow\n",
        "import tensorflow as tf\n",
        "print(tf.__version__)"
      ],
      "metadata": {
        "colab": {
          "base_uri": "https://localhost:8080/"
        },
        "id": "JLPb9RlqFNOp",
        "outputId": "f4d2d0b4-9ef5-45dc-fd5b-ee956e2aa6e0"
      },
      "execution_count": 201,
      "outputs": [
        {
          "output_type": "stream",
          "name": "stdout",
          "text": [
            "2.15.0\n"
          ]
        }
      ]
    },
    {
      "cell_type": "markdown",
      "source": [
        "### Creating data to view and fit"
      ],
      "metadata": {
        "id": "Bz98xtVXFTbP"
      }
    },
    {
      "cell_type": "code",
      "source": [
        "import numpy as np\n",
        "import pandas as pd\n",
        "import matplotlib.pyplot as plt\n",
        "\n",
        "# Create features\n",
        "X = np.array([-7.0, -4.0, -1.0, 2.0, 5.0, 8.0, 11.0, 14.0])\n",
        "\n",
        "# Create labels\n",
        "y = np.array([3.0, 6.0, 9.0, 12.0, 15.0, 18.0, 21.0, 24.0])\n",
        "\n",
        "# Visualize it\n",
        "plt.scatter(X, y)"
      ],
      "metadata": {
        "colab": {
          "base_uri": "https://localhost:8080/",
          "height": 452
        },
        "id": "fq2-shCmFYEq",
        "outputId": "23577e59-4884-4841-e001-0e7a1ec65ebc"
      },
      "execution_count": 202,
      "outputs": [
        {
          "output_type": "execute_result",
          "data": {
            "text/plain": [
              "<matplotlib.collections.PathCollection at 0x7b2ff03af160>"
            ]
          },
          "metadata": {},
          "execution_count": 202
        },
        {
          "output_type": "display_data",
          "data": {
            "text/plain": [
              "<Figure size 640x480 with 1 Axes>"
            ],
            "image/png": "[encoded data removed]"
          },
          "metadata": {}
        }
      ]
    },
    {
      "cell_type": "code",
      "source": [
        "# y = X + 10\n",
        "y == X + 10"
      ],
      "metadata": {
        "colab": {
          "base_uri": "https://localhost:8080/"
        },
        "id": "X1m5MZdpFz7P",
        "outputId": "e230070e-4b2d-4482-ec69-0e9cce7ac371"
      },
      "execution_count": 203,
      "outputs": [
        {
          "output_type": "execute_result",
          "data": {
            "text/plain": [
              "array([ True,  True,  True,  True,  True,  True,  True,  True])"
            ]
          },
          "metadata": {},
          "execution_count": 203
        }
      ]
    },
    {
      "cell_type": "markdown",
      "source": [
        "### Input and Output shapes"
      ],
      "metadata": {
        "id": "Rc0XkyXXGMy7"
      }
    },
    {
      "cell_type": "code",
      "source": [
        "# Create a demo tensor for our housing prediction problem\n",
        "house_info = tf.constant(['bedroom', 'bedroom', 'garage'])\n",
        "house_price = tf.constant([939700])\n",
        "house_info, house_price"
      ],
      "metadata": {
        "colab": {
          "base_uri": "https://localhost:8080/"
        },
        "id": "3VQfB8J9GPpB",
        "outputId": "cbb37627-f785-499b-c085-4b7be0a6ea0f"
      },
      "execution_count": 204,
      "outputs": [
        {
          "output_type": "execute_result",
          "data": {
            "text/plain": [
              "(<tf.Tensor: shape=(3,), dtype=string, numpy=array([b'bedroom', b'bedroom', b'garage'], dtype=object)>,\n",
              " <tf.Tensor: shape=(1,), dtype=int32, numpy=array([939700], dtype=int32)>)"
            ]
          },
          "metadata": {},
          "execution_count": 204
        }
      ]
    },
    {
      "cell_type": "code",
      "source": [
        "input_shape = X.shape\n",
        "output_shape = y.shape\n",
        "input_shape, output_shape"
      ],
      "metadata": {
        "colab": {
          "base_uri": "https://localhost:8080/"
        },
        "id": "LPFcIAbAGthK",
        "outputId": "99378d11-2145-45cc-d296-cc060c358755"
      },
      "execution_count": 205,
      "outputs": [
        {
          "output_type": "execute_result",
          "data": {
            "text/plain": [
              "((8,), (8,))"
            ]
          },
          "metadata": {},
          "execution_count": 205
        }
      ]
    },
    {
      "cell_type": "code",
      "source": [
        "X[0].ndim"
      ],
      "metadata": {
        "colab": {
          "base_uri": "https://localhost:8080/"
        },
        "id": "C52imEb6G0pY",
        "outputId": "370f555c-1cd1-4d1a-8156-8910a5eee92e"
      },
      "execution_count": 206,
      "outputs": [
        {
          "output_type": "execute_result",
          "data": {
            "text/plain": [
              "0"
            ]
          },
          "metadata": {},
          "execution_count": 206
        }
      ]
    },
    {
      "cell_type": "code",
      "source": [
        "# Turn our NumPy arrays into tensors\n",
        "X = tf.constant(X)\n",
        "y = tf.constant(y)\n",
        "X, y"
      ],
      "metadata": {
        "colab": {
          "base_uri": "https://localhost:8080/"
        },
        "id": "q0A0573QHXmi",
        "outputId": "39ef6568-19a0-42d5-f264-49460b857df3"
      },
      "execution_count": 207,
      "outputs": [
        {
          "output_type": "execute_result",
          "data": {
            "text/plain": [
              "(<tf.Tensor: shape=(8,), dtype=float64, numpy=array([-7., -4., -1.,  2.,  5.,  8., 11., 14.])>,\n",
              " <tf.Tensor: shape=(8,), dtype=float64, numpy=array([ 3.,  6.,  9., 12., 15., 18., 21., 24.])>)"
            ]
          },
          "metadata": {},
          "execution_count": 207
        }
      ]
    },
    {
      "cell_type": "code",
      "source": [
        "input_shape = X[0].shape\n",
        "output_shape = y[0].shape\n",
        "input_shape, output_shape"
      ],
      "metadata": {
        "colab": {
          "base_uri": "https://localhost:8080/"
        },
        "id": "_o8mhBpsin9v",
        "outputId": "8659c24f-2368-4b78-98b1-30253ae28cbc"
      },
      "execution_count": 208,
      "outputs": [
        {
          "output_type": "execute_result",
          "data": {
            "text/plain": [
              "(TensorShape([]), TensorShape([]))"
            ]
          },
          "metadata": {},
          "execution_count": 208
        }
      ]
    },
    {
      "cell_type": "code",
      "source": [
        "plt.scatter(X, y)"
      ],
      "metadata": {
        "colab": {
          "base_uri": "https://localhost:8080/",
          "height": 452
        },
        "id": "1jAUTEjliu24",
        "outputId": "7a86cc8e-f08d-4902-aa5c-db4056ef9621"
      },
      "execution_count": 209,
      "outputs": [
        {
          "output_type": "execute_result",
          "data": {
            "text/plain": [
              "<matplotlib.collections.PathCollection at 0x7b2ff03dd7e0>"
            ]
          },
          "metadata": {},
          "execution_count": 209
        },
        {
          "output_type": "display_data",
          "data": {
            "text/plain": [
              "<Figure size 640x480 with 1 Axes>"
            ],
            "image/png": "[encoded data removed]"
          },
          "metadata": {}
        }
      ]
    },
    {
      "cell_type": "markdown",
      "source": [
        "### Steps in modelling with TensorFlow\n",
        "\n",
        "1. **Creating a model** - defing the input and output layers, as well as the hidden layers of a deep learning model.\n",
        "2. **Compiling a model** - define the loss function (in other words, the function which tells our model how wrong it is) and the optimizer (tells our model how to improve the patterns its learning) and evaluation metrics (what we can use to interpret the performance of our model).\n",
        "3. **Fitting a model** - letting the model try to find patterns between X & y (features and labels)."
      ],
      "metadata": {
        "id": "LG18OqwSi2kH"
      }
    },
    {
      "cell_type": "code",
      "source": [
        "# Set random seed\n",
        "tf.random.set_seed(42)\n",
        "\n",
        "# 1. Create a model using the Sequential API\n",
        "model = tf.keras.Sequential([\n",
        "    tf.keras.layers.Dense(1)\n",
        "])\n",
        "\n",
        "# 2. Compile the model\n",
        "model.compile(loss=tf.keras.losses.mae,\n",
        "              optimizer=tf.keras.optimizers.SGD(),\n",
        "              metrics=['mae'])\n",
        "\n",
        "# 3. Fit the model\n",
        "model.fit(tf.expand_dims(X, axis=-1), y, epochs=5)"
      ],
      "metadata": {
        "colab": {
          "base_uri": "https://localhost:8080/"
        },
        "id": "BXKJoqGZjt33",
        "outputId": "8ad10fdc-2f9b-4402-f26c-4cfbaeb56fbb"
      },
      "execution_count": 210,
      "outputs": [
        {
          "output_type": "stream",
          "name": "stdout",
          "text": [
            "Epoch 1/5\n",
            "1/1 [==============================] - 0s 319ms/step - loss: 12.7810 - mae: 12.7810\n",
            "Epoch 2/5\n",
            "1/1 [==============================] - 0s 11ms/step - loss: 12.6485 - mae: 12.6485\n",
            "Epoch 3/5\n",
            "1/1 [==============================] - 0s 10ms/step - loss: 12.5160 - mae: 12.5160\n",
            "Epoch 4/5\n",
            "1/1 [==============================] - 0s 10ms/step - loss: 12.3835 - mae: 12.3835\n",
            "Epoch 5/5\n",
            "1/1 [==============================] - 0s 9ms/step - loss: 12.2510 - mae: 12.2510\n"
          ]
        },
        {
          "output_type": "execute_result",
          "data": {
            "text/plain": [
              "<keras.src.callbacks.History at 0x7b2ff0376410>"
            ]
          },
          "metadata": {},
          "execution_count": 210
        }
      ]
    },
    {
      "cell_type": "code",
      "source": [
        "# Check out X and y\n",
        "X, y"
      ],
      "metadata": {
        "colab": {
          "base_uri": "https://localhost:8080/"
        },
        "id": "GSem5a5dkPQq",
        "outputId": "4ba364e8-6a5e-4709-d5fe-1543b3de8565"
      },
      "execution_count": 211,
      "outputs": [
        {
          "output_type": "execute_result",
          "data": {
            "text/plain": [
              "(<tf.Tensor: shape=(8,), dtype=float64, numpy=array([-7., -4., -1.,  2.,  5.,  8., 11., 14.])>,\n",
              " <tf.Tensor: shape=(8,), dtype=float64, numpy=array([ 3.,  6.,  9., 12., 15., 18., 21., 24.])>)"
            ]
          },
          "metadata": {},
          "execution_count": 211
        }
      ]
    },
    {
      "cell_type": "code",
      "source": [
        "model.predict([17.0])"
      ],
      "metadata": {
        "colab": {
          "base_uri": "https://localhost:8080/"
        },
        "id": "xq8tgkFxnBxe",
        "outputId": "ca73f372-ad70-4f16-c13c-d6e9edf47c89"
      },
      "execution_count": 212,
      "outputs": [
        {
          "output_type": "stream",
          "name": "stdout",
          "text": [
            "1/1 [==============================] - 0s 61ms/step\n"
          ]
        },
        {
          "output_type": "execute_result",
          "data": {
            "text/plain": [
              "array([[6.517116]], dtype=float32)"
            ]
          },
          "metadata": {},
          "execution_count": 212
        }
      ]
    },
    {
      "cell_type": "markdown",
      "source": [
        "### Improve the model\n",
        "\n",
        "We can improve our model, by altering the steps we took to create a model\n",
        "\n",
        "1. **Create a model** - here we might add more layers, increase the no. of hidden layers, change the activation func of each layer.\n",
        "2. **Compiling a model** - here we might change the optimization function or perhaps the **learning rate** of the optimization func.\n",
        "3. **Fitting a model** - here we might fit a model for more epochs (leave it training for longer) or on more data (give the model more examples to learn from)."
      ],
      "metadata": {
        "id": "EyF3CXfKnIR2"
      }
    },
    {
      "cell_type": "code",
      "source": [
        "# Let's rebuild our model\n",
        "tf.random.set_seed(42)\n",
        "\n",
        "# 1. Create a model (Specified to your problem)\n",
        "model = tf.keras.Sequential([\n",
        "    tf.keras.layers.Dense(128, activation='relu'),\n",
        "    tf.keras.layers.Dense(128, activation='relu'),\n",
        "    tf.keras.layers.Dense(128, activation='relu'),\n",
        "    tf.keras.layers.Dense(1)\n",
        "])\n",
        "\n",
        "# 2. Compile the model\n",
        "model.compile(loss=tf.keras.losses.mae,\n",
        "              optimizer=tf.keras.optimizers.Adam(learning_rate=1e-2),\n",
        "              metrics=['mae'])\n",
        "\n",
        "# 3. Fit the model\n",
        "model.fit(tf.expand_dims(X, axis=-1), y, epochs=100)"
      ],
      "metadata": {
        "colab": {
          "base_uri": "https://localhost:8080/"
        },
        "id": "GYeR735B17qM",
        "outputId": "cbed8183-6c89-467a-aa8f-00ac01d9feac"
      },
      "execution_count": 213,
      "outputs": [
        {
          "output_type": "stream",
          "name": "stdout",
          "text": [
            "Epoch 1/100\n",
            "1/1 [==============================] - 1s 877ms/step - loss: 13.6972 - mae: 13.6972\n",
            "Epoch 2/100\n",
            "1/1 [==============================] - 0s 10ms/step - loss: 10.6748 - mae: 10.6748\n",
            "Epoch 3/100\n",
            "1/1 [==============================] - 0s 10ms/step - loss: 6.9861 - mae: 6.9861\n",
            "Epoch 4/100\n",
            "1/1 [==============================] - 0s 13ms/step - loss: 5.5396 - mae: 5.5396\n",
            "Epoch 5/100\n",
            "1/1 [==============================] - 0s 10ms/step - loss: 5.9368 - mae: 5.9368\n",
            "Epoch 6/100\n",
            "1/1 [==============================] - 0s 14ms/step - loss: 4.5518 - mae: 4.5518\n",
            "Epoch 7/100\n",
            "1/1 [==============================] - 0s 10ms/step - loss: 4.1031 - mae: 4.1031\n",
            "Epoch 8/100\n",
            "1/1 [==============================] - 0s 10ms/step - loss: 4.1927 - mae: 4.1927\n",
            "Epoch 9/100\n",
            "1/1 [==============================] - 0s 11ms/step - loss: 3.6772 - mae: 3.6772\n",
            "Epoch 10/100\n",
            "1/1 [==============================] - 0s 10ms/step - loss: 3.7985 - mae: 3.7985\n",
            "Epoch 11/100\n",
            "1/1 [==============================] - 0s 12ms/step - loss: 3.8606 - mae: 3.8606\n",
            "Epoch 12/100\n",
            "1/1 [==============================] - 0s 9ms/step - loss: 3.6815 - mae: 3.6815\n",
            "Epoch 13/100\n",
            "1/1 [==============================] - 0s 10ms/step - loss: 3.4372 - mae: 3.4372\n",
            "Epoch 14/100\n",
            "1/1 [==============================] - 0s 10ms/step - loss: 3.4064 - mae: 3.4064\n",
            "Epoch 15/100\n",
            "1/1 [==============================] - 0s 12ms/step - loss: 3.2138 - mae: 3.2138\n",
            "Epoch 16/100\n",
            "1/1 [==============================] - 0s 11ms/step - loss: 3.2404 - mae: 3.2404\n",
            "Epoch 17/100\n",
            "1/1 [==============================] - 0s 11ms/step - loss: 3.2562 - mae: 3.2562\n",
            "Epoch 18/100\n",
            "1/1 [==============================] - 0s 10ms/step - loss: 2.9114 - mae: 2.9114\n",
            "Epoch 19/100\n",
            "1/1 [==============================] - 0s 10ms/step - loss: 2.8489 - mae: 2.8489\n",
            "Epoch 20/100\n",
            "1/1 [==============================] - 0s 9ms/step - loss: 2.7439 - mae: 2.7439\n",
            "Epoch 21/100\n",
            "1/1 [==============================] - 0s 10ms/step - loss: 2.4045 - mae: 2.4045\n",
            "Epoch 22/100\n",
            "1/1 [==============================] - 0s 14ms/step - loss: 2.1974 - mae: 2.1974\n",
            "Epoch 23/100\n",
            "1/1 [==============================] - 0s 9ms/step - loss: 1.9486 - mae: 1.9486\n",
            "Epoch 24/100\n",
            "1/1 [==============================] - 0s 11ms/step - loss: 1.6900 - mae: 1.6900\n",
            "Epoch 25/100\n",
            "1/1 [==============================] - 0s 13ms/step - loss: 1.3614 - mae: 1.3614\n",
            "Epoch 26/100\n",
            "1/1 [==============================] - 0s 12ms/step - loss: 1.0468 - mae: 1.0468\n",
            "Epoch 27/100\n",
            "1/1 [==============================] - 0s 11ms/step - loss: 1.3170 - mae: 1.3170\n",
            "Epoch 28/100\n",
            "1/1 [==============================] - 0s 11ms/step - loss: 0.8543 - mae: 0.8543\n",
            "Epoch 29/100\n",
            "1/1 [==============================] - 0s 11ms/step - loss: 0.9733 - mae: 0.9733\n",
            "Epoch 30/100\n",
            "1/1 [==============================] - 0s 14ms/step - loss: 0.6581 - mae: 0.6581\n",
            "Epoch 31/100\n",
            "1/1 [==============================] - 0s 11ms/step - loss: 2.4962 - mae: 2.4962\n",
            "Epoch 32/100\n",
            "1/1 [==============================] - 0s 10ms/step - loss: 1.8665 - mae: 1.8665\n",
            "Epoch 33/100\n",
            "1/1 [==============================] - 0s 10ms/step - loss: 1.0491 - mae: 1.0491\n",
            "Epoch 34/100\n",
            "1/1 [==============================] - 0s 11ms/step - loss: 1.3707 - mae: 1.3707\n",
            "Epoch 35/100\n",
            "1/1 [==============================] - 0s 10ms/step - loss: 0.4395 - mae: 0.4395\n",
            "Epoch 36/100\n",
            "1/1 [==============================] - 0s 11ms/step - loss: 2.1311 - mae: 2.1311\n",
            "Epoch 37/100\n",
            "1/1 [==============================] - 0s 8ms/step - loss: 1.8128 - mae: 1.8128\n",
            "Epoch 38/100\n",
            "1/1 [==============================] - 0s 11ms/step - loss: 0.5120 - mae: 0.5120\n",
            "Epoch 39/100\n",
            "1/1 [==============================] - 0s 11ms/step - loss: 0.6528 - mae: 0.6528\n",
            "Epoch 40/100\n",
            "1/1 [==============================] - 0s 12ms/step - loss: 1.2086 - mae: 1.2086\n",
            "Epoch 41/100\n",
            "1/1 [==============================] - 0s 12ms/step - loss: 0.9836 - mae: 0.9836\n",
            "Epoch 42/100\n",
            "1/1 [==============================] - 0s 11ms/step - loss: 0.7830 - mae: 0.7830\n",
            "Epoch 43/100\n",
            "1/1 [==============================] - 0s 14ms/step - loss: 0.8042 - mae: 0.8042\n",
            "Epoch 44/100\n",
            "1/1 [==============================] - 0s 11ms/step - loss: 1.2010 - mae: 1.2010\n",
            "Epoch 45/100\n",
            "1/1 [==============================] - 0s 11ms/step - loss: 0.7882 - mae: 0.7882\n",
            "Epoch 46/100\n",
            "1/1 [==============================] - 0s 9ms/step - loss: 1.1284 - mae: 1.1284\n",
            "Epoch 47/100\n",
            "1/1 [==============================] - 0s 10ms/step - loss: 1.3497 - mae: 1.3497\n",
            "Epoch 48/100\n",
            "1/1 [==============================] - 0s 11ms/step - loss: 0.5364 - mae: 0.5364\n",
            "Epoch 49/100\n",
            "1/1 [==============================] - 0s 10ms/step - loss: 1.6952 - mae: 1.6952\n",
            "Epoch 50/100\n",
            "1/1 [==============================] - 0s 10ms/step - loss: 2.2355 - mae: 2.2355\n",
            "Epoch 51/100\n",
            "1/1 [==============================] - 0s 12ms/step - loss: 1.3787 - mae: 1.3787\n",
            "Epoch 52/100\n",
            "1/1 [==============================] - 0s 11ms/step - loss: 0.6589 - mae: 0.6589\n",
            "Epoch 53/100\n",
            "1/1 [==============================] - 0s 11ms/step - loss: 1.1989 - mae: 1.1989\n",
            "Epoch 54/100\n",
            "1/1 [==============================] - 0s 9ms/step - loss: 0.7182 - mae: 0.7182\n",
            "Epoch 55/100\n",
            "1/1 [==============================] - 0s 10ms/step - loss: 1.0134 - mae: 1.0134\n",
            "Epoch 56/100\n",
            "1/1 [==============================] - 0s 10ms/step - loss: 1.2030 - mae: 1.2030\n",
            "Epoch 57/100\n",
            "1/1 [==============================] - 0s 10ms/step - loss: 0.2121 - mae: 0.2121\n",
            "Epoch 58/100\n",
            "1/1 [==============================] - 0s 10ms/step - loss: 1.3836 - mae: 1.3836\n",
            "Epoch 59/100\n",
            "1/1 [==============================] - 0s 10ms/step - loss: 1.7275 - mae: 1.7275\n",
            "Epoch 60/100\n",
            "1/1 [==============================] - 0s 16ms/step - loss: 1.1336 - mae: 1.1336\n",
            "Epoch 61/100\n",
            "1/1 [==============================] - 0s 12ms/step - loss: 0.6077 - mae: 0.6077\n",
            "Epoch 62/100\n",
            "1/1 [==============================] - 0s 10ms/step - loss: 0.9391 - mae: 0.9391\n",
            "Epoch 63/100\n",
            "1/1 [==============================] - 0s 10ms/step - loss: 0.2734 - mae: 0.2734\n",
            "Epoch 64/100\n",
            "1/1 [==============================] - 0s 10ms/step - loss: 1.1106 - mae: 1.1106\n",
            "Epoch 65/100\n",
            "1/1 [==============================] - 0s 10ms/step - loss: 1.4252 - mae: 1.4252\n",
            "Epoch 66/100\n",
            "1/1 [==============================] - 0s 10ms/step - loss: 0.9111 - mae: 0.9111\n",
            "Epoch 67/100\n",
            "1/1 [==============================] - 0s 10ms/step - loss: 0.4805 - mae: 0.4805\n",
            "Epoch 68/100\n",
            "1/1 [==============================] - 0s 10ms/step - loss: 0.6537 - mae: 0.6537\n",
            "Epoch 69/100\n",
            "1/1 [==============================] - 0s 9ms/step - loss: 0.2936 - mae: 0.2936\n",
            "Epoch 70/100\n",
            "1/1 [==============================] - 0s 9ms/step - loss: 0.1440 - mae: 0.1440\n",
            "Epoch 71/100\n",
            "1/1 [==============================] - 0s 9ms/step - loss: 0.1064 - mae: 0.1064\n",
            "Epoch 72/100\n",
            "1/1 [==============================] - 0s 12ms/step - loss: 0.3743 - mae: 0.3743\n",
            "Epoch 73/100\n",
            "1/1 [==============================] - 0s 10ms/step - loss: 0.2332 - mae: 0.2332\n",
            "Epoch 74/100\n",
            "1/1 [==============================] - 0s 11ms/step - loss: 0.4095 - mae: 0.4095\n",
            "Epoch 75/100\n",
            "1/1 [==============================] - 0s 9ms/step - loss: 0.0874 - mae: 0.0874\n",
            "Epoch 76/100\n",
            "1/1 [==============================] - 0s 9ms/step - loss: 0.7727 - mae: 0.7727\n",
            "Epoch 77/100\n",
            "1/1 [==============================] - 0s 13ms/step - loss: 0.4899 - mae: 0.4899\n",
            "Epoch 78/100\n",
            "1/1 [==============================] - 0s 13ms/step - loss: 0.6882 - mae: 0.6882\n",
            "Epoch 79/100\n",
            "1/1 [==============================] - 0s 9ms/step - loss: 0.8495 - mae: 0.8495\n",
            "Epoch 80/100\n",
            "1/1 [==============================] - 0s 10ms/step - loss: 0.2567 - mae: 0.2567\n",
            "Epoch 81/100\n",
            "1/1 [==============================] - 0s 12ms/step - loss: 1.2085 - mae: 1.2085\n",
            "Epoch 82/100\n",
            "1/1 [==============================] - 0s 9ms/step - loss: 1.2712 - mae: 1.2712\n",
            "Epoch 83/100\n",
            "1/1 [==============================] - 0s 13ms/step - loss: 0.4823 - mae: 0.4823\n",
            "Epoch 84/100\n",
            "1/1 [==============================] - 0s 11ms/step - loss: 1.2424 - mae: 1.2424\n",
            "Epoch 85/100\n",
            "1/1 [==============================] - 0s 14ms/step - loss: 1.7070 - mae: 1.7070\n",
            "Epoch 86/100\n",
            "1/1 [==============================] - 0s 11ms/step - loss: 1.3732 - mae: 1.3732\n",
            "Epoch 87/100\n",
            "1/1 [==============================] - 0s 13ms/step - loss: 0.3411 - mae: 0.3411\n",
            "Epoch 88/100\n",
            "1/1 [==============================] - 0s 11ms/step - loss: 1.7503 - mae: 1.7503\n",
            "Epoch 89/100\n",
            "1/1 [==============================] - 0s 11ms/step - loss: 2.4750 - mae: 2.4750\n",
            "Epoch 90/100\n",
            "1/1 [==============================] - 0s 11ms/step - loss: 1.9410 - mae: 1.9410\n",
            "Epoch 91/100\n",
            "1/1 [==============================] - 0s 10ms/step - loss: 0.4816 - mae: 0.4816\n",
            "Epoch 92/100\n",
            "1/1 [==============================] - 0s 14ms/step - loss: 1.5317 - mae: 1.5317\n",
            "Epoch 93/100\n",
            "1/1 [==============================] - 0s 10ms/step - loss: 2.3852 - mae: 2.3852\n",
            "Epoch 94/100\n",
            "1/1 [==============================] - 0s 10ms/step - loss: 2.4636 - mae: 2.4636\n",
            "Epoch 95/100\n",
            "1/1 [==============================] - 0s 12ms/step - loss: 1.9038 - mae: 1.9038\n",
            "Epoch 96/100\n",
            "1/1 [==============================] - 0s 10ms/step - loss: 0.7686 - mae: 0.7686\n",
            "Epoch 97/100\n",
            "1/1 [==============================] - 0s 10ms/step - loss: 1.3979 - mae: 1.3979\n",
            "Epoch 98/100\n",
            "1/1 [==============================] - 0s 10ms/step - loss: 2.2675 - mae: 2.2675\n",
            "Epoch 99/100\n",
            "1/1 [==============================] - 0s 10ms/step - loss: 1.9508 - mae: 1.9508\n",
            "Epoch 100/100\n",
            "1/1 [==============================] - 0s 10ms/step - loss: 0.7310 - mae: 0.7310\n"
          ]
        },
        {
          "output_type": "execute_result",
          "data": {
            "text/plain": [
              "<keras.src.callbacks.History at 0x7b2ff028d570>"
            ]
          },
          "metadata": {},
          "execution_count": 213
        }
      ]
    },
    {
      "cell_type": "code",
      "source": [
        "# Remind ourselves of the data\n",
        "X, y"
      ],
      "metadata": {
        "colab": {
          "base_uri": "https://localhost:8080/"
        },
        "id": "hO_Zukzb4Lgu",
        "outputId": "406856d3-4821-43c4-9093-1619513b2146"
      },
      "execution_count": 214,
      "outputs": [
        {
          "output_type": "execute_result",
          "data": {
            "text/plain": [
              "(<tf.Tensor: shape=(8,), dtype=float64, numpy=array([-7., -4., -1.,  2.,  5.,  8., 11., 14.])>,\n",
              " <tf.Tensor: shape=(8,), dtype=float64, numpy=array([ 3.,  6.,  9., 12., 15., 18., 21., 24.])>)"
            ]
          },
          "metadata": {},
          "execution_count": 214
        }
      ]
    },
    {
      "cell_type": "code",
      "source": [
        "# Let's see if our model's prediction has improved\n",
        "model.predict([17.0])"
      ],
      "metadata": {
        "colab": {
          "base_uri": "https://localhost:8080/"
        },
        "id": "LfbIim1Y4jxI",
        "outputId": "9c53bdcb-ed5e-4d3a-92e3-db43638f7cda"
      },
      "execution_count": 215,
      "outputs": [
        {
          "output_type": "stream",
          "name": "stdout",
          "text": [
            "1/1 [==============================] - 0s 84ms/step\n"
          ]
        },
        {
          "output_type": "execute_result",
          "data": {
            "text/plain": [
              "array([[24.683044]], dtype=float32)"
            ]
          },
          "metadata": {},
          "execution_count": 215
        }
      ]
    },
    {
      "cell_type": "markdown",
      "source": [
        "### Common ways to improve a Deep Learning model\n",
        "- Adding Layers\n",
        "- Increase the number of hidden units\n",
        "- Change the activation function of each layer\n",
        "- Change the optimization function\n",
        "- Change the learning rate of the optimization function\n",
        "- Fitting on more data\n",
        "- Fitting for longer"
      ],
      "metadata": {
        "id": "SD3h0Rhf4p3j"
      }
    },
    {
      "cell_type": "markdown",
      "source": [
        "### Evaluating a model\n",
        "\n",
        "In practice, a typical workflow you'll go through when building neural networks is:\n",
        "\n",
        "```\n",
        "Build a model -> Fit it -> evaluate it -> tweak a model -> fit it -> tweak a model -> fit it...\n",
        "```"
      ],
      "metadata": {
        "id": "cNG9ORVm64Xv"
      }
    },
    {
      "cell_type": "markdown",
      "source": [
        "When it comes to evaluation.. there are 3 words you should memorize:\n",
        "\n",
        "> \"Visualize, Visualize,...\"\n",
        "\n",
        "It's a good idea to visualize:\n",
        "* The data - what data are working with? what does it look like?\n",
        "* The model itself - what does our model look like?\n",
        "* The training of a model - how does a model perform while it learns?\n",
        "* The predictions of the model - how do the predictions of a model line up against the ground truth (the original labels)?"
      ],
      "metadata": {
        "id": "brTwNhiv7Ym-"
      }
    },
    {
      "cell_type": "code",
      "source": [
        "# Make a bigger dataset\n",
        "X = tf.range(-100, 100, 4)\n",
        "\n",
        "# Make labels for the dataset\n",
        "Y = X + 10\n",
        "\n",
        "X, Y"
      ],
      "metadata": {
        "colab": {
          "base_uri": "https://localhost:8080/"
        },
        "id": "4LzapqLN8VRj",
        "outputId": "41490c53-bb69-4df0-b0cd-d8dca77291b1"
      },
      "execution_count": 216,
      "outputs": [
        {
          "output_type": "execute_result",
          "data": {
            "text/plain": [
              "(<tf.Tensor: shape=(50,), dtype=int32, numpy=\n",
              " array([-100,  -96,  -92,  -88,  -84,  -80,  -76,  -72,  -68,  -64,  -60,\n",
              "         -56,  -52,  -48,  -44,  -40,  -36,  -32,  -28,  -24,  -20,  -16,\n",
              "         -12,   -8,   -4,    0,    4,    8,   12,   16,   20,   24,   28,\n",
              "          32,   36,   40,   44,   48,   52,   56,   60,   64,   68,   72,\n",
              "          76,   80,   84,   88,   92,   96], dtype=int32)>,\n",
              " <tf.Tensor: shape=(50,), dtype=int32, numpy=\n",
              " array([-90, -86, -82, -78, -74, -70, -66, -62, -58, -54, -50, -46, -42,\n",
              "        -38, -34, -30, -26, -22, -18, -14, -10,  -6,  -2,   2,   6,  10,\n",
              "         14,  18,  22,  26,  30,  34,  38,  42,  46,  50,  54,  58,  62,\n",
              "         66,  70,  74,  78,  82,  86,  90,  94,  98, 102, 106], dtype=int32)>)"
            ]
          },
          "metadata": {},
          "execution_count": 216
        }
      ]
    },
    {
      "cell_type": "code",
      "source": [
        "# Visualize the data\n",
        "plt.scatter(X, Y)"
      ],
      "metadata": {
        "colab": {
          "base_uri": "https://localhost:8080/",
          "height": 447
        },
        "id": "WLdxhO1C9I8c",
        "outputId": "24b51897-51a7-498c-afe6-e5e3609bf9c7"
      },
      "execution_count": 217,
      "outputs": [
        {
          "output_type": "execute_result",
          "data": {
            "text/plain": [
              "<matplotlib.collections.PathCollection at 0x7b2fee3371c0>"
            ]
          },
          "metadata": {},
          "execution_count": 217
        },
        {
          "output_type": "display_data",
          "data": {
            "text/plain": [
              "<Figure size 640x480 with 1 Axes>"
            ],
            "image/png": "[encoded data removed]"
          },
          "metadata": {}
        }
      ]
    },
    {
      "cell_type": "markdown",
      "source": [
        "### The 3 sets...\n",
        "\n",
        "* **Training set** - the model learns from this data, which is typically 70%-80% of the total data you have available.\n",
        "* **Validation set** - the model gets tuned on this data, which is typically 10-15% of the data available.\n",
        "* **Test set** - the model gets evaluated on this data to test what it has learned, this set is typically 10-15% of the total data available."
      ],
      "metadata": {
        "id": "d1K0jY6G-zHF"
      }
    },
    {
      "cell_type": "code",
      "source": [
        "### Split the data into train and test sets\n",
        "X_train = X[:40]\n",
        "y_train = Y[:40]\n",
        "\n",
        "X_test = X[40:]\n",
        "y_test = Y[40:]\n",
        "\n",
        "len(X_train), len(y_train), len(X_test), len(y_test)"
      ],
      "metadata": {
        "colab": {
          "base_uri": "https://localhost:8080/"
        },
        "id": "lYFrbKuK9NTG",
        "outputId": "e31d5136-14ec-41fc-ee36-4ff9c0d5691a"
      },
      "execution_count": 218,
      "outputs": [
        {
          "output_type": "execute_result",
          "data": {
            "text/plain": [
              "(40, 40, 10, 10)"
            ]
          },
          "metadata": {},
          "execution_count": 218
        }
      ]
    },
    {
      "cell_type": "markdown",
      "source": [
        "### Visualize the data\n",
        "Now we've got our data in training and test sets... let's visualize it again!"
      ],
      "metadata": {
        "id": "YE48KgNVAyIC"
      }
    },
    {
      "cell_type": "code",
      "source": [
        "plt.figure(figsize=(10, 7))\n",
        "\n",
        "# Plot training in blue\n",
        "plt.scatter(X_train, y_train, c=\"b\", label=\"Training\")\n",
        "# Plot validation in red\n",
        "plt.scatter(X_test, y_test, c=\"r\", label=\"Testing\")\n",
        "# Show a legend\n",
        "plt.legend();"
      ],
      "metadata": {
        "colab": {
          "base_uri": "https://localhost:8080/",
          "height": 467
        },
        "id": "QnaiBsbMA53U",
        "outputId": "71e1e834-ee08-487d-cf41-298c3a9d9050"
      },
      "execution_count": 219,
      "outputs": [
        {
          "output_type": "display_data",
          "data": {
            "text/plain": [
              "<Figure size 1000x700 with 1 Axes>"
            ],
            "image/png": "[encoded data removed]"
          },
          "metadata": {}
        }
      ]
    },
    {
      "cell_type": "code",
      "source": [
        "# Let's look at how to build a neural network for our data\n",
        "\n",
        "tf.random.set_seed(42)\n",
        "\n",
        "# 1. Create a model (Specified to your problem)\n",
        "model_1 = tf.keras.Sequential([\n",
        "    # tf.keras.layers.Dense(32, activation='relu'),\n",
        "    # tf.keras.layers.Dense(64, activation='relu'),\n",
        "    # tf.keras.layers.Dense(128, activation='relu'),\n",
        "    tf.keras.layers.Dense(1)\n",
        "])\n",
        "\n",
        "# 2. Compile the model_1\n",
        "model_1.compile(loss=tf.keras.losses.mae,\n",
        "              optimizer=tf.keras.optimizers.SGD(learning_rate=1e-3),\n",
        "              metrics=['mae'])\n",
        "\n",
        "# # 3. Fit the model_1\n",
        "# model_1.fit(tf.expand_dims(X_train, axis=-1), y_train, epochs=100)"
      ],
      "metadata": {
        "id": "u5DidCks9krf"
      },
      "execution_count": 220,
      "outputs": []
    },
    {
      "cell_type": "markdown",
      "source": [
        "### Visualize our model"
      ],
      "metadata": {
        "id": "s3-lreIn-ar3"
      }
    },
    {
      "cell_type": "code",
      "source": [
        "# model_1.summary() Will throw an error (since it wasn't .build() yet)"
      ],
      "metadata": {
        "id": "5wlz1mxNCb7p"
      },
      "execution_count": 221,
      "outputs": []
    },
    {
      "cell_type": "code",
      "source": [
        "# Build our model\n",
        "model_1.build(input_shape=(None, 1))\n",
        "model_1.summary()"
      ],
      "metadata": {
        "colab": {
          "base_uri": "https://localhost:8080/"
        },
        "id": "iJHjW1FDCOZZ",
        "outputId": "fcb33e35-68f4-4977-86f6-6c0d5338008f"
      },
      "execution_count": 222,
      "outputs": [
        {
          "output_type": "stream",
          "name": "stdout",
          "text": [
            "Model: \"sequential_41\"\n",
            "_________________________________________________________________\n",
            " Layer (type)                Output Shape              Param #   \n",
            "=================================================================\n",
            " dense_97 (Dense)            (None, 1)                 2         \n",
            "                                                                 \n",
            "=================================================================\n",
            "Total params: 2 (8.00 Byte)\n",
            "Trainable params: 2 (8.00 Byte)\n",
            "Non-trainable params: 0 (0.00 Byte)\n",
            "_________________________________________________________________\n"
          ]
        }
      ]
    },
    {
      "cell_type": "code",
      "source": [
        "# Let's create a model which builds automatically by defining the input_shape argument\n",
        "tf.random.set_seed(42)\n",
        "\n",
        "# 1. Create a model (Specified to your problem)\n",
        "model_2 = tf.keras.Sequential([\n",
        "    tf.keras.layers.Dense(128, activation='relu', input_shape=[1], name='input_layer'),\n",
        "    tf.keras.layers.Dense(1, input_shape=[1], name='output_layer')\n",
        "], name='model_2')\n",
        "\n",
        "# 2. Compile the model\n",
        "model_2.compile(loss=tf.keras.losses.mae,\n",
        "              optimizer=tf.keras.optimizers.SGD(learning_rate=1e-3),\n",
        "              metrics=['mae'])"
      ],
      "metadata": {
        "id": "AbCwqg3wCWZs"
      },
      "execution_count": 223,
      "outputs": []
    },
    {
      "cell_type": "code",
      "source": [
        "model_2.summary()"
      ],
      "metadata": {
        "colab": {
          "base_uri": "https://localhost:8080/"
        },
        "id": "BYFsAEwNC_s8",
        "outputId": "2b75dbce-708c-4ed1-efab-ffefc50ff901"
      },
      "execution_count": 224,
      "outputs": [
        {
          "output_type": "stream",
          "name": "stdout",
          "text": [
            "Model: \"model_2\"\n",
            "_________________________________________________________________\n",
            " Layer (type)                Output Shape              Param #   \n",
            "=================================================================\n",
            " input_layer (Dense)         (None, 128)               256       \n",
            "                                                                 \n",
            " output_layer (Dense)        (None, 1)                 129       \n",
            "                                                                 \n",
            "=================================================================\n",
            "Total params: 385 (1.50 KB)\n",
            "Trainable params: 385 (1.50 KB)\n",
            "Non-trainable params: 0 (0.00 Byte)\n",
            "_________________________________________________________________\n"
          ]
        }
      ]
    },
    {
      "cell_type": "markdown",
      "source": [
        "* Total params - total no. of parameters in the model.\n",
        "* Trainable parameters - these are the parameters (patterns) the model can update as it trains.\n",
        "* Non-trainable params- these parameters aren't updated during training (this is typical when you bring in already learn patterns or parameters from other models during **transfer learning**).\n",
        "\n",
        "📖**Resource:** For more in-depth overview of the trainable parameters with a layer, check out [MIT's introduction to deep learning video](https://www.youtube.com/watch?v=QDX-1M5Nj7s).\n",
        "\n",
        "📑**Exercise:** Try playing around with the no. of hidden units in the dense layer, see how that effects the number of parameters (total and trainable) by calling `model.summary()`"
      ],
      "metadata": {
        "id": "DPFMrb2zDB19"
      }
    },
    {
      "cell_type": "code",
      "source": [
        "# Let's fit our model to the training data\n",
        "model_2.fit(X_train, y_train, epochs=100, verbose=0)"
      ],
      "metadata": {
        "colab": {
          "base_uri": "https://localhost:8080/"
        },
        "id": "7zaFGRHeDasx",
        "outputId": "d9074846-8126-48ad-84ed-3bb4a674cf88"
      },
      "execution_count": 225,
      "outputs": [
        {
          "output_type": "execute_result",
          "data": {
            "text/plain": [
              "<keras.src.callbacks.History at 0x7b2fee3e8a30>"
            ]
          },
          "metadata": {},
          "execution_count": 225
        }
      ]
    },
    {
      "cell_type": "code",
      "source": [
        "# Get a summary of our model\n",
        "model_2.summary()"
      ],
      "metadata": {
        "colab": {
          "base_uri": "https://localhost:8080/"
        },
        "id": "mcN1D0XQFwm-",
        "outputId": "1df6b1a7-3b0e-456d-c10b-5d5251050002"
      },
      "execution_count": 226,
      "outputs": [
        {
          "output_type": "stream",
          "name": "stdout",
          "text": [
            "Model: \"model_2\"\n",
            "_________________________________________________________________\n",
            " Layer (type)                Output Shape              Param #   \n",
            "=================================================================\n",
            " input_layer (Dense)         (None, 128)               256       \n",
            "                                                                 \n",
            " output_layer (Dense)        (None, 1)                 129       \n",
            "                                                                 \n",
            "=================================================================\n",
            "Total params: 385 (1.50 KB)\n",
            "Trainable params: 385 (1.50 KB)\n",
            "Non-trainable params: 0 (0.00 Byte)\n",
            "_________________________________________________________________\n"
          ]
        }
      ]
    },
    {
      "cell_type": "code",
      "source": [
        "from tensorflow.keras.utils import plot_model\n",
        "\n",
        "plot_model(model_2, show_shapes=True)"
      ],
      "metadata": {
        "colab": {
          "base_uri": "https://localhost:8080/",
          "height": 312
        },
        "id": "wj9IowPhO_g5",
        "outputId": "b5b887ab-9306-445f-d0fe-b36e312753a5"
      },
      "execution_count": 227,
      "outputs": [
        {
          "output_type": "execute_result",
          "data": {
            "image/png": "[encoded data removed]",
            "text/plain": [
              "<IPython.core.display.Image object>"
            ]
          },
          "metadata": {},
          "execution_count": 227
        }
      ]
    },
    {
      "cell_type": "markdown",
      "source": [
        "### Visualizing our model's predictions\n",
        "\n",
        "To visualize predictions, it's a good idea to plot them against the ground truth labels.\n",
        "\n",
        "Often you'll see this in the form of `y_test` or `y_true` versus `y_pred` (ground truth versus model predictions)."
      ],
      "metadata": {
        "id": "nSPuFxaGP-rx"
      }
    },
    {
      "cell_type": "code",
      "source": [
        "# Make some predictions\n",
        "y_pred = model_2.predict(X_test)\n",
        "y_pred"
      ],
      "metadata": {
        "colab": {
          "base_uri": "https://localhost:8080/"
        },
        "id": "s_X_8q9iRljy",
        "outputId": "eb9566d9-e141-4e34-a0cf-e95f598feccb"
      },
      "execution_count": 228,
      "outputs": [
        {
          "output_type": "stream",
          "name": "stdout",
          "text": [
            "1/1 [==============================] - 0s 54ms/step\n"
          ]
        },
        {
          "output_type": "execute_result",
          "data": {
            "text/plain": [
              "array([[ 72.78808 ],\n",
              "       [ 77.63158 ],\n",
              "       [ 82.475075],\n",
              "       [ 87.318565],\n",
              "       [ 92.16206 ],\n",
              "       [ 97.00556 ],\n",
              "       [101.84905 ],\n",
              "       [106.69255 ],\n",
              "       [111.53604 ],\n",
              "       [116.37954 ]], dtype=float32)"
            ]
          },
          "metadata": {},
          "execution_count": 228
        }
      ]
    },
    {
      "cell_type": "code",
      "source": [
        "y_test"
      ],
      "metadata": {
        "colab": {
          "base_uri": "https://localhost:8080/"
        },
        "id": "IOv7x99kSLMR",
        "outputId": "dd9d52c2-787c-4c9c-8926-361e29108267"
      },
      "execution_count": 229,
      "outputs": [
        {
          "output_type": "execute_result",
          "data": {
            "text/plain": [
              "<tf.Tensor: shape=(10,), dtype=int32, numpy=array([ 70,  74,  78,  82,  86,  90,  94,  98, 102, 106], dtype=int32)>"
            ]
          },
          "metadata": {},
          "execution_count": 229
        }
      ]
    },
    {
      "cell_type": "markdown",
      "source": [
        "🔑**Note:** If you feel like you're going to reuse some kind of functionality in the future, it's a good idea to create a function for it."
      ],
      "metadata": {
        "id": "ilcxeOpmSVD2"
      }
    },
    {
      "cell_type": "code",
      "source": [
        "# Let's create a plotting a function\n",
        "def plot_predictions(train_data=X_train,\n",
        "                     train_labels=y_train,\n",
        "                     test_data=X_test,\n",
        "                     test_labels=y_test,\n",
        "                     predictions=y_pred):\n",
        "  '''\n",
        "  Plots training data, testing data, and compares the predictions to the ground truth labels.\n",
        "  '''\n",
        "  plt.figure(figsize=(10,7))\n",
        "  # Plot training data in blue\n",
        "  plt.scatter(train_data, train_labels, c=\"b\", label=\"Training\")\n",
        "  # Plot testing data in red\n",
        "  plt.scatter(test_data, test_labels, c=\"lightgreen\", label=\"Testing\")\n",
        "  # Plot the predictions in green\n",
        "  plt.scatter(test_data, predictions, c=\"r\", label=\"Predictions\")\n",
        "  # Show the legend\n",
        "  plt.legend()\n",
        "  # Show the plot\n",
        "  plt.show();"
      ],
      "metadata": {
        "id": "tFo13739SNAX"
      },
      "execution_count": 230,
      "outputs": []
    },
    {
      "cell_type": "code",
      "source": [
        "plot_predictions(train_data=X_train, train_labels=y_train,\n",
        "                 test_data=X_test, test_labels=y_test,\n",
        "                 predictions=y_pred)"
      ],
      "metadata": {
        "colab": {
          "base_uri": "https://localhost:8080/",
          "height": 463
        },
        "id": "pDv0DxafTq-z",
        "outputId": "79756387-b001-42ca-dd45-6185e99e6a22"
      },
      "execution_count": 231,
      "outputs": [
        {
          "output_type": "display_data",
          "data": {
            "text/plain": [
              "<Figure size 1000x700 with 1 Axes>"
            ],
            "image/png": "[encoded data removed]"
          },
          "metadata": {}
        }
      ]
    },
    {
      "cell_type": "markdown",
      "source": [
        "### Evaluating our model's predictions with regression metrics\n",
        "\n",
        "Depending on the problem you're working on, there will be different evaluation metrics your model's performance.\n",
        "\n",
        "Since we're working on a regression, two of the main metrics:\n",
        "* **MAE** - mean absolute error, \"on average, how wrong is each of my model's predictions\"\n",
        "\n",
        "`(tf.keras.losses.MAE())`\n",
        "`tf.keras.losses.mean_absolute_error`\n",
        "* **MSE** - mean square error, \"square the average errors\"\n",
        "\n",
        "`tf.keras.losses.MSE()`\n",
        "`tf.keras.losses.mean_squared_error`"
      ],
      "metadata": {
        "id": "0m7PLPFHT1Cd"
      }
    },
    {
      "cell_type": "code",
      "source": [
        "# Evaluate the model on the test\n",
        "model_2.evaluate(X_test, y_test)"
      ],
      "metadata": {
        "id": "qrQag7NlUXBp",
        "colab": {
          "base_uri": "https://localhost:8080/"
        },
        "outputId": "d969057e-5ca8-487d-9420-7b1bc050b03e"
      },
      "execution_count": 232,
      "outputs": [
        {
          "output_type": "stream",
          "name": "stdout",
          "text": [
            "1/1 [==============================] - 0s 127ms/step - loss: 6.5838 - mae: 6.5838\n"
          ]
        },
        {
          "output_type": "execute_result",
          "data": {
            "text/plain": [
              "[6.583807945251465, 6.583807945251465]"
            ]
          },
          "metadata": {},
          "execution_count": 232
        }
      ]
    },
    {
      "cell_type": "code",
      "source": [
        "# Calculate the mean absolute error\n",
        "mae = tf.keras.losses.mean_absolute_error(y_true=y_test, y_pred=tf.squeeze(tf.constant(y_pred)))\n",
        "mae"
      ],
      "metadata": {
        "colab": {
          "base_uri": "https://localhost:8080/"
        },
        "id": "sraVP2oqW-2R",
        "outputId": "3c247e2b-6ed1-48a0-eba0-627e14cd094b"
      },
      "execution_count": 233,
      "outputs": [
        {
          "output_type": "execute_result",
          "data": {
            "text/plain": [
              "<tf.Tensor: shape=(), dtype=float32, numpy=6.5838103>"
            ]
          },
          "metadata": {},
          "execution_count": 233
        }
      ]
    },
    {
      "cell_type": "code",
      "source": [
        "y_pred"
      ],
      "metadata": {
        "colab": {
          "base_uri": "https://localhost:8080/"
        },
        "id": "yredbHr1WuPk",
        "outputId": "6180b1fc-d92f-4bdf-f646-82438b52ac56"
      },
      "execution_count": 234,
      "outputs": [
        {
          "output_type": "execute_result",
          "data": {
            "text/plain": [
              "array([[ 72.78808 ],\n",
              "       [ 77.63158 ],\n",
              "       [ 82.475075],\n",
              "       [ 87.318565],\n",
              "       [ 92.16206 ],\n",
              "       [ 97.00556 ],\n",
              "       [101.84905 ],\n",
              "       [106.69255 ],\n",
              "       [111.53604 ],\n",
              "       [116.37954 ]], dtype=float32)"
            ]
          },
          "metadata": {},
          "execution_count": 234
        }
      ]
    },
    {
      "cell_type": "code",
      "source": [
        "y_test"
      ],
      "metadata": {
        "colab": {
          "base_uri": "https://localhost:8080/"
        },
        "id": "dbqjiA4ZW7AZ",
        "outputId": "b3d6b82a-607b-4846-8305-6335c4176788"
      },
      "execution_count": 235,
      "outputs": [
        {
          "output_type": "execute_result",
          "data": {
            "text/plain": [
              "<tf.Tensor: shape=(10,), dtype=int32, numpy=array([ 70,  74,  78,  82,  86,  90,  94,  98, 102, 106], dtype=int32)>"
            ]
          },
          "metadata": {},
          "execution_count": 235
        }
      ]
    },
    {
      "cell_type": "code",
      "source": [
        "# Calculate the mean squared error\n",
        "mse = tf.keras.losses.mean_squared_error(y_true=y_test, y_pred=tf.squeeze(tf.constant(y_pred)))\n",
        "mse"
      ],
      "metadata": {
        "colab": {
          "base_uri": "https://localhost:8080/"
        },
        "id": "v6XQGimbW8RS",
        "outputId": "e39bd00e-6291-4bde-8c8e-3e5a50393caf"
      },
      "execution_count": 236,
      "outputs": [
        {
          "output_type": "execute_result",
          "data": {
            "text/plain": [
              "<tf.Tensor: shape=(), dtype=float32, numpy=49.21631>"
            ]
          },
          "metadata": {},
          "execution_count": 236
        }
      ]
    },
    {
      "cell_type": "markdown",
      "source": [
        "🔑**Note:** Combination of MSE and MAE is called Huber Loss. Less sensitive to outliers than MSE\n",
        "\n",
        "`tf.keras.losses.Huber()`"
      ],
      "metadata": {
        "id": "WX4CoPHHZOdK"
      }
    },
    {
      "cell_type": "code",
      "source": [
        "# Make some functions to reuse MAE and MSE\n",
        "def mae(y_true, y_pred):\n",
        "  return tf.keras.losses.mean_absolute_error(y_true=y_true,\n",
        "                                             y_pred=y_pred)\n",
        "\n",
        "def mse(y_true, y_pred):\n",
        "  return tf.keras.losses.mean_squared_error(y_true=y_true,\n",
        "                                            y_pred=y_pred)"
      ],
      "metadata": {
        "id": "mOHF2cTTY0EB"
      },
      "execution_count": 237,
      "outputs": []
    },
    {
      "cell_type": "markdown",
      "source": [
        "### Running experiments to improve our model\n",
        "\n",
        "```\n",
        "Build a model -> fit it -> evaluate it -> tweak it -> fit it\n",
        "-> evaluate it -> tweak it -> fit it -> evaluate it - > repeat\n",
        "```\n",
        "\n",
        "1. Get more data - get more examples to train on (more opportunities to learn patterns or relationships b/w features and labels).\n",
        "2. Make your model larger (using more complex model) - this might come in form of more layers or more hidden units in each layer.\n",
        "3. Train for longer - give your model more of a chance to find patterns in the data.\n",
        "\n",
        "Let's do 3 modelling experiments:\n",
        "\n",
        "1. `model_1` - same as the original model, 1 layer, trained for 100 epochs.\n",
        "2. `model_2` - 2 layers, trained for 100 epochs\n",
        "3. `model_3` - 3 layers, trained for 500 epochs\n",
        "\n",
        "**Build `model_1`**"
      ],
      "metadata": {
        "id": "wcQ4iPIjaGlt"
      }
    },
    {
      "cell_type": "code",
      "source": [
        "# Set random seed\n",
        "tf.random.set_seed(42)\n",
        "\n",
        "# 1. Create the model\n",
        "model_1 = tf.keras.Sequential([\n",
        "    tf.keras.layers.Dense(1)\n",
        "])\n",
        "\n",
        "# 2. Compile the model\n",
        "model_1.compile(loss=tf.keras.losses.mae,\n",
        "                optimizer=tf.keras.optimizers.SGD(),\n",
        "                metrics=[\"mae\"])\n",
        "\n",
        "# 3. Fit the model\n",
        "model_1.fit(tf.expand_dims(X_train, axis=-1), y_train, epochs=100)"
      ],
      "metadata": {
        "colab": {
          "base_uri": "https://localhost:8080/"
        },
        "id": "PHGmINHkatgs",
        "outputId": "71e43fdc-83b7-46de-c674-44178912da6d"
      },
      "execution_count": 238,
      "outputs": [
        {
          "output_type": "stream",
          "name": "stdout",
          "text": [
            "Epoch 1/100\n",
            "2/2 [==============================] - 0s 9ms/step - loss: 108.3176 - mae: 108.3176\n",
            "Epoch 2/100\n",
            "2/2 [==============================] - 0s 6ms/step - loss: 72.8621 - mae: 72.8621\n",
            "Epoch 3/100\n",
            "2/2 [==============================] - 0s 8ms/step - loss: 35.3170 - mae: 35.3170\n",
            "Epoch 4/100\n",
            "2/2 [==============================] - 0s 7ms/step - loss: 8.0155 - mae: 8.0155\n",
            "Epoch 5/100\n",
            "2/2 [==============================] - 0s 7ms/step - loss: 12.8300 - mae: 12.8300\n",
            "Epoch 6/100\n",
            "2/2 [==============================] - 0s 6ms/step - loss: 7.9216 - mae: 7.9216\n",
            "Epoch 7/100\n",
            "2/2 [==============================] - 0s 7ms/step - loss: 12.1212 - mae: 12.1212\n",
            "Epoch 8/100\n",
            "2/2 [==============================] - 0s 6ms/step - loss: 7.5683 - mae: 7.5683\n",
            "Epoch 9/100\n",
            "2/2 [==============================] - 0s 6ms/step - loss: 7.5506 - mae: 7.5506\n",
            "Epoch 10/100\n",
            "2/2 [==============================] - 0s 6ms/step - loss: 12.5910 - mae: 12.5910\n",
            "Epoch 11/100\n",
            "2/2 [==============================] - 0s 6ms/step - loss: 10.3319 - mae: 10.3319\n",
            "Epoch 12/100\n",
            "2/2 [==============================] - 0s 6ms/step - loss: 18.5872 - mae: 18.5872\n",
            "Epoch 13/100\n",
            "2/2 [==============================] - 0s 6ms/step - loss: 9.7547 - mae: 9.7547\n",
            "Epoch 14/100\n",
            "2/2 [==============================] - 0s 7ms/step - loss: 15.6921 - mae: 15.6921\n",
            "Epoch 15/100\n",
            "2/2 [==============================] - 0s 8ms/step - loss: 11.2675 - mae: 11.2675\n",
            "Epoch 16/100\n",
            "2/2 [==============================] - 0s 6ms/step - loss: 8.6148 - mae: 8.6148\n",
            "Epoch 17/100\n",
            "2/2 [==============================] - 0s 6ms/step - loss: 13.7776 - mae: 13.7776\n",
            "Epoch 18/100\n",
            "2/2 [==============================] - 0s 8ms/step - loss: 11.6338 - mae: 11.6338\n",
            "Epoch 19/100\n",
            "2/2 [==============================] - 0s 6ms/step - loss: 17.7655 - mae: 17.7655\n",
            "Epoch 20/100\n",
            "2/2 [==============================] - 0s 6ms/step - loss: 14.9013 - mae: 14.9013\n",
            "Epoch 21/100\n",
            "2/2 [==============================] - 0s 7ms/step - loss: 10.8066 - mae: 10.8066\n",
            "Epoch 22/100\n",
            "2/2 [==============================] - 0s 6ms/step - loss: 8.5510 - mae: 8.5510\n",
            "Epoch 23/100\n",
            "2/2 [==============================] - 0s 6ms/step - loss: 9.7964 - mae: 9.7964\n",
            "Epoch 24/100\n",
            "2/2 [==============================] - 0s 7ms/step - loss: 10.9078 - mae: 10.9078\n",
            "Epoch 25/100\n",
            "2/2 [==============================] - 0s 7ms/step - loss: 9.1590 - mae: 9.1590\n",
            "Epoch 26/100\n",
            "2/2 [==============================] - 0s 6ms/step - loss: 13.1391 - mae: 13.1391\n",
            "Epoch 27/100\n",
            "2/2 [==============================] - 0s 6ms/step - loss: 10.4581 - mae: 10.4581\n",
            "Epoch 28/100\n",
            "2/2 [==============================] - 0s 6ms/step - loss: 13.4839 - mae: 13.4839\n",
            "Epoch 29/100\n",
            "2/2 [==============================] - 0s 7ms/step - loss: 9.6508 - mae: 9.6508\n",
            "Epoch 30/100\n",
            "2/2 [==============================] - 0s 6ms/step - loss: 17.3265 - mae: 17.3265\n",
            "Epoch 31/100\n",
            "2/2 [==============================] - 0s 7ms/step - loss: 22.7695 - mae: 22.7695\n",
            "Epoch 32/100\n",
            "2/2 [==============================] - 0s 7ms/step - loss: 7.9451 - mae: 7.9451\n",
            "Epoch 33/100\n",
            "2/2 [==============================] - 0s 7ms/step - loss: 14.2277 - mae: 14.2277\n",
            "Epoch 34/100\n",
            "2/2 [==============================] - 0s 8ms/step - loss: 12.4921 - mae: 12.4921\n",
            "Epoch 35/100\n",
            "2/2 [==============================] - 0s 7ms/step - loss: 8.2619 - mae: 8.2619\n",
            "Epoch 36/100\n",
            "2/2 [==============================] - 0s 7ms/step - loss: 10.4630 - mae: 10.4630\n",
            "Epoch 37/100\n",
            "2/2 [==============================] - 0s 6ms/step - loss: 10.1176 - mae: 10.1176\n",
            "Epoch 38/100\n",
            "2/2 [==============================] - 0s 7ms/step - loss: 11.2819 - mae: 11.2819\n",
            "Epoch 39/100\n",
            "2/2 [==============================] - 0s 7ms/step - loss: 14.8514 - mae: 14.8514\n",
            "Epoch 40/100\n",
            "2/2 [==============================] - 0s 7ms/step - loss: 12.9810 - mae: 12.9810\n",
            "Epoch 41/100\n",
            "2/2 [==============================] - 0s 7ms/step - loss: 9.3813 - mae: 9.3813\n",
            "Epoch 42/100\n",
            "2/2 [==============================] - 0s 10ms/step - loss: 10.9769 - mae: 10.9769\n",
            "Epoch 43/100\n",
            "2/2 [==============================] - 0s 7ms/step - loss: 8.3505 - mae: 8.3505\n",
            "Epoch 44/100\n",
            "2/2 [==============================] - 0s 7ms/step - loss: 12.9744 - mae: 12.9744\n",
            "Epoch 45/100\n",
            "2/2 [==============================] - 0s 7ms/step - loss: 13.7816 - mae: 13.7816\n",
            "Epoch 46/100\n",
            "2/2 [==============================] - 0s 7ms/step - loss: 8.4711 - mae: 8.4711\n",
            "Epoch 47/100\n",
            "2/2 [==============================] - 0s 6ms/step - loss: 9.1779 - mae: 9.1779\n",
            "Epoch 48/100\n",
            "2/2 [==============================] - 0s 6ms/step - loss: 10.6735 - mae: 10.6735\n",
            "Epoch 49/100\n",
            "2/2 [==============================] - 0s 7ms/step - loss: 7.7917 - mae: 7.7917\n",
            "Epoch 50/100\n",
            "2/2 [==============================] - 0s 7ms/step - loss: 9.5918 - mae: 9.5918\n",
            "Epoch 51/100\n",
            "2/2 [==============================] - 0s 7ms/step - loss: 9.1913 - mae: 9.1913\n",
            "Epoch 52/100\n",
            "2/2 [==============================] - 0s 7ms/step - loss: 16.4230 - mae: 16.4230\n",
            "Epoch 53/100\n",
            "2/2 [==============================] - 0s 6ms/step - loss: 14.1284 - mae: 14.1284\n",
            "Epoch 54/100\n",
            "2/2 [==============================] - 0s 6ms/step - loss: 21.0823 - mae: 21.0823\n",
            "Epoch 55/100\n",
            "2/2 [==============================] - 0s 8ms/step - loss: 16.4567 - mae: 16.4567\n",
            "Epoch 56/100\n",
            "2/2 [==============================] - 0s 7ms/step - loss: 9.9242 - mae: 9.9242\n",
            "Epoch 57/100\n",
            "2/2 [==============================] - 0s 6ms/step - loss: 9.6631 - mae: 9.6631\n",
            "Epoch 58/100\n",
            "2/2 [==============================] - 0s 7ms/step - loss: 8.9901 - mae: 8.9901\n",
            "Epoch 59/100\n",
            "2/2 [==============================] - 0s 6ms/step - loss: 10.1867 - mae: 10.1867\n",
            "Epoch 60/100\n",
            "2/2 [==============================] - 0s 6ms/step - loss: 8.4641 - mae: 8.4641\n",
            "Epoch 61/100\n",
            "2/2 [==============================] - 0s 6ms/step - loss: 9.3102 - mae: 9.3102\n",
            "Epoch 62/100\n",
            "2/2 [==============================] - 0s 6ms/step - loss: 7.1025 - mae: 7.1025\n",
            "Epoch 63/100\n",
            "2/2 [==============================] - 0s 7ms/step - loss: 8.6657 - mae: 8.6657\n",
            "Epoch 64/100\n",
            "2/2 [==============================] - 0s 6ms/step - loss: 9.2442 - mae: 9.2442\n",
            "Epoch 65/100\n",
            "2/2 [==============================] - 0s 7ms/step - loss: 10.4928 - mae: 10.4928\n",
            "Epoch 66/100\n",
            "2/2 [==============================] - 0s 6ms/step - loss: 15.6884 - mae: 15.6884\n",
            "Epoch 67/100\n",
            "2/2 [==============================] - 0s 7ms/step - loss: 10.0811 - mae: 10.0811\n",
            "Epoch 68/100\n",
            "2/2 [==============================] - 0s 7ms/step - loss: 9.0527 - mae: 9.0527\n",
            "Epoch 69/100\n",
            "2/2 [==============================] - 0s 13ms/step - loss: 12.5611 - mae: 12.5611\n",
            "Epoch 70/100\n",
            "2/2 [==============================] - 0s 6ms/step - loss: 8.9972 - mae: 8.9972\n",
            "Epoch 71/100\n",
            "2/2 [==============================] - 0s 6ms/step - loss: 9.9729 - mae: 9.9729\n",
            "Epoch 72/100\n",
            "2/2 [==============================] - 0s 10ms/step - loss: 10.0086 - mae: 10.0086\n",
            "Epoch 73/100\n",
            "2/2 [==============================] - 0s 6ms/step - loss: 12.4847 - mae: 12.4847\n",
            "Epoch 74/100\n",
            "2/2 [==============================] - 0s 7ms/step - loss: 10.5774 - mae: 10.5774\n",
            "Epoch 75/100\n",
            "2/2 [==============================] - 0s 8ms/step - loss: 9.6681 - mae: 9.6681\n",
            "Epoch 76/100\n",
            "2/2 [==============================] - 0s 6ms/step - loss: 11.1395 - mae: 11.1395\n",
            "Epoch 77/100\n",
            "2/2 [==============================] - 0s 7ms/step - loss: 8.3144 - mae: 8.3144\n",
            "Epoch 78/100\n",
            "2/2 [==============================] - 0s 7ms/step - loss: 9.0158 - mae: 9.0158\n",
            "Epoch 79/100\n",
            "2/2 [==============================] - 0s 7ms/step - loss: 19.7708 - mae: 19.7708\n",
            "Epoch 80/100\n",
            "2/2 [==============================] - 0s 7ms/step - loss: 17.8583 - mae: 17.8583\n",
            "Epoch 81/100\n",
            "2/2 [==============================] - 0s 7ms/step - loss: 7.0958 - mae: 7.0958\n",
            "Epoch 82/100\n",
            "2/2 [==============================] - 0s 5ms/step - loss: 10.4486 - mae: 10.4486\n",
            "Epoch 83/100\n",
            "2/2 [==============================] - 0s 5ms/step - loss: 9.8753 - mae: 9.8753\n",
            "Epoch 84/100\n",
            "2/2 [==============================] - 0s 6ms/step - loss: 7.9554 - mae: 7.9554\n",
            "Epoch 85/100\n",
            "2/2 [==============================] - 0s 10ms/step - loss: 9.4584 - mae: 9.4584\n",
            "Epoch 86/100\n",
            "2/2 [==============================] - 0s 9ms/step - loss: 9.2792 - mae: 9.2792\n",
            "Epoch 87/100\n",
            "2/2 [==============================] - 0s 7ms/step - loss: 12.0646 - mae: 12.0646\n",
            "Epoch 88/100\n",
            "2/2 [==============================] - 0s 6ms/step - loss: 10.6860 - mae: 10.6860\n",
            "Epoch 89/100\n",
            "2/2 [==============================] - 0s 7ms/step - loss: 7.2922 - mae: 7.2922\n",
            "Epoch 90/100\n",
            "2/2 [==============================] - 0s 7ms/step - loss: 12.8286 - mae: 12.8286\n",
            "Epoch 91/100\n",
            "2/2 [==============================] - 0s 7ms/step - loss: 7.5059 - mae: 7.5059\n",
            "Epoch 92/100\n",
            "2/2 [==============================] - 0s 7ms/step - loss: 6.7756 - mae: 6.7756\n",
            "Epoch 93/100\n",
            "2/2 [==============================] - 0s 7ms/step - loss: 11.9790 - mae: 11.9790\n",
            "Epoch 94/100\n",
            "2/2 [==============================] - 0s 9ms/step - loss: 8.9104 - mae: 8.9104\n",
            "Epoch 95/100\n",
            "2/2 [==============================] - 0s 6ms/step - loss: 7.7494 - mae: 7.7494\n",
            "Epoch 96/100\n",
            "2/2 [==============================] - 0s 7ms/step - loss: 6.7753 - mae: 6.7753\n",
            "Epoch 97/100\n",
            "2/2 [==============================] - 0s 9ms/step - loss: 8.6637 - mae: 8.6637\n",
            "Epoch 98/100\n",
            "2/2 [==============================] - 0s 7ms/step - loss: 9.4111 - mae: 9.4111\n",
            "Epoch 99/100\n",
            "2/2 [==============================] - 0s 7ms/step - loss: 9.1473 - mae: 9.1473\n",
            "Epoch 100/100\n",
            "2/2 [==============================] - 0s 8ms/step - loss: 10.5023 - mae: 10.5023\n"
          ]
        },
        {
          "output_type": "execute_result",
          "data": {
            "text/plain": [
              "<keras.src.callbacks.History at 0x7b2feebd8c70>"
            ]
          },
          "metadata": {},
          "execution_count": 238
        }
      ]
    },
    {
      "cell_type": "code",
      "source": [
        "# Make and plot predictions for model_1\n",
        "y_preds_1 = model_1.predict(tf.expand_dims(X_test, axis=-1))\n",
        "plot_predictions(train_data=X_train, train_labels=y_train,\n",
        "                 test_data=X_test, test_labels=y_test,\n",
        "                 predictions=y_preds_1)"
      ],
      "metadata": {
        "colab": {
          "base_uri": "https://localhost:8080/",
          "height": 485
        },
        "id": "xRZ9-6FRbcEL",
        "outputId": "4b25e3c6-939e-4278-8cef-6fe1614d659e"
      },
      "execution_count": 239,
      "outputs": [
        {
          "output_type": "stream",
          "name": "stdout",
          "text": [
            "1/1 [==============================] - 0s 72ms/step\n"
          ]
        },
        {
          "output_type": "display_data",
          "data": {
            "text/plain": [
              "<Figure size 1000x700 with 1 Axes>"
            ],
            "image/png": "[encoded data removed]"
          },
          "metadata": {}
        }
      ]
    },
    {
      "cell_type": "code",
      "source": [
        "# Calculate model_1 evaluation metrics\n",
        "mae_1 = mae(y_test, tf.squeeze(tf.constant(y_preds_1)))\n",
        "mse_1 = mse(y_test, tf.squeeze(tf.constant(y_preds_1)))\n",
        "mae_1, mse_1"
      ],
      "metadata": {
        "colab": {
          "base_uri": "https://localhost:8080/"
        },
        "id": "ud7dtmg2dD9q",
        "outputId": "3c85d7fa-9ad2-47f3-a096-67bafd10aaaa"
      },
      "execution_count": 240,
      "outputs": [
        {
          "output_type": "execute_result",
          "data": {
            "text/plain": [
              "(<tf.Tensor: shape=(), dtype=float32, numpy=14.995496>,\n",
              " <tf.Tensor: shape=(), dtype=float32, numpy=225.71538>)"
            ]
          },
          "metadata": {},
          "execution_count": 240
        }
      ]
    },
    {
      "cell_type": "markdown",
      "source": [
        "**Build `model_2`\n",
        "\n",
        "* 2 dense layers trained for 100 epochs"
      ],
      "metadata": {
        "id": "4jTTOZc9e755"
      }
    },
    {
      "cell_type": "code",
      "source": [
        "# Set random seed\n",
        "tf.random.set_seed(42)\n",
        "\n",
        "# 1. Create the model\n",
        "model_2 = tf.keras.Sequential([\n",
        "    tf.keras.layers.Dense(16, activation='relu'),\n",
        "    tf.keras.layers.Dense(1)\n",
        "])\n",
        "\n",
        "# 2. Compile the model\n",
        "model_2.compile(loss=tf.keras.losses.mse,\n",
        "                optimizer=tf.keras.optimizers.SGD(learning_rate=0.0001),\n",
        "                metrics=[\"mse\"])\n",
        "\n",
        "# 3. Fit the model\n",
        "model_2.fit(tf.expand_dims(X_train, axis=-1), y_train, epochs=100)"
      ],
      "metadata": {
        "colab": {
          "base_uri": "https://localhost:8080/"
        },
        "id": "Vl1JsmVNdIvX",
        "outputId": "67fd6f8b-aa81-49c2-bbd8-ed7c38010f5f"
      },
      "execution_count": 241,
      "outputs": [
        {
          "output_type": "stream",
          "name": "stdout",
          "text": [
            "Epoch 1/100\n",
            "2/2 [==============================] - 1s 13ms/step - loss: 1430.9255 - mse: 1430.9255\n",
            "Epoch 2/100\n",
            "2/2 [==============================] - 0s 8ms/step - loss: 311.6610 - mse: 311.6610\n",
            "Epoch 3/100\n",
            "2/2 [==============================] - 0s 10ms/step - loss: 173.3574 - mse: 173.3574\n",
            "Epoch 4/100\n",
            "2/2 [==============================] - 0s 7ms/step - loss: 84.5711 - mse: 84.5711\n",
            "Epoch 5/100\n",
            "2/2 [==============================] - 0s 10ms/step - loss: 41.7735 - mse: 41.7735\n",
            "Epoch 6/100\n",
            "2/2 [==============================] - 0s 8ms/step - loss: 30.3296 - mse: 30.3296\n",
            "Epoch 7/100\n",
            "2/2 [==============================] - 0s 10ms/step - loss: 27.0439 - mse: 27.0439\n",
            "Epoch 8/100\n",
            "2/2 [==============================] - 0s 10ms/step - loss: 26.3718 - mse: 26.3718\n",
            "Epoch 9/100\n",
            "2/2 [==============================] - 0s 10ms/step - loss: 37.2860 - mse: 37.2860\n",
            "Epoch 10/100\n",
            "2/2 [==============================] - 0s 9ms/step - loss: 25.8534 - mse: 25.8534\n",
            "Epoch 11/100\n",
            "2/2 [==============================] - 0s 8ms/step - loss: 25.2320 - mse: 25.2320\n",
            "Epoch 12/100\n",
            "2/2 [==============================] - 0s 10ms/step - loss: 24.9863 - mse: 24.9863\n",
            "Epoch 13/100\n",
            "2/2 [==============================] - 0s 8ms/step - loss: 25.7110 - mse: 25.7110\n",
            "Epoch 14/100\n",
            "2/2 [==============================] - 0s 8ms/step - loss: 29.7051 - mse: 29.7051\n",
            "Epoch 15/100\n",
            "2/2 [==============================] - 0s 10ms/step - loss: 25.4097 - mse: 25.4097\n",
            "Epoch 16/100\n",
            "2/2 [==============================] - 0s 11ms/step - loss: 24.9543 - mse: 24.9543\n",
            "Epoch 17/100\n",
            "2/2 [==============================] - 0s 13ms/step - loss: 26.1694 - mse: 26.1694\n",
            "Epoch 18/100\n",
            "2/2 [==============================] - 0s 10ms/step - loss: 25.2775 - mse: 25.2775\n",
            "Epoch 19/100\n",
            "2/2 [==============================] - 0s 11ms/step - loss: 25.0857 - mse: 25.0857\n",
            "Epoch 20/100\n",
            "2/2 [==============================] - 0s 9ms/step - loss: 25.2531 - mse: 25.2531\n",
            "Epoch 21/100\n",
            "2/2 [==============================] - 0s 9ms/step - loss: 25.2332 - mse: 25.2332\n",
            "Epoch 22/100\n",
            "2/2 [==============================] - 0s 11ms/step - loss: 24.8802 - mse: 24.8802\n",
            "Epoch 23/100\n",
            "2/2 [==============================] - 0s 8ms/step - loss: 24.9123 - mse: 24.9123\n",
            "Epoch 24/100\n",
            "2/2 [==============================] - 0s 8ms/step - loss: 25.4813 - mse: 25.4813\n",
            "Epoch 25/100\n",
            "2/2 [==============================] - 0s 8ms/step - loss: 26.8169 - mse: 26.8169\n",
            "Epoch 26/100\n",
            "2/2 [==============================] - 0s 10ms/step - loss: 25.1403 - mse: 25.1403\n",
            "Epoch 27/100\n",
            "2/2 [==============================] - 0s 9ms/step - loss: 25.1674 - mse: 25.1674\n",
            "Epoch 28/100\n",
            "2/2 [==============================] - 0s 9ms/step - loss: 24.9113 - mse: 24.9113\n",
            "Epoch 29/100\n",
            "2/2 [==============================] - 0s 7ms/step - loss: 25.6062 - mse: 25.6062\n",
            "Epoch 30/100\n",
            "2/2 [==============================] - 0s 10ms/step - loss: 29.7514 - mse: 29.7514\n",
            "Epoch 31/100\n",
            "2/2 [==============================] - 0s 8ms/step - loss: 28.1166 - mse: 28.1166\n",
            "Epoch 32/100\n",
            "2/2 [==============================] - 0s 10ms/step - loss: 27.4727 - mse: 27.4727\n",
            "Epoch 33/100\n",
            "2/2 [==============================] - 0s 9ms/step - loss: 24.8993 - mse: 24.8993\n",
            "Epoch 34/100\n",
            "2/2 [==============================] - 0s 11ms/step - loss: 25.2030 - mse: 25.2030\n",
            "Epoch 35/100\n",
            "2/2 [==============================] - 0s 7ms/step - loss: 27.8191 - mse: 27.8191\n",
            "Epoch 36/100\n",
            "2/2 [==============================] - 0s 11ms/step - loss: 27.3643 - mse: 27.3643\n",
            "Epoch 37/100\n",
            "2/2 [==============================] - 0s 7ms/step - loss: 25.0222 - mse: 25.0222\n",
            "Epoch 38/100\n",
            "2/2 [==============================] - 0s 7ms/step - loss: 24.9920 - mse: 24.9920\n",
            "Epoch 39/100\n",
            "2/2 [==============================] - 0s 9ms/step - loss: 24.7578 - mse: 24.7578\n",
            "Epoch 40/100\n",
            "2/2 [==============================] - 0s 7ms/step - loss: 24.8719 - mse: 24.8719\n",
            "Epoch 41/100\n",
            "2/2 [==============================] - 0s 11ms/step - loss: 25.5336 - mse: 25.5336\n",
            "Epoch 42/100\n",
            "2/2 [==============================] - 0s 9ms/step - loss: 24.8423 - mse: 24.8423\n",
            "Epoch 43/100\n",
            "2/2 [==============================] - 0s 9ms/step - loss: 25.0865 - mse: 25.0865\n",
            "Epoch 44/100\n",
            "2/2 [==============================] - 0s 8ms/step - loss: 26.3138 - mse: 26.3138\n",
            "Epoch 45/100\n",
            "2/2 [==============================] - 0s 9ms/step - loss: 27.0045 - mse: 27.0045\n",
            "Epoch 46/100\n",
            "2/2 [==============================] - 0s 8ms/step - loss: 26.2729 - mse: 26.2729\n",
            "Epoch 47/100\n",
            "2/2 [==============================] - 0s 11ms/step - loss: 26.1693 - mse: 26.1693\n",
            "Epoch 48/100\n",
            "2/2 [==============================] - 0s 12ms/step - loss: 25.7331 - mse: 25.7331\n",
            "Epoch 49/100\n",
            "2/2 [==============================] - 0s 8ms/step - loss: 26.5232 - mse: 26.5232\n",
            "Epoch 50/100\n",
            "2/2 [==============================] - 0s 6ms/step - loss: 28.0807 - mse: 28.0807\n",
            "Epoch 51/100\n",
            "2/2 [==============================] - 0s 7ms/step - loss: 25.2796 - mse: 25.2796\n",
            "Epoch 52/100\n",
            "2/2 [==============================] - 0s 6ms/step - loss: 27.3557 - mse: 27.3557\n",
            "Epoch 53/100\n",
            "2/2 [==============================] - 0s 7ms/step - loss: 25.9545 - mse: 25.9545\n",
            "Epoch 54/100\n",
            "2/2 [==============================] - 0s 6ms/step - loss: 25.6320 - mse: 25.6320\n",
            "Epoch 55/100\n",
            "2/2 [==============================] - 0s 6ms/step - loss: 25.9833 - mse: 25.9833\n",
            "Epoch 56/100\n",
            "2/2 [==============================] - 0s 7ms/step - loss: 24.6531 - mse: 24.6531\n",
            "Epoch 57/100\n",
            "2/2 [==============================] - 0s 7ms/step - loss: 25.6046 - mse: 25.6046\n",
            "Epoch 58/100\n",
            "2/2 [==============================] - 0s 9ms/step - loss: 24.6596 - mse: 24.6596\n",
            "Epoch 59/100\n",
            "2/2 [==============================] - 0s 6ms/step - loss: 24.8727 - mse: 24.8727\n",
            "Epoch 60/100\n",
            "2/2 [==============================] - 0s 7ms/step - loss: 26.8907 - mse: 26.8907\n",
            "Epoch 61/100\n",
            "2/2 [==============================] - 0s 8ms/step - loss: 24.7676 - mse: 24.7676\n",
            "Epoch 62/100\n",
            "2/2 [==============================] - 0s 8ms/step - loss: 24.9618 - mse: 24.9618\n",
            "Epoch 63/100\n",
            "2/2 [==============================] - 0s 9ms/step - loss: 25.1179 - mse: 25.1179\n",
            "Epoch 64/100\n",
            "2/2 [==============================] - 0s 7ms/step - loss: 24.6278 - mse: 24.6278\n",
            "Epoch 65/100\n",
            "2/2 [==============================] - 0s 7ms/step - loss: 25.8090 - mse: 25.8090\n",
            "Epoch 66/100\n",
            "2/2 [==============================] - 0s 8ms/step - loss: 25.7892 - mse: 25.7892\n",
            "Epoch 67/100\n",
            "2/2 [==============================] - 0s 7ms/step - loss: 24.7541 - mse: 24.7541\n",
            "Epoch 68/100\n",
            "2/2 [==============================] - 0s 7ms/step - loss: 24.6314 - mse: 24.6314\n",
            "Epoch 69/100\n",
            "2/2 [==============================] - 0s 7ms/step - loss: 25.3311 - mse: 25.3311\n",
            "Epoch 70/100\n",
            "2/2 [==============================] - 0s 7ms/step - loss: 24.8294 - mse: 24.8294\n",
            "Epoch 71/100\n",
            "2/2 [==============================] - 0s 7ms/step - loss: 25.7739 - mse: 25.7739\n",
            "Epoch 72/100\n",
            "2/2 [==============================] - 0s 7ms/step - loss: 24.5331 - mse: 24.5331\n",
            "Epoch 73/100\n",
            "2/2 [==============================] - 0s 7ms/step - loss: 25.4915 - mse: 25.4915\n",
            "Epoch 74/100\n",
            "2/2 [==============================] - 0s 6ms/step - loss: 27.1662 - mse: 27.1662\n",
            "Epoch 75/100\n",
            "2/2 [==============================] - 0s 7ms/step - loss: 28.4886 - mse: 28.4886\n",
            "Epoch 76/100\n",
            "2/2 [==============================] - 0s 7ms/step - loss: 25.5644 - mse: 25.5644\n",
            "Epoch 77/100\n",
            "2/2 [==============================] - 0s 6ms/step - loss: 25.1332 - mse: 25.1332\n",
            "Epoch 78/100\n",
            "2/2 [==============================] - 0s 7ms/step - loss: 26.9197 - mse: 26.9197\n",
            "Epoch 79/100\n",
            "2/2 [==============================] - 0s 7ms/step - loss: 27.4592 - mse: 27.4592\n",
            "Epoch 80/100\n",
            "2/2 [==============================] - 0s 7ms/step - loss: 27.3832 - mse: 27.3832\n",
            "Epoch 81/100\n",
            "2/2 [==============================] - 0s 7ms/step - loss: 25.3672 - mse: 25.3672\n",
            "Epoch 82/100\n",
            "2/2 [==============================] - 0s 7ms/step - loss: 24.9851 - mse: 24.9851\n",
            "Epoch 83/100\n",
            "2/2 [==============================] - 0s 7ms/step - loss: 25.6106 - mse: 25.6106\n",
            "Epoch 84/100\n",
            "2/2 [==============================] - 0s 7ms/step - loss: 25.4046 - mse: 25.4046\n",
            "Epoch 85/100\n",
            "2/2 [==============================] - 0s 7ms/step - loss: 29.5277 - mse: 29.5277\n",
            "Epoch 86/100\n",
            "2/2 [==============================] - 0s 8ms/step - loss: 25.1505 - mse: 25.1505\n",
            "Epoch 87/100\n",
            "2/2 [==============================] - 0s 7ms/step - loss: 31.1860 - mse: 31.1860\n",
            "Epoch 88/100\n",
            "2/2 [==============================] - 0s 6ms/step - loss: 32.8323 - mse: 32.8323\n",
            "Epoch 89/100\n",
            "2/2 [==============================] - 0s 7ms/step - loss: 26.6537 - mse: 26.6537\n",
            "Epoch 90/100\n",
            "2/2 [==============================] - 0s 6ms/step - loss: 26.8619 - mse: 26.8619\n",
            "Epoch 91/100\n",
            "2/2 [==============================] - 0s 6ms/step - loss: 24.4491 - mse: 24.4491\n",
            "Epoch 92/100\n",
            "2/2 [==============================] - 0s 7ms/step - loss: 24.6807 - mse: 24.6807\n",
            "Epoch 93/100\n",
            "2/2 [==============================] - 0s 8ms/step - loss: 24.8650 - mse: 24.8650\n",
            "Epoch 94/100\n",
            "2/2 [==============================] - 0s 7ms/step - loss: 24.6569 - mse: 24.6569\n",
            "Epoch 95/100\n",
            "2/2 [==============================] - 0s 7ms/step - loss: 24.8402 - mse: 24.8402\n",
            "Epoch 96/100\n",
            "2/2 [==============================] - 0s 7ms/step - loss: 25.2851 - mse: 25.2851\n",
            "Epoch 97/100\n",
            "2/2 [==============================] - 0s 7ms/step - loss: 26.6536 - mse: 26.6536\n",
            "Epoch 98/100\n",
            "2/2 [==============================] - 0s 7ms/step - loss: 25.0674 - mse: 25.0674\n",
            "Epoch 99/100\n",
            "2/2 [==============================] - 0s 8ms/step - loss: 24.3903 - mse: 24.3903\n",
            "Epoch 100/100\n",
            "2/2 [==============================] - 0s 7ms/step - loss: 24.3623 - mse: 24.3623\n"
          ]
        },
        {
          "output_type": "execute_result",
          "data": {
            "text/plain": [
              "<keras.src.callbacks.History at 0x7b2fee931f00>"
            ]
          },
          "metadata": {},
          "execution_count": 241
        }
      ]
    },
    {
      "cell_type": "code",
      "source": [
        "# Make and plot predictions for model_1\n",
        "y_preds_2 = model_2.predict(tf.expand_dims(X_test, axis=-1))\n",
        "plot_predictions(train_data=X_train, train_labels=y_train,\n",
        "                 test_data=X_test, test_labels=y_test,\n",
        "                 predictions=y_preds_2)"
      ],
      "metadata": {
        "colab": {
          "base_uri": "https://localhost:8080/",
          "height": 480
        },
        "id": "JcCj-qqYdCd9",
        "outputId": "02321824-fd54-4206-ca9d-9a0e44a6d6c3"
      },
      "execution_count": 242,
      "outputs": [
        {
          "output_type": "stream",
          "name": "stdout",
          "text": [
            "1/1 [==============================] - 0s 50ms/step\n"
          ]
        },
        {
          "output_type": "display_data",
          "data": {
            "text/plain": [
              "<Figure size 1000x700 with 1 Axes>"
            ],
            "image/png": "[encoded data removed]"
          },
          "metadata": {}
        }
      ]
    },
    {
      "cell_type": "code",
      "source": [
        "# Calculate model_2 evaluation metrics\n",
        "mae_2 = mae(y_test, tf.squeeze(tf.constant(y_preds_2)))\n",
        "mse_2 = mse(y_test, tf.squeeze(tf.constant(y_preds_2)))\n",
        "mae_2, mse_2"
      ],
      "metadata": {
        "colab": {
          "base_uri": "https://localhost:8080/"
        },
        "id": "srKjRplOhkR2",
        "outputId": "e25ace2a-42c6-4b1e-d503-ee2c9ac8c920"
      },
      "execution_count": 243,
      "outputs": [
        {
          "output_type": "execute_result",
          "data": {
            "text/plain": [
              "(<tf.Tensor: shape=(), dtype=float32, numpy=8.6137905>,\n",
              " <tf.Tensor: shape=(), dtype=float32, numpy=81.573166>)"
            ]
          },
          "metadata": {},
          "execution_count": 243
        }
      ]
    },
    {
      "cell_type": "markdown",
      "source": [
        "**Build `model_3`**\n",
        "* 3 layers, trained for 500 epochs"
      ],
      "metadata": {
        "id": "SP-1H_46jPJr"
      }
    },
    {
      "cell_type": "code",
      "source": [
        "# Set random seed\n",
        "tf.random.set_seed(42)\n",
        "\n",
        "# Create a model\n",
        "model_3 = tf.keras.Sequential([\n",
        "    tf.keras.layers.Dense(16, activation='relu'),\n",
        "    tf.keras.layers.Dense(16, activation='relu'),\n",
        "    tf.keras.layers.Dense(1)\n",
        "])\n",
        "\n",
        "# Compile the model\n",
        "model_3.compile(loss=tf.keras.losses.mae,\n",
        "                optimizer=tf.keras.optimizers.SGD(learning_rate=1e-3),\n",
        "                metrics=[\"mae\"])\n",
        "\n",
        "# Fit the model\n",
        "model_3.fit(tf.expand_dims(X_train, axis=-1), y_train, epochs=500)"
      ],
      "metadata": {
        "colab": {
          "base_uri": "https://localhost:8080/"
        },
        "id": "DHmdUTKxjGc5",
        "outputId": "3e9d5fa4-767a-44c0-d2f7-cf7b76443920"
      },
      "execution_count": 244,
      "outputs": [
        {
          "output_type": "stream",
          "name": "stdout",
          "text": [
            "Epoch 1/500\n",
            "2/2 [==============================] - 0s 12ms/step - loss: 36.7690 - mae: 36.7690\n",
            "Epoch 2/500\n",
            "2/2 [==============================] - 0s 6ms/step - loss: 31.4473 - mae: 31.4473\n",
            "Epoch 3/500\n",
            "2/2 [==============================] - 0s 6ms/step - loss: 25.6075 - mae: 25.6075\n",
            "Epoch 4/500\n",
            "2/2 [==============================] - 0s 6ms/step - loss: 20.7374 - mae: 20.7374\n",
            "Epoch 5/500\n",
            "2/2 [==============================] - 0s 7ms/step - loss: 18.8111 - mae: 18.8111\n",
            "Epoch 6/500\n",
            "2/2 [==============================] - 0s 7ms/step - loss: 18.3730 - mae: 18.3730\n",
            "Epoch 7/500\n",
            "2/2 [==============================] - 0s 7ms/step - loss: 18.0733 - mae: 18.0733\n",
            "Epoch 8/500\n",
            "2/2 [==============================] - 0s 7ms/step - loss: 18.0361 - mae: 18.0361\n",
            "Epoch 9/500\n",
            "2/2 [==============================] - 0s 7ms/step - loss: 22.0532 - mae: 22.0532\n",
            "Epoch 10/500\n",
            "2/2 [==============================] - 0s 6ms/step - loss: 17.6897 - mae: 17.6897\n",
            "Epoch 11/500\n",
            "2/2 [==============================] - 0s 7ms/step - loss: 17.4752 - mae: 17.4752\n",
            "Epoch 12/500\n",
            "2/2 [==============================] - 0s 7ms/step - loss: 17.4280 - mae: 17.4280\n",
            "Epoch 13/500\n",
            "2/2 [==============================] - 0s 7ms/step - loss: 17.3395 - mae: 17.3395\n",
            "Epoch 14/500\n",
            "2/2 [==============================] - 0s 7ms/step - loss: 20.1313 - mae: 20.1313\n",
            "Epoch 15/500\n",
            "2/2 [==============================] - 0s 8ms/step - loss: 17.2289 - mae: 17.2289\n",
            "Epoch 16/500\n",
            "2/2 [==============================] - 0s 7ms/step - loss: 17.1327 - mae: 17.1327\n",
            "Epoch 17/500\n",
            "2/2 [==============================] - 0s 7ms/step - loss: 18.6999 - mae: 18.6999\n",
            "Epoch 18/500\n",
            "2/2 [==============================] - 0s 7ms/step - loss: 16.8656 - mae: 16.8656\n",
            "Epoch 19/500\n",
            "2/2 [==============================] - 0s 7ms/step - loss: 16.7614 - mae: 16.7614\n",
            "Epoch 20/500\n",
            "2/2 [==============================] - 0s 6ms/step - loss: 17.0148 - mae: 17.0148\n",
            "Epoch 21/500\n",
            "2/2 [==============================] - 0s 6ms/step - loss: 17.0826 - mae: 17.0826\n",
            "Epoch 22/500\n",
            "2/2 [==============================] - 0s 6ms/step - loss: 17.7011 - mae: 17.7011\n",
            "Epoch 23/500\n",
            "2/2 [==============================] - 0s 8ms/step - loss: 16.9916 - mae: 16.9916\n",
            "Epoch 24/500\n",
            "2/2 [==============================] - 0s 7ms/step - loss: 16.5109 - mae: 16.5109\n",
            "Epoch 25/500\n",
            "2/2 [==============================] - 0s 7ms/step - loss: 17.8112 - mae: 17.8112\n",
            "Epoch 26/500\n",
            "2/2 [==============================] - 0s 8ms/step - loss: 16.4287 - mae: 16.4287\n",
            "Epoch 27/500\n",
            "2/2 [==============================] - 0s 6ms/step - loss: 16.4574 - mae: 16.4574\n",
            "Epoch 28/500\n",
            "2/2 [==============================] - 0s 7ms/step - loss: 16.5924 - mae: 16.5924\n",
            "Epoch 29/500\n",
            "2/2 [==============================] - 0s 6ms/step - loss: 15.8303 - mae: 15.8303\n",
            "Epoch 30/500\n",
            "2/2 [==============================] - 0s 7ms/step - loss: 16.7415 - mae: 16.7415\n",
            "Epoch 31/500\n",
            "2/2 [==============================] - 0s 8ms/step - loss: 21.0369 - mae: 21.0369\n",
            "Epoch 32/500\n",
            "2/2 [==============================] - 0s 7ms/step - loss: 16.0141 - mae: 16.0141\n",
            "Epoch 33/500\n",
            "2/2 [==============================] - 0s 6ms/step - loss: 15.7661 - mae: 15.7661\n",
            "Epoch 34/500\n",
            "2/2 [==============================] - 0s 6ms/step - loss: 15.2330 - mae: 15.2330\n",
            "Epoch 35/500\n",
            "2/2 [==============================] - 0s 7ms/step - loss: 15.5895 - mae: 15.5895\n",
            "Epoch 36/500\n",
            "2/2 [==============================] - 0s 7ms/step - loss: 15.2876 - mae: 15.2876\n",
            "Epoch 37/500\n",
            "2/2 [==============================] - 0s 7ms/step - loss: 15.0300 - mae: 15.0300\n",
            "Epoch 38/500\n",
            "2/2 [==============================] - 0s 6ms/step - loss: 15.7406 - mae: 15.7406\n",
            "Epoch 39/500\n",
            "2/2 [==============================] - 0s 6ms/step - loss: 14.6383 - mae: 14.6383\n",
            "Epoch 40/500\n",
            "2/2 [==============================] - 0s 6ms/step - loss: 14.9736 - mae: 14.9736\n",
            "Epoch 41/500\n",
            "2/2 [==============================] - 0s 7ms/step - loss: 15.4866 - mae: 15.4866\n",
            "Epoch 42/500\n",
            "2/2 [==============================] - 0s 6ms/step - loss: 14.3607 - mae: 14.3607\n",
            "Epoch 43/500\n",
            "2/2 [==============================] - 0s 7ms/step - loss: 14.0047 - mae: 14.0047\n",
            "Epoch 44/500\n",
            "2/2 [==============================] - 0s 7ms/step - loss: 14.4937 - mae: 14.4937\n",
            "Epoch 45/500\n",
            "2/2 [==============================] - 0s 6ms/step - loss: 13.6624 - mae: 13.6624\n",
            "Epoch 46/500\n",
            "2/2 [==============================] - 0s 8ms/step - loss: 13.9846 - mae: 13.9846\n",
            "Epoch 47/500\n",
            "2/2 [==============================] - 0s 7ms/step - loss: 13.6866 - mae: 13.6866\n",
            "Epoch 48/500\n",
            "2/2 [==============================] - 0s 9ms/step - loss: 14.3737 - mae: 14.3737\n",
            "Epoch 49/500\n",
            "2/2 [==============================] - 0s 7ms/step - loss: 13.5717 - mae: 13.5717\n",
            "Epoch 50/500\n",
            "2/2 [==============================] - 0s 7ms/step - loss: 14.4612 - mae: 14.4612\n",
            "Epoch 51/500\n",
            "2/2 [==============================] - 0s 7ms/step - loss: 12.9898 - mae: 12.9898\n",
            "Epoch 52/500\n",
            "2/2 [==============================] - 0s 8ms/step - loss: 12.6679 - mae: 12.6679\n",
            "Epoch 53/500\n",
            "2/2 [==============================] - 0s 7ms/step - loss: 11.8192 - mae: 11.8192\n",
            "Epoch 54/500\n",
            "2/2 [==============================] - 0s 7ms/step - loss: 11.6524 - mae: 11.6524\n",
            "Epoch 55/500\n",
            "2/2 [==============================] - 0s 7ms/step - loss: 13.6955 - mae: 13.6955\n",
            "Epoch 56/500\n",
            "2/2 [==============================] - 0s 7ms/step - loss: 11.1667 - mae: 11.1667\n",
            "Epoch 57/500\n",
            "2/2 [==============================] - 0s 7ms/step - loss: 10.9781 - mae: 10.9781\n",
            "Epoch 58/500\n",
            "2/2 [==============================] - 0s 7ms/step - loss: 10.2739 - mae: 10.2739\n",
            "Epoch 59/500\n",
            "2/2 [==============================] - 0s 7ms/step - loss: 10.4079 - mae: 10.4079\n",
            "Epoch 60/500\n",
            "2/2 [==============================] - 0s 7ms/step - loss: 9.6588 - mae: 9.6588\n",
            "Epoch 61/500\n",
            "2/2 [==============================] - 0s 7ms/step - loss: 9.5073 - mae: 9.5073\n",
            "Epoch 62/500\n",
            "2/2 [==============================] - 0s 7ms/step - loss: 8.4664 - mae: 8.4664\n",
            "Epoch 63/500\n",
            "2/2 [==============================] - 0s 8ms/step - loss: 8.0439 - mae: 8.0439\n",
            "Epoch 64/500\n",
            "2/2 [==============================] - 0s 7ms/step - loss: 9.6573 - mae: 9.6573\n",
            "Epoch 65/500\n",
            "2/2 [==============================] - 0s 11ms/step - loss: 6.8329 - mae: 6.8329\n",
            "Epoch 66/500\n",
            "2/2 [==============================] - 0s 8ms/step - loss: 7.9158 - mae: 7.9158\n",
            "Epoch 67/500\n",
            "2/2 [==============================] - 0s 10ms/step - loss: 5.6965 - mae: 5.6965\n",
            "Epoch 68/500\n",
            "2/2 [==============================] - 0s 7ms/step - loss: 4.8520 - mae: 4.8520\n",
            "Epoch 69/500\n",
            "2/2 [==============================] - 0s 7ms/step - loss: 5.8917 - mae: 5.8917\n",
            "Epoch 70/500\n",
            "2/2 [==============================] - 0s 7ms/step - loss: 4.1472 - mae: 4.1472\n",
            "Epoch 71/500\n",
            "2/2 [==============================] - 0s 7ms/step - loss: 6.1592 - mae: 6.1592\n",
            "Epoch 72/500\n",
            "2/2 [==============================] - 0s 7ms/step - loss: 4.1551 - mae: 4.1551\n",
            "Epoch 73/500\n",
            "2/2 [==============================] - 0s 7ms/step - loss: 4.1720 - mae: 4.1720\n",
            "Epoch 74/500\n",
            "2/2 [==============================] - 0s 7ms/step - loss: 4.2395 - mae: 4.2395\n",
            "Epoch 75/500\n",
            "2/2 [==============================] - 0s 8ms/step - loss: 4.8379 - mae: 4.8379\n",
            "Epoch 76/500\n",
            "2/2 [==============================] - 0s 7ms/step - loss: 5.4148 - mae: 5.4148\n",
            "Epoch 77/500\n",
            "2/2 [==============================] - 0s 8ms/step - loss: 6.0201 - mae: 6.0201\n",
            "Epoch 78/500\n",
            "2/2 [==============================] - 0s 7ms/step - loss: 4.7745 - mae: 4.7745\n",
            "Epoch 79/500\n",
            "2/2 [==============================] - 0s 9ms/step - loss: 5.8216 - mae: 5.8216\n",
            "Epoch 80/500\n",
            "2/2 [==============================] - 0s 9ms/step - loss: 4.8149 - mae: 4.8149\n",
            "Epoch 81/500\n",
            "2/2 [==============================] - 0s 8ms/step - loss: 4.5514 - mae: 4.5514\n",
            "Epoch 82/500\n",
            "2/2 [==============================] - 0s 7ms/step - loss: 4.0947 - mae: 4.0947\n",
            "Epoch 83/500\n",
            "2/2 [==============================] - 0s 7ms/step - loss: 4.2242 - mae: 4.2242\n",
            "Epoch 84/500\n",
            "2/2 [==============================] - 0s 6ms/step - loss: 4.3660 - mae: 4.3660\n",
            "Epoch 85/500\n",
            "2/2 [==============================] - 0s 8ms/step - loss: 5.4424 - mae: 5.4424\n",
            "Epoch 86/500\n",
            "2/2 [==============================] - 0s 7ms/step - loss: 5.9123 - mae: 5.9123\n",
            "Epoch 87/500\n",
            "2/2 [==============================] - 0s 7ms/step - loss: 6.4966 - mae: 6.4966\n",
            "Epoch 88/500\n",
            "2/2 [==============================] - 0s 7ms/step - loss: 6.2853 - mae: 6.2853\n",
            "Epoch 89/500\n",
            "2/2 [==============================] - 0s 7ms/step - loss: 4.5450 - mae: 4.5450\n",
            "Epoch 90/500\n",
            "2/2 [==============================] - 0s 6ms/step - loss: 4.7231 - mae: 4.7231\n",
            "Epoch 91/500\n",
            "2/2 [==============================] - 0s 7ms/step - loss: 4.1014 - mae: 4.1014\n",
            "Epoch 92/500\n",
            "2/2 [==============================] - 0s 7ms/step - loss: 4.2700 - mae: 4.2700\n",
            "Epoch 93/500\n",
            "2/2 [==============================] - 0s 7ms/step - loss: 4.0974 - mae: 4.0974\n",
            "Epoch 94/500\n",
            "2/2 [==============================] - 0s 9ms/step - loss: 4.2046 - mae: 4.2046\n",
            "Epoch 95/500\n",
            "2/2 [==============================] - 0s 8ms/step - loss: 4.2367 - mae: 4.2367\n",
            "Epoch 96/500\n",
            "2/2 [==============================] - 0s 8ms/step - loss: 4.7137 - mae: 4.7137\n",
            "Epoch 97/500\n",
            "2/2 [==============================] - 0s 8ms/step - loss: 5.7105 - mae: 5.7105\n",
            "Epoch 98/500\n",
            "2/2 [==============================] - 0s 9ms/step - loss: 4.4519 - mae: 4.4519\n",
            "Epoch 99/500\n",
            "2/2 [==============================] - 0s 8ms/step - loss: 4.9331 - mae: 4.9331\n",
            "Epoch 100/500\n",
            "2/2 [==============================] - 0s 9ms/step - loss: 4.8807 - mae: 4.8807\n",
            "Epoch 101/500\n",
            "2/2 [==============================] - 0s 7ms/step - loss: 4.1947 - mae: 4.1947\n",
            "Epoch 102/500\n",
            "2/2 [==============================] - 0s 7ms/step - loss: 4.2452 - mae: 4.2452\n",
            "Epoch 103/500\n",
            "2/2 [==============================] - 0s 7ms/step - loss: 4.7449 - mae: 4.7449\n",
            "Epoch 104/500\n",
            "2/2 [==============================] - 0s 7ms/step - loss: 5.8641 - mae: 5.8641\n",
            "Epoch 105/500\n",
            "2/2 [==============================] - 0s 7ms/step - loss: 5.2102 - mae: 5.2102\n",
            "Epoch 106/500\n",
            "2/2 [==============================] - 0s 7ms/step - loss: 4.1011 - mae: 4.1011\n",
            "Epoch 107/500\n",
            "2/2 [==============================] - 0s 8ms/step - loss: 5.3293 - mae: 5.3293\n",
            "Epoch 108/500\n",
            "2/2 [==============================] - 0s 7ms/step - loss: 4.2545 - mae: 4.2545\n",
            "Epoch 109/500\n",
            "2/2 [==============================] - 0s 8ms/step - loss: 4.3326 - mae: 4.3326\n",
            "Epoch 110/500\n",
            "2/2 [==============================] - 0s 9ms/step - loss: 4.1885 - mae: 4.1885\n",
            "Epoch 111/500\n",
            "2/2 [==============================] - 0s 8ms/step - loss: 4.1189 - mae: 4.1189\n",
            "Epoch 112/500\n",
            "2/2 [==============================] - 0s 8ms/step - loss: 4.0963 - mae: 4.0963\n",
            "Epoch 113/500\n",
            "2/2 [==============================] - 0s 8ms/step - loss: 4.3673 - mae: 4.3673\n",
            "Epoch 114/500\n",
            "2/2 [==============================] - 0s 8ms/step - loss: 5.6809 - mae: 5.6809\n",
            "Epoch 115/500\n",
            "2/2 [==============================] - 0s 8ms/step - loss: 4.1268 - mae: 4.1268\n",
            "Epoch 116/500\n",
            "2/2 [==============================] - 0s 7ms/step - loss: 4.4202 - mae: 4.4202\n",
            "Epoch 117/500\n",
            "2/2 [==============================] - 0s 7ms/step - loss: 4.1286 - mae: 4.1286\n",
            "Epoch 118/500\n",
            "2/2 [==============================] - 0s 7ms/step - loss: 4.8825 - mae: 4.8825\n",
            "Epoch 119/500\n",
            "2/2 [==============================] - 0s 8ms/step - loss: 4.2631 - mae: 4.2631\n",
            "Epoch 120/500\n",
            "2/2 [==============================] - 0s 8ms/step - loss: 5.4262 - mae: 5.4262\n",
            "Epoch 121/500\n",
            "2/2 [==============================] - 0s 8ms/step - loss: 4.0571 - mae: 4.0571\n",
            "Epoch 122/500\n",
            "2/2 [==============================] - 0s 8ms/step - loss: 6.1531 - mae: 6.1531\n",
            "Epoch 123/500\n",
            "2/2 [==============================] - 0s 8ms/step - loss: 5.5677 - mae: 5.5677\n",
            "Epoch 124/500\n",
            "2/2 [==============================] - 0s 8ms/step - loss: 5.9756 - mae: 5.9756\n",
            "Epoch 125/500\n",
            "2/2 [==============================] - 0s 8ms/step - loss: 4.3560 - mae: 4.3560\n",
            "Epoch 126/500\n",
            "2/2 [==============================] - 0s 8ms/step - loss: 5.1418 - mae: 5.1418\n",
            "Epoch 127/500\n",
            "2/2 [==============================] - 0s 7ms/step - loss: 4.1073 - mae: 4.1073\n",
            "Epoch 128/500\n",
            "2/2 [==============================] - 0s 7ms/step - loss: 5.0657 - mae: 5.0657\n",
            "Epoch 129/500\n",
            "2/2 [==============================] - 0s 7ms/step - loss: 4.0655 - mae: 4.0655\n",
            "Epoch 130/500\n",
            "2/2 [==============================] - 0s 10ms/step - loss: 4.0902 - mae: 4.0902\n",
            "Epoch 131/500\n",
            "2/2 [==============================] - 0s 8ms/step - loss: 5.6374 - mae: 5.6374\n",
            "Epoch 132/500\n",
            "2/2 [==============================] - 0s 7ms/step - loss: 4.6756 - mae: 4.6756\n",
            "Epoch 133/500\n",
            "2/2 [==============================] - 0s 7ms/step - loss: 4.1419 - mae: 4.1419\n",
            "Epoch 134/500\n",
            "2/2 [==============================] - 0s 6ms/step - loss: 4.1162 - mae: 4.1162\n",
            "Epoch 135/500\n",
            "2/2 [==============================] - 0s 8ms/step - loss: 4.0782 - mae: 4.0782\n",
            "Epoch 136/500\n",
            "2/2 [==============================] - 0s 7ms/step - loss: 4.9391 - mae: 4.9391\n",
            "Epoch 137/500\n",
            "2/2 [==============================] - 0s 7ms/step - loss: 4.1214 - mae: 4.1214\n",
            "Epoch 138/500\n",
            "2/2 [==============================] - 0s 8ms/step - loss: 4.2289 - mae: 4.2289\n",
            "Epoch 139/500\n",
            "2/2 [==============================] - 0s 8ms/step - loss: 4.4602 - mae: 4.4602\n",
            "Epoch 140/500\n",
            "2/2 [==============================] - 0s 8ms/step - loss: 4.7062 - mae: 4.7062\n",
            "Epoch 141/500\n",
            "2/2 [==============================] - 0s 7ms/step - loss: 4.1080 - mae: 4.1080\n",
            "Epoch 142/500\n",
            "2/2 [==============================] - 0s 6ms/step - loss: 4.1496 - mae: 4.1496\n",
            "Epoch 143/500\n",
            "2/2 [==============================] - 0s 7ms/step - loss: 5.0874 - mae: 5.0874\n",
            "Epoch 144/500\n",
            "2/2 [==============================] - 0s 7ms/step - loss: 4.3637 - mae: 4.3637\n",
            "Epoch 145/500\n",
            "2/2 [==============================] - 0s 9ms/step - loss: 5.9676 - mae: 5.9676\n",
            "Epoch 146/500\n",
            "2/2 [==============================] - 0s 6ms/step - loss: 4.1209 - mae: 4.1209\n",
            "Epoch 147/500\n",
            "2/2 [==============================] - 0s 6ms/step - loss: 4.2552 - mae: 4.2552\n",
            "Epoch 148/500\n",
            "2/2 [==============================] - 0s 7ms/step - loss: 4.4935 - mae: 4.4935\n",
            "Epoch 149/500\n",
            "2/2 [==============================] - 0s 7ms/step - loss: 4.1304 - mae: 4.1304\n",
            "Epoch 150/500\n",
            "2/2 [==============================] - 0s 7ms/step - loss: 4.6789 - mae: 4.6789\n",
            "Epoch 151/500\n",
            "2/2 [==============================] - 0s 7ms/step - loss: 4.1047 - mae: 4.1047\n",
            "Epoch 152/500\n",
            "2/2 [==============================] - 0s 8ms/step - loss: 4.4295 - mae: 4.4295\n",
            "Epoch 153/500\n",
            "2/2 [==============================] - 0s 7ms/step - loss: 4.9555 - mae: 4.9555\n",
            "Epoch 154/500\n",
            "2/2 [==============================] - 0s 7ms/step - loss: 4.8619 - mae: 4.8619\n",
            "Epoch 155/500\n",
            "2/2 [==============================] - 0s 7ms/step - loss: 4.2420 - mae: 4.2420\n",
            "Epoch 156/500\n",
            "2/2 [==============================] - 0s 8ms/step - loss: 4.5125 - mae: 4.5125\n",
            "Epoch 157/500\n",
            "2/2 [==============================] - 0s 7ms/step - loss: 5.5841 - mae: 5.5841\n",
            "Epoch 158/500\n",
            "2/2 [==============================] - 0s 7ms/step - loss: 4.1461 - mae: 4.1461\n",
            "Epoch 159/500\n",
            "2/2 [==============================] - 0s 8ms/step - loss: 4.3054 - mae: 4.3054\n",
            "Epoch 160/500\n",
            "2/2 [==============================] - 0s 7ms/step - loss: 5.4016 - mae: 5.4016\n",
            "Epoch 161/500\n",
            "2/2 [==============================] - 0s 8ms/step - loss: 4.8078 - mae: 4.8078\n",
            "Epoch 162/500\n",
            "2/2 [==============================] - 0s 8ms/step - loss: 4.1026 - mae: 4.1026\n",
            "Epoch 163/500\n",
            "2/2 [==============================] - 0s 8ms/step - loss: 4.6185 - mae: 4.6185\n",
            "Epoch 164/500\n",
            "2/2 [==============================] - 0s 9ms/step - loss: 4.4296 - mae: 4.4296\n",
            "Epoch 165/500\n",
            "2/2 [==============================] - 0s 8ms/step - loss: 4.2277 - mae: 4.2277\n",
            "Epoch 166/500\n",
            "2/2 [==============================] - 0s 7ms/step - loss: 4.8252 - mae: 4.8252\n",
            "Epoch 167/500\n",
            "2/2 [==============================] - 0s 7ms/step - loss: 4.7307 - mae: 4.7307\n",
            "Epoch 168/500\n",
            "2/2 [==============================] - 0s 10ms/step - loss: 4.2033 - mae: 4.2033\n",
            "Epoch 169/500\n",
            "2/2 [==============================] - 0s 7ms/step - loss: 4.9354 - mae: 4.9354\n",
            "Epoch 170/500\n",
            "2/2 [==============================] - 0s 7ms/step - loss: 4.2796 - mae: 4.2796\n",
            "Epoch 171/500\n",
            "2/2 [==============================] - 0s 7ms/step - loss: 4.1298 - mae: 4.1298\n",
            "Epoch 172/500\n",
            "2/2 [==============================] - 0s 8ms/step - loss: 4.0682 - mae: 4.0682\n",
            "Epoch 173/500\n",
            "2/2 [==============================] - 0s 9ms/step - loss: 4.0962 - mae: 4.0962\n",
            "Epoch 174/500\n",
            "2/2 [==============================] - 0s 8ms/step - loss: 4.0873 - mae: 4.0873\n",
            "Epoch 175/500\n",
            "2/2 [==============================] - 0s 10ms/step - loss: 4.3192 - mae: 4.3192\n",
            "Epoch 176/500\n",
            "2/2 [==============================] - 0s 9ms/step - loss: 5.3625 - mae: 5.3625\n",
            "Epoch 177/500\n",
            "2/2 [==============================] - 0s 7ms/step - loss: 4.5542 - mae: 4.5542\n",
            "Epoch 178/500\n",
            "2/2 [==============================] - 0s 7ms/step - loss: 4.1245 - mae: 4.1245\n",
            "Epoch 179/500\n",
            "2/2 [==============================] - 0s 8ms/step - loss: 4.4481 - mae: 4.4481\n",
            "Epoch 180/500\n",
            "2/2 [==============================] - 0s 7ms/step - loss: 4.1201 - mae: 4.1201\n",
            "Epoch 181/500\n",
            "2/2 [==============================] - 0s 7ms/step - loss: 5.2122 - mae: 5.2122\n",
            "Epoch 182/500\n",
            "2/2 [==============================] - 0s 7ms/step - loss: 4.1978 - mae: 4.1978\n",
            "Epoch 183/500\n",
            "2/2 [==============================] - 0s 7ms/step - loss: 4.2712 - mae: 4.2712\n",
            "Epoch 184/500\n",
            "2/2 [==============================] - 0s 7ms/step - loss: 5.6709 - mae: 5.6709\n",
            "Epoch 185/500\n",
            "2/2 [==============================] - 0s 7ms/step - loss: 4.1766 - mae: 4.1766\n",
            "Epoch 186/500\n",
            "2/2 [==============================] - 0s 9ms/step - loss: 4.3957 - mae: 4.3957\n",
            "Epoch 187/500\n",
            "2/2 [==============================] - 0s 8ms/step - loss: 4.4703 - mae: 4.4703\n",
            "Epoch 188/500\n",
            "2/2 [==============================] - 0s 7ms/step - loss: 5.6453 - mae: 5.6453\n",
            "Epoch 189/500\n",
            "2/2 [==============================] - 0s 7ms/step - loss: 4.3745 - mae: 4.3745\n",
            "Epoch 190/500\n",
            "2/2 [==============================] - 0s 7ms/step - loss: 4.5963 - mae: 4.5963\n",
            "Epoch 191/500\n",
            "2/2 [==============================] - 0s 8ms/step - loss: 4.2167 - mae: 4.2167\n",
            "Epoch 192/500\n",
            "2/2 [==============================] - 0s 7ms/step - loss: 4.3249 - mae: 4.3249\n",
            "Epoch 193/500\n",
            "2/2 [==============================] - 0s 8ms/step - loss: 4.1827 - mae: 4.1827\n",
            "Epoch 194/500\n",
            "2/2 [==============================] - 0s 7ms/step - loss: 4.1966 - mae: 4.1966\n",
            "Epoch 195/500\n",
            "2/2 [==============================] - 0s 12ms/step - loss: 4.6726 - mae: 4.6726\n",
            "Epoch 196/500\n",
            "2/2 [==============================] - 0s 7ms/step - loss: 4.2238 - mae: 4.2238\n",
            "Epoch 197/500\n",
            "2/2 [==============================] - 0s 7ms/step - loss: 4.0584 - mae: 4.0584\n",
            "Epoch 198/500\n",
            "2/2 [==============================] - 0s 6ms/step - loss: 4.0772 - mae: 4.0772\n",
            "Epoch 199/500\n",
            "2/2 [==============================] - 0s 7ms/step - loss: 4.9030 - mae: 4.9030\n",
            "Epoch 200/500\n",
            "2/2 [==============================] - 0s 7ms/step - loss: 4.6379 - mae: 4.6379\n",
            "Epoch 201/500\n",
            "2/2 [==============================] - 0s 6ms/step - loss: 4.0154 - mae: 4.0154\n",
            "Epoch 202/500\n",
            "2/2 [==============================] - 0s 7ms/step - loss: 5.1444 - mae: 5.1444\n",
            "Epoch 203/500\n",
            "2/2 [==============================] - 0s 7ms/step - loss: 4.6065 - mae: 4.6065\n",
            "Epoch 204/500\n",
            "2/2 [==============================] - 0s 6ms/step - loss: 4.4587 - mae: 4.4587\n",
            "Epoch 205/500\n",
            "2/2 [==============================] - 0s 7ms/step - loss: 4.0848 - mae: 4.0848\n",
            "Epoch 206/500\n",
            "2/2 [==============================] - 0s 10ms/step - loss: 4.1488 - mae: 4.1488\n",
            "Epoch 207/500\n",
            "2/2 [==============================] - 0s 8ms/step - loss: 4.1450 - mae: 4.1450\n",
            "Epoch 208/500\n",
            "2/2 [==============================] - 0s 7ms/step - loss: 4.6041 - mae: 4.6041\n",
            "Epoch 209/500\n",
            "2/2 [==============================] - 0s 10ms/step - loss: 4.7767 - mae: 4.7767\n",
            "Epoch 210/500\n",
            "2/2 [==============================] - 0s 7ms/step - loss: 5.6940 - mae: 5.6940\n",
            "Epoch 211/500\n",
            "2/2 [==============================] - 0s 7ms/step - loss: 4.1600 - mae: 4.1600\n",
            "Epoch 212/500\n",
            "2/2 [==============================] - 0s 7ms/step - loss: 5.8231 - mae: 5.8231\n",
            "Epoch 213/500\n",
            "2/2 [==============================] - 0s 7ms/step - loss: 4.2929 - mae: 4.2929\n",
            "Epoch 214/500\n",
            "2/2 [==============================] - 0s 10ms/step - loss: 4.2132 - mae: 4.2132\n",
            "Epoch 215/500\n",
            "2/2 [==============================] - 0s 10ms/step - loss: 4.3488 - mae: 4.3488\n",
            "Epoch 216/500\n",
            "2/2 [==============================] - 0s 7ms/step - loss: 5.0119 - mae: 5.0119\n",
            "Epoch 217/500\n",
            "2/2 [==============================] - 0s 7ms/step - loss: 4.1362 - mae: 4.1362\n",
            "Epoch 218/500\n",
            "2/2 [==============================] - 0s 6ms/step - loss: 4.0226 - mae: 4.0226\n",
            "Epoch 219/500\n",
            "2/2 [==============================] - 0s 6ms/step - loss: 4.6619 - mae: 4.6619\n",
            "Epoch 220/500\n",
            "2/2 [==============================] - 0s 6ms/step - loss: 4.5033 - mae: 4.5033\n",
            "Epoch 221/500\n",
            "2/2 [==============================] - 0s 6ms/step - loss: 7.1951 - mae: 7.1951\n",
            "Epoch 222/500\n",
            "2/2 [==============================] - 0s 8ms/step - loss: 5.4953 - mae: 5.4953\n",
            "Epoch 223/500\n",
            "2/2 [==============================] - 0s 12ms/step - loss: 4.9357 - mae: 4.9357\n",
            "Epoch 224/500\n",
            "2/2 [==============================] - 0s 10ms/step - loss: 4.1155 - mae: 4.1155\n",
            "Epoch 225/500\n",
            "2/2 [==============================] - 0s 7ms/step - loss: 4.4560 - mae: 4.4560\n",
            "Epoch 226/500\n",
            "2/2 [==============================] - 0s 6ms/step - loss: 4.3677 - mae: 4.3677\n",
            "Epoch 227/500\n",
            "2/2 [==============================] - 0s 7ms/step - loss: 4.0151 - mae: 4.0151\n",
            "Epoch 228/500\n",
            "2/2 [==============================] - 0s 10ms/step - loss: 4.0128 - mae: 4.0128\n",
            "Epoch 229/500\n",
            "2/2 [==============================] - 0s 8ms/step - loss: 4.0939 - mae: 4.0939\n",
            "Epoch 230/500\n",
            "2/2 [==============================] - 0s 8ms/step - loss: 4.0697 - mae: 4.0697\n",
            "Epoch 231/500\n",
            "2/2 [==============================] - 0s 8ms/step - loss: 4.8140 - mae: 4.8140\n",
            "Epoch 232/500\n",
            "2/2 [==============================] - 0s 8ms/step - loss: 4.1839 - mae: 4.1839\n",
            "Epoch 233/500\n",
            "2/2 [==============================] - 0s 8ms/step - loss: 6.1993 - mae: 6.1993\n",
            "Epoch 234/500\n",
            "2/2 [==============================] - 0s 8ms/step - loss: 4.0949 - mae: 4.0949\n",
            "Epoch 235/500\n",
            "2/2 [==============================] - 0s 7ms/step - loss: 4.8790 - mae: 4.8790\n",
            "Epoch 236/500\n",
            "2/2 [==============================] - 0s 6ms/step - loss: 4.1379 - mae: 4.1379\n",
            "Epoch 237/500\n",
            "2/2 [==============================] - 0s 7ms/step - loss: 4.2045 - mae: 4.2045\n",
            "Epoch 238/500\n",
            "2/2 [==============================] - 0s 7ms/step - loss: 4.2061 - mae: 4.2061\n",
            "Epoch 239/500\n",
            "2/2 [==============================] - 0s 7ms/step - loss: 5.0338 - mae: 5.0338\n",
            "Epoch 240/500\n",
            "2/2 [==============================] - 0s 7ms/step - loss: 4.2550 - mae: 4.2550\n",
            "Epoch 241/500\n",
            "2/2 [==============================] - 0s 7ms/step - loss: 4.5617 - mae: 4.5617\n",
            "Epoch 242/500\n",
            "2/2 [==============================] - 0s 7ms/step - loss: 4.6272 - mae: 4.6272\n",
            "Epoch 243/500\n",
            "2/2 [==============================] - 0s 7ms/step - loss: 4.1688 - mae: 4.1688\n",
            "Epoch 244/500\n",
            "2/2 [==============================] - 0s 9ms/step - loss: 4.3030 - mae: 4.3030\n",
            "Epoch 245/500\n",
            "2/2 [==============================] - 0s 7ms/step - loss: 4.1816 - mae: 4.1816\n",
            "Epoch 246/500\n",
            "2/2 [==============================] - 0s 7ms/step - loss: 4.2757 - mae: 4.2757\n",
            "Epoch 247/500\n",
            "2/2 [==============================] - 0s 8ms/step - loss: 5.5431 - mae: 5.5431\n",
            "Epoch 248/500\n",
            "2/2 [==============================] - 0s 7ms/step - loss: 4.4011 - mae: 4.4011\n",
            "Epoch 249/500\n",
            "2/2 [==============================] - 0s 7ms/step - loss: 4.0867 - mae: 4.0867\n",
            "Epoch 250/500\n",
            "2/2 [==============================] - 0s 7ms/step - loss: 4.1449 - mae: 4.1449\n",
            "Epoch 251/500\n",
            "2/2 [==============================] - 0s 7ms/step - loss: 4.4753 - mae: 4.4753\n",
            "Epoch 252/500\n",
            "2/2 [==============================] - 0s 8ms/step - loss: 5.9771 - mae: 5.9771\n",
            "Epoch 253/500\n",
            "2/2 [==============================] - 0s 8ms/step - loss: 4.0621 - mae: 4.0621\n",
            "Epoch 254/500\n",
            "2/2 [==============================] - 0s 7ms/step - loss: 4.3152 - mae: 4.3152\n",
            "Epoch 255/500\n",
            "2/2 [==============================] - 0s 11ms/step - loss: 4.1184 - mae: 4.1184\n",
            "Epoch 256/500\n",
            "2/2 [==============================] - 0s 11ms/step - loss: 4.8837 - mae: 4.8837\n",
            "Epoch 257/500\n",
            "2/2 [==============================] - 0s 12ms/step - loss: 3.9938 - mae: 3.9938\n",
            "Epoch 258/500\n",
            "2/2 [==============================] - 0s 7ms/step - loss: 4.0072 - mae: 4.0072\n",
            "Epoch 259/500\n",
            "2/2 [==============================] - 0s 8ms/step - loss: 5.0471 - mae: 5.0471\n",
            "Epoch 260/500\n",
            "2/2 [==============================] - 0s 8ms/step - loss: 4.9517 - mae: 4.9517\n",
            "Epoch 261/500\n",
            "2/2 [==============================] - 0s 8ms/step - loss: 4.0498 - mae: 4.0498\n",
            "Epoch 262/500\n",
            "2/2 [==============================] - 0s 7ms/step - loss: 4.6018 - mae: 4.6018\n",
            "Epoch 263/500\n",
            "2/2 [==============================] - 0s 7ms/step - loss: 4.1135 - mae: 4.1135\n",
            "Epoch 264/500\n",
            "2/2 [==============================] - 0s 8ms/step - loss: 5.1690 - mae: 5.1690\n",
            "Epoch 265/500\n",
            "2/2 [==============================] - 0s 7ms/step - loss: 4.4111 - mae: 4.4111\n",
            "Epoch 266/500\n",
            "2/2 [==============================] - 0s 7ms/step - loss: 4.0506 - mae: 4.0506\n",
            "Epoch 267/500\n",
            "2/2 [==============================] - 0s 12ms/step - loss: 3.9911 - mae: 3.9911\n",
            "Epoch 268/500\n",
            "2/2 [==============================] - 0s 8ms/step - loss: 4.0195 - mae: 4.0195\n",
            "Epoch 269/500\n",
            "2/2 [==============================] - 0s 7ms/step - loss: 4.1986 - mae: 4.1986\n",
            "Epoch 270/500\n",
            "2/2 [==============================] - 0s 7ms/step - loss: 4.0577 - mae: 4.0577\n",
            "Epoch 271/500\n",
            "2/2 [==============================] - 0s 8ms/step - loss: 4.1521 - mae: 4.1521\n",
            "Epoch 272/500\n",
            "2/2 [==============================] - 0s 7ms/step - loss: 5.5963 - mae: 5.5963\n",
            "Epoch 273/500\n",
            "2/2 [==============================] - 0s 7ms/step - loss: 4.7617 - mae: 4.7617\n",
            "Epoch 274/500\n",
            "2/2 [==============================] - 0s 7ms/step - loss: 4.3931 - mae: 4.3931\n",
            "Epoch 275/500\n",
            "2/2 [==============================] - 0s 7ms/step - loss: 5.7575 - mae: 5.7575\n",
            "Epoch 276/500\n",
            "2/2 [==============================] - 0s 7ms/step - loss: 4.2196 - mae: 4.2196\n",
            "Epoch 277/500\n",
            "2/2 [==============================] - 0s 7ms/step - loss: 6.4205 - mae: 6.4205\n",
            "Epoch 278/500\n",
            "2/2 [==============================] - 0s 7ms/step - loss: 4.1891 - mae: 4.1891\n",
            "Epoch 279/500\n",
            "2/2 [==============================] - 0s 10ms/step - loss: 4.1422 - mae: 4.1422\n",
            "Epoch 280/500\n",
            "2/2 [==============================] - 0s 7ms/step - loss: 5.9149 - mae: 5.9149\n",
            "Epoch 281/500\n",
            "2/2 [==============================] - 0s 7ms/step - loss: 4.1841 - mae: 4.1841\n",
            "Epoch 282/500\n",
            "2/2 [==============================] - 0s 7ms/step - loss: 4.1704 - mae: 4.1704\n",
            "Epoch 283/500\n",
            "2/2 [==============================] - 0s 7ms/step - loss: 3.9779 - mae: 3.9779\n",
            "Epoch 284/500\n",
            "2/2 [==============================] - 0s 7ms/step - loss: 4.9467 - mae: 4.9467\n",
            "Epoch 285/500\n",
            "2/2 [==============================] - 0s 8ms/step - loss: 4.0058 - mae: 4.0058\n",
            "Epoch 286/500\n",
            "2/2 [==============================] - 0s 8ms/step - loss: 5.1346 - mae: 5.1346\n",
            "Epoch 287/500\n",
            "2/2 [==============================] - 0s 7ms/step - loss: 3.9975 - mae: 3.9975\n",
            "Epoch 288/500\n",
            "2/2 [==============================] - 0s 8ms/step - loss: 4.1793 - mae: 4.1793\n",
            "Epoch 289/500\n",
            "2/2 [==============================] - 0s 7ms/step - loss: 4.0703 - mae: 4.0703\n",
            "Epoch 290/500\n",
            "2/2 [==============================] - 0s 7ms/step - loss: 3.9807 - mae: 3.9807\n",
            "Epoch 291/500\n",
            "2/2 [==============================] - 0s 7ms/step - loss: 4.9520 - mae: 4.9520\n",
            "Epoch 292/500\n",
            "2/2 [==============================] - 0s 7ms/step - loss: 3.9914 - mae: 3.9914\n",
            "Epoch 293/500\n",
            "2/2 [==============================] - 0s 6ms/step - loss: 4.1004 - mae: 4.1004\n",
            "Epoch 294/500\n",
            "2/2 [==============================] - 0s 7ms/step - loss: 5.6769 - mae: 5.6769\n",
            "Epoch 295/500\n",
            "2/2 [==============================] - 0s 7ms/step - loss: 4.5403 - mae: 4.5403\n",
            "Epoch 296/500\n",
            "2/2 [==============================] - 0s 7ms/step - loss: 4.4429 - mae: 4.4429\n",
            "Epoch 297/500\n",
            "2/2 [==============================] - 0s 7ms/step - loss: 4.1394 - mae: 4.1394\n",
            "Epoch 298/500\n",
            "2/2 [==============================] - 0s 7ms/step - loss: 4.8085 - mae: 4.8085\n",
            "Epoch 299/500\n",
            "2/2 [==============================] - 0s 7ms/step - loss: 4.5886 - mae: 4.5886\n",
            "Epoch 300/500\n",
            "2/2 [==============================] - 0s 8ms/step - loss: 4.0515 - mae: 4.0515\n",
            "Epoch 301/500\n",
            "2/2 [==============================] - 0s 7ms/step - loss: 4.3262 - mae: 4.3262\n",
            "Epoch 302/500\n",
            "2/2 [==============================] - 0s 7ms/step - loss: 4.5046 - mae: 4.5046\n",
            "Epoch 303/500\n",
            "2/2 [==============================] - 0s 7ms/step - loss: 4.1343 - mae: 4.1343\n",
            "Epoch 304/500\n",
            "2/2 [==============================] - 0s 8ms/step - loss: 4.1193 - mae: 4.1193\n",
            "Epoch 305/500\n",
            "2/2 [==============================] - 0s 7ms/step - loss: 4.2890 - mae: 4.2890\n",
            "Epoch 306/500\n",
            "2/2 [==============================] - 0s 7ms/step - loss: 4.3519 - mae: 4.3519\n",
            "Epoch 307/500\n",
            "2/2 [==============================] - 0s 8ms/step - loss: 4.0817 - mae: 4.0817\n",
            "Epoch 308/500\n",
            "2/2 [==============================] - 0s 7ms/step - loss: 4.1561 - mae: 4.1561\n",
            "Epoch 309/500\n",
            "2/2 [==============================] - 0s 8ms/step - loss: 4.4133 - mae: 4.4133\n",
            "Epoch 310/500\n",
            "2/2 [==============================] - 0s 7ms/step - loss: 4.0365 - mae: 4.0365\n",
            "Epoch 311/500\n",
            "2/2 [==============================] - 0s 7ms/step - loss: 4.0049 - mae: 4.0049\n",
            "Epoch 312/500\n",
            "2/2 [==============================] - 0s 7ms/step - loss: 4.1194 - mae: 4.1194\n",
            "Epoch 313/500\n",
            "2/2 [==============================] - 0s 8ms/step - loss: 4.3404 - mae: 4.3404\n",
            "Epoch 314/500\n",
            "2/2 [==============================] - 0s 7ms/step - loss: 4.2270 - mae: 4.2270\n",
            "Epoch 315/500\n",
            "2/2 [==============================] - 0s 7ms/step - loss: 5.9009 - mae: 5.9009\n",
            "Epoch 316/500\n",
            "2/2 [==============================] - 0s 7ms/step - loss: 4.1049 - mae: 4.1049\n",
            "Epoch 317/500\n",
            "2/2 [==============================] - 0s 8ms/step - loss: 6.4173 - mae: 6.4173\n",
            "Epoch 318/500\n",
            "2/2 [==============================] - 0s 8ms/step - loss: 5.9279 - mae: 5.9279\n",
            "Epoch 319/500\n",
            "2/2 [==============================] - 0s 12ms/step - loss: 4.3899 - mae: 4.3899\n",
            "Epoch 320/500\n",
            "2/2 [==============================] - 0s 8ms/step - loss: 4.2943 - mae: 4.2943\n",
            "Epoch 321/500\n",
            "2/2 [==============================] - 0s 12ms/step - loss: 4.0814 - mae: 4.0814\n",
            "Epoch 322/500\n",
            "2/2 [==============================] - 0s 10ms/step - loss: 3.9717 - mae: 3.9717\n",
            "Epoch 323/500\n",
            "2/2 [==============================] - 0s 8ms/step - loss: 4.0965 - mae: 4.0965\n",
            "Epoch 324/500\n",
            "2/2 [==============================] - 0s 7ms/step - loss: 4.0171 - mae: 4.0171\n",
            "Epoch 325/500\n",
            "2/2 [==============================] - 0s 7ms/step - loss: 5.1820 - mae: 5.1820\n",
            "Epoch 326/500\n",
            "2/2 [==============================] - 0s 7ms/step - loss: 3.9711 - mae: 3.9711\n",
            "Epoch 327/500\n",
            "2/2 [==============================] - 0s 8ms/step - loss: 4.1936 - mae: 4.1936\n",
            "Epoch 328/500\n",
            "2/2 [==============================] - 0s 7ms/step - loss: 4.0508 - mae: 4.0508\n",
            "Epoch 329/500\n",
            "2/2 [==============================] - 0s 7ms/step - loss: 4.2097 - mae: 4.2097\n",
            "Epoch 330/500\n",
            "2/2 [==============================] - 0s 7ms/step - loss: 4.1950 - mae: 4.1950\n",
            "Epoch 331/500\n",
            "2/2 [==============================] - 0s 7ms/step - loss: 5.0923 - mae: 5.0923\n",
            "Epoch 332/500\n",
            "2/2 [==============================] - 0s 8ms/step - loss: 4.0932 - mae: 4.0932\n",
            "Epoch 333/500\n",
            "2/2 [==============================] - 0s 8ms/step - loss: 5.1400 - mae: 5.1400\n",
            "Epoch 334/500\n",
            "2/2 [==============================] - 0s 8ms/step - loss: 3.9959 - mae: 3.9959\n",
            "Epoch 335/500\n",
            "2/2 [==============================] - 0s 8ms/step - loss: 4.3582 - mae: 4.3582\n",
            "Epoch 336/500\n",
            "2/2 [==============================] - 0s 8ms/step - loss: 7.4750 - mae: 7.4750\n",
            "Epoch 337/500\n",
            "2/2 [==============================] - 0s 7ms/step - loss: 4.9178 - mae: 4.9178\n",
            "Epoch 338/500\n",
            "2/2 [==============================] - 0s 7ms/step - loss: 3.9825 - mae: 3.9825\n",
            "Epoch 339/500\n",
            "2/2 [==============================] - 0s 7ms/step - loss: 4.6185 - mae: 4.6185\n",
            "Epoch 340/500\n",
            "2/2 [==============================] - 0s 7ms/step - loss: 4.0640 - mae: 4.0640\n",
            "Epoch 341/500\n",
            "2/2 [==============================] - 0s 7ms/step - loss: 4.0740 - mae: 4.0740\n",
            "Epoch 342/500\n",
            "2/2 [==============================] - 0s 8ms/step - loss: 4.0401 - mae: 4.0401\n",
            "Epoch 343/500\n",
            "2/2 [==============================] - 0s 7ms/step - loss: 4.0603 - mae: 4.0603\n",
            "Epoch 344/500\n",
            "2/2 [==============================] - 0s 7ms/step - loss: 4.1340 - mae: 4.1340\n",
            "Epoch 345/500\n",
            "2/2 [==============================] - 0s 7ms/step - loss: 4.2319 - mae: 4.2319\n",
            "Epoch 346/500\n",
            "2/2 [==============================] - 0s 7ms/step - loss: 4.4450 - mae: 4.4450\n",
            "Epoch 347/500\n",
            "2/2 [==============================] - 0s 7ms/step - loss: 5.0309 - mae: 5.0309\n",
            "Epoch 348/500\n",
            "2/2 [==============================] - 0s 7ms/step - loss: 3.9785 - mae: 3.9785\n",
            "Epoch 349/500\n",
            "2/2 [==============================] - 0s 7ms/step - loss: 4.5872 - mae: 4.5872\n",
            "Epoch 350/500\n",
            "2/2 [==============================] - 0s 7ms/step - loss: 4.0135 - mae: 4.0135\n",
            "Epoch 351/500\n",
            "2/2 [==============================] - 0s 7ms/step - loss: 5.5632 - mae: 5.5632\n",
            "Epoch 352/500\n",
            "2/2 [==============================] - 0s 7ms/step - loss: 4.2611 - mae: 4.2611\n",
            "Epoch 353/500\n",
            "2/2 [==============================] - 0s 7ms/step - loss: 4.4743 - mae: 4.4743\n",
            "Epoch 354/500\n",
            "2/2 [==============================] - 0s 10ms/step - loss: 4.1822 - mae: 4.1822\n",
            "Epoch 355/500\n",
            "2/2 [==============================] - 0s 7ms/step - loss: 5.6167 - mae: 5.6167\n",
            "Epoch 356/500\n",
            "2/2 [==============================] - 0s 7ms/step - loss: 4.3056 - mae: 4.3056\n",
            "Epoch 357/500\n",
            "2/2 [==============================] - 0s 7ms/step - loss: 4.3467 - mae: 4.3467\n",
            "Epoch 358/500\n",
            "2/2 [==============================] - 0s 7ms/step - loss: 4.0025 - mae: 4.0025\n",
            "Epoch 359/500\n",
            "2/2 [==============================] - 0s 7ms/step - loss: 4.0214 - mae: 4.0214\n",
            "Epoch 360/500\n",
            "2/2 [==============================] - 0s 7ms/step - loss: 5.9103 - mae: 5.9103\n",
            "Epoch 361/500\n",
            "2/2 [==============================] - 0s 7ms/step - loss: 4.0045 - mae: 4.0045\n",
            "Epoch 362/500\n",
            "2/2 [==============================] - 0s 8ms/step - loss: 4.5948 - mae: 4.5948\n",
            "Epoch 363/500\n",
            "2/2 [==============================] - 0s 8ms/step - loss: 5.1738 - mae: 5.1738\n",
            "Epoch 364/500\n",
            "2/2 [==============================] - 0s 8ms/step - loss: 4.2178 - mae: 4.2178\n",
            "Epoch 365/500\n",
            "2/2 [==============================] - 0s 7ms/step - loss: 4.0313 - mae: 4.0313\n",
            "Epoch 366/500\n",
            "2/2 [==============================] - 0s 7ms/step - loss: 3.9953 - mae: 3.9953\n",
            "Epoch 367/500\n",
            "2/2 [==============================] - 0s 7ms/step - loss: 5.3476 - mae: 5.3476\n",
            "Epoch 368/500\n",
            "2/2 [==============================] - 0s 8ms/step - loss: 3.9610 - mae: 3.9610\n",
            "Epoch 369/500\n",
            "2/2 [==============================] - 0s 7ms/step - loss: 3.9250 - mae: 3.9250\n",
            "Epoch 370/500\n",
            "2/2 [==============================] - 0s 7ms/step - loss: 4.0595 - mae: 4.0595\n",
            "Epoch 371/500\n",
            "2/2 [==============================] - 0s 8ms/step - loss: 4.0477 - mae: 4.0477\n",
            "Epoch 372/500\n",
            "2/2 [==============================] - 0s 8ms/step - loss: 3.9391 - mae: 3.9391\n",
            "Epoch 373/500\n",
            "2/2 [==============================] - 0s 7ms/step - loss: 3.9136 - mae: 3.9136\n",
            "Epoch 374/500\n",
            "2/2 [==============================] - 0s 8ms/step - loss: 5.0090 - mae: 5.0090\n",
            "Epoch 375/500\n",
            "2/2 [==============================] - 0s 7ms/step - loss: 4.1201 - mae: 4.1201\n",
            "Epoch 376/500\n",
            "2/2 [==============================] - 0s 7ms/step - loss: 4.6304 - mae: 4.6304\n",
            "Epoch 377/500\n",
            "2/2 [==============================] - 0s 8ms/step - loss: 4.2825 - mae: 4.2825\n",
            "Epoch 378/500\n",
            "2/2 [==============================] - 0s 9ms/step - loss: 3.9214 - mae: 3.9214\n",
            "Epoch 379/500\n",
            "2/2 [==============================] - 0s 7ms/step - loss: 3.9932 - mae: 3.9932\n",
            "Epoch 380/500\n",
            "2/2 [==============================] - 0s 8ms/step - loss: 6.4849 - mae: 6.4849\n",
            "Epoch 381/500\n",
            "2/2 [==============================] - 0s 7ms/step - loss: 4.7644 - mae: 4.7644\n",
            "Epoch 382/500\n",
            "2/2 [==============================] - 0s 7ms/step - loss: 4.1808 - mae: 4.1808\n",
            "Epoch 383/500\n",
            "2/2 [==============================] - 0s 7ms/step - loss: 4.1540 - mae: 4.1540\n",
            "Epoch 384/500\n",
            "2/2 [==============================] - 0s 7ms/step - loss: 4.1284 - mae: 4.1284\n",
            "Epoch 385/500\n",
            "2/2 [==============================] - 0s 9ms/step - loss: 3.9581 - mae: 3.9581\n",
            "Epoch 386/500\n",
            "2/2 [==============================] - 0s 8ms/step - loss: 3.9524 - mae: 3.9524\n",
            "Epoch 387/500\n",
            "2/2 [==============================] - 0s 12ms/step - loss: 3.9542 - mae: 3.9542\n",
            "Epoch 388/500\n",
            "2/2 [==============================] - 0s 8ms/step - loss: 4.0262 - mae: 4.0262\n",
            "Epoch 389/500\n",
            "2/2 [==============================] - 0s 8ms/step - loss: 4.4425 - mae: 4.4425\n",
            "Epoch 390/500\n",
            "2/2 [==============================] - 0s 7ms/step - loss: 5.6115 - mae: 5.6115\n",
            "Epoch 391/500\n",
            "2/2 [==============================] - 0s 8ms/step - loss: 4.0432 - mae: 4.0432\n",
            "Epoch 392/500\n",
            "2/2 [==============================] - 0s 7ms/step - loss: 4.0950 - mae: 4.0950\n",
            "Epoch 393/500\n",
            "2/2 [==============================] - 0s 11ms/step - loss: 3.9760 - mae: 3.9760\n",
            "Epoch 394/500\n",
            "2/2 [==============================] - 0s 8ms/step - loss: 4.0428 - mae: 4.0428\n",
            "Epoch 395/500\n",
            "2/2 [==============================] - 0s 8ms/step - loss: 3.9689 - mae: 3.9689\n",
            "Epoch 396/500\n",
            "2/2 [==============================] - 0s 8ms/step - loss: 3.9202 - mae: 3.9202\n",
            "Epoch 397/500\n",
            "2/2 [==============================] - 0s 7ms/step - loss: 3.9873 - mae: 3.9873\n",
            "Epoch 398/500\n",
            "2/2 [==============================] - 0s 7ms/step - loss: 3.9818 - mae: 3.9818\n",
            "Epoch 399/500\n",
            "2/2 [==============================] - 0s 8ms/step - loss: 4.0323 - mae: 4.0323\n",
            "Epoch 400/500\n",
            "2/2 [==============================] - 0s 8ms/step - loss: 4.2866 - mae: 4.2866\n",
            "Epoch 401/500\n",
            "2/2 [==============================] - 0s 7ms/step - loss: 4.2582 - mae: 4.2582\n",
            "Epoch 402/500\n",
            "2/2 [==============================] - 0s 7ms/step - loss: 3.9850 - mae: 3.9850\n",
            "Epoch 403/500\n",
            "2/2 [==============================] - 0s 7ms/step - loss: 4.4803 - mae: 4.4803\n",
            "Epoch 404/500\n",
            "2/2 [==============================] - 0s 7ms/step - loss: 3.9557 - mae: 3.9557\n",
            "Epoch 405/500\n",
            "2/2 [==============================] - 0s 8ms/step - loss: 5.2678 - mae: 5.2678\n",
            "Epoch 406/500\n",
            "2/2 [==============================] - 0s 8ms/step - loss: 4.2161 - mae: 4.2161\n",
            "Epoch 407/500\n",
            "2/2 [==============================] - 0s 8ms/step - loss: 4.2421 - mae: 4.2421\n",
            "Epoch 408/500\n",
            "2/2 [==============================] - 0s 7ms/step - loss: 3.9018 - mae: 3.9018\n",
            "Epoch 409/500\n",
            "2/2 [==============================] - 0s 8ms/step - loss: 4.2465 - mae: 4.2465\n",
            "Epoch 410/500\n",
            "2/2 [==============================] - 0s 8ms/step - loss: 4.5318 - mae: 4.5318\n",
            "Epoch 411/500\n",
            "2/2 [==============================] - 0s 8ms/step - loss: 4.0633 - mae: 4.0633\n",
            "Epoch 412/500\n",
            "2/2 [==============================] - 0s 8ms/step - loss: 4.0480 - mae: 4.0480\n",
            "Epoch 413/500\n",
            "2/2 [==============================] - 0s 7ms/step - loss: 4.6474 - mae: 4.6474\n",
            "Epoch 414/500\n",
            "2/2 [==============================] - 0s 8ms/step - loss: 4.3204 - mae: 4.3204\n",
            "Epoch 415/500\n",
            "2/2 [==============================] - 0s 8ms/step - loss: 3.9938 - mae: 3.9938\n",
            "Epoch 416/500\n",
            "2/2 [==============================] - 0s 7ms/step - loss: 5.4854 - mae: 5.4854\n",
            "Epoch 417/500\n",
            "2/2 [==============================] - 0s 7ms/step - loss: 4.6168 - mae: 4.6168\n",
            "Epoch 418/500\n",
            "2/2 [==============================] - 0s 7ms/step - loss: 4.1783 - mae: 4.1783\n",
            "Epoch 419/500\n",
            "2/2 [==============================] - 0s 7ms/step - loss: 4.5618 - mae: 4.5618\n",
            "Epoch 420/500\n",
            "2/2 [==============================] - 0s 7ms/step - loss: 4.5008 - mae: 4.5008\n",
            "Epoch 421/500\n",
            "2/2 [==============================] - 0s 7ms/step - loss: 3.9195 - mae: 3.9195\n",
            "Epoch 422/500\n",
            "2/2 [==============================] - 0s 7ms/step - loss: 3.9579 - mae: 3.9579\n",
            "Epoch 423/500\n",
            "2/2 [==============================] - 0s 7ms/step - loss: 3.9267 - mae: 3.9267\n",
            "Epoch 424/500\n",
            "2/2 [==============================] - 0s 7ms/step - loss: 4.6013 - mae: 4.6013\n",
            "Epoch 425/500\n",
            "2/2 [==============================] - 0s 7ms/step - loss: 4.6069 - mae: 4.6069\n",
            "Epoch 426/500\n",
            "2/2 [==============================] - 0s 7ms/step - loss: 3.9177 - mae: 3.9177\n",
            "Epoch 427/500\n",
            "2/2 [==============================] - 0s 7ms/step - loss: 3.9329 - mae: 3.9329\n",
            "Epoch 428/500\n",
            "2/2 [==============================] - 0s 7ms/step - loss: 3.8880 - mae: 3.8880\n",
            "Epoch 429/500\n",
            "2/2 [==============================] - 0s 7ms/step - loss: 4.5861 - mae: 4.5861\n",
            "Epoch 430/500\n",
            "2/2 [==============================] - 0s 7ms/step - loss: 3.9285 - mae: 3.9285\n",
            "Epoch 431/500\n",
            "2/2 [==============================] - 0s 11ms/step - loss: 5.9407 - mae: 5.9407\n",
            "Epoch 432/500\n",
            "2/2 [==============================] - 0s 7ms/step - loss: 5.5183 - mae: 5.5183\n",
            "Epoch 433/500\n",
            "2/2 [==============================] - 0s 7ms/step - loss: 3.9812 - mae: 3.9812\n",
            "Epoch 434/500\n",
            "2/2 [==============================] - 0s 8ms/step - loss: 3.8793 - mae: 3.8793\n",
            "Epoch 435/500\n",
            "2/2 [==============================] - 0s 7ms/step - loss: 4.5917 - mae: 4.5917\n",
            "Epoch 436/500\n",
            "2/2 [==============================] - 0s 7ms/step - loss: 5.3057 - mae: 5.3057\n",
            "Epoch 437/500\n",
            "2/2 [==============================] - 0s 7ms/step - loss: 5.0484 - mae: 5.0484\n",
            "Epoch 438/500\n",
            "2/2 [==============================] - 0s 7ms/step - loss: 3.9523 - mae: 3.9523\n",
            "Epoch 439/500\n",
            "2/2 [==============================] - 0s 7ms/step - loss: 6.0512 - mae: 6.0512\n",
            "Epoch 440/500\n",
            "2/2 [==============================] - 0s 8ms/step - loss: 3.8733 - mae: 3.8733\n",
            "Epoch 441/500\n",
            "2/2 [==============================] - 0s 7ms/step - loss: 4.1913 - mae: 4.1913\n",
            "Epoch 442/500\n",
            "2/2 [==============================] - 0s 8ms/step - loss: 4.1916 - mae: 4.1916\n",
            "Epoch 443/500\n",
            "2/2 [==============================] - 0s 8ms/step - loss: 3.9314 - mae: 3.9314\n",
            "Epoch 444/500\n",
            "2/2 [==============================] - 0s 8ms/step - loss: 4.0351 - mae: 4.0351\n",
            "Epoch 445/500\n",
            "2/2 [==============================] - 0s 7ms/step - loss: 3.9412 - mae: 3.9412\n",
            "Epoch 446/500\n",
            "2/2 [==============================] - 0s 7ms/step - loss: 4.8194 - mae: 4.8194\n",
            "Epoch 447/500\n",
            "2/2 [==============================] - 0s 10ms/step - loss: 3.9017 - mae: 3.9017\n",
            "Epoch 448/500\n",
            "2/2 [==============================] - 0s 7ms/step - loss: 4.5940 - mae: 4.5940\n",
            "Epoch 449/500\n",
            "2/2 [==============================] - 0s 7ms/step - loss: 3.9723 - mae: 3.9723\n",
            "Epoch 450/500\n",
            "2/2 [==============================] - 0s 11ms/step - loss: 4.1586 - mae: 4.1586\n",
            "Epoch 451/500\n",
            "2/2 [==============================] - 0s 11ms/step - loss: 4.5707 - mae: 4.5707\n",
            "Epoch 452/500\n",
            "2/2 [==============================] - 0s 10ms/step - loss: 5.0590 - mae: 5.0590\n",
            "Epoch 453/500\n",
            "2/2 [==============================] - 0s 7ms/step - loss: 4.1431 - mae: 4.1431\n",
            "Epoch 454/500\n",
            "2/2 [==============================] - 0s 7ms/step - loss: 5.5034 - mae: 5.5034\n",
            "Epoch 455/500\n",
            "2/2 [==============================] - 0s 7ms/step - loss: 3.8909 - mae: 3.8909\n",
            "Epoch 456/500\n",
            "2/2 [==============================] - 0s 7ms/step - loss: 4.4992 - mae: 4.4992\n",
            "Epoch 457/500\n",
            "2/2 [==============================] - 0s 9ms/step - loss: 3.9750 - mae: 3.9750\n",
            "Epoch 458/500\n",
            "2/2 [==============================] - 0s 7ms/step - loss: 4.4785 - mae: 4.4785\n",
            "Epoch 459/500\n",
            "2/2 [==============================] - 0s 7ms/step - loss: 4.2302 - mae: 4.2302\n",
            "Epoch 460/500\n",
            "2/2 [==============================] - 0s 6ms/step - loss: 4.2775 - mae: 4.2775\n",
            "Epoch 461/500\n",
            "2/2 [==============================] - 0s 6ms/step - loss: 3.8766 - mae: 3.8766\n",
            "Epoch 462/500\n",
            "2/2 [==============================] - 0s 6ms/step - loss: 4.4003 - mae: 4.4003\n",
            "Epoch 463/500\n",
            "2/2 [==============================] - 0s 9ms/step - loss: 4.2051 - mae: 4.2051\n",
            "Epoch 464/500\n",
            "2/2 [==============================] - 0s 10ms/step - loss: 3.8926 - mae: 3.8926\n",
            "Epoch 465/500\n",
            "2/2 [==============================] - 0s 8ms/step - loss: 4.0696 - mae: 4.0696\n",
            "Epoch 466/500\n",
            "2/2 [==============================] - 0s 8ms/step - loss: 4.4243 - mae: 4.4243\n",
            "Epoch 467/500\n",
            "2/2 [==============================] - 0s 7ms/step - loss: 4.3299 - mae: 4.3299\n",
            "Epoch 468/500\n",
            "2/2 [==============================] - 0s 8ms/step - loss: 4.0620 - mae: 4.0620\n",
            "Epoch 469/500\n",
            "2/2 [==============================] - 0s 8ms/step - loss: 4.5693 - mae: 4.5693\n",
            "Epoch 470/500\n",
            "2/2 [==============================] - 0s 10ms/step - loss: 3.9988 - mae: 3.9988\n",
            "Epoch 471/500\n",
            "2/2 [==============================] - 0s 11ms/step - loss: 4.8580 - mae: 4.8580\n",
            "Epoch 472/500\n",
            "2/2 [==============================] - 0s 10ms/step - loss: 4.2030 - mae: 4.2030\n",
            "Epoch 473/500\n",
            "2/2 [==============================] - 0s 9ms/step - loss: 4.0463 - mae: 4.0463\n",
            "Epoch 474/500\n",
            "2/2 [==============================] - 0s 8ms/step - loss: 4.5192 - mae: 4.5192\n",
            "Epoch 475/500\n",
            "2/2 [==============================] - 0s 8ms/step - loss: 3.8612 - mae: 3.8612\n",
            "Epoch 476/500\n",
            "2/2 [==============================] - 0s 8ms/step - loss: 3.9861 - mae: 3.9861\n",
            "Epoch 477/500\n",
            "2/2 [==============================] - 0s 8ms/step - loss: 5.3963 - mae: 5.3963\n",
            "Epoch 478/500\n",
            "2/2 [==============================] - 0s 8ms/step - loss: 3.8657 - mae: 3.8657\n",
            "Epoch 479/500\n",
            "2/2 [==============================] - 0s 8ms/step - loss: 3.9250 - mae: 3.9250\n",
            "Epoch 480/500\n",
            "2/2 [==============================] - 0s 8ms/step - loss: 4.8260 - mae: 4.8260\n",
            "Epoch 481/500\n",
            "2/2 [==============================] - 0s 8ms/step - loss: 3.9042 - mae: 3.9042\n",
            "Epoch 482/500\n",
            "2/2 [==============================] - 0s 8ms/step - loss: 4.1172 - mae: 4.1172\n",
            "Epoch 483/500\n",
            "2/2 [==============================] - 0s 8ms/step - loss: 3.8722 - mae: 3.8722\n",
            "Epoch 484/500\n",
            "2/2 [==============================] - 0s 8ms/step - loss: 4.0568 - mae: 4.0568\n",
            "Epoch 485/500\n",
            "2/2 [==============================] - 0s 8ms/step - loss: 3.9847 - mae: 3.9847\n",
            "Epoch 486/500\n",
            "2/2 [==============================] - 0s 9ms/step - loss: 4.3201 - mae: 4.3201\n",
            "Epoch 487/500\n",
            "2/2 [==============================] - 0s 9ms/step - loss: 4.8484 - mae: 4.8484\n",
            "Epoch 488/500\n",
            "2/2 [==============================] - 0s 6ms/step - loss: 5.4049 - mae: 5.4049\n",
            "Epoch 489/500\n",
            "2/2 [==============================] - 0s 9ms/step - loss: 4.5788 - mae: 4.5788\n",
            "Epoch 490/500\n",
            "2/2 [==============================] - 0s 10ms/step - loss: 3.8821 - mae: 3.8821\n",
            "Epoch 491/500\n",
            "2/2 [==============================] - 0s 7ms/step - loss: 3.8922 - mae: 3.8922\n",
            "Epoch 492/500\n",
            "2/2 [==============================] - 0s 10ms/step - loss: 4.0607 - mae: 4.0607\n",
            "Epoch 493/500\n",
            "2/2 [==============================] - 0s 7ms/step - loss: 4.3657 - mae: 4.3657\n",
            "Epoch 494/500\n",
            "2/2 [==============================] - 0s 12ms/step - loss: 3.8652 - mae: 3.8652\n",
            "Epoch 495/500\n",
            "2/2 [==============================] - 0s 7ms/step - loss: 4.3897 - mae: 4.3897\n",
            "Epoch 496/500\n",
            "2/2 [==============================] - 0s 9ms/step - loss: 4.0017 - mae: 4.0017\n",
            "Epoch 497/500\n",
            "2/2 [==============================] - 0s 9ms/step - loss: 3.9061 - mae: 3.9061\n",
            "Epoch 498/500\n",
            "2/2 [==============================] - 0s 9ms/step - loss: 4.6533 - mae: 4.6533\n",
            "Epoch 499/500\n",
            "2/2 [==============================] - 0s 8ms/step - loss: 3.9176 - mae: 3.9176\n",
            "Epoch 500/500\n",
            "2/2 [==============================] - 0s 8ms/step - loss: 4.2319 - mae: 4.2319\n"
          ]
        },
        {
          "output_type": "execute_result",
          "data": {
            "text/plain": [
              "<keras.src.callbacks.History at 0x7b2fee804b20>"
            ]
          },
          "metadata": {},
          "execution_count": 244
        }
      ]
    },
    {
      "cell_type": "code",
      "source": [
        "# Make and plot some predictions\n",
        "y_preds_3 = model_3.predict(tf.expand_dims(X_test, axis=-1))\n",
        "plot_predictions(train_data=X_train, train_labels=y_train,\n",
        "                 test_data=X_test, test_labels=y_test,\n",
        "                 predictions=y_preds_3)"
      ],
      "metadata": {
        "colab": {
          "base_uri": "https://localhost:8080/",
          "height": 480
        },
        "id": "cVR8EUkgjz6n",
        "outputId": "2b104269-5d79-4c4c-8f17-5c5993687c57"
      },
      "execution_count": 245,
      "outputs": [
        {
          "output_type": "stream",
          "name": "stdout",
          "text": [
            "1/1 [==============================] - 0s 87ms/step\n"
          ]
        },
        {
          "output_type": "display_data",
          "data": {
            "text/plain": [
              "<Figure size 1000x700 with 1 Axes>"
            ],
            "image/png": "[encoded data removed]"
          },
          "metadata": {}
        }
      ]
    },
    {
      "cell_type": "code",
      "source": [
        "# Calculate model_3 evaluation metrics\n",
        "mae_3 = mae(y_test, tf.squeeze(tf.constant(y_preds_3)))\n",
        "mse_3 = mse(y_test, tf.squeeze(tf.constant(y_preds_3)))\n",
        "mae_3, mse_3"
      ],
      "metadata": {
        "colab": {
          "base_uri": "https://localhost:8080/"
        },
        "id": "b4A1Xeeij-ol",
        "outputId": "097c7ea3-5b6a-43a4-a6e4-85e96829cf06"
      },
      "execution_count": 246,
      "outputs": [
        {
          "output_type": "execute_result",
          "data": {
            "text/plain": [
              "(<tf.Tensor: shape=(), dtype=float32, numpy=9.213464>,\n",
              " <tf.Tensor: shape=(), dtype=float32, numpy=92.283005>)"
            ]
          },
          "metadata": {},
          "execution_count": 246
        }
      ]
    },
    {
      "cell_type": "markdown",
      "source": [
        "🔑**Note:** Start with small experiments (small models) and make sure they work and scale up the complexity"
      ],
      "metadata": {
        "id": "Boyk6eJfvcMC"
      }
    },
    {
      "cell_type": "markdown",
      "source": [
        "### Comparing the results of our experiments\n",
        "\n",
        "We've run a few experiments, let's compare the results."
      ],
      "metadata": {
        "id": "6GFAzsV2k74D"
      }
    },
    {
      "cell_type": "code",
      "source": [
        "# Let's compare our model's results using a pandas DataFrame\n",
        "import pandas as pd\n",
        "\n",
        "model_results = [['model_1', mae_1.numpy(), mse_1.numpy()],\n",
        "                 ['model_2', mae_2.numpy(), mse_2.numpy()],\n",
        "                 ['model_3', mae_3.numpy(), mse_3.numpy()]]\n",
        "\n",
        "model_results = pd.DataFrame(model_results,\n",
        "                             columns=['model', 'mae', 'mse'])\n",
        "model_results"
      ],
      "metadata": {
        "id": "B39yEDTElJ6D",
        "colab": {
          "base_uri": "https://localhost:8080/",
          "height": 143
        },
        "outputId": "7e853621-96cf-4a03-c491-055d38dee6ed"
      },
      "execution_count": 247,
      "outputs": [
        {
          "output_type": "execute_result",
          "data": {
            "text/plain": [
              "     model        mae         mse\n",
              "0  model_1  14.995496  225.715378\n",
              "1  model_2   8.613791   81.573166\n",
              "2  model_3   9.213464   92.283005"
            ],
            "text/html": [
              "\n",
              "  <div id=\"df-11fac4c6-fbfc-4d16-9b68-505722afffef\" class=\"colab-df-container\">\n",
              "    <div>\n",
              "<style scoped>\n",
              "    .dataframe tbody tr th:only-of-type {\n",
              "        vertical-align: middle;\n",
              "    }\n",
              "\n",
              "    .dataframe tbody tr th {\n",
              "        vertical-align: top;\n",
              "    }\n",
              "\n",
              "    .dataframe thead th {\n",
              "        text-align: right;\n",
              "    }\n",
              "</style>\n",
              "<table border=\"1\" class=\"dataframe\">\n",
              "  <thead>\n",
              "    <tr style=\"text-align: right;\">\n",
              "      <th></th>\n",
              "      <th>model</th>\n",
              "      <th>mae</th>\n",
              "      <th>mse</th>\n",
              "    </tr>\n",
              "  </thead>\n",
              "  <tbody>\n",
              "    <tr>\n",
              "      <th>0</th>\n",
              "      <td>model_1</td>\n",
              "      <td>14.995496</td>\n",
              "      <td>225.715378</td>\n",
              "    </tr>\n",
              "    <tr>\n",
              "      <th>1</th>\n",
              "      <td>model_2</td>\n",
              "      <td>8.613791</td>\n",
              "      <td>81.573166</td>\n",
              "    </tr>\n",
              "    <tr>\n",
              "      <th>2</th>\n",
              "      <td>model_3</td>\n",
              "      <td>9.213464</td>\n",
              "      <td>92.283005</td>\n",
              "    </tr>\n",
              "  </tbody>\n",
              "</table>\n",
              "</div>\n",
              "    <div class=\"colab-df-buttons\">\n",
              "\n",
              "  <div class=\"colab-df-container\">\n",
              "    <button class=\"colab-df-convert\" onclick=\"convertToInteractive('df-11fac4c6-fbfc-4d16-9b68-505722afffef')\"\n",
              "            title=\"Convert this dataframe to an interactive table.\"\n",
              "            style=\"display:none;\">\n",
              "\n",
              "  <svg xmlns=\"http://www.w3.org/2000/svg\" height=\"24px\" viewBox=\"0 -960 960 960\">\n",
              "    <path d=\"M120-120v-720h720v720H120Zm60-500h600v-160H180v160Zm220 220h160v-160H400v160Zm0 220h160v-160H400v160ZM180-400h160v-160H180v160Zm440 0h160v-160H620v160ZM180-180h160v-160H180v160Zm440 0h160v-160H620v160Z\"/>\n",
              "  </svg>\n",
              "    </button>\n",
              "\n",
              "  <style>\n",
              "    .colab-df-container {\n",
              "      display:flex;\n",
              "      gap: 12px;\n",
              "    }\n",
              "\n",
              "    .colab-df-convert {\n",
              "      background-color: #E8F0FE;\n",
              "      border: none;\n",
              "      border-radius: 50%;\n",
              "      cursor: pointer;\n",
              "      display: none;\n",
              "      fill: #1967D2;\n",
              "      height: 32px;\n",
              "      padding: 0 0 0 0;\n",
              "      width: 32px;\n",
              "    }\n",
              "\n",
              "    .colab-df-convert:hover {\n",
              "      background-color: #E2EBFA;\n",
              "      box-shadow: 0px 1px 2px rgba(60, 64, 67, 0.3), 0px 1px 3px 1px rgba(60, 64, 67, 0.15);\n",
              "      fill: #174EA6;\n",
              "    }\n",
              "\n",
              "    .colab-df-buttons div {\n",
              "      margin-bottom: 4px;\n",
              "    }\n",
              "\n",
              "    [theme=dark] .colab-df-convert {\n",
              "      background-color: #3B4455;\n",
              "      fill: #D2E3FC;\n",
              "    }\n",
              "\n",
              "    [theme=dark] .colab-df-convert:hover {\n",
              "      background-color: #434B5C;\n",
              "      box-shadow: 0px 1px 3px 1px rgba(0, 0, 0, 0.15);\n",
              "      filter: drop-shadow(0px 1px 2px rgba(0, 0, 0, 0.3));\n",
              "      fill: #FFFFFF;\n",
              "    }\n",
              "  </style>\n",
              "\n",
              "    <script>\n",
              "      const buttonEl =\n",
              "        document.querySelector('#df-11fac4c6-fbfc-4d16-9b68-505722afffef button.colab-df-convert');\n",
              "      buttonEl.style.display =\n",
              "        google.colab.kernel.accessAllowed ? 'block' : 'none';\n",
              "\n",
              "      async function convertToInteractive(key) {\n",
              "        const element = document.querySelector('#df-11fac4c6-fbfc-4d16-9b68-505722afffef');\n",
              "        const dataTable =\n",
              "          await google.colab.kernel.invokeFunction('convertToInteractive',\n",
              "                                                    [key], {});\n",
              "        if (!dataTable) return;\n",
              "\n",
              "        const docLinkHtml = 'Like what you see? Visit the ' +\n",
              "          '<a target=\"_blank\" href=https://colab.research.google.com/notebooks/data_table.ipynb>data table notebook</a>'\n",
              "          + ' to learn more about interactive tables.';\n",
              "        element.innerHTML = '';\n",
              "        dataTable['output_type'] = 'display_data';\n",
              "        await google.colab.output.renderOutput(dataTable, element);\n",
              "        const docLink = document.createElement('div');\n",
              "        docLink.innerHTML = docLinkHtml;\n",
              "        element.appendChild(docLink);\n",
              "      }\n",
              "    </script>\n",
              "  </div>\n",
              "\n",
              "\n",
              "<div id=\"df-aee0b690-799e-48c1-a48e-1c9ba297592b\">\n",
              "  <button class=\"colab-df-quickchart\" onclick=\"quickchart('df-aee0b690-799e-48c1-a48e-1c9ba297592b')\"\n",
              "            title=\"Suggest charts\"\n",
              "            style=\"display:none;\">\n",
              "\n",
              "<svg xmlns=\"http://www.w3.org/2000/svg\" height=\"24px\"viewBox=\"0 0 24 24\"\n",
              "     width=\"24px\">\n",
              "    <g>\n",
              "        <path d=\"M19 3H5c-1.1 0-2 .9-2 2v14c0 1.1.9 2 2 2h14c1.1 0 2-.9 2-2V5c0-1.1-.9-2-2-2zM9 17H7v-7h2v7zm4 0h-2V7h2v10zm4 0h-2v-4h2v4z\"/>\n",
              "    </g>\n",
              "</svg>\n",
              "  </button>\n",
              "\n",
              "<style>\n",
              "  .colab-df-quickchart {\n",
              "      --bg-color: #E8F0FE;\n",
              "      --fill-color: #1967D2;\n",
              "      --hover-bg-color: #E2EBFA;\n",
              "      --hover-fill-color: #174EA6;\n",
              "      --disabled-fill-color: #AAA;\n",
              "      --disabled-bg-color: #DDD;\n",
              "  }\n",
              "\n",
              "  [theme=dark] .colab-df-quickchart {\n",
              "      --bg-color: #3B4455;\n",
              "      --fill-color: #D2E3FC;\n",
              "      --hover-bg-color: #434B5C;\n",
              "      --hover-fill-color: #FFFFFF;\n",
              "      --disabled-bg-color: #3B4455;\n",
              "      --disabled-fill-color: #666;\n",
              "  }\n",
              "\n",
              "  .colab-df-quickchart {\n",
              "    background-color: var(--bg-color);\n",
              "    border: none;\n",
              "    border-radius: 50%;\n",
              "    cursor: pointer;\n",
              "    display: none;\n",
              "    fill: var(--fill-color);\n",
              "    height: 32px;\n",
              "    padding: 0;\n",
              "    width: 32px;\n",
              "  }\n",
              "\n",
              "  .colab-df-quickchart:hover {\n",
              "    background-color: var(--hover-bg-color);\n",
              "    box-shadow: 0 1px 2px rgba(60, 64, 67, 0.3), 0 1px 3px 1px rgba(60, 64, 67, 0.15);\n",
              "    fill: var(--button-hover-fill-color);\n",
              "  }\n",
              "\n",
              "  .colab-df-quickchart-complete:disabled,\n",
              "  .colab-df-quickchart-complete:disabled:hover {\n",
              "    background-color: var(--disabled-bg-color);\n",
              "    fill: var(--disabled-fill-color);\n",
              "    box-shadow: none;\n",
              "  }\n",
              "\n",
              "  .colab-df-spinner {\n",
              "    border: 2px solid var(--fill-color);\n",
              "    border-color: transparent;\n",
              "    border-bottom-color: var(--fill-color);\n",
              "    animation:\n",
              "      spin 1s steps(1) infinite;\n",
              "  }\n",
              "\n",
              "  @keyframes spin {\n",
              "    0% {\n",
              "      border-color: transparent;\n",
              "      border-bottom-color: var(--fill-color);\n",
              "      border-left-color: var(--fill-color);\n",
              "    }\n",
              "    20% {\n",
              "      border-color: transparent;\n",
              "      border-left-color: var(--fill-color);\n",
              "      border-top-color: var(--fill-color);\n",
              "    }\n",
              "    30% {\n",
              "      border-color: transparent;\n",
              "      border-left-color: var(--fill-color);\n",
              "      border-top-color: var(--fill-color);\n",
              "      border-right-color: var(--fill-color);\n",
              "    }\n",
              "    40% {\n",
              "      border-color: transparent;\n",
              "      border-right-color: var(--fill-color);\n",
              "      border-top-color: var(--fill-color);\n",
              "    }\n",
              "    60% {\n",
              "      border-color: transparent;\n",
              "      border-right-color: var(--fill-color);\n",
              "    }\n",
              "    80% {\n",
              "      border-color: transparent;\n",
              "      border-right-color: var(--fill-color);\n",
              "      border-bottom-color: var(--fill-color);\n",
              "    }\n",
              "    90% {\n",
              "      border-color: transparent;\n",
              "      border-bottom-color: var(--fill-color);\n",
              "    }\n",
              "  }\n",
              "</style>\n",
              "\n",
              "  <script>\n",
              "    async function quickchart(key) {\n",
              "      const quickchartButtonEl =\n",
              "        document.querySelector('#' + key + ' button');\n",
              "      quickchartButtonEl.disabled = true;  // To prevent multiple clicks.\n",
              "      quickchartButtonEl.classList.add('colab-df-spinner');\n",
              "      try {\n",
              "        const charts = await google.colab.kernel.invokeFunction(\n",
              "            'suggestCharts', [key], {});\n",
              "      } catch (error) {\n",
              "        console.error('Error during call to suggestCharts:', error);\n",
              "      }\n",
              "      quickchartButtonEl.classList.remove('colab-df-spinner');\n",
              "      quickchartButtonEl.classList.add('colab-df-quickchart-complete');\n",
              "    }\n",
              "    (() => {\n",
              "      let quickchartButtonEl =\n",
              "        document.querySelector('#df-aee0b690-799e-48c1-a48e-1c9ba297592b button');\n",
              "      quickchartButtonEl.style.display =\n",
              "        google.colab.kernel.accessAllowed ? 'block' : 'none';\n",
              "    })();\n",
              "  </script>\n",
              "</div>\n",
              "\n",
              "  <div id=\"id_970ddb8c-013e-4298-8d76-634773788ae1\">\n",
              "    <style>\n",
              "      .colab-df-generate {\n",
              "        background-color: #E8F0FE;\n",
              "        border: none;\n",
              "        border-radius: 50%;\n",
              "        cursor: pointer;\n",
              "        display: none;\n",
              "        fill: #1967D2;\n",
              "        height: 32px;\n",
              "        padding: 0 0 0 0;\n",
              "        width: 32px;\n",
              "      }\n",
              "\n",
              "      .colab-df-generate:hover {\n",
              "        background-color: #E2EBFA;\n",
              "        box-shadow: 0px 1px 2px rgba(60, 64, 67, 0.3), 0px 1px 3px 1px rgba(60, 64, 67, 0.15);\n",
              "        fill: #174EA6;\n",
              "      }\n",
              "\n",
              "      [theme=dark] .colab-df-generate {\n",
              "        background-color: #3B4455;\n",
              "        fill: #D2E3FC;\n",
              "      }\n",
              "\n",
              "      [theme=dark] .colab-df-generate:hover {\n",
              "        background-color: #434B5C;\n",
              "        box-shadow: 0px 1px 3px 1px rgba(0, 0, 0, 0.15);\n",
              "        filter: drop-shadow(0px 1px 2px rgba(0, 0, 0, 0.3));\n",
              "        fill: #FFFFFF;\n",
              "      }\n",
              "    </style>\n",
              "    <button class=\"colab-df-generate\" onclick=\"generateWithVariable('model_results')\"\n",
              "            title=\"Generate code using this dataframe.\"\n",
              "            style=\"display:none;\">\n",
              "\n",
              "  <svg xmlns=\"http://www.w3.org/2000/svg\" height=\"24px\"viewBox=\"0 0 24 24\"\n",
              "       width=\"24px\">\n",
              "    <path d=\"M7,19H8.4L18.45,9,17,7.55,7,17.6ZM5,21V16.75L18.45,3.32a2,2,0,0,1,2.83,0l1.4,1.43a1.91,1.91,0,0,1,.58,1.4,1.91,1.91,0,0,1-.58,1.4L9.25,21ZM18.45,9,17,7.55Zm-12,3A5.31,5.31,0,0,0,4.9,8.1,5.31,5.31,0,0,0,1,6.5,5.31,5.31,0,0,0,4.9,4.9,5.31,5.31,0,0,0,6.5,1,5.31,5.31,0,0,0,8.1,4.9,5.31,5.31,0,0,0,12,6.5,5.46,5.46,0,0,0,6.5,12Z\"/>\n",
              "  </svg>\n",
              "    </button>\n",
              "    <script>\n",
              "      (() => {\n",
              "      const buttonEl =\n",
              "        document.querySelector('#id_970ddb8c-013e-4298-8d76-634773788ae1 button.colab-df-generate');\n",
              "      buttonEl.style.display =\n",
              "        google.colab.kernel.accessAllowed ? 'block' : 'none';\n",
              "\n",
              "      buttonEl.onclick = () => {\n",
              "        google.colab.notebook.generateWithVariable('model_results');\n",
              "      }\n",
              "      })();\n",
              "    </script>\n",
              "  </div>\n",
              "\n",
              "    </div>\n",
              "  </div>\n"
            ],
            "application/vnd.google.colaboratory.intrinsic+json": {
              "type": "dataframe",
              "variable_name": "model_results",
              "summary": "{\n  \"name\": \"model_results\",\n  \"rows\": 3,\n  \"fields\": [\n    {\n      \"column\": \"model\",\n      \"properties\": {\n        \"dtype\": \"string\",\n        \"samples\": [\n          \"model_1\",\n          \"model_2\",\n          \"model_3\"\n        ],\n        \"num_unique_values\": 3,\n        \"semantic_type\": \"\",\n        \"description\": \"\"\n      }\n    },\n    {\n      \"column\": \"mae\",\n      \"properties\": {\n        \"dtype\": \"float32\",\n        \"samples\": [\n          14.995495796203613,\n          8.613790512084961,\n          9.21346378326416\n        ],\n        \"num_unique_values\": 3,\n        \"semantic_type\": \"\",\n        \"description\": \"\"\n      }\n    },\n    {\n      \"column\": \"mse\",\n      \"properties\": {\n        \"dtype\": \"float32\",\n        \"samples\": [\n          225.7153778076172,\n          81.57316589355469,\n          92.28300476074219\n        ],\n        \"num_unique_values\": 3,\n        \"semantic_type\": \"\",\n        \"description\": \"\"\n      }\n    }\n  ]\n}"
            }
          },
          "metadata": {},
          "execution_count": 247
        }
      ]
    },
    {
      "cell_type": "markdown",
      "source": [
        "`model_2` performed the best."
      ],
      "metadata": {
        "id": "4lUVtGQ5xbGg"
      }
    },
    {
      "cell_type": "code",
      "source": [
        "model_2.summary()"
      ],
      "metadata": {
        "colab": {
          "base_uri": "https://localhost:8080/"
        },
        "id": "_pjxGsMZwNJN",
        "outputId": "feddf25e-af0a-4b7f-c666-601afdab6e1c"
      },
      "execution_count": 248,
      "outputs": [
        {
          "output_type": "stream",
          "name": "stdout",
          "text": [
            "Model: \"sequential_43\"\n",
            "_________________________________________________________________\n",
            " Layer (type)                Output Shape              Param #   \n",
            "=================================================================\n",
            " dense_99 (Dense)            (None, 16)                32        \n",
            "                                                                 \n",
            " dense_100 (Dense)           (None, 1)                 17        \n",
            "                                                                 \n",
            "=================================================================\n",
            "Total params: 49 (196.00 Byte)\n",
            "Trainable params: 49 (196.00 Byte)\n",
            "Non-trainable params: 0 (0.00 Byte)\n",
            "_________________________________________________________________\n"
          ]
        }
      ]
    },
    {
      "cell_type": "markdown",
      "source": [
        "> 🔑**Note:** One of the main goals should be to minimize the time between the experiments performed, the more things can be figured out what does work and what doesn't, Remember the ML Practioner's moto: 'Experiment, Experiment, Experiment...'"
      ],
      "metadata": {
        "id": "9x-5taMjxklx"
      }
    },
    {
      "cell_type": "markdown",
      "source": [
        "### Tracking your experiments\n",
        "\n",
        "One really good habit in machine learning modelling is to track the results of the experiments.\n",
        "\n",
        "And when doing so, it can be tedious if you're running lots of experiments.\n",
        "\n",
        "Luckily, There are tools to help us!\n",
        "\n",
        "📖**Resource:** As you build more models, you will want to look into using:\n",
        "\n",
        "* TensorBoard - a component of the TensorFlow library to help track modelling experiments (We'll see this one later).\n",
        "* Weights and Biases - a tool for tracking all kinds of machine learning experiments (plugs straight into TensorBoard)."
      ],
      "metadata": {
        "id": "k1kBzhFLT0ps"
      }
    },
    {
      "cell_type": "markdown",
      "source": [
        "### Saving our Models\n",
        "\n",
        "Saving our models allows us to use them outside of Google Colab (or wherever they were trained) such as in a web application or a mobile app.\n",
        "\n",
        "There are two main formats we can save our model's too:\n",
        "\n",
        "1. The SavedModel format\n",
        "2. The HDF5 format"
      ],
      "metadata": {
        "id": "unHMUlkNVDp7"
      }
    },
    {
      "cell_type": "code",
      "source": [
        "# Save model using the SavedModel format\n",
        "model_2.save('best_model_SavedModel_format')"
      ],
      "metadata": {
        "id": "jyAE4y6Mxiww"
      },
      "execution_count": 249,
      "outputs": []
    },
    {
      "cell_type": "code",
      "source": [
        "# Save model using the HDF5\n",
        "model_2.save('best_model_HDF5_format.h5')"
      ],
      "metadata": {
        "colab": {
          "base_uri": "https://localhost:8080/"
        },
        "id": "tVZk-cHcP46M",
        "outputId": "65ddd87b-42d8-4d6d-ac79-2355ab5a1ab7"
      },
      "execution_count": 250,
      "outputs": [
        {
          "output_type": "stream",
          "name": "stderr",
          "text": [
            "/usr/local/lib/python3.10/dist-packages/keras/src/engine/training.py:3103: UserWarning: You are saving your model as an HDF5 file via `model.save()`. This file format is considered legacy. We recommend using instead the native Keras format, e.g. `model.save('my_model.keras')`.\n",
            "  saving_api.save_model(\n"
          ]
        }
      ]
    },
    {
      "cell_type": "markdown",
      "source": [
        "### Loading a Saved model"
      ],
      "metadata": {
        "id": "hEJ5NcdqRFl1"
      }
    },
    {
      "cell_type": "code",
      "source": [
        "# Load in the SavedModel format\n",
        "loaded_saved_format_model = tf.keras.models.load_model('best_model_SavedModel_format')\n",
        "loaded_saved_format_model.summary()"
      ],
      "metadata": {
        "colab": {
          "base_uri": "https://localhost:8080/"
        },
        "id": "61Qy541DQZ9X",
        "outputId": "87d63039-744e-4c22-c5a2-ac0b4cd164d0"
      },
      "execution_count": 251,
      "outputs": [
        {
          "output_type": "stream",
          "name": "stdout",
          "text": [
            "Model: \"sequential_43\"\n",
            "_________________________________________________________________\n",
            " Layer (type)                Output Shape              Param #   \n",
            "=================================================================\n",
            " dense_99 (Dense)            (None, 16)                32        \n",
            "                                                                 \n",
            " dense_100 (Dense)           (None, 1)                 17        \n",
            "                                                                 \n",
            "=================================================================\n",
            "Total params: 49 (196.00 Byte)\n",
            "Trainable params: 49 (196.00 Byte)\n",
            "Non-trainable params: 0 (0.00 Byte)\n",
            "_________________________________________________________________\n"
          ]
        }
      ]
    },
    {
      "cell_type": "code",
      "source": [
        "model_2.summary()"
      ],
      "metadata": {
        "colab": {
          "base_uri": "https://localhost:8080/"
        },
        "id": "H5KLYxUARZ7q",
        "outputId": "95539394-ed52-4699-cdff-55524b7c910a"
      },
      "execution_count": 252,
      "outputs": [
        {
          "output_type": "stream",
          "name": "stdout",
          "text": [
            "Model: \"sequential_43\"\n",
            "_________________________________________________________________\n",
            " Layer (type)                Output Shape              Param #   \n",
            "=================================================================\n",
            " dense_99 (Dense)            (None, 16)                32        \n",
            "                                                                 \n",
            " dense_100 (Dense)           (None, 1)                 17        \n",
            "                                                                 \n",
            "=================================================================\n",
            "Total params: 49 (196.00 Byte)\n",
            "Trainable params: 49 (196.00 Byte)\n",
            "Non-trainable params: 0 (0.00 Byte)\n",
            "_________________________________________________________________\n"
          ]
        }
      ]
    },
    {
      "cell_type": "code",
      "source": [
        "# Compare model_2 preds with SavedModel format model preds\n",
        "model_2_preds = model_2.predict(tf.expand_dims(X_test, axis=-1))\n",
        "loaded_saved_format_model_preds = loaded_saved_format_model.predict(tf.expand_dims(X_test, axis=-1))\n",
        "model_2_preds == loaded_saved_format_model_preds"
      ],
      "metadata": {
        "colab": {
          "base_uri": "https://localhost:8080/"
        },
        "id": "6lrI7RZiReIt",
        "outputId": "68ca85c2-38fa-4f5a-922a-f82c05b22f77"
      },
      "execution_count": 253,
      "outputs": [
        {
          "output_type": "stream",
          "name": "stdout",
          "text": [
            "1/1 [==============================] - 0s 30ms/step\n",
            "1/1 [==============================] - 0s 51ms/step\n"
          ]
        },
        {
          "output_type": "execute_result",
          "data": {
            "text/plain": [
              "array([[ True],\n",
              "       [ True],\n",
              "       [ True],\n",
              "       [ True],\n",
              "       [ True],\n",
              "       [ True],\n",
              "       [ True],\n",
              "       [ True],\n",
              "       [ True],\n",
              "       [ True]])"
            ]
          },
          "metadata": {},
          "execution_count": 253
        }
      ]
    },
    {
      "cell_type": "code",
      "source": [
        "mae(y_test, tf.squeeze(tf.constant(model_2_preds))) == mae(y_test, tf.squeeze(tf.constant(loaded_saved_format_model_preds)))"
      ],
      "metadata": {
        "colab": {
          "base_uri": "https://localhost:8080/"
        },
        "id": "uT9GyHEdRyY8",
        "outputId": "e8ff426c-0df8-4d32-89de-59595becaaa3"
      },
      "execution_count": 254,
      "outputs": [
        {
          "output_type": "execute_result",
          "data": {
            "text/plain": [
              "<tf.Tensor: shape=(), dtype=bool, numpy=True>"
            ]
          },
          "metadata": {},
          "execution_count": 254
        }
      ]
    },
    {
      "cell_type": "code",
      "source": [
        "# Load in a model using the .h5 format\n",
        "loaded_h5_format_model = tf.keras.models.load_model('best_model_HDF5_format.h5')\n",
        "loaded_h5_format_model.summary()"
      ],
      "metadata": {
        "colab": {
          "base_uri": "https://localhost:8080/"
        },
        "id": "-LhBjGSHR-au",
        "outputId": "8f1ade99-88d1-423f-928e-003a5460096f"
      },
      "execution_count": 255,
      "outputs": [
        {
          "output_type": "stream",
          "name": "stdout",
          "text": [
            "Model: \"sequential_43\"\n",
            "_________________________________________________________________\n",
            " Layer (type)                Output Shape              Param #   \n",
            "=================================================================\n",
            " dense_99 (Dense)            (None, 16)                32        \n",
            "                                                                 \n",
            " dense_100 (Dense)           (None, 1)                 17        \n",
            "                                                                 \n",
            "=================================================================\n",
            "Total params: 49 (196.00 Byte)\n",
            "Trainable params: 49 (196.00 Byte)\n",
            "Non-trainable params: 0 (0.00 Byte)\n",
            "_________________________________________________________________\n"
          ]
        }
      ]
    },
    {
      "cell_type": "code",
      "source": [
        "# Compare the model_2 preds with loaded .h5 model preds\n",
        "loaded_h5_format_model_preds = loaded_h5_format_model.predict(tf.expand_dims(X_test, axis=-1))\n",
        "model_2_preds == loaded_h5_format_model_preds"
      ],
      "metadata": {
        "colab": {
          "base_uri": "https://localhost:8080/"
        },
        "id": "RfHXJu5CSZ-c",
        "outputId": "436d1c42-9905-418f-b145-78612fb41164"
      },
      "execution_count": 256,
      "outputs": [
        {
          "output_type": "stream",
          "name": "stdout",
          "text": [
            "1/1 [==============================] - 0s 52ms/step\n"
          ]
        },
        {
          "output_type": "execute_result",
          "data": {
            "text/plain": [
              "array([[ True],\n",
              "       [ True],\n",
              "       [ True],\n",
              "       [ True],\n",
              "       [ True],\n",
              "       [ True],\n",
              "       [ True],\n",
              "       [ True],\n",
              "       [ True],\n",
              "       [ True]])"
            ]
          },
          "metadata": {},
          "execution_count": 256
        }
      ]
    },
    {
      "cell_type": "code",
      "source": [
        "mae(y_test, tf.squeeze(tf.constant(model_2_preds))) == mae(y_test, tf.squeeze(tf.constant(loaded_h5_format_model_preds)))"
      ],
      "metadata": {
        "id": "BojhBSGeSrT3",
        "outputId": "34746995-af8c-4977-c77d-42c08ccd7757",
        "colab": {
          "base_uri": "https://localhost:8080/"
        }
      },
      "execution_count": 257,
      "outputs": [
        {
          "output_type": "execute_result",
          "data": {
            "text/plain": [
              "<tf.Tensor: shape=(), dtype=bool, numpy=True>"
            ]
          },
          "metadata": {},
          "execution_count": 257
        }
      ]
    },
    {
      "cell_type": "markdown",
      "source": [
        "### Download a model (or any other file) from Google COlab\n",
        "\n",
        "If you want to download your files from Google Colab:\n",
        "1. You can go to the 'files' tab and right click on the file you're after and click 'download'.\n",
        "2. Use code (see the cell below).\n",
        "3. Save it to Google Drive."
      ],
      "metadata": {
        "id": "VD8oUXKc5BxK"
      }
    },
    {
      "cell_type": "code",
      "source": [
        "# Download a file from Google Colab\n",
        "from google.colab import files\n",
        "files.download('best_model_HDF5_format.h5')"
      ],
      "metadata": {
        "id": "8pUTZ0wlSvas",
        "colab": {
          "base_uri": "https://localhost:8080/",
          "height": 17
        },
        "outputId": "2c62e18a-bb0e-4489-8169-e10e7f173301"
      },
      "execution_count": 258,
      "outputs": [
        {
          "output_type": "display_data",
          "data": {
            "text/plain": [
              "<IPython.core.display.Javascript object>"
            ],
            "application/javascript": [
              "\n",
              "    async function download(id, filename, size) {\n",
              "      if (!google.colab.kernel.accessAllowed) {\n",
              "        return;\n",
              "      }\n",
              "      const div = document.createElement('div');\n",
              "      const label = document.createElement('label');\n",
              "      label.textContent = `Downloading \"${filename}\": `;\n",
              "      div.appendChild(label);\n",
              "      const progress = document.createElement('progress');\n",
              "      progress.max = size;\n",
              "      div.appendChild(progress);\n",
              "      document.body.appendChild(div);\n",
              "\n",
              "      const buffers = [];\n",
              "      let downloaded = 0;\n",
              "\n",
              "      const channel = await google.colab.kernel.comms.open(id);\n",
              "      // Send a message to notify the kernel that we're ready.\n",
              "      channel.send({})\n",
              "\n",
              "      for await (const message of channel.messages) {\n",
              "        // Send a message to notify the kernel that we're ready.\n",
              "        channel.send({})\n",
              "        if (message.buffers) {\n",
              "          for (const buffer of message.buffers) {\n",
              "            buffers.push(buffer);\n",
              "            downloaded += buffer.byteLength;\n",
              "            progress.value = downloaded;\n",
              "          }\n",
              "        }\n",
              "      }\n",
              "      const blob = new Blob(buffers, {type: 'application/binary'});\n",
              "      const a = document.createElement('a');\n",
              "      a.href = window.URL.createObjectURL(blob);\n",
              "      a.download = filename;\n",
              "      div.appendChild(a);\n",
              "      a.click();\n",
              "      div.remove();\n",
              "    }\n",
              "  "
            ]
          },
          "metadata": {}
        },
        {
          "output_type": "display_data",
          "data": {
            "text/plain": [
              "<IPython.core.display.Javascript object>"
            ],
            "application/javascript": [
              "download(\"download_ce9e473b-2511-4b9a-91ff-10bdb16c8428\", \"best_model_HDF5_format.h5\", 21952)"
            ]
          },
          "metadata": {}
        }
      ]
    },
    {
      "cell_type": "code",
      "source": [
        "# Save a file from Google Colab to Google Drive (requires mounting drive)\n",
        "!cp /content/best_model_HDF5_format.h5 /content/drive/MyDrive/TensorFlow"
      ],
      "metadata": {
        "id": "EIWDOK4M5t3B"
      },
      "execution_count": 259,
      "outputs": []
    },
    {
      "cell_type": "code",
      "source": [
        "!ls /content/drive/MyDrive/TensorFlow"
      ],
      "metadata": {
        "colab": {
          "base_uri": "https://localhost:8080/"
        },
        "id": "GgCJRXi66WsE",
        "outputId": "2492325f-6b97-4931-b077-db939b28be51"
      },
      "execution_count": 260,
      "outputs": [
        {
          "output_type": "stream",
          "name": "stdout",
          "text": [
            "best_model_HDF5_format.h5  Neural-Network-Regression-with-TensorFlow-01  TensorFlow-Fundamentals-00\n"
          ]
        }
      ]
    },
    {
      "cell_type": "markdown",
      "source": [
        "### A larger example"
      ],
      "metadata": {
        "id": "lI9fQfLN6v0k"
      }
    },
    {
      "cell_type": "code",
      "source": [
        "# Import required libraries\n",
        "import tensorflow as tf\n",
        "import numpy as np\n",
        "import pandas as pd\n",
        "import matplotlib.pyplot as plt\n"
      ],
      "metadata": {
        "id": "cJcERsHN6cuk"
      },
      "execution_count": 278,
      "outputs": []
    },
    {
      "cell_type": "code",
      "source": [
        "# Read in the insurance dataset\n",
        "insurance = pd.read_csv('https://raw.githubusercontent.com/stedy/Machine-Learning-with-R-datasets/master/insurance.csv')\n",
        "insurance.head()"
      ],
      "metadata": {
        "colab": {
          "base_uri": "https://localhost:8080/",
          "height": 206
        },
        "id": "StrBnGkQ8eq8",
        "outputId": "06f5438f-418a-40cd-aff3-c9b1261fdfdc"
      },
      "execution_count": 279,
      "outputs": [
        {
          "output_type": "execute_result",
          "data": {
            "text/plain": [
              "   age     sex     bmi  children smoker     region      charges\n",
              "0   19  female  27.900         0    yes  southwest  16884.92400\n",
              "1   18    male  33.770         1     no  southeast   1725.55230\n",
              "2   28    male  33.000         3     no  southeast   4449.46200\n",
              "3   33    male  22.705         0     no  northwest  21984.47061\n",
              "4   32    male  28.880         0     no  northwest   3866.85520"
            ],
            "text/html": [
              "\n",
              "  <div id=\"df-a0313d6e-ec00-4b2b-a50c-412660f2f88c\" class=\"colab-df-container\">\n",
              "    <div>\n",
              "<style scoped>\n",
              "    .dataframe tbody tr th:only-of-type {\n",
              "        vertical-align: middle;\n",
              "    }\n",
              "\n",
              "    .dataframe tbody tr th {\n",
              "        vertical-align: top;\n",
              "    }\n",
              "\n",
              "    .dataframe thead th {\n",
              "        text-align: right;\n",
              "    }\n",
              "</style>\n",
              "<table border=\"1\" class=\"dataframe\">\n",
              "  <thead>\n",
              "    <tr style=\"text-align: right;\">\n",
              "      <th></th>\n",
              "      <th>age</th>\n",
              "      <th>sex</th>\n",
              "      <th>bmi</th>\n",
              "      <th>children</th>\n",
              "      <th>smoker</th>\n",
              "      <th>region</th>\n",
              "      <th>charges</th>\n",
              "    </tr>\n",
              "  </thead>\n",
              "  <tbody>\n",
              "    <tr>\n",
              "      <th>0</th>\n",
              "      <td>19</td>\n",
              "      <td>female</td>\n",
              "      <td>27.900</td>\n",
              "      <td>0</td>\n",
              "      <td>yes</td>\n",
              "      <td>southwest</td>\n",
              "      <td>16884.92400</td>\n",
              "    </tr>\n",
              "    <tr>\n",
              "      <th>1</th>\n",
              "      <td>18</td>\n",
              "      <td>male</td>\n",
              "      <td>33.770</td>\n",
              "      <td>1</td>\n",
              "      <td>no</td>\n",
              "      <td>southeast</td>\n",
              "      <td>1725.55230</td>\n",
              "    </tr>\n",
              "    <tr>\n",
              "      <th>2</th>\n",
              "      <td>28</td>\n",
              "      <td>male</td>\n",
              "      <td>33.000</td>\n",
              "      <td>3</td>\n",
              "      <td>no</td>\n",
              "      <td>southeast</td>\n",
              "      <td>4449.46200</td>\n",
              "    </tr>\n",
              "    <tr>\n",
              "      <th>3</th>\n",
              "      <td>33</td>\n",
              "      <td>male</td>\n",
              "      <td>22.705</td>\n",
              "      <td>0</td>\n",
              "      <td>no</td>\n",
              "      <td>northwest</td>\n",
              "      <td>21984.47061</td>\n",
              "    </tr>\n",
              "    <tr>\n",
              "      <th>4</th>\n",
              "      <td>32</td>\n",
              "      <td>male</td>\n",
              "      <td>28.880</td>\n",
              "      <td>0</td>\n",
              "      <td>no</td>\n",
              "      <td>northwest</td>\n",
              "      <td>3866.85520</td>\n",
              "    </tr>\n",
              "  </tbody>\n",
              "</table>\n",
              "</div>\n",
              "    <div class=\"colab-df-buttons\">\n",
              "\n",
              "  <div class=\"colab-df-container\">\n",
              "    <button class=\"colab-df-convert\" onclick=\"convertToInteractive('df-a0313d6e-ec00-4b2b-a50c-412660f2f88c')\"\n",
              "            title=\"Convert this dataframe to an interactive table.\"\n",
              "            style=\"display:none;\">\n",
              "\n",
              "  <svg xmlns=\"http://www.w3.org/2000/svg\" height=\"24px\" viewBox=\"0 -960 960 960\">\n",
              "    <path d=\"M120-120v-720h720v720H120Zm60-500h600v-160H180v160Zm220 220h160v-160H400v160Zm0 220h160v-160H400v160ZM180-400h160v-160H180v160Zm440 0h160v-160H620v160ZM180-180h160v-160H180v160Zm440 0h160v-160H620v160Z\"/>\n",
              "  </svg>\n",
              "    </button>\n",
              "\n",
              "  <style>\n",
              "    .colab-df-container {\n",
              "      display:flex;\n",
              "      gap: 12px;\n",
              "    }\n",
              "\n",
              "    .colab-df-convert {\n",
              "      background-color: #E8F0FE;\n",
              "      border: none;\n",
              "      border-radius: 50%;\n",
              "      cursor: pointer;\n",
              "      display: none;\n",
              "      fill: #1967D2;\n",
              "      height: 32px;\n",
              "      padding: 0 0 0 0;\n",
              "      width: 32px;\n",
              "    }\n",
              "\n",
              "    .colab-df-convert:hover {\n",
              "      background-color: #E2EBFA;\n",
              "      box-shadow: 0px 1px 2px rgba(60, 64, 67, 0.3), 0px 1px 3px 1px rgba(60, 64, 67, 0.15);\n",
              "      fill: #174EA6;\n",
              "    }\n",
              "\n",
              "    .colab-df-buttons div {\n",
              "      margin-bottom: 4px;\n",
              "    }\n",
              "\n",
              "    [theme=dark] .colab-df-convert {\n",
              "      background-color: #3B4455;\n",
              "      fill: #D2E3FC;\n",
              "    }\n",
              "\n",
              "    [theme=dark] .colab-df-convert:hover {\n",
              "      background-color: #434B5C;\n",
              "      box-shadow: 0px 1px 3px 1px rgba(0, 0, 0, 0.15);\n",
              "      filter: drop-shadow(0px 1px 2px rgba(0, 0, 0, 0.3));\n",
              "      fill: #FFFFFF;\n",
              "    }\n",
              "  </style>\n",
              "\n",
              "    <script>\n",
              "      const buttonEl =\n",
              "        document.querySelector('#df-a0313d6e-ec00-4b2b-a50c-412660f2f88c button.colab-df-convert');\n",
              "      buttonEl.style.display =\n",
              "        google.colab.kernel.accessAllowed ? 'block' : 'none';\n",
              "\n",
              "      async function convertToInteractive(key) {\n",
              "        const element = document.querySelector('#df-a0313d6e-ec00-4b2b-a50c-412660f2f88c');\n",
              "        const dataTable =\n",
              "          await google.colab.kernel.invokeFunction('convertToInteractive',\n",
              "                                                    [key], {});\n",
              "        if (!dataTable) return;\n",
              "\n",
              "        const docLinkHtml = 'Like what you see? Visit the ' +\n",
              "          '<a target=\"_blank\" href=https://colab.research.google.com/notebooks/data_table.ipynb>data table notebook</a>'\n",
              "          + ' to learn more about interactive tables.';\n",
              "        element.innerHTML = '';\n",
              "        dataTable['output_type'] = 'display_data';\n",
              "        await google.colab.output.renderOutput(dataTable, element);\n",
              "        const docLink = document.createElement('div');\n",
              "        docLink.innerHTML = docLinkHtml;\n",
              "        element.appendChild(docLink);\n",
              "      }\n",
              "    </script>\n",
              "  </div>\n",
              "\n",
              "\n",
              "<div id=\"df-3868715c-0ba4-4277-ae84-ba56eda3d5f1\">\n",
              "  <button class=\"colab-df-quickchart\" onclick=\"quickchart('df-3868715c-0ba4-4277-ae84-ba56eda3d5f1')\"\n",
              "            title=\"Suggest charts\"\n",
              "            style=\"display:none;\">\n",
              "\n",
              "<svg xmlns=\"http://www.w3.org/2000/svg\" height=\"24px\"viewBox=\"0 0 24 24\"\n",
              "     width=\"24px\">\n",
              "    <g>\n",
              "        <path d=\"M19 3H5c-1.1 0-2 .9-2 2v14c0 1.1.9 2 2 2h14c1.1 0 2-.9 2-2V5c0-1.1-.9-2-2-2zM9 17H7v-7h2v7zm4 0h-2V7h2v10zm4 0h-2v-4h2v4z\"/>\n",
              "    </g>\n",
              "</svg>\n",
              "  </button>\n",
              "\n",
              "<style>\n",
              "  .colab-df-quickchart {\n",
              "      --bg-color: #E8F0FE;\n",
              "      --fill-color: #1967D2;\n",
              "      --hover-bg-color: #E2EBFA;\n",
              "      --hover-fill-color: #174EA6;\n",
              "      --disabled-fill-color: #AAA;\n",
              "      --disabled-bg-color: #DDD;\n",
              "  }\n",
              "\n",
              "  [theme=dark] .colab-df-quickchart {\n",
              "      --bg-color: #3B4455;\n",
              "      --fill-color: #D2E3FC;\n",
              "      --hover-bg-color: #434B5C;\n",
              "      --hover-fill-color: #FFFFFF;\n",
              "      --disabled-bg-color: #3B4455;\n",
              "      --disabled-fill-color: #666;\n",
              "  }\n",
              "\n",
              "  .colab-df-quickchart {\n",
              "    background-color: var(--bg-color);\n",
              "    border: none;\n",
              "    border-radius: 50%;\n",
              "    cursor: pointer;\n",
              "    display: none;\n",
              "    fill: var(--fill-color);\n",
              "    height: 32px;\n",
              "    padding: 0;\n",
              "    width: 32px;\n",
              "  }\n",
              "\n",
              "  .colab-df-quickchart:hover {\n",
              "    background-color: var(--hover-bg-color);\n",
              "    box-shadow: 0 1px 2px rgba(60, 64, 67, 0.3), 0 1px 3px 1px rgba(60, 64, 67, 0.15);\n",
              "    fill: var(--button-hover-fill-color);\n",
              "  }\n",
              "\n",
              "  .colab-df-quickchart-complete:disabled,\n",
              "  .colab-df-quickchart-complete:disabled:hover {\n",
              "    background-color: var(--disabled-bg-color);\n",
              "    fill: var(--disabled-fill-color);\n",
              "    box-shadow: none;\n",
              "  }\n",
              "\n",
              "  .colab-df-spinner {\n",
              "    border: 2px solid var(--fill-color);\n",
              "    border-color: transparent;\n",
              "    border-bottom-color: var(--fill-color);\n",
              "    animation:\n",
              "      spin 1s steps(1) infinite;\n",
              "  }\n",
              "\n",
              "  @keyframes spin {\n",
              "    0% {\n",
              "      border-color: transparent;\n",
              "      border-bottom-color: var(--fill-color);\n",
              "      border-left-color: var(--fill-color);\n",
              "    }\n",
              "    20% {\n",
              "      border-color: transparent;\n",
              "      border-left-color: var(--fill-color);\n",
              "      border-top-color: var(--fill-color);\n",
              "    }\n",
              "    30% {\n",
              "      border-color: transparent;\n",
              "      border-left-color: var(--fill-color);\n",
              "      border-top-color: var(--fill-color);\n",
              "      border-right-color: var(--fill-color);\n",
              "    }\n",
              "    40% {\n",
              "      border-color: transparent;\n",
              "      border-right-color: var(--fill-color);\n",
              "      border-top-color: var(--fill-color);\n",
              "    }\n",
              "    60% {\n",
              "      border-color: transparent;\n",
              "      border-right-color: var(--fill-color);\n",
              "    }\n",
              "    80% {\n",
              "      border-color: transparent;\n",
              "      border-right-color: var(--fill-color);\n",
              "      border-bottom-color: var(--fill-color);\n",
              "    }\n",
              "    90% {\n",
              "      border-color: transparent;\n",
              "      border-bottom-color: var(--fill-color);\n",
              "    }\n",
              "  }\n",
              "</style>\n",
              "\n",
              "  <script>\n",
              "    async function quickchart(key) {\n",
              "      const quickchartButtonEl =\n",
              "        document.querySelector('#' + key + ' button');\n",
              "      quickchartButtonEl.disabled = true;  // To prevent multiple clicks.\n",
              "      quickchartButtonEl.classList.add('colab-df-spinner');\n",
              "      try {\n",
              "        const charts = await google.colab.kernel.invokeFunction(\n",
              "            'suggestCharts', [key], {});\n",
              "      } catch (error) {\n",
              "        console.error('Error during call to suggestCharts:', error);\n",
              "      }\n",
              "      quickchartButtonEl.classList.remove('colab-df-spinner');\n",
              "      quickchartButtonEl.classList.add('colab-df-quickchart-complete');\n",
              "    }\n",
              "    (() => {\n",
              "      let quickchartButtonEl =\n",
              "        document.querySelector('#df-3868715c-0ba4-4277-ae84-ba56eda3d5f1 button');\n",
              "      quickchartButtonEl.style.display =\n",
              "        google.colab.kernel.accessAllowed ? 'block' : 'none';\n",
              "    })();\n",
              "  </script>\n",
              "</div>\n",
              "\n",
              "    </div>\n",
              "  </div>\n"
            ],
            "application/vnd.google.colaboratory.intrinsic+json": {
              "type": "dataframe",
              "variable_name": "insurance",
              "summary": "{\n  \"name\": \"insurance\",\n  \"rows\": 1338,\n  \"fields\": [\n    {\n      \"column\": \"age\",\n      \"properties\": {\n        \"dtype\": \"number\",\n        \"std\": 14,\n        \"min\": 18,\n        \"max\": 64,\n        \"samples\": [\n          21,\n          45,\n          36\n        ],\n        \"num_unique_values\": 47,\n        \"semantic_type\": \"\",\n        \"description\": \"\"\n      }\n    },\n    {\n      \"column\": \"sex\",\n      \"properties\": {\n        \"dtype\": \"category\",\n        \"samples\": [\n          \"male\",\n          \"female\"\n        ],\n        \"num_unique_values\": 2,\n        \"semantic_type\": \"\",\n        \"description\": \"\"\n      }\n    },\n    {\n      \"column\": \"bmi\",\n      \"properties\": {\n        \"dtype\": \"number\",\n        \"std\": 6.098186911679014,\n        \"min\": 15.96,\n        \"max\": 53.13,\n        \"samples\": [\n          23.18,\n          26.885\n        ],\n        \"num_unique_values\": 548,\n        \"semantic_type\": \"\",\n        \"description\": \"\"\n      }\n    },\n    {\n      \"column\": \"children\",\n      \"properties\": {\n        \"dtype\": \"number\",\n        \"std\": 1,\n        \"min\": 0,\n        \"max\": 5,\n        \"samples\": [\n          0,\n          1\n        ],\n        \"num_unique_values\": 6,\n        \"semantic_type\": \"\",\n        \"description\": \"\"\n      }\n    },\n    {\n      \"column\": \"smoker\",\n      \"properties\": {\n        \"dtype\": \"category\",\n        \"samples\": [\n          \"no\",\n          \"yes\"\n        ],\n        \"num_unique_values\": 2,\n        \"semantic_type\": \"\",\n        \"description\": \"\"\n      }\n    },\n    {\n      \"column\": \"region\",\n      \"properties\": {\n        \"dtype\": \"category\",\n        \"samples\": [\n          \"southeast\",\n          \"northeast\"\n        ],\n        \"num_unique_values\": 4,\n        \"semantic_type\": \"\",\n        \"description\": \"\"\n      }\n    },\n    {\n      \"column\": \"charges\",\n      \"properties\": {\n        \"dtype\": \"number\",\n        \"std\": 12110.011236694001,\n        \"min\": 1121.8739,\n        \"max\": 63770.42801,\n        \"samples\": [\n          8688.85885,\n          5708.867\n        ],\n        \"num_unique_values\": 1337,\n        \"semantic_type\": \"\",\n        \"description\": \"\"\n      }\n    }\n  ]\n}"
            }
          },
          "metadata": {},
          "execution_count": 279
        }
      ]
    },
    {
      "cell_type": "code",
      "source": [
        "insurance.info()"
      ],
      "metadata": {
        "colab": {
          "base_uri": "https://localhost:8080/"
        },
        "id": "okD53PWH8moN",
        "outputId": "a172830b-f50b-4162-ff64-06dc6bfca561"
      },
      "execution_count": 280,
      "outputs": [
        {
          "output_type": "stream",
          "name": "stdout",
          "text": [
            "<class 'pandas.core.frame.DataFrame'>\n",
            "RangeIndex: 1338 entries, 0 to 1337\n",
            "Data columns (total 7 columns):\n",
            " #   Column    Non-Null Count  Dtype  \n",
            "---  ------    --------------  -----  \n",
            " 0   age       1338 non-null   int64  \n",
            " 1   sex       1338 non-null   object \n",
            " 2   bmi       1338 non-null   float64\n",
            " 3   children  1338 non-null   int64  \n",
            " 4   smoker    1338 non-null   object \n",
            " 5   region    1338 non-null   object \n",
            " 6   charges   1338 non-null   float64\n",
            "dtypes: float64(2), int64(2), object(3)\n",
            "memory usage: 73.3+ KB\n"
          ]
        }
      ]
    },
    {
      "cell_type": "code",
      "source": [
        "ins_one_hot = pd.get_dummies(insurance).head()\n",
        "ins_one_hot.head()"
      ],
      "metadata": {
        "colab": {
          "base_uri": "https://localhost:8080/",
          "height": 226
        },
        "id": "Nt00OGw39FAC",
        "outputId": "6fdca058-cacc-44c7-d295-7eda563128d1"
      },
      "execution_count": 281,
      "outputs": [
        {
          "output_type": "execute_result",
          "data": {
            "text/plain": [
              "   age     bmi  children      charges  sex_female  sex_male  smoker_no  \\\n",
              "0   19  27.900         0  16884.92400           1         0          0   \n",
              "1   18  33.770         1   1725.55230           0         1          1   \n",
              "2   28  33.000         3   4449.46200           0         1          1   \n",
              "3   33  22.705         0  21984.47061           0         1          1   \n",
              "4   32  28.880         0   3866.85520           0         1          1   \n",
              "\n",
              "   smoker_yes  region_northeast  region_northwest  region_southeast  \\\n",
              "0           1                 0                 0                 0   \n",
              "1           0                 0                 0                 1   \n",
              "2           0                 0                 0                 1   \n",
              "3           0                 0                 1                 0   \n",
              "4           0                 0                 1                 0   \n",
              "\n",
              "   region_southwest  \n",
              "0                 1  \n",
              "1                 0  \n",
              "2                 0  \n",
              "3                 0  \n",
              "4                 0  "
            ],
            "text/html": [
              "\n",
              "  <div id=\"df-88e6eafc-db0b-4863-bf09-ea1c879c7289\" class=\"colab-df-container\">\n",
              "    <div>\n",
              "<style scoped>\n",
              "    .dataframe tbody tr th:only-of-type {\n",
              "        vertical-align: middle;\n",
              "    }\n",
              "\n",
              "    .dataframe tbody tr th {\n",
              "        vertical-align: top;\n",
              "    }\n",
              "\n",
              "    .dataframe thead th {\n",
              "        text-align: right;\n",
              "    }\n",
              "</style>\n",
              "<table border=\"1\" class=\"dataframe\">\n",
              "  <thead>\n",
              "    <tr style=\"text-align: right;\">\n",
              "      <th></th>\n",
              "      <th>age</th>\n",
              "      <th>bmi</th>\n",
              "      <th>children</th>\n",
              "      <th>charges</th>\n",
              "      <th>sex_female</th>\n",
              "      <th>sex_male</th>\n",
              "      <th>smoker_no</th>\n",
              "      <th>smoker_yes</th>\n",
              "      <th>region_northeast</th>\n",
              "      <th>region_northwest</th>\n",
              "      <th>region_southeast</th>\n",
              "      <th>region_southwest</th>\n",
              "    </tr>\n",
              "  </thead>\n",
              "  <tbody>\n",
              "    <tr>\n",
              "      <th>0</th>\n",
              "      <td>19</td>\n",
              "      <td>27.900</td>\n",
              "      <td>0</td>\n",
              "      <td>16884.92400</td>\n",
              "      <td>1</td>\n",
              "      <td>0</td>\n",
              "      <td>0</td>\n",
              "      <td>1</td>\n",
              "      <td>0</td>\n",
              "      <td>0</td>\n",
              "      <td>0</td>\n",
              "      <td>1</td>\n",
              "    </tr>\n",
              "    <tr>\n",
              "      <th>1</th>\n",
              "      <td>18</td>\n",
              "      <td>33.770</td>\n",
              "      <td>1</td>\n",
              "      <td>1725.55230</td>\n",
              "      <td>0</td>\n",
              "      <td>1</td>\n",
              "      <td>1</td>\n",
              "      <td>0</td>\n",
              "      <td>0</td>\n",
              "      <td>0</td>\n",
              "      <td>1</td>\n",
              "      <td>0</td>\n",
              "    </tr>\n",
              "    <tr>\n",
              "      <th>2</th>\n",
              "      <td>28</td>\n",
              "      <td>33.000</td>\n",
              "      <td>3</td>\n",
              "      <td>4449.46200</td>\n",
              "      <td>0</td>\n",
              "      <td>1</td>\n",
              "      <td>1</td>\n",
              "      <td>0</td>\n",
              "      <td>0</td>\n",
              "      <td>0</td>\n",
              "      <td>1</td>\n",
              "      <td>0</td>\n",
              "    </tr>\n",
              "    <tr>\n",
              "      <th>3</th>\n",
              "      <td>33</td>\n",
              "      <td>22.705</td>\n",
              "      <td>0</td>\n",
              "      <td>21984.47061</td>\n",
              "      <td>0</td>\n",
              "      <td>1</td>\n",
              "      <td>1</td>\n",
              "      <td>0</td>\n",
              "      <td>0</td>\n",
              "      <td>1</td>\n",
              "      <td>0</td>\n",
              "      <td>0</td>\n",
              "    </tr>\n",
              "    <tr>\n",
              "      <th>4</th>\n",
              "      <td>32</td>\n",
              "      <td>28.880</td>\n",
              "      <td>0</td>\n",
              "      <td>3866.85520</td>\n",
              "      <td>0</td>\n",
              "      <td>1</td>\n",
              "      <td>1</td>\n",
              "      <td>0</td>\n",
              "      <td>0</td>\n",
              "      <td>1</td>\n",
              "      <td>0</td>\n",
              "      <td>0</td>\n",
              "    </tr>\n",
              "  </tbody>\n",
              "</table>\n",
              "</div>\n",
              "    <div class=\"colab-df-buttons\">\n",
              "\n",
              "  <div class=\"colab-df-container\">\n",
              "    <button class=\"colab-df-convert\" onclick=\"convertToInteractive('df-88e6eafc-db0b-4863-bf09-ea1c879c7289')\"\n",
              "            title=\"Convert this dataframe to an interactive table.\"\n",
              "            style=\"display:none;\">\n",
              "\n",
              "  <svg xmlns=\"http://www.w3.org/2000/svg\" height=\"24px\" viewBox=\"0 -960 960 960\">\n",
              "    <path d=\"M120-120v-720h720v720H120Zm60-500h600v-160H180v160Zm220 220h160v-160H400v160Zm0 220h160v-160H400v160ZM180-400h160v-160H180v160Zm440 0h160v-160H620v160ZM180-180h160v-160H180v160Zm440 0h160v-160H620v160Z\"/>\n",
              "  </svg>\n",
              "    </button>\n",
              "\n",
              "  <style>\n",
              "    .colab-df-container {\n",
              "      display:flex;\n",
              "      gap: 12px;\n",
              "    }\n",
              "\n",
              "    .colab-df-convert {\n",
              "      background-color: #E8F0FE;\n",
              "      border: none;\n",
              "      border-radius: 50%;\n",
              "      cursor: pointer;\n",
              "      display: none;\n",
              "      fill: #1967D2;\n",
              "      height: 32px;\n",
              "      padding: 0 0 0 0;\n",
              "      width: 32px;\n",
              "    }\n",
              "\n",
              "    .colab-df-convert:hover {\n",
              "      background-color: #E2EBFA;\n",
              "      box-shadow: 0px 1px 2px rgba(60, 64, 67, 0.3), 0px 1px 3px 1px rgba(60, 64, 67, 0.15);\n",
              "      fill: #174EA6;\n",
              "    }\n",
              "\n",
              "    .colab-df-buttons div {\n",
              "      margin-bottom: 4px;\n",
              "    }\n",
              "\n",
              "    [theme=dark] .colab-df-convert {\n",
              "      background-color: #3B4455;\n",
              "      fill: #D2E3FC;\n",
              "    }\n",
              "\n",
              "    [theme=dark] .colab-df-convert:hover {\n",
              "      background-color: #434B5C;\n",
              "      box-shadow: 0px 1px 3px 1px rgba(0, 0, 0, 0.15);\n",
              "      filter: drop-shadow(0px 1px 2px rgba(0, 0, 0, 0.3));\n",
              "      fill: #FFFFFF;\n",
              "    }\n",
              "  </style>\n",
              "\n",
              "    <script>\n",
              "      const buttonEl =\n",
              "        document.querySelector('#df-88e6eafc-db0b-4863-bf09-ea1c879c7289 button.colab-df-convert');\n",
              "      buttonEl.style.display =\n",
              "        google.colab.kernel.accessAllowed ? 'block' : 'none';\n",
              "\n",
              "      async function convertToInteractive(key) {\n",
              "        const element = document.querySelector('#df-88e6eafc-db0b-4863-bf09-ea1c879c7289');\n",
              "        const dataTable =\n",
              "          await google.colab.kernel.invokeFunction('convertToInteractive',\n",
              "                                                    [key], {});\n",
              "        if (!dataTable) return;\n",
              "\n",
              "        const docLinkHtml = 'Like what you see? Visit the ' +\n",
              "          '<a target=\"_blank\" href=https://colab.research.google.com/notebooks/data_table.ipynb>data table notebook</a>'\n",
              "          + ' to learn more about interactive tables.';\n",
              "        element.innerHTML = '';\n",
              "        dataTable['output_type'] = 'display_data';\n",
              "        await google.colab.output.renderOutput(dataTable, element);\n",
              "        const docLink = document.createElement('div');\n",
              "        docLink.innerHTML = docLinkHtml;\n",
              "        element.appendChild(docLink);\n",
              "      }\n",
              "    </script>\n",
              "  </div>\n",
              "\n",
              "\n",
              "<div id=\"df-cd651d2e-264d-4594-a103-c8f03e99de47\">\n",
              "  <button class=\"colab-df-quickchart\" onclick=\"quickchart('df-cd651d2e-264d-4594-a103-c8f03e99de47')\"\n",
              "            title=\"Suggest charts\"\n",
              "            style=\"display:none;\">\n",
              "\n",
              "<svg xmlns=\"http://www.w3.org/2000/svg\" height=\"24px\"viewBox=\"0 0 24 24\"\n",
              "     width=\"24px\">\n",
              "    <g>\n",
              "        <path d=\"M19 3H5c-1.1 0-2 .9-2 2v14c0 1.1.9 2 2 2h14c1.1 0 2-.9 2-2V5c0-1.1-.9-2-2-2zM9 17H7v-7h2v7zm4 0h-2V7h2v10zm4 0h-2v-4h2v4z\"/>\n",
              "    </g>\n",
              "</svg>\n",
              "  </button>\n",
              "\n",
              "<style>\n",
              "  .colab-df-quickchart {\n",
              "      --bg-color: #E8F0FE;\n",
              "      --fill-color: #1967D2;\n",
              "      --hover-bg-color: #E2EBFA;\n",
              "      --hover-fill-color: #174EA6;\n",
              "      --disabled-fill-color: #AAA;\n",
              "      --disabled-bg-color: #DDD;\n",
              "  }\n",
              "\n",
              "  [theme=dark] .colab-df-quickchart {\n",
              "      --bg-color: #3B4455;\n",
              "      --fill-color: #D2E3FC;\n",
              "      --hover-bg-color: #434B5C;\n",
              "      --hover-fill-color: #FFFFFF;\n",
              "      --disabled-bg-color: #3B4455;\n",
              "      --disabled-fill-color: #666;\n",
              "  }\n",
              "\n",
              "  .colab-df-quickchart {\n",
              "    background-color: var(--bg-color);\n",
              "    border: none;\n",
              "    border-radius: 50%;\n",
              "    cursor: pointer;\n",
              "    display: none;\n",
              "    fill: var(--fill-color);\n",
              "    height: 32px;\n",
              "    padding: 0;\n",
              "    width: 32px;\n",
              "  }\n",
              "\n",
              "  .colab-df-quickchart:hover {\n",
              "    background-color: var(--hover-bg-color);\n",
              "    box-shadow: 0 1px 2px rgba(60, 64, 67, 0.3), 0 1px 3px 1px rgba(60, 64, 67, 0.15);\n",
              "    fill: var(--button-hover-fill-color);\n",
              "  }\n",
              "\n",
              "  .colab-df-quickchart-complete:disabled,\n",
              "  .colab-df-quickchart-complete:disabled:hover {\n",
              "    background-color: var(--disabled-bg-color);\n",
              "    fill: var(--disabled-fill-color);\n",
              "    box-shadow: none;\n",
              "  }\n",
              "\n",
              "  .colab-df-spinner {\n",
              "    border: 2px solid var(--fill-color);\n",
              "    border-color: transparent;\n",
              "    border-bottom-color: var(--fill-color);\n",
              "    animation:\n",
              "      spin 1s steps(1) infinite;\n",
              "  }\n",
              "\n",
              "  @keyframes spin {\n",
              "    0% {\n",
              "      border-color: transparent;\n",
              "      border-bottom-color: var(--fill-color);\n",
              "      border-left-color: var(--fill-color);\n",
              "    }\n",
              "    20% {\n",
              "      border-color: transparent;\n",
              "      border-left-color: var(--fill-color);\n",
              "      border-top-color: var(--fill-color);\n",
              "    }\n",
              "    30% {\n",
              "      border-color: transparent;\n",
              "      border-left-color: var(--fill-color);\n",
              "      border-top-color: var(--fill-color);\n",
              "      border-right-color: var(--fill-color);\n",
              "    }\n",
              "    40% {\n",
              "      border-color: transparent;\n",
              "      border-right-color: var(--fill-color);\n",
              "      border-top-color: var(--fill-color);\n",
              "    }\n",
              "    60% {\n",
              "      border-color: transparent;\n",
              "      border-right-color: var(--fill-color);\n",
              "    }\n",
              "    80% {\n",
              "      border-color: transparent;\n",
              "      border-right-color: var(--fill-color);\n",
              "      border-bottom-color: var(--fill-color);\n",
              "    }\n",
              "    90% {\n",
              "      border-color: transparent;\n",
              "      border-bottom-color: var(--fill-color);\n",
              "    }\n",
              "  }\n",
              "</style>\n",
              "\n",
              "  <script>\n",
              "    async function quickchart(key) {\n",
              "      const quickchartButtonEl =\n",
              "        document.querySelector('#' + key + ' button');\n",
              "      quickchartButtonEl.disabled = true;  // To prevent multiple clicks.\n",
              "      quickchartButtonEl.classList.add('colab-df-spinner');\n",
              "      try {\n",
              "        const charts = await google.colab.kernel.invokeFunction(\n",
              "            'suggestCharts', [key], {});\n",
              "      } catch (error) {\n",
              "        console.error('Error during call to suggestCharts:', error);\n",
              "      }\n",
              "      quickchartButtonEl.classList.remove('colab-df-spinner');\n",
              "      quickchartButtonEl.classList.add('colab-df-quickchart-complete');\n",
              "    }\n",
              "    (() => {\n",
              "      let quickchartButtonEl =\n",
              "        document.querySelector('#df-cd651d2e-264d-4594-a103-c8f03e99de47 button');\n",
              "      quickchartButtonEl.style.display =\n",
              "        google.colab.kernel.accessAllowed ? 'block' : 'none';\n",
              "    })();\n",
              "  </script>\n",
              "</div>\n",
              "\n",
              "    </div>\n",
              "  </div>\n"
            ],
            "application/vnd.google.colaboratory.intrinsic+json": {
              "type": "dataframe",
              "variable_name": "ins_one_hot",
              "summary": "{\n  \"name\": \"ins_one_hot\",\n  \"rows\": 5,\n  \"fields\": [\n    {\n      \"column\": \"age\",\n      \"properties\": {\n        \"dtype\": \"number\",\n        \"std\": 7,\n        \"min\": 18,\n        \"max\": 33,\n        \"samples\": [\n          18,\n          32,\n          28\n        ],\n        \"num_unique_values\": 5,\n        \"semantic_type\": \"\",\n        \"description\": \"\"\n      }\n    },\n    {\n      \"column\": \"bmi\",\n      \"properties\": {\n        \"dtype\": \"number\",\n        \"std\": 4.4522275323707365,\n        \"min\": 22.705,\n        \"max\": 33.77,\n        \"samples\": [\n          33.77,\n          28.88,\n          33.0\n        ],\n        \"num_unique_values\": 5,\n        \"semantic_type\": \"\",\n        \"description\": \"\"\n      }\n    },\n    {\n      \"column\": \"children\",\n      \"properties\": {\n        \"dtype\": \"number\",\n        \"std\": 1,\n        \"min\": 0,\n        \"max\": 3,\n        \"samples\": [\n          0,\n          1,\n          3\n        ],\n        \"num_unique_values\": 3,\n        \"semantic_type\": \"\",\n        \"description\": \"\"\n      }\n    },\n    {\n      \"column\": \"charges\",\n      \"properties\": {\n        \"dtype\": \"number\",\n        \"std\": 9051.009157648406,\n        \"min\": 1725.5523,\n        \"max\": 21984.47061,\n        \"samples\": [\n          1725.5523,\n          3866.8552,\n          4449.462\n        ],\n        \"num_unique_values\": 5,\n        \"semantic_type\": \"\",\n        \"description\": \"\"\n      }\n    },\n    {\n      \"column\": \"sex_female\",\n      \"properties\": {\n        \"dtype\": \"uint8\",\n        \"samples\": [\n          0,\n          1\n        ],\n        \"num_unique_values\": 2,\n        \"semantic_type\": \"\",\n        \"description\": \"\"\n      }\n    },\n    {\n      \"column\": \"sex_male\",\n      \"properties\": {\n        \"dtype\": \"uint8\",\n        \"samples\": [\n          1,\n          0\n        ],\n        \"num_unique_values\": 2,\n        \"semantic_type\": \"\",\n        \"description\": \"\"\n      }\n    },\n    {\n      \"column\": \"smoker_no\",\n      \"properties\": {\n        \"dtype\": \"uint8\",\n        \"samples\": [\n          1,\n          0\n        ],\n        \"num_unique_values\": 2,\n        \"semantic_type\": \"\",\n        \"description\": \"\"\n      }\n    },\n    {\n      \"column\": \"smoker_yes\",\n      \"properties\": {\n        \"dtype\": \"uint8\",\n        \"samples\": [\n          0,\n          1\n        ],\n        \"num_unique_values\": 2,\n        \"semantic_type\": \"\",\n        \"description\": \"\"\n      }\n    },\n    {\n      \"column\": \"region_northeast\",\n      \"properties\": {\n        \"dtype\": \"uint8\",\n        \"samples\": [\n          0\n        ],\n        \"num_unique_values\": 1,\n        \"semantic_type\": \"\",\n        \"description\": \"\"\n      }\n    },\n    {\n      \"column\": \"region_northwest\",\n      \"properties\": {\n        \"dtype\": \"uint8\",\n        \"samples\": [\n          1\n        ],\n        \"num_unique_values\": 2,\n        \"semantic_type\": \"\",\n        \"description\": \"\"\n      }\n    },\n    {\n      \"column\": \"region_southeast\",\n      \"properties\": {\n        \"dtype\": \"uint8\",\n        \"samples\": [\n          1\n        ],\n        \"num_unique_values\": 2,\n        \"semantic_type\": \"\",\n        \"description\": \"\"\n      }\n    },\n    {\n      \"column\": \"region_southwest\",\n      \"properties\": {\n        \"dtype\": \"uint8\",\n        \"samples\": [\n          0\n        ],\n        \"num_unique_values\": 2,\n        \"semantic_type\": \"\",\n        \"description\": \"\"\n      }\n    }\n  ]\n}"
            }
          },
          "metadata": {},
          "execution_count": 281
        }
      ]
    },
    {
      "cell_type": "code",
      "source": [
        "# Create X & y values (features and labels)\n",
        "X = ins_one_hot.drop('charges', axis=1)\n",
        "y = ins_one_hot['charges']\n",
        "\n",
        "# Create training and test sets\n",
        "from sklearn.model_selection import train_test_split\n",
        "X_train, X_test, y_train, y_test = train_test_split(X, y, test_size=0.2, random_state=42)\n",
        "\n",
        "# Build a neural network (sort of like model_2 above)\n",
        "tf.random.set_seed(42)\n",
        "\n",
        "ins_model = tf.keras.Sequential([\n",
        "    tf.keras.layers.Dense(32),\n",
        "    tf.keras.layers.Dense(1)\n",
        "])\n",
        "\n",
        "# Compile the model\n",
        "ins_model.compile(loss=tf.keras.losses.mae,\n",
        "                  optimizer=tf.keras.optimizers.SGD(learning_rate=1e-3),\n",
        "                  metrics=['mae'])\n",
        "\n",
        "# Fit the model\n",
        "ins_model.fit(X_train, y_train, epochs=100)\n"
      ],
      "metadata": {
        "colab": {
          "base_uri": "https://localhost:8080/"
        },
        "id": "OFr6i032-hzl",
        "outputId": "4568a0d8-a3bd-4d17-9b7d-166588dd8ca0"
      },
      "execution_count": 282,
      "outputs": [
        {
          "output_type": "stream",
          "name": "stdout",
          "text": [
            "Epoch 1/100\n",
            "1/1 [==============================] - 0s 382ms/step - loss: 11786.4482 - mae: 11786.4482\n",
            "Epoch 2/100\n",
            "1/1 [==============================] - 0s 11ms/step - loss: 11781.6250 - mae: 11781.6250\n",
            "Epoch 3/100\n",
            "1/1 [==============================] - 0s 9ms/step - loss: 11776.7227 - mae: 11776.7227\n",
            "Epoch 4/100\n",
            "1/1 [==============================] - 0s 12ms/step - loss: 11771.7119 - mae: 11771.7119\n",
            "Epoch 5/100\n",
            "1/1 [==============================] - 0s 8ms/step - loss: 11766.5596 - mae: 11766.5596\n",
            "Epoch 6/100\n",
            "1/1 [==============================] - 0s 10ms/step - loss: 11761.2373 - mae: 11761.2373\n",
            "Epoch 7/100\n",
            "1/1 [==============================] - 0s 11ms/step - loss: 11755.7090 - mae: 11755.7090\n",
            "Epoch 8/100\n",
            "1/1 [==============================] - 0s 10ms/step - loss: 11749.9404 - mae: 11749.9404\n",
            "Epoch 9/100\n",
            "1/1 [==============================] - 0s 9ms/step - loss: 11743.8975 - mae: 11743.8975\n",
            "Epoch 10/100\n",
            "1/1 [==============================] - 0s 10ms/step - loss: 11737.5430 - mae: 11737.5430\n",
            "Epoch 11/100\n",
            "1/1 [==============================] - 0s 9ms/step - loss: 11730.8350 - mae: 11730.8350\n",
            "Epoch 12/100\n",
            "1/1 [==============================] - 0s 9ms/step - loss: 11723.7363 - mae: 11723.7363\n",
            "Epoch 13/100\n",
            "1/1 [==============================] - 0s 9ms/step - loss: 11716.2002 - mae: 11716.2002\n",
            "Epoch 14/100\n",
            "1/1 [==============================] - 0s 9ms/step - loss: 11708.1816 - mae: 11708.1816\n",
            "Epoch 15/100\n",
            "1/1 [==============================] - 0s 9ms/step - loss: 11699.6328 - mae: 11699.6328\n",
            "Epoch 16/100\n",
            "1/1 [==============================] - 0s 9ms/step - loss: 11690.4990 - mae: 11690.4990\n",
            "Epoch 17/100\n",
            "1/1 [==============================] - 0s 10ms/step - loss: 11680.7266 - mae: 11680.7266\n",
            "Epoch 18/100\n",
            "1/1 [==============================] - 0s 9ms/step - loss: 11670.2549 - mae: 11670.2549\n",
            "Epoch 19/100\n",
            "1/1 [==============================] - 0s 9ms/step - loss: 11659.0205 - mae: 11659.0205\n",
            "Epoch 20/100\n",
            "1/1 [==============================] - 0s 10ms/step - loss: 11646.9541 - mae: 11646.9541\n",
            "Epoch 21/100\n",
            "1/1 [==============================] - 0s 10ms/step - loss: 11633.9824 - mae: 11633.9824\n",
            "Epoch 22/100\n",
            "1/1 [==============================] - 0s 11ms/step - loss: 11620.0273 - mae: 11620.0273\n",
            "Epoch 23/100\n",
            "1/1 [==============================] - 0s 16ms/step - loss: 11605.0039 - mae: 11605.0039\n",
            "Epoch 24/100\n",
            "1/1 [==============================] - 0s 11ms/step - loss: 11588.8203 - mae: 11588.8203\n",
            "Epoch 25/100\n",
            "1/1 [==============================] - 0s 8ms/step - loss: 11571.3770 - mae: 11571.3770\n",
            "Epoch 26/100\n",
            "1/1 [==============================] - 0s 8ms/step - loss: 11552.5693 - mae: 11552.5693\n",
            "Epoch 27/100\n",
            "1/1 [==============================] - 0s 9ms/step - loss: 11532.2832 - mae: 11532.2832\n",
            "Epoch 28/100\n",
            "1/1 [==============================] - 0s 10ms/step - loss: 11510.3945 - mae: 11510.3945\n",
            "Epoch 29/100\n",
            "1/1 [==============================] - 0s 10ms/step - loss: 11486.7695 - mae: 11486.7695\n",
            "Epoch 30/100\n",
            "1/1 [==============================] - 0s 10ms/step - loss: 11461.2646 - mae: 11461.2646\n",
            "Epoch 31/100\n",
            "1/1 [==============================] - 0s 10ms/step - loss: 11433.7266 - mae: 11433.7266\n",
            "Epoch 32/100\n",
            "1/1 [==============================] - 0s 10ms/step - loss: 11403.9873 - mae: 11403.9873\n",
            "Epoch 33/100\n",
            "1/1 [==============================] - 0s 10ms/step - loss: 11371.8662 - mae: 11371.8662\n",
            "Epoch 34/100\n",
            "1/1 [==============================] - 0s 13ms/step - loss: 11337.1680 - mae: 11337.1680\n",
            "Epoch 35/100\n",
            "1/1 [==============================] - 0s 9ms/step - loss: 11299.6797 - mae: 11299.6797\n",
            "Epoch 36/100\n",
            "1/1 [==============================] - 0s 14ms/step - loss: 11259.1777 - mae: 11259.1777\n",
            "Epoch 37/100\n",
            "1/1 [==============================] - 0s 10ms/step - loss: 11215.4131 - mae: 11215.4131\n",
            "Epoch 38/100\n",
            "1/1 [==============================] - 0s 9ms/step - loss: 11168.1201 - mae: 11168.1201\n",
            "Epoch 39/100\n",
            "1/1 [==============================] - 0s 12ms/step - loss: 11117.0137 - mae: 11117.0137\n",
            "Epoch 40/100\n",
            "1/1 [==============================] - 0s 9ms/step - loss: 11061.7812 - mae: 11061.7812\n",
            "Epoch 41/100\n",
            "1/1 [==============================] - 0s 10ms/step - loss: 11002.0879 - mae: 11002.0879\n",
            "Epoch 42/100\n",
            "1/1 [==============================] - 0s 10ms/step - loss: 10937.5713 - mae: 10937.5713\n",
            "Epoch 43/100\n",
            "1/1 [==============================] - 0s 10ms/step - loss: 10867.8398 - mae: 10867.8398\n",
            "Epoch 44/100\n",
            "1/1 [==============================] - 0s 10ms/step - loss: 10792.4688 - mae: 10792.4688\n",
            "Epoch 45/100\n",
            "1/1 [==============================] - 0s 10ms/step - loss: 10711.0020 - mae: 10711.0020\n",
            "Epoch 46/100\n",
            "1/1 [==============================] - 0s 10ms/step - loss: 10622.9434 - mae: 10622.9434\n",
            "Epoch 47/100\n",
            "1/1 [==============================] - 0s 11ms/step - loss: 10527.7588 - mae: 10527.7588\n",
            "Epoch 48/100\n",
            "1/1 [==============================] - 0s 10ms/step - loss: 10424.8691 - mae: 10424.8691\n",
            "Epoch 49/100\n",
            "1/1 [==============================] - 0s 10ms/step - loss: 10313.6523 - mae: 10313.6523\n",
            "Epoch 50/100\n",
            "1/1 [==============================] - 0s 12ms/step - loss: 10193.4297 - mae: 10193.4297\n",
            "Epoch 51/100\n",
            "1/1 [==============================] - 0s 10ms/step - loss: 10063.4727 - mae: 10063.4727\n",
            "Epoch 52/100\n",
            "1/1 [==============================] - 0s 11ms/step - loss: 9922.9912 - mae: 9922.9912\n",
            "Epoch 53/100\n",
            "1/1 [==============================] - 0s 11ms/step - loss: 9771.1348 - mae: 9771.1348\n",
            "Epoch 54/100\n",
            "1/1 [==============================] - 0s 9ms/step - loss: 9606.9766 - mae: 9606.9766\n",
            "Epoch 55/100\n",
            "1/1 [==============================] - 0s 10ms/step - loss: 9429.5234 - mae: 9429.5234\n",
            "Epoch 56/100\n",
            "1/1 [==============================] - 0s 11ms/step - loss: 9237.6953 - mae: 9237.6953\n",
            "Epoch 57/100\n",
            "1/1 [==============================] - 0s 9ms/step - loss: 9030.3291 - mae: 9030.3291\n",
            "Epoch 58/100\n",
            "1/1 [==============================] - 0s 9ms/step - loss: 8806.1641 - mae: 8806.1641\n",
            "Epoch 59/100\n",
            "1/1 [==============================] - 0s 9ms/step - loss: 8563.8389 - mae: 8563.8389\n",
            "Epoch 60/100\n",
            "1/1 [==============================] - 0s 9ms/step - loss: 8301.8828 - mae: 8301.8828\n",
            "Epoch 61/100\n",
            "1/1 [==============================] - 0s 9ms/step - loss: 8132.4663 - mae: 8132.4663\n",
            "Epoch 62/100\n",
            "1/1 [==============================] - 0s 10ms/step - loss: 8068.7866 - mae: 8068.7866\n",
            "Epoch 63/100\n",
            "1/1 [==============================] - 0s 9ms/step - loss: 8002.7637 - mae: 8002.7637\n",
            "Epoch 64/100\n",
            "1/1 [==============================] - 0s 8ms/step - loss: 8002.5913 - mae: 8002.5913\n",
            "Epoch 65/100\n",
            "1/1 [==============================] - 0s 9ms/step - loss: 7999.9756 - mae: 7999.9756\n",
            "Epoch 66/100\n",
            "1/1 [==============================] - 0s 10ms/step - loss: 7997.3799 - mae: 7997.3799\n",
            "Epoch 67/100\n",
            "1/1 [==============================] - 0s 9ms/step - loss: 7994.8018 - mae: 7994.8018\n",
            "Epoch 68/100\n",
            "1/1 [==============================] - 0s 11ms/step - loss: 7992.2427 - mae: 7992.2427\n",
            "Epoch 69/100\n",
            "1/1 [==============================] - 0s 11ms/step - loss: 7999.8794 - mae: 7999.8794\n",
            "Epoch 70/100\n",
            "1/1 [==============================] - 0s 10ms/step - loss: 8002.6792 - mae: 8002.6792\n",
            "Epoch 71/100\n",
            "1/1 [==============================] - 0s 11ms/step - loss: 8000.0640 - mae: 8000.0640\n",
            "Epoch 72/100\n",
            "1/1 [==============================] - 0s 10ms/step - loss: 7997.4668 - mae: 7997.4668\n",
            "Epoch 73/100\n",
            "1/1 [==============================] - 0s 9ms/step - loss: 7994.8882 - mae: 7994.8882\n",
            "Epoch 74/100\n",
            "1/1 [==============================] - 0s 10ms/step - loss: 7992.3271 - mae: 7992.3271\n",
            "Epoch 75/100\n",
            "1/1 [==============================] - 0s 11ms/step - loss: 7996.9497 - mae: 7996.9497\n",
            "Epoch 76/100\n",
            "1/1 [==============================] - 0s 14ms/step - loss: 8002.7754 - mae: 8002.7754\n",
            "Epoch 77/100\n",
            "1/1 [==============================] - 0s 9ms/step - loss: 8000.1582 - mae: 8000.1582\n",
            "Epoch 78/100\n",
            "1/1 [==============================] - 0s 9ms/step - loss: 7997.5605 - mae: 7997.5605\n",
            "Epoch 79/100\n",
            "1/1 [==============================] - 0s 9ms/step - loss: 7994.9814 - mae: 7994.9814\n",
            "Epoch 80/100\n",
            "1/1 [==============================] - 0s 9ms/step - loss: 7992.4199 - mae: 7992.4199\n",
            "Epoch 81/100\n",
            "1/1 [==============================] - 0s 9ms/step - loss: 7993.9727 - mae: 7993.9727\n",
            "Epoch 82/100\n",
            "1/1 [==============================] - 0s 9ms/step - loss: 8002.8799 - mae: 8002.8799\n",
            "Epoch 83/100\n",
            "1/1 [==============================] - 0s 9ms/step - loss: 8000.2617 - mae: 8000.2617\n",
            "Epoch 84/100\n",
            "1/1 [==============================] - 0s 9ms/step - loss: 7997.6626 - mae: 7997.6626\n",
            "Epoch 85/100\n",
            "1/1 [==============================] - 0s 8ms/step - loss: 7995.0820 - mae: 7995.0820\n",
            "Epoch 86/100\n",
            "1/1 [==============================] - 0s 9ms/step - loss: 7992.5205 - mae: 7992.5205\n",
            "Epoch 87/100\n",
            "1/1 [==============================] - 0s 9ms/step - loss: 7990.9502 - mae: 7990.9502\n",
            "Epoch 88/100\n",
            "1/1 [==============================] - 0s 9ms/step - loss: 8002.9917 - mae: 8002.9917\n",
            "Epoch 89/100\n",
            "1/1 [==============================] - 0s 9ms/step - loss: 8000.3726 - mae: 8000.3726\n",
            "Epoch 90/100\n",
            "1/1 [==============================] - 0s 13ms/step - loss: 7997.7729 - mae: 7997.7729\n",
            "Epoch 91/100\n",
            "1/1 [==============================] - 0s 14ms/step - loss: 7995.1909 - mae: 7995.1909\n",
            "Epoch 92/100\n",
            "1/1 [==============================] - 0s 9ms/step - loss: 7992.6274 - mae: 7992.6274\n",
            "Epoch 93/100\n",
            "1/1 [==============================] - 0s 10ms/step - loss: 7990.0825 - mae: 7990.0825\n",
            "Epoch 94/100\n",
            "1/1 [==============================] - 0s 12ms/step - loss: 8000.7686 - mae: 8000.7686\n",
            "Epoch 95/100\n",
            "1/1 [==============================] - 0s 11ms/step - loss: 8000.4927 - mae: 8000.4927\n",
            "Epoch 96/100\n",
            "1/1 [==============================] - 0s 11ms/step - loss: 7997.8916 - mae: 7997.8916\n",
            "Epoch 97/100\n",
            "1/1 [==============================] - 0s 9ms/step - loss: 7995.3086 - mae: 7995.3086\n",
            "Epoch 98/100\n",
            "1/1 [==============================] - 0s 9ms/step - loss: 7992.7446 - mae: 7992.7446\n",
            "Epoch 99/100\n",
            "1/1 [==============================] - 0s 9ms/step - loss: 7990.1992 - mae: 7990.1992\n",
            "Epoch 100/100\n",
            "1/1 [==============================] - 0s 8ms/step - loss: 7997.6636 - mae: 7997.6636\n"
          ]
        },
        {
          "output_type": "execute_result",
          "data": {
            "text/plain": [
              "<keras.src.callbacks.History at 0x7b2fef5ce020>"
            ]
          },
          "metadata": {},
          "execution_count": 282
        }
      ]
    },
    {
      "cell_type": "code",
      "source": [
        "# Check the results of the ins model on the test data\n",
        "ins_model.evaluate(X_test, y_test)"
      ],
      "metadata": {
        "colab": {
          "base_uri": "https://localhost:8080/"
        },
        "id": "uD6Obb4jB4SQ",
        "outputId": "81db1851-8270-43a7-ca9b-823f047cd3ac"
      },
      "execution_count": 283,
      "outputs": [
        {
          "output_type": "stream",
          "name": "stdout",
          "text": [
            "1/1 [==============================] - 0s 127ms/step - loss: 2165.1638 - mae: 2165.1638\n"
          ]
        },
        {
          "output_type": "execute_result",
          "data": {
            "text/plain": [
              "[2165.163818359375, 2165.163818359375]"
            ]
          },
          "metadata": {},
          "execution_count": 283
        }
      ]
    },
    {
      "cell_type": "markdown",
      "source": [
        "Right now it looks like our model isn't performing too well... let's try and improve it!"
      ],
      "metadata": {
        "id": "_OZtES2TCkxb"
      }
    },
    {
      "cell_type": "code",
      "source": [
        "# Build an improved version of the previous model by tuning parameters\n",
        "tf.random.set_seed(42)\n",
        "\n",
        "ins_model_2 = tf.keras.Sequential([\n",
        "    tf.keras.layers.Dense(64),\n",
        "    tf.keras.layers.Dense(32),\n",
        "    tf.keras.layers.Dense(1)\n",
        "])\n",
        "\n",
        "# Compile the model\n",
        "ins_model_2.compile(loss=tf.keras.losses.mae,\n",
        "                  optimizer=tf.keras.optimizers.Adam(),\n",
        "                  metrics=['mae'])\n",
        "\n",
        "# Fit the model\n",
        "ins_model_2.fit(X_train, y_train, epochs=100, verbose=0)\n"
      ],
      "metadata": {
        "colab": {
          "base_uri": "https://localhost:8080/"
        },
        "id": "pAJ3vthnCS9N",
        "outputId": "74b45c88-aa4e-49fd-ebaf-ded48750bc07"
      },
      "execution_count": 284,
      "outputs": [
        {
          "output_type": "execute_result",
          "data": {
            "text/plain": [
              "<keras.src.callbacks.History at 0x7b2feebdb8b0>"
            ]
          },
          "metadata": {},
          "execution_count": 284
        }
      ]
    },
    {
      "cell_type": "code",
      "source": [
        "# Evaluate the larger model\n",
        "ins_model_2.evaluate(X_test, y_test)"
      ],
      "metadata": {
        "colab": {
          "base_uri": "https://localhost:8080/"
        },
        "id": "_p5Amd7RDI9L",
        "outputId": "eb4e5186-0317-4be6-f122-ce9794193d60"
      },
      "execution_count": 285,
      "outputs": [
        {
          "output_type": "stream",
          "name": "stdout",
          "text": [
            "1/1 [==============================] - 0s 110ms/step - loss: 864.4040 - mae: 864.4040\n"
          ]
        },
        {
          "output_type": "execute_result",
          "data": {
            "text/plain": [
              "[864.4039916992188, 864.4039916992188]"
            ]
          },
          "metadata": {},
          "execution_count": 285
        }
      ]
    },
    {
      "cell_type": "code",
      "source": [
        "# Set random seed\n",
        "tf.random.set_seed(42)\n",
        "\n",
        "# Create the model (same as above)\n",
        "ins_model_3 = tf.keras.Sequential([\n",
        "    tf.keras.layers.Dense(64, activation='relu'),\n",
        "    tf.keras.layers.Dense(1)\n",
        "])\n",
        "\n",
        "# Compile the model\n",
        "ins_model_3.compile(loss=tf.keras.losses.mae,\n",
        "                  optimizer=tf.keras.optimizers.Adam(),\n",
        "                  metrics=['mae'])\n",
        "\n",
        "# Fit the model\n",
        "history = ins_model_3.fit(X_train, y_train, epochs=500, verbose=0)"
      ],
      "metadata": {
        "id": "Ihsd1VUsFkTL"
      },
      "execution_count": 286,
      "outputs": []
    },
    {
      "cell_type": "code",
      "source": [
        "# Evaluate our third model\n",
        "ins_model_3.evaluate(X_test, y_test)"
      ],
      "metadata": {
        "colab": {
          "base_uri": "https://localhost:8080/"
        },
        "id": "NMsaX6S-GCTg",
        "outputId": "75610fd7-e5a2-48b7-fec0-e7091ffbd2bf"
      },
      "execution_count": 287,
      "outputs": [
        {
          "output_type": "stream",
          "name": "stdout",
          "text": [
            "1/1 [==============================] - 0s 112ms/step - loss: 837.7614 - mae: 837.7614\n"
          ]
        },
        {
          "output_type": "execute_result",
          "data": {
            "text/plain": [
              "[837.7614135742188, 837.7614135742188]"
            ]
          },
          "metadata": {},
          "execution_count": 287
        }
      ]
    },
    {
      "cell_type": "code",
      "source": [
        "# Plot history (also known as loss curve or a training curve)\n",
        "pd.DataFrame(history.history).plot()\n",
        "plt.ylabel('Loss')\n",
        "plt.xlabel('Epoch')"
      ],
      "metadata": {
        "colab": {
          "base_uri": "https://localhost:8080/",
          "height": 466
        },
        "id": "nGmlapvaGJd-",
        "outputId": "779baf2d-0432-488a-8659-db7c286e069a"
      },
      "execution_count": 288,
      "outputs": [
        {
          "output_type": "execute_result",
          "data": {
            "text/plain": [
              "Text(0.5, 0, 'Epoch')"
            ]
          },
          "metadata": {},
          "execution_count": 288
        },
        {
          "output_type": "display_data",
          "data": {
            "text/plain": [
              "<Figure size 640x480 with 1 Axes>"
            ],
            "image/png": "[encoded data removed]"
          },
          "metadata": {}
        }
      ]
    },
    {
      "cell_type": "markdown",
      "source": [
        "> 🤔**Question:** How long should you train for?\n",
        "\n",
        "It depends. Really... It depends on the problem you're working on. However, many people have asked this question before... so TensorFlow has a solution! It's called the [EarlyStopping Callback](https://www.tensorflow.org/api_docs/python/tf/keras/callbacks/EarlyStopping), which is a TensorFlow component you can add to your model to stop training once it stops improving a certain metric."
      ],
      "metadata": {
        "id": "mMsQJYBKHpn8"
      }
    },
    {
      "cell_type": "markdown",
      "source": [
        "### Preprocessing data (normalization and standardization)\n",
        "\n",
        "In terms of scaling values, neural networks tend to prefer normalization.\n",
        "\n",
        "If you're not sure on which to use, you could try both and see which performs better."
      ],
      "metadata": {
        "id": "wkzr4WqAGa0X"
      }
    },
    {
      "cell_type": "code",
      "source": [
        "import pandas as pd\n",
        "import numpy as np\n",
        "import matplotlib.pyplot as plt\n",
        "import tensorflow as tf\n",
        "\n",
        "# Load the data\n",
        "insurance = pd.read_csv('https://raw.githubusercontent.com/stedy/Machine-Learning-with-R-datasets/master/insurance.csv')\n",
        "insurance.head()"
      ],
      "metadata": {
        "colab": {
          "base_uri": "https://localhost:8080/",
          "height": 206
        },
        "id": "bcdlHna_I014",
        "outputId": "7dbee182-7515-4b4f-e235-3a7c27a9bf50"
      },
      "execution_count": 289,
      "outputs": [
        {
          "output_type": "execute_result",
          "data": {
            "text/plain": [
              "   age     sex     bmi  children smoker     region      charges\n",
              "0   19  female  27.900         0    yes  southwest  16884.92400\n",
              "1   18    male  33.770         1     no  southeast   1725.55230\n",
              "2   28    male  33.000         3     no  southeast   4449.46200\n",
              "3   33    male  22.705         0     no  northwest  21984.47061\n",
              "4   32    male  28.880         0     no  northwest   3866.85520"
            ],
            "text/html": [
              "\n",
              "  <div id=\"df-01a0cf99-0445-4849-ab45-8ee46a848003\" class=\"colab-df-container\">\n",
              "    <div>\n",
              "<style scoped>\n",
              "    .dataframe tbody tr th:only-of-type {\n",
              "        vertical-align: middle;\n",
              "    }\n",
              "\n",
              "    .dataframe tbody tr th {\n",
              "        vertical-align: top;\n",
              "    }\n",
              "\n",
              "    .dataframe thead th {\n",
              "        text-align: right;\n",
              "    }\n",
              "</style>\n",
              "<table border=\"1\" class=\"dataframe\">\n",
              "  <thead>\n",
              "    <tr style=\"text-align: right;\">\n",
              "      <th></th>\n",
              "      <th>age</th>\n",
              "      <th>sex</th>\n",
              "      <th>bmi</th>\n",
              "      <th>children</th>\n",
              "      <th>smoker</th>\n",
              "      <th>region</th>\n",
              "      <th>charges</th>\n",
              "    </tr>\n",
              "  </thead>\n",
              "  <tbody>\n",
              "    <tr>\n",
              "      <th>0</th>\n",
              "      <td>19</td>\n",
              "      <td>female</td>\n",
              "      <td>27.900</td>\n",
              "      <td>0</td>\n",
              "      <td>yes</td>\n",
              "      <td>southwest</td>\n",
              "      <td>16884.92400</td>\n",
              "    </tr>\n",
              "    <tr>\n",
              "      <th>1</th>\n",
              "      <td>18</td>\n",
              "      <td>male</td>\n",
              "      <td>33.770</td>\n",
              "      <td>1</td>\n",
              "      <td>no</td>\n",
              "      <td>southeast</td>\n",
              "      <td>1725.55230</td>\n",
              "    </tr>\n",
              "    <tr>\n",
              "      <th>2</th>\n",
              "      <td>28</td>\n",
              "      <td>male</td>\n",
              "      <td>33.000</td>\n",
              "      <td>3</td>\n",
              "      <td>no</td>\n",
              "      <td>southeast</td>\n",
              "      <td>4449.46200</td>\n",
              "    </tr>\n",
              "    <tr>\n",
              "      <th>3</th>\n",
              "      <td>33</td>\n",
              "      <td>male</td>\n",
              "      <td>22.705</td>\n",
              "      <td>0</td>\n",
              "      <td>no</td>\n",
              "      <td>northwest</td>\n",
              "      <td>21984.47061</td>\n",
              "    </tr>\n",
              "    <tr>\n",
              "      <th>4</th>\n",
              "      <td>32</td>\n",
              "      <td>male</td>\n",
              "      <td>28.880</td>\n",
              "      <td>0</td>\n",
              "      <td>no</td>\n",
              "      <td>northwest</td>\n",
              "      <td>3866.85520</td>\n",
              "    </tr>\n",
              "  </tbody>\n",
              "</table>\n",
              "</div>\n",
              "    <div class=\"colab-df-buttons\">\n",
              "\n",
              "  <div class=\"colab-df-container\">\n",
              "    <button class=\"colab-df-convert\" onclick=\"convertToInteractive('df-01a0cf99-0445-4849-ab45-8ee46a848003')\"\n",
              "            title=\"Convert this dataframe to an interactive table.\"\n",
              "            style=\"display:none;\">\n",
              "\n",
              "  <svg xmlns=\"http://www.w3.org/2000/svg\" height=\"24px\" viewBox=\"0 -960 960 960\">\n",
              "    <path d=\"M120-120v-720h720v720H120Zm60-500h600v-160H180v160Zm220 220h160v-160H400v160Zm0 220h160v-160H400v160ZM180-400h160v-160H180v160Zm440 0h160v-160H620v160ZM180-180h160v-160H180v160Zm440 0h160v-160H620v160Z\"/>\n",
              "  </svg>\n",
              "    </button>\n",
              "\n",
              "  <style>\n",
              "    .colab-df-container {\n",
              "      display:flex;\n",
              "      gap: 12px;\n",
              "    }\n",
              "\n",
              "    .colab-df-convert {\n",
              "      background-color: #E8F0FE;\n",
              "      border: none;\n",
              "      border-radius: 50%;\n",
              "      cursor: pointer;\n",
              "      display: none;\n",
              "      fill: #1967D2;\n",
              "      height: 32px;\n",
              "      padding: 0 0 0 0;\n",
              "      width: 32px;\n",
              "    }\n",
              "\n",
              "    .colab-df-convert:hover {\n",
              "      background-color: #E2EBFA;\n",
              "      box-shadow: 0px 1px 2px rgba(60, 64, 67, 0.3), 0px 1px 3px 1px rgba(60, 64, 67, 0.15);\n",
              "      fill: #174EA6;\n",
              "    }\n",
              "\n",
              "    .colab-df-buttons div {\n",
              "      margin-bottom: 4px;\n",
              "    }\n",
              "\n",
              "    [theme=dark] .colab-df-convert {\n",
              "      background-color: #3B4455;\n",
              "      fill: #D2E3FC;\n",
              "    }\n",
              "\n",
              "    [theme=dark] .colab-df-convert:hover {\n",
              "      background-color: #434B5C;\n",
              "      box-shadow: 0px 1px 3px 1px rgba(0, 0, 0, 0.15);\n",
              "      filter: drop-shadow(0px 1px 2px rgba(0, 0, 0, 0.3));\n",
              "      fill: #FFFFFF;\n",
              "    }\n",
              "  </style>\n",
              "\n",
              "    <script>\n",
              "      const buttonEl =\n",
              "        document.querySelector('#df-01a0cf99-0445-4849-ab45-8ee46a848003 button.colab-df-convert');\n",
              "      buttonEl.style.display =\n",
              "        google.colab.kernel.accessAllowed ? 'block' : 'none';\n",
              "\n",
              "      async function convertToInteractive(key) {\n",
              "        const element = document.querySelector('#df-01a0cf99-0445-4849-ab45-8ee46a848003');\n",
              "        const dataTable =\n",
              "          await google.colab.kernel.invokeFunction('convertToInteractive',\n",
              "                                                    [key], {});\n",
              "        if (!dataTable) return;\n",
              "\n",
              "        const docLinkHtml = 'Like what you see? Visit the ' +\n",
              "          '<a target=\"_blank\" href=https://colab.research.google.com/notebooks/data_table.ipynb>data table notebook</a>'\n",
              "          + ' to learn more about interactive tables.';\n",
              "        element.innerHTML = '';\n",
              "        dataTable['output_type'] = 'display_data';\n",
              "        await google.colab.output.renderOutput(dataTable, element);\n",
              "        const docLink = document.createElement('div');\n",
              "        docLink.innerHTML = docLinkHtml;\n",
              "        element.appendChild(docLink);\n",
              "      }\n",
              "    </script>\n",
              "  </div>\n",
              "\n",
              "\n",
              "<div id=\"df-a1958bf0-ece3-433d-acb3-c9efdb876ef4\">\n",
              "  <button class=\"colab-df-quickchart\" onclick=\"quickchart('df-a1958bf0-ece3-433d-acb3-c9efdb876ef4')\"\n",
              "            title=\"Suggest charts\"\n",
              "            style=\"display:none;\">\n",
              "\n",
              "<svg xmlns=\"http://www.w3.org/2000/svg\" height=\"24px\"viewBox=\"0 0 24 24\"\n",
              "     width=\"24px\">\n",
              "    <g>\n",
              "        <path d=\"M19 3H5c-1.1 0-2 .9-2 2v14c0 1.1.9 2 2 2h14c1.1 0 2-.9 2-2V5c0-1.1-.9-2-2-2zM9 17H7v-7h2v7zm4 0h-2V7h2v10zm4 0h-2v-4h2v4z\"/>\n",
              "    </g>\n",
              "</svg>\n",
              "  </button>\n",
              "\n",
              "<style>\n",
              "  .colab-df-quickchart {\n",
              "      --bg-color: #E8F0FE;\n",
              "      --fill-color: #1967D2;\n",
              "      --hover-bg-color: #E2EBFA;\n",
              "      --hover-fill-color: #174EA6;\n",
              "      --disabled-fill-color: #AAA;\n",
              "      --disabled-bg-color: #DDD;\n",
              "  }\n",
              "\n",
              "  [theme=dark] .colab-df-quickchart {\n",
              "      --bg-color: #3B4455;\n",
              "      --fill-color: #D2E3FC;\n",
              "      --hover-bg-color: #434B5C;\n",
              "      --hover-fill-color: #FFFFFF;\n",
              "      --disabled-bg-color: #3B4455;\n",
              "      --disabled-fill-color: #666;\n",
              "  }\n",
              "\n",
              "  .colab-df-quickchart {\n",
              "    background-color: var(--bg-color);\n",
              "    border: none;\n",
              "    border-radius: 50%;\n",
              "    cursor: pointer;\n",
              "    display: none;\n",
              "    fill: var(--fill-color);\n",
              "    height: 32px;\n",
              "    padding: 0;\n",
              "    width: 32px;\n",
              "  }\n",
              "\n",
              "  .colab-df-quickchart:hover {\n",
              "    background-color: var(--hover-bg-color);\n",
              "    box-shadow: 0 1px 2px rgba(60, 64, 67, 0.3), 0 1px 3px 1px rgba(60, 64, 67, 0.15);\n",
              "    fill: var(--button-hover-fill-color);\n",
              "  }\n",
              "\n",
              "  .colab-df-quickchart-complete:disabled,\n",
              "  .colab-df-quickchart-complete:disabled:hover {\n",
              "    background-color: var(--disabled-bg-color);\n",
              "    fill: var(--disabled-fill-color);\n",
              "    box-shadow: none;\n",
              "  }\n",
              "\n",
              "  .colab-df-spinner {\n",
              "    border: 2px solid var(--fill-color);\n",
              "    border-color: transparent;\n",
              "    border-bottom-color: var(--fill-color);\n",
              "    animation:\n",
              "      spin 1s steps(1) infinite;\n",
              "  }\n",
              "\n",
              "  @keyframes spin {\n",
              "    0% {\n",
              "      border-color: transparent;\n",
              "      border-bottom-color: var(--fill-color);\n",
              "      border-left-color: var(--fill-color);\n",
              "    }\n",
              "    20% {\n",
              "      border-color: transparent;\n",
              "      border-left-color: var(--fill-color);\n",
              "      border-top-color: var(--fill-color);\n",
              "    }\n",
              "    30% {\n",
              "      border-color: transparent;\n",
              "      border-left-color: var(--fill-color);\n",
              "      border-top-color: var(--fill-color);\n",
              "      border-right-color: var(--fill-color);\n",
              "    }\n",
              "    40% {\n",
              "      border-color: transparent;\n",
              "      border-right-color: var(--fill-color);\n",
              "      border-top-color: var(--fill-color);\n",
              "    }\n",
              "    60% {\n",
              "      border-color: transparent;\n",
              "      border-right-color: var(--fill-color);\n",
              "    }\n",
              "    80% {\n",
              "      border-color: transparent;\n",
              "      border-right-color: var(--fill-color);\n",
              "      border-bottom-color: var(--fill-color);\n",
              "    }\n",
              "    90% {\n",
              "      border-color: transparent;\n",
              "      border-bottom-color: var(--fill-color);\n",
              "    }\n",
              "  }\n",
              "</style>\n",
              "\n",
              "  <script>\n",
              "    async function quickchart(key) {\n",
              "      const quickchartButtonEl =\n",
              "        document.querySelector('#' + key + ' button');\n",
              "      quickchartButtonEl.disabled = true;  // To prevent multiple clicks.\n",
              "      quickchartButtonEl.classList.add('colab-df-spinner');\n",
              "      try {\n",
              "        const charts = await google.colab.kernel.invokeFunction(\n",
              "            'suggestCharts', [key], {});\n",
              "      } catch (error) {\n",
              "        console.error('Error during call to suggestCharts:', error);\n",
              "      }\n",
              "      quickchartButtonEl.classList.remove('colab-df-spinner');\n",
              "      quickchartButtonEl.classList.add('colab-df-quickchart-complete');\n",
              "    }\n",
              "    (() => {\n",
              "      let quickchartButtonEl =\n",
              "        document.querySelector('#df-a1958bf0-ece3-433d-acb3-c9efdb876ef4 button');\n",
              "      quickchartButtonEl.style.display =\n",
              "        google.colab.kernel.accessAllowed ? 'block' : 'none';\n",
              "    })();\n",
              "  </script>\n",
              "</div>\n",
              "\n",
              "    </div>\n",
              "  </div>\n"
            ],
            "application/vnd.google.colaboratory.intrinsic+json": {
              "type": "dataframe",
              "variable_name": "insurance",
              "summary": "{\n  \"name\": \"insurance\",\n  \"rows\": 1338,\n  \"fields\": [\n    {\n      \"column\": \"age\",\n      \"properties\": {\n        \"dtype\": \"number\",\n        \"std\": 14,\n        \"min\": 18,\n        \"max\": 64,\n        \"samples\": [\n          21,\n          45,\n          36\n        ],\n        \"num_unique_values\": 47,\n        \"semantic_type\": \"\",\n        \"description\": \"\"\n      }\n    },\n    {\n      \"column\": \"sex\",\n      \"properties\": {\n        \"dtype\": \"category\",\n        \"samples\": [\n          \"male\",\n          \"female\"\n        ],\n        \"num_unique_values\": 2,\n        \"semantic_type\": \"\",\n        \"description\": \"\"\n      }\n    },\n    {\n      \"column\": \"bmi\",\n      \"properties\": {\n        \"dtype\": \"number\",\n        \"std\": 6.098186911679014,\n        \"min\": 15.96,\n        \"max\": 53.13,\n        \"samples\": [\n          23.18,\n          26.885\n        ],\n        \"num_unique_values\": 548,\n        \"semantic_type\": \"\",\n        \"description\": \"\"\n      }\n    },\n    {\n      \"column\": \"children\",\n      \"properties\": {\n        \"dtype\": \"number\",\n        \"std\": 1,\n        \"min\": 0,\n        \"max\": 5,\n        \"samples\": [\n          0,\n          1\n        ],\n        \"num_unique_values\": 6,\n        \"semantic_type\": \"\",\n        \"description\": \"\"\n      }\n    },\n    {\n      \"column\": \"smoker\",\n      \"properties\": {\n        \"dtype\": \"category\",\n        \"samples\": [\n          \"no\",\n          \"yes\"\n        ],\n        \"num_unique_values\": 2,\n        \"semantic_type\": \"\",\n        \"description\": \"\"\n      }\n    },\n    {\n      \"column\": \"region\",\n      \"properties\": {\n        \"dtype\": \"category\",\n        \"samples\": [\n          \"southeast\",\n          \"northeast\"\n        ],\n        \"num_unique_values\": 4,\n        \"semantic_type\": \"\",\n        \"description\": \"\"\n      }\n    },\n    {\n      \"column\": \"charges\",\n      \"properties\": {\n        \"dtype\": \"number\",\n        \"std\": 12110.011236694001,\n        \"min\": 1121.8739,\n        \"max\": 63770.42801,\n        \"samples\": [\n          8688.85885,\n          5708.867\n        ],\n        \"num_unique_values\": 1337,\n        \"semantic_type\": \"\",\n        \"description\": \"\"\n      }\n    }\n  ]\n}"
            }
          },
          "metadata": {},
          "execution_count": 289
        }
      ]
    },
    {
      "cell_type": "markdown",
      "source": [
        "To prepare our data, we can borrow a few classes from Scikit-Learn."
      ],
      "metadata": {
        "id": "HkzQzHlBOMAW"
      }
    },
    {
      "cell_type": "code",
      "source": [
        "from sklearn.compose import make_column_transformer\n",
        "from sklearn.preprocessing import OneHotEncoder, StandardScaler, MinMaxScaler\n",
        "\n",
        "# Create a column transformer\n",
        "ct = make_column_transformer(\n",
        "    (OneHotEncoder(sparse_output=False), ['sex', 'smoker', 'region']),\n",
        "    (MinMaxScaler(), ['age', 'bmi', 'children'])\n",
        ")\n",
        "\n",
        "# Create X and y\n",
        "X = insurance.drop('charges', axis=1)\n",
        "y = insurance['charges']\n",
        "\n",
        "# Build our train and test sets\n",
        "X_train, X_test, y_train, y_test = train_test_split(X, y, test_size=0.2, random_state=42)\n",
        "\n",
        "# Fit the column transformer to our training data\n",
        "X_train = ct.fit_transform(X_train)\n",
        "X_test = ct.transform(X_test)\n"
      ],
      "metadata": {
        "id": "I2yxTK84N1iw"
      },
      "execution_count": 290,
      "outputs": []
    },
    {
      "cell_type": "code",
      "source": [
        "X_train.shape"
      ],
      "metadata": {
        "colab": {
          "base_uri": "https://localhost:8080/"
        },
        "id": "1_fArAx7PVtv",
        "outputId": "62d1c422-257f-4e54-8a79-2427128774cd"
      },
      "execution_count": 291,
      "outputs": [
        {
          "output_type": "execute_result",
          "data": {
            "text/plain": [
              "(1070, 11)"
            ]
          },
          "metadata": {},
          "execution_count": 291
        }
      ]
    },
    {
      "cell_type": "markdown",
      "source": [
        "Great! Our data has been normalized and one hot encoded.\n",
        "\n",
        "Now let's build a neural network model on it and see how it goes."
      ],
      "metadata": {
        "id": "Cu9zn3HKRQ6y"
      }
    },
    {
      "cell_type": "code",
      "source": [
        "# Build a neural network mdoel to fit on our normalized data\n",
        "tf.random.set_seed(42)\n",
        "\n",
        "# Create the model\n",
        "ins_model_4 = tf.keras.Sequential([\n",
        "    tf.keras.layers.Dense(64, activation='relu'),\n",
        "    tf.keras.layers.Dense(32, activation='relu'),\n",
        "    tf.keras.layers.Dense(1)\n",
        "])\n",
        "\n",
        "# Compile the model\n",
        "ins_model_4.compile(loss=tf.keras.losses.mae,\n",
        "                  optimizer=tf.keras.optimizers.Adam(learning_rate=1e-2),\n",
        "                  metrics=['mae'])\n",
        "\n",
        "# Fit the model\n",
        "history = ins_model_4.fit(X_train, y_train, epochs=500, verbose=0)\n"
      ],
      "metadata": {
        "id": "jLZO3zi-Rc8Z"
      },
      "execution_count": 306,
      "outputs": []
    },
    {
      "cell_type": "code",
      "source": [
        "# Plot history (also known as loss curve or a training curve)\n",
        "pd.DataFrame(history.history).plot()\n",
        "plt.ylabel('Loss')\n",
        "plt.xlabel('Epoch')"
      ],
      "metadata": {
        "colab": {
          "base_uri": "https://localhost:8080/",
          "height": 466
        },
        "id": "rI0Yytx92Mjk",
        "outputId": "062dd465-952a-4f26-99be-e7142da1da13"
      },
      "execution_count": 307,
      "outputs": [
        {
          "output_type": "execute_result",
          "data": {
            "text/plain": [
              "Text(0.5, 0, 'Epoch')"
            ]
          },
          "metadata": {},
          "execution_count": 307
        },
        {
          "output_type": "display_data",
          "data": {
            "text/plain": [
              "<Figure size 640x480 with 1 Axes>"
            ],
            "image/png": "[encoded data removed]"
          },
          "metadata": {}
        }
      ]
    },
    {
      "cell_type": "code",
      "source": [
        "# Evaluate our ins model trained on normalized data\n",
        "ins_model_4.evaluate(X_test, y_test)"
      ],
      "metadata": {
        "colab": {
          "base_uri": "https://localhost:8080/"
        },
        "id": "XoFtiwMA0CYa",
        "outputId": "8561438a-5bb0-4f6e-aaee-e131bd70b591"
      },
      "execution_count": 308,
      "outputs": [
        {
          "output_type": "stream",
          "name": "stdout",
          "text": [
            "9/9 [==============================] - 0s 2ms/step - loss: 1759.9471 - mae: 1759.9471\n"
          ]
        },
        {
          "output_type": "execute_result",
          "data": {
            "text/plain": [
              "[1759.9471435546875, 1759.9471435546875]"
            ]
          },
          "metadata": {},
          "execution_count": 308
        }
      ]
    },
    {
      "cell_type": "markdown",
      "source": [
        "### 01. Neural network regression with TensorFlow Exercises\n",
        "\n",
        "> refer to [Exercise page on Git-Hub](https://github.com/mrdbourke/tensorflow-deep-learning?tab=readme-ov-file#-00-tensorflow-fundamentals-exercises)"
      ],
      "metadata": {
        "id": "fdm_Gfsn39LA"
      }
    },
    {
      "cell_type": "code",
      "source": [
        "# 1. Create your own regression dataset (or make the one we created in \"Create data to view and fit\" bigger) and build fit a model to it.\n",
        "tf.random.set_seed(42)\n",
        "\n",
        "X = tf.random.uniform([100], -200, 200, seed=42)\n",
        "y = 2*X + 5\n",
        "\n",
        "X, y"
      ],
      "metadata": {
        "colab": {
          "base_uri": "https://localhost:8080/"
        },
        "id": "yhVLb-T74JFg",
        "outputId": "33a91e7b-5c9b-4246-96de-f6d42ac5b24f"
      },
      "execution_count": 309,
      "outputs": [
        {
          "output_type": "execute_result",
          "data": {
            "text/plain": [
              "(<tf.Tensor: shape=(100,), dtype=float32, numpy=\n",
              " array([ -33.47888  ,  -92.56735  ,   -8.1267395,  -54.171463 ,\n",
              "         181.88458  ,  176.74585  ,   45.93358  ,  -56.631424 ,\n",
              "          37.440964 , -113.795616 , -169.01932  ,   31.685257 ,\n",
              "         -83.27842  ,  -93.12787  ,  -51.950165 ,   86.441315 ,\n",
              "         -16.488937 , -152.94174  , -115.705154 ,   17.678925 ,\n",
              "         195.92276  ,  -46.416565 , -181.26573  ,  148.73846  ,\n",
              "         -96.47317  ,  149.254    ,   58.79373  ,  -32.075073 ,\n",
              "        -103.406906 , -161.79977  ,  192.83276  , -137.19168  ,\n",
              "         -80.09271  ,  -52.81877  ,  178.14865  , -155.77287  ,\n",
              "           9.150513 ,  132.21765  , -199.17116  ,  183.76135  ,\n",
              "         142.52008  ,  -42.220123 , -111.8845   ,   68.26428  ,\n",
              "        -192.49701  ,   -7.7717743,   38.138153 ,   73.89316  ,\n",
              "        -124.04423  , -150.04053  ,  -64.2735   ,   16.380936 ,\n",
              "          34.34262  ,  191.71213  , -199.64833  ,  133.32986  ,\n",
              "          29.216293 , -139.97379  , -154.41708  ,  193.44711  ,\n",
              "         166.68631  ,  -30.95111  , -121.92974  , -188.54471  ,\n",
              "         -43.36371  , -167.29745  ,  -43.471863 , -198.63458  ,\n",
              "          77.102295 ,  110.93341  , -166.97488  ,   84.4411   ,\n",
              "        -118.03636  ,   54.844574 ,   93.77966  ,   22.724533 ,\n",
              "         159.66858  ,  -63.755325 ,   60.804504 ,   66.336914 ,\n",
              "         -90.68002  ,  -49.426453 ,   91.79169  ,  -18.970581 ,\n",
              "         -63.56993  ,  -16.96872  , -132.57713  ,   77.03775  ,\n",
              "         -74.29762  ,   23.71045  ,  -96.65155  , -153.10783  ,\n",
              "          43.41884  ,  153.73706  ,  -34.520004 ,  136.39313  ,\n",
              "          55.862854 ,  -36.504272 ,  -69.7298   ,  -62.16516  ],\n",
              "       dtype=float32)>,\n",
              " <tf.Tensor: shape=(100,), dtype=float32, numpy=\n",
              " array([ -61.957764, -180.1347  ,  -11.253479, -103.342926,  368.76917 ,\n",
              "         358.4917  ,   96.86716 , -108.26285 ,   79.88193 , -222.59123 ,\n",
              "        -333.03864 ,   68.370514, -161.55684 , -181.25574 ,  -98.90033 ,\n",
              "         177.88263 ,  -27.977875, -300.88348 , -226.41031 ,   40.35785 ,\n",
              "         396.84552 ,  -87.83313 , -357.53146 ,  302.47693 , -187.94633 ,\n",
              "         303.508   ,  122.58746 ,  -59.150146, -201.81381 , -318.59955 ,\n",
              "         390.66553 , -269.38336 , -155.18542 , -100.63754 ,  361.2973  ,\n",
              "        -306.54575 ,   23.301025,  269.4353  , -393.34232 ,  372.5227  ,\n",
              "         290.04016 ,  -79.44025 , -218.769   ,  141.52856 , -379.99402 ,\n",
              "         -10.543549,   81.276306,  152.78632 , -243.08846 , -295.08105 ,\n",
              "        -123.547   ,   37.76187 ,   73.68524 ,  388.42426 , -394.29666 ,\n",
              "         271.65973 ,   63.432587, -274.94757 , -303.83417 ,  391.89423 ,\n",
              "         338.37262 ,  -56.90222 , -238.85948 , -372.08942 ,  -81.72742 ,\n",
              "        -329.5949  ,  -81.943726, -392.26917 ,  159.20459 ,  226.86682 ,\n",
              "        -328.94977 ,  173.8822  , -231.07272 ,  114.68915 ,  192.55933 ,\n",
              "          50.449066,  324.33716 , -122.51065 ,  126.60901 ,  137.67383 ,\n",
              "        -176.36005 ,  -93.852905,  188.58337 ,  -32.941162, -122.13986 ,\n",
              "         -28.937439, -260.15427 ,  159.0755  , -143.59525 ,   52.4209  ,\n",
              "        -188.3031  , -301.21567 ,   91.83768 ,  312.47412 ,  -64.04001 ,\n",
              "         277.78625 ,  116.72571 ,  -68.008545, -134.4596  , -119.33032 ],\n",
              "       dtype=float32)>)"
            ]
          },
          "metadata": {},
          "execution_count": 309
        }
      ]
    },
    {
      "cell_type": "code",
      "source": [
        "# 2. Try building a neural network with 4 Dense layers and fitting it to your own regression dataset, how does it perform?\n",
        "model = tf.keras.Sequential([\n",
        "    tf.keras.layers.Dense(64),\n",
        "    tf.keras.layers.Dense(32),\n",
        "    tf.keras.layers.Dense(16),\n",
        "    tf.keras.layers.Dense(1)\n",
        "])\n",
        "\n",
        "model.compile(loss=tf.keras.losses.mae,\n",
        "              optimizer=tf.keras.optimizers.Adam(learning_rate=1e-3),\n",
        "              metrics=['mae'])\n",
        "\n",
        "model.fit(tf.expand_dims(X[:80], axis=-1), y[:80], epochs=100, verbose=0)\n",
        "\n",
        "model.evaluate(tf.expand_dims(X[80:], axis=-1), y[80:])"
      ],
      "metadata": {
        "colab": {
          "base_uri": "https://localhost:8080/"
        },
        "id": "Yp2W5Jcm5-6n",
        "outputId": "272e4354-58fe-4d3c-ad49-13a85c6ee4ac"
      },
      "execution_count": 312,
      "outputs": [
        {
          "output_type": "stream",
          "name": "stdout",
          "text": [
            "1/1 [==============================] - 0s 123ms/step - loss: 1.3503 - mae: 1.3503\n"
          ]
        },
        {
          "output_type": "execute_result",
          "data": {
            "text/plain": [
              "[1.3503168821334839, 1.3503168821334839]"
            ]
          },
          "metadata": {},
          "execution_count": 312
        }
      ]
    },
    {
      "cell_type": "code",
      "source": [
        "# 3. Try and improve the results we got on the insurance dataset, some things you might want to try include:\n",
        "# 9/9 [==============================] - 0s 2ms/step - loss: 1759.9471 - mae: 1759.9471\n",
        "[1759.9471435546875, 1759.9471435546875]"
      ],
      "metadata": {
        "colab": {
          "base_uri": "https://localhost:8080/"
        },
        "id": "L2uxqma563ZX",
        "outputId": "b1f8c8e0-bce8-4abf-9240-14353f15368e"
      },
      "execution_count": 313,
      "outputs": [
        {
          "output_type": "execute_result",
          "data": {
            "text/plain": [
              "[1759.9471435546875, 1759.9471435546875]"
            ]
          },
          "metadata": {},
          "execution_count": 313
        }
      ]
    },
    {
      "cell_type": "code",
      "source": [
        "from tensorflow.keras.datasets import boston_housing\n",
        "\n",
        "(X_train, y_train), (X_test, y_test) = boston_housing.load_data()\n",
        "\n",
        "X_train[:5], y_train[:5]"
      ],
      "metadata": {
        "colab": {
          "base_uri": "https://localhost:8080/"
        },
        "id": "LAJNTnwa7cmM",
        "outputId": "2c7aa648-d7d3-44c0-f35e-8294d26f0d08"
      },
      "execution_count": 316,
      "outputs": [
        {
          "output_type": "stream",
          "name": "stdout",
          "text": [
            "Downloading data from https://storage.googleapis.com/tensorflow/tf-keras-datasets/boston_housing.npz\n",
            "57026/57026 [==============================] - 0s 0us/step\n"
          ]
        },
        {
          "output_type": "execute_result",
          "data": {
            "text/plain": [
              "(array([[1.23247e+00, 0.00000e+00, 8.14000e+00, 0.00000e+00, 5.38000e-01,\n",
              "         6.14200e+00, 9.17000e+01, 3.97690e+00, 4.00000e+00, 3.07000e+02,\n",
              "         2.10000e+01, 3.96900e+02, 1.87200e+01],\n",
              "        [2.17700e-02, 8.25000e+01, 2.03000e+00, 0.00000e+00, 4.15000e-01,\n",
              "         7.61000e+00, 1.57000e+01, 6.27000e+00, 2.00000e+00, 3.48000e+02,\n",
              "         1.47000e+01, 3.95380e+02, 3.11000e+00],\n",
              "        [4.89822e+00, 0.00000e+00, 1.81000e+01, 0.00000e+00, 6.31000e-01,\n",
              "         4.97000e+00, 1.00000e+02, 1.33250e+00, 2.40000e+01, 6.66000e+02,\n",
              "         2.02000e+01, 3.75520e+02, 3.26000e+00],\n",
              "        [3.96100e-02, 0.00000e+00, 5.19000e+00, 0.00000e+00, 5.15000e-01,\n",
              "         6.03700e+00, 3.45000e+01, 5.98530e+00, 5.00000e+00, 2.24000e+02,\n",
              "         2.02000e+01, 3.96900e+02, 8.01000e+00],\n",
              "        [3.69311e+00, 0.00000e+00, 1.81000e+01, 0.00000e+00, 7.13000e-01,\n",
              "         6.37600e+00, 8.84000e+01, 2.56710e+00, 2.40000e+01, 6.66000e+02,\n",
              "         2.02000e+01, 3.91430e+02, 1.46500e+01]]),\n",
              " array([15.2, 42.3, 50. , 21.1, 17.7]))"
            ]
          },
          "metadata": {},
          "execution_count": 316
        }
      ]
    },
    {
      "cell_type": "code",
      "source": [
        "len(X_train), len(X_test)"
      ],
      "metadata": {
        "colab": {
          "base_uri": "https://localhost:8080/"
        },
        "id": "Vmvr2Nrb8npb",
        "outputId": "ef70ef2d-d6ca-41c0-e0fe-eaa64d2d564e"
      },
      "execution_count": 317,
      "outputs": [
        {
          "output_type": "execute_result",
          "data": {
            "text/plain": [
              "(404, 102)"
            ]
          },
          "metadata": {},
          "execution_count": 317
        }
      ]
    },
    {
      "cell_type": "code",
      "source": [
        "# Create a housing model for our boston housing dataset\n",
        "housing_model = tf.keras.Sequential([\n",
        "    tf.keras.layers.Dense(64, activation='relu'),\n",
        "    tf.keras.layers.Dense(32, activation='relu'),\n",
        "    tf.keras.layers.Dense(16, activation='relu'),\n",
        "    tf.keras.layers.Dense(1)\n",
        "])\n",
        "\n",
        "# Compile the model\n",
        "housing_model.compile(loss=tf.keras.losses.mae,\n",
        "                  optimizer=tf.keras.optimizers.Adam(learning_rate=1e-2),\n",
        "                  metrics=['mae'])\n",
        "\n",
        "# Fit the model and plot the history\n",
        "history = housing_model.fit(X_train, y_train, epochs=100, verbose=0)\n",
        "pd.DataFrame(history.history).plot()\n",
        "plt.ylabel('Loss')"
      ],
      "metadata": {
        "colab": {
          "base_uri": "https://localhost:8080/",
          "height": 447
        },
        "id": "OTxMYUAL8HzV",
        "outputId": "e8133d3c-f8d4-4d98-95bf-e7f00b36edd5"
      },
      "execution_count": 320,
      "outputs": [
        {
          "output_type": "execute_result",
          "data": {
            "text/plain": [
              "Text(0, 0.5, 'Loss')"
            ]
          },
          "metadata": {},
          "execution_count": 320
        },
        {
          "output_type": "display_data",
          "data": {
            "text/plain": [
              "<Figure size 640x480 with 1 Axes>"
            ],
            "image/png": "[encoded data removed]"
          },
          "metadata": {}
        }
      ]
    },
    {
      "cell_type": "code",
      "source": [
        "housing_model.evaluate(X_test, y_test)"
      ],
      "metadata": {
        "colab": {
          "base_uri": "https://localhost:8080/"
        },
        "id": "2rGbeVFK84nj",
        "outputId": "cabf7577-67cc-4d9e-86ea-24b5a24de97c"
      },
      "execution_count": 321,
      "outputs": [
        {
          "output_type": "stream",
          "name": "stdout",
          "text": [
            "4/4 [==============================] - 0s 4ms/step - loss: 3.5328 - mae: 3.5328\n"
          ]
        },
        {
          "output_type": "execute_result",
          "data": {
            "text/plain": [
              "[3.5327675342559814, 3.5327675342559814]"
            ]
          },
          "metadata": {},
          "execution_count": 321
        }
      ]
    }
  ]
}