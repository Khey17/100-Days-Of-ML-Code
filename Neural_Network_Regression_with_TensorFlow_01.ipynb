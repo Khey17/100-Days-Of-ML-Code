{
  "nbformat": 4,
  "nbformat_minor": 0,
  "metadata": {
    "colab": {
      "provenance": [],
      "mount_file_id": "1bl9RBNdCbgTI8DRCQGLT71YbqmsSDOly",
      "authorship_tag": "ABX9TyMPSyWGfKADvpTMrGfqUrbk",
      "include_colab_link": true
    },
    "kernelspec": {
      "name": "python3",
      "display_name": "Python 3"
    },
    "language_info": {
      "name": "python"
    }
  },
  "cells": [
    {
      "cell_type": "markdown",
      "metadata": {
        "id": "view-in-github",
        "colab_type": "text"
      },
      "source": [
        "<a href=\"https://colab.research.google.com/github/Khey17/100-Days-Of-ML-Code/blob/main/Neural_Network_Regression_with_TensorFlow_01.ipynb\" target=\"_parent\"><img src=\"https://colab.research.google.com/assets/colab-badge.svg\" alt=\"Open In Colab\"/></a>"
      ]
    },
    {
      "cell_type": "markdown",
      "source": [
        "# Introduction to Regression with Neural Networks in TensorFlow\n",
        "\n",
        "There are many definitions for a regression problem but in our case, we're going to simplify it: predicting a continuous value based on some other combination of variables, even shorter... predicting a number."
      ],
      "metadata": {
        "id": "vvIp9ME4Eg3z"
      }
    },
    {
      "cell_type": "code",
      "source": [
        "# Import TensorFlow\n",
        "import tensorflow as tf\n",
        "print(tf.__version__)"
      ],
      "metadata": {
        "colab": {
          "base_uri": "https://localhost:8080/"
        },
        "id": "JLPb9RlqFNOp",
        "outputId": "f773688c-0e98-45ac-8384-f72933d1204f"
      },
      "execution_count": 124,
      "outputs": [
        {
          "output_type": "stream",
          "name": "stdout",
          "text": [
            "2.15.0\n"
          ]
        }
      ]
    },
    {
      "cell_type": "markdown",
      "source": [
        "### Creating data to view and fit"
      ],
      "metadata": {
        "id": "Bz98xtVXFTbP"
      }
    },
    {
      "cell_type": "code",
      "source": [
        "import numpy as np\n",
        "import pandas as pd\n",
        "import matplotlib.pyplot as plt\n",
        "\n",
        "# Create features\n",
        "X = np.array([-7.0, -4.0, -1.0, 2.0, 5.0, 8.0, 11.0, 14.0])\n",
        "\n",
        "# Create labels\n",
        "y = np.array([3.0, 6.0, 9.0, 12.0, 15.0, 18.0, 21.0, 24.0])\n",
        "\n",
        "# Visualize it\n",
        "plt.scatter(X, y)"
      ],
      "metadata": {
        "colab": {
          "base_uri": "https://localhost:8080/",
          "height": 452
        },
        "id": "fq2-shCmFYEq",
        "outputId": "f6b98d27-deeb-4150-808b-fec04b9f088b"
      },
      "execution_count": 125,
      "outputs": [
        {
          "output_type": "execute_result",
          "data": {
            "text/plain": [
              "<matplotlib.collections.PathCollection at 0x7b2ff0624f70>"
            ]
          },
          "metadata": {},
          "execution_count": 125
        },
        {
          "output_type": "display_data",
          "data": {
            "text/plain": [
              "<Figure size 640x480 with 1 Axes>"
            ],
            "image/png": "[encoded data removed]"
          },
          "metadata": {}
        }
      ]
    },
    {
      "cell_type": "code",
      "source": [
        "# y = X + 10\n",
        "y == X + 10"
      ],
      "metadata": {
        "colab": {
          "base_uri": "https://localhost:8080/"
        },
        "id": "X1m5MZdpFz7P",
        "outputId": "bf212983-e294-4e8f-ab3e-39fee1953afc"
      },
      "execution_count": 126,
      "outputs": [
        {
          "output_type": "execute_result",
          "data": {
            "text/plain": [
              "array([ True,  True,  True,  True,  True,  True,  True,  True])"
            ]
          },
          "metadata": {},
          "execution_count": 126
        }
      ]
    },
    {
      "cell_type": "markdown",
      "source": [
        "### Input and Output shapes"
      ],
      "metadata": {
        "id": "Rc0XkyXXGMy7"
      }
    },
    {
      "cell_type": "code",
      "source": [
        "# Create a demo tensor for our housing prediction problem\n",
        "house_info = tf.constant(['bedroom', 'bedroom', 'garage'])\n",
        "house_price = tf.constant([939700])\n",
        "house_info, house_price"
      ],
      "metadata": {
        "colab": {
          "base_uri": "https://localhost:8080/"
        },
        "id": "3VQfB8J9GPpB",
        "outputId": "2c308dd3-099d-4568-eccf-70933c3fe16c"
      },
      "execution_count": 127,
      "outputs": [
        {
          "output_type": "execute_result",
          "data": {
            "text/plain": [
              "(<tf.Tensor: shape=(3,), dtype=string, numpy=array([b'bedroom', b'bedroom', b'garage'], dtype=object)>,\n",
              " <tf.Tensor: shape=(1,), dtype=int32, numpy=array([939700], dtype=int32)>)"
            ]
          },
          "metadata": {},
          "execution_count": 127
        }
      ]
    },
    {
      "cell_type": "code",
      "source": [
        "input_shape = X.shape\n",
        "output_shape = y.shape\n",
        "input_shape, output_shape"
      ],
      "metadata": {
        "colab": {
          "base_uri": "https://localhost:8080/"
        },
        "id": "LPFcIAbAGthK",
        "outputId": "411500d9-879f-4080-b757-9e16ad4477ea"
      },
      "execution_count": 128,
      "outputs": [
        {
          "output_type": "execute_result",
          "data": {
            "text/plain": [
              "((8,), (8,))"
            ]
          },
          "metadata": {},
          "execution_count": 128
        }
      ]
    },
    {
      "cell_type": "code",
      "source": [
        "X[0].ndim"
      ],
      "metadata": {
        "colab": {
          "base_uri": "https://localhost:8080/"
        },
        "id": "C52imEb6G0pY",
        "outputId": "f87b968f-74e7-4805-b197-b7eb08bfea09"
      },
      "execution_count": 129,
      "outputs": [
        {
          "output_type": "execute_result",
          "data": {
            "text/plain": [
              "0"
            ]
          },
          "metadata": {},
          "execution_count": 129
        }
      ]
    },
    {
      "cell_type": "code",
      "source": [
        "# Turn our NumPy arrays into tensors\n",
        "X = tf.constant(X)\n",
        "y = tf.constant(y)\n",
        "X, y"
      ],
      "metadata": {
        "colab": {
          "base_uri": "https://localhost:8080/"
        },
        "id": "q0A0573QHXmi",
        "outputId": "844900a8-08a7-4e0c-c2b2-107f9232a1dd"
      },
      "execution_count": 130,
      "outputs": [
        {
          "output_type": "execute_result",
          "data": {
            "text/plain": [
              "(<tf.Tensor: shape=(8,), dtype=float64, numpy=array([-7., -4., -1.,  2.,  5.,  8., 11., 14.])>,\n",
              " <tf.Tensor: shape=(8,), dtype=float64, numpy=array([ 3.,  6.,  9., 12., 15., 18., 21., 24.])>)"
            ]
          },
          "metadata": {},
          "execution_count": 130
        }
      ]
    },
    {
      "cell_type": "code",
      "source": [
        "input_shape = X[0].shape\n",
        "output_shape = y[0].shape\n",
        "input_shape, output_shape"
      ],
      "metadata": {
        "colab": {
          "base_uri": "https://localhost:8080/"
        },
        "id": "_o8mhBpsin9v",
        "outputId": "23960ae1-934c-41c3-add5-e7909b9f81c4"
      },
      "execution_count": 131,
      "outputs": [
        {
          "output_type": "execute_result",
          "data": {
            "text/plain": [
              "(TensorShape([]), TensorShape([]))"
            ]
          },
          "metadata": {},
          "execution_count": 131
        }
      ]
    },
    {
      "cell_type": "code",
      "source": [
        "plt.scatter(X, y)"
      ],
      "metadata": {
        "colab": {
          "base_uri": "https://localhost:8080/",
          "height": 452
        },
        "id": "1jAUTEjliu24",
        "outputId": "078e5466-dc06-483b-8bcb-4f9637809ff6"
      },
      "execution_count": 132,
      "outputs": [
        {
          "output_type": "execute_result",
          "data": {
            "text/plain": [
              "<matplotlib.collections.PathCollection at 0x7b2ff06a4970>"
            ]
          },
          "metadata": {},
          "execution_count": 132
        },
        {
          "output_type": "display_data",
          "data": {
            "text/plain": [
              "<Figure size 640x480 with 1 Axes>"
            ],
            "image/png": "[encoded data removed]"
          },
          "metadata": {}
        }
      ]
    },
    {
      "cell_type": "markdown",
      "source": [
        "### Steps in modelling with TensorFlow\n",
        "\n",
        "1. **Creating a model** - defing the input and output layers, as well as the hidden layers of a deep learning model.\n",
        "2. **Compiling a model** - define the loss function (in other words, the function which tells our model how wrong it is) and the optimizer (tells our model how to improve the patterns its learning) and evaluation metrics (what we can use to interpret the performance of our model).\n",
        "3. **Fitting a model** - letting the model try to find patterns between X & y (features and labels)."
      ],
      "metadata": {
        "id": "LG18OqwSi2kH"
      }
    },
    {
      "cell_type": "code",
      "source": [
        "# Set random seed\n",
        "tf.random.set_seed(42)\n",
        "\n",
        "# 1. Create a model using the Sequential API\n",
        "model = tf.keras.Sequential([\n",
        "    tf.keras.layers.Dense(1)\n",
        "])\n",
        "\n",
        "# 2. Compile the model\n",
        "model.compile(loss=tf.keras.losses.mae,\n",
        "              optimizer=tf.keras.optimizers.SGD(),\n",
        "              metrics=['mae'])\n",
        "\n",
        "# 3. Fit the model\n",
        "model.fit(tf.expand_dims(X, axis=-1), y, epochs=5)"
      ],
      "metadata": {
        "colab": {
          "base_uri": "https://localhost:8080/"
        },
        "id": "BXKJoqGZjt33",
        "outputId": "b5a0fb8d-041b-4d56-ae6c-c97b4eea17a6"
      },
      "execution_count": 133,
      "outputs": [
        {
          "output_type": "stream",
          "name": "stdout",
          "text": [
            "Epoch 1/5\n",
            "1/1 [==============================] - 0s 335ms/step - loss: 12.6172 - mae: 12.6172\n",
            "Epoch 2/5\n",
            "1/1 [==============================] - 0s 10ms/step - loss: 12.4847 - mae: 12.4847\n",
            "Epoch 3/5\n",
            "1/1 [==============================] - 0s 11ms/step - loss: 12.3522 - mae: 12.3522\n",
            "Epoch 4/5\n",
            "1/1 [==============================] - 0s 10ms/step - loss: 12.2197 - mae: 12.2197\n",
            "Epoch 5/5\n",
            "1/1 [==============================] - 0s 11ms/step - loss: 12.0872 - mae: 12.0872\n"
          ]
        },
        {
          "output_type": "execute_result",
          "data": {
            "text/plain": [
              "<keras.src.callbacks.History at 0x7b2ff0efdcf0>"
            ]
          },
          "metadata": {},
          "execution_count": 133
        }
      ]
    },
    {
      "cell_type": "code",
      "source": [
        "# Check out X and y\n",
        "X, y"
      ],
      "metadata": {
        "colab": {
          "base_uri": "https://localhost:8080/"
        },
        "id": "GSem5a5dkPQq",
        "outputId": "8df15bdd-4549-4112-8c22-b6d620279c7b"
      },
      "execution_count": 134,
      "outputs": [
        {
          "output_type": "execute_result",
          "data": {
            "text/plain": [
              "(<tf.Tensor: shape=(8,), dtype=float64, numpy=array([-7., -4., -1.,  2.,  5.,  8., 11., 14.])>,\n",
              " <tf.Tensor: shape=(8,), dtype=float64, numpy=array([ 3.,  6.,  9., 12., 15., 18., 21., 24.])>)"
            ]
          },
          "metadata": {},
          "execution_count": 134
        }
      ]
    },
    {
      "cell_type": "code",
      "source": [
        "model.predict([17.0])"
      ],
      "metadata": {
        "colab": {
          "base_uri": "https://localhost:8080/"
        },
        "id": "xq8tgkFxnBxe",
        "outputId": "169d5f3b-6ba8-495e-c285-00626a2bd932"
      },
      "execution_count": 135,
      "outputs": [
        {
          "output_type": "stream",
          "name": "stdout",
          "text": [
            "1/1 [==============================] - 0s 68ms/step\n"
          ]
        },
        {
          "output_type": "execute_result",
          "data": {
            "text/plain": [
              "array([[7.3128195]], dtype=float32)"
            ]
          },
          "metadata": {},
          "execution_count": 135
        }
      ]
    },
    {
      "cell_type": "markdown",
      "source": [
        "### Improve the model\n",
        "\n",
        "We can improve our model, by altering the steps we took to create a model\n",
        "\n",
        "1. **Create a model** - here we might add more layers, increase the no. of hidden layers, change the activation func of each layer.\n",
        "2. **Compiling a model** - here we might change the optimization function or perhaps the **learning rate** of the optimization func.\n",
        "3. **Fitting a model** - here we might fit a model for more epochs (leave it training for longer) or on more data (give the model more examples to learn from)."
      ],
      "metadata": {
        "id": "EyF3CXfKnIR2"
      }
    },
    {
      "cell_type": "code",
      "source": [
        "# Let's rebuild our model\n",
        "tf.random.set_seed(42)\n",
        "\n",
        "# 1. Create a model (Specified to your problem)\n",
        "model = tf.keras.Sequential([\n",
        "    tf.keras.layers.Dense(128, activation='relu'),\n",
        "    tf.keras.layers.Dense(128, activation='relu'),\n",
        "    tf.keras.layers.Dense(128, activation='relu'),\n",
        "    tf.keras.layers.Dense(1)\n",
        "])\n",
        "\n",
        "# 2. Compile the model\n",
        "model.compile(loss=tf.keras.losses.mae,\n",
        "              optimizer=tf.keras.optimizers.Adam(learning_rate=1e-2),\n",
        "              metrics=['mae'])\n",
        "\n",
        "# 3. Fit the model\n",
        "model.fit(tf.expand_dims(X, axis=-1), y, epochs=100)"
      ],
      "metadata": {
        "colab": {
          "base_uri": "https://localhost:8080/"
        },
        "id": "GYeR735B17qM",
        "outputId": "d7e24e95-5672-4d19-9bac-7c2a528b494a"
      },
      "execution_count": 136,
      "outputs": [
        {
          "output_type": "stream",
          "name": "stdout",
          "text": [
            "Epoch 1/100\n",
            "1/1 [==============================] - 1s 914ms/step - loss: 13.5345 - mae: 13.5345\n",
            "Epoch 2/100\n",
            "1/1 [==============================] - 0s 12ms/step - loss: 10.6744 - mae: 10.6744\n",
            "Epoch 3/100\n",
            "1/1 [==============================] - 0s 11ms/step - loss: 7.6410 - mae: 7.6410\n",
            "Epoch 4/100\n",
            "1/1 [==============================] - 0s 13ms/step - loss: 3.9624 - mae: 3.9624\n",
            "Epoch 5/100\n",
            "1/1 [==============================] - 0s 9ms/step - loss: 5.6207 - mae: 5.6207\n",
            "Epoch 6/100\n",
            "1/1 [==============================] - 0s 11ms/step - loss: 5.2349 - mae: 5.2349\n",
            "Epoch 7/100\n",
            "1/1 [==============================] - 0s 14ms/step - loss: 3.9507 - mae: 3.9507\n",
            "Epoch 8/100\n",
            "1/1 [==============================] - 0s 10ms/step - loss: 4.0403 - mae: 4.0403\n",
            "Epoch 9/100\n",
            "1/1 [==============================] - 0s 10ms/step - loss: 3.8835 - mae: 3.8835\n",
            "Epoch 10/100\n",
            "1/1 [==============================] - 0s 15ms/step - loss: 3.5965 - mae: 3.5965\n",
            "Epoch 11/100\n",
            "1/1 [==============================] - 0s 11ms/step - loss: 3.7498 - mae: 3.7498\n",
            "Epoch 12/100\n",
            "1/1 [==============================] - 0s 10ms/step - loss: 3.9918 - mae: 3.9918\n",
            "Epoch 13/100\n",
            "1/1 [==============================] - 0s 12ms/step - loss: 3.5382 - mae: 3.5382\n",
            "Epoch 14/100\n",
            "1/1 [==============================] - 0s 11ms/step - loss: 3.2328 - mae: 3.2328\n",
            "Epoch 15/100\n",
            "1/1 [==============================] - 0s 9ms/step - loss: 3.2977 - mae: 3.2977\n",
            "Epoch 16/100\n",
            "1/1 [==============================] - 0s 15ms/step - loss: 3.4071 - mae: 3.4071\n",
            "Epoch 17/100\n",
            "1/1 [==============================] - 0s 14ms/step - loss: 2.7335 - mae: 2.7335\n",
            "Epoch 18/100\n",
            "1/1 [==============================] - 0s 13ms/step - loss: 2.6792 - mae: 2.6792\n",
            "Epoch 19/100\n",
            "1/1 [==============================] - 0s 14ms/step - loss: 2.3720 - mae: 2.3720\n",
            "Epoch 20/100\n",
            "1/1 [==============================] - 0s 19ms/step - loss: 1.9892 - mae: 1.9892\n",
            "Epoch 21/100\n",
            "1/1 [==============================] - 0s 13ms/step - loss: 1.8728 - mae: 1.8728\n",
            "Epoch 22/100\n",
            "1/1 [==============================] - 0s 11ms/step - loss: 1.3284 - mae: 1.3284\n",
            "Epoch 23/100\n",
            "1/1 [==============================] - 0s 11ms/step - loss: 1.1331 - mae: 1.1331\n",
            "Epoch 24/100\n",
            "1/1 [==============================] - 0s 10ms/step - loss: 0.6149 - mae: 0.6149\n",
            "Epoch 25/100\n",
            "1/1 [==============================] - 0s 11ms/step - loss: 0.9865 - mae: 0.9865\n",
            "Epoch 26/100\n",
            "1/1 [==============================] - 0s 11ms/step - loss: 1.5399 - mae: 1.5399\n",
            "Epoch 27/100\n",
            "1/1 [==============================] - 0s 16ms/step - loss: 0.5790 - mae: 0.5790\n",
            "Epoch 28/100\n",
            "1/1 [==============================] - 0s 13ms/step - loss: 1.3715 - mae: 1.3715\n",
            "Epoch 29/100\n",
            "1/1 [==============================] - 0s 14ms/step - loss: 0.7182 - mae: 0.7182\n",
            "Epoch 30/100\n",
            "1/1 [==============================] - 0s 11ms/step - loss: 2.3560 - mae: 2.3560\n",
            "Epoch 31/100\n",
            "1/1 [==============================] - 0s 11ms/step - loss: 1.5845 - mae: 1.5845\n",
            "Epoch 32/100\n",
            "1/1 [==============================] - 0s 11ms/step - loss: 1.0813 - mae: 1.0813\n",
            "Epoch 33/100\n",
            "1/1 [==============================] - 0s 10ms/step - loss: 1.3796 - mae: 1.3796\n",
            "Epoch 34/100\n",
            "1/1 [==============================] - 0s 11ms/step - loss: 0.2686 - mae: 0.2686\n",
            "Epoch 35/100\n",
            "1/1 [==============================] - 0s 11ms/step - loss: 0.2268 - mae: 0.2268\n",
            "Epoch 36/100\n",
            "1/1 [==============================] - 0s 13ms/step - loss: 1.2692 - mae: 1.2692\n",
            "Epoch 37/100\n",
            "1/1 [==============================] - 0s 13ms/step - loss: 1.1538 - mae: 1.1538\n",
            "Epoch 38/100\n",
            "1/1 [==============================] - 0s 15ms/step - loss: 0.3489 - mae: 0.3489\n",
            "Epoch 39/100\n",
            "1/1 [==============================] - 0s 13ms/step - loss: 0.1844 - mae: 0.1844\n",
            "Epoch 40/100\n",
            "1/1 [==============================] - 0s 11ms/step - loss: 0.7421 - mae: 0.7421\n",
            "Epoch 41/100\n",
            "1/1 [==============================] - 0s 11ms/step - loss: 0.3257 - mae: 0.3257\n",
            "Epoch 42/100\n",
            "1/1 [==============================] - 0s 17ms/step - loss: 0.2784 - mae: 0.2784\n",
            "Epoch 43/100\n",
            "1/1 [==============================] - 0s 13ms/step - loss: 1.1557 - mae: 1.1557\n",
            "Epoch 44/100\n",
            "1/1 [==============================] - 0s 13ms/step - loss: 0.9365 - mae: 0.9365\n",
            "Epoch 45/100\n",
            "1/1 [==============================] - 0s 10ms/step - loss: 0.7202 - mae: 0.7202\n",
            "Epoch 46/100\n",
            "1/1 [==============================] - 0s 11ms/step - loss: 0.8980 - mae: 0.8980\n",
            "Epoch 47/100\n",
            "1/1 [==============================] - 0s 12ms/step - loss: 0.2544 - mae: 0.2544\n",
            "Epoch 48/100\n",
            "1/1 [==============================] - 0s 10ms/step - loss: 0.2449 - mae: 0.2449\n",
            "Epoch 49/100\n",
            "1/1 [==============================] - 0s 11ms/step - loss: 0.7861 - mae: 0.7861\n",
            "Epoch 50/100\n",
            "1/1 [==============================] - 0s 10ms/step - loss: 0.6231 - mae: 0.6231\n",
            "Epoch 51/100\n",
            "1/1 [==============================] - 0s 11ms/step - loss: 0.7500 - mae: 0.7500\n",
            "Epoch 52/100\n",
            "1/1 [==============================] - 0s 10ms/step - loss: 0.5026 - mae: 0.5026\n",
            "Epoch 53/100\n",
            "1/1 [==============================] - 0s 10ms/step - loss: 0.8603 - mae: 0.8603\n",
            "Epoch 54/100\n",
            "1/1 [==============================] - 0s 12ms/step - loss: 0.9289 - mae: 0.9289\n",
            "Epoch 55/100\n",
            "1/1 [==============================] - 0s 13ms/step - loss: 0.1113 - mae: 0.1113\n",
            "Epoch 56/100\n",
            "1/1 [==============================] - 0s 13ms/step - loss: 0.5433 - mae: 0.5433\n",
            "Epoch 57/100\n",
            "1/1 [==============================] - 0s 12ms/step - loss: 0.3399 - mae: 0.3399\n",
            "Epoch 58/100\n",
            "1/1 [==============================] - 0s 12ms/step - loss: 0.1077 - mae: 0.1077\n",
            "Epoch 59/100\n",
            "1/1 [==============================] - 0s 16ms/step - loss: 0.9547 - mae: 0.9547\n",
            "Epoch 60/100\n",
            "1/1 [==============================] - 0s 13ms/step - loss: 0.7647 - mae: 0.7647\n",
            "Epoch 61/100\n",
            "1/1 [==============================] - 0s 17ms/step - loss: 0.4758 - mae: 0.4758\n",
            "Epoch 62/100\n",
            "1/1 [==============================] - 0s 14ms/step - loss: 0.4671 - mae: 0.4671\n",
            "Epoch 63/100\n",
            "1/1 [==============================] - 0s 16ms/step - loss: 0.7272 - mae: 0.7272\n",
            "Epoch 64/100\n",
            "1/1 [==============================] - 0s 12ms/step - loss: 0.5503 - mae: 0.5503\n",
            "Epoch 65/100\n",
            "1/1 [==============================] - 0s 19ms/step - loss: 0.6906 - mae: 0.6906\n",
            "Epoch 66/100\n",
            "1/1 [==============================] - 0s 15ms/step - loss: 0.6784 - mae: 0.6784\n",
            "Epoch 67/100\n",
            "1/1 [==============================] - 0s 11ms/step - loss: 0.3718 - mae: 0.3718\n",
            "Epoch 68/100\n",
            "1/1 [==============================] - 0s 14ms/step - loss: 0.4787 - mae: 0.4787\n",
            "Epoch 69/100\n",
            "1/1 [==============================] - 0s 11ms/step - loss: 0.4893 - mae: 0.4893\n",
            "Epoch 70/100\n",
            "1/1 [==============================] - 0s 11ms/step - loss: 0.2807 - mae: 0.2807\n",
            "Epoch 71/100\n",
            "1/1 [==============================] - 0s 10ms/step - loss: 0.8728 - mae: 0.8728\n",
            "Epoch 72/100\n",
            "1/1 [==============================] - 0s 10ms/step - loss: 0.7697 - mae: 0.7697\n",
            "Epoch 73/100\n",
            "1/1 [==============================] - 0s 10ms/step - loss: 0.4103 - mae: 0.4103\n",
            "Epoch 74/100\n",
            "1/1 [==============================] - 0s 10ms/step - loss: 0.4469 - mae: 0.4469\n",
            "Epoch 75/100\n",
            "1/1 [==============================] - 0s 10ms/step - loss: 0.5620 - mae: 0.5620\n",
            "Epoch 76/100\n",
            "1/1 [==============================] - 0s 12ms/step - loss: 0.4082 - mae: 0.4082\n",
            "Epoch 77/100\n",
            "1/1 [==============================] - 0s 10ms/step - loss: 0.7119 - mae: 0.7119\n",
            "Epoch 78/100\n",
            "1/1 [==============================] - 0s 10ms/step - loss: 0.7817 - mae: 0.7817\n",
            "Epoch 79/100\n",
            "1/1 [==============================] - 0s 10ms/step - loss: 0.1407 - mae: 0.1407\n",
            "Epoch 80/100\n",
            "1/1 [==============================] - 0s 12ms/step - loss: 1.0535 - mae: 1.0535\n",
            "Epoch 81/100\n",
            "1/1 [==============================] - 0s 13ms/step - loss: 0.9650 - mae: 0.9650\n",
            "Epoch 82/100\n",
            "1/1 [==============================] - 0s 11ms/step - loss: 0.2021 - mae: 0.2021\n",
            "Epoch 83/100\n",
            "1/1 [==============================] - 0s 11ms/step - loss: 0.2564 - mae: 0.2564\n",
            "Epoch 84/100\n",
            "1/1 [==============================] - 0s 14ms/step - loss: 0.6573 - mae: 0.6573\n",
            "Epoch 85/100\n",
            "1/1 [==============================] - 0s 10ms/step - loss: 0.5397 - mae: 0.5397\n",
            "Epoch 86/100\n",
            "1/1 [==============================] - 0s 11ms/step - loss: 0.5951 - mae: 0.5951\n",
            "Epoch 87/100\n",
            "1/1 [==============================] - 0s 10ms/step - loss: 0.6834 - mae: 0.6834\n",
            "Epoch 88/100\n",
            "1/1 [==============================] - 0s 10ms/step - loss: 0.0960 - mae: 0.0960\n",
            "Epoch 89/100\n",
            "1/1 [==============================] - 0s 11ms/step - loss: 0.1583 - mae: 0.1583\n",
            "Epoch 90/100\n",
            "1/1 [==============================] - 0s 10ms/step - loss: 0.6336 - mae: 0.6336\n",
            "Epoch 91/100\n",
            "1/1 [==============================] - 0s 11ms/step - loss: 0.4212 - mae: 0.4212\n",
            "Epoch 92/100\n",
            "1/1 [==============================] - 0s 11ms/step - loss: 0.6402 - mae: 0.6402\n",
            "Epoch 93/100\n",
            "1/1 [==============================] - 0s 10ms/step - loss: 0.6112 - mae: 0.6112\n",
            "Epoch 94/100\n",
            "1/1 [==============================] - 0s 10ms/step - loss: 0.4033 - mae: 0.4033\n",
            "Epoch 95/100\n",
            "1/1 [==============================] - 0s 10ms/step - loss: 0.3509 - mae: 0.3509\n",
            "Epoch 96/100\n",
            "1/1 [==============================] - 0s 10ms/step - loss: 0.6057 - mae: 0.6057\n",
            "Epoch 97/100\n",
            "1/1 [==============================] - 0s 10ms/step - loss: 0.5069 - mae: 0.5069\n",
            "Epoch 98/100\n",
            "1/1 [==============================] - 0s 9ms/step - loss: 0.5185 - mae: 0.5185\n",
            "Epoch 99/100\n",
            "1/1 [==============================] - 0s 12ms/step - loss: 0.6363 - mae: 0.6363\n",
            "Epoch 100/100\n",
            "1/1 [==============================] - 0s 9ms/step - loss: 0.1427 - mae: 0.1427\n"
          ]
        },
        {
          "output_type": "execute_result",
          "data": {
            "text/plain": [
              "<keras.src.callbacks.History at 0x7b2ff0fa9b40>"
            ]
          },
          "metadata": {},
          "execution_count": 136
        }
      ]
    },
    {
      "cell_type": "code",
      "source": [
        "# Remind ourselves of the data\n",
        "X, y"
      ],
      "metadata": {
        "colab": {
          "base_uri": "https://localhost:8080/"
        },
        "id": "hO_Zukzb4Lgu",
        "outputId": "becdf0ee-8ea1-41b5-a87c-9beb4adaec41"
      },
      "execution_count": 137,
      "outputs": [
        {
          "output_type": "execute_result",
          "data": {
            "text/plain": [
              "(<tf.Tensor: shape=(8,), dtype=float64, numpy=array([-7., -4., -1.,  2.,  5.,  8., 11., 14.])>,\n",
              " <tf.Tensor: shape=(8,), dtype=float64, numpy=array([ 3.,  6.,  9., 12., 15., 18., 21., 24.])>)"
            ]
          },
          "metadata": {},
          "execution_count": 137
        }
      ]
    },
    {
      "cell_type": "code",
      "source": [
        "# Let's see if our model's prediction has improved\n",
        "model.predict([17.0])"
      ],
      "metadata": {
        "colab": {
          "base_uri": "https://localhost:8080/"
        },
        "id": "LfbIim1Y4jxI",
        "outputId": "edb45df4-b318-4dbe-fe43-0a062451d5e3"
      },
      "execution_count": 138,
      "outputs": [
        {
          "output_type": "stream",
          "name": "stdout",
          "text": [
            "1/1 [==============================] - 0s 126ms/step\n"
          ]
        },
        {
          "output_type": "execute_result",
          "data": {
            "text/plain": [
              "array([[26.940758]], dtype=float32)"
            ]
          },
          "metadata": {},
          "execution_count": 138
        }
      ]
    },
    {
      "cell_type": "markdown",
      "source": [
        "### Common ways to improve a Deep Learning model\n",
        "- Adding Layers\n",
        "- Increase the number of hidden units\n",
        "- Change the activation function of each layer\n",
        "- Change the optimization function\n",
        "- Change the learning rate of the optimization function\n",
        "- Fitting on more data\n",
        "- Fitting for longer"
      ],
      "metadata": {
        "id": "SD3h0Rhf4p3j"
      }
    },
    {
      "cell_type": "markdown",
      "source": [
        "### Evaluating a model\n",
        "\n",
        "In practice, a typical workflow you'll go through when building neural networks is:\n",
        "\n",
        "```\n",
        "Build a model -> Fit it -> evaluate it -> tweak a model -> fit it -> tweak a model -> fit it...\n",
        "```"
      ],
      "metadata": {
        "id": "cNG9ORVm64Xv"
      }
    },
    {
      "cell_type": "markdown",
      "source": [
        "When it comes to evaluation.. there are 3 words you should memorize:\n",
        "\n",
        "> \"Visualize, Visualize,...\"\n",
        "\n",
        "It's a good idea to visualize:\n",
        "* The data - what data are working with? what does it look like?\n",
        "* The model itself - what does our model look like?\n",
        "* The training of a model - how does a model perform while it learns?\n",
        "* The predictions of the model - how do the predictions of a model line up against the ground truth (the original labels)?"
      ],
      "metadata": {
        "id": "brTwNhiv7Ym-"
      }
    },
    {
      "cell_type": "code",
      "source": [
        "# Make a bigger dataset\n",
        "X = tf.range(-100, 100, 4)\n",
        "\n",
        "# Make labels for the dataset\n",
        "Y = X + 10\n",
        "\n",
        "X, Y"
      ],
      "metadata": {
        "colab": {
          "base_uri": "https://localhost:8080/"
        },
        "id": "4LzapqLN8VRj",
        "outputId": "34add6f1-6043-4ba2-dc42-b2e8abe1f488"
      },
      "execution_count": 139,
      "outputs": [
        {
          "output_type": "execute_result",
          "data": {
            "text/plain": [
              "(<tf.Tensor: shape=(50,), dtype=int32, numpy=\n",
              " array([-100,  -96,  -92,  -88,  -84,  -80,  -76,  -72,  -68,  -64,  -60,\n",
              "         -56,  -52,  -48,  -44,  -40,  -36,  -32,  -28,  -24,  -20,  -16,\n",
              "         -12,   -8,   -4,    0,    4,    8,   12,   16,   20,   24,   28,\n",
              "          32,   36,   40,   44,   48,   52,   56,   60,   64,   68,   72,\n",
              "          76,   80,   84,   88,   92,   96], dtype=int32)>,\n",
              " <tf.Tensor: shape=(50,), dtype=int32, numpy=\n",
              " array([-90, -86, -82, -78, -74, -70, -66, -62, -58, -54, -50, -46, -42,\n",
              "        -38, -34, -30, -26, -22, -18, -14, -10,  -6,  -2,   2,   6,  10,\n",
              "         14,  18,  22,  26,  30,  34,  38,  42,  46,  50,  54,  58,  62,\n",
              "         66,  70,  74,  78,  82,  86,  90,  94,  98, 102, 106], dtype=int32)>)"
            ]
          },
          "metadata": {},
          "execution_count": 139
        }
      ]
    },
    {
      "cell_type": "code",
      "source": [
        "# Visualize the data\n",
        "plt.scatter(X, Y)"
      ],
      "metadata": {
        "colab": {
          "base_uri": "https://localhost:8080/",
          "height": 447
        },
        "id": "WLdxhO1C9I8c",
        "outputId": "a1f7950a-3525-40b5-8ee0-d30ab3e2a62d"
      },
      "execution_count": 140,
      "outputs": [
        {
          "output_type": "execute_result",
          "data": {
            "text/plain": [
              "<matplotlib.collections.PathCollection at 0x7b2ff0d55300>"
            ]
          },
          "metadata": {},
          "execution_count": 140
        },
        {
          "output_type": "display_data",
          "data": {
            "text/plain": [
              "<Figure size 640x480 with 1 Axes>"
            ],
            "image/png": "[encoded data removed]"
          },
          "metadata": {}
        }
      ]
    },
    {
      "cell_type": "markdown",
      "source": [
        "### The 3 sets...\n",
        "\n",
        "* **Training set** - the model learns from this data, which is typically 70%-80% of the total data you have available.\n",
        "* **Validation set** - the model gets tuned on this data, which is typically 10-15% of the data available.\n",
        "* **Test set** - the model gets evaluated on this data to test what it has learned, this set is typically 10-15% of the total data available."
      ],
      "metadata": {
        "id": "d1K0jY6G-zHF"
      }
    },
    {
      "cell_type": "code",
      "source": [
        "### Split the data into train and test sets\n",
        "X_train = X[:40]\n",
        "y_train = Y[:40]\n",
        "\n",
        "X_test = X[40:]\n",
        "y_test = Y[40:]\n",
        "\n",
        "len(X_train), len(y_train), len(X_test), len(y_test)"
      ],
      "metadata": {
        "colab": {
          "base_uri": "https://localhost:8080/"
        },
        "id": "lYFrbKuK9NTG",
        "outputId": "efd16c36-98fe-42ff-fe47-32834a7f74ee"
      },
      "execution_count": 141,
      "outputs": [
        {
          "output_type": "execute_result",
          "data": {
            "text/plain": [
              "(40, 40, 10, 10)"
            ]
          },
          "metadata": {},
          "execution_count": 141
        }
      ]
    },
    {
      "cell_type": "markdown",
      "source": [
        "### Visualize the data\n",
        "Now we've got our data in training and test sets... let's visualize it again!"
      ],
      "metadata": {
        "id": "YE48KgNVAyIC"
      }
    },
    {
      "cell_type": "code",
      "source": [
        "plt.figure(figsize=(10, 7))\n",
        "\n",
        "# Plot training in blue\n",
        "plt.scatter(X_train, y_train, c=\"b\", label=\"Training\")\n",
        "# Plot validation in red\n",
        "plt.scatter(X_test, y_test, c=\"r\", label=\"Testing\")\n",
        "# Show a legend\n",
        "plt.legend();"
      ],
      "metadata": {
        "colab": {
          "base_uri": "https://localhost:8080/",
          "height": 467
        },
        "id": "QnaiBsbMA53U",
        "outputId": "95f01313-5a63-4b3c-c683-e0fce5b54e40"
      },
      "execution_count": 142,
      "outputs": [
        {
          "output_type": "display_data",
          "data": {
            "text/plain": [
              "<Figure size 1000x700 with 1 Axes>"
            ],
            "image/png": "[encoded data removed]"
          },
          "metadata": {}
        }
      ]
    },
    {
      "cell_type": "code",
      "source": [
        "# Let's look at how to build a neural network for our data\n",
        "\n",
        "tf.random.set_seed(42)\n",
        "\n",
        "# 1. Create a model (Specified to your problem)\n",
        "model_1 = tf.keras.Sequential([\n",
        "    # tf.keras.layers.Dense(32, activation='relu'),\n",
        "    # tf.keras.layers.Dense(64, activation='relu'),\n",
        "    # tf.keras.layers.Dense(128, activation='relu'),\n",
        "    tf.keras.layers.Dense(1)\n",
        "])\n",
        "\n",
        "# 2. Compile the model_1\n",
        "model_1.compile(loss=tf.keras.losses.mae,\n",
        "              optimizer=tf.keras.optimizers.SGD(learning_rate=1e-3),\n",
        "              metrics=['mae'])\n",
        "\n",
        "# # 3. Fit the model_1\n",
        "# model_1.fit(tf.expand_dims(X_train, axis=-1), y_train, epochs=100)"
      ],
      "metadata": {
        "id": "u5DidCks9krf"
      },
      "execution_count": 143,
      "outputs": []
    },
    {
      "cell_type": "markdown",
      "source": [
        "### Visualize our model"
      ],
      "metadata": {
        "id": "s3-lreIn-ar3"
      }
    },
    {
      "cell_type": "code",
      "source": [
        "# model_1.summary() Will throw an error (since it wasn't .build() yet)"
      ],
      "metadata": {
        "id": "5wlz1mxNCb7p"
      },
      "execution_count": 144,
      "outputs": []
    },
    {
      "cell_type": "code",
      "source": [
        "# Build our model\n",
        "model_1.build(input_shape=(None, 1))\n",
        "model_1.summary()"
      ],
      "metadata": {
        "colab": {
          "base_uri": "https://localhost:8080/"
        },
        "id": "iJHjW1FDCOZZ",
        "outputId": "4ccbf8cc-e305-4276-f47d-088676b56158"
      },
      "execution_count": 145,
      "outputs": [
        {
          "output_type": "stream",
          "name": "stdout",
          "text": [
            "Model: \"sequential_32\"\n",
            "_________________________________________________________________\n",
            " Layer (type)                Output Shape              Param #   \n",
            "=================================================================\n",
            " dense_78 (Dense)            (None, 1)                 2         \n",
            "                                                                 \n",
            "=================================================================\n",
            "Total params: 2 (8.00 Byte)\n",
            "Trainable params: 2 (8.00 Byte)\n",
            "Non-trainable params: 0 (0.00 Byte)\n",
            "_________________________________________________________________\n"
          ]
        }
      ]
    },
    {
      "cell_type": "code",
      "source": [
        "# Let's create a model which builds automatically by defining the input_shape argument\n",
        "tf.random.set_seed(42)\n",
        "\n",
        "# 1. Create a model (Specified to your problem)\n",
        "model_2 = tf.keras.Sequential([\n",
        "    tf.keras.layers.Dense(128, activation='relu', input_shape=[1], name='input_layer'),\n",
        "    tf.keras.layers.Dense(1, input_shape=[1], name='output_layer')\n",
        "], name='model_2')\n",
        "\n",
        "# 2. Compile the model\n",
        "model_2.compile(loss=tf.keras.losses.mae,\n",
        "              optimizer=tf.keras.optimizers.SGD(learning_rate=1e-3),\n",
        "              metrics=['mae'])"
      ],
      "metadata": {
        "id": "AbCwqg3wCWZs"
      },
      "execution_count": 146,
      "outputs": []
    },
    {
      "cell_type": "code",
      "source": [
        "model_2.summary()"
      ],
      "metadata": {
        "colab": {
          "base_uri": "https://localhost:8080/"
        },
        "id": "BYFsAEwNC_s8",
        "outputId": "33fa9212-d8cf-4707-a13c-5b0c30574329"
      },
      "execution_count": 147,
      "outputs": [
        {
          "output_type": "stream",
          "name": "stdout",
          "text": [
            "Model: \"model_2\"\n",
            "_________________________________________________________________\n",
            " Layer (type)                Output Shape              Param #   \n",
            "=================================================================\n",
            " input_layer (Dense)         (None, 128)               256       \n",
            "                                                                 \n",
            " output_layer (Dense)        (None, 1)                 129       \n",
            "                                                                 \n",
            "=================================================================\n",
            "Total params: 385 (1.50 KB)\n",
            "Trainable params: 385 (1.50 KB)\n",
            "Non-trainable params: 0 (0.00 Byte)\n",
            "_________________________________________________________________\n"
          ]
        }
      ]
    },
    {
      "cell_type": "markdown",
      "source": [
        "* Total params - total no. of parameters in the model.\n",
        "* Trainable parameters - these are the parameters (patterns) the model can update as it trains.\n",
        "* Non-trainable params- these parameters aren't updated during training (this is typical when you bring in already learn patterns or parameters from other models during **transfer learning**).\n",
        "\n",
        "📖**Resource:** For more in-depth overview of the trainable parameters with a layer, check out [MIT's introduction to deep learning video](https://www.youtube.com/watch?v=QDX-1M5Nj7s).\n",
        "\n",
        "📑**Exercise:** Try playing around with the no. of hidden units in the dense layer, see how that effects the number of parameters (total and trainable) by calling `model.summary()`"
      ],
      "metadata": {
        "id": "DPFMrb2zDB19"
      }
    },
    {
      "cell_type": "code",
      "source": [
        "# Let's fit our model to the training data\n",
        "model_2.fit(X_train, y_train, epochs=100, verbose=0)"
      ],
      "metadata": {
        "colab": {
          "base_uri": "https://localhost:8080/"
        },
        "id": "7zaFGRHeDasx",
        "outputId": "461868b0-184a-48f4-e119-d81a469de180"
      },
      "execution_count": 148,
      "outputs": [
        {
          "output_type": "execute_result",
          "data": {
            "text/plain": [
              "<keras.src.callbacks.History at 0x7b2ff0c4ec80>"
            ]
          },
          "metadata": {},
          "execution_count": 148
        }
      ]
    },
    {
      "cell_type": "code",
      "source": [
        "# Get a summary of our model\n",
        "model_2.summary()"
      ],
      "metadata": {
        "colab": {
          "base_uri": "https://localhost:8080/"
        },
        "id": "mcN1D0XQFwm-",
        "outputId": "5d612dfe-8018-4347-d687-1613bb481f59"
      },
      "execution_count": 149,
      "outputs": [
        {
          "output_type": "stream",
          "name": "stdout",
          "text": [
            "Model: \"model_2\"\n",
            "_________________________________________________________________\n",
            " Layer (type)                Output Shape              Param #   \n",
            "=================================================================\n",
            " input_layer (Dense)         (None, 128)               256       \n",
            "                                                                 \n",
            " output_layer (Dense)        (None, 1)                 129       \n",
            "                                                                 \n",
            "=================================================================\n",
            "Total params: 385 (1.50 KB)\n",
            "Trainable params: 385 (1.50 KB)\n",
            "Non-trainable params: 0 (0.00 Byte)\n",
            "_________________________________________________________________\n"
          ]
        }
      ]
    },
    {
      "cell_type": "code",
      "source": [
        "from tensorflow.keras.utils import plot_model\n",
        "\n",
        "plot_model(model_2, show_shapes=True)"
      ],
      "metadata": {
        "colab": {
          "base_uri": "https://localhost:8080/",
          "height": 312
        },
        "id": "wj9IowPhO_g5",
        "outputId": "07875a3b-3ae7-4c27-c21b-17cc10a6bc0d"
      },
      "execution_count": 150,
      "outputs": [
        {
          "output_type": "execute_result",
          "data": {
            "image/png": "[encoded data removed]",
            "text/plain": [
              "<IPython.core.display.Image object>"
            ]
          },
          "metadata": {},
          "execution_count": 150
        }
      ]
    },
    {
      "cell_type": "markdown",
      "source": [
        "### Visualizing our model's predictions\n",
        "\n",
        "To visualize predictions, it's a good idea to plot them against the ground truth labels.\n",
        "\n",
        "Often you'll see this in the form of `y_test` or `y_true` versus `y_pred` (ground truth versus model predictions)."
      ],
      "metadata": {
        "id": "nSPuFxaGP-rx"
      }
    },
    {
      "cell_type": "code",
      "source": [
        "# Make some predictions\n",
        "y_pred = model_2.predict(X_test)\n",
        "y_pred"
      ],
      "metadata": {
        "colab": {
          "base_uri": "https://localhost:8080/"
        },
        "id": "s_X_8q9iRljy",
        "outputId": "0e39c96b-d383-402a-9180-ddc378f3005a"
      },
      "execution_count": 151,
      "outputs": [
        {
          "output_type": "stream",
          "name": "stdout",
          "text": [
            "1/1 [==============================] - 0s 51ms/step\n"
          ]
        },
        {
          "output_type": "execute_result",
          "data": {
            "text/plain": [
              "array([[ 73.246666],\n",
              "       [ 78.12046 ],\n",
              "       [ 82.99425 ],\n",
              "       [ 87.86804 ],\n",
              "       [ 92.74184 ],\n",
              "       [ 97.61562 ],\n",
              "       [102.48942 ],\n",
              "       [107.36322 ],\n",
              "       [112.237015],\n",
              "       [117.1108  ]], dtype=float32)"
            ]
          },
          "metadata": {},
          "execution_count": 151
        }
      ]
    },
    {
      "cell_type": "code",
      "source": [
        "y_test"
      ],
      "metadata": {
        "colab": {
          "base_uri": "https://localhost:8080/"
        },
        "id": "IOv7x99kSLMR",
        "outputId": "4831d4c8-9195-45c4-a5dc-e44887279489"
      },
      "execution_count": 152,
      "outputs": [
        {
          "output_type": "execute_result",
          "data": {
            "text/plain": [
              "<tf.Tensor: shape=(10,), dtype=int32, numpy=array([ 70,  74,  78,  82,  86,  90,  94,  98, 102, 106], dtype=int32)>"
            ]
          },
          "metadata": {},
          "execution_count": 152
        }
      ]
    },
    {
      "cell_type": "markdown",
      "source": [
        "🔑**Note:** If you feel like you're going to reuse some kind of functionality in the future, it's a good idea to create a function for it."
      ],
      "metadata": {
        "id": "ilcxeOpmSVD2"
      }
    },
    {
      "cell_type": "code",
      "source": [
        "# Let's create a plotting a function\n",
        "def plot_predictions(train_data=X_train,\n",
        "                     train_labels=y_train,\n",
        "                     test_data=X_test,\n",
        "                     test_labels=y_test,\n",
        "                     predictions=y_pred):\n",
        "  '''\n",
        "  Plots training data, testing data, and compares the predictions to the ground truth labels.\n",
        "  '''\n",
        "  plt.figure(figsize=(10,7))\n",
        "  # Plot training data in blue\n",
        "  plt.scatter(train_data, train_labels, c=\"b\", label=\"Training\")\n",
        "  # Plot testing data in red\n",
        "  plt.scatter(test_data, test_labels, c=\"lightgreen\", label=\"Testing\")\n",
        "  # Plot the predictions in green\n",
        "  plt.scatter(test_data, predictions, c=\"r\", label=\"Predictions\")\n",
        "  # Show the legend\n",
        "  plt.legend()\n",
        "  # Show the plot\n",
        "  plt.show();"
      ],
      "metadata": {
        "id": "tFo13739SNAX"
      },
      "execution_count": 153,
      "outputs": []
    },
    {
      "cell_type": "code",
      "source": [
        "plot_predictions(train_data=X_train, train_labels=y_train,\n",
        "                 test_data=X_test, test_labels=y_test,\n",
        "                 predictions=y_pred)"
      ],
      "metadata": {
        "colab": {
          "base_uri": "https://localhost:8080/",
          "height": 463
        },
        "id": "pDv0DxafTq-z",
        "outputId": "5d71359c-0449-49bf-b56b-dd186ab1589c"
      },
      "execution_count": 154,
      "outputs": [
        {
          "output_type": "display_data",
          "data": {
            "text/plain": [
              "<Figure size 1000x700 with 1 Axes>"
            ],
            "image/png": "[encoded data removed]"
          },
          "metadata": {}
        }
      ]
    },
    {
      "cell_type": "markdown",
      "source": [
        "### Evaluating our model's predictions with regression metrics\n",
        "\n",
        "Depending on the problem you're working on, there will be different evaluation metrics your model's performance.\n",
        "\n",
        "Since we're working on a regression, two of the main metrics:\n",
        "* **MAE** - mean absolute error, \"on average, how wrong is each of my model's predictions\"\n",
        "\n",
        "`(tf.keras.losses.MAE())`\n",
        "`tf.keras.losses.mean_absolute_error`\n",
        "* **MSE** - mean square error, \"square the average errors\"\n",
        "\n",
        "`tf.keras.losses.MSE()`\n",
        "`tf.keras.losses.mean_squared_error`"
      ],
      "metadata": {
        "id": "0m7PLPFHT1Cd"
      }
    },
    {
      "cell_type": "code",
      "source": [
        "# Evaluate the model on the test\n",
        "model_2.evaluate(X_test, y_test)"
      ],
      "metadata": {
        "id": "qrQag7NlUXBp",
        "colab": {
          "base_uri": "https://localhost:8080/"
        },
        "outputId": "2974f7a6-b6b7-4c5d-d526-cebd045b4249"
      },
      "execution_count": 155,
      "outputs": [
        {
          "output_type": "stream",
          "name": "stdout",
          "text": [
            "1/1 [==============================] - 0s 116ms/step - loss: 7.1787 - mae: 7.1787\n"
          ]
        },
        {
          "output_type": "execute_result",
          "data": {
            "text/plain": [
              "[7.178737640380859, 7.178737640380859]"
            ]
          },
          "metadata": {},
          "execution_count": 155
        }
      ]
    },
    {
      "cell_type": "code",
      "source": [
        "# Calculate the mean absolute error\n",
        "mae = tf.keras.losses.mean_absolute_error(y_true=y_test, y_pred=tf.squeeze(tf.constant(y_pred)))\n",
        "mae"
      ],
      "metadata": {
        "colab": {
          "base_uri": "https://localhost:8080/"
        },
        "id": "sraVP2oqW-2R",
        "outputId": "3941d900-8bb5-4baf-e3cb-bdbbbdc533e9"
      },
      "execution_count": 156,
      "outputs": [
        {
          "output_type": "execute_result",
          "data": {
            "text/plain": [
              "<tf.Tensor: shape=(), dtype=float32, numpy=7.178733>"
            ]
          },
          "metadata": {},
          "execution_count": 156
        }
      ]
    },
    {
      "cell_type": "code",
      "source": [
        "y_pred"
      ],
      "metadata": {
        "colab": {
          "base_uri": "https://localhost:8080/"
        },
        "id": "yredbHr1WuPk",
        "outputId": "95998184-e418-41e8-a3b3-93c653b5f37f"
      },
      "execution_count": 157,
      "outputs": [
        {
          "output_type": "execute_result",
          "data": {
            "text/plain": [
              "array([[ 73.246666],\n",
              "       [ 78.12046 ],\n",
              "       [ 82.99425 ],\n",
              "       [ 87.86804 ],\n",
              "       [ 92.74184 ],\n",
              "       [ 97.61562 ],\n",
              "       [102.48942 ],\n",
              "       [107.36322 ],\n",
              "       [112.237015],\n",
              "       [117.1108  ]], dtype=float32)"
            ]
          },
          "metadata": {},
          "execution_count": 157
        }
      ]
    },
    {
      "cell_type": "code",
      "source": [
        "y_test"
      ],
      "metadata": {
        "colab": {
          "base_uri": "https://localhost:8080/"
        },
        "id": "dbqjiA4ZW7AZ",
        "outputId": "50441296-2a9b-46e2-90d4-d04f4c248aa9"
      },
      "execution_count": 158,
      "outputs": [
        {
          "output_type": "execute_result",
          "data": {
            "text/plain": [
              "<tf.Tensor: shape=(10,), dtype=int32, numpy=array([ 70,  74,  78,  82,  86,  90,  94,  98, 102, 106], dtype=int32)>"
            ]
          },
          "metadata": {},
          "execution_count": 158
        }
      ]
    },
    {
      "cell_type": "code",
      "source": [
        "# Calculate the mean squared error\n",
        "mse = tf.keras.losses.mean_squared_error(y_true=y_test, y_pred=tf.squeeze(tf.constant(y_pred)))\n",
        "mse"
      ],
      "metadata": {
        "colab": {
          "base_uri": "https://localhost:8080/"
        },
        "id": "v6XQGimbW8RS",
        "outputId": "00ae90c5-871d-4503-c048-91d17d403ea6"
      },
      "execution_count": 159,
      "outputs": [
        {
          "output_type": "execute_result",
          "data": {
            "text/plain": [
              "<tf.Tensor: shape=(), dtype=float32, numpy=57.833202>"
            ]
          },
          "metadata": {},
          "execution_count": 159
        }
      ]
    },
    {
      "cell_type": "markdown",
      "source": [
        "🔑**Note:** Combination of MSE and MAE is called Huber Loss. Less sensitive to outliers than MSE\n",
        "\n",
        "`tf.keras.losses.Huber()`"
      ],
      "metadata": {
        "id": "WX4CoPHHZOdK"
      }
    },
    {
      "cell_type": "code",
      "source": [
        "# Make some functions to reuse MAE and MSE\n",
        "def mae(y_true, y_pred):\n",
        "  return tf.keras.losses.mean_absolute_error(y_true=y_true,\n",
        "                                             y_pred=y_pred)\n",
        "\n",
        "def mse(y_true, y_pred):\n",
        "  return tf.keras.losses.mean_squared_error(y_true=y_true,\n",
        "                                            y_pred=y_pred)"
      ],
      "metadata": {
        "id": "mOHF2cTTY0EB"
      },
      "execution_count": 160,
      "outputs": []
    },
    {
      "cell_type": "markdown",
      "source": [
        "### Running experiments to improve our model\n",
        "\n",
        "```\n",
        "Build a model -> fit it -> evaluate it -> tweak it -> fit it\n",
        "-> evaluate it -> tweak it -> fit it -> evaluate it - > repeat\n",
        "```\n",
        "\n",
        "1. Get more data - get more examples to train on (more opportunities to learn patterns or relationships b/w features and labels).\n",
        "2. Make your model larger (using more complex model) - this might come in form of more layers or more hidden units in each layer.\n",
        "3. Train for longer - give your model more of a chance to find patterns in the data.\n",
        "\n",
        "Let's do 3 modelling experiments:\n",
        "\n",
        "1. `model_1` - same as the original model, 1 layer, trained for 100 epochs.\n",
        "2. `model_2` - 2 layers, trained for 100 epochs\n",
        "3. `model_3` - 3 layers, trained for 500 epochs\n",
        "\n",
        "**Build `model_1`**"
      ],
      "metadata": {
        "id": "wcQ4iPIjaGlt"
      }
    },
    {
      "cell_type": "code",
      "source": [
        "# Set random seed\n",
        "tf.random.set_seed(42)\n",
        "\n",
        "# 1. Create the model\n",
        "model_1 = tf.keras.Sequential([\n",
        "    tf.keras.layers.Dense(1)\n",
        "])\n",
        "\n",
        "# 2. Compile the model\n",
        "model_1.compile(loss=tf.keras.losses.mae,\n",
        "                optimizer=tf.keras.optimizers.SGD(),\n",
        "                metrics=[\"mae\"])\n",
        "\n",
        "# 3. Fit the model\n",
        "model_1.fit(tf.expand_dims(X_train, axis=-1), y_train, epochs=100)"
      ],
      "metadata": {
        "colab": {
          "base_uri": "https://localhost:8080/"
        },
        "id": "PHGmINHkatgs",
        "outputId": "63e3fa68-bf55-4694-aa52-473729b26d6b"
      },
      "execution_count": 161,
      "outputs": [
        {
          "output_type": "stream",
          "name": "stdout",
          "text": [
            "Epoch 1/100\n",
            "2/2 [==============================] - 0s 10ms/step - loss: 13.6878 - mae: 13.6878\n",
            "Epoch 2/100\n",
            "2/2 [==============================] - 0s 7ms/step - loss: 10.3907 - mae: 10.3907\n",
            "Epoch 3/100\n",
            "2/2 [==============================] - 0s 6ms/step - loss: 10.7869 - mae: 10.7869\n",
            "Epoch 4/100\n",
            "2/2 [==============================] - 0s 7ms/step - loss: 9.4909 - mae: 9.4909\n",
            "Epoch 5/100\n",
            "2/2 [==============================] - 0s 6ms/step - loss: 10.3891 - mae: 10.3891\n",
            "Epoch 6/100\n",
            "2/2 [==============================] - 0s 6ms/step - loss: 9.6248 - mae: 9.6248\n",
            "Epoch 7/100\n",
            "2/2 [==============================] - 0s 6ms/step - loss: 8.7327 - mae: 8.7327\n",
            "Epoch 8/100\n",
            "2/2 [==============================] - 0s 6ms/step - loss: 9.0562 - mae: 9.0562\n",
            "Epoch 9/100\n",
            "2/2 [==============================] - 0s 7ms/step - loss: 19.1614 - mae: 19.1614\n",
            "Epoch 10/100\n",
            "2/2 [==============================] - 0s 6ms/step - loss: 10.3409 - mae: 10.3409\n",
            "Epoch 11/100\n",
            "2/2 [==============================] - 0s 6ms/step - loss: 8.4852 - mae: 8.4852\n",
            "Epoch 12/100\n",
            "2/2 [==============================] - 0s 8ms/step - loss: 10.8450 - mae: 10.8450\n",
            "Epoch 13/100\n",
            "2/2 [==============================] - 0s 7ms/step - loss: 9.8913 - mae: 9.8913\n",
            "Epoch 14/100\n",
            "2/2 [==============================] - 0s 6ms/step - loss: 12.1082 - mae: 12.1082\n",
            "Epoch 15/100\n",
            "2/2 [==============================] - 0s 7ms/step - loss: 12.3628 - mae: 12.3628\n",
            "Epoch 16/100\n",
            "2/2 [==============================] - 0s 8ms/step - loss: 8.4273 - mae: 8.4273\n",
            "Epoch 17/100\n",
            "2/2 [==============================] - 0s 7ms/step - loss: 13.3808 - mae: 13.3808\n",
            "Epoch 18/100\n",
            "2/2 [==============================] - 0s 8ms/step - loss: 11.1467 - mae: 11.1467\n",
            "Epoch 19/100\n",
            "2/2 [==============================] - 0s 6ms/step - loss: 18.3878 - mae: 18.3878\n",
            "Epoch 20/100\n",
            "2/2 [==============================] - 0s 7ms/step - loss: 15.0894 - mae: 15.0894\n",
            "Epoch 21/100\n",
            "2/2 [==============================] - 0s 7ms/step - loss: 11.0537 - mae: 11.0537\n",
            "Epoch 22/100\n",
            "2/2 [==============================] - 0s 6ms/step - loss: 8.1842 - mae: 8.1842\n",
            "Epoch 23/100\n",
            "2/2 [==============================] - 0s 7ms/step - loss: 9.4853 - mae: 9.4853\n",
            "Epoch 24/100\n",
            "2/2 [==============================] - 0s 7ms/step - loss: 7.6648 - mae: 7.6648\n",
            "Epoch 25/100\n",
            "2/2 [==============================] - 0s 6ms/step - loss: 13.1282 - mae: 13.1282\n",
            "Epoch 26/100\n",
            "2/2 [==============================] - 0s 6ms/step - loss: 16.4604 - mae: 16.4604\n",
            "Epoch 27/100\n",
            "2/2 [==============================] - 0s 7ms/step - loss: 13.1978 - mae: 13.1978\n",
            "Epoch 28/100\n",
            "2/2 [==============================] - 0s 7ms/step - loss: 14.2974 - mae: 14.2974\n",
            "Epoch 29/100\n",
            "2/2 [==============================] - 0s 7ms/step - loss: 10.0755 - mae: 10.0755\n",
            "Epoch 30/100\n",
            "2/2 [==============================] - 0s 6ms/step - loss: 16.4052 - mae: 16.4052\n",
            "Epoch 31/100\n",
            "2/2 [==============================] - 0s 5ms/step - loss: 23.5826 - mae: 23.5826\n",
            "Epoch 32/100\n",
            "2/2 [==============================] - 0s 7ms/step - loss: 7.6078 - mae: 7.6078\n",
            "Epoch 33/100\n",
            "2/2 [==============================] - 0s 7ms/step - loss: 9.3052 - mae: 9.3052\n",
            "Epoch 34/100\n",
            "2/2 [==============================] - 0s 7ms/step - loss: 13.6832 - mae: 13.6832\n",
            "Epoch 35/100\n",
            "2/2 [==============================] - 0s 7ms/step - loss: 11.1501 - mae: 11.1501\n",
            "Epoch 36/100\n",
            "2/2 [==============================] - 0s 7ms/step - loss: 13.3712 - mae: 13.3712\n",
            "Epoch 37/100\n",
            "2/2 [==============================] - 0s 6ms/step - loss: 9.4522 - mae: 9.4522\n",
            "Epoch 38/100\n",
            "2/2 [==============================] - 0s 6ms/step - loss: 10.1050 - mae: 10.1050\n",
            "Epoch 39/100\n",
            "2/2 [==============================] - 0s 6ms/step - loss: 10.2021 - mae: 10.2021\n",
            "Epoch 40/100\n",
            "2/2 [==============================] - 0s 6ms/step - loss: 10.9465 - mae: 10.9465\n",
            "Epoch 41/100\n",
            "2/2 [==============================] - 0s 7ms/step - loss: 7.9221 - mae: 7.9221\n",
            "Epoch 42/100\n",
            "2/2 [==============================] - 0s 6ms/step - loss: 10.5831 - mae: 10.5831\n",
            "Epoch 43/100\n",
            "2/2 [==============================] - 0s 6ms/step - loss: 7.2075 - mae: 7.2075\n",
            "Epoch 44/100\n",
            "2/2 [==============================] - 0s 7ms/step - loss: 7.9959 - mae: 7.9959\n",
            "Epoch 45/100\n",
            "2/2 [==============================] - 0s 7ms/step - loss: 9.7895 - mae: 9.7895\n",
            "Epoch 46/100\n",
            "2/2 [==============================] - 0s 7ms/step - loss: 8.8659 - mae: 8.8659\n",
            "Epoch 47/100\n",
            "2/2 [==============================] - 0s 7ms/step - loss: 7.5696 - mae: 7.5696\n",
            "Epoch 48/100\n",
            "2/2 [==============================] - 0s 6ms/step - loss: 8.5690 - mae: 8.5690\n",
            "Epoch 49/100\n",
            "2/2 [==============================] - 0s 7ms/step - loss: 9.9951 - mae: 9.9951\n",
            "Epoch 50/100\n",
            "2/2 [==============================] - 0s 7ms/step - loss: 9.0206 - mae: 9.0206\n",
            "Epoch 51/100\n",
            "2/2 [==============================] - 0s 8ms/step - loss: 10.6650 - mae: 10.6650\n",
            "Epoch 52/100\n",
            "2/2 [==============================] - 0s 7ms/step - loss: 15.2933 - mae: 15.2933\n",
            "Epoch 53/100\n",
            "2/2 [==============================] - 0s 7ms/step - loss: 14.3148 - mae: 14.3148\n",
            "Epoch 54/100\n",
            "2/2 [==============================] - 0s 7ms/step - loss: 21.6099 - mae: 21.6099\n",
            "Epoch 55/100\n",
            "2/2 [==============================] - 0s 8ms/step - loss: 15.9904 - mae: 15.9904\n",
            "Epoch 56/100\n",
            "2/2 [==============================] - 0s 7ms/step - loss: 10.2854 - mae: 10.2854\n",
            "Epoch 57/100\n",
            "2/2 [==============================] - 0s 6ms/step - loss: 9.7646 - mae: 9.7646\n",
            "Epoch 58/100\n",
            "2/2 [==============================] - 0s 7ms/step - loss: 9.0503 - mae: 9.0503\n",
            "Epoch 59/100\n",
            "2/2 [==============================] - 0s 8ms/step - loss: 8.2553 - mae: 8.2553\n",
            "Epoch 60/100\n",
            "2/2 [==============================] - 0s 7ms/step - loss: 9.3520 - mae: 9.3520\n",
            "Epoch 61/100\n",
            "2/2 [==============================] - 0s 7ms/step - loss: 11.1611 - mae: 11.1611\n",
            "Epoch 62/100\n",
            "2/2 [==============================] - 0s 7ms/step - loss: 12.0741 - mae: 12.0741\n",
            "Epoch 63/100\n",
            "2/2 [==============================] - 0s 7ms/step - loss: 7.2661 - mae: 7.2661\n",
            "Epoch 64/100\n",
            "2/2 [==============================] - 0s 7ms/step - loss: 12.4280 - mae: 12.4280\n",
            "Epoch 65/100\n",
            "2/2 [==============================] - 0s 7ms/step - loss: 10.4970 - mae: 10.4970\n",
            "Epoch 66/100\n",
            "2/2 [==============================] - 0s 7ms/step - loss: 15.6071 - mae: 15.6071\n",
            "Epoch 67/100\n",
            "2/2 [==============================] - 0s 7ms/step - loss: 10.0082 - mae: 10.0082\n",
            "Epoch 68/100\n",
            "2/2 [==============================] - 0s 7ms/step - loss: 8.7182 - mae: 8.7182\n",
            "Epoch 69/100\n",
            "2/2 [==============================] - 0s 7ms/step - loss: 13.4836 - mae: 13.4836\n",
            "Epoch 70/100\n",
            "2/2 [==============================] - 0s 7ms/step - loss: 7.4652 - mae: 7.4652\n",
            "Epoch 71/100\n",
            "2/2 [==============================] - 0s 7ms/step - loss: 12.2239 - mae: 12.2239\n",
            "Epoch 72/100\n",
            "2/2 [==============================] - 0s 7ms/step - loss: 8.5289 - mae: 8.5289\n",
            "Epoch 73/100\n",
            "2/2 [==============================] - 0s 7ms/step - loss: 7.0356 - mae: 7.0356\n",
            "Epoch 74/100\n",
            "2/2 [==============================] - 0s 6ms/step - loss: 9.9264 - mae: 9.9264\n",
            "Epoch 75/100\n",
            "2/2 [==============================] - 0s 7ms/step - loss: 9.9339 - mae: 9.9339\n",
            "Epoch 76/100\n",
            "2/2 [==============================] - 0s 7ms/step - loss: 10.1003 - mae: 10.1003\n",
            "Epoch 77/100\n",
            "2/2 [==============================] - 0s 9ms/step - loss: 12.9503 - mae: 12.9503\n",
            "Epoch 78/100\n",
            "2/2 [==============================] - 0s 7ms/step - loss: 11.1449 - mae: 11.1449\n",
            "Epoch 79/100\n",
            "2/2 [==============================] - 0s 7ms/step - loss: 14.6976 - mae: 14.6976\n",
            "Epoch 80/100\n",
            "2/2 [==============================] - 0s 6ms/step - loss: 8.9221 - mae: 8.9221\n",
            "Epoch 81/100\n",
            "2/2 [==============================] - 0s 10ms/step - loss: 10.7655 - mae: 10.7655\n",
            "Epoch 82/100\n",
            "2/2 [==============================] - 0s 7ms/step - loss: 8.3848 - mae: 8.3848\n",
            "Epoch 83/100\n",
            "2/2 [==============================] - 0s 7ms/step - loss: 9.2218 - mae: 9.2218\n",
            "Epoch 84/100\n",
            "2/2 [==============================] - 0s 9ms/step - loss: 8.9390 - mae: 8.9390\n",
            "Epoch 85/100\n",
            "2/2 [==============================] - 0s 12ms/step - loss: 13.1981 - mae: 13.1981\n",
            "Epoch 86/100\n",
            "2/2 [==============================] - 0s 9ms/step - loss: 13.7009 - mae: 13.7009\n",
            "Epoch 87/100\n",
            "2/2 [==============================] - 0s 7ms/step - loss: 13.1851 - mae: 13.1851\n",
            "Epoch 88/100\n",
            "2/2 [==============================] - 0s 7ms/step - loss: 11.5106 - mae: 11.5106\n",
            "Epoch 89/100\n",
            "2/2 [==============================] - 0s 7ms/step - loss: 7.7998 - mae: 7.7998\n",
            "Epoch 90/100\n",
            "2/2 [==============================] - 0s 7ms/step - loss: 10.9250 - mae: 10.9250\n",
            "Epoch 91/100\n",
            "2/2 [==============================] - 0s 6ms/step - loss: 6.7458 - mae: 6.7458\n",
            "Epoch 92/100\n",
            "2/2 [==============================] - 0s 6ms/step - loss: 10.1175 - mae: 10.1175\n",
            "Epoch 93/100\n",
            "2/2 [==============================] - 0s 6ms/step - loss: 7.6047 - mae: 7.6047\n",
            "Epoch 94/100\n",
            "2/2 [==============================] - 0s 7ms/step - loss: 9.2370 - mae: 9.2370\n",
            "Epoch 95/100\n",
            "2/2 [==============================] - 0s 7ms/step - loss: 10.8270 - mae: 10.8270\n",
            "Epoch 96/100\n",
            "2/2 [==============================] - 0s 8ms/step - loss: 10.2907 - mae: 10.2907\n",
            "Epoch 97/100\n",
            "2/2 [==============================] - 0s 7ms/step - loss: 7.6768 - mae: 7.6768\n",
            "Epoch 98/100\n",
            "2/2 [==============================] - 0s 6ms/step - loss: 8.6119 - mae: 8.6119\n",
            "Epoch 99/100\n",
            "2/2 [==============================] - 0s 6ms/step - loss: 9.3904 - mae: 9.3904\n",
            "Epoch 100/100\n",
            "2/2 [==============================] - 0s 7ms/step - loss: 8.8360 - mae: 8.8360\n"
          ]
        },
        {
          "output_type": "execute_result",
          "data": {
            "text/plain": [
              "<keras.src.callbacks.History at 0x7b2ff0be39a0>"
            ]
          },
          "metadata": {},
          "execution_count": 161
        }
      ]
    },
    {
      "cell_type": "code",
      "source": [
        "# Make and plot predictions for model_1\n",
        "y_preds_1 = model_1.predict(tf.expand_dims(X_test, axis=-1))\n",
        "plot_predictions(train_data=X_train, train_labels=y_train,\n",
        "                 test_data=X_test, test_labels=y_test,\n",
        "                 predictions=y_preds_1)"
      ],
      "metadata": {
        "colab": {
          "base_uri": "https://localhost:8080/",
          "height": 480
        },
        "id": "xRZ9-6FRbcEL",
        "outputId": "117ed7be-cb07-4487-dfdc-fad55c647e6f"
      },
      "execution_count": 162,
      "outputs": [
        {
          "output_type": "stream",
          "name": "stdout",
          "text": [
            "1/1 [==============================] - 0s 46ms/step\n"
          ]
        },
        {
          "output_type": "display_data",
          "data": {
            "text/plain": [
              "<Figure size 1000x700 with 1 Axes>"
            ],
            "image/png": "[encoded data removed]"
          },
          "metadata": {}
        }
      ]
    },
    {
      "cell_type": "code",
      "source": [
        "# Calculate model_1 evaluation metrics\n",
        "mae_1 = mae(y_test, tf.squeeze(tf.constant(y_preds_1)))\n",
        "mse_1 = mse(y_test, tf.squeeze(tf.constant(y_preds_1)))\n",
        "mae_1, mse_1"
      ],
      "metadata": {
        "colab": {
          "base_uri": "https://localhost:8080/"
        },
        "id": "ud7dtmg2dD9q",
        "outputId": "0f077e86-cca5-4901-e797-b2e2bbf7e645"
      },
      "execution_count": 163,
      "outputs": [
        {
          "output_type": "execute_result",
          "data": {
            "text/plain": [
              "(<tf.Tensor: shape=(), dtype=float32, numpy=8.641694>,\n",
              " <tf.Tensor: shape=(), dtype=float32, numpy=81.198975>)"
            ]
          },
          "metadata": {},
          "execution_count": 163
        }
      ]
    },
    {
      "cell_type": "markdown",
      "source": [
        "**Build `model_2`\n",
        "\n",
        "* 2 dense layers trained for 100 epochs"
      ],
      "metadata": {
        "id": "4jTTOZc9e755"
      }
    },
    {
      "cell_type": "code",
      "source": [
        "# Set random seed\n",
        "tf.random.set_seed(42)\n",
        "\n",
        "# 1. Create the model\n",
        "model_2 = tf.keras.Sequential([\n",
        "    tf.keras.layers.Dense(16, activation='relu'),\n",
        "    tf.keras.layers.Dense(1)\n",
        "])\n",
        "\n",
        "# 2. Compile the model\n",
        "model_2.compile(loss=tf.keras.losses.mse,\n",
        "                optimizer=tf.keras.optimizers.SGD(learning_rate=0.0001),\n",
        "                metrics=[\"mse\"])\n",
        "\n",
        "# 3. Fit the model\n",
        "model_2.fit(tf.expand_dims(X_train, axis=-1), y_train, epochs=100)"
      ],
      "metadata": {
        "colab": {
          "base_uri": "https://localhost:8080/"
        },
        "id": "Vl1JsmVNdIvX",
        "outputId": "f4e05a55-edae-4648-df1a-be87c462b2e4"
      },
      "execution_count": 164,
      "outputs": [
        {
          "output_type": "stream",
          "name": "stdout",
          "text": [
            "Epoch 1/100\n",
            "2/2 [==============================] - 0s 11ms/step - loss: 2622.4878 - mse: 2622.4878\n",
            "Epoch 2/100\n",
            "2/2 [==============================] - 0s 7ms/step - loss: 115.7531 - mse: 115.7531\n",
            "Epoch 3/100\n",
            "2/2 [==============================] - 0s 7ms/step - loss: 53.8300 - mse: 53.8300\n",
            "Epoch 4/100\n",
            "2/2 [==============================] - 0s 8ms/step - loss: 32.6538 - mse: 32.6538\n",
            "Epoch 5/100\n",
            "2/2 [==============================] - 0s 10ms/step - loss: 26.6299 - mse: 26.6299\n",
            "Epoch 6/100\n",
            "2/2 [==============================] - 0s 7ms/step - loss: 26.0053 - mse: 26.0053\n",
            "Epoch 7/100\n",
            "2/2 [==============================] - 0s 7ms/step - loss: 25.4648 - mse: 25.4648\n",
            "Epoch 8/100\n",
            "2/2 [==============================] - 0s 7ms/step - loss: 25.6262 - mse: 25.6262\n",
            "Epoch 9/100\n",
            "2/2 [==============================] - 0s 7ms/step - loss: 31.0086 - mse: 31.0086\n",
            "Epoch 10/100\n",
            "2/2 [==============================] - 0s 7ms/step - loss: 25.5658 - mse: 25.5658\n",
            "Epoch 11/100\n",
            "2/2 [==============================] - 0s 7ms/step - loss: 25.2083 - mse: 25.2083\n",
            "Epoch 12/100\n",
            "2/2 [==============================] - 0s 7ms/step - loss: 25.0246 - mse: 25.0246\n",
            "Epoch 13/100\n",
            "2/2 [==============================] - 0s 7ms/step - loss: 25.4966 - mse: 25.4966\n",
            "Epoch 14/100\n",
            "2/2 [==============================] - 0s 7ms/step - loss: 27.3980 - mse: 27.3980\n",
            "Epoch 15/100\n",
            "2/2 [==============================] - 0s 6ms/step - loss: 25.2537 - mse: 25.2537\n",
            "Epoch 16/100\n",
            "2/2 [==============================] - 0s 10ms/step - loss: 25.0354 - mse: 25.0354\n",
            "Epoch 17/100\n",
            "2/2 [==============================] - 0s 6ms/step - loss: 25.7665 - mse: 25.7665\n",
            "Epoch 18/100\n",
            "2/2 [==============================] - 0s 6ms/step - loss: 25.4853 - mse: 25.4853\n",
            "Epoch 19/100\n",
            "2/2 [==============================] - 0s 7ms/step - loss: 25.1845 - mse: 25.1845\n",
            "Epoch 20/100\n",
            "2/2 [==============================] - 0s 7ms/step - loss: 25.1871 - mse: 25.1871\n",
            "Epoch 21/100\n",
            "2/2 [==============================] - 0s 7ms/step - loss: 25.1292 - mse: 25.1292\n",
            "Epoch 22/100\n",
            "2/2 [==============================] - 0s 7ms/step - loss: 24.9485 - mse: 24.9485\n",
            "Epoch 23/100\n",
            "2/2 [==============================] - 0s 6ms/step - loss: 25.0072 - mse: 25.0072\n",
            "Epoch 24/100\n",
            "2/2 [==============================] - 0s 7ms/step - loss: 25.3217 - mse: 25.3217\n",
            "Epoch 25/100\n",
            "2/2 [==============================] - 0s 6ms/step - loss: 25.9950 - mse: 25.9950\n",
            "Epoch 26/100\n",
            "2/2 [==============================] - 0s 7ms/step - loss: 25.0427 - mse: 25.0427\n",
            "Epoch 27/100\n",
            "2/2 [==============================] - 0s 6ms/step - loss: 25.0774 - mse: 25.0774\n",
            "Epoch 28/100\n",
            "2/2 [==============================] - 0s 7ms/step - loss: 24.9769 - mse: 24.9769\n",
            "Epoch 29/100\n",
            "2/2 [==============================] - 0s 6ms/step - loss: 25.4375 - mse: 25.4375\n",
            "Epoch 30/100\n",
            "2/2 [==============================] - 0s 7ms/step - loss: 27.6469 - mse: 27.6469\n",
            "Epoch 31/100\n",
            "2/2 [==============================] - 0s 6ms/step - loss: 26.3534 - mse: 26.3534\n",
            "Epoch 32/100\n",
            "2/2 [==============================] - 0s 9ms/step - loss: 26.1265 - mse: 26.1265\n",
            "Epoch 33/100\n",
            "2/2 [==============================] - 0s 8ms/step - loss: 24.9436 - mse: 24.9436\n",
            "Epoch 34/100\n",
            "2/2 [==============================] - 0s 6ms/step - loss: 25.1468 - mse: 25.1468\n",
            "Epoch 35/100\n",
            "2/2 [==============================] - 0s 8ms/step - loss: 26.3710 - mse: 26.3710\n",
            "Epoch 36/100\n",
            "2/2 [==============================] - 0s 8ms/step - loss: 26.1372 - mse: 26.1372\n",
            "Epoch 37/100\n",
            "2/2 [==============================] - 0s 7ms/step - loss: 25.0832 - mse: 25.0832\n",
            "Epoch 38/100\n",
            "2/2 [==============================] - 0s 8ms/step - loss: 24.9671 - mse: 24.9671\n",
            "Epoch 39/100\n",
            "2/2 [==============================] - 0s 7ms/step - loss: 24.8375 - mse: 24.8375\n",
            "Epoch 40/100\n",
            "2/2 [==============================] - 0s 7ms/step - loss: 24.9130 - mse: 24.9130\n",
            "Epoch 41/100\n",
            "2/2 [==============================] - 0s 7ms/step - loss: 25.2469 - mse: 25.2469\n",
            "Epoch 42/100\n",
            "2/2 [==============================] - 0s 7ms/step - loss: 24.8870 - mse: 24.8870\n",
            "Epoch 43/100\n",
            "2/2 [==============================] - 0s 6ms/step - loss: 25.1132 - mse: 25.1132\n",
            "Epoch 44/100\n",
            "2/2 [==============================] - 0s 7ms/step - loss: 25.6294 - mse: 25.6294\n",
            "Epoch 45/100\n",
            "2/2 [==============================] - 0s 6ms/step - loss: 25.9829 - mse: 25.9829\n",
            "Epoch 46/100\n",
            "2/2 [==============================] - 0s 7ms/step - loss: 25.8178 - mse: 25.8178\n",
            "Epoch 47/100\n",
            "2/2 [==============================] - 0s 7ms/step - loss: 25.8783 - mse: 25.8783\n",
            "Epoch 48/100\n",
            "2/2 [==============================] - 0s 7ms/step - loss: 25.4515 - mse: 25.4515\n",
            "Epoch 49/100\n",
            "2/2 [==============================] - 0s 7ms/step - loss: 25.9916 - mse: 25.9916\n",
            "Epoch 50/100\n",
            "2/2 [==============================] - 0s 7ms/step - loss: 26.8325 - mse: 26.8325\n",
            "Epoch 51/100\n",
            "2/2 [==============================] - 0s 7ms/step - loss: 25.4523 - mse: 25.4523\n",
            "Epoch 52/100\n",
            "2/2 [==============================] - 0s 7ms/step - loss: 26.2682 - mse: 26.2682\n",
            "Epoch 53/100\n",
            "2/2 [==============================] - 0s 8ms/step - loss: 25.5068 - mse: 25.5068\n",
            "Epoch 54/100\n",
            "2/2 [==============================] - 0s 8ms/step - loss: 25.3205 - mse: 25.3205\n",
            "Epoch 55/100\n",
            "2/2 [==============================] - 0s 11ms/step - loss: 25.3141 - mse: 25.3141\n",
            "Epoch 56/100\n",
            "2/2 [==============================] - 0s 7ms/step - loss: 24.7257 - mse: 24.7257\n",
            "Epoch 57/100\n",
            "2/2 [==============================] - 0s 7ms/step - loss: 25.1920 - mse: 25.1920\n",
            "Epoch 58/100\n",
            "2/2 [==============================] - 0s 7ms/step - loss: 24.7131 - mse: 24.7131\n",
            "Epoch 59/100\n",
            "2/2 [==============================] - 0s 7ms/step - loss: 24.9360 - mse: 24.9360\n",
            "Epoch 60/100\n",
            "2/2 [==============================] - 0s 7ms/step - loss: 25.9422 - mse: 25.9422\n",
            "Epoch 61/100\n",
            "2/2 [==============================] - 0s 7ms/step - loss: 24.7471 - mse: 24.7471\n",
            "Epoch 62/100\n",
            "2/2 [==============================] - 0s 8ms/step - loss: 24.8336 - mse: 24.8336\n",
            "Epoch 63/100\n",
            "2/2 [==============================] - 0s 9ms/step - loss: 24.9391 - mse: 24.9391\n",
            "Epoch 64/100\n",
            "2/2 [==============================] - 0s 7ms/step - loss: 24.6541 - mse: 24.6541\n",
            "Epoch 65/100\n",
            "2/2 [==============================] - 0s 7ms/step - loss: 25.3117 - mse: 25.3117\n",
            "Epoch 66/100\n",
            "2/2 [==============================] - 0s 7ms/step - loss: 25.1938 - mse: 25.1938\n",
            "Epoch 67/100\n",
            "2/2 [==============================] - 0s 7ms/step - loss: 24.6959 - mse: 24.6959\n",
            "Epoch 68/100\n",
            "2/2 [==============================] - 0s 7ms/step - loss: 24.6856 - mse: 24.6856\n",
            "Epoch 69/100\n",
            "2/2 [==============================] - 0s 7ms/step - loss: 25.0887 - mse: 25.0887\n",
            "Epoch 70/100\n",
            "2/2 [==============================] - 0s 9ms/step - loss: 24.8525 - mse: 24.8525\n",
            "Epoch 71/100\n",
            "2/2 [==============================] - 0s 7ms/step - loss: 25.2421 - mse: 25.2421\n",
            "Epoch 72/100\n",
            "2/2 [==============================] - 0s 7ms/step - loss: 24.6266 - mse: 24.6266\n",
            "Epoch 73/100\n",
            "2/2 [==============================] - 0s 7ms/step - loss: 25.1843 - mse: 25.1843\n",
            "Epoch 74/100\n",
            "2/2 [==============================] - 0s 7ms/step - loss: 26.0991 - mse: 26.0991\n",
            "Epoch 75/100\n",
            "2/2 [==============================] - 0s 7ms/step - loss: 26.6982 - mse: 26.6982\n",
            "Epoch 76/100\n",
            "2/2 [==============================] - 0s 7ms/step - loss: 25.5097 - mse: 25.5097\n",
            "Epoch 77/100\n",
            "2/2 [==============================] - 0s 8ms/step - loss: 25.2585 - mse: 25.2585\n",
            "Epoch 78/100\n",
            "2/2 [==============================] - 0s 7ms/step - loss: 26.2517 - mse: 26.2517\n",
            "Epoch 79/100\n",
            "2/2 [==============================] - 0s 9ms/step - loss: 26.3525 - mse: 26.3525\n",
            "Epoch 80/100\n",
            "2/2 [==============================] - 0s 7ms/step - loss: 25.8595 - mse: 25.8595\n",
            "Epoch 81/100\n",
            "2/2 [==============================] - 0s 7ms/step - loss: 24.9738 - mse: 24.9738\n",
            "Epoch 82/100\n",
            "2/2 [==============================] - 0s 7ms/step - loss: 24.9705 - mse: 24.9705\n",
            "Epoch 83/100\n",
            "2/2 [==============================] - 0s 8ms/step - loss: 25.2920 - mse: 25.2920\n",
            "Epoch 84/100\n",
            "2/2 [==============================] - 0s 7ms/step - loss: 25.2982 - mse: 25.2982\n",
            "Epoch 85/100\n",
            "2/2 [==============================] - 0s 7ms/step - loss: 27.2835 - mse: 27.2835\n",
            "Epoch 86/100\n",
            "2/2 [==============================] - 0s 8ms/step - loss: 24.9072 - mse: 24.9072\n",
            "Epoch 87/100\n",
            "2/2 [==============================] - 0s 7ms/step - loss: 28.1315 - mse: 28.1315\n",
            "Epoch 88/100\n",
            "2/2 [==============================] - 0s 8ms/step - loss: 28.5332 - mse: 28.5332\n",
            "Epoch 89/100\n",
            "2/2 [==============================] - 0s 7ms/step - loss: 25.6890 - mse: 25.6890\n",
            "Epoch 90/100\n",
            "2/2 [==============================] - 0s 7ms/step - loss: 25.6060 - mse: 25.6060\n",
            "Epoch 91/100\n",
            "2/2 [==============================] - 0s 7ms/step - loss: 24.4442 - mse: 24.4442\n",
            "Epoch 92/100\n",
            "2/2 [==============================] - 0s 7ms/step - loss: 24.6080 - mse: 24.6080\n",
            "Epoch 93/100\n",
            "2/2 [==============================] - 0s 7ms/step - loss: 24.6866 - mse: 24.6866\n",
            "Epoch 94/100\n",
            "2/2 [==============================] - 0s 11ms/step - loss: 24.5805 - mse: 24.5805\n",
            "Epoch 95/100\n",
            "2/2 [==============================] - 0s 7ms/step - loss: 24.7250 - mse: 24.7250\n",
            "Epoch 96/100\n",
            "2/2 [==============================] - 0s 7ms/step - loss: 25.0097 - mse: 25.0097\n",
            "Epoch 97/100\n",
            "2/2 [==============================] - 0s 7ms/step - loss: 25.6174 - mse: 25.6174\n",
            "Epoch 98/100\n",
            "2/2 [==============================] - 0s 9ms/step - loss: 24.6434 - mse: 24.6434\n",
            "Epoch 99/100\n",
            "2/2 [==============================] - 0s 7ms/step - loss: 24.3669 - mse: 24.3669\n",
            "Epoch 100/100\n",
            "2/2 [==============================] - 0s 7ms/step - loss: 24.4099 - mse: 24.4099\n"
          ]
        },
        {
          "output_type": "execute_result",
          "data": {
            "text/plain": [
              "<keras.src.callbacks.History at 0x7b2ff093c460>"
            ]
          },
          "metadata": {},
          "execution_count": 164
        }
      ]
    },
    {
      "cell_type": "code",
      "source": [
        "# Make and plot predictions for model_1\n",
        "y_preds_2 = model_2.predict(tf.expand_dims(X_test, axis=-1))\n",
        "plot_predictions(train_data=X_train, train_labels=y_train,\n",
        "                 test_data=X_test, test_labels=y_test,\n",
        "                 predictions=y_preds_2)"
      ],
      "metadata": {
        "colab": {
          "base_uri": "https://localhost:8080/",
          "height": 480
        },
        "id": "JcCj-qqYdCd9",
        "outputId": "96c6ae1a-336e-4d36-d94d-65858e567570"
      },
      "execution_count": 165,
      "outputs": [
        {
          "output_type": "stream",
          "name": "stdout",
          "text": [
            "1/1 [==============================] - 0s 56ms/step\n"
          ]
        },
        {
          "output_type": "display_data",
          "data": {
            "text/plain": [
              "<Figure size 1000x700 with 1 Axes>"
            ],
            "image/png": "[encoded data removed]"
          },
          "metadata": {}
        }
      ]
    },
    {
      "cell_type": "code",
      "source": [
        "# Calculate model_2 evaluation metrics\n",
        "mae_2 = mae(y_test, tf.squeeze(tf.constant(y_preds_2)))\n",
        "mse_2 = mse(y_test, tf.squeeze(tf.constant(y_preds_2)))\n",
        "mae_2, mse_2"
      ],
      "metadata": {
        "colab": {
          "base_uri": "https://localhost:8080/"
        },
        "id": "srKjRplOhkR2",
        "outputId": "27f53b8d-537e-4cb1-f679-ad740ca78f3b"
      },
      "execution_count": 166,
      "outputs": [
        {
          "output_type": "execute_result",
          "data": {
            "text/plain": [
              "(<tf.Tensor: shape=(), dtype=float32, numpy=8.382156>,\n",
              " <tf.Tensor: shape=(), dtype=float32, numpy=77.443474>)"
            ]
          },
          "metadata": {},
          "execution_count": 166
        }
      ]
    },
    {
      "cell_type": "markdown",
      "source": [
        "**Build `model_3`**\n",
        "* 3 layers, trained for 500 epochs"
      ],
      "metadata": {
        "id": "SP-1H_46jPJr"
      }
    },
    {
      "cell_type": "code",
      "source": [
        "# Set random seed\n",
        "tf.random.set_seed(42)\n",
        "\n",
        "# Create a model\n",
        "model_3 = tf.keras.Sequential([\n",
        "    tf.keras.layers.Dense(16, activation='relu'),\n",
        "    tf.keras.layers.Dense(16, activation='relu'),\n",
        "    tf.keras.layers.Dense(1)\n",
        "])\n",
        "\n",
        "# Compile the model\n",
        "model_3.compile(loss=tf.keras.losses.mae,\n",
        "                optimizer=tf.keras.optimizers.SGD(learning_rate=1e-3),\n",
        "                metrics=[\"mae\"])\n",
        "\n",
        "# Fit the model\n",
        "model_3.fit(tf.expand_dims(X_train, axis=-1), y_train, epochs=500)"
      ],
      "metadata": {
        "colab": {
          "base_uri": "https://localhost:8080/"
        },
        "id": "DHmdUTKxjGc5",
        "outputId": "21f2b58e-4470-4e52-f684-ffadb9b08c15"
      },
      "execution_count": 167,
      "outputs": [
        {
          "output_type": "stream",
          "name": "stdout",
          "text": [
            "Epoch 1/500\n",
            "2/2 [==============================] - 0s 11ms/step - loss: 38.0119 - mae: 38.0119\n",
            "Epoch 2/500\n",
            "2/2 [==============================] - 0s 8ms/step - loss: 33.0348 - mae: 33.0348\n",
            "Epoch 3/500\n",
            "2/2 [==============================] - 0s 7ms/step - loss: 27.8725 - mae: 27.8725\n",
            "Epoch 4/500\n",
            "2/2 [==============================] - 0s 7ms/step - loss: 23.3088 - mae: 23.3088\n",
            "Epoch 5/500\n",
            "2/2 [==============================] - 0s 7ms/step - loss: 19.4353 - mae: 19.4353\n",
            "Epoch 6/500\n",
            "2/2 [==============================] - 0s 7ms/step - loss: 16.2866 - mae: 16.2866\n",
            "Epoch 7/500\n",
            "2/2 [==============================] - 0s 7ms/step - loss: 15.9069 - mae: 15.9069\n",
            "Epoch 8/500\n",
            "2/2 [==============================] - 0s 7ms/step - loss: 15.7398 - mae: 15.7398\n",
            "Epoch 9/500\n",
            "2/2 [==============================] - 0s 8ms/step - loss: 19.1812 - mae: 19.1812\n",
            "Epoch 10/500\n",
            "2/2 [==============================] - 0s 7ms/step - loss: 15.0668 - mae: 15.0668\n",
            "Epoch 11/500\n",
            "2/2 [==============================] - 0s 6ms/step - loss: 14.7366 - mae: 14.7366\n",
            "Epoch 12/500\n",
            "2/2 [==============================] - 0s 6ms/step - loss: 14.5932 - mae: 14.5932\n",
            "Epoch 13/500\n",
            "2/2 [==============================] - 0s 7ms/step - loss: 14.4494 - mae: 14.4494\n",
            "Epoch 14/500\n",
            "2/2 [==============================] - 0s 7ms/step - loss: 16.3798 - mae: 16.3798\n",
            "Epoch 15/500\n",
            "2/2 [==============================] - 0s 7ms/step - loss: 13.7867 - mae: 13.7867\n",
            "Epoch 16/500\n",
            "2/2 [==============================] - 0s 8ms/step - loss: 13.7351 - mae: 13.7351\n",
            "Epoch 17/500\n",
            "2/2 [==============================] - 0s 12ms/step - loss: 14.7486 - mae: 14.7486\n",
            "Epoch 18/500\n",
            "2/2 [==============================] - 0s 8ms/step - loss: 12.8365 - mae: 12.8365\n",
            "Epoch 19/500\n",
            "2/2 [==============================] - 0s 7ms/step - loss: 12.5852 - mae: 12.5852\n",
            "Epoch 20/500\n",
            "2/2 [==============================] - 0s 7ms/step - loss: 12.7728 - mae: 12.7728\n",
            "Epoch 21/500\n",
            "2/2 [==============================] - 0s 7ms/step - loss: 12.7809 - mae: 12.7809\n",
            "Epoch 22/500\n",
            "2/2 [==============================] - 0s 7ms/step - loss: 12.3156 - mae: 12.3156\n",
            "Epoch 23/500\n",
            "2/2 [==============================] - 0s 7ms/step - loss: 12.0233 - mae: 12.0233\n",
            "Epoch 24/500\n",
            "2/2 [==============================] - 0s 8ms/step - loss: 11.1519 - mae: 11.1519\n",
            "Epoch 25/500\n",
            "2/2 [==============================] - 0s 7ms/step - loss: 11.9616 - mae: 11.9616\n",
            "Epoch 26/500\n",
            "2/2 [==============================] - 0s 6ms/step - loss: 10.3167 - mae: 10.3167\n",
            "Epoch 27/500\n",
            "2/2 [==============================] - 0s 6ms/step - loss: 10.5568 - mae: 10.5568\n",
            "Epoch 28/500\n",
            "2/2 [==============================] - 0s 9ms/step - loss: 9.6844 - mae: 9.6844\n",
            "Epoch 29/500\n",
            "2/2 [==============================] - 0s 8ms/step - loss: 8.8373 - mae: 8.8373\n",
            "Epoch 30/500\n",
            "2/2 [==============================] - 0s 8ms/step - loss: 8.9416 - mae: 8.9416\n",
            "Epoch 31/500\n",
            "2/2 [==============================] - 0s 7ms/step - loss: 13.2507 - mae: 13.2507\n",
            "Epoch 32/500\n",
            "2/2 [==============================] - 0s 8ms/step - loss: 7.4181 - mae: 7.4181\n",
            "Epoch 33/500\n",
            "2/2 [==============================] - 0s 7ms/step - loss: 7.1273 - mae: 7.1273\n",
            "Epoch 34/500\n",
            "2/2 [==============================] - 0s 7ms/step - loss: 7.1706 - mae: 7.1706\n",
            "Epoch 35/500\n",
            "2/2 [==============================] - 0s 9ms/step - loss: 6.1095 - mae: 6.1095\n",
            "Epoch 36/500\n",
            "2/2 [==============================] - 0s 6ms/step - loss: 5.1164 - mae: 5.1164\n",
            "Epoch 37/500\n",
            "2/2 [==============================] - 0s 6ms/step - loss: 4.2606 - mae: 4.2606\n",
            "Epoch 38/500\n",
            "2/2 [==============================] - 0s 7ms/step - loss: 4.8681 - mae: 4.8681\n",
            "Epoch 39/500\n",
            "2/2 [==============================] - 0s 7ms/step - loss: 4.1796 - mae: 4.1796\n",
            "Epoch 40/500\n",
            "2/2 [==============================] - 0s 7ms/step - loss: 4.2551 - mae: 4.2551\n",
            "Epoch 41/500\n",
            "2/2 [==============================] - 0s 8ms/step - loss: 4.8707 - mae: 4.8707\n",
            "Epoch 42/500\n",
            "2/2 [==============================] - 0s 7ms/step - loss: 4.3093 - mae: 4.3093\n",
            "Epoch 43/500\n",
            "2/2 [==============================] - 0s 6ms/step - loss: 4.1547 - mae: 4.1547\n",
            "Epoch 44/500\n",
            "2/2 [==============================] - 0s 7ms/step - loss: 4.4476 - mae: 4.4476\n",
            "Epoch 45/500\n",
            "2/2 [==============================] - 0s 8ms/step - loss: 4.2308 - mae: 4.2308\n",
            "Epoch 46/500\n",
            "2/2 [==============================] - 0s 7ms/step - loss: 5.3650 - mae: 5.3650\n",
            "Epoch 47/500\n",
            "2/2 [==============================] - 0s 6ms/step - loss: 4.7244 - mae: 4.7244\n",
            "Epoch 48/500\n",
            "2/2 [==============================] - 0s 7ms/step - loss: 4.5633 - mae: 4.5633\n",
            "Epoch 49/500\n",
            "2/2 [==============================] - 0s 9ms/step - loss: 4.6073 - mae: 4.6073\n",
            "Epoch 50/500\n",
            "2/2 [==============================] - 0s 10ms/step - loss: 4.5874 - mae: 4.5874\n",
            "Epoch 51/500\n",
            "2/2 [==============================] - 0s 7ms/step - loss: 4.2168 - mae: 4.2168\n",
            "Epoch 52/500\n",
            "2/2 [==============================] - 0s 7ms/step - loss: 4.8018 - mae: 4.8018\n",
            "Epoch 53/500\n",
            "2/2 [==============================] - 0s 8ms/step - loss: 4.4649 - mae: 4.4649\n",
            "Epoch 54/500\n",
            "2/2 [==============================] - 0s 10ms/step - loss: 5.4712 - mae: 5.4712\n",
            "Epoch 55/500\n",
            "2/2 [==============================] - 0s 7ms/step - loss: 5.6703 - mae: 5.6703\n",
            "Epoch 56/500\n",
            "2/2 [==============================] - 0s 7ms/step - loss: 4.1348 - mae: 4.1348\n",
            "Epoch 57/500\n",
            "2/2 [==============================] - 0s 7ms/step - loss: 5.0093 - mae: 5.0093\n",
            "Epoch 58/500\n",
            "2/2 [==============================] - 0s 8ms/step - loss: 4.5645 - mae: 4.5645\n",
            "Epoch 59/500\n",
            "2/2 [==============================] - 0s 7ms/step - loss: 4.1144 - mae: 4.1144\n",
            "Epoch 60/500\n",
            "2/2 [==============================] - 0s 8ms/step - loss: 4.7898 - mae: 4.7898\n",
            "Epoch 61/500\n",
            "2/2 [==============================] - 0s 8ms/step - loss: 4.1715 - mae: 4.1715\n",
            "Epoch 62/500\n",
            "2/2 [==============================] - 0s 7ms/step - loss: 5.1164 - mae: 5.1164\n",
            "Epoch 63/500\n",
            "2/2 [==============================] - 0s 7ms/step - loss: 4.1487 - mae: 4.1487\n",
            "Epoch 64/500\n",
            "2/2 [==============================] - 0s 7ms/step - loss: 4.4544 - mae: 4.4544\n",
            "Epoch 65/500\n",
            "2/2 [==============================] - 0s 8ms/step - loss: 4.8796 - mae: 4.8796\n",
            "Epoch 66/500\n",
            "2/2 [==============================] - 0s 6ms/step - loss: 4.1246 - mae: 4.1246\n",
            "Epoch 67/500\n",
            "2/2 [==============================] - 0s 6ms/step - loss: 4.3142 - mae: 4.3142\n",
            "Epoch 68/500\n",
            "2/2 [==============================] - 0s 7ms/step - loss: 4.6105 - mae: 4.6105\n",
            "Epoch 69/500\n",
            "2/2 [==============================] - 0s 7ms/step - loss: 4.2378 - mae: 4.2378\n",
            "Epoch 70/500\n",
            "2/2 [==============================] - 0s 8ms/step - loss: 4.2067 - mae: 4.2067\n",
            "Epoch 71/500\n",
            "2/2 [==============================] - 0s 7ms/step - loss: 5.2277 - mae: 5.2277\n",
            "Epoch 72/500\n",
            "2/2 [==============================] - 0s 7ms/step - loss: 4.4496 - mae: 4.4496\n",
            "Epoch 73/500\n",
            "2/2 [==============================] - 0s 7ms/step - loss: 4.5684 - mae: 4.5684\n",
            "Epoch 74/500\n",
            "2/2 [==============================] - 0s 7ms/step - loss: 5.6622 - mae: 5.6622\n",
            "Epoch 75/500\n",
            "2/2 [==============================] - 0s 7ms/step - loss: 4.8261 - mae: 4.8261\n",
            "Epoch 76/500\n",
            "2/2 [==============================] - 0s 7ms/step - loss: 4.3330 - mae: 4.3330\n",
            "Epoch 77/500\n",
            "2/2 [==============================] - 0s 7ms/step - loss: 5.1629 - mae: 5.1629\n",
            "Epoch 78/500\n",
            "2/2 [==============================] - 0s 7ms/step - loss: 4.8887 - mae: 4.8887\n",
            "Epoch 79/500\n",
            "2/2 [==============================] - 0s 7ms/step - loss: 5.2351 - mae: 5.2351\n",
            "Epoch 80/500\n",
            "2/2 [==============================] - 0s 7ms/step - loss: 4.2551 - mae: 4.2551\n",
            "Epoch 81/500\n",
            "2/2 [==============================] - 0s 7ms/step - loss: 4.0962 - mae: 4.0962\n",
            "Epoch 82/500\n",
            "2/2 [==============================] - 0s 8ms/step - loss: 4.2092 - mae: 4.2092\n",
            "Epoch 83/500\n",
            "2/2 [==============================] - 0s 8ms/step - loss: 4.1549 - mae: 4.1549\n",
            "Epoch 84/500\n",
            "2/2 [==============================] - 0s 9ms/step - loss: 4.4061 - mae: 4.4061\n",
            "Epoch 85/500\n",
            "2/2 [==============================] - 0s 7ms/step - loss: 5.0333 - mae: 5.0333\n",
            "Epoch 86/500\n",
            "2/2 [==============================] - 0s 7ms/step - loss: 5.3866 - mae: 5.3866\n",
            "Epoch 87/500\n",
            "2/2 [==============================] - 0s 7ms/step - loss: 6.0155 - mae: 6.0155\n",
            "Epoch 88/500\n",
            "2/2 [==============================] - 0s 8ms/step - loss: 5.7508 - mae: 5.7508\n",
            "Epoch 89/500\n",
            "2/2 [==============================] - 0s 8ms/step - loss: 4.2763 - mae: 4.2763\n",
            "Epoch 90/500\n",
            "2/2 [==============================] - 0s 8ms/step - loss: 5.1322 - mae: 5.1322\n",
            "Epoch 91/500\n",
            "2/2 [==============================] - 0s 8ms/step - loss: 4.2244 - mae: 4.2244\n",
            "Epoch 92/500\n",
            "2/2 [==============================] - 0s 8ms/step - loss: 4.0512 - mae: 4.0512\n",
            "Epoch 93/500\n",
            "2/2 [==============================] - 0s 7ms/step - loss: 4.4248 - mae: 4.4248\n",
            "Epoch 94/500\n",
            "2/2 [==============================] - 0s 7ms/step - loss: 4.2492 - mae: 4.2492\n",
            "Epoch 95/500\n",
            "2/2 [==============================] - 0s 8ms/step - loss: 4.3680 - mae: 4.3680\n",
            "Epoch 96/500\n",
            "2/2 [==============================] - 0s 10ms/step - loss: 4.5830 - mae: 4.5830\n",
            "Epoch 97/500\n",
            "2/2 [==============================] - 0s 8ms/step - loss: 5.3010 - mae: 5.3010\n",
            "Epoch 98/500\n",
            "2/2 [==============================] - 0s 8ms/step - loss: 4.4458 - mae: 4.4458\n",
            "Epoch 99/500\n",
            "2/2 [==============================] - 0s 7ms/step - loss: 4.6358 - mae: 4.6358\n",
            "Epoch 100/500\n",
            "2/2 [==============================] - 0s 8ms/step - loss: 4.5787 - mae: 4.5787\n",
            "Epoch 101/500\n",
            "2/2 [==============================] - 0s 7ms/step - loss: 4.1825 - mae: 4.1825\n",
            "Epoch 102/500\n",
            "2/2 [==============================] - 0s 7ms/step - loss: 4.6183 - mae: 4.6183\n",
            "Epoch 103/500\n",
            "2/2 [==============================] - 0s 7ms/step - loss: 4.0703 - mae: 4.0703\n",
            "Epoch 104/500\n",
            "2/2 [==============================] - 0s 9ms/step - loss: 5.2015 - mae: 5.2015\n",
            "Epoch 105/500\n",
            "2/2 [==============================] - 0s 11ms/step - loss: 4.4933 - mae: 4.4933\n",
            "Epoch 106/500\n",
            "2/2 [==============================] - 0s 10ms/step - loss: 4.2156 - mae: 4.2156\n",
            "Epoch 107/500\n",
            "2/2 [==============================] - 0s 9ms/step - loss: 4.5816 - mae: 4.5816\n",
            "Epoch 108/500\n",
            "2/2 [==============================] - 0s 8ms/step - loss: 4.4785 - mae: 4.4785\n",
            "Epoch 109/500\n",
            "2/2 [==============================] - 0s 13ms/step - loss: 4.1713 - mae: 4.1713\n",
            "Epoch 110/500\n",
            "2/2 [==============================] - 0s 8ms/step - loss: 4.2460 - mae: 4.2460\n",
            "Epoch 111/500\n",
            "2/2 [==============================] - 0s 10ms/step - loss: 4.1350 - mae: 4.1350\n",
            "Epoch 112/500\n",
            "2/2 [==============================] - 0s 7ms/step - loss: 4.0886 - mae: 4.0886\n",
            "Epoch 113/500\n",
            "2/2 [==============================] - 0s 7ms/step - loss: 4.3367 - mae: 4.3367\n",
            "Epoch 114/500\n",
            "2/2 [==============================] - 0s 8ms/step - loss: 5.3659 - mae: 5.3659\n",
            "Epoch 115/500\n",
            "2/2 [==============================] - 0s 9ms/step - loss: 4.1421 - mae: 4.1421\n",
            "Epoch 116/500\n",
            "2/2 [==============================] - 0s 8ms/step - loss: 4.2969 - mae: 4.2969\n",
            "Epoch 117/500\n",
            "2/2 [==============================] - 0s 8ms/step - loss: 4.1177 - mae: 4.1177\n",
            "Epoch 118/500\n",
            "2/2 [==============================] - 0s 8ms/step - loss: 4.8074 - mae: 4.8074\n",
            "Epoch 119/500\n",
            "2/2 [==============================] - 0s 8ms/step - loss: 4.1331 - mae: 4.1331\n",
            "Epoch 120/500\n",
            "2/2 [==============================] - 0s 11ms/step - loss: 5.2008 - mae: 5.2008\n",
            "Epoch 121/500\n",
            "2/2 [==============================] - 0s 7ms/step - loss: 4.0988 - mae: 4.0988\n",
            "Epoch 122/500\n",
            "2/2 [==============================] - 0s 7ms/step - loss: 5.5415 - mae: 5.5415\n",
            "Epoch 123/500\n",
            "2/2 [==============================] - 0s 11ms/step - loss: 6.0290 - mae: 6.0290\n",
            "Epoch 124/500\n",
            "2/2 [==============================] - 0s 7ms/step - loss: 5.2543 - mae: 5.2543\n",
            "Epoch 125/500\n",
            "2/2 [==============================] - 0s 9ms/step - loss: 4.0604 - mae: 4.0604\n",
            "Epoch 126/500\n",
            "2/2 [==============================] - 0s 8ms/step - loss: 5.1532 - mae: 5.1532\n",
            "Epoch 127/500\n",
            "2/2 [==============================] - 0s 7ms/step - loss: 4.1791 - mae: 4.1791\n",
            "Epoch 128/500\n",
            "2/2 [==============================] - 0s 9ms/step - loss: 4.8404 - mae: 4.8404\n",
            "Epoch 129/500\n",
            "2/2 [==============================] - 0s 10ms/step - loss: 4.0629 - mae: 4.0629\n",
            "Epoch 130/500\n",
            "2/2 [==============================] - 0s 8ms/step - loss: 4.0927 - mae: 4.0927\n",
            "Epoch 131/500\n",
            "2/2 [==============================] - 0s 7ms/step - loss: 5.4118 - mae: 5.4118\n",
            "Epoch 132/500\n",
            "2/2 [==============================] - 0s 8ms/step - loss: 4.4648 - mae: 4.4648\n",
            "Epoch 133/500\n",
            "2/2 [==============================] - 0s 11ms/step - loss: 4.2495 - mae: 4.2495\n",
            "Epoch 134/500\n",
            "2/2 [==============================] - 0s 9ms/step - loss: 4.1127 - mae: 4.1127\n",
            "Epoch 135/500\n",
            "2/2 [==============================] - 0s 9ms/step - loss: 4.0820 - mae: 4.0820\n",
            "Epoch 136/500\n",
            "2/2 [==============================] - 0s 8ms/step - loss: 4.5402 - mae: 4.5402\n",
            "Epoch 137/500\n",
            "2/2 [==============================] - 0s 8ms/step - loss: 4.2093 - mae: 4.2093\n",
            "Epoch 138/500\n",
            "2/2 [==============================] - 0s 9ms/step - loss: 4.2320 - mae: 4.2320\n",
            "Epoch 139/500\n",
            "2/2 [==============================] - 0s 7ms/step - loss: 4.4924 - mae: 4.4924\n",
            "Epoch 140/500\n",
            "2/2 [==============================] - 0s 7ms/step - loss: 4.4721 - mae: 4.4721\n",
            "Epoch 141/500\n",
            "2/2 [==============================] - 0s 7ms/step - loss: 4.1920 - mae: 4.1920\n",
            "Epoch 142/500\n",
            "2/2 [==============================] - 0s 7ms/step - loss: 4.1103 - mae: 4.1103\n",
            "Epoch 143/500\n",
            "2/2 [==============================] - 0s 7ms/step - loss: 5.6239 - mae: 5.6239\n",
            "Epoch 144/500\n",
            "2/2 [==============================] - 0s 7ms/step - loss: 4.2524 - mae: 4.2524\n",
            "Epoch 145/500\n",
            "2/2 [==============================] - 0s 7ms/step - loss: 5.5995 - mae: 5.5995\n",
            "Epoch 146/500\n",
            "2/2 [==============================] - 0s 9ms/step - loss: 4.1179 - mae: 4.1179\n",
            "Epoch 147/500\n",
            "2/2 [==============================] - 0s 10ms/step - loss: 4.2490 - mae: 4.2490\n",
            "Epoch 148/500\n",
            "2/2 [==============================] - 0s 12ms/step - loss: 5.5277 - mae: 5.5277\n",
            "Epoch 149/500\n",
            "2/2 [==============================] - 0s 12ms/step - loss: 4.3908 - mae: 4.3908\n",
            "Epoch 150/500\n",
            "2/2 [==============================] - 0s 11ms/step - loss: 4.3498 - mae: 4.3498\n",
            "Epoch 151/500\n",
            "2/2 [==============================] - 0s 8ms/step - loss: 4.2254 - mae: 4.2254\n",
            "Epoch 152/500\n",
            "2/2 [==============================] - 0s 12ms/step - loss: 4.5187 - mae: 4.5187\n",
            "Epoch 153/500\n",
            "2/2 [==============================] - 0s 10ms/step - loss: 4.5535 - mae: 4.5535\n",
            "Epoch 154/500\n",
            "2/2 [==============================] - 0s 12ms/step - loss: 4.8860 - mae: 4.8860\n",
            "Epoch 155/500\n",
            "2/2 [==============================] - 0s 11ms/step - loss: 4.3035 - mae: 4.3035\n",
            "Epoch 156/500\n",
            "2/2 [==============================] - 0s 8ms/step - loss: 4.3349 - mae: 4.3349\n",
            "Epoch 157/500\n",
            "2/2 [==============================] - 0s 11ms/step - loss: 5.5753 - mae: 5.5753\n",
            "Epoch 158/500\n",
            "2/2 [==============================] - 0s 8ms/step - loss: 4.0884 - mae: 4.0884\n",
            "Epoch 159/500\n",
            "2/2 [==============================] - 0s 8ms/step - loss: 4.1096 - mae: 4.1096\n",
            "Epoch 160/500\n",
            "2/2 [==============================] - 0s 10ms/step - loss: 4.1225 - mae: 4.1225\n",
            "Epoch 161/500\n",
            "2/2 [==============================] - 0s 7ms/step - loss: 4.2189 - mae: 4.2189\n",
            "Epoch 162/500\n",
            "2/2 [==============================] - 0s 10ms/step - loss: 5.0153 - mae: 5.0153\n",
            "Epoch 163/500\n",
            "2/2 [==============================] - 0s 8ms/step - loss: 5.0241 - mae: 5.0241\n",
            "Epoch 164/500\n",
            "2/2 [==============================] - 0s 8ms/step - loss: 4.2116 - mae: 4.2116\n",
            "Epoch 165/500\n",
            "2/2 [==============================] - 0s 7ms/step - loss: 4.0750 - mae: 4.0750\n",
            "Epoch 166/500\n",
            "2/2 [==============================] - 0s 7ms/step - loss: 4.5542 - mae: 4.5542\n",
            "Epoch 167/500\n",
            "2/2 [==============================] - 0s 8ms/step - loss: 5.1152 - mae: 5.1152\n",
            "Epoch 168/500\n",
            "2/2 [==============================] - 0s 8ms/step - loss: 4.4092 - mae: 4.4092\n",
            "Epoch 169/500\n",
            "2/2 [==============================] - 0s 8ms/step - loss: 5.8562 - mae: 5.8562\n",
            "Epoch 170/500\n",
            "2/2 [==============================] - 0s 7ms/step - loss: 4.4021 - mae: 4.4021\n",
            "Epoch 171/500\n",
            "2/2 [==============================] - 0s 7ms/step - loss: 4.2462 - mae: 4.2462\n",
            "Epoch 172/500\n",
            "2/2 [==============================] - 0s 7ms/step - loss: 4.0488 - mae: 4.0488\n",
            "Epoch 173/500\n",
            "2/2 [==============================] - 0s 8ms/step - loss: 4.0368 - mae: 4.0368\n",
            "Epoch 174/500\n",
            "2/2 [==============================] - 0s 8ms/step - loss: 4.0939 - mae: 4.0939\n",
            "Epoch 175/500\n",
            "2/2 [==============================] - 0s 11ms/step - loss: 4.3610 - mae: 4.3610\n",
            "Epoch 176/500\n",
            "2/2 [==============================] - 0s 9ms/step - loss: 5.4177 - mae: 5.4177\n",
            "Epoch 177/500\n",
            "2/2 [==============================] - 0s 10ms/step - loss: 4.6948 - mae: 4.6948\n",
            "Epoch 178/500\n",
            "2/2 [==============================] - 0s 6ms/step - loss: 4.0359 - mae: 4.0359\n",
            "Epoch 179/500\n",
            "2/2 [==============================] - 0s 17ms/step - loss: 4.0649 - mae: 4.0649\n",
            "Epoch 180/500\n",
            "2/2 [==============================] - 0s 8ms/step - loss: 4.1069 - mae: 4.1069\n",
            "Epoch 181/500\n",
            "2/2 [==============================] - 0s 8ms/step - loss: 5.0600 - mae: 5.0600\n",
            "Epoch 182/500\n",
            "2/2 [==============================] - 0s 8ms/step - loss: 4.1672 - mae: 4.1672\n",
            "Epoch 183/500\n",
            "2/2 [==============================] - 0s 7ms/step - loss: 4.3043 - mae: 4.3043\n",
            "Epoch 184/500\n",
            "2/2 [==============================] - 0s 7ms/step - loss: 5.5002 - mae: 5.5002\n",
            "Epoch 185/500\n",
            "2/2 [==============================] - 0s 7ms/step - loss: 4.1980 - mae: 4.1980\n",
            "Epoch 186/500\n",
            "2/2 [==============================] - 0s 8ms/step - loss: 4.3589 - mae: 4.3589\n",
            "Epoch 187/500\n",
            "2/2 [==============================] - 0s 7ms/step - loss: 4.3507 - mae: 4.3507\n",
            "Epoch 188/500\n",
            "2/2 [==============================] - 0s 7ms/step - loss: 4.5864 - mae: 4.5864\n",
            "Epoch 189/500\n",
            "2/2 [==============================] - 0s 8ms/step - loss: 4.7617 - mae: 4.7617\n",
            "Epoch 190/500\n",
            "2/2 [==============================] - 0s 8ms/step - loss: 4.2207 - mae: 4.2207\n",
            "Epoch 191/500\n",
            "2/2 [==============================] - 0s 8ms/step - loss: 4.4780 - mae: 4.4780\n",
            "Epoch 192/500\n",
            "2/2 [==============================] - 0s 7ms/step - loss: 4.4687 - mae: 4.4687\n",
            "Epoch 193/500\n",
            "2/2 [==============================] - 0s 11ms/step - loss: 5.0225 - mae: 5.0225\n",
            "Epoch 194/500\n",
            "2/2 [==============================] - 0s 8ms/step - loss: 4.1940 - mae: 4.1940\n",
            "Epoch 195/500\n",
            "2/2 [==============================] - 0s 8ms/step - loss: 4.2082 - mae: 4.2082\n",
            "Epoch 196/500\n",
            "2/2 [==============================] - 0s 9ms/step - loss: 4.0593 - mae: 4.0593\n",
            "Epoch 197/500\n",
            "2/2 [==============================] - 0s 7ms/step - loss: 4.1912 - mae: 4.1912\n",
            "Epoch 198/500\n",
            "2/2 [==============================] - 0s 7ms/step - loss: 4.1933 - mae: 4.1933\n",
            "Epoch 199/500\n",
            "2/2 [==============================] - 0s 7ms/step - loss: 4.7085 - mae: 4.7085\n",
            "Epoch 200/500\n",
            "2/2 [==============================] - 0s 7ms/step - loss: 4.4098 - mae: 4.4098\n",
            "Epoch 201/500\n",
            "2/2 [==============================] - 0s 7ms/step - loss: 4.0368 - mae: 4.0368\n",
            "Epoch 202/500\n",
            "2/2 [==============================] - 0s 8ms/step - loss: 4.9160 - mae: 4.9160\n",
            "Epoch 203/500\n",
            "2/2 [==============================] - 0s 7ms/step - loss: 4.4688 - mae: 4.4688\n",
            "Epoch 204/500\n",
            "2/2 [==============================] - 0s 7ms/step - loss: 5.2785 - mae: 5.2785\n",
            "Epoch 205/500\n",
            "2/2 [==============================] - 0s 7ms/step - loss: 4.1144 - mae: 4.1144\n",
            "Epoch 206/500\n",
            "2/2 [==============================] - 0s 7ms/step - loss: 4.6030 - mae: 4.6030\n",
            "Epoch 207/500\n",
            "2/2 [==============================] - 0s 7ms/step - loss: 4.2285 - mae: 4.2285\n",
            "Epoch 208/500\n",
            "2/2 [==============================] - 0s 7ms/step - loss: 5.4578 - mae: 5.4578\n",
            "Epoch 209/500\n",
            "2/2 [==============================] - 0s 7ms/step - loss: 4.9246 - mae: 4.9246\n",
            "Epoch 210/500\n",
            "2/2 [==============================] - 0s 7ms/step - loss: 5.9995 - mae: 5.9995\n",
            "Epoch 211/500\n",
            "2/2 [==============================] - 0s 7ms/step - loss: 4.4041 - mae: 4.4041\n",
            "Epoch 212/500\n",
            "2/2 [==============================] - 0s 7ms/step - loss: 5.3117 - mae: 5.3117\n",
            "Epoch 213/500\n",
            "2/2 [==============================] - 0s 9ms/step - loss: 4.0638 - mae: 4.0638\n",
            "Epoch 214/500\n",
            "2/2 [==============================] - 0s 7ms/step - loss: 4.1158 - mae: 4.1158\n",
            "Epoch 215/500\n",
            "2/2 [==============================] - 0s 8ms/step - loss: 4.5588 - mae: 4.5588\n",
            "Epoch 216/500\n",
            "2/2 [==============================] - 0s 7ms/step - loss: 4.7823 - mae: 4.7823\n",
            "Epoch 217/500\n",
            "2/2 [==============================] - 0s 7ms/step - loss: 4.0549 - mae: 4.0549\n",
            "Epoch 218/500\n",
            "2/2 [==============================] - 0s 7ms/step - loss: 4.0653 - mae: 4.0653\n",
            "Epoch 219/500\n",
            "2/2 [==============================] - 0s 7ms/step - loss: 4.4683 - mae: 4.4683\n",
            "Epoch 220/500\n",
            "2/2 [==============================] - 0s 7ms/step - loss: 4.4439 - mae: 4.4439\n",
            "Epoch 221/500\n",
            "2/2 [==============================] - 0s 7ms/step - loss: 6.9474 - mae: 6.9474\n",
            "Epoch 222/500\n",
            "2/2 [==============================] - 0s 10ms/step - loss: 5.3941 - mae: 5.3941\n",
            "Epoch 223/500\n",
            "2/2 [==============================] - 0s 8ms/step - loss: 4.8477 - mae: 4.8477\n",
            "Epoch 224/500\n",
            "2/2 [==============================] - 0s 7ms/step - loss: 4.1097 - mae: 4.1097\n",
            "Epoch 225/500\n",
            "2/2 [==============================] - 0s 8ms/step - loss: 4.3898 - mae: 4.3898\n",
            "Epoch 226/500\n",
            "2/2 [==============================] - 0s 8ms/step - loss: 4.3330 - mae: 4.3330\n",
            "Epoch 227/500\n",
            "2/2 [==============================] - 0s 7ms/step - loss: 4.0218 - mae: 4.0218\n",
            "Epoch 228/500\n",
            "2/2 [==============================] - 0s 7ms/step - loss: 4.0141 - mae: 4.0141\n",
            "Epoch 229/500\n",
            "2/2 [==============================] - 0s 9ms/step - loss: 4.0219 - mae: 4.0219\n",
            "Epoch 230/500\n",
            "2/2 [==============================] - 0s 7ms/step - loss: 4.2590 - mae: 4.2590\n",
            "Epoch 231/500\n",
            "2/2 [==============================] - 0s 14ms/step - loss: 4.0535 - mae: 4.0535\n",
            "Epoch 232/500\n",
            "2/2 [==============================] - 0s 8ms/step - loss: 4.6766 - mae: 4.6766\n",
            "Epoch 233/500\n",
            "2/2 [==============================] - 0s 11ms/step - loss: 5.3367 - mae: 5.3367\n",
            "Epoch 234/500\n",
            "2/2 [==============================] - 0s 11ms/step - loss: 4.4483 - mae: 4.4483\n",
            "Epoch 235/500\n",
            "2/2 [==============================] - 0s 9ms/step - loss: 4.0668 - mae: 4.0668\n",
            "Epoch 236/500\n",
            "2/2 [==============================] - 0s 11ms/step - loss: 4.0547 - mae: 4.0547\n",
            "Epoch 237/500\n",
            "2/2 [==============================] - 0s 8ms/step - loss: 4.1104 - mae: 4.1104\n",
            "Epoch 238/500\n",
            "2/2 [==============================] - 0s 12ms/step - loss: 4.0893 - mae: 4.0893\n",
            "Epoch 239/500\n",
            "2/2 [==============================] - 0s 9ms/step - loss: 4.9762 - mae: 4.9762\n",
            "Epoch 240/500\n",
            "2/2 [==============================] - 0s 8ms/step - loss: 4.2134 - mae: 4.2134\n",
            "Epoch 241/500\n",
            "2/2 [==============================] - 0s 9ms/step - loss: 4.5536 - mae: 4.5536\n",
            "Epoch 242/500\n",
            "2/2 [==============================] - 0s 12ms/step - loss: 4.5682 - mae: 4.5682\n",
            "Epoch 243/500\n",
            "2/2 [==============================] - 0s 10ms/step - loss: 4.1420 - mae: 4.1420\n",
            "Epoch 244/500\n",
            "2/2 [==============================] - 0s 9ms/step - loss: 4.1948 - mae: 4.1948\n",
            "Epoch 245/500\n",
            "2/2 [==============================] - 0s 9ms/step - loss: 4.2849 - mae: 4.2849\n",
            "Epoch 246/500\n",
            "2/2 [==============================] - 0s 10ms/step - loss: 4.2657 - mae: 4.2657\n",
            "Epoch 247/500\n",
            "2/2 [==============================] - 0s 7ms/step - loss: 5.4393 - mae: 5.4393\n",
            "Epoch 248/500\n",
            "2/2 [==============================] - 0s 6ms/step - loss: 4.3715 - mae: 4.3715\n",
            "Epoch 249/500\n",
            "2/2 [==============================] - 0s 7ms/step - loss: 4.0333 - mae: 4.0333\n",
            "Epoch 250/500\n",
            "2/2 [==============================] - 0s 7ms/step - loss: 4.0750 - mae: 4.0750\n",
            "Epoch 251/500\n",
            "2/2 [==============================] - 0s 11ms/step - loss: 4.1808 - mae: 4.1808\n",
            "Epoch 252/500\n",
            "2/2 [==============================] - 0s 7ms/step - loss: 6.3663 - mae: 6.3663\n",
            "Epoch 253/500\n",
            "2/2 [==============================] - 0s 10ms/step - loss: 4.1498 - mae: 4.1498\n",
            "Epoch 254/500\n",
            "2/2 [==============================] - 0s 9ms/step - loss: 4.5240 - mae: 4.5240\n",
            "Epoch 255/500\n",
            "2/2 [==============================] - 0s 9ms/step - loss: 4.1960 - mae: 4.1960\n",
            "Epoch 256/500\n",
            "2/2 [==============================] - 0s 9ms/step - loss: 4.7624 - mae: 4.7624\n",
            "Epoch 257/500\n",
            "2/2 [==============================] - 0s 8ms/step - loss: 4.0108 - mae: 4.0108\n",
            "Epoch 258/500\n",
            "2/2 [==============================] - 0s 7ms/step - loss: 4.0163 - mae: 4.0163\n",
            "Epoch 259/500\n",
            "2/2 [==============================] - 0s 9ms/step - loss: 4.8350 - mae: 4.8350\n",
            "Epoch 260/500\n",
            "2/2 [==============================] - 0s 8ms/step - loss: 4.6878 - mae: 4.6878\n",
            "Epoch 261/500\n",
            "2/2 [==============================] - 0s 8ms/step - loss: 4.0847 - mae: 4.0847\n",
            "Epoch 262/500\n",
            "2/2 [==============================] - 0s 8ms/step - loss: 4.5588 - mae: 4.5588\n",
            "Epoch 263/500\n",
            "2/2 [==============================] - 0s 8ms/step - loss: 4.1116 - mae: 4.1116\n",
            "Epoch 264/500\n",
            "2/2 [==============================] - 0s 8ms/step - loss: 5.2261 - mae: 5.2261\n",
            "Epoch 265/500\n",
            "2/2 [==============================] - 0s 9ms/step - loss: 4.3187 - mae: 4.3187\n",
            "Epoch 266/500\n",
            "2/2 [==============================] - 0s 9ms/step - loss: 4.0930 - mae: 4.0930\n",
            "Epoch 267/500\n",
            "2/2 [==============================] - 0s 8ms/step - loss: 3.9967 - mae: 3.9967\n",
            "Epoch 268/500\n",
            "2/2 [==============================] - 0s 7ms/step - loss: 4.0423 - mae: 4.0423\n",
            "Epoch 269/500\n",
            "2/2 [==============================] - 0s 9ms/step - loss: 4.5924 - mae: 4.5924\n",
            "Epoch 270/500\n",
            "2/2 [==============================] - 0s 10ms/step - loss: 4.0145 - mae: 4.0145\n",
            "Epoch 271/500\n",
            "2/2 [==============================] - 0s 8ms/step - loss: 4.4236 - mae: 4.4236\n",
            "Epoch 272/500\n",
            "2/2 [==============================] - 0s 8ms/step - loss: 5.0306 - mae: 5.0306\n",
            "Epoch 273/500\n",
            "2/2 [==============================] - 0s 9ms/step - loss: 4.2049 - mae: 4.2049\n",
            "Epoch 274/500\n",
            "2/2 [==============================] - 0s 10ms/step - loss: 4.1666 - mae: 4.1666\n",
            "Epoch 275/500\n",
            "2/2 [==============================] - 0s 7ms/step - loss: 4.6434 - mae: 4.6434\n",
            "Epoch 276/500\n",
            "2/2 [==============================] - 0s 8ms/step - loss: 4.1692 - mae: 4.1692\n",
            "Epoch 277/500\n",
            "2/2 [==============================] - 0s 9ms/step - loss: 6.2354 - mae: 6.2354\n",
            "Epoch 278/500\n",
            "2/2 [==============================] - 0s 9ms/step - loss: 4.2192 - mae: 4.2192\n",
            "Epoch 279/500\n",
            "2/2 [==============================] - 0s 10ms/step - loss: 4.5003 - mae: 4.5003\n",
            "Epoch 280/500\n",
            "2/2 [==============================] - 0s 8ms/step - loss: 5.3991 - mae: 5.3991\n",
            "Epoch 281/500\n",
            "2/2 [==============================] - 0s 10ms/step - loss: 4.3211 - mae: 4.3211\n",
            "Epoch 282/500\n",
            "2/2 [==============================] - 0s 12ms/step - loss: 4.0740 - mae: 4.0740\n",
            "Epoch 283/500\n",
            "2/2 [==============================] - 0s 7ms/step - loss: 4.1289 - mae: 4.1289\n",
            "Epoch 284/500\n",
            "2/2 [==============================] - 0s 11ms/step - loss: 4.9497 - mae: 4.9497\n",
            "Epoch 285/500\n",
            "2/2 [==============================] - 0s 8ms/step - loss: 3.9155 - mae: 3.9155\n",
            "Epoch 286/500\n",
            "2/2 [==============================] - 0s 9ms/step - loss: 5.2845 - mae: 5.2845\n",
            "Epoch 287/500\n",
            "2/2 [==============================] - 0s 8ms/step - loss: 4.0896 - mae: 4.0896\n",
            "Epoch 288/500\n",
            "2/2 [==============================] - 0s 7ms/step - loss: 4.0758 - mae: 4.0758\n",
            "Epoch 289/500\n",
            "2/2 [==============================] - 0s 7ms/step - loss: 4.0525 - mae: 4.0525\n",
            "Epoch 290/500\n",
            "2/2 [==============================] - 0s 7ms/step - loss: 3.9819 - mae: 3.9819\n",
            "Epoch 291/500\n",
            "2/2 [==============================] - 0s 10ms/step - loss: 4.8748 - mae: 4.8748\n",
            "Epoch 292/500\n",
            "2/2 [==============================] - 0s 9ms/step - loss: 3.9883 - mae: 3.9883\n",
            "Epoch 293/500\n",
            "2/2 [==============================] - 0s 9ms/step - loss: 4.0908 - mae: 4.0908\n",
            "Epoch 294/500\n",
            "2/2 [==============================] - 0s 8ms/step - loss: 5.5864 - mae: 5.5864\n",
            "Epoch 295/500\n",
            "2/2 [==============================] - 0s 9ms/step - loss: 4.5058 - mae: 4.5058\n",
            "Epoch 296/500\n",
            "2/2 [==============================] - 0s 8ms/step - loss: 4.3817 - mae: 4.3817\n",
            "Epoch 297/500\n",
            "2/2 [==============================] - 0s 8ms/step - loss: 4.2199 - mae: 4.2199\n",
            "Epoch 298/500\n",
            "2/2 [==============================] - 0s 8ms/step - loss: 4.7375 - mae: 4.7375\n",
            "Epoch 299/500\n",
            "2/2 [==============================] - 0s 7ms/step - loss: 4.5317 - mae: 4.5317\n",
            "Epoch 300/500\n",
            "2/2 [==============================] - 0s 7ms/step - loss: 4.0455 - mae: 4.0455\n",
            "Epoch 301/500\n",
            "2/2 [==============================] - 0s 11ms/step - loss: 4.3054 - mae: 4.3054\n",
            "Epoch 302/500\n",
            "2/2 [==============================] - 0s 10ms/step - loss: 4.4462 - mae: 4.4462\n",
            "Epoch 303/500\n",
            "2/2 [==============================] - 0s 9ms/step - loss: 4.1335 - mae: 4.1335\n",
            "Epoch 304/500\n",
            "2/2 [==============================] - 0s 9ms/step - loss: 4.1236 - mae: 4.1236\n",
            "Epoch 305/500\n",
            "2/2 [==============================] - 0s 7ms/step - loss: 4.2517 - mae: 4.2517\n",
            "Epoch 306/500\n",
            "2/2 [==============================] - 0s 8ms/step - loss: 4.2392 - mae: 4.2392\n",
            "Epoch 307/500\n",
            "2/2 [==============================] - 0s 11ms/step - loss: 4.7284 - mae: 4.7284\n",
            "Epoch 308/500\n",
            "2/2 [==============================] - 0s 8ms/step - loss: 4.1794 - mae: 4.1794\n",
            "Epoch 309/500\n",
            "2/2 [==============================] - 0s 9ms/step - loss: 4.6841 - mae: 4.6841\n",
            "Epoch 310/500\n",
            "2/2 [==============================] - 0s 8ms/step - loss: 3.9670 - mae: 3.9670\n",
            "Epoch 311/500\n",
            "2/2 [==============================] - 0s 9ms/step - loss: 4.0204 - mae: 4.0204\n",
            "Epoch 312/500\n",
            "2/2 [==============================] - 0s 11ms/step - loss: 4.9032 - mae: 4.9032\n",
            "Epoch 313/500\n",
            "2/2 [==============================] - 0s 7ms/step - loss: 4.9870 - mae: 4.9870\n",
            "Epoch 314/500\n",
            "2/2 [==============================] - 0s 9ms/step - loss: 4.1820 - mae: 4.1820\n",
            "Epoch 315/500\n",
            "2/2 [==============================] - 0s 9ms/step - loss: 5.8758 - mae: 5.8758\n",
            "Epoch 316/500\n",
            "2/2 [==============================] - 0s 10ms/step - loss: 4.0768 - mae: 4.0768\n",
            "Epoch 317/500\n",
            "2/2 [==============================] - 0s 8ms/step - loss: 6.3249 - mae: 6.3249\n",
            "Epoch 318/500\n",
            "2/2 [==============================] - 0s 8ms/step - loss: 5.9092 - mae: 5.9092\n",
            "Epoch 319/500\n",
            "2/2 [==============================] - 0s 8ms/step - loss: 4.3430 - mae: 4.3430\n",
            "Epoch 320/500\n",
            "2/2 [==============================] - 0s 9ms/step - loss: 4.3006 - mae: 4.3006\n",
            "Epoch 321/500\n",
            "2/2 [==============================] - 0s 9ms/step - loss: 4.0907 - mae: 4.0907\n",
            "Epoch 322/500\n",
            "2/2 [==============================] - 0s 8ms/step - loss: 3.9650 - mae: 3.9650\n",
            "Epoch 323/500\n",
            "2/2 [==============================] - 0s 7ms/step - loss: 4.0990 - mae: 4.0990\n",
            "Epoch 324/500\n",
            "2/2 [==============================] - 0s 9ms/step - loss: 3.9365 - mae: 3.9365\n",
            "Epoch 325/500\n",
            "2/2 [==============================] - 0s 6ms/step - loss: 4.4049 - mae: 4.4049\n",
            "Epoch 326/500\n",
            "2/2 [==============================] - 0s 8ms/step - loss: 4.1494 - mae: 4.1494\n",
            "Epoch 327/500\n",
            "2/2 [==============================] - 0s 6ms/step - loss: 4.0179 - mae: 4.0179\n",
            "Epoch 328/500\n",
            "2/2 [==============================] - 0s 9ms/step - loss: 4.1181 - mae: 4.1181\n",
            "Epoch 329/500\n",
            "2/2 [==============================] - 0s 8ms/step - loss: 3.9803 - mae: 3.9803\n",
            "Epoch 330/500\n",
            "2/2 [==============================] - 0s 10ms/step - loss: 4.2575 - mae: 4.2575\n",
            "Epoch 331/500\n",
            "2/2 [==============================] - 0s 7ms/step - loss: 4.8971 - mae: 4.8971\n",
            "Epoch 332/500\n",
            "2/2 [==============================] - 0s 7ms/step - loss: 4.0735 - mae: 4.0735\n",
            "Epoch 333/500\n",
            "2/2 [==============================] - 0s 6ms/step - loss: 4.9080 - mae: 4.9080\n",
            "Epoch 334/500\n",
            "2/2 [==============================] - 0s 14ms/step - loss: 4.0215 - mae: 4.0215\n",
            "Epoch 335/500\n",
            "2/2 [==============================] - 0s 12ms/step - loss: 4.3399 - mae: 4.3399\n",
            "Epoch 336/500\n",
            "2/2 [==============================] - 0s 11ms/step - loss: 7.5449 - mae: 7.5449\n",
            "Epoch 337/500\n",
            "2/2 [==============================] - 0s 7ms/step - loss: 4.7915 - mae: 4.7915\n",
            "Epoch 338/500\n",
            "2/2 [==============================] - 0s 8ms/step - loss: 3.9718 - mae: 3.9718\n",
            "Epoch 339/500\n",
            "2/2 [==============================] - 0s 9ms/step - loss: 4.3425 - mae: 4.3425\n",
            "Epoch 340/500\n",
            "2/2 [==============================] - 0s 8ms/step - loss: 3.9680 - mae: 3.9680\n",
            "Epoch 341/500\n",
            "2/2 [==============================] - 0s 7ms/step - loss: 4.1760 - mae: 4.1760\n",
            "Epoch 342/500\n",
            "2/2 [==============================] - 0s 7ms/step - loss: 3.9531 - mae: 3.9531\n",
            "Epoch 343/500\n",
            "2/2 [==============================] - 0s 7ms/step - loss: 4.4076 - mae: 4.4076\n",
            "Epoch 344/500\n",
            "2/2 [==============================] - 0s 7ms/step - loss: 4.1110 - mae: 4.1110\n",
            "Epoch 345/500\n",
            "2/2 [==============================] - 0s 7ms/step - loss: 4.1351 - mae: 4.1351\n",
            "Epoch 346/500\n",
            "2/2 [==============================] - 0s 6ms/step - loss: 3.9722 - mae: 3.9722\n",
            "Epoch 347/500\n",
            "2/2 [==============================] - 0s 7ms/step - loss: 5.0361 - mae: 5.0361\n",
            "Epoch 348/500\n",
            "2/2 [==============================] - 0s 7ms/step - loss: 3.9504 - mae: 3.9504\n",
            "Epoch 349/500\n",
            "2/2 [==============================] - 0s 7ms/step - loss: 4.0071 - mae: 4.0071\n",
            "Epoch 350/500\n",
            "2/2 [==============================] - 0s 7ms/step - loss: 4.0094 - mae: 4.0094\n",
            "Epoch 351/500\n",
            "2/2 [==============================] - 0s 7ms/step - loss: 5.3638 - mae: 5.3638\n",
            "Epoch 352/500\n",
            "2/2 [==============================] - 0s 7ms/step - loss: 4.3087 - mae: 4.3087\n",
            "Epoch 353/500\n",
            "2/2 [==============================] - 0s 8ms/step - loss: 4.3120 - mae: 4.3120\n",
            "Epoch 354/500\n",
            "2/2 [==============================] - 0s 7ms/step - loss: 4.2295 - mae: 4.2295\n",
            "Epoch 355/500\n",
            "2/2 [==============================] - 0s 7ms/step - loss: 5.4132 - mae: 5.4132\n",
            "Epoch 356/500\n",
            "2/2 [==============================] - 0s 7ms/step - loss: 4.3247 - mae: 4.3247\n",
            "Epoch 357/500\n",
            "2/2 [==============================] - 0s 7ms/step - loss: 4.3803 - mae: 4.3803\n",
            "Epoch 358/500\n",
            "2/2 [==============================] - 0s 7ms/step - loss: 3.9986 - mae: 3.9986\n",
            "Epoch 359/500\n",
            "2/2 [==============================] - 0s 7ms/step - loss: 3.9781 - mae: 3.9781\n",
            "Epoch 360/500\n",
            "2/2 [==============================] - 0s 7ms/step - loss: 5.7811 - mae: 5.7811\n",
            "Epoch 361/500\n",
            "2/2 [==============================] - 0s 8ms/step - loss: 3.9917 - mae: 3.9917\n",
            "Epoch 362/500\n",
            "2/2 [==============================] - 0s 8ms/step - loss: 4.5456 - mae: 4.5456\n",
            "Epoch 363/500\n",
            "2/2 [==============================] - 0s 7ms/step - loss: 5.0864 - mae: 5.0864\n",
            "Epoch 364/500\n",
            "2/2 [==============================] - 0s 9ms/step - loss: 4.1831 - mae: 4.1831\n",
            "Epoch 365/500\n",
            "2/2 [==============================] - 0s 10ms/step - loss: 3.9983 - mae: 3.9983\n",
            "Epoch 366/500\n",
            "2/2 [==============================] - 0s 9ms/step - loss: 4.0021 - mae: 4.0021\n",
            "Epoch 367/500\n",
            "2/2 [==============================] - 0s 11ms/step - loss: 5.2288 - mae: 5.2288\n",
            "Epoch 368/500\n",
            "2/2 [==============================] - 0s 8ms/step - loss: 3.9688 - mae: 3.9688\n",
            "Epoch 369/500\n",
            "2/2 [==============================] - 0s 8ms/step - loss: 3.9075 - mae: 3.9075\n",
            "Epoch 370/500\n",
            "2/2 [==============================] - 0s 8ms/step - loss: 4.0667 - mae: 4.0667\n",
            "Epoch 371/500\n",
            "2/2 [==============================] - 0s 7ms/step - loss: 4.0159 - mae: 4.0159\n",
            "Epoch 372/500\n",
            "2/2 [==============================] - 0s 9ms/step - loss: 3.9456 - mae: 3.9456\n",
            "Epoch 373/500\n",
            "2/2 [==============================] - 0s 7ms/step - loss: 3.9726 - mae: 3.9726\n",
            "Epoch 374/500\n",
            "2/2 [==============================] - 0s 9ms/step - loss: 4.7495 - mae: 4.7495\n",
            "Epoch 375/500\n",
            "2/2 [==============================] - 0s 9ms/step - loss: 4.0912 - mae: 4.0912\n",
            "Epoch 376/500\n",
            "2/2 [==============================] - 0s 8ms/step - loss: 4.4469 - mae: 4.4469\n",
            "Epoch 377/500\n",
            "2/2 [==============================] - 0s 8ms/step - loss: 4.1356 - mae: 4.1356\n",
            "Epoch 378/500\n",
            "2/2 [==============================] - 0s 7ms/step - loss: 3.9952 - mae: 3.9952\n",
            "Epoch 379/500\n",
            "2/2 [==============================] - 0s 8ms/step - loss: 4.7370 - mae: 4.7370\n",
            "Epoch 380/500\n",
            "2/2 [==============================] - 0s 8ms/step - loss: 5.1611 - mae: 5.1611\n",
            "Epoch 381/500\n",
            "2/2 [==============================] - 0s 7ms/step - loss: 3.9281 - mae: 3.9281\n",
            "Epoch 382/500\n",
            "2/2 [==============================] - 0s 7ms/step - loss: 4.0488 - mae: 4.0488\n",
            "Epoch 383/500\n",
            "2/2 [==============================] - 0s 7ms/step - loss: 4.1328 - mae: 4.1328\n",
            "Epoch 384/500\n",
            "2/2 [==============================] - 0s 7ms/step - loss: 4.1143 - mae: 4.1143\n",
            "Epoch 385/500\n",
            "2/2 [==============================] - 0s 7ms/step - loss: 3.9528 - mae: 3.9528\n",
            "Epoch 386/500\n",
            "2/2 [==============================] - 0s 8ms/step - loss: 3.9538 - mae: 3.9538\n",
            "Epoch 387/500\n",
            "2/2 [==============================] - 0s 8ms/step - loss: 4.0511 - mae: 4.0511\n",
            "Epoch 388/500\n",
            "2/2 [==============================] - 0s 9ms/step - loss: 3.9953 - mae: 3.9953\n",
            "Epoch 389/500\n",
            "2/2 [==============================] - 0s 9ms/step - loss: 4.3020 - mae: 4.3020\n",
            "Epoch 390/500\n",
            "2/2 [==============================] - 0s 11ms/step - loss: 5.5050 - mae: 5.5050\n",
            "Epoch 391/500\n",
            "2/2 [==============================] - 0s 8ms/step - loss: 4.0548 - mae: 4.0548\n",
            "Epoch 392/500\n",
            "2/2 [==============================] - 0s 10ms/step - loss: 5.1694 - mae: 5.1694\n",
            "Epoch 393/500\n",
            "2/2 [==============================] - 0s 11ms/step - loss: 4.5126 - mae: 4.5126\n",
            "Epoch 394/500\n",
            "2/2 [==============================] - 0s 13ms/step - loss: 3.8916 - mae: 3.8916\n",
            "Epoch 395/500\n",
            "2/2 [==============================] - 0s 11ms/step - loss: 4.3620 - mae: 4.3620\n",
            "Epoch 396/500\n",
            "2/2 [==============================] - 0s 13ms/step - loss: 3.9294 - mae: 3.9294\n",
            "Epoch 397/500\n",
            "2/2 [==============================] - 0s 8ms/step - loss: 3.9749 - mae: 3.9749\n",
            "Epoch 398/500\n",
            "2/2 [==============================] - 0s 8ms/step - loss: 3.9655 - mae: 3.9655\n",
            "Epoch 399/500\n",
            "2/2 [==============================] - 0s 8ms/step - loss: 3.9820 - mae: 3.9820\n",
            "Epoch 400/500\n",
            "2/2 [==============================] - 0s 10ms/step - loss: 4.1384 - mae: 4.1384\n",
            "Epoch 401/500\n",
            "2/2 [==============================] - 0s 7ms/step - loss: 4.1973 - mae: 4.1973\n",
            "Epoch 402/500\n",
            "2/2 [==============================] - 0s 7ms/step - loss: 4.0408 - mae: 4.0408\n",
            "Epoch 403/500\n",
            "2/2 [==============================] - 0s 11ms/step - loss: 4.1550 - mae: 4.1550\n",
            "Epoch 404/500\n",
            "2/2 [==============================] - 0s 8ms/step - loss: 3.9951 - mae: 3.9951\n",
            "Epoch 405/500\n",
            "2/2 [==============================] - 0s 8ms/step - loss: 5.1006 - mae: 5.1006\n",
            "Epoch 406/500\n",
            "2/2 [==============================] - 0s 7ms/step - loss: 4.0185 - mae: 4.0185\n",
            "Epoch 407/500\n",
            "2/2 [==============================] - 0s 8ms/step - loss: 3.9371 - mae: 3.9371\n",
            "Epoch 408/500\n",
            "2/2 [==============================] - 0s 8ms/step - loss: 3.9423 - mae: 3.9423\n",
            "Epoch 409/500\n",
            "2/2 [==============================] - 0s 8ms/step - loss: 4.3646 - mae: 4.3646\n",
            "Epoch 410/500\n",
            "2/2 [==============================] - 0s 8ms/step - loss: 4.4663 - mae: 4.4663\n",
            "Epoch 411/500\n",
            "2/2 [==============================] - 0s 9ms/step - loss: 4.0820 - mae: 4.0820\n",
            "Epoch 412/500\n",
            "2/2 [==============================] - 0s 9ms/step - loss: 3.9942 - mae: 3.9942\n",
            "Epoch 413/500\n",
            "2/2 [==============================] - 0s 10ms/step - loss: 4.0471 - mae: 4.0471\n",
            "Epoch 414/500\n",
            "2/2 [==============================] - 0s 11ms/step - loss: 4.7955 - mae: 4.7955\n",
            "Epoch 415/500\n",
            "2/2 [==============================] - 0s 11ms/step - loss: 4.1956 - mae: 4.1956\n",
            "Epoch 416/500\n",
            "2/2 [==============================] - 0s 11ms/step - loss: 5.0230 - mae: 5.0230\n",
            "Epoch 417/500\n",
            "2/2 [==============================] - 0s 12ms/step - loss: 4.0904 - mae: 4.0904\n",
            "Epoch 418/500\n",
            "2/2 [==============================] - 0s 13ms/step - loss: 4.0666 - mae: 4.0666\n",
            "Epoch 419/500\n",
            "2/2 [==============================] - 0s 11ms/step - loss: 4.4335 - mae: 4.4335\n",
            "Epoch 420/500\n",
            "2/2 [==============================] - 0s 14ms/step - loss: 4.5627 - mae: 4.5627\n",
            "Epoch 421/500\n",
            "2/2 [==============================] - 0s 10ms/step - loss: 3.9098 - mae: 3.9098\n",
            "Epoch 422/500\n",
            "2/2 [==============================] - 0s 7ms/step - loss: 4.0124 - mae: 4.0124\n",
            "Epoch 423/500\n",
            "2/2 [==============================] - 0s 9ms/step - loss: 3.9643 - mae: 3.9643\n",
            "Epoch 424/500\n",
            "2/2 [==============================] - 0s 8ms/step - loss: 4.3530 - mae: 4.3530\n",
            "Epoch 425/500\n",
            "2/2 [==============================] - 0s 8ms/step - loss: 4.8363 - mae: 4.8363\n",
            "Epoch 426/500\n",
            "2/2 [==============================] - 0s 10ms/step - loss: 3.9655 - mae: 3.9655\n",
            "Epoch 427/500\n",
            "2/2 [==============================] - 0s 11ms/step - loss: 3.9997 - mae: 3.9997\n",
            "Epoch 428/500\n",
            "2/2 [==============================] - 0s 8ms/step - loss: 3.9333 - mae: 3.9333\n",
            "Epoch 429/500\n",
            "2/2 [==============================] - 0s 8ms/step - loss: 4.3899 - mae: 4.3899\n",
            "Epoch 430/500\n",
            "2/2 [==============================] - 0s 8ms/step - loss: 3.9769 - mae: 3.9769\n",
            "Epoch 431/500\n",
            "2/2 [==============================] - 0s 7ms/step - loss: 5.7437 - mae: 5.7437\n",
            "Epoch 432/500\n",
            "2/2 [==============================] - 0s 11ms/step - loss: 5.2865 - mae: 5.2865\n",
            "Epoch 433/500\n",
            "2/2 [==============================] - 0s 9ms/step - loss: 3.9266 - mae: 3.9266\n",
            "Epoch 434/500\n",
            "2/2 [==============================] - 0s 8ms/step - loss: 3.8668 - mae: 3.8668\n",
            "Epoch 435/500\n",
            "2/2 [==============================] - 0s 8ms/step - loss: 3.8958 - mae: 3.8958\n",
            "Epoch 436/500\n",
            "2/2 [==============================] - 0s 8ms/step - loss: 4.8719 - mae: 4.8719\n",
            "Epoch 437/500\n",
            "2/2 [==============================] - 0s 8ms/step - loss: 4.4886 - mae: 4.4886\n",
            "Epoch 438/500\n",
            "2/2 [==============================] - 0s 9ms/step - loss: 4.0270 - mae: 4.0270\n",
            "Epoch 439/500\n",
            "2/2 [==============================] - 0s 11ms/step - loss: 6.0385 - mae: 6.0385\n",
            "Epoch 440/500\n",
            "2/2 [==============================] - 0s 8ms/step - loss: 3.8750 - mae: 3.8750\n",
            "Epoch 441/500\n",
            "2/2 [==============================] - 0s 7ms/step - loss: 4.1721 - mae: 4.1721\n",
            "Epoch 442/500\n",
            "2/2 [==============================] - 0s 7ms/step - loss: 4.1869 - mae: 4.1869\n",
            "Epoch 443/500\n",
            "2/2 [==============================] - 0s 8ms/step - loss: 3.9283 - mae: 3.9283\n",
            "Epoch 444/500\n",
            "2/2 [==============================] - 0s 7ms/step - loss: 4.0378 - mae: 4.0378\n",
            "Epoch 445/500\n",
            "2/2 [==============================] - 0s 8ms/step - loss: 3.9409 - mae: 3.9409\n",
            "Epoch 446/500\n",
            "2/2 [==============================] - 0s 7ms/step - loss: 4.7869 - mae: 4.7869\n",
            "Epoch 447/500\n",
            "2/2 [==============================] - 0s 8ms/step - loss: 3.8953 - mae: 3.8953\n",
            "Epoch 448/500\n",
            "2/2 [==============================] - 0s 9ms/step - loss: 4.5883 - mae: 4.5883\n",
            "Epoch 449/500\n",
            "2/2 [==============================] - 0s 11ms/step - loss: 3.9681 - mae: 3.9681\n",
            "Epoch 450/500\n",
            "2/2 [==============================] - 0s 9ms/step - loss: 4.1557 - mae: 4.1557\n",
            "Epoch 451/500\n",
            "2/2 [==============================] - 0s 10ms/step - loss: 4.5549 - mae: 4.5549\n",
            "Epoch 452/500\n",
            "2/2 [==============================] - 0s 8ms/step - loss: 5.0116 - mae: 5.0116\n",
            "Epoch 453/500\n",
            "2/2 [==============================] - 0s 8ms/step - loss: 4.1233 - mae: 4.1233\n",
            "Epoch 454/500\n",
            "2/2 [==============================] - 0s 9ms/step - loss: 5.4553 - mae: 5.4553\n",
            "Epoch 455/500\n",
            "2/2 [==============================] - 0s 9ms/step - loss: 3.8762 - mae: 3.8762\n",
            "Epoch 456/500\n",
            "2/2 [==============================] - 0s 8ms/step - loss: 4.4653 - mae: 4.4653\n",
            "Epoch 457/500\n",
            "2/2 [==============================] - 0s 7ms/step - loss: 3.9695 - mae: 3.9695\n",
            "Epoch 458/500\n",
            "2/2 [==============================] - 0s 7ms/step - loss: 4.4443 - mae: 4.4443\n",
            "Epoch 459/500\n",
            "2/2 [==============================] - 0s 7ms/step - loss: 4.1856 - mae: 4.1856\n",
            "Epoch 460/500\n",
            "2/2 [==============================] - 0s 8ms/step - loss: 4.2835 - mae: 4.2835\n",
            "Epoch 461/500\n",
            "2/2 [==============================] - 0s 8ms/step - loss: 3.8760 - mae: 3.8760\n",
            "Epoch 462/500\n",
            "2/2 [==============================] - 0s 12ms/step - loss: 4.3720 - mae: 4.3720\n",
            "Epoch 463/500\n",
            "2/2 [==============================] - 0s 9ms/step - loss: 4.1748 - mae: 4.1748\n",
            "Epoch 464/500\n",
            "2/2 [==============================] - 0s 7ms/step - loss: 3.8879 - mae: 3.8879\n",
            "Epoch 465/500\n",
            "2/2 [==============================] - 0s 11ms/step - loss: 4.0682 - mae: 4.0682\n",
            "Epoch 466/500\n",
            "2/2 [==============================] - 0s 12ms/step - loss: 4.4125 - mae: 4.4125\n",
            "Epoch 467/500\n",
            "2/2 [==============================] - 0s 9ms/step - loss: 4.2708 - mae: 4.2708\n",
            "Epoch 468/500\n",
            "2/2 [==============================] - 0s 9ms/step - loss: 4.0660 - mae: 4.0660\n",
            "Epoch 469/500\n",
            "2/2 [==============================] - 0s 8ms/step - loss: 4.5116 - mae: 4.5116\n",
            "Epoch 470/500\n",
            "2/2 [==============================] - 0s 7ms/step - loss: 3.9920 - mae: 3.9920\n",
            "Epoch 471/500\n",
            "2/2 [==============================] - 0s 7ms/step - loss: 4.7841 - mae: 4.7841\n",
            "Epoch 472/500\n",
            "2/2 [==============================] - 0s 7ms/step - loss: 4.2186 - mae: 4.2186\n",
            "Epoch 473/500\n",
            "2/2 [==============================] - 0s 8ms/step - loss: 4.0232 - mae: 4.0232\n",
            "Epoch 474/500\n",
            "2/2 [==============================] - 0s 9ms/step - loss: 4.3920 - mae: 4.3920\n",
            "Epoch 475/500\n",
            "2/2 [==============================] - 0s 8ms/step - loss: 3.8642 - mae: 3.8642\n",
            "Epoch 476/500\n",
            "2/2 [==============================] - 0s 8ms/step - loss: 4.0146 - mae: 4.0146\n",
            "Epoch 477/500\n",
            "2/2 [==============================] - 0s 8ms/step - loss: 5.2381 - mae: 5.2381\n",
            "Epoch 478/500\n",
            "2/2 [==============================] - 0s 8ms/step - loss: 3.8696 - mae: 3.8696\n",
            "Epoch 479/500\n",
            "2/2 [==============================] - 0s 13ms/step - loss: 3.9120 - mae: 3.9120\n",
            "Epoch 480/500\n",
            "2/2 [==============================] - 0s 8ms/step - loss: 4.6579 - mae: 4.6579\n",
            "Epoch 481/500\n",
            "2/2 [==============================] - 0s 8ms/step - loss: 3.9401 - mae: 3.9401\n",
            "Epoch 482/500\n",
            "2/2 [==============================] - 0s 11ms/step - loss: 3.9177 - mae: 3.9177\n",
            "Epoch 483/500\n",
            "2/2 [==============================] - 0s 9ms/step - loss: 3.9311 - mae: 3.9311\n",
            "Epoch 484/500\n",
            "2/2 [==============================] - 0s 10ms/step - loss: 4.0131 - mae: 4.0131\n",
            "Epoch 485/500\n",
            "2/2 [==============================] - 0s 7ms/step - loss: 3.9503 - mae: 3.9503\n",
            "Epoch 486/500\n",
            "2/2 [==============================] - 0s 6ms/step - loss: 4.1943 - mae: 4.1943\n",
            "Epoch 487/500\n",
            "2/2 [==============================] - 0s 10ms/step - loss: 4.8968 - mae: 4.8968\n",
            "Epoch 488/500\n",
            "2/2 [==============================] - 0s 7ms/step - loss: 5.2614 - mae: 5.2614\n",
            "Epoch 489/500\n",
            "2/2 [==============================] - 0s 8ms/step - loss: 4.6143 - mae: 4.6143\n",
            "Epoch 490/500\n",
            "2/2 [==============================] - 0s 8ms/step - loss: 3.8724 - mae: 3.8724\n",
            "Epoch 491/500\n",
            "2/2 [==============================] - 0s 9ms/step - loss: 3.8512 - mae: 3.8512\n",
            "Epoch 492/500\n",
            "2/2 [==============================] - 0s 9ms/step - loss: 4.1036 - mae: 4.1036\n",
            "Epoch 493/500\n",
            "2/2 [==============================] - 0s 8ms/step - loss: 4.1949 - mae: 4.1949\n",
            "Epoch 494/500\n",
            "2/2 [==============================] - 0s 10ms/step - loss: 3.8359 - mae: 3.8359\n",
            "Epoch 495/500\n",
            "2/2 [==============================] - 0s 9ms/step - loss: 4.6468 - mae: 4.6468\n",
            "Epoch 496/500\n",
            "2/2 [==============================] - 0s 10ms/step - loss: 4.0945 - mae: 4.0945\n",
            "Epoch 497/500\n",
            "2/2 [==============================] - 0s 10ms/step - loss: 3.8768 - mae: 3.8768\n",
            "Epoch 498/500\n",
            "2/2 [==============================] - 0s 8ms/step - loss: 4.0022 - mae: 4.0022\n",
            "Epoch 499/500\n",
            "2/2 [==============================] - 0s 10ms/step - loss: 4.3879 - mae: 4.3879\n",
            "Epoch 500/500\n",
            "2/2 [==============================] - 0s 10ms/step - loss: 4.1120 - mae: 4.1120\n"
          ]
        },
        {
          "output_type": "execute_result",
          "data": {
            "text/plain": [
              "<keras.src.callbacks.History at 0x7b2ff0ba0c10>"
            ]
          },
          "metadata": {},
          "execution_count": 167
        }
      ]
    },
    {
      "cell_type": "code",
      "source": [
        "# Make and plot some predictions\n",
        "y_preds_3 = model_3.predict(tf.expand_dims(X_test, axis=-1))\n",
        "plot_predictions(train_data=X_train, train_labels=y_train,\n",
        "                 test_data=X_test, test_labels=y_test,\n",
        "                 predictions=y_preds_3)"
      ],
      "metadata": {
        "colab": {
          "base_uri": "https://localhost:8080/",
          "height": 480
        },
        "id": "cVR8EUkgjz6n",
        "outputId": "4c9bbb2c-6035-426d-a649-58b86b4ff378"
      },
      "execution_count": 168,
      "outputs": [
        {
          "output_type": "stream",
          "name": "stdout",
          "text": [
            "1/1 [==============================] - 0s 91ms/step\n"
          ]
        },
        {
          "output_type": "display_data",
          "data": {
            "text/plain": [
              "<Figure size 1000x700 with 1 Axes>"
            ],
            "image/png": "[encoded data removed]"
          },
          "metadata": {}
        }
      ]
    },
    {
      "cell_type": "code",
      "source": [
        "# Calculate model_3 evaluation metrics\n",
        "mae_3 = mae(y_test, tf.squeeze(tf.constant(y_preds_3)))\n",
        "mse_3 = mse(y_test, tf.squeeze(tf.constant(y_preds_3)))\n",
        "mae_3, mse_3"
      ],
      "metadata": {
        "colab": {
          "base_uri": "https://localhost:8080/"
        },
        "id": "b4A1Xeeij-ol",
        "outputId": "024aca40-8f02-4be6-cbb7-ee3b43916db7"
      },
      "execution_count": 169,
      "outputs": [
        {
          "output_type": "execute_result",
          "data": {
            "text/plain": [
              "(<tf.Tensor: shape=(), dtype=float32, numpy=8.724483>,\n",
              " <tf.Tensor: shape=(), dtype=float32, numpy=83.01728>)"
            ]
          },
          "metadata": {},
          "execution_count": 169
        }
      ]
    },
    {
      "cell_type": "markdown",
      "source": [
        "🔑**Note:** Start with small experiments (small models) and make sure they work and scale up the complexity"
      ],
      "metadata": {
        "id": "Boyk6eJfvcMC"
      }
    },
    {
      "cell_type": "markdown",
      "source": [
        "### Comparing the results of our experiments\n",
        "\n",
        "We've run a few experiments, let's compare the results."
      ],
      "metadata": {
        "id": "6GFAzsV2k74D"
      }
    },
    {
      "cell_type": "code",
      "source": [
        "# Let's compare our model's results using a pandas DataFrame\n",
        "import pandas as pd\n",
        "\n",
        "model_results = [['model_1', mae_1.numpy(), mse_1.numpy()],\n",
        "                 ['model_2', mae_2.numpy(), mse_2.numpy()],\n",
        "                 ['model_3', mae_3.numpy(), mse_3.numpy()]]\n",
        "\n",
        "model_results = pd.DataFrame(model_results,\n",
        "                             columns=['model', 'mae', 'mse'])\n",
        "model_results"
      ],
      "metadata": {
        "id": "B39yEDTElJ6D",
        "colab": {
          "base_uri": "https://localhost:8080/",
          "height": 143
        },
        "outputId": "5cd0f470-2055-4c0f-c820-73ad5f482bed"
      },
      "execution_count": 170,
      "outputs": [
        {
          "output_type": "execute_result",
          "data": {
            "text/plain": [
              "     model       mae        mse\n",
              "0  model_1  8.641694  81.198975\n",
              "1  model_2  8.382156  77.443474\n",
              "2  model_3  8.724483  83.017281"
            ],
            "text/html": [
              "\n",
              "  <div id=\"df-79a22c4a-6071-451f-bb88-68e772804935\" class=\"colab-df-container\">\n",
              "    <div>\n",
              "<style scoped>\n",
              "    .dataframe tbody tr th:only-of-type {\n",
              "        vertical-align: middle;\n",
              "    }\n",
              "\n",
              "    .dataframe tbody tr th {\n",
              "        vertical-align: top;\n",
              "    }\n",
              "\n",
              "    .dataframe thead th {\n",
              "        text-align: right;\n",
              "    }\n",
              "</style>\n",
              "<table border=\"1\" class=\"dataframe\">\n",
              "  <thead>\n",
              "    <tr style=\"text-align: right;\">\n",
              "      <th></th>\n",
              "      <th>model</th>\n",
              "      <th>mae</th>\n",
              "      <th>mse</th>\n",
              "    </tr>\n",
              "  </thead>\n",
              "  <tbody>\n",
              "    <tr>\n",
              "      <th>0</th>\n",
              "      <td>model_1</td>\n",
              "      <td>8.641694</td>\n",
              "      <td>81.198975</td>\n",
              "    </tr>\n",
              "    <tr>\n",
              "      <th>1</th>\n",
              "      <td>model_2</td>\n",
              "      <td>8.382156</td>\n",
              "      <td>77.443474</td>\n",
              "    </tr>\n",
              "    <tr>\n",
              "      <th>2</th>\n",
              "      <td>model_3</td>\n",
              "      <td>8.724483</td>\n",
              "      <td>83.017281</td>\n",
              "    </tr>\n",
              "  </tbody>\n",
              "</table>\n",
              "</div>\n",
              "    <div class=\"colab-df-buttons\">\n",
              "\n",
              "  <div class=\"colab-df-container\">\n",
              "    <button class=\"colab-df-convert\" onclick=\"convertToInteractive('df-79a22c4a-6071-451f-bb88-68e772804935')\"\n",
              "            title=\"Convert this dataframe to an interactive table.\"\n",
              "            style=\"display:none;\">\n",
              "\n",
              "  <svg xmlns=\"http://www.w3.org/2000/svg\" height=\"24px\" viewBox=\"0 -960 960 960\">\n",
              "    <path d=\"M120-120v-720h720v720H120Zm60-500h600v-160H180v160Zm220 220h160v-160H400v160Zm0 220h160v-160H400v160ZM180-400h160v-160H180v160Zm440 0h160v-160H620v160ZM180-180h160v-160H180v160Zm440 0h160v-160H620v160Z\"/>\n",
              "  </svg>\n",
              "    </button>\n",
              "\n",
              "  <style>\n",
              "    .colab-df-container {\n",
              "      display:flex;\n",
              "      gap: 12px;\n",
              "    }\n",
              "\n",
              "    .colab-df-convert {\n",
              "      background-color: #E8F0FE;\n",
              "      border: none;\n",
              "      border-radius: 50%;\n",
              "      cursor: pointer;\n",
              "      display: none;\n",
              "      fill: #1967D2;\n",
              "      height: 32px;\n",
              "      padding: 0 0 0 0;\n",
              "      width: 32px;\n",
              "    }\n",
              "\n",
              "    .colab-df-convert:hover {\n",
              "      background-color: #E2EBFA;\n",
              "      box-shadow: 0px 1px 2px rgba(60, 64, 67, 0.3), 0px 1px 3px 1px rgba(60, 64, 67, 0.15);\n",
              "      fill: #174EA6;\n",
              "    }\n",
              "\n",
              "    .colab-df-buttons div {\n",
              "      margin-bottom: 4px;\n",
              "    }\n",
              "\n",
              "    [theme=dark] .colab-df-convert {\n",
              "      background-color: #3B4455;\n",
              "      fill: #D2E3FC;\n",
              "    }\n",
              "\n",
              "    [theme=dark] .colab-df-convert:hover {\n",
              "      background-color: #434B5C;\n",
              "      box-shadow: 0px 1px 3px 1px rgba(0, 0, 0, 0.15);\n",
              "      filter: drop-shadow(0px 1px 2px rgba(0, 0, 0, 0.3));\n",
              "      fill: #FFFFFF;\n",
              "    }\n",
              "  </style>\n",
              "\n",
              "    <script>\n",
              "      const buttonEl =\n",
              "        document.querySelector('#df-79a22c4a-6071-451f-bb88-68e772804935 button.colab-df-convert');\n",
              "      buttonEl.style.display =\n",
              "        google.colab.kernel.accessAllowed ? 'block' : 'none';\n",
              "\n",
              "      async function convertToInteractive(key) {\n",
              "        const element = document.querySelector('#df-79a22c4a-6071-451f-bb88-68e772804935');\n",
              "        const dataTable =\n",
              "          await google.colab.kernel.invokeFunction('convertToInteractive',\n",
              "                                                    [key], {});\n",
              "        if (!dataTable) return;\n",
              "\n",
              "        const docLinkHtml = 'Like what you see? Visit the ' +\n",
              "          '<a target=\"_blank\" href=https://colab.research.google.com/notebooks/data_table.ipynb>data table notebook</a>'\n",
              "          + ' to learn more about interactive tables.';\n",
              "        element.innerHTML = '';\n",
              "        dataTable['output_type'] = 'display_data';\n",
              "        await google.colab.output.renderOutput(dataTable, element);\n",
              "        const docLink = document.createElement('div');\n",
              "        docLink.innerHTML = docLinkHtml;\n",
              "        element.appendChild(docLink);\n",
              "      }\n",
              "    </script>\n",
              "  </div>\n",
              "\n",
              "\n",
              "<div id=\"df-8095e238-fb02-4d23-b05c-83a671415d0e\">\n",
              "  <button class=\"colab-df-quickchart\" onclick=\"quickchart('df-8095e238-fb02-4d23-b05c-83a671415d0e')\"\n",
              "            title=\"Suggest charts\"\n",
              "            style=\"display:none;\">\n",
              "\n",
              "<svg xmlns=\"http://www.w3.org/2000/svg\" height=\"24px\"viewBox=\"0 0 24 24\"\n",
              "     width=\"24px\">\n",
              "    <g>\n",
              "        <path d=\"M19 3H5c-1.1 0-2 .9-2 2v14c0 1.1.9 2 2 2h14c1.1 0 2-.9 2-2V5c0-1.1-.9-2-2-2zM9 17H7v-7h2v7zm4 0h-2V7h2v10zm4 0h-2v-4h2v4z\"/>\n",
              "    </g>\n",
              "</svg>\n",
              "  </button>\n",
              "\n",
              "<style>\n",
              "  .colab-df-quickchart {\n",
              "      --bg-color: #E8F0FE;\n",
              "      --fill-color: #1967D2;\n",
              "      --hover-bg-color: #E2EBFA;\n",
              "      --hover-fill-color: #174EA6;\n",
              "      --disabled-fill-color: #AAA;\n",
              "      --disabled-bg-color: #DDD;\n",
              "  }\n",
              "\n",
              "  [theme=dark] .colab-df-quickchart {\n",
              "      --bg-color: #3B4455;\n",
              "      --fill-color: #D2E3FC;\n",
              "      --hover-bg-color: #434B5C;\n",
              "      --hover-fill-color: #FFFFFF;\n",
              "      --disabled-bg-color: #3B4455;\n",
              "      --disabled-fill-color: #666;\n",
              "  }\n",
              "\n",
              "  .colab-df-quickchart {\n",
              "    background-color: var(--bg-color);\n",
              "    border: none;\n",
              "    border-radius: 50%;\n",
              "    cursor: pointer;\n",
              "    display: none;\n",
              "    fill: var(--fill-color);\n",
              "    height: 32px;\n",
              "    padding: 0;\n",
              "    width: 32px;\n",
              "  }\n",
              "\n",
              "  .colab-df-quickchart:hover {\n",
              "    background-color: var(--hover-bg-color);\n",
              "    box-shadow: 0 1px 2px rgba(60, 64, 67, 0.3), 0 1px 3px 1px rgba(60, 64, 67, 0.15);\n",
              "    fill: var(--button-hover-fill-color);\n",
              "  }\n",
              "\n",
              "  .colab-df-quickchart-complete:disabled,\n",
              "  .colab-df-quickchart-complete:disabled:hover {\n",
              "    background-color: var(--disabled-bg-color);\n",
              "    fill: var(--disabled-fill-color);\n",
              "    box-shadow: none;\n",
              "  }\n",
              "\n",
              "  .colab-df-spinner {\n",
              "    border: 2px solid var(--fill-color);\n",
              "    border-color: transparent;\n",
              "    border-bottom-color: var(--fill-color);\n",
              "    animation:\n",
              "      spin 1s steps(1) infinite;\n",
              "  }\n",
              "\n",
              "  @keyframes spin {\n",
              "    0% {\n",
              "      border-color: transparent;\n",
              "      border-bottom-color: var(--fill-color);\n",
              "      border-left-color: var(--fill-color);\n",
              "    }\n",
              "    20% {\n",
              "      border-color: transparent;\n",
              "      border-left-color: var(--fill-color);\n",
              "      border-top-color: var(--fill-color);\n",
              "    }\n",
              "    30% {\n",
              "      border-color: transparent;\n",
              "      border-left-color: var(--fill-color);\n",
              "      border-top-color: var(--fill-color);\n",
              "      border-right-color: var(--fill-color);\n",
              "    }\n",
              "    40% {\n",
              "      border-color: transparent;\n",
              "      border-right-color: var(--fill-color);\n",
              "      border-top-color: var(--fill-color);\n",
              "    }\n",
              "    60% {\n",
              "      border-color: transparent;\n",
              "      border-right-color: var(--fill-color);\n",
              "    }\n",
              "    80% {\n",
              "      border-color: transparent;\n",
              "      border-right-color: var(--fill-color);\n",
              "      border-bottom-color: var(--fill-color);\n",
              "    }\n",
              "    90% {\n",
              "      border-color: transparent;\n",
              "      border-bottom-color: var(--fill-color);\n",
              "    }\n",
              "  }\n",
              "</style>\n",
              "\n",
              "  <script>\n",
              "    async function quickchart(key) {\n",
              "      const quickchartButtonEl =\n",
              "        document.querySelector('#' + key + ' button');\n",
              "      quickchartButtonEl.disabled = true;  // To prevent multiple clicks.\n",
              "      quickchartButtonEl.classList.add('colab-df-spinner');\n",
              "      try {\n",
              "        const charts = await google.colab.kernel.invokeFunction(\n",
              "            'suggestCharts', [key], {});\n",
              "      } catch (error) {\n",
              "        console.error('Error during call to suggestCharts:', error);\n",
              "      }\n",
              "      quickchartButtonEl.classList.remove('colab-df-spinner');\n",
              "      quickchartButtonEl.classList.add('colab-df-quickchart-complete');\n",
              "    }\n",
              "    (() => {\n",
              "      let quickchartButtonEl =\n",
              "        document.querySelector('#df-8095e238-fb02-4d23-b05c-83a671415d0e button');\n",
              "      quickchartButtonEl.style.display =\n",
              "        google.colab.kernel.accessAllowed ? 'block' : 'none';\n",
              "    })();\n",
              "  </script>\n",
              "</div>\n",
              "\n",
              "  <div id=\"id_060924ac-f7cc-4500-8be0-fd5111b74717\">\n",
              "    <style>\n",
              "      .colab-df-generate {\n",
              "        background-color: #E8F0FE;\n",
              "        border: none;\n",
              "        border-radius: 50%;\n",
              "        cursor: pointer;\n",
              "        display: none;\n",
              "        fill: #1967D2;\n",
              "        height: 32px;\n",
              "        padding: 0 0 0 0;\n",
              "        width: 32px;\n",
              "      }\n",
              "\n",
              "      .colab-df-generate:hover {\n",
              "        background-color: #E2EBFA;\n",
              "        box-shadow: 0px 1px 2px rgba(60, 64, 67, 0.3), 0px 1px 3px 1px rgba(60, 64, 67, 0.15);\n",
              "        fill: #174EA6;\n",
              "      }\n",
              "\n",
              "      [theme=dark] .colab-df-generate {\n",
              "        background-color: #3B4455;\n",
              "        fill: #D2E3FC;\n",
              "      }\n",
              "\n",
              "      [theme=dark] .colab-df-generate:hover {\n",
              "        background-color: #434B5C;\n",
              "        box-shadow: 0px 1px 3px 1px rgba(0, 0, 0, 0.15);\n",
              "        filter: drop-shadow(0px 1px 2px rgba(0, 0, 0, 0.3));\n",
              "        fill: #FFFFFF;\n",
              "      }\n",
              "    </style>\n",
              "    <button class=\"colab-df-generate\" onclick=\"generateWithVariable('model_results')\"\n",
              "            title=\"Generate code using this dataframe.\"\n",
              "            style=\"display:none;\">\n",
              "\n",
              "  <svg xmlns=\"http://www.w3.org/2000/svg\" height=\"24px\"viewBox=\"0 0 24 24\"\n",
              "       width=\"24px\">\n",
              "    <path d=\"M7,19H8.4L18.45,9,17,7.55,7,17.6ZM5,21V16.75L18.45,3.32a2,2,0,0,1,2.83,0l1.4,1.43a1.91,1.91,0,0,1,.58,1.4,1.91,1.91,0,0,1-.58,1.4L9.25,21ZM18.45,9,17,7.55Zm-12,3A5.31,5.31,0,0,0,4.9,8.1,5.31,5.31,0,0,0,1,6.5,5.31,5.31,0,0,0,4.9,4.9,5.31,5.31,0,0,0,6.5,1,5.31,5.31,0,0,0,8.1,4.9,5.31,5.31,0,0,0,12,6.5,5.46,5.46,0,0,0,6.5,12Z\"/>\n",
              "  </svg>\n",
              "    </button>\n",
              "    <script>\n",
              "      (() => {\n",
              "      const buttonEl =\n",
              "        document.querySelector('#id_060924ac-f7cc-4500-8be0-fd5111b74717 button.colab-df-generate');\n",
              "      buttonEl.style.display =\n",
              "        google.colab.kernel.accessAllowed ? 'block' : 'none';\n",
              "\n",
              "      buttonEl.onclick = () => {\n",
              "        google.colab.notebook.generateWithVariable('model_results');\n",
              "      }\n",
              "      })();\n",
              "    </script>\n",
              "  </div>\n",
              "\n",
              "    </div>\n",
              "  </div>\n"
            ],
            "application/vnd.google.colaboratory.intrinsic+json": {
              "type": "dataframe",
              "variable_name": "model_results",
              "summary": "{\n  \"name\": \"model_results\",\n  \"rows\": 3,\n  \"fields\": [\n    {\n      \"column\": \"model\",\n      \"properties\": {\n        \"dtype\": \"string\",\n        \"samples\": [\n          \"model_1\",\n          \"model_2\",\n          \"model_3\"\n        ],\n        \"num_unique_values\": 3,\n        \"semantic_type\": \"\",\n        \"description\": \"\"\n      }\n    },\n    {\n      \"column\": \"mae\",\n      \"properties\": {\n        \"dtype\": \"float32\",\n        \"samples\": [\n          8.641694068908691,\n          8.382156372070312,\n          8.724482536315918\n        ],\n        \"num_unique_values\": 3,\n        \"semantic_type\": \"\",\n        \"description\": \"\"\n      }\n    },\n    {\n      \"column\": \"mse\",\n      \"properties\": {\n        \"dtype\": \"float32\",\n        \"samples\": [\n          81.198974609375,\n          77.44347381591797,\n          83.01728057861328\n        ],\n        \"num_unique_values\": 3,\n        \"semantic_type\": \"\",\n        \"description\": \"\"\n      }\n    }\n  ]\n}"
            }
          },
          "metadata": {},
          "execution_count": 170
        }
      ]
    },
    {
      "cell_type": "markdown",
      "source": [
        "`model_2` performed the best."
      ],
      "metadata": {
        "id": "4lUVtGQ5xbGg"
      }
    },
    {
      "cell_type": "code",
      "source": [
        "model_2.summary()"
      ],
      "metadata": {
        "colab": {
          "base_uri": "https://localhost:8080/"
        },
        "id": "_pjxGsMZwNJN",
        "outputId": "34f9ce11-487c-40fd-96cb-95e0fca1a204"
      },
      "execution_count": 171,
      "outputs": [
        {
          "output_type": "stream",
          "name": "stdout",
          "text": [
            "Model: \"sequential_34\"\n",
            "_________________________________________________________________\n",
            " Layer (type)                Output Shape              Param #   \n",
            "=================================================================\n",
            " dense_80 (Dense)            (None, 16)                32        \n",
            "                                                                 \n",
            " dense_81 (Dense)            (None, 1)                 17        \n",
            "                                                                 \n",
            "=================================================================\n",
            "Total params: 49 (196.00 Byte)\n",
            "Trainable params: 49 (196.00 Byte)\n",
            "Non-trainable params: 0 (0.00 Byte)\n",
            "_________________________________________________________________\n"
          ]
        }
      ]
    },
    {
      "cell_type": "markdown",
      "source": [
        "> 🔑**Note:** One of the main goals should be to minimize the time between the experiments performed, the more things can be figured out what does work and what doesn't, Remember the ML Practioner's moto: 'Experiment, Experiment, Experiment...'"
      ],
      "metadata": {
        "id": "9x-5taMjxklx"
      }
    },
    {
      "cell_type": "markdown",
      "source": [
        "### Tracking your experiments\n",
        "\n",
        "One really good habit in machine learning modelling is to track the results of the experiments.\n",
        "\n",
        "And when doing so, it can be tedious if you're running lots of experiments.\n",
        "\n",
        "Luckily, There are tools to help us!\n",
        "\n",
        "📖**Resource:** As you build more models, you will want to look into using:\n",
        "\n",
        "* TensorBoard - a component of the TensorFlow library to help track modelling experiments (We'll see this one later).\n",
        "* Weights and Biases - a tool for tracking all kinds of machine learning experiments (plugs straight into TensorBoard)."
      ],
      "metadata": {
        "id": "k1kBzhFLT0ps"
      }
    },
    {
      "cell_type": "markdown",
      "source": [
        "### Saving our Models\n",
        "\n",
        "Saving our models allows us to use them outside of Google Colab (or wherever they were trained) such as in a web application or a mobile app.\n",
        "\n",
        "There are two main formats we can save our model's too:\n",
        "\n",
        "1. The SavedModel format\n",
        "2. The HDF5 format"
      ],
      "metadata": {
        "id": "unHMUlkNVDp7"
      }
    },
    {
      "cell_type": "code",
      "source": [
        "# Save model using the SavedModel format\n",
        "model_2.save('best_model_SavedModel_format')"
      ],
      "metadata": {
        "id": "jyAE4y6Mxiww"
      },
      "execution_count": 172,
      "outputs": []
    },
    {
      "cell_type": "code",
      "source": [
        "# Save model using the HDF5\n",
        "model_2.save('best_model_HDF5_format.h5')"
      ],
      "metadata": {
        "colab": {
          "base_uri": "https://localhost:8080/"
        },
        "id": "tVZk-cHcP46M",
        "outputId": "ed67c778-580f-4f6c-f481-ba6013cfcd21"
      },
      "execution_count": 173,
      "outputs": [
        {
          "output_type": "stream",
          "name": "stderr",
          "text": [
            "/usr/local/lib/python3.10/dist-packages/keras/src/engine/training.py:3103: UserWarning: You are saving your model as an HDF5 file via `model.save()`. This file format is considered legacy. We recommend using instead the native Keras format, e.g. `model.save('my_model.keras')`.\n",
            "  saving_api.save_model(\n"
          ]
        }
      ]
    },
    {
      "cell_type": "markdown",
      "source": [
        "### Loading a Saved model"
      ],
      "metadata": {
        "id": "hEJ5NcdqRFl1"
      }
    },
    {
      "cell_type": "code",
      "source": [
        "# Load in the SavedModel format\n",
        "loaded_saved_format_model = tf.keras.models.load_model('best_model_SavedModel_format')\n",
        "loaded_saved_format_model.summary()"
      ],
      "metadata": {
        "colab": {
          "base_uri": "https://localhost:8080/"
        },
        "id": "61Qy541DQZ9X",
        "outputId": "5ea32318-6c46-4216-bb70-ced72e5e0529"
      },
      "execution_count": 174,
      "outputs": [
        {
          "output_type": "stream",
          "name": "stdout",
          "text": [
            "Model: \"sequential_34\"\n",
            "_________________________________________________________________\n",
            " Layer (type)                Output Shape              Param #   \n",
            "=================================================================\n",
            " dense_80 (Dense)            (None, 16)                32        \n",
            "                                                                 \n",
            " dense_81 (Dense)            (None, 1)                 17        \n",
            "                                                                 \n",
            "=================================================================\n",
            "Total params: 49 (196.00 Byte)\n",
            "Trainable params: 49 (196.00 Byte)\n",
            "Non-trainable params: 0 (0.00 Byte)\n",
            "_________________________________________________________________\n"
          ]
        }
      ]
    },
    {
      "cell_type": "code",
      "source": [
        "model_2.summary()"
      ],
      "metadata": {
        "colab": {
          "base_uri": "https://localhost:8080/"
        },
        "id": "H5KLYxUARZ7q",
        "outputId": "bbbab713-29ae-48ea-b71f-56b81aa6144a"
      },
      "execution_count": 175,
      "outputs": [
        {
          "output_type": "stream",
          "name": "stdout",
          "text": [
            "Model: \"sequential_34\"\n",
            "_________________________________________________________________\n",
            " Layer (type)                Output Shape              Param #   \n",
            "=================================================================\n",
            " dense_80 (Dense)            (None, 16)                32        \n",
            "                                                                 \n",
            " dense_81 (Dense)            (None, 1)                 17        \n",
            "                                                                 \n",
            "=================================================================\n",
            "Total params: 49 (196.00 Byte)\n",
            "Trainable params: 49 (196.00 Byte)\n",
            "Non-trainable params: 0 (0.00 Byte)\n",
            "_________________________________________________________________\n"
          ]
        }
      ]
    },
    {
      "cell_type": "code",
      "source": [
        "# Compare model_2 preds with SavedModel format model preds\n",
        "model_2_preds = model_2.predict(tf.expand_dims(X_test, axis=-1))\n",
        "loaded_saved_format_model_preds = loaded_saved_format_model.predict(tf.expand_dims(X_test, axis=-1))\n",
        "model_2_preds == loaded_saved_format_model_preds"
      ],
      "metadata": {
        "colab": {
          "base_uri": "https://localhost:8080/"
        },
        "id": "6lrI7RZiReIt",
        "outputId": "4fcb3890-4d45-4097-9060-75f645898d08"
      },
      "execution_count": 176,
      "outputs": [
        {
          "output_type": "stream",
          "name": "stdout",
          "text": [
            "1/1 [==============================] - 0s 57ms/step\n",
            "1/1 [==============================] - 0s 50ms/step\n"
          ]
        },
        {
          "output_type": "execute_result",
          "data": {
            "text/plain": [
              "array([[ True],\n",
              "       [ True],\n",
              "       [ True],\n",
              "       [ True],\n",
              "       [ True],\n",
              "       [ True],\n",
              "       [ True],\n",
              "       [ True],\n",
              "       [ True],\n",
              "       [ True]])"
            ]
          },
          "metadata": {},
          "execution_count": 176
        }
      ]
    },
    {
      "cell_type": "code",
      "source": [
        "mae(y_test, tf.squeeze(tf.constant(model_2_preds))) == mae(y_test, tf.squeeze(tf.constant(loaded_saved_format_model_preds)))"
      ],
      "metadata": {
        "colab": {
          "base_uri": "https://localhost:8080/"
        },
        "id": "uT9GyHEdRyY8",
        "outputId": "6dba2888-382c-4528-e4fa-aa86c9304501"
      },
      "execution_count": 177,
      "outputs": [
        {
          "output_type": "execute_result",
          "data": {
            "text/plain": [
              "<tf.Tensor: shape=(), dtype=bool, numpy=True>"
            ]
          },
          "metadata": {},
          "execution_count": 177
        }
      ]
    },
    {
      "cell_type": "code",
      "source": [
        "# Load in a model using the .h5 format\n",
        "loaded_h5_format_model = tf.keras.models.load_model('best_model_HDF5_format.h5')\n",
        "loaded_h5_format_model.summary()"
      ],
      "metadata": {
        "colab": {
          "base_uri": "https://localhost:8080/"
        },
        "id": "-LhBjGSHR-au",
        "outputId": "5aa511ed-8228-483f-f3fb-9f92871f5c98"
      },
      "execution_count": 178,
      "outputs": [
        {
          "output_type": "stream",
          "name": "stdout",
          "text": [
            "Model: \"sequential_34\"\n",
            "_________________________________________________________________\n",
            " Layer (type)                Output Shape              Param #   \n",
            "=================================================================\n",
            " dense_80 (Dense)            (None, 16)                32        \n",
            "                                                                 \n",
            " dense_81 (Dense)            (None, 1)                 17        \n",
            "                                                                 \n",
            "=================================================================\n",
            "Total params: 49 (196.00 Byte)\n",
            "Trainable params: 49 (196.00 Byte)\n",
            "Non-trainable params: 0 (0.00 Byte)\n",
            "_________________________________________________________________\n"
          ]
        }
      ]
    },
    {
      "cell_type": "code",
      "source": [
        "# Compare the model_2 preds with loaded .h5 model preds\n",
        "loaded_h5_format_model_preds = loaded_h5_format_model.predict(tf.expand_dims(X_test, axis=-1))\n",
        "model_2_preds == loaded_h5_format_model_preds"
      ],
      "metadata": {
        "colab": {
          "base_uri": "https://localhost:8080/"
        },
        "id": "RfHXJu5CSZ-c",
        "outputId": "ddce8106-5f82-4ac6-a1ec-d8a226318a0e"
      },
      "execution_count": 179,
      "outputs": [
        {
          "output_type": "stream",
          "name": "stdout",
          "text": [
            "1/1 [==============================] - 0s 58ms/step\n"
          ]
        },
        {
          "output_type": "execute_result",
          "data": {
            "text/plain": [
              "array([[ True],\n",
              "       [ True],\n",
              "       [ True],\n",
              "       [ True],\n",
              "       [ True],\n",
              "       [ True],\n",
              "       [ True],\n",
              "       [ True],\n",
              "       [ True],\n",
              "       [ True]])"
            ]
          },
          "metadata": {},
          "execution_count": 179
        }
      ]
    },
    {
      "cell_type": "code",
      "source": [
        "mae(y_test, tf.squeeze(tf.constant(model_2_preds))) == mae(y_test, tf.squeeze(tf.constant(loaded_h5_format_model_preds)))"
      ],
      "metadata": {
        "id": "BojhBSGeSrT3",
        "outputId": "e8081cd2-4650-4ab5-b26f-3c83c0761217",
        "colab": {
          "base_uri": "https://localhost:8080/"
        }
      },
      "execution_count": 180,
      "outputs": [
        {
          "output_type": "execute_result",
          "data": {
            "text/plain": [
              "<tf.Tensor: shape=(), dtype=bool, numpy=True>"
            ]
          },
          "metadata": {},
          "execution_count": 180
        }
      ]
    },
    {
      "cell_type": "markdown",
      "source": [
        "### Download a model (or any other file) from Google COlab\n",
        "\n",
        "If you want to download your files from Google Colab:\n",
        "1. You can go to the 'files' tab and right click on the file you're after and click 'download'.\n",
        "2. Use code (see the cell below).\n",
        "3. Save it to Google Drive."
      ],
      "metadata": {
        "id": "VD8oUXKc5BxK"
      }
    },
    {
      "cell_type": "code",
      "source": [
        "# Download a file from Google Colab\n",
        "from google.colab import files\n",
        "files.download('best_model_HDF5_format.h5')"
      ],
      "metadata": {
        "id": "8pUTZ0wlSvas",
        "colab": {
          "base_uri": "https://localhost:8080/",
          "height": 17
        },
        "outputId": "d779e09b-73c3-455c-cf86-ec4bcc8b1934"
      },
      "execution_count": 181,
      "outputs": [
        {
          "output_type": "display_data",
          "data": {
            "text/plain": [
              "<IPython.core.display.Javascript object>"
            ],
            "application/javascript": [
              "\n",
              "    async function download(id, filename, size) {\n",
              "      if (!google.colab.kernel.accessAllowed) {\n",
              "        return;\n",
              "      }\n",
              "      const div = document.createElement('div');\n",
              "      const label = document.createElement('label');\n",
              "      label.textContent = `Downloading \"${filename}\": `;\n",
              "      div.appendChild(label);\n",
              "      const progress = document.createElement('progress');\n",
              "      progress.max = size;\n",
              "      div.appendChild(progress);\n",
              "      document.body.appendChild(div);\n",
              "\n",
              "      const buffers = [];\n",
              "      let downloaded = 0;\n",
              "\n",
              "      const channel = await google.colab.kernel.comms.open(id);\n",
              "      // Send a message to notify the kernel that we're ready.\n",
              "      channel.send({})\n",
              "\n",
              "      for await (const message of channel.messages) {\n",
              "        // Send a message to notify the kernel that we're ready.\n",
              "        channel.send({})\n",
              "        if (message.buffers) {\n",
              "          for (const buffer of message.buffers) {\n",
              "            buffers.push(buffer);\n",
              "            downloaded += buffer.byteLength;\n",
              "            progress.value = downloaded;\n",
              "          }\n",
              "        }\n",
              "      }\n",
              "      const blob = new Blob(buffers, {type: 'application/binary'});\n",
              "      const a = document.createElement('a');\n",
              "      a.href = window.URL.createObjectURL(blob);\n",
              "      a.download = filename;\n",
              "      div.appendChild(a);\n",
              "      a.click();\n",
              "      div.remove();\n",
              "    }\n",
              "  "
            ]
          },
          "metadata": {}
        },
        {
          "output_type": "display_data",
          "data": {
            "text/plain": [
              "<IPython.core.display.Javascript object>"
            ],
            "application/javascript": [
              "download(\"download_76eb087e-2e50-4d51-b500-f81e32a1b637\", \"best_model_HDF5_format.h5\", 21952)"
            ]
          },
          "metadata": {}
        }
      ]
    },
    {
      "cell_type": "code",
      "source": [
        "# Save a file from Google Colab to Google Drive (requires mounting drive)\n",
        "!cp /content/best_model_HDF5_format.h5 /content/drive/MyDrive/TensorFlow"
      ],
      "metadata": {
        "id": "EIWDOK4M5t3B"
      },
      "execution_count": 182,
      "outputs": []
    },
    {
      "cell_type": "code",
      "source": [
        "!ls /content/drive/MyDrive/TensorFlow"
      ],
      "metadata": {
        "colab": {
          "base_uri": "https://localhost:8080/"
        },
        "id": "GgCJRXi66WsE",
        "outputId": "f599039c-c3a0-417e-ad23-68524e4b57ca"
      },
      "execution_count": 183,
      "outputs": [
        {
          "output_type": "stream",
          "name": "stdout",
          "text": [
            "best_model_HDF5_format.h5  Neural-Network-Regression-with-TensorFlow-01  TensorFlow-Fundamentals-00\n"
          ]
        }
      ]
    },
    {
      "cell_type": "markdown",
      "source": [
        "### A larger example"
      ],
      "metadata": {
        "id": "lI9fQfLN6v0k"
      }
    },
    {
      "cell_type": "code",
      "source": [
        "# Import required libraries\n",
        "import tensorflow as tf\n",
        "import numpy as np\n",
        "import pandas as pd\n",
        "import matplotlib.pyplot as plt\n"
      ],
      "metadata": {
        "id": "cJcERsHN6cuk"
      },
      "execution_count": 184,
      "outputs": []
    },
    {
      "cell_type": "code",
      "source": [
        "# Read in the insurance dataset\n",
        "insurance = pd.read_csv('https://raw.githubusercontent.com/stedy/Machine-Learning-with-R-datasets/master/insurance.csv')\n",
        "insurance.head()"
      ],
      "metadata": {
        "colab": {
          "base_uri": "https://localhost:8080/",
          "height": 206
        },
        "id": "StrBnGkQ8eq8",
        "outputId": "69a49c88-d945-435d-bbdc-d1d4eb6bfbe2"
      },
      "execution_count": 185,
      "outputs": [
        {
          "output_type": "execute_result",
          "data": {
            "text/plain": [
              "   age     sex     bmi  children smoker     region      charges\n",
              "0   19  female  27.900         0    yes  southwest  16884.92400\n",
              "1   18    male  33.770         1     no  southeast   1725.55230\n",
              "2   28    male  33.000         3     no  southeast   4449.46200\n",
              "3   33    male  22.705         0     no  northwest  21984.47061\n",
              "4   32    male  28.880         0     no  northwest   3866.85520"
            ],
            "text/html": [
              "\n",
              "  <div id=\"df-349bc05d-7aac-47cf-8037-f65ada831e9c\" class=\"colab-df-container\">\n",
              "    <div>\n",
              "<style scoped>\n",
              "    .dataframe tbody tr th:only-of-type {\n",
              "        vertical-align: middle;\n",
              "    }\n",
              "\n",
              "    .dataframe tbody tr th {\n",
              "        vertical-align: top;\n",
              "    }\n",
              "\n",
              "    .dataframe thead th {\n",
              "        text-align: right;\n",
              "    }\n",
              "</style>\n",
              "<table border=\"1\" class=\"dataframe\">\n",
              "  <thead>\n",
              "    <tr style=\"text-align: right;\">\n",
              "      <th></th>\n",
              "      <th>age</th>\n",
              "      <th>sex</th>\n",
              "      <th>bmi</th>\n",
              "      <th>children</th>\n",
              "      <th>smoker</th>\n",
              "      <th>region</th>\n",
              "      <th>charges</th>\n",
              "    </tr>\n",
              "  </thead>\n",
              "  <tbody>\n",
              "    <tr>\n",
              "      <th>0</th>\n",
              "      <td>19</td>\n",
              "      <td>female</td>\n",
              "      <td>27.900</td>\n",
              "      <td>0</td>\n",
              "      <td>yes</td>\n",
              "      <td>southwest</td>\n",
              "      <td>16884.92400</td>\n",
              "    </tr>\n",
              "    <tr>\n",
              "      <th>1</th>\n",
              "      <td>18</td>\n",
              "      <td>male</td>\n",
              "      <td>33.770</td>\n",
              "      <td>1</td>\n",
              "      <td>no</td>\n",
              "      <td>southeast</td>\n",
              "      <td>1725.55230</td>\n",
              "    </tr>\n",
              "    <tr>\n",
              "      <th>2</th>\n",
              "      <td>28</td>\n",
              "      <td>male</td>\n",
              "      <td>33.000</td>\n",
              "      <td>3</td>\n",
              "      <td>no</td>\n",
              "      <td>southeast</td>\n",
              "      <td>4449.46200</td>\n",
              "    </tr>\n",
              "    <tr>\n",
              "      <th>3</th>\n",
              "      <td>33</td>\n",
              "      <td>male</td>\n",
              "      <td>22.705</td>\n",
              "      <td>0</td>\n",
              "      <td>no</td>\n",
              "      <td>northwest</td>\n",
              "      <td>21984.47061</td>\n",
              "    </tr>\n",
              "    <tr>\n",
              "      <th>4</th>\n",
              "      <td>32</td>\n",
              "      <td>male</td>\n",
              "      <td>28.880</td>\n",
              "      <td>0</td>\n",
              "      <td>no</td>\n",
              "      <td>northwest</td>\n",
              "      <td>3866.85520</td>\n",
              "    </tr>\n",
              "  </tbody>\n",
              "</table>\n",
              "</div>\n",
              "    <div class=\"colab-df-buttons\">\n",
              "\n",
              "  <div class=\"colab-df-container\">\n",
              "    <button class=\"colab-df-convert\" onclick=\"convertToInteractive('df-349bc05d-7aac-47cf-8037-f65ada831e9c')\"\n",
              "            title=\"Convert this dataframe to an interactive table.\"\n",
              "            style=\"display:none;\">\n",
              "\n",
              "  <svg xmlns=\"http://www.w3.org/2000/svg\" height=\"24px\" viewBox=\"0 -960 960 960\">\n",
              "    <path d=\"M120-120v-720h720v720H120Zm60-500h600v-160H180v160Zm220 220h160v-160H400v160Zm0 220h160v-160H400v160ZM180-400h160v-160H180v160Zm440 0h160v-160H620v160ZM180-180h160v-160H180v160Zm440 0h160v-160H620v160Z\"/>\n",
              "  </svg>\n",
              "    </button>\n",
              "\n",
              "  <style>\n",
              "    .colab-df-container {\n",
              "      display:flex;\n",
              "      gap: 12px;\n",
              "    }\n",
              "\n",
              "    .colab-df-convert {\n",
              "      background-color: #E8F0FE;\n",
              "      border: none;\n",
              "      border-radius: 50%;\n",
              "      cursor: pointer;\n",
              "      display: none;\n",
              "      fill: #1967D2;\n",
              "      height: 32px;\n",
              "      padding: 0 0 0 0;\n",
              "      width: 32px;\n",
              "    }\n",
              "\n",
              "    .colab-df-convert:hover {\n",
              "      background-color: #E2EBFA;\n",
              "      box-shadow: 0px 1px 2px rgba(60, 64, 67, 0.3), 0px 1px 3px 1px rgba(60, 64, 67, 0.15);\n",
              "      fill: #174EA6;\n",
              "    }\n",
              "\n",
              "    .colab-df-buttons div {\n",
              "      margin-bottom: 4px;\n",
              "    }\n",
              "\n",
              "    [theme=dark] .colab-df-convert {\n",
              "      background-color: #3B4455;\n",
              "      fill: #D2E3FC;\n",
              "    }\n",
              "\n",
              "    [theme=dark] .colab-df-convert:hover {\n",
              "      background-color: #434B5C;\n",
              "      box-shadow: 0px 1px 3px 1px rgba(0, 0, 0, 0.15);\n",
              "      filter: drop-shadow(0px 1px 2px rgba(0, 0, 0, 0.3));\n",
              "      fill: #FFFFFF;\n",
              "    }\n",
              "  </style>\n",
              "\n",
              "    <script>\n",
              "      const buttonEl =\n",
              "        document.querySelector('#df-349bc05d-7aac-47cf-8037-f65ada831e9c button.colab-df-convert');\n",
              "      buttonEl.style.display =\n",
              "        google.colab.kernel.accessAllowed ? 'block' : 'none';\n",
              "\n",
              "      async function convertToInteractive(key) {\n",
              "        const element = document.querySelector('#df-349bc05d-7aac-47cf-8037-f65ada831e9c');\n",
              "        const dataTable =\n",
              "          await google.colab.kernel.invokeFunction('convertToInteractive',\n",
              "                                                    [key], {});\n",
              "        if (!dataTable) return;\n",
              "\n",
              "        const docLinkHtml = 'Like what you see? Visit the ' +\n",
              "          '<a target=\"_blank\" href=https://colab.research.google.com/notebooks/data_table.ipynb>data table notebook</a>'\n",
              "          + ' to learn more about interactive tables.';\n",
              "        element.innerHTML = '';\n",
              "        dataTable['output_type'] = 'display_data';\n",
              "        await google.colab.output.renderOutput(dataTable, element);\n",
              "        const docLink = document.createElement('div');\n",
              "        docLink.innerHTML = docLinkHtml;\n",
              "        element.appendChild(docLink);\n",
              "      }\n",
              "    </script>\n",
              "  </div>\n",
              "\n",
              "\n",
              "<div id=\"df-13b8fd37-0bba-4ecd-934f-06e6336bb134\">\n",
              "  <button class=\"colab-df-quickchart\" onclick=\"quickchart('df-13b8fd37-0bba-4ecd-934f-06e6336bb134')\"\n",
              "            title=\"Suggest charts\"\n",
              "            style=\"display:none;\">\n",
              "\n",
              "<svg xmlns=\"http://www.w3.org/2000/svg\" height=\"24px\"viewBox=\"0 0 24 24\"\n",
              "     width=\"24px\">\n",
              "    <g>\n",
              "        <path d=\"M19 3H5c-1.1 0-2 .9-2 2v14c0 1.1.9 2 2 2h14c1.1 0 2-.9 2-2V5c0-1.1-.9-2-2-2zM9 17H7v-7h2v7zm4 0h-2V7h2v10zm4 0h-2v-4h2v4z\"/>\n",
              "    </g>\n",
              "</svg>\n",
              "  </button>\n",
              "\n",
              "<style>\n",
              "  .colab-df-quickchart {\n",
              "      --bg-color: #E8F0FE;\n",
              "      --fill-color: #1967D2;\n",
              "      --hover-bg-color: #E2EBFA;\n",
              "      --hover-fill-color: #174EA6;\n",
              "      --disabled-fill-color: #AAA;\n",
              "      --disabled-bg-color: #DDD;\n",
              "  }\n",
              "\n",
              "  [theme=dark] .colab-df-quickchart {\n",
              "      --bg-color: #3B4455;\n",
              "      --fill-color: #D2E3FC;\n",
              "      --hover-bg-color: #434B5C;\n",
              "      --hover-fill-color: #FFFFFF;\n",
              "      --disabled-bg-color: #3B4455;\n",
              "      --disabled-fill-color: #666;\n",
              "  }\n",
              "\n",
              "  .colab-df-quickchart {\n",
              "    background-color: var(--bg-color);\n",
              "    border: none;\n",
              "    border-radius: 50%;\n",
              "    cursor: pointer;\n",
              "    display: none;\n",
              "    fill: var(--fill-color);\n",
              "    height: 32px;\n",
              "    padding: 0;\n",
              "    width: 32px;\n",
              "  }\n",
              "\n",
              "  .colab-df-quickchart:hover {\n",
              "    background-color: var(--hover-bg-color);\n",
              "    box-shadow: 0 1px 2px rgba(60, 64, 67, 0.3), 0 1px 3px 1px rgba(60, 64, 67, 0.15);\n",
              "    fill: var(--button-hover-fill-color);\n",
              "  }\n",
              "\n",
              "  .colab-df-quickchart-complete:disabled,\n",
              "  .colab-df-quickchart-complete:disabled:hover {\n",
              "    background-color: var(--disabled-bg-color);\n",
              "    fill: var(--disabled-fill-color);\n",
              "    box-shadow: none;\n",
              "  }\n",
              "\n",
              "  .colab-df-spinner {\n",
              "    border: 2px solid var(--fill-color);\n",
              "    border-color: transparent;\n",
              "    border-bottom-color: var(--fill-color);\n",
              "    animation:\n",
              "      spin 1s steps(1) infinite;\n",
              "  }\n",
              "\n",
              "  @keyframes spin {\n",
              "    0% {\n",
              "      border-color: transparent;\n",
              "      border-bottom-color: var(--fill-color);\n",
              "      border-left-color: var(--fill-color);\n",
              "    }\n",
              "    20% {\n",
              "      border-color: transparent;\n",
              "      border-left-color: var(--fill-color);\n",
              "      border-top-color: var(--fill-color);\n",
              "    }\n",
              "    30% {\n",
              "      border-color: transparent;\n",
              "      border-left-color: var(--fill-color);\n",
              "      border-top-color: var(--fill-color);\n",
              "      border-right-color: var(--fill-color);\n",
              "    }\n",
              "    40% {\n",
              "      border-color: transparent;\n",
              "      border-right-color: var(--fill-color);\n",
              "      border-top-color: var(--fill-color);\n",
              "    }\n",
              "    60% {\n",
              "      border-color: transparent;\n",
              "      border-right-color: var(--fill-color);\n",
              "    }\n",
              "    80% {\n",
              "      border-color: transparent;\n",
              "      border-right-color: var(--fill-color);\n",
              "      border-bottom-color: var(--fill-color);\n",
              "    }\n",
              "    90% {\n",
              "      border-color: transparent;\n",
              "      border-bottom-color: var(--fill-color);\n",
              "    }\n",
              "  }\n",
              "</style>\n",
              "\n",
              "  <script>\n",
              "    async function quickchart(key) {\n",
              "      const quickchartButtonEl =\n",
              "        document.querySelector('#' + key + ' button');\n",
              "      quickchartButtonEl.disabled = true;  // To prevent multiple clicks.\n",
              "      quickchartButtonEl.classList.add('colab-df-spinner');\n",
              "      try {\n",
              "        const charts = await google.colab.kernel.invokeFunction(\n",
              "            'suggestCharts', [key], {});\n",
              "      } catch (error) {\n",
              "        console.error('Error during call to suggestCharts:', error);\n",
              "      }\n",
              "      quickchartButtonEl.classList.remove('colab-df-spinner');\n",
              "      quickchartButtonEl.classList.add('colab-df-quickchart-complete');\n",
              "    }\n",
              "    (() => {\n",
              "      let quickchartButtonEl =\n",
              "        document.querySelector('#df-13b8fd37-0bba-4ecd-934f-06e6336bb134 button');\n",
              "      quickchartButtonEl.style.display =\n",
              "        google.colab.kernel.accessAllowed ? 'block' : 'none';\n",
              "    })();\n",
              "  </script>\n",
              "</div>\n",
              "\n",
              "    </div>\n",
              "  </div>\n"
            ],
            "application/vnd.google.colaboratory.intrinsic+json": {
              "type": "dataframe",
              "variable_name": "insurance",
              "summary": "{\n  \"name\": \"insurance\",\n  \"rows\": 1338,\n  \"fields\": [\n    {\n      \"column\": \"age\",\n      \"properties\": {\n        \"dtype\": \"number\",\n        \"std\": 14,\n        \"min\": 18,\n        \"max\": 64,\n        \"samples\": [\n          21,\n          45,\n          36\n        ],\n        \"num_unique_values\": 47,\n        \"semantic_type\": \"\",\n        \"description\": \"\"\n      }\n    },\n    {\n      \"column\": \"sex\",\n      \"properties\": {\n        \"dtype\": \"category\",\n        \"samples\": [\n          \"male\",\n          \"female\"\n        ],\n        \"num_unique_values\": 2,\n        \"semantic_type\": \"\",\n        \"description\": \"\"\n      }\n    },\n    {\n      \"column\": \"bmi\",\n      \"properties\": {\n        \"dtype\": \"number\",\n        \"std\": 6.098186911679014,\n        \"min\": 15.96,\n        \"max\": 53.13,\n        \"samples\": [\n          23.18,\n          26.885\n        ],\n        \"num_unique_values\": 548,\n        \"semantic_type\": \"\",\n        \"description\": \"\"\n      }\n    },\n    {\n      \"column\": \"children\",\n      \"properties\": {\n        \"dtype\": \"number\",\n        \"std\": 1,\n        \"min\": 0,\n        \"max\": 5,\n        \"samples\": [\n          0,\n          1\n        ],\n        \"num_unique_values\": 6,\n        \"semantic_type\": \"\",\n        \"description\": \"\"\n      }\n    },\n    {\n      \"column\": \"smoker\",\n      \"properties\": {\n        \"dtype\": \"category\",\n        \"samples\": [\n          \"no\",\n          \"yes\"\n        ],\n        \"num_unique_values\": 2,\n        \"semantic_type\": \"\",\n        \"description\": \"\"\n      }\n    },\n    {\n      \"column\": \"region\",\n      \"properties\": {\n        \"dtype\": \"category\",\n        \"samples\": [\n          \"southeast\",\n          \"northeast\"\n        ],\n        \"num_unique_values\": 4,\n        \"semantic_type\": \"\",\n        \"description\": \"\"\n      }\n    },\n    {\n      \"column\": \"charges\",\n      \"properties\": {\n        \"dtype\": \"number\",\n        \"std\": 12110.011236694001,\n        \"min\": 1121.8739,\n        \"max\": 63770.42801,\n        \"samples\": [\n          8688.85885,\n          5708.867\n        ],\n        \"num_unique_values\": 1337,\n        \"semantic_type\": \"\",\n        \"description\": \"\"\n      }\n    }\n  ]\n}"
            }
          },
          "metadata": {},
          "execution_count": 185
        }
      ]
    },
    {
      "cell_type": "code",
      "source": [
        "insurance.info()"
      ],
      "metadata": {
        "colab": {
          "base_uri": "https://localhost:8080/"
        },
        "id": "okD53PWH8moN",
        "outputId": "6fb303b6-f431-443c-daf8-c5832753a889"
      },
      "execution_count": 186,
      "outputs": [
        {
          "output_type": "stream",
          "name": "stdout",
          "text": [
            "<class 'pandas.core.frame.DataFrame'>\n",
            "RangeIndex: 1338 entries, 0 to 1337\n",
            "Data columns (total 7 columns):\n",
            " #   Column    Non-Null Count  Dtype  \n",
            "---  ------    --------------  -----  \n",
            " 0   age       1338 non-null   int64  \n",
            " 1   sex       1338 non-null   object \n",
            " 2   bmi       1338 non-null   float64\n",
            " 3   children  1338 non-null   int64  \n",
            " 4   smoker    1338 non-null   object \n",
            " 5   region    1338 non-null   object \n",
            " 6   charges   1338 non-null   float64\n",
            "dtypes: float64(2), int64(2), object(3)\n",
            "memory usage: 73.3+ KB\n"
          ]
        }
      ]
    },
    {
      "cell_type": "code",
      "source": [
        "ins_one_hot = pd.get_dummies(insurance).head()\n",
        "ins_one_hot.head()"
      ],
      "metadata": {
        "colab": {
          "base_uri": "https://localhost:8080/",
          "height": 226
        },
        "id": "Nt00OGw39FAC",
        "outputId": "0b8e6c85-709f-4c29-9405-ba8111975898"
      },
      "execution_count": 187,
      "outputs": [
        {
          "output_type": "execute_result",
          "data": {
            "text/plain": [
              "   age     bmi  children      charges  sex_female  sex_male  smoker_no  \\\n",
              "0   19  27.900         0  16884.92400           1         0          0   \n",
              "1   18  33.770         1   1725.55230           0         1          1   \n",
              "2   28  33.000         3   4449.46200           0         1          1   \n",
              "3   33  22.705         0  21984.47061           0         1          1   \n",
              "4   32  28.880         0   3866.85520           0         1          1   \n",
              "\n",
              "   smoker_yes  region_northeast  region_northwest  region_southeast  \\\n",
              "0           1                 0                 0                 0   \n",
              "1           0                 0                 0                 1   \n",
              "2           0                 0                 0                 1   \n",
              "3           0                 0                 1                 0   \n",
              "4           0                 0                 1                 0   \n",
              "\n",
              "   region_southwest  \n",
              "0                 1  \n",
              "1                 0  \n",
              "2                 0  \n",
              "3                 0  \n",
              "4                 0  "
            ],
            "text/html": [
              "\n",
              "  <div id=\"df-7a123685-d667-4636-bc5d-bcc17f458bc2\" class=\"colab-df-container\">\n",
              "    <div>\n",
              "<style scoped>\n",
              "    .dataframe tbody tr th:only-of-type {\n",
              "        vertical-align: middle;\n",
              "    }\n",
              "\n",
              "    .dataframe tbody tr th {\n",
              "        vertical-align: top;\n",
              "    }\n",
              "\n",
              "    .dataframe thead th {\n",
              "        text-align: right;\n",
              "    }\n",
              "</style>\n",
              "<table border=\"1\" class=\"dataframe\">\n",
              "  <thead>\n",
              "    <tr style=\"text-align: right;\">\n",
              "      <th></th>\n",
              "      <th>age</th>\n",
              "      <th>bmi</th>\n",
              "      <th>children</th>\n",
              "      <th>charges</th>\n",
              "      <th>sex_female</th>\n",
              "      <th>sex_male</th>\n",
              "      <th>smoker_no</th>\n",
              "      <th>smoker_yes</th>\n",
              "      <th>region_northeast</th>\n",
              "      <th>region_northwest</th>\n",
              "      <th>region_southeast</th>\n",
              "      <th>region_southwest</th>\n",
              "    </tr>\n",
              "  </thead>\n",
              "  <tbody>\n",
              "    <tr>\n",
              "      <th>0</th>\n",
              "      <td>19</td>\n",
              "      <td>27.900</td>\n",
              "      <td>0</td>\n",
              "      <td>16884.92400</td>\n",
              "      <td>1</td>\n",
              "      <td>0</td>\n",
              "      <td>0</td>\n",
              "      <td>1</td>\n",
              "      <td>0</td>\n",
              "      <td>0</td>\n",
              "      <td>0</td>\n",
              "      <td>1</td>\n",
              "    </tr>\n",
              "    <tr>\n",
              "      <th>1</th>\n",
              "      <td>18</td>\n",
              "      <td>33.770</td>\n",
              "      <td>1</td>\n",
              "      <td>1725.55230</td>\n",
              "      <td>0</td>\n",
              "      <td>1</td>\n",
              "      <td>1</td>\n",
              "      <td>0</td>\n",
              "      <td>0</td>\n",
              "      <td>0</td>\n",
              "      <td>1</td>\n",
              "      <td>0</td>\n",
              "    </tr>\n",
              "    <tr>\n",
              "      <th>2</th>\n",
              "      <td>28</td>\n",
              "      <td>33.000</td>\n",
              "      <td>3</td>\n",
              "      <td>4449.46200</td>\n",
              "      <td>0</td>\n",
              "      <td>1</td>\n",
              "      <td>1</td>\n",
              "      <td>0</td>\n",
              "      <td>0</td>\n",
              "      <td>0</td>\n",
              "      <td>1</td>\n",
              "      <td>0</td>\n",
              "    </tr>\n",
              "    <tr>\n",
              "      <th>3</th>\n",
              "      <td>33</td>\n",
              "      <td>22.705</td>\n",
              "      <td>0</td>\n",
              "      <td>21984.47061</td>\n",
              "      <td>0</td>\n",
              "      <td>1</td>\n",
              "      <td>1</td>\n",
              "      <td>0</td>\n",
              "      <td>0</td>\n",
              "      <td>1</td>\n",
              "      <td>0</td>\n",
              "      <td>0</td>\n",
              "    </tr>\n",
              "    <tr>\n",
              "      <th>4</th>\n",
              "      <td>32</td>\n",
              "      <td>28.880</td>\n",
              "      <td>0</td>\n",
              "      <td>3866.85520</td>\n",
              "      <td>0</td>\n",
              "      <td>1</td>\n",
              "      <td>1</td>\n",
              "      <td>0</td>\n",
              "      <td>0</td>\n",
              "      <td>1</td>\n",
              "      <td>0</td>\n",
              "      <td>0</td>\n",
              "    </tr>\n",
              "  </tbody>\n",
              "</table>\n",
              "</div>\n",
              "    <div class=\"colab-df-buttons\">\n",
              "\n",
              "  <div class=\"colab-df-container\">\n",
              "    <button class=\"colab-df-convert\" onclick=\"convertToInteractive('df-7a123685-d667-4636-bc5d-bcc17f458bc2')\"\n",
              "            title=\"Convert this dataframe to an interactive table.\"\n",
              "            style=\"display:none;\">\n",
              "\n",
              "  <svg xmlns=\"http://www.w3.org/2000/svg\" height=\"24px\" viewBox=\"0 -960 960 960\">\n",
              "    <path d=\"M120-120v-720h720v720H120Zm60-500h600v-160H180v160Zm220 220h160v-160H400v160Zm0 220h160v-160H400v160ZM180-400h160v-160H180v160Zm440 0h160v-160H620v160ZM180-180h160v-160H180v160Zm440 0h160v-160H620v160Z\"/>\n",
              "  </svg>\n",
              "    </button>\n",
              "\n",
              "  <style>\n",
              "    .colab-df-container {\n",
              "      display:flex;\n",
              "      gap: 12px;\n",
              "    }\n",
              "\n",
              "    .colab-df-convert {\n",
              "      background-color: #E8F0FE;\n",
              "      border: none;\n",
              "      border-radius: 50%;\n",
              "      cursor: pointer;\n",
              "      display: none;\n",
              "      fill: #1967D2;\n",
              "      height: 32px;\n",
              "      padding: 0 0 0 0;\n",
              "      width: 32px;\n",
              "    }\n",
              "\n",
              "    .colab-df-convert:hover {\n",
              "      background-color: #E2EBFA;\n",
              "      box-shadow: 0px 1px 2px rgba(60, 64, 67, 0.3), 0px 1px 3px 1px rgba(60, 64, 67, 0.15);\n",
              "      fill: #174EA6;\n",
              "    }\n",
              "\n",
              "    .colab-df-buttons div {\n",
              "      margin-bottom: 4px;\n",
              "    }\n",
              "\n",
              "    [theme=dark] .colab-df-convert {\n",
              "      background-color: #3B4455;\n",
              "      fill: #D2E3FC;\n",
              "    }\n",
              "\n",
              "    [theme=dark] .colab-df-convert:hover {\n",
              "      background-color: #434B5C;\n",
              "      box-shadow: 0px 1px 3px 1px rgba(0, 0, 0, 0.15);\n",
              "      filter: drop-shadow(0px 1px 2px rgba(0, 0, 0, 0.3));\n",
              "      fill: #FFFFFF;\n",
              "    }\n",
              "  </style>\n",
              "\n",
              "    <script>\n",
              "      const buttonEl =\n",
              "        document.querySelector('#df-7a123685-d667-4636-bc5d-bcc17f458bc2 button.colab-df-convert');\n",
              "      buttonEl.style.display =\n",
              "        google.colab.kernel.accessAllowed ? 'block' : 'none';\n",
              "\n",
              "      async function convertToInteractive(key) {\n",
              "        const element = document.querySelector('#df-7a123685-d667-4636-bc5d-bcc17f458bc2');\n",
              "        const dataTable =\n",
              "          await google.colab.kernel.invokeFunction('convertToInteractive',\n",
              "                                                    [key], {});\n",
              "        if (!dataTable) return;\n",
              "\n",
              "        const docLinkHtml = 'Like what you see? Visit the ' +\n",
              "          '<a target=\"_blank\" href=https://colab.research.google.com/notebooks/data_table.ipynb>data table notebook</a>'\n",
              "          + ' to learn more about interactive tables.';\n",
              "        element.innerHTML = '';\n",
              "        dataTable['output_type'] = 'display_data';\n",
              "        await google.colab.output.renderOutput(dataTable, element);\n",
              "        const docLink = document.createElement('div');\n",
              "        docLink.innerHTML = docLinkHtml;\n",
              "        element.appendChild(docLink);\n",
              "      }\n",
              "    </script>\n",
              "  </div>\n",
              "\n",
              "\n",
              "<div id=\"df-b203e5bd-090e-4c8d-b4f3-cefa155ee223\">\n",
              "  <button class=\"colab-df-quickchart\" onclick=\"quickchart('df-b203e5bd-090e-4c8d-b4f3-cefa155ee223')\"\n",
              "            title=\"Suggest charts\"\n",
              "            style=\"display:none;\">\n",
              "\n",
              "<svg xmlns=\"http://www.w3.org/2000/svg\" height=\"24px\"viewBox=\"0 0 24 24\"\n",
              "     width=\"24px\">\n",
              "    <g>\n",
              "        <path d=\"M19 3H5c-1.1 0-2 .9-2 2v14c0 1.1.9 2 2 2h14c1.1 0 2-.9 2-2V5c0-1.1-.9-2-2-2zM9 17H7v-7h2v7zm4 0h-2V7h2v10zm4 0h-2v-4h2v4z\"/>\n",
              "    </g>\n",
              "</svg>\n",
              "  </button>\n",
              "\n",
              "<style>\n",
              "  .colab-df-quickchart {\n",
              "      --bg-color: #E8F0FE;\n",
              "      --fill-color: #1967D2;\n",
              "      --hover-bg-color: #E2EBFA;\n",
              "      --hover-fill-color: #174EA6;\n",
              "      --disabled-fill-color: #AAA;\n",
              "      --disabled-bg-color: #DDD;\n",
              "  }\n",
              "\n",
              "  [theme=dark] .colab-df-quickchart {\n",
              "      --bg-color: #3B4455;\n",
              "      --fill-color: #D2E3FC;\n",
              "      --hover-bg-color: #434B5C;\n",
              "      --hover-fill-color: #FFFFFF;\n",
              "      --disabled-bg-color: #3B4455;\n",
              "      --disabled-fill-color: #666;\n",
              "  }\n",
              "\n",
              "  .colab-df-quickchart {\n",
              "    background-color: var(--bg-color);\n",
              "    border: none;\n",
              "    border-radius: 50%;\n",
              "    cursor: pointer;\n",
              "    display: none;\n",
              "    fill: var(--fill-color);\n",
              "    height: 32px;\n",
              "    padding: 0;\n",
              "    width: 32px;\n",
              "  }\n",
              "\n",
              "  .colab-df-quickchart:hover {\n",
              "    background-color: var(--hover-bg-color);\n",
              "    box-shadow: 0 1px 2px rgba(60, 64, 67, 0.3), 0 1px 3px 1px rgba(60, 64, 67, 0.15);\n",
              "    fill: var(--button-hover-fill-color);\n",
              "  }\n",
              "\n",
              "  .colab-df-quickchart-complete:disabled,\n",
              "  .colab-df-quickchart-complete:disabled:hover {\n",
              "    background-color: var(--disabled-bg-color);\n",
              "    fill: var(--disabled-fill-color);\n",
              "    box-shadow: none;\n",
              "  }\n",
              "\n",
              "  .colab-df-spinner {\n",
              "    border: 2px solid var(--fill-color);\n",
              "    border-color: transparent;\n",
              "    border-bottom-color: var(--fill-color);\n",
              "    animation:\n",
              "      spin 1s steps(1) infinite;\n",
              "  }\n",
              "\n",
              "  @keyframes spin {\n",
              "    0% {\n",
              "      border-color: transparent;\n",
              "      border-bottom-color: var(--fill-color);\n",
              "      border-left-color: var(--fill-color);\n",
              "    }\n",
              "    20% {\n",
              "      border-color: transparent;\n",
              "      border-left-color: var(--fill-color);\n",
              "      border-top-color: var(--fill-color);\n",
              "    }\n",
              "    30% {\n",
              "      border-color: transparent;\n",
              "      border-left-color: var(--fill-color);\n",
              "      border-top-color: var(--fill-color);\n",
              "      border-right-color: var(--fill-color);\n",
              "    }\n",
              "    40% {\n",
              "      border-color: transparent;\n",
              "      border-right-color: var(--fill-color);\n",
              "      border-top-color: var(--fill-color);\n",
              "    }\n",
              "    60% {\n",
              "      border-color: transparent;\n",
              "      border-right-color: var(--fill-color);\n",
              "    }\n",
              "    80% {\n",
              "      border-color: transparent;\n",
              "      border-right-color: var(--fill-color);\n",
              "      border-bottom-color: var(--fill-color);\n",
              "    }\n",
              "    90% {\n",
              "      border-color: transparent;\n",
              "      border-bottom-color: var(--fill-color);\n",
              "    }\n",
              "  }\n",
              "</style>\n",
              "\n",
              "  <script>\n",
              "    async function quickchart(key) {\n",
              "      const quickchartButtonEl =\n",
              "        document.querySelector('#' + key + ' button');\n",
              "      quickchartButtonEl.disabled = true;  // To prevent multiple clicks.\n",
              "      quickchartButtonEl.classList.add('colab-df-spinner');\n",
              "      try {\n",
              "        const charts = await google.colab.kernel.invokeFunction(\n",
              "            'suggestCharts', [key], {});\n",
              "      } catch (error) {\n",
              "        console.error('Error during call to suggestCharts:', error);\n",
              "      }\n",
              "      quickchartButtonEl.classList.remove('colab-df-spinner');\n",
              "      quickchartButtonEl.classList.add('colab-df-quickchart-complete');\n",
              "    }\n",
              "    (() => {\n",
              "      let quickchartButtonEl =\n",
              "        document.querySelector('#df-b203e5bd-090e-4c8d-b4f3-cefa155ee223 button');\n",
              "      quickchartButtonEl.style.display =\n",
              "        google.colab.kernel.accessAllowed ? 'block' : 'none';\n",
              "    })();\n",
              "  </script>\n",
              "</div>\n",
              "\n",
              "    </div>\n",
              "  </div>\n"
            ],
            "application/vnd.google.colaboratory.intrinsic+json": {
              "type": "dataframe",
              "variable_name": "ins_one_hot",
              "summary": "{\n  \"name\": \"ins_one_hot\",\n  \"rows\": 5,\n  \"fields\": [\n    {\n      \"column\": \"age\",\n      \"properties\": {\n        \"dtype\": \"number\",\n        \"std\": 7,\n        \"min\": 18,\n        \"max\": 33,\n        \"samples\": [\n          18,\n          32,\n          28\n        ],\n        \"num_unique_values\": 5,\n        \"semantic_type\": \"\",\n        \"description\": \"\"\n      }\n    },\n    {\n      \"column\": \"bmi\",\n      \"properties\": {\n        \"dtype\": \"number\",\n        \"std\": 4.4522275323707365,\n        \"min\": 22.705,\n        \"max\": 33.77,\n        \"samples\": [\n          33.77,\n          28.88,\n          33.0\n        ],\n        \"num_unique_values\": 5,\n        \"semantic_type\": \"\",\n        \"description\": \"\"\n      }\n    },\n    {\n      \"column\": \"children\",\n      \"properties\": {\n        \"dtype\": \"number\",\n        \"std\": 1,\n        \"min\": 0,\n        \"max\": 3,\n        \"samples\": [\n          0,\n          1,\n          3\n        ],\n        \"num_unique_values\": 3,\n        \"semantic_type\": \"\",\n        \"description\": \"\"\n      }\n    },\n    {\n      \"column\": \"charges\",\n      \"properties\": {\n        \"dtype\": \"number\",\n        \"std\": 9051.009157648406,\n        \"min\": 1725.5523,\n        \"max\": 21984.47061,\n        \"samples\": [\n          1725.5523,\n          3866.8552,\n          4449.462\n        ],\n        \"num_unique_values\": 5,\n        \"semantic_type\": \"\",\n        \"description\": \"\"\n      }\n    },\n    {\n      \"column\": \"sex_female\",\n      \"properties\": {\n        \"dtype\": \"uint8\",\n        \"samples\": [\n          0,\n          1\n        ],\n        \"num_unique_values\": 2,\n        \"semantic_type\": \"\",\n        \"description\": \"\"\n      }\n    },\n    {\n      \"column\": \"sex_male\",\n      \"properties\": {\n        \"dtype\": \"uint8\",\n        \"samples\": [\n          1,\n          0\n        ],\n        \"num_unique_values\": 2,\n        \"semantic_type\": \"\",\n        \"description\": \"\"\n      }\n    },\n    {\n      \"column\": \"smoker_no\",\n      \"properties\": {\n        \"dtype\": \"uint8\",\n        \"samples\": [\n          1,\n          0\n        ],\n        \"num_unique_values\": 2,\n        \"semantic_type\": \"\",\n        \"description\": \"\"\n      }\n    },\n    {\n      \"column\": \"smoker_yes\",\n      \"properties\": {\n        \"dtype\": \"uint8\",\n        \"samples\": [\n          0,\n          1\n        ],\n        \"num_unique_values\": 2,\n        \"semantic_type\": \"\",\n        \"description\": \"\"\n      }\n    },\n    {\n      \"column\": \"region_northeast\",\n      \"properties\": {\n        \"dtype\": \"uint8\",\n        \"samples\": [\n          0\n        ],\n        \"num_unique_values\": 1,\n        \"semantic_type\": \"\",\n        \"description\": \"\"\n      }\n    },\n    {\n      \"column\": \"region_northwest\",\n      \"properties\": {\n        \"dtype\": \"uint8\",\n        \"samples\": [\n          1\n        ],\n        \"num_unique_values\": 2,\n        \"semantic_type\": \"\",\n        \"description\": \"\"\n      }\n    },\n    {\n      \"column\": \"region_southeast\",\n      \"properties\": {\n        \"dtype\": \"uint8\",\n        \"samples\": [\n          1\n        ],\n        \"num_unique_values\": 2,\n        \"semantic_type\": \"\",\n        \"description\": \"\"\n      }\n    },\n    {\n      \"column\": \"region_southwest\",\n      \"properties\": {\n        \"dtype\": \"uint8\",\n        \"samples\": [\n          0\n        ],\n        \"num_unique_values\": 2,\n        \"semantic_type\": \"\",\n        \"description\": \"\"\n      }\n    }\n  ]\n}"
            }
          },
          "metadata": {},
          "execution_count": 187
        }
      ]
    },
    {
      "cell_type": "code",
      "source": [
        "# Create X & y values (features and labels)\n",
        "X = ins_one_hot.drop('charges', axis=1)\n",
        "y = ins_one_hot['charges']\n",
        "\n",
        "# Create training and test sets\n",
        "from sklearn.model_selection import train_test_split\n",
        "X_train, X_test, y_train, y_test = train_test_split(X, y, test_size=0.2, random_state=42)\n",
        "\n",
        "# Build a neural network (sort of like model_2 above)\n",
        "tf.random.set_seed(42)\n",
        "\n",
        "ins_model = tf.keras.Sequential([\n",
        "    tf.keras.layers.Dense(32),\n",
        "    tf.keras.layers.Dense(1)\n",
        "])\n",
        "\n",
        "# Compile the model\n",
        "ins_model.compile(loss=tf.keras.losses.mae,\n",
        "                  optimizer=tf.keras.optimizers.SGD(learning_rate=1e-3),\n",
        "                  metrics=['mae'])\n",
        "\n",
        "# Fit the model\n",
        "ins_model.fit(X_train, y_train, epochs=100)\n"
      ],
      "metadata": {
        "colab": {
          "base_uri": "https://localhost:8080/"
        },
        "id": "OFr6i032-hzl",
        "outputId": "eace46e2-fd16-4fa2-be41-72e0c01d1658"
      },
      "execution_count": 188,
      "outputs": [
        {
          "output_type": "stream",
          "name": "stdout",
          "text": [
            "Epoch 1/100\n",
            "1/1 [==============================] - 0s 420ms/step - loss: 11790.9297 - mae: 11790.9297\n",
            "Epoch 2/100\n",
            "1/1 [==============================] - 0s 10ms/step - loss: 11784.4629 - mae: 11784.4629\n",
            "Epoch 3/100\n",
            "1/1 [==============================] - 0s 14ms/step - loss: 11777.9414 - mae: 11777.9414\n",
            "Epoch 4/100\n",
            "1/1 [==============================] - 0s 10ms/step - loss: 11771.3232 - mae: 11771.3232\n",
            "Epoch 5/100\n",
            "1/1 [==============================] - 0s 15ms/step - loss: 11764.5684 - mae: 11764.5684\n",
            "Epoch 6/100\n",
            "1/1 [==============================] - 0s 11ms/step - loss: 11757.6328 - mae: 11757.6328\n",
            "Epoch 7/100\n",
            "1/1 [==============================] - 0s 10ms/step - loss: 11750.4746 - mae: 11750.4746\n",
            "Epoch 8/100\n",
            "1/1 [==============================] - 0s 9ms/step - loss: 11743.0488 - mae: 11743.0488\n",
            "Epoch 9/100\n",
            "1/1 [==============================] - 0s 12ms/step - loss: 11735.3105 - mae: 11735.3105\n",
            "Epoch 10/100\n",
            "1/1 [==============================] - 0s 7ms/step - loss: 11727.2100 - mae: 11727.2100\n",
            "Epoch 11/100\n",
            "1/1 [==============================] - 0s 9ms/step - loss: 11718.6992 - mae: 11718.6992\n",
            "Epoch 12/100\n",
            "1/1 [==============================] - 0s 8ms/step - loss: 11709.7246 - mae: 11709.7246\n",
            "Epoch 13/100\n",
            "1/1 [==============================] - 0s 11ms/step - loss: 11700.2314 - mae: 11700.2314\n",
            "Epoch 14/100\n",
            "1/1 [==============================] - 0s 10ms/step - loss: 11690.1602 - mae: 11690.1602\n",
            "Epoch 15/100\n",
            "1/1 [==============================] - 0s 9ms/step - loss: 11679.4512 - mae: 11679.4512\n",
            "Epoch 16/100\n",
            "1/1 [==============================] - 0s 9ms/step - loss: 11668.0381 - mae: 11668.0381\n",
            "Epoch 17/100\n",
            "1/1 [==============================] - 0s 9ms/step - loss: 11655.8506 - mae: 11655.8506\n",
            "Epoch 18/100\n",
            "1/1 [==============================] - 0s 9ms/step - loss: 11642.8154 - mae: 11642.8154\n",
            "Epoch 19/100\n",
            "1/1 [==============================] - 0s 9ms/step - loss: 11628.8516 - mae: 11628.8516\n",
            "Epoch 20/100\n",
            "1/1 [==============================] - 0s 9ms/step - loss: 11613.8750 - mae: 11613.8750\n",
            "Epoch 21/100\n",
            "1/1 [==============================] - 0s 9ms/step - loss: 11597.7930 - mae: 11597.7930\n",
            "Epoch 22/100\n",
            "1/1 [==============================] - 0s 9ms/step - loss: 11580.5098 - mae: 11580.5098\n",
            "Epoch 23/100\n",
            "1/1 [==============================] - 0s 9ms/step - loss: 11561.9189 - mae: 11561.9189\n",
            "Epoch 24/100\n",
            "1/1 [==============================] - 0s 8ms/step - loss: 11541.9072 - mae: 11541.9072\n",
            "Epoch 25/100\n",
            "1/1 [==============================] - 0s 9ms/step - loss: 11520.3516 - mae: 11520.3516\n",
            "Epoch 26/100\n",
            "1/1 [==============================] - 0s 9ms/step - loss: 11497.1240 - mae: 11497.1240\n",
            "Epoch 27/100\n",
            "1/1 [==============================] - 0s 11ms/step - loss: 11472.0801 - mae: 11472.0801\n",
            "Epoch 28/100\n",
            "1/1 [==============================] - 0s 9ms/step - loss: 11445.0684 - mae: 11445.0684\n",
            "Epoch 29/100\n",
            "1/1 [==============================] - 0s 10ms/step - loss: 11415.9258 - mae: 11415.9258\n",
            "Epoch 30/100\n",
            "1/1 [==============================] - 0s 12ms/step - loss: 11384.4746 - mae: 11384.4746\n",
            "Epoch 31/100\n",
            "1/1 [==============================] - 0s 9ms/step - loss: 11350.5234 - mae: 11350.5234\n",
            "Epoch 32/100\n",
            "1/1 [==============================] - 0s 12ms/step - loss: 11313.8662 - mae: 11313.8662\n",
            "Epoch 33/100\n",
            "1/1 [==============================] - 0s 10ms/step - loss: 11274.2793 - mae: 11274.2793\n",
            "Epoch 34/100\n",
            "1/1 [==============================] - 0s 10ms/step - loss: 11231.5234 - mae: 11231.5234\n",
            "Epoch 35/100\n",
            "1/1 [==============================] - 0s 10ms/step - loss: 11185.3398 - mae: 11185.3398\n",
            "Epoch 36/100\n",
            "1/1 [==============================] - 0s 10ms/step - loss: 11135.4453 - mae: 11135.4453\n",
            "Epoch 37/100\n",
            "1/1 [==============================] - 0s 9ms/step - loss: 11081.5371 - mae: 11081.5371\n",
            "Epoch 38/100\n",
            "1/1 [==============================] - 0s 10ms/step - loss: 11023.2891 - mae: 11023.2891\n",
            "Epoch 39/100\n",
            "1/1 [==============================] - 0s 9ms/step - loss: 10960.3467 - mae: 10960.3467\n",
            "Epoch 40/100\n",
            "1/1 [==============================] - 0s 10ms/step - loss: 10892.3291 - mae: 10892.3291\n",
            "Epoch 41/100\n",
            "1/1 [==============================] - 0s 12ms/step - loss: 10818.8203 - mae: 10818.8203\n",
            "Epoch 42/100\n",
            "1/1 [==============================] - 0s 12ms/step - loss: 10739.3760 - mae: 10739.3760\n",
            "Epoch 43/100\n",
            "1/1 [==============================] - 0s 11ms/step - loss: 10653.5137 - mae: 10653.5137\n",
            "Epoch 44/100\n",
            "1/1 [==============================] - 0s 9ms/step - loss: 10560.7100 - mae: 10560.7100\n",
            "Epoch 45/100\n",
            "1/1 [==============================] - 0s 10ms/step - loss: 10460.4023 - mae: 10460.4023\n",
            "Epoch 46/100\n",
            "1/1 [==============================] - 0s 10ms/step - loss: 10351.9824 - mae: 10351.9824\n",
            "Epoch 47/100\n",
            "1/1 [==============================] - 0s 10ms/step - loss: 10234.7910 - mae: 10234.7910\n",
            "Epoch 48/100\n",
            "1/1 [==============================] - 0s 10ms/step - loss: 10108.1152 - mae: 10108.1152\n",
            "Epoch 49/100\n",
            "1/1 [==============================] - 0s 14ms/step - loss: 9971.1885 - mae: 9971.1885\n",
            "Epoch 50/100\n",
            "1/1 [==============================] - 0s 9ms/step - loss: 9823.1777 - mae: 9823.1777\n",
            "Epoch 51/100\n",
            "1/1 [==============================] - 0s 9ms/step - loss: 9663.1816 - mae: 9663.1816\n",
            "Epoch 52/100\n",
            "1/1 [==============================] - 0s 9ms/step - loss: 9490.2324 - mae: 9490.2324\n",
            "Epoch 53/100\n",
            "1/1 [==============================] - 0s 9ms/step - loss: 9303.2773 - mae: 9303.2773\n",
            "Epoch 54/100\n",
            "1/1 [==============================] - 0s 9ms/step - loss: 9101.1816 - mae: 9101.1816\n",
            "Epoch 55/100\n",
            "1/1 [==============================] - 0s 10ms/step - loss: 8882.7188 - mae: 8882.7188\n",
            "Epoch 56/100\n",
            "1/1 [==============================] - 0s 9ms/step - loss: 8646.5605 - mae: 8646.5605\n",
            "Epoch 57/100\n",
            "1/1 [==============================] - 0s 10ms/step - loss: 8391.2744 - mae: 8391.2744\n",
            "Epoch 58/100\n",
            "1/1 [==============================] - 0s 10ms/step - loss: 8173.4253 - mae: 8173.4253\n",
            "Epoch 59/100\n",
            "1/1 [==============================] - 0s 10ms/step - loss: 8111.2461 - mae: 8111.2461\n",
            "Epoch 60/100\n",
            "1/1 [==============================] - 0s 10ms/step - loss: 8046.7803 - mae: 8046.7803\n",
            "Epoch 61/100\n",
            "1/1 [==============================] - 0s 9ms/step - loss: 7997.1455 - mae: 7997.1455\n",
            "Epoch 62/100\n",
            "1/1 [==============================] - 0s 9ms/step - loss: 7994.5703 - mae: 7994.5703\n",
            "Epoch 63/100\n",
            "1/1 [==============================] - 0s 11ms/step - loss: 8005.9360 - mae: 8005.9360\n",
            "Epoch 64/100\n",
            "1/1 [==============================] - 0s 10ms/step - loss: 8005.0122 - mae: 8005.0122\n",
            "Epoch 65/100\n",
            "1/1 [==============================] - 0s 9ms/step - loss: 8002.3809 - mae: 8002.3809\n",
            "Epoch 66/100\n",
            "1/1 [==============================] - 0s 9ms/step - loss: 7999.7676 - mae: 7999.7676\n",
            "Epoch 67/100\n",
            "1/1 [==============================] - 0s 9ms/step - loss: 7997.1738 - mae: 7997.1738\n",
            "Epoch 68/100\n",
            "1/1 [==============================] - 0s 10ms/step - loss: 7994.5977 - mae: 7994.5977\n",
            "Epoch 69/100\n",
            "1/1 [==============================] - 0s 9ms/step - loss: 8003.3242 - mae: 8003.3242\n",
            "Epoch 70/100\n",
            "1/1 [==============================] - 0s 12ms/step - loss: 8005.0498 - mae: 8005.0498\n",
            "Epoch 71/100\n",
            "1/1 [==============================] - 0s 12ms/step - loss: 8002.4170 - mae: 8002.4170\n",
            "Epoch 72/100\n",
            "1/1 [==============================] - 0s 14ms/step - loss: 7999.8027 - mae: 7999.8027\n",
            "Epoch 73/100\n",
            "1/1 [==============================] - 0s 11ms/step - loss: 7997.2085 - mae: 7997.2085\n",
            "Epoch 74/100\n",
            "1/1 [==============================] - 0s 9ms/step - loss: 7994.6323 - mae: 7994.6323\n",
            "Epoch 75/100\n",
            "1/1 [==============================] - 0s 10ms/step - loss: 8000.6675 - mae: 8000.6675\n",
            "Epoch 76/100\n",
            "1/1 [==============================] - 0s 9ms/step - loss: 8005.0938 - mae: 8005.0938\n",
            "Epoch 77/100\n",
            "1/1 [==============================] - 0s 10ms/step - loss: 8002.4609 - mae: 8002.4609\n",
            "Epoch 78/100\n",
            "1/1 [==============================] - 0s 10ms/step - loss: 7999.8467 - mae: 7999.8467\n",
            "Epoch 79/100\n",
            "1/1 [==============================] - 0s 9ms/step - loss: 7997.2520 - mae: 7997.2520\n",
            "Epoch 80/100\n",
            "1/1 [==============================] - 0s 9ms/step - loss: 7994.6748 - mae: 7994.6748\n",
            "Epoch 81/100\n",
            "1/1 [==============================] - 0s 9ms/step - loss: 7997.9644 - mae: 7997.9644\n",
            "Epoch 82/100\n",
            "1/1 [==============================] - 0s 10ms/step - loss: 8005.1465 - mae: 8005.1465\n",
            "Epoch 83/100\n",
            "1/1 [==============================] - 0s 9ms/step - loss: 8002.5132 - mae: 8002.5132\n",
            "Epoch 84/100\n",
            "1/1 [==============================] - 0s 9ms/step - loss: 7999.8984 - mae: 7999.8984\n",
            "Epoch 85/100\n",
            "1/1 [==============================] - 0s 9ms/step - loss: 7997.3032 - mae: 7997.3032\n",
            "Epoch 86/100\n",
            "1/1 [==============================] - 0s 9ms/step - loss: 7994.7256 - mae: 7994.7256\n",
            "Epoch 87/100\n",
            "1/1 [==============================] - 0s 9ms/step - loss: 7995.2163 - mae: 7995.2163\n",
            "Epoch 88/100\n",
            "1/1 [==============================] - 0s 9ms/step - loss: 8005.2061 - mae: 8005.2061\n",
            "Epoch 89/100\n",
            "1/1 [==============================] - 0s 9ms/step - loss: 8002.5732 - mae: 8002.5732\n",
            "Epoch 90/100\n",
            "1/1 [==============================] - 0s 8ms/step - loss: 7999.9575 - mae: 7999.9575\n",
            "Epoch 91/100\n",
            "1/1 [==============================] - 0s 9ms/step - loss: 7997.3613 - mae: 7997.3613\n",
            "Epoch 92/100\n",
            "1/1 [==============================] - 0s 9ms/step - loss: 7994.7837 - mae: 7994.7837\n",
            "Epoch 93/100\n",
            "1/1 [==============================] - 0s 9ms/step - loss: 7992.4219 - mae: 7992.4219\n",
            "Epoch 94/100\n",
            "1/1 [==============================] - 0s 9ms/step - loss: 8005.2754 - mae: 8005.2754\n",
            "Epoch 95/100\n",
            "1/1 [==============================] - 0s 9ms/step - loss: 8002.6406 - mae: 8002.6406\n",
            "Epoch 96/100\n",
            "1/1 [==============================] - 0s 9ms/step - loss: 8000.0249 - mae: 8000.0249\n",
            "Epoch 97/100\n",
            "1/1 [==============================] - 0s 9ms/step - loss: 7997.4277 - mae: 7997.4277\n",
            "Epoch 98/100\n",
            "1/1 [==============================] - 0s 9ms/step - loss: 7994.8486 - mae: 7994.8486\n",
            "Epoch 99/100\n",
            "1/1 [==============================] - 0s 10ms/step - loss: 7992.2891 - mae: 7992.2891\n",
            "Epoch 100/100\n",
            "1/1 [==============================] - 0s 9ms/step - loss: 8002.5034 - mae: 8002.5034\n"
          ]
        },
        {
          "output_type": "execute_result",
          "data": {
            "text/plain": [
              "<keras.src.callbacks.History at 0x7b2fef5bc0d0>"
            ]
          },
          "metadata": {},
          "execution_count": 188
        }
      ]
    },
    {
      "cell_type": "code",
      "source": [
        "# Check the results of the ins model on the test data\n",
        "ins_model.evaluate(X_test, y_test)"
      ],
      "metadata": {
        "colab": {
          "base_uri": "https://localhost:8080/"
        },
        "id": "uD6Obb4jB4SQ",
        "outputId": "f8e49f48-e331-4cf2-cb2e-07bec602bfcf"
      },
      "execution_count": 189,
      "outputs": [
        {
          "output_type": "stream",
          "name": "stdout",
          "text": [
            "1/1 [==============================] - 0s 106ms/step - loss: 2180.8230 - mae: 2180.8230\n"
          ]
        },
        {
          "output_type": "execute_result",
          "data": {
            "text/plain": [
              "[2180.822998046875, 2180.822998046875]"
            ]
          },
          "metadata": {},
          "execution_count": 189
        }
      ]
    },
    {
      "cell_type": "markdown",
      "source": [
        "Right now it looks like our model isn't performing too well... let's try and improve it!"
      ],
      "metadata": {
        "id": "_OZtES2TCkxb"
      }
    },
    {
      "cell_type": "code",
      "source": [
        "# Build an improved version of the previous model by tuning parameters\n",
        "tf.random.set_seed(42)\n",
        "\n",
        "ins_model_2 = tf.keras.Sequential([\n",
        "    tf.keras.layers.Dense(64),\n",
        "    tf.keras.layers.Dense(32),\n",
        "    tf.keras.layers.Dense(1)\n",
        "])\n",
        "\n",
        "# Compile the model\n",
        "ins_model_2.compile(loss=tf.keras.losses.mae,\n",
        "                  optimizer=tf.keras.optimizers.Adam(),\n",
        "                  metrics=['mae'])\n",
        "\n",
        "# Fit the model\n",
        "ins_model_2.fit(X_train, y_train, epochs=100, verbose=0)\n"
      ],
      "metadata": {
        "colab": {
          "base_uri": "https://localhost:8080/"
        },
        "id": "pAJ3vthnCS9N",
        "outputId": "6ae21a05-8378-4f3a-8b43-57dc495623b8"
      },
      "execution_count": 190,
      "outputs": [
        {
          "output_type": "execute_result",
          "data": {
            "text/plain": [
              "<keras.src.callbacks.History at 0x7b2fefd39540>"
            ]
          },
          "metadata": {},
          "execution_count": 190
        }
      ]
    },
    {
      "cell_type": "code",
      "source": [
        "# Evaluate the larger model\n",
        "ins_model_2.evaluate(X_test, y_test)"
      ],
      "metadata": {
        "colab": {
          "base_uri": "https://localhost:8080/"
        },
        "id": "_p5Amd7RDI9L",
        "outputId": "8a7d465a-b195-40f4-aa3f-e23c6a6a657c"
      },
      "execution_count": 191,
      "outputs": [
        {
          "output_type": "stream",
          "name": "stdout",
          "text": [
            "1/1 [==============================] - 0s 119ms/step - loss: 713.7465 - mae: 713.7465\n"
          ]
        },
        {
          "output_type": "execute_result",
          "data": {
            "text/plain": [
              "[713.7464599609375, 713.7464599609375]"
            ]
          },
          "metadata": {},
          "execution_count": 191
        }
      ]
    },
    {
      "cell_type": "code",
      "source": [
        "# Set random seed\n",
        "tf.random.set_seed(42)\n",
        "\n",
        "# Create the model (same as above)\n",
        "ins_model_3 = tf.keras.Sequential([\n",
        "    tf.keras.layers.Dense(64, activation='relu'),\n",
        "    tf.keras.layers.Dense(1)\n",
        "])\n",
        "\n",
        "# Compile the model\n",
        "ins_model_3.compile(loss=tf.keras.losses.mae,\n",
        "                  optimizer=tf.keras.optimizers.Adam(learning_rate=0.01),\n",
        "                  metrics=['mae'])\n",
        "\n",
        "# Fit the model\n",
        "history = ins_model_3.fit(X_train, y_train, epochs=3000, verbose=0)"
      ],
      "metadata": {
        "id": "Ihsd1VUsFkTL"
      },
      "execution_count": 192,
      "outputs": []
    },
    {
      "cell_type": "code",
      "source": [
        "# Evaluate our third model\n",
        "ins_model_3.evaluate(X_test, y_test)"
      ],
      "metadata": {
        "colab": {
          "base_uri": "https://localhost:8080/"
        },
        "id": "NMsaX6S-GCTg",
        "outputId": "96a0938c-7c9f-481a-8807-b12dfaa34ffa"
      },
      "execution_count": 193,
      "outputs": [
        {
          "output_type": "stream",
          "name": "stdout",
          "text": [
            "1/1 [==============================] - 0s 112ms/step - loss: 213.5819 - mae: 213.5819\n"
          ]
        },
        {
          "output_type": "execute_result",
          "data": {
            "text/plain": [
              "[213.5819091796875, 213.5819091796875]"
            ]
          },
          "metadata": {},
          "execution_count": 193
        }
      ]
    },
    {
      "cell_type": "code",
      "source": [
        "# Plot history (also known as loss curve or a training curve)\n",
        "pd.DataFrame(history.history).plot()\n",
        "plt.ylabel('Loss')\n",
        "plt.xlabel('Epoch')"
      ],
      "metadata": {
        "colab": {
          "base_uri": "https://localhost:8080/",
          "height": 466
        },
        "id": "nGmlapvaGJd-",
        "outputId": "2b30f79f-c7aa-4639-a258-e1ac1a49c984"
      },
      "execution_count": 194,
      "outputs": [
        {
          "output_type": "execute_result",
          "data": {
            "text/plain": [
              "Text(0.5, 0, 'Epoch')"
            ]
          },
          "metadata": {},
          "execution_count": 194
        },
        {
          "output_type": "display_data",
          "data": {
            "text/plain": [
              "<Figure size 640x480 with 1 Axes>"
            ],
            "image/png": "[encoded data removed]"
          },
          "metadata": {}
        }
      ]
    },
    {
      "cell_type": "markdown",
      "source": [
        "> 🤔**Question:** How long should you train for?\n",
        "\n",
        "It depends. Really... It depends on the problem you're working on. However, many people have asked this question before... so TensorFlow has a solution! It's called the [EarlyStopping Callback](https://www.tensorflow.org/api_docs/python/tf/keras/callbacks/EarlyStopping), which is a TensorFlow component you can add to your model to stop training once it stops improving a certain metric."
      ],
      "metadata": {
        "id": "mMsQJYBKHpn8"
      }
    },
    {
      "cell_type": "markdown",
      "source": [
        "### Preprocessing data (normalization and standardization)\n",
        "\n",
        "In terms of scaling values, neural networks tend to prefer normalization.\n",
        "\n",
        "If you're not sure on which to use, you could try both and see which performs better."
      ],
      "metadata": {
        "id": "wkzr4WqAGa0X"
      }
    },
    {
      "cell_type": "code",
      "source": [
        "import pandas as pd\n",
        "import numpy as np\n",
        "import matplotlib.pyplot as plt\n",
        "import tensorflow as tf\n",
        "\n",
        "# Load the data\n",
        "insurance = pd.read_csv('https://raw.githubusercontent.com/stedy/Machine-Learning-with-R-datasets/master/insurance.csv')\n",
        "insurance.head()"
      ],
      "metadata": {
        "colab": {
          "base_uri": "https://localhost:8080/",
          "height": 206
        },
        "id": "bcdlHna_I014",
        "outputId": "6a6b2593-fbf1-42c6-bd36-72c25e2e468f"
      },
      "execution_count": 195,
      "outputs": [
        {
          "output_type": "execute_result",
          "data": {
            "text/plain": [
              "   age     sex     bmi  children smoker     region      charges\n",
              "0   19  female  27.900         0    yes  southwest  16884.92400\n",
              "1   18    male  33.770         1     no  southeast   1725.55230\n",
              "2   28    male  33.000         3     no  southeast   4449.46200\n",
              "3   33    male  22.705         0     no  northwest  21984.47061\n",
              "4   32    male  28.880         0     no  northwest   3866.85520"
            ],
            "text/html": [
              "\n",
              "  <div id=\"df-7f7ec0f5-c780-4b9c-a204-284e05b6f368\" class=\"colab-df-container\">\n",
              "    <div>\n",
              "<style scoped>\n",
              "    .dataframe tbody tr th:only-of-type {\n",
              "        vertical-align: middle;\n",
              "    }\n",
              "\n",
              "    .dataframe tbody tr th {\n",
              "        vertical-align: top;\n",
              "    }\n",
              "\n",
              "    .dataframe thead th {\n",
              "        text-align: right;\n",
              "    }\n",
              "</style>\n",
              "<table border=\"1\" class=\"dataframe\">\n",
              "  <thead>\n",
              "    <tr style=\"text-align: right;\">\n",
              "      <th></th>\n",
              "      <th>age</th>\n",
              "      <th>sex</th>\n",
              "      <th>bmi</th>\n",
              "      <th>children</th>\n",
              "      <th>smoker</th>\n",
              "      <th>region</th>\n",
              "      <th>charges</th>\n",
              "    </tr>\n",
              "  </thead>\n",
              "  <tbody>\n",
              "    <tr>\n",
              "      <th>0</th>\n",
              "      <td>19</td>\n",
              "      <td>female</td>\n",
              "      <td>27.900</td>\n",
              "      <td>0</td>\n",
              "      <td>yes</td>\n",
              "      <td>southwest</td>\n",
              "      <td>16884.92400</td>\n",
              "    </tr>\n",
              "    <tr>\n",
              "      <th>1</th>\n",
              "      <td>18</td>\n",
              "      <td>male</td>\n",
              "      <td>33.770</td>\n",
              "      <td>1</td>\n",
              "      <td>no</td>\n",
              "      <td>southeast</td>\n",
              "      <td>1725.55230</td>\n",
              "    </tr>\n",
              "    <tr>\n",
              "      <th>2</th>\n",
              "      <td>28</td>\n",
              "      <td>male</td>\n",
              "      <td>33.000</td>\n",
              "      <td>3</td>\n",
              "      <td>no</td>\n",
              "      <td>southeast</td>\n",
              "      <td>4449.46200</td>\n",
              "    </tr>\n",
              "    <tr>\n",
              "      <th>3</th>\n",
              "      <td>33</td>\n",
              "      <td>male</td>\n",
              "      <td>22.705</td>\n",
              "      <td>0</td>\n",
              "      <td>no</td>\n",
              "      <td>northwest</td>\n",
              "      <td>21984.47061</td>\n",
              "    </tr>\n",
              "    <tr>\n",
              "      <th>4</th>\n",
              "      <td>32</td>\n",
              "      <td>male</td>\n",
              "      <td>28.880</td>\n",
              "      <td>0</td>\n",
              "      <td>no</td>\n",
              "      <td>northwest</td>\n",
              "      <td>3866.85520</td>\n",
              "    </tr>\n",
              "  </tbody>\n",
              "</table>\n",
              "</div>\n",
              "    <div class=\"colab-df-buttons\">\n",
              "\n",
              "  <div class=\"colab-df-container\">\n",
              "    <button class=\"colab-df-convert\" onclick=\"convertToInteractive('df-7f7ec0f5-c780-4b9c-a204-284e05b6f368')\"\n",
              "            title=\"Convert this dataframe to an interactive table.\"\n",
              "            style=\"display:none;\">\n",
              "\n",
              "  <svg xmlns=\"http://www.w3.org/2000/svg\" height=\"24px\" viewBox=\"0 -960 960 960\">\n",
              "    <path d=\"M120-120v-720h720v720H120Zm60-500h600v-160H180v160Zm220 220h160v-160H400v160Zm0 220h160v-160H400v160ZM180-400h160v-160H180v160Zm440 0h160v-160H620v160ZM180-180h160v-160H180v160Zm440 0h160v-160H620v160Z\"/>\n",
              "  </svg>\n",
              "    </button>\n",
              "\n",
              "  <style>\n",
              "    .colab-df-container {\n",
              "      display:flex;\n",
              "      gap: 12px;\n",
              "    }\n",
              "\n",
              "    .colab-df-convert {\n",
              "      background-color: #E8F0FE;\n",
              "      border: none;\n",
              "      border-radius: 50%;\n",
              "      cursor: pointer;\n",
              "      display: none;\n",
              "      fill: #1967D2;\n",
              "      height: 32px;\n",
              "      padding: 0 0 0 0;\n",
              "      width: 32px;\n",
              "    }\n",
              "\n",
              "    .colab-df-convert:hover {\n",
              "      background-color: #E2EBFA;\n",
              "      box-shadow: 0px 1px 2px rgba(60, 64, 67, 0.3), 0px 1px 3px 1px rgba(60, 64, 67, 0.15);\n",
              "      fill: #174EA6;\n",
              "    }\n",
              "\n",
              "    .colab-df-buttons div {\n",
              "      margin-bottom: 4px;\n",
              "    }\n",
              "\n",
              "    [theme=dark] .colab-df-convert {\n",
              "      background-color: #3B4455;\n",
              "      fill: #D2E3FC;\n",
              "    }\n",
              "\n",
              "    [theme=dark] .colab-df-convert:hover {\n",
              "      background-color: #434B5C;\n",
              "      box-shadow: 0px 1px 3px 1px rgba(0, 0, 0, 0.15);\n",
              "      filter: drop-shadow(0px 1px 2px rgba(0, 0, 0, 0.3));\n",
              "      fill: #FFFFFF;\n",
              "    }\n",
              "  </style>\n",
              "\n",
              "    <script>\n",
              "      const buttonEl =\n",
              "        document.querySelector('#df-7f7ec0f5-c780-4b9c-a204-284e05b6f368 button.colab-df-convert');\n",
              "      buttonEl.style.display =\n",
              "        google.colab.kernel.accessAllowed ? 'block' : 'none';\n",
              "\n",
              "      async function convertToInteractive(key) {\n",
              "        const element = document.querySelector('#df-7f7ec0f5-c780-4b9c-a204-284e05b6f368');\n",
              "        const dataTable =\n",
              "          await google.colab.kernel.invokeFunction('convertToInteractive',\n",
              "                                                    [key], {});\n",
              "        if (!dataTable) return;\n",
              "\n",
              "        const docLinkHtml = 'Like what you see? Visit the ' +\n",
              "          '<a target=\"_blank\" href=https://colab.research.google.com/notebooks/data_table.ipynb>data table notebook</a>'\n",
              "          + ' to learn more about interactive tables.';\n",
              "        element.innerHTML = '';\n",
              "        dataTable['output_type'] = 'display_data';\n",
              "        await google.colab.output.renderOutput(dataTable, element);\n",
              "        const docLink = document.createElement('div');\n",
              "        docLink.innerHTML = docLinkHtml;\n",
              "        element.appendChild(docLink);\n",
              "      }\n",
              "    </script>\n",
              "  </div>\n",
              "\n",
              "\n",
              "<div id=\"df-cb645813-6e57-46bc-b674-50b377a5f5af\">\n",
              "  <button class=\"colab-df-quickchart\" onclick=\"quickchart('df-cb645813-6e57-46bc-b674-50b377a5f5af')\"\n",
              "            title=\"Suggest charts\"\n",
              "            style=\"display:none;\">\n",
              "\n",
              "<svg xmlns=\"http://www.w3.org/2000/svg\" height=\"24px\"viewBox=\"0 0 24 24\"\n",
              "     width=\"24px\">\n",
              "    <g>\n",
              "        <path d=\"M19 3H5c-1.1 0-2 .9-2 2v14c0 1.1.9 2 2 2h14c1.1 0 2-.9 2-2V5c0-1.1-.9-2-2-2zM9 17H7v-7h2v7zm4 0h-2V7h2v10zm4 0h-2v-4h2v4z\"/>\n",
              "    </g>\n",
              "</svg>\n",
              "  </button>\n",
              "\n",
              "<style>\n",
              "  .colab-df-quickchart {\n",
              "      --bg-color: #E8F0FE;\n",
              "      --fill-color: #1967D2;\n",
              "      --hover-bg-color: #E2EBFA;\n",
              "      --hover-fill-color: #174EA6;\n",
              "      --disabled-fill-color: #AAA;\n",
              "      --disabled-bg-color: #DDD;\n",
              "  }\n",
              "\n",
              "  [theme=dark] .colab-df-quickchart {\n",
              "      --bg-color: #3B4455;\n",
              "      --fill-color: #D2E3FC;\n",
              "      --hover-bg-color: #434B5C;\n",
              "      --hover-fill-color: #FFFFFF;\n",
              "      --disabled-bg-color: #3B4455;\n",
              "      --disabled-fill-color: #666;\n",
              "  }\n",
              "\n",
              "  .colab-df-quickchart {\n",
              "    background-color: var(--bg-color);\n",
              "    border: none;\n",
              "    border-radius: 50%;\n",
              "    cursor: pointer;\n",
              "    display: none;\n",
              "    fill: var(--fill-color);\n",
              "    height: 32px;\n",
              "    padding: 0;\n",
              "    width: 32px;\n",
              "  }\n",
              "\n",
              "  .colab-df-quickchart:hover {\n",
              "    background-color: var(--hover-bg-color);\n",
              "    box-shadow: 0 1px 2px rgba(60, 64, 67, 0.3), 0 1px 3px 1px rgba(60, 64, 67, 0.15);\n",
              "    fill: var(--button-hover-fill-color);\n",
              "  }\n",
              "\n",
              "  .colab-df-quickchart-complete:disabled,\n",
              "  .colab-df-quickchart-complete:disabled:hover {\n",
              "    background-color: var(--disabled-bg-color);\n",
              "    fill: var(--disabled-fill-color);\n",
              "    box-shadow: none;\n",
              "  }\n",
              "\n",
              "  .colab-df-spinner {\n",
              "    border: 2px solid var(--fill-color);\n",
              "    border-color: transparent;\n",
              "    border-bottom-color: var(--fill-color);\n",
              "    animation:\n",
              "      spin 1s steps(1) infinite;\n",
              "  }\n",
              "\n",
              "  @keyframes spin {\n",
              "    0% {\n",
              "      border-color: transparent;\n",
              "      border-bottom-color: var(--fill-color);\n",
              "      border-left-color: var(--fill-color);\n",
              "    }\n",
              "    20% {\n",
              "      border-color: transparent;\n",
              "      border-left-color: var(--fill-color);\n",
              "      border-top-color: var(--fill-color);\n",
              "    }\n",
              "    30% {\n",
              "      border-color: transparent;\n",
              "      border-left-color: var(--fill-color);\n",
              "      border-top-color: var(--fill-color);\n",
              "      border-right-color: var(--fill-color);\n",
              "    }\n",
              "    40% {\n",
              "      border-color: transparent;\n",
              "      border-right-color: var(--fill-color);\n",
              "      border-top-color: var(--fill-color);\n",
              "    }\n",
              "    60% {\n",
              "      border-color: transparent;\n",
              "      border-right-color: var(--fill-color);\n",
              "    }\n",
              "    80% {\n",
              "      border-color: transparent;\n",
              "      border-right-color: var(--fill-color);\n",
              "      border-bottom-color: var(--fill-color);\n",
              "    }\n",
              "    90% {\n",
              "      border-color: transparent;\n",
              "      border-bottom-color: var(--fill-color);\n",
              "    }\n",
              "  }\n",
              "</style>\n",
              "\n",
              "  <script>\n",
              "    async function quickchart(key) {\n",
              "      const quickchartButtonEl =\n",
              "        document.querySelector('#' + key + ' button');\n",
              "      quickchartButtonEl.disabled = true;  // To prevent multiple clicks.\n",
              "      quickchartButtonEl.classList.add('colab-df-spinner');\n",
              "      try {\n",
              "        const charts = await google.colab.kernel.invokeFunction(\n",
              "            'suggestCharts', [key], {});\n",
              "      } catch (error) {\n",
              "        console.error('Error during call to suggestCharts:', error);\n",
              "      }\n",
              "      quickchartButtonEl.classList.remove('colab-df-spinner');\n",
              "      quickchartButtonEl.classList.add('colab-df-quickchart-complete');\n",
              "    }\n",
              "    (() => {\n",
              "      let quickchartButtonEl =\n",
              "        document.querySelector('#df-cb645813-6e57-46bc-b674-50b377a5f5af button');\n",
              "      quickchartButtonEl.style.display =\n",
              "        google.colab.kernel.accessAllowed ? 'block' : 'none';\n",
              "    })();\n",
              "  </script>\n",
              "</div>\n",
              "\n",
              "    </div>\n",
              "  </div>\n"
            ],
            "application/vnd.google.colaboratory.intrinsic+json": {
              "type": "dataframe",
              "variable_name": "insurance",
              "summary": "{\n  \"name\": \"insurance\",\n  \"rows\": 1338,\n  \"fields\": [\n    {\n      \"column\": \"age\",\n      \"properties\": {\n        \"dtype\": \"number\",\n        \"std\": 14,\n        \"min\": 18,\n        \"max\": 64,\n        \"samples\": [\n          21,\n          45,\n          36\n        ],\n        \"num_unique_values\": 47,\n        \"semantic_type\": \"\",\n        \"description\": \"\"\n      }\n    },\n    {\n      \"column\": \"sex\",\n      \"properties\": {\n        \"dtype\": \"category\",\n        \"samples\": [\n          \"male\",\n          \"female\"\n        ],\n        \"num_unique_values\": 2,\n        \"semantic_type\": \"\",\n        \"description\": \"\"\n      }\n    },\n    {\n      \"column\": \"bmi\",\n      \"properties\": {\n        \"dtype\": \"number\",\n        \"std\": 6.098186911679014,\n        \"min\": 15.96,\n        \"max\": 53.13,\n        \"samples\": [\n          23.18,\n          26.885\n        ],\n        \"num_unique_values\": 548,\n        \"semantic_type\": \"\",\n        \"description\": \"\"\n      }\n    },\n    {\n      \"column\": \"children\",\n      \"properties\": {\n        \"dtype\": \"number\",\n        \"std\": 1,\n        \"min\": 0,\n        \"max\": 5,\n        \"samples\": [\n          0,\n          1\n        ],\n        \"num_unique_values\": 6,\n        \"semantic_type\": \"\",\n        \"description\": \"\"\n      }\n    },\n    {\n      \"column\": \"smoker\",\n      \"properties\": {\n        \"dtype\": \"category\",\n        \"samples\": [\n          \"no\",\n          \"yes\"\n        ],\n        \"num_unique_values\": 2,\n        \"semantic_type\": \"\",\n        \"description\": \"\"\n      }\n    },\n    {\n      \"column\": \"region\",\n      \"properties\": {\n        \"dtype\": \"category\",\n        \"samples\": [\n          \"southeast\",\n          \"northeast\"\n        ],\n        \"num_unique_values\": 4,\n        \"semantic_type\": \"\",\n        \"description\": \"\"\n      }\n    },\n    {\n      \"column\": \"charges\",\n      \"properties\": {\n        \"dtype\": \"number\",\n        \"std\": 12110.011236694001,\n        \"min\": 1121.8739,\n        \"max\": 63770.42801,\n        \"samples\": [\n          8688.85885,\n          5708.867\n        ],\n        \"num_unique_values\": 1337,\n        \"semantic_type\": \"\",\n        \"description\": \"\"\n      }\n    }\n  ]\n}"
            }
          },
          "metadata": {},
          "execution_count": 195
        }
      ]
    },
    {
      "cell_type": "markdown",
      "source": [
        "To prepare our data, we can borrow a few classes from Scikit-Learn."
      ],
      "metadata": {
        "id": "HkzQzHlBOMAW"
      }
    },
    {
      "cell_type": "code",
      "source": [
        "from sklearn.compose import make_column_transformer\n",
        "from sklearn.preprocessing import OneHotEncoder, StandardScaler, MinMaxScaler\n",
        "\n",
        "# Create a column transformer\n",
        "ct = make_column_transformer(\n",
        "    (OneHotEncoder(sparse_output=False), ['sex', 'smoker', 'region']),\n",
        "    (MinMaxScaler(), ['age', 'bmi', 'children'])\n",
        ")\n",
        "\n",
        "# Create X and y\n",
        "X = insurance.drop('charges', axis=1)\n",
        "y = insurance['charges']\n",
        "\n",
        "# Build our train and test sets\n",
        "X_train, X_test, y_train, y_test = train_test_split(X, y, test_size=0.2, random_state=42)\n",
        "\n",
        "# Fit the column transformer to our training data\n",
        "X_train = ct.fit_transform(X_train)\n",
        "X_test = ct.transform(X_test)\n"
      ],
      "metadata": {
        "id": "I2yxTK84N1iw"
      },
      "execution_count": 197,
      "outputs": []
    },
    {
      "cell_type": "code",
      "source": [
        "X_train.shape"
      ],
      "metadata": {
        "colab": {
          "base_uri": "https://localhost:8080/"
        },
        "id": "1_fArAx7PVtv",
        "outputId": "42a81711-60a2-4d91-9e5d-1e2a1ea0d851"
      },
      "execution_count": 200,
      "outputs": [
        {
          "output_type": "execute_result",
          "data": {
            "text/plain": [
              "(1070, 11)"
            ]
          },
          "metadata": {},
          "execution_count": 200
        }
      ]
    },
    {
      "cell_type": "markdown",
      "source": [
        "Great! Our data has been normalized and one hot encoded.\n",
        "\n",
        "Now let's build a neural network model on it and see how it goes."
      ],
      "metadata": {
        "id": "Cu9zn3HKRQ6y"
      }
    },
    {
      "cell_type": "code",
      "source": [],
      "metadata": {
        "id": "jLZO3zi-Rc8Z"
      },
      "execution_count": null,
      "outputs": []
    }
  ]
}