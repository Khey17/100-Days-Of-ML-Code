{
  "nbformat": 4,
  "nbformat_minor": 0,
  "metadata": {
    "colab": {
      "provenance": [],
      "authorship_tag": "ABX9TyMAzJcp5hquclMZdsXrPEzp",
      "include_colab_link": true
    },
    "kernelspec": {
      "name": "python3",
      "display_name": "Python 3"
    },
    "language_info": {
      "name": "python"
    }
  },
  "cells": [
    {
      "cell_type": "markdown",
      "metadata": {
        "id": "view-in-github",
        "colab_type": "text"
      },
      "source": [
        "<a href=\"https://colab.research.google.com/github/Khey17/100-Days-Of-ML-Code/blob/main/Neural_Network_Regression_with_TensorFlow_01.ipynb\" target=\"_parent\"><img src=\"https://colab.research.google.com/assets/colab-badge.svg\" alt=\"Open In Colab\"/></a>"
      ]
    },
    {
      "cell_type": "markdown",
      "source": [
        "# Introduction to Regression with Neural Networks in TensorFlow\n",
        "\n",
        "There are many definitions for a regression problem but in our case, we're going to simplify it: predicting a continuous value based on some other combination of variables, even shorter... predicting a number."
      ],
      "metadata": {
        "id": "vvIp9ME4Eg3z"
      }
    },
    {
      "cell_type": "code",
      "source": [
        "# Import TensorFlow\n",
        "import tensorflow as tf\n",
        "print(tf.__version__)"
      ],
      "metadata": {
        "colab": {
          "base_uri": "https://localhost:8080/"
        },
        "id": "JLPb9RlqFNOp",
        "outputId": "2ccd79db-7d1f-4d49-97b9-302f57b4ddcb"
      },
      "execution_count": 58,
      "outputs": [
        {
          "output_type": "stream",
          "name": "stdout",
          "text": [
            "2.15.0\n"
          ]
        }
      ]
    },
    {
      "cell_type": "markdown",
      "source": [
        "### Creating data to view and fit"
      ],
      "metadata": {
        "id": "Bz98xtVXFTbP"
      }
    },
    {
      "cell_type": "code",
      "source": [
        "import numpy as np\n",
        "import pandas as pd\n",
        "import matplotlib.pyplot as plt\n",
        "\n",
        "# Create features\n",
        "X = np.array([-7.0, -4.0, -1.0, 2.0, 5.0, 8.0, 11.0, 14.0])\n",
        "\n",
        "# Create labels\n",
        "y = np.array([3.0, 6.0, 9.0, 12.0, 15.0, 18.0, 21.0, 24.0])\n",
        "\n",
        "# Visualize it\n",
        "plt.scatter(X, y)"
      ],
      "metadata": {
        "colab": {
          "base_uri": "https://localhost:8080/",
          "height": 452
        },
        "id": "fq2-shCmFYEq",
        "outputId": "35323d19-0872-4673-d0d8-6c9a40d2b71e"
      },
      "execution_count": 59,
      "outputs": [
        {
          "output_type": "execute_result",
          "data": {
            "text/plain": [
              "<matplotlib.collections.PathCollection at 0x7910084cdcf0>"
            ]
          },
          "metadata": {},
          "execution_count": 59
        },
        {
          "output_type": "display_data",
          "data": {
            "text/plain": [
              "<Figure size 640x480 with 1 Axes>"
            ],
            "image/png": "[encoded data removed]"
          },
          "metadata": {}
        }
      ]
    },
    {
      "cell_type": "code",
      "source": [
        "# y = X + 10\n",
        "y == X + 10"
      ],
      "metadata": {
        "colab": {
          "base_uri": "https://localhost:8080/"
        },
        "id": "X1m5MZdpFz7P",
        "outputId": "3f059ead-313b-444c-f84c-f24d695ca421"
      },
      "execution_count": 60,
      "outputs": [
        {
          "output_type": "execute_result",
          "data": {
            "text/plain": [
              "array([ True,  True,  True,  True,  True,  True,  True,  True])"
            ]
          },
          "metadata": {},
          "execution_count": 60
        }
      ]
    },
    {
      "cell_type": "markdown",
      "source": [
        "### Input and Output shapes"
      ],
      "metadata": {
        "id": "Rc0XkyXXGMy7"
      }
    },
    {
      "cell_type": "code",
      "source": [
        "# Create a demo tensor for our housing prediction problem\n",
        "house_info = tf.constant(['bedroom', 'bedroom', 'garage'])\n",
        "house_price = tf.constant([939700])\n",
        "house_info, house_price"
      ],
      "metadata": {
        "colab": {
          "base_uri": "https://localhost:8080/"
        },
        "id": "3VQfB8J9GPpB",
        "outputId": "785058c5-810f-4d82-9bb9-d17d8d02af35"
      },
      "execution_count": 61,
      "outputs": [
        {
          "output_type": "execute_result",
          "data": {
            "text/plain": [
              "(<tf.Tensor: shape=(3,), dtype=string, numpy=array([b'bedroom', b'bedroom', b'garage'], dtype=object)>,\n",
              " <tf.Tensor: shape=(1,), dtype=int32, numpy=array([939700], dtype=int32)>)"
            ]
          },
          "metadata": {},
          "execution_count": 61
        }
      ]
    },
    {
      "cell_type": "code",
      "source": [
        "input_shape = X.shape\n",
        "output_shape = y.shape\n",
        "input_shape, output_shape"
      ],
      "metadata": {
        "colab": {
          "base_uri": "https://localhost:8080/"
        },
        "id": "LPFcIAbAGthK",
        "outputId": "62bfd3c9-776a-4ebe-d085-cc8d0b369b9c"
      },
      "execution_count": 62,
      "outputs": [
        {
          "output_type": "execute_result",
          "data": {
            "text/plain": [
              "((8,), (8,))"
            ]
          },
          "metadata": {},
          "execution_count": 62
        }
      ]
    },
    {
      "cell_type": "code",
      "source": [
        "X[0].ndim"
      ],
      "metadata": {
        "colab": {
          "base_uri": "https://localhost:8080/"
        },
        "id": "C52imEb6G0pY",
        "outputId": "8b1090b2-21d6-4224-f1c4-1b33a96bb6e0"
      },
      "execution_count": 63,
      "outputs": [
        {
          "output_type": "execute_result",
          "data": {
            "text/plain": [
              "0"
            ]
          },
          "metadata": {},
          "execution_count": 63
        }
      ]
    },
    {
      "cell_type": "code",
      "source": [
        "# Turn our NumPy arrays into tensors\n",
        "X = tf.constant(X)\n",
        "y = tf.constant(y)\n",
        "X, y"
      ],
      "metadata": {
        "colab": {
          "base_uri": "https://localhost:8080/"
        },
        "id": "q0A0573QHXmi",
        "outputId": "f8c90017-7e56-422a-de88-78292e8bde5c"
      },
      "execution_count": 64,
      "outputs": [
        {
          "output_type": "execute_result",
          "data": {
            "text/plain": [
              "(<tf.Tensor: shape=(8,), dtype=float64, numpy=array([-7., -4., -1.,  2.,  5.,  8., 11., 14.])>,\n",
              " <tf.Tensor: shape=(8,), dtype=float64, numpy=array([ 3.,  6.,  9., 12., 15., 18., 21., 24.])>)"
            ]
          },
          "metadata": {},
          "execution_count": 64
        }
      ]
    },
    {
      "cell_type": "code",
      "source": [
        "input_shape = X[0].shape\n",
        "output_shape = y[0].shape\n",
        "input_shape, output_shape"
      ],
      "metadata": {
        "colab": {
          "base_uri": "https://localhost:8080/"
        },
        "id": "_o8mhBpsin9v",
        "outputId": "8d671b9a-6376-47d3-c3a5-f7de64edc2be"
      },
      "execution_count": 65,
      "outputs": [
        {
          "output_type": "execute_result",
          "data": {
            "text/plain": [
              "(TensorShape([]), TensorShape([]))"
            ]
          },
          "metadata": {},
          "execution_count": 65
        }
      ]
    },
    {
      "cell_type": "code",
      "source": [
        "plt.scatter(X, y)"
      ],
      "metadata": {
        "colab": {
          "base_uri": "https://localhost:8080/",
          "height": 452
        },
        "id": "1jAUTEjliu24",
        "outputId": "0b512413-a351-450d-b68b-f7f90a7a3e5a"
      },
      "execution_count": 66,
      "outputs": [
        {
          "output_type": "execute_result",
          "data": {
            "text/plain": [
              "<matplotlib.collections.PathCollection at 0x791008d561a0>"
            ]
          },
          "metadata": {},
          "execution_count": 66
        },
        {
          "output_type": "display_data",
          "data": {
            "text/plain": [
              "<Figure size 640x480 with 1 Axes>"
            ],
            "image/png": "[encoded data removed]"
          },
          "metadata": {}
        }
      ]
    },
    {
      "cell_type": "markdown",
      "source": [
        "### Steps in modelling with TensorFlow\n",
        "\n",
        "1. **Creating a model** - defing the input and output layers, as well as the hidden layers of a deep learning model.\n",
        "2. **Compiling a model** - define the loss function (in other words, the function which tells our model how wrong it is) and the optimizer (tells our model how to improve the patterns its learning) and evaluation metrics (what we can use to interpret the performance of our model).\n",
        "3. **Fitting a model** - letting the model try to find patterns between X & y (features and labels)."
      ],
      "metadata": {
        "id": "LG18OqwSi2kH"
      }
    },
    {
      "cell_type": "code",
      "source": [
        "# Set random seed\n",
        "tf.random.set_seed(42)\n",
        "\n",
        "# 1. Create a model using the Sequential API\n",
        "model = tf.keras.Sequential([\n",
        "    tf.keras.layers.Dense(1)\n",
        "])\n",
        "\n",
        "# 2. Compile the model\n",
        "model.compile(loss=tf.keras.losses.mae,\n",
        "              optimizer=tf.keras.optimizers.SGD(),\n",
        "              metrics=['mae'])\n",
        "\n",
        "# 3. Fit the model\n",
        "model.fit(tf.expand_dims(X, axis=-1), y, epochs=5)"
      ],
      "metadata": {
        "colab": {
          "base_uri": "https://localhost:8080/"
        },
        "id": "BXKJoqGZjt33",
        "outputId": "4c0dfb8d-dbb2-4e58-e8ff-59594f9c0979"
      },
      "execution_count": 67,
      "outputs": [
        {
          "output_type": "stream",
          "name": "stdout",
          "text": [
            "Epoch 1/5\n",
            "1/1 [==============================] - 0s 308ms/step - loss: 10.6463 - mae: 10.6463\n",
            "Epoch 2/5\n",
            "1/1 [==============================] - 0s 9ms/step - loss: 10.5138 - mae: 10.5138\n",
            "Epoch 3/5\n",
            "1/1 [==============================] - 0s 9ms/step - loss: 10.3813 - mae: 10.3813\n",
            "Epoch 4/5\n",
            "1/1 [==============================] - 0s 9ms/step - loss: 10.2488 - mae: 10.2488\n",
            "Epoch 5/5\n",
            "1/1 [==============================] - 0s 8ms/step - loss: 10.1163 - mae: 10.1163\n"
          ]
        },
        {
          "output_type": "execute_result",
          "data": {
            "text/plain": [
              "<keras.src.callbacks.History at 0x791008642290>"
            ]
          },
          "metadata": {},
          "execution_count": 67
        }
      ]
    },
    {
      "cell_type": "code",
      "source": [
        "# Check out X and y\n",
        "X, y"
      ],
      "metadata": {
        "colab": {
          "base_uri": "https://localhost:8080/"
        },
        "id": "GSem5a5dkPQq",
        "outputId": "6440c09c-b742-4927-d7d3-d7103f26a1be"
      },
      "execution_count": 68,
      "outputs": [
        {
          "output_type": "execute_result",
          "data": {
            "text/plain": [
              "(<tf.Tensor: shape=(8,), dtype=float64, numpy=array([-7., -4., -1.,  2.,  5.,  8., 11., 14.])>,\n",
              " <tf.Tensor: shape=(8,), dtype=float64, numpy=array([ 3.,  6.,  9., 12., 15., 18., 21., 24.])>)"
            ]
          },
          "metadata": {},
          "execution_count": 68
        }
      ]
    },
    {
      "cell_type": "code",
      "source": [
        "model.predict([17.0])"
      ],
      "metadata": {
        "colab": {
          "base_uri": "https://localhost:8080/"
        },
        "id": "xq8tgkFxnBxe",
        "outputId": "4688bd94-beb0-4e39-f212-606990b91e8c"
      },
      "execution_count": 69,
      "outputs": [
        {
          "output_type": "stream",
          "name": "stdout",
          "text": [
            "1/1 [==============================] - 0s 65ms/step\n"
          ]
        },
        {
          "output_type": "execute_result",
          "data": {
            "text/plain": [
              "array([[16.885654]], dtype=float32)"
            ]
          },
          "metadata": {},
          "execution_count": 69
        }
      ]
    },
    {
      "cell_type": "markdown",
      "source": [
        "### Improve the model\n",
        "\n",
        "We can improve our model, by altering the steps we took to create a model\n",
        "\n",
        "1. **Create a model** - here we might add more layers, increase the no. of hidden layers, change the activation func of each layer.\n",
        "2. **Compiling a model** - here we might change the optimization function or perhaps the **learning rate** of the optimization func.\n",
        "3. **Fitting a model** - here we might fit a model for more epochs (leave it training for longer) or on more data (give the model more examples to learn from)."
      ],
      "metadata": {
        "id": "EyF3CXfKnIR2"
      }
    },
    {
      "cell_type": "code",
      "source": [
        "# Let's rebuild our model\n",
        "tf.random.set_seed(42)\n",
        "\n",
        "# 1. Create a model (Specified to your problem)\n",
        "model = tf.keras.Sequential([\n",
        "    tf.keras.layers.Dense(128, activation='relu'),\n",
        "    tf.keras.layers.Dense(128, activation='relu'),\n",
        "    tf.keras.layers.Dense(128, activation='relu'),\n",
        "    tf.keras.layers.Dense(1)\n",
        "])\n",
        "\n",
        "# 2. Compile the model\n",
        "model.compile(loss=tf.keras.losses.mae,\n",
        "              optimizer=tf.keras.optimizers.Adam(learning_rate=1e-2),\n",
        "              metrics=['mae'])\n",
        "\n",
        "# 3. Fit the model\n",
        "model.fit(tf.expand_dims(X, axis=-1), y, epochs=100)"
      ],
      "metadata": {
        "colab": {
          "base_uri": "https://localhost:8080/"
        },
        "id": "GYeR735B17qM",
        "outputId": "2778c2bf-da16-4494-b3e3-4ae949e52e1b"
      },
      "execution_count": 70,
      "outputs": [
        {
          "output_type": "stream",
          "name": "stdout",
          "text": [
            "Epoch 1/100\n",
            "1/1 [==============================] - 1s 842ms/step - loss: 13.1588 - mae: 13.1588\n",
            "Epoch 2/100\n",
            "1/1 [==============================] - 0s 9ms/step - loss: 9.4351 - mae: 9.4351\n",
            "Epoch 3/100\n",
            "1/1 [==============================] - 0s 10ms/step - loss: 4.9400 - mae: 4.9400\n",
            "Epoch 4/100\n",
            "1/1 [==============================] - 0s 10ms/step - loss: 6.9301 - mae: 6.9301\n",
            "Epoch 5/100\n",
            "1/1 [==============================] - 0s 10ms/step - loss: 7.1398 - mae: 7.1398\n",
            "Epoch 6/100\n",
            "1/1 [==============================] - 0s 9ms/step - loss: 5.0594 - mae: 5.0594\n",
            "Epoch 7/100\n",
            "1/1 [==============================] - 0s 10ms/step - loss: 3.8102 - mae: 3.8102\n",
            "Epoch 8/100\n",
            "1/1 [==============================] - 0s 12ms/step - loss: 4.9916 - mae: 4.9916\n",
            "Epoch 9/100\n",
            "1/1 [==============================] - 0s 11ms/step - loss: 5.0624 - mae: 5.0624\n",
            "Epoch 10/100\n",
            "1/1 [==============================] - 0s 8ms/step - loss: 3.9454 - mae: 3.9454\n",
            "Epoch 11/100\n",
            "1/1 [==============================] - 0s 8ms/step - loss: 3.8920 - mae: 3.8920\n",
            "Epoch 12/100\n",
            "1/1 [==============================] - 0s 8ms/step - loss: 4.9312 - mae: 4.9312\n",
            "Epoch 13/100\n",
            "1/1 [==============================] - 0s 9ms/step - loss: 5.1114 - mae: 5.1114\n",
            "Epoch 14/100\n",
            "1/1 [==============================] - 0s 9ms/step - loss: 4.5334 - mae: 4.5334\n",
            "Epoch 15/100\n",
            "1/1 [==============================] - 0s 9ms/step - loss: 3.5071 - mae: 3.5071\n",
            "Epoch 16/100\n",
            "1/1 [==============================] - 0s 9ms/step - loss: 3.1504 - mae: 3.1504\n",
            "Epoch 17/100\n",
            "1/1 [==============================] - 0s 9ms/step - loss: 3.2982 - mae: 3.2982\n",
            "Epoch 18/100\n",
            "1/1 [==============================] - 0s 10ms/step - loss: 2.9050 - mae: 2.9050\n",
            "Epoch 19/100\n",
            "1/1 [==============================] - 0s 10ms/step - loss: 2.6570 - mae: 2.6570\n",
            "Epoch 20/100\n",
            "1/1 [==============================] - 0s 9ms/step - loss: 2.6582 - mae: 2.6582\n",
            "Epoch 21/100\n",
            "1/1 [==============================] - 0s 8ms/step - loss: 2.1470 - mae: 2.1470\n",
            "Epoch 22/100\n",
            "1/1 [==============================] - 0s 12ms/step - loss: 1.6807 - mae: 1.6807\n",
            "Epoch 23/100\n",
            "1/1 [==============================] - 0s 9ms/step - loss: 1.4404 - mae: 1.4404\n",
            "Epoch 24/100\n",
            "1/1 [==============================] - 0s 10ms/step - loss: 1.5503 - mae: 1.5503\n",
            "Epoch 25/100\n",
            "1/1 [==============================] - 0s 11ms/step - loss: 1.3482 - mae: 1.3482\n",
            "Epoch 26/100\n",
            "1/1 [==============================] - 0s 9ms/step - loss: 0.6784 - mae: 0.6784\n",
            "Epoch 27/100\n",
            "1/1 [==============================] - 0s 10ms/step - loss: 0.8095 - mae: 0.8095\n",
            "Epoch 28/100\n",
            "1/1 [==============================] - 0s 10ms/step - loss: 1.6725 - mae: 1.6725\n",
            "Epoch 29/100\n",
            "1/1 [==============================] - 0s 8ms/step - loss: 0.5524 - mae: 0.5524\n",
            "Epoch 30/100\n",
            "1/1 [==============================] - 0s 10ms/step - loss: 1.9398 - mae: 1.9398\n",
            "Epoch 31/100\n",
            "1/1 [==============================] - 0s 10ms/step - loss: 2.3738 - mae: 2.3738\n",
            "Epoch 32/100\n",
            "1/1 [==============================] - 0s 9ms/step - loss: 1.7233 - mae: 1.7233\n",
            "Epoch 33/100\n",
            "1/1 [==============================] - 0s 9ms/step - loss: 0.5302 - mae: 0.5302\n",
            "Epoch 34/100\n",
            "1/1 [==============================] - 0s 9ms/step - loss: 1.0546 - mae: 1.0546\n",
            "Epoch 35/100\n",
            "1/1 [==============================] - 0s 9ms/step - loss: 0.6011 - mae: 0.6011\n",
            "Epoch 36/100\n",
            "1/1 [==============================] - 0s 9ms/step - loss: 0.7357 - mae: 0.7357\n",
            "Epoch 37/100\n",
            "1/1 [==============================] - 0s 11ms/step - loss: 0.4994 - mae: 0.4994\n",
            "Epoch 38/100\n",
            "1/1 [==============================] - 0s 11ms/step - loss: 0.3763 - mae: 0.3763\n",
            "Epoch 39/100\n",
            "1/1 [==============================] - 0s 11ms/step - loss: 0.3974 - mae: 0.3974\n",
            "Epoch 40/100\n",
            "1/1 [==============================] - 0s 9ms/step - loss: 0.3100 - mae: 0.3100\n",
            "Epoch 41/100\n",
            "1/1 [==============================] - 0s 10ms/step - loss: 0.4741 - mae: 0.4741\n",
            "Epoch 42/100\n",
            "1/1 [==============================] - 0s 10ms/step - loss: 0.3460 - mae: 0.3460\n",
            "Epoch 43/100\n",
            "1/1 [==============================] - 0s 12ms/step - loss: 0.8466 - mae: 0.8466\n",
            "Epoch 44/100\n",
            "1/1 [==============================] - 0s 9ms/step - loss: 0.2587 - mae: 0.2587\n",
            "Epoch 45/100\n",
            "1/1 [==============================] - 0s 14ms/step - loss: 1.7986 - mae: 1.7986\n",
            "Epoch 46/100\n",
            "1/1 [==============================] - 0s 11ms/step - loss: 1.9541 - mae: 1.9541\n",
            "Epoch 47/100\n",
            "1/1 [==============================] - 0s 9ms/step - loss: 0.4696 - mae: 0.4696\n",
            "Epoch 48/100\n",
            "1/1 [==============================] - 0s 9ms/step - loss: 2.0260 - mae: 2.0260\n",
            "Epoch 49/100\n",
            "1/1 [==============================] - 0s 10ms/step - loss: 2.9973 - mae: 2.9973\n",
            "Epoch 50/100\n",
            "1/1 [==============================] - 0s 12ms/step - loss: 2.9890 - mae: 2.9890\n",
            "Epoch 51/100\n",
            "1/1 [==============================] - 0s 11ms/step - loss: 2.0916 - mae: 2.0916\n",
            "Epoch 52/100\n",
            "1/1 [==============================] - 0s 9ms/step - loss: 0.4067 - mae: 0.4067\n",
            "Epoch 53/100\n",
            "1/1 [==============================] - 0s 10ms/step - loss: 2.1989 - mae: 2.1989\n",
            "Epoch 54/100\n",
            "1/1 [==============================] - 0s 9ms/step - loss: 2.9557 - mae: 2.9557\n",
            "Epoch 55/100\n",
            "1/1 [==============================] - 0s 10ms/step - loss: 2.1108 - mae: 2.1108\n",
            "Epoch 56/100\n",
            "1/1 [==============================] - 0s 10ms/step - loss: 0.4335 - mae: 0.4335\n",
            "Epoch 57/100\n",
            "1/1 [==============================] - 0s 10ms/step - loss: 1.7607 - mae: 1.7607\n",
            "Epoch 58/100\n",
            "1/1 [==============================] - 0s 12ms/step - loss: 2.4404 - mae: 2.4404\n",
            "Epoch 59/100\n",
            "1/1 [==============================] - 0s 10ms/step - loss: 2.2900 - mae: 2.2900\n",
            "Epoch 60/100\n",
            "1/1 [==============================] - 0s 10ms/step - loss: 1.4244 - mae: 1.4244\n",
            "Epoch 61/100\n",
            "1/1 [==============================] - 0s 10ms/step - loss: 0.4061 - mae: 0.4061\n",
            "Epoch 62/100\n",
            "1/1 [==============================] - 0s 11ms/step - loss: 0.9005 - mae: 0.9005\n",
            "Epoch 63/100\n",
            "1/1 [==============================] - 0s 11ms/step - loss: 0.3258 - mae: 0.3258\n",
            "Epoch 64/100\n",
            "1/1 [==============================] - 0s 10ms/step - loss: 1.2185 - mae: 1.2185\n",
            "Epoch 65/100\n",
            "1/1 [==============================] - 0s 10ms/step - loss: 1.5091 - mae: 1.5091\n",
            "Epoch 66/100\n",
            "1/1 [==============================] - 0s 10ms/step - loss: 0.9502 - mae: 0.9502\n",
            "Epoch 67/100\n",
            "1/1 [==============================] - 0s 9ms/step - loss: 0.4448 - mae: 0.4448\n",
            "Epoch 68/100\n",
            "1/1 [==============================] - 0s 10ms/step - loss: 0.6934 - mae: 0.6934\n",
            "Epoch 69/100\n",
            "1/1 [==============================] - 0s 9ms/step - loss: 0.2476 - mae: 0.2476\n",
            "Epoch 70/100\n",
            "1/1 [==============================] - 0s 9ms/step - loss: 0.2946 - mae: 0.2946\n",
            "Epoch 71/100\n",
            "1/1 [==============================] - 0s 9ms/step - loss: 0.3399 - mae: 0.3399\n",
            "Epoch 72/100\n",
            "1/1 [==============================] - 0s 9ms/step - loss: 0.3026 - mae: 0.3026\n",
            "Epoch 73/100\n",
            "1/1 [==============================] - 0s 10ms/step - loss: 0.2137 - mae: 0.2137\n",
            "Epoch 74/100\n",
            "1/1 [==============================] - 0s 10ms/step - loss: 0.2770 - mae: 0.2770\n",
            "Epoch 75/100\n",
            "1/1 [==============================] - 0s 10ms/step - loss: 0.3928 - mae: 0.3928\n",
            "Epoch 76/100\n",
            "1/1 [==============================] - 0s 9ms/step - loss: 0.4612 - mae: 0.4612\n",
            "Epoch 77/100\n",
            "1/1 [==============================] - 0s 10ms/step - loss: 0.2596 - mae: 0.2596\n",
            "Epoch 78/100\n",
            "1/1 [==============================] - 0s 9ms/step - loss: 0.6665 - mae: 0.6665\n",
            "Epoch 79/100\n",
            "1/1 [==============================] - 0s 9ms/step - loss: 0.4793 - mae: 0.4793\n",
            "Epoch 80/100\n",
            "1/1 [==============================] - 0s 10ms/step - loss: 0.6977 - mae: 0.6977\n",
            "Epoch 81/100\n",
            "1/1 [==============================] - 0s 10ms/step - loss: 0.6767 - mae: 0.6767\n",
            "Epoch 82/100\n",
            "1/1 [==============================] - 0s 10ms/step - loss: 0.3239 - mae: 0.3239\n",
            "Epoch 83/100\n",
            "1/1 [==============================] - 0s 10ms/step - loss: 0.1984 - mae: 0.1984\n",
            "Epoch 84/100\n",
            "1/1 [==============================] - 0s 10ms/step - loss: 0.3065 - mae: 0.3065\n",
            "Epoch 85/100\n",
            "1/1 [==============================] - 0s 10ms/step - loss: 0.7526 - mae: 0.7526\n",
            "Epoch 86/100\n",
            "1/1 [==============================] - 0s 9ms/step - loss: 0.5177 - mae: 0.5177\n",
            "Epoch 87/100\n",
            "1/1 [==============================] - 0s 9ms/step - loss: 0.8776 - mae: 0.8776\n",
            "Epoch 88/100\n",
            "1/1 [==============================] - 0s 9ms/step - loss: 0.8957 - mae: 0.8957\n",
            "Epoch 89/100\n",
            "1/1 [==============================] - 0s 10ms/step - loss: 0.3470 - mae: 0.3470\n",
            "Epoch 90/100\n",
            "1/1 [==============================] - 0s 10ms/step - loss: 0.4816 - mae: 0.4816\n",
            "Epoch 91/100\n",
            "1/1 [==============================] - 0s 10ms/step - loss: 0.2007 - mae: 0.2007\n",
            "Epoch 92/100\n",
            "1/1 [==============================] - 0s 10ms/step - loss: 0.2722 - mae: 0.2722\n",
            "Epoch 93/100\n",
            "1/1 [==============================] - 0s 10ms/step - loss: 0.3210 - mae: 0.3210\n",
            "Epoch 94/100\n",
            "1/1 [==============================] - 0s 9ms/step - loss: 0.1775 - mae: 0.1775\n",
            "Epoch 95/100\n",
            "1/1 [==============================] - 0s 9ms/step - loss: 0.3187 - mae: 0.3187\n",
            "Epoch 96/100\n",
            "1/1 [==============================] - 0s 9ms/step - loss: 0.5142 - mae: 0.5142\n",
            "Epoch 97/100\n",
            "1/1 [==============================] - 0s 10ms/step - loss: 0.3254 - mae: 0.3254\n",
            "Epoch 98/100\n",
            "1/1 [==============================] - 0s 10ms/step - loss: 0.5377 - mae: 0.5377\n",
            "Epoch 99/100\n",
            "1/1 [==============================] - 0s 10ms/step - loss: 0.3425 - mae: 0.3425\n",
            "Epoch 100/100\n",
            "1/1 [==============================] - 0s 9ms/step - loss: 0.8383 - mae: 0.8383\n"
          ]
        },
        {
          "output_type": "execute_result",
          "data": {
            "text/plain": [
              "<keras.src.callbacks.History at 0x790ffae1e320>"
            ]
          },
          "metadata": {},
          "execution_count": 70
        }
      ]
    },
    {
      "cell_type": "code",
      "source": [
        "# Remind ourselves of the data\n",
        "X, y"
      ],
      "metadata": {
        "colab": {
          "base_uri": "https://localhost:8080/"
        },
        "id": "hO_Zukzb4Lgu",
        "outputId": "9b3de2c6-2600-4daf-cc32-1719c72a8188"
      },
      "execution_count": 71,
      "outputs": [
        {
          "output_type": "execute_result",
          "data": {
            "text/plain": [
              "(<tf.Tensor: shape=(8,), dtype=float64, numpy=array([-7., -4., -1.,  2.,  5.,  8., 11., 14.])>,\n",
              " <tf.Tensor: shape=(8,), dtype=float64, numpy=array([ 3.,  6.,  9., 12., 15., 18., 21., 24.])>)"
            ]
          },
          "metadata": {},
          "execution_count": 71
        }
      ]
    },
    {
      "cell_type": "code",
      "source": [
        "# Let's see if our model's prediction has improved\n",
        "model.predict([17.0])"
      ],
      "metadata": {
        "colab": {
          "base_uri": "https://localhost:8080/"
        },
        "id": "LfbIim1Y4jxI",
        "outputId": "7bce80f1-ddc2-4f68-d9d5-f0bcb76ae303"
      },
      "execution_count": 72,
      "outputs": [
        {
          "output_type": "stream",
          "name": "stdout",
          "text": [
            "1/1 [==============================] - 0s 77ms/step\n"
          ]
        },
        {
          "output_type": "execute_result",
          "data": {
            "text/plain": [
              "array([[25.042065]], dtype=float32)"
            ]
          },
          "metadata": {},
          "execution_count": 72
        }
      ]
    },
    {
      "cell_type": "markdown",
      "source": [
        "### Common ways to improve a Deep Learning model\n",
        "- Adding Layers\n",
        "- Increase the number of hidden units\n",
        "- Change the activation function of each layer\n",
        "- Change the optimization function\n",
        "- Change the learning rate of the optimization function\n",
        "- Fitting on more data\n",
        "- Fitting for longer"
      ],
      "metadata": {
        "id": "SD3h0Rhf4p3j"
      }
    },
    {
      "cell_type": "markdown",
      "source": [
        "### Evaluating a model\n",
        "\n",
        "In practice, a typical workflow you'll go through when building neural networks is:\n",
        "\n",
        "```\n",
        "Build a model -> Fit it -> evaluate it -> tweak a model -> fit it -> tweak a model -> fit it...\n",
        "```"
      ],
      "metadata": {
        "id": "cNG9ORVm64Xv"
      }
    },
    {
      "cell_type": "markdown",
      "source": [
        "When it comes to evaluation.. there are 3 words you should memorize:\n",
        "\n",
        "> \"Visualize, Visualize,...\"\n",
        "\n",
        "It's a good idea to visualize:\n",
        "* The data - what data are working with? what does it look like?\n",
        "* The model itself - what does our model look like?\n",
        "* The training of a model - how does a model perform while it learns?\n",
        "* The predictions of the model - how do the predictions of a model line up against the ground truth (the original labels)?"
      ],
      "metadata": {
        "id": "brTwNhiv7Ym-"
      }
    },
    {
      "cell_type": "code",
      "source": [
        "# Make a bigger dataset\n",
        "X = tf.range(-100, 100, 4)\n",
        "\n",
        "# Make labels for the dataset\n",
        "Y = X + 10\n",
        "\n",
        "X, Y"
      ],
      "metadata": {
        "colab": {
          "base_uri": "https://localhost:8080/"
        },
        "id": "4LzapqLN8VRj",
        "outputId": "b40e1422-4d1a-42b6-ef1a-57a0fc3c1525"
      },
      "execution_count": 73,
      "outputs": [
        {
          "output_type": "execute_result",
          "data": {
            "text/plain": [
              "(<tf.Tensor: shape=(50,), dtype=int32, numpy=\n",
              " array([-100,  -96,  -92,  -88,  -84,  -80,  -76,  -72,  -68,  -64,  -60,\n",
              "         -56,  -52,  -48,  -44,  -40,  -36,  -32,  -28,  -24,  -20,  -16,\n",
              "         -12,   -8,   -4,    0,    4,    8,   12,   16,   20,   24,   28,\n",
              "          32,   36,   40,   44,   48,   52,   56,   60,   64,   68,   72,\n",
              "          76,   80,   84,   88,   92,   96], dtype=int32)>,\n",
              " <tf.Tensor: shape=(50,), dtype=int32, numpy=\n",
              " array([-90, -86, -82, -78, -74, -70, -66, -62, -58, -54, -50, -46, -42,\n",
              "        -38, -34, -30, -26, -22, -18, -14, -10,  -6,  -2,   2,   6,  10,\n",
              "         14,  18,  22,  26,  30,  34,  38,  42,  46,  50,  54,  58,  62,\n",
              "         66,  70,  74,  78,  82,  86,  90,  94,  98, 102, 106], dtype=int32)>)"
            ]
          },
          "metadata": {},
          "execution_count": 73
        }
      ]
    },
    {
      "cell_type": "code",
      "source": [
        "# Visualize the data\n",
        "plt.scatter(X, Y)"
      ],
      "metadata": {
        "colab": {
          "base_uri": "https://localhost:8080/",
          "height": 447
        },
        "id": "WLdxhO1C9I8c",
        "outputId": "ea9abe02-29cf-4aea-a544-7d4d1eee42e2"
      },
      "execution_count": 74,
      "outputs": [
        {
          "output_type": "execute_result",
          "data": {
            "text/plain": [
              "<matplotlib.collections.PathCollection at 0x791008640f70>"
            ]
          },
          "metadata": {},
          "execution_count": 74
        },
        {
          "output_type": "display_data",
          "data": {
            "text/plain": [
              "<Figure size 640x480 with 1 Axes>"
            ],
            "image/png": "[encoded data removed]"
          },
          "metadata": {}
        }
      ]
    },
    {
      "cell_type": "markdown",
      "source": [
        "### The 3 sets...\n",
        "\n",
        "* **Training set** - the model learns from this data, which is typically 70%-80% of the total data you have available.\n",
        "* **Validation set** - the model gets tuned on this data, which is typically 10-15% of the data available.\n",
        "* **Test set** - the model gets evaluated on this data to test what it has learned, this set is typically 10-15% of the total data available."
      ],
      "metadata": {
        "id": "d1K0jY6G-zHF"
      }
    },
    {
      "cell_type": "code",
      "source": [
        "### Split the data into train and test sets\n",
        "X_train = X[:40]\n",
        "y_train = Y[:40]\n",
        "\n",
        "X_test = X[40:]\n",
        "y_test = Y[40:]\n",
        "\n",
        "len(X_train), len(y_train), len(X_test), len(y_test)"
      ],
      "metadata": {
        "colab": {
          "base_uri": "https://localhost:8080/"
        },
        "id": "lYFrbKuK9NTG",
        "outputId": "afe4db18-2c1b-41dc-cac4-27827d807e0d"
      },
      "execution_count": 75,
      "outputs": [
        {
          "output_type": "execute_result",
          "data": {
            "text/plain": [
              "(40, 40, 10, 10)"
            ]
          },
          "metadata": {},
          "execution_count": 75
        }
      ]
    },
    {
      "cell_type": "markdown",
      "source": [
        "### Visualize the data\n",
        "Now we've got our data in training and test sets... let's visualize it again!"
      ],
      "metadata": {
        "id": "YE48KgNVAyIC"
      }
    },
    {
      "cell_type": "code",
      "source": [
        "plt.figure(figsize=(10, 7))\n",
        "\n",
        "# Plot training in blue\n",
        "plt.scatter(X_train, y_train, c=\"b\", label=\"Training\")\n",
        "# Plot validation in red\n",
        "plt.scatter(X_test, y_test, c=\"r\", label=\"Testing\")\n",
        "# Show a legend\n",
        "plt.legend();"
      ],
      "metadata": {
        "colab": {
          "base_uri": "https://localhost:8080/",
          "height": 467
        },
        "id": "QnaiBsbMA53U",
        "outputId": "d63f088e-0c65-4d68-ee95-5802d68eed85"
      },
      "execution_count": 76,
      "outputs": [
        {
          "output_type": "display_data",
          "data": {
            "text/plain": [
              "<Figure size 1000x700 with 1 Axes>"
            ],
            "image/png": "[encoded data removed]"
          },
          "metadata": {}
        }
      ]
    },
    {
      "cell_type": "code",
      "source": [
        "# Let's look at how to build a neural network for our data\n",
        "\n",
        "tf.random.set_seed(42)\n",
        "\n",
        "# 1. Create a model (Specified to your problem)\n",
        "model_1 = tf.keras.Sequential([\n",
        "    # tf.keras.layers.Dense(32, activation='relu'),\n",
        "    # tf.keras.layers.Dense(64, activation='relu'),\n",
        "    # tf.keras.layers.Dense(128, activation='relu'),\n",
        "    tf.keras.layers.Dense(1)\n",
        "])\n",
        "\n",
        "# 2. Compile the model_1\n",
        "model_1.compile(loss=tf.keras.losses.mae,\n",
        "              optimizer=tf.keras.optimizers.SGD(learning_rate=1e-3),\n",
        "              metrics=['mae'])\n",
        "\n",
        "# # 3. Fit the model_1\n",
        "# model_1.fit(tf.expand_dims(X_train, axis=-1), y_train, epochs=100)"
      ],
      "metadata": {
        "id": "u5DidCks9krf"
      },
      "execution_count": 77,
      "outputs": []
    },
    {
      "cell_type": "markdown",
      "source": [
        "### Visualize our model"
      ],
      "metadata": {
        "id": "s3-lreIn-ar3"
      }
    },
    {
      "cell_type": "code",
      "source": [
        "model_1.summary()"
      ],
      "metadata": {
        "colab": {
          "base_uri": "https://localhost:8080/",
          "height": 315
        },
        "id": "5wlz1mxNCb7p",
        "outputId": "ca01ea14-e992-4b3b-9fd7-773a5168b9b8"
      },
      "execution_count": 79,
      "outputs": [
        {
          "output_type": "error",
          "ename": "ValueError",
          "evalue": "This model has not yet been built. Build the model first by calling `build()` or by calling the model on a batch of data.",
          "traceback": [
            "\u001b[0;31m---------------------------------------------------------------------------\u001b[0m",
            "\u001b[0;31mValueError\u001b[0m                                Traceback (most recent call last)",
            "\u001b[0;32m<ipython-input-79-38d62e0e91d7>\u001b[0m in \u001b[0;36m<cell line: 1>\u001b[0;34m()\u001b[0m\n\u001b[0;32m----> 1\u001b[0;31m \u001b[0mmodel_1\u001b[0m\u001b[0;34m.\u001b[0m\u001b[0msummary\u001b[0m\u001b[0;34m(\u001b[0m\u001b[0;34m)\u001b[0m\u001b[0;34m\u001b[0m\u001b[0;34m\u001b[0m\u001b[0m\n\u001b[0m",
            "\u001b[0;32m/usr/local/lib/python3.10/dist-packages/keras/src/engine/training.py\u001b[0m in \u001b[0;36msummary\u001b[0;34m(self, line_length, positions, print_fn, expand_nested, show_trainable, layer_range)\u001b[0m\n\u001b[1;32m   3504\u001b[0m         \"\"\"\n\u001b[1;32m   3505\u001b[0m         \u001b[0;32mif\u001b[0m \u001b[0;32mnot\u001b[0m \u001b[0mself\u001b[0m\u001b[0;34m.\u001b[0m\u001b[0mbuilt\u001b[0m\u001b[0;34m:\u001b[0m\u001b[0;34m\u001b[0m\u001b[0;34m\u001b[0m\u001b[0m\n\u001b[0;32m-> 3506\u001b[0;31m             raise ValueError(\n\u001b[0m\u001b[1;32m   3507\u001b[0m                 \u001b[0;34m\"This model has not yet been built. \"\u001b[0m\u001b[0;34m\u001b[0m\u001b[0;34m\u001b[0m\u001b[0m\n\u001b[1;32m   3508\u001b[0m                 \u001b[0;34m\"Build the model first by calling `build()` or by calling \"\u001b[0m\u001b[0;34m\u001b[0m\u001b[0;34m\u001b[0m\u001b[0m\n",
            "\u001b[0;31mValueError\u001b[0m: This model has not yet been built. Build the model first by calling `build()` or by calling the model on a batch of data."
          ]
        }
      ]
    },
    {
      "cell_type": "code",
      "source": [
        "# Build our model\n",
        "model_1.build(input_shape=(None, 1))\n",
        "model_1.summary()"
      ],
      "metadata": {
        "colab": {
          "base_uri": "https://localhost:8080/"
        },
        "id": "iJHjW1FDCOZZ",
        "outputId": "2a9385d9-e154-4a45-8074-3880a1c6c3f1"
      },
      "execution_count": 80,
      "outputs": [
        {
          "output_type": "stream",
          "name": "stdout",
          "text": [
            "Model: \"sequential_8\"\n",
            "_________________________________________________________________\n",
            " Layer (type)                Output Shape              Param #   \n",
            "=================================================================\n",
            " dense_17 (Dense)            (None, 1)                 2         \n",
            "                                                                 \n",
            "=================================================================\n",
            "Total params: 2 (8.00 Byte)\n",
            "Trainable params: 2 (8.00 Byte)\n",
            "Non-trainable params: 0 (0.00 Byte)\n",
            "_________________________________________________________________\n"
          ]
        }
      ]
    },
    {
      "cell_type": "code",
      "source": [
        "# Let's create a model which builds automatically by defining the input_shape argument\n",
        "tf.random.set_seed(42)\n",
        "\n",
        "# 1. Create a model (Specified to your problem)\n",
        "model_2 = tf.keras.Sequential([\n",
        "    tf.keras.layers.Dense(128, activation='relu', input_shape=[1], name='input_layer'),\n",
        "    tf.keras.layers.Dense(1, input_shape=[1], name='output_layer')\n",
        "], name='model_2')\n",
        "\n",
        "# 2. Compile the model\n",
        "model_2.compile(loss=tf.keras.losses.mae,\n",
        "              optimizer=tf.keras.optimizers.SGD(learning_rate=1e-3),\n",
        "              metrics=['mae'])"
      ],
      "metadata": {
        "id": "AbCwqg3wCWZs"
      },
      "execution_count": 81,
      "outputs": []
    },
    {
      "cell_type": "code",
      "source": [
        "model_2.summary()"
      ],
      "metadata": {
        "colab": {
          "base_uri": "https://localhost:8080/"
        },
        "id": "BYFsAEwNC_s8",
        "outputId": "54c6268f-6f42-4d3d-a102-66e10e9988a0"
      },
      "execution_count": 82,
      "outputs": [
        {
          "output_type": "stream",
          "name": "stdout",
          "text": [
            "Model: \"model_2\"\n",
            "_________________________________________________________________\n",
            " Layer (type)                Output Shape              Param #   \n",
            "=================================================================\n",
            " input_layer (Dense)         (None, 128)               256       \n",
            "                                                                 \n",
            " output_layer (Dense)        (None, 1)                 129       \n",
            "                                                                 \n",
            "=================================================================\n",
            "Total params: 385 (1.50 KB)\n",
            "Trainable params: 385 (1.50 KB)\n",
            "Non-trainable params: 0 (0.00 Byte)\n",
            "_________________________________________________________________\n"
          ]
        }
      ]
    },
    {
      "cell_type": "markdown",
      "source": [
        "* Total params - total no. of parameters in the model.\n",
        "* Trainable parameters - these are the parameters (patterns) the model can update as it trains.\n",
        "* Non-trainable params- these parameters aren't updated during training (this is typical when you bring in already learn patterns or parameters from other models during **transfer learning**).\n",
        "\n",
        "📖**Resource:** For more in-depth overview of the trainable parameters with a layer, check out [MIT's introduction to deep learning video](https://www.youtube.com/watch?v=QDX-1M5Nj7s).\n",
        "\n",
        "📑**Exercise:** Try playing around with the no. of hidden units in the dense layer, see how that effects the number of parameters (total and trainable) by calling `model.summary()`"
      ],
      "metadata": {
        "id": "DPFMrb2zDB19"
      }
    },
    {
      "cell_type": "code",
      "source": [
        "# Let's fit our model to the training data\n",
        "model_2.fit(X_train, y_train, epochs=100, verbose=0)"
      ],
      "metadata": {
        "colab": {
          "base_uri": "https://localhost:8080/"
        },
        "id": "7zaFGRHeDasx",
        "outputId": "01438cfe-fd20-4959-af96-79fb13db2763"
      },
      "execution_count": 83,
      "outputs": [
        {
          "output_type": "execute_result",
          "data": {
            "text/plain": [
              "<keras.src.callbacks.History at 0x790ffb5cee60>"
            ]
          },
          "metadata": {},
          "execution_count": 83
        }
      ]
    },
    {
      "cell_type": "code",
      "source": [
        "# Get a summary of our model\n",
        "model_2.summary()"
      ],
      "metadata": {
        "colab": {
          "base_uri": "https://localhost:8080/"
        },
        "id": "mcN1D0XQFwm-",
        "outputId": "d122e399-a213-414a-95ef-e13a80b2fb87"
      },
      "execution_count": 84,
      "outputs": [
        {
          "output_type": "stream",
          "name": "stdout",
          "text": [
            "Model: \"model_2\"\n",
            "_________________________________________________________________\n",
            " Layer (type)                Output Shape              Param #   \n",
            "=================================================================\n",
            " input_layer (Dense)         (None, 128)               256       \n",
            "                                                                 \n",
            " output_layer (Dense)        (None, 1)                 129       \n",
            "                                                                 \n",
            "=================================================================\n",
            "Total params: 385 (1.50 KB)\n",
            "Trainable params: 385 (1.50 KB)\n",
            "Non-trainable params: 0 (0.00 Byte)\n",
            "_________________________________________________________________\n"
          ]
        }
      ]
    },
    {
      "cell_type": "code",
      "source": [
        "from tensorflow.keras.utils import plot_model\n",
        "\n",
        "plot_model(model_2, show_shapes=True)"
      ],
      "metadata": {
        "colab": {
          "base_uri": "https://localhost:8080/",
          "height": 312
        },
        "id": "wj9IowPhO_g5",
        "outputId": "2867bc20-77dd-4b66-aff9-1f0de08cafe8"
      },
      "execution_count": 85,
      "outputs": [
        {
          "output_type": "execute_result",
          "data": {
            "image/png": "[encoded data removed]",
            "text/plain": [
              "<IPython.core.display.Image object>"
            ]
          },
          "metadata": {},
          "execution_count": 85
        }
      ]
    },
    {
      "cell_type": "markdown",
      "source": [
        "### Visualizing our model's predictions\n",
        "\n",
        "To visualize predictions, it's a good idea to plot them against the ground truth labels.\n",
        "\n",
        "Often you'll see this in the form of `y_test` or `y_true` versus `y_pred` (ground truth versus model predictions)."
      ],
      "metadata": {
        "id": "nSPuFxaGP-rx"
      }
    },
    {
      "cell_type": "code",
      "source": [
        "# Make some predictions\n",
        "y_pred = model_2.predict(X_test)\n",
        "y_pred"
      ],
      "metadata": {
        "colab": {
          "base_uri": "https://localhost:8080/"
        },
        "id": "s_X_8q9iRljy",
        "outputId": "1bffe907-032a-4d93-d319-6a0e6a1fd1ea"
      },
      "execution_count": 86,
      "outputs": [
        {
          "output_type": "stream",
          "name": "stdout",
          "text": [
            "1/1 [==============================] - 0s 72ms/step\n"
          ]
        },
        {
          "output_type": "execute_result",
          "data": {
            "text/plain": [
              "array([[ 72.99945 ],\n",
              "       [ 77.856476],\n",
              "       [ 82.7135  ],\n",
              "       [ 87.570526],\n",
              "       [ 92.42755 ],\n",
              "       [ 97.28457 ],\n",
              "       [102.141594],\n",
              "       [106.99861 ],\n",
              "       [111.855644],\n",
              "       [116.71266 ]], dtype=float32)"
            ]
          },
          "metadata": {},
          "execution_count": 86
        }
      ]
    },
    {
      "cell_type": "code",
      "source": [
        "y_test"
      ],
      "metadata": {
        "colab": {
          "base_uri": "https://localhost:8080/"
        },
        "id": "IOv7x99kSLMR",
        "outputId": "f101a0d6-2666-4ea6-9fe5-d513b574c9ce"
      },
      "execution_count": 87,
      "outputs": [
        {
          "output_type": "execute_result",
          "data": {
            "text/plain": [
              "<tf.Tensor: shape=(10,), dtype=int32, numpy=array([ 70,  74,  78,  82,  86,  90,  94,  98, 102, 106], dtype=int32)>"
            ]
          },
          "metadata": {},
          "execution_count": 87
        }
      ]
    },
    {
      "cell_type": "markdown",
      "source": [
        "🔑**Note:** If you feel like you're going to reuse some kind of functionality in the future, it's a good idea to create a function for it."
      ],
      "metadata": {
        "id": "ilcxeOpmSVD2"
      }
    },
    {
      "cell_type": "code",
      "source": [
        "# Let's create a plotting a function\n",
        "def plot_predictions(train_data=X_train,\n",
        "                     train_labels=y_train,\n",
        "                     test_data=X_test,\n",
        "                     test_labels=y_test,\n",
        "                     predictions=y_pred):\n",
        "  '''\n",
        "  Plots training data, testing data, and compares the predictions to the ground truth labels.\n",
        "  '''\n",
        "  plt.figure(figsize=(10,7))\n",
        "  # Plot training data in blue\n",
        "  plt.scatter(train_data, train_labels, c=\"b\", label=\"Training\")\n",
        "  # Plot testing data in red\n",
        "  plt.scatter(test_data, test_labels, c=\"lightgreen\", label=\"Testing\")\n",
        "  # Plot the predictions in green\n",
        "  plt.scatter(test_data, predictions, c=\"r\", label=\"Predictions\")\n",
        "  # Show the legend\n",
        "  plt.legend()\n",
        "  # Show the plot\n",
        "  plt.show();"
      ],
      "metadata": {
        "id": "tFo13739SNAX"
      },
      "execution_count": 88,
      "outputs": []
    },
    {
      "cell_type": "code",
      "source": [
        "plot_predictions(train_data=X_train, train_labels=y_train,\n",
        "                 test_data=X_test, test_labels=y_test,\n",
        "                 predictions=y_pred)"
      ],
      "metadata": {
        "colab": {
          "base_uri": "https://localhost:8080/",
          "height": 463
        },
        "id": "pDv0DxafTq-z",
        "outputId": "6b3b7d33-374e-4c55-b661-3eecc7fa6df3"
      },
      "execution_count": 89,
      "outputs": [
        {
          "output_type": "display_data",
          "data": {
            "text/plain": [
              "<Figure size 1000x700 with 1 Axes>"
            ],
            "image/png": "[encoded data removed]"
          },
          "metadata": {}
        }
      ]
    },
    {
      "cell_type": "markdown",
      "source": [
        "### Evaluating our model's predictions with regression metrics\n",
        "\n",
        "Depending on the problem you're working on, there will be different evaluation metrics your model's performance.\n",
        "\n",
        "Since we're working on a regression, two of the main metrics:\n",
        "* **MAE** - mean absolute error, \"on average, how wrong is each of my model's predictions\"\n",
        "\n",
        "`(tf.keras.losses.MAE())`\n",
        "`tf.keras.losses.mean_absolute_error`\n",
        "* **MSE** - mean square error, \"square the average errors\"\n",
        "\n",
        "`tf.keras.losses.MSE()`\n",
        "`tf.keras.losses.mean_squared_error`"
      ],
      "metadata": {
        "id": "0m7PLPFHT1Cd"
      }
    },
    {
      "cell_type": "code",
      "source": [
        "# Evaluate the model on the test\n",
        "model_2.evaluate(X_test, y_test)"
      ],
      "metadata": {
        "id": "qrQag7NlUXBp",
        "colab": {
          "base_uri": "https://localhost:8080/"
        },
        "outputId": "2d692f20-d35a-4268-f9d9-e53e4c9baa93"
      },
      "execution_count": 90,
      "outputs": [
        {
          "output_type": "stream",
          "name": "stdout",
          "text": [
            "1/1 [==============================] - 0s 169ms/step - loss: 6.8561 - mae: 6.8561\n"
          ]
        },
        {
          "output_type": "execute_result",
          "data": {
            "text/plain": [
              "[6.856060028076172, 6.856060028076172]"
            ]
          },
          "metadata": {},
          "execution_count": 90
        }
      ]
    },
    {
      "cell_type": "code",
      "source": [
        "# Calculate the mean absolute error\n",
        "mae = tf.keras.losses.mean_absolute_error(y_true=y_test, y_pred=tf.squeeze(tf.constant(y_pred)))\n",
        "mae"
      ],
      "metadata": {
        "colab": {
          "base_uri": "https://localhost:8080/"
        },
        "id": "sraVP2oqW-2R",
        "outputId": "92b900cc-8525-4e86-ace4-b85809accff6"
      },
      "execution_count": 91,
      "outputs": [
        {
          "output_type": "execute_result",
          "data": {
            "text/plain": [
              "<tf.Tensor: shape=(), dtype=float32, numpy=6.8560586>"
            ]
          },
          "metadata": {},
          "execution_count": 91
        }
      ]
    },
    {
      "cell_type": "code",
      "source": [
        "y_pred"
      ],
      "metadata": {
        "colab": {
          "base_uri": "https://localhost:8080/"
        },
        "id": "yredbHr1WuPk",
        "outputId": "561dad09-d448-4652-8724-6e1c45815cc1"
      },
      "execution_count": 92,
      "outputs": [
        {
          "output_type": "execute_result",
          "data": {
            "text/plain": [
              "array([[ 72.99945 ],\n",
              "       [ 77.856476],\n",
              "       [ 82.7135  ],\n",
              "       [ 87.570526],\n",
              "       [ 92.42755 ],\n",
              "       [ 97.28457 ],\n",
              "       [102.141594],\n",
              "       [106.99861 ],\n",
              "       [111.855644],\n",
              "       [116.71266 ]], dtype=float32)"
            ]
          },
          "metadata": {},
          "execution_count": 92
        }
      ]
    },
    {
      "cell_type": "code",
      "source": [
        "y_test"
      ],
      "metadata": {
        "colab": {
          "base_uri": "https://localhost:8080/"
        },
        "id": "dbqjiA4ZW7AZ",
        "outputId": "b46b5dc3-1a88-4f1f-c8e9-b537d53ec831"
      },
      "execution_count": 93,
      "outputs": [
        {
          "output_type": "execute_result",
          "data": {
            "text/plain": [
              "<tf.Tensor: shape=(10,), dtype=int32, numpy=array([ 70,  74,  78,  82,  86,  90,  94,  98, 102, 106], dtype=int32)>"
            ]
          },
          "metadata": {},
          "execution_count": 93
        }
      ]
    },
    {
      "cell_type": "code",
      "source": [
        "# Calculate the mean squared error\n",
        "mse = tf.keras.losses.mean_squared_error(y_true=y_test, y_pred=tf.squeeze(tf.constant(y_pred)))\n",
        "mse"
      ],
      "metadata": {
        "colab": {
          "base_uri": "https://localhost:8080/"
        },
        "id": "v6XQGimbW8RS",
        "outputId": "64146731-3645-490d-dce7-f7c58e7d3e5f"
      },
      "execution_count": 94,
      "outputs": [
        {
          "output_type": "execute_result",
          "data": {
            "text/plain": [
              "<tf.Tensor: shape=(), dtype=float32, numpy=53.06507>"
            ]
          },
          "metadata": {},
          "execution_count": 94
        }
      ]
    },
    {
      "cell_type": "markdown",
      "source": [
        "🔑**Note:** Combination of MSE and MAE is called Huber Loss. Less sensitive to outliers than MSE\n",
        "\n",
        "`tf.keras.losses.Huber()`"
      ],
      "metadata": {
        "id": "WX4CoPHHZOdK"
      }
    },
    {
      "cell_type": "code",
      "source": [
        "# Make some functions to reuse MAE and MSE\n",
        "def mae(y_true, y_pred):\n",
        "  return tf.keras.losses.mean_absolute_error(y_true=y_true,\n",
        "                                             y_pred=y_pred)\n",
        "\n",
        "def mse(y_true, y_pred):\n",
        "  return tf.keras.losses.mean_squared_error(y_true=y_true,\n",
        "                                            y_pred=y_pred)"
      ],
      "metadata": {
        "id": "mOHF2cTTY0EB"
      },
      "execution_count": 95,
      "outputs": []
    },
    {
      "cell_type": "markdown",
      "source": [
        "### Running experiments to improve our model\n",
        "\n",
        "```\n",
        "Build a model -> fit it -> evaluate it -> tweak it -> fit it\n",
        "-> evaluate it -> tweak it -> fit it -> evaluate it - > repeat\n",
        "```\n",
        "\n",
        "1. Get more data - get more examples to train on (more opportunities to learn patterns or relationships b/w features and labels).\n",
        "2. Make your model larger (using more complex model) - this might come in form of more layers or more hidden units in each layer.\n",
        "3. Train for longer - give your model more of a chance to find patterns in the data.\n",
        "\n",
        "Let's do 3 modelling experiments:\n",
        "\n",
        "1. `model_1` - same as the original model, 1 layer, trained for 100 epochs.\n",
        "2. `model_2` - 2 layers, trained for 100 epochs\n",
        "3. `model_3` - 3 layers, trained for 500 epochs\n",
        "\n",
        "**Build `model_1`**"
      ],
      "metadata": {
        "id": "wcQ4iPIjaGlt"
      }
    },
    {
      "cell_type": "code",
      "source": [
        "# Set random seed\n",
        "tf.random.set_seed(42)\n",
        "\n",
        "# 1. Create the model\n",
        "model_1 = tf.keras.Sequential([\n",
        "    tf.keras.layers.Dense(1)\n",
        "])\n",
        "\n",
        "# 2. Compile the model\n",
        "model_1.compile(loss=tf.keras.losses.mae,\n",
        "                optimizer=tf.keras.optimizers.SGD(),\n",
        "                metrics=[\"mae\"])\n",
        "\n",
        "# 3. Fit the model\n",
        "model_1.fit(tf.expand_dims(X_train, axis=-1), y_train, epochs=100)"
      ],
      "metadata": {
        "colab": {
          "base_uri": "https://localhost:8080/"
        },
        "id": "PHGmINHkatgs",
        "outputId": "071e3d86-de01-4c10-972b-387ebf2c4f15"
      },
      "execution_count": 96,
      "outputs": [
        {
          "output_type": "stream",
          "name": "stdout",
          "text": [
            "Epoch 1/100\n",
            "2/2 [==============================] - 0s 12ms/step - loss: 98.2550 - mae: 98.2550\n",
            "Epoch 2/100\n",
            "2/2 [==============================] - 0s 7ms/step - loss: 62.7995 - mae: 62.7995\n",
            "Epoch 3/100\n",
            "2/2 [==============================] - 0s 6ms/step - loss: 25.6873 - mae: 25.6873\n",
            "Epoch 4/100\n",
            "2/2 [==============================] - 0s 6ms/step - loss: 11.5852 - mae: 11.5852\n",
            "Epoch 5/100\n",
            "2/2 [==============================] - 0s 6ms/step - loss: 12.9374 - mae: 12.9374\n",
            "Epoch 6/100\n",
            "2/2 [==============================] - 0s 6ms/step - loss: 7.9127 - mae: 7.9127\n",
            "Epoch 7/100\n",
            "2/2 [==============================] - 0s 7ms/step - loss: 11.9869 - mae: 11.9869\n",
            "Epoch 8/100\n",
            "2/2 [==============================] - 0s 6ms/step - loss: 7.8693 - mae: 7.8693\n",
            "Epoch 9/100\n",
            "2/2 [==============================] - 0s 6ms/step - loss: 19.5796 - mae: 19.5796\n",
            "Epoch 10/100\n",
            "2/2 [==============================] - 0s 6ms/step - loss: 10.5941 - mae: 10.5941\n",
            "Epoch 11/100\n",
            "2/2 [==============================] - 0s 6ms/step - loss: 8.6013 - mae: 8.6013\n",
            "Epoch 12/100\n",
            "2/2 [==============================] - 0s 6ms/step - loss: 11.0919 - mae: 11.0919\n",
            "Epoch 13/100\n",
            "2/2 [==============================] - 0s 6ms/step - loss: 7.6209 - mae: 7.6209\n",
            "Epoch 14/100\n",
            "2/2 [==============================] - 0s 7ms/step - loss: 15.8447 - mae: 15.8447\n",
            "Epoch 15/100\n",
            "2/2 [==============================] - 0s 6ms/step - loss: 12.9153 - mae: 12.9153\n",
            "Epoch 16/100\n",
            "2/2 [==============================] - 0s 6ms/step - loss: 7.6695 - mae: 7.6695\n",
            "Epoch 17/100\n",
            "2/2 [==============================] - 0s 6ms/step - loss: 12.6273 - mae: 12.6273\n",
            "Epoch 18/100\n",
            "2/2 [==============================] - 0s 6ms/step - loss: 9.6544 - mae: 9.6544\n",
            "Epoch 19/100\n",
            "2/2 [==============================] - 0s 6ms/step - loss: 13.4251 - mae: 13.4251\n",
            "Epoch 20/100\n",
            "2/2 [==============================] - 0s 6ms/step - loss: 11.5173 - mae: 11.5173\n",
            "Epoch 21/100\n",
            "2/2 [==============================] - 0s 6ms/step - loss: 9.0927 - mae: 9.0927\n",
            "Epoch 22/100\n",
            "2/2 [==============================] - 0s 6ms/step - loss: 8.7372 - mae: 8.7372\n",
            "Epoch 23/100\n",
            "2/2 [==============================] - 0s 6ms/step - loss: 10.2730 - mae: 10.2730\n",
            "Epoch 24/100\n",
            "2/2 [==============================] - 0s 6ms/step - loss: 15.4074 - mae: 15.4074\n",
            "Epoch 25/100\n",
            "2/2 [==============================] - 0s 6ms/step - loss: 11.9527 - mae: 11.9527\n",
            "Epoch 26/100\n",
            "2/2 [==============================] - 0s 6ms/step - loss: 12.9181 - mae: 12.9181\n",
            "Epoch 27/100\n",
            "2/2 [==============================] - 0s 6ms/step - loss: 10.8440 - mae: 10.8440\n",
            "Epoch 28/100\n",
            "2/2 [==============================] - 0s 6ms/step - loss: 13.1516 - mae: 13.1516\n",
            "Epoch 29/100\n",
            "2/2 [==============================] - 0s 6ms/step - loss: 9.5812 - mae: 9.5812\n",
            "Epoch 30/100\n",
            "2/2 [==============================] - 0s 6ms/step - loss: 16.8099 - mae: 16.8099\n",
            "Epoch 31/100\n",
            "2/2 [==============================] - 0s 6ms/step - loss: 23.2348 - mae: 23.2348\n",
            "Epoch 32/100\n",
            "2/2 [==============================] - 0s 8ms/step - loss: 7.3309 - mae: 7.3309\n",
            "Epoch 33/100\n",
            "2/2 [==============================] - 0s 6ms/step - loss: 10.4828 - mae: 10.4828\n",
            "Epoch 34/100\n",
            "2/2 [==============================] - 0s 5ms/step - loss: 9.7655 - mae: 9.7655\n",
            "Epoch 35/100\n",
            "2/2 [==============================] - 0s 9ms/step - loss: 8.4055 - mae: 8.4055\n",
            "Epoch 36/100\n",
            "2/2 [==============================] - 0s 7ms/step - loss: 8.5545 - mae: 8.5545\n",
            "Epoch 37/100\n",
            "2/2 [==============================] - 0s 7ms/step - loss: 8.6093 - mae: 8.6093\n",
            "Epoch 38/100\n",
            "2/2 [==============================] - 0s 7ms/step - loss: 9.2521 - mae: 9.2521\n",
            "Epoch 39/100\n",
            "2/2 [==============================] - 0s 9ms/step - loss: 10.1622 - mae: 10.1622\n",
            "Epoch 40/100\n",
            "2/2 [==============================] - 0s 6ms/step - loss: 9.7345 - mae: 9.7345\n",
            "Epoch 41/100\n",
            "2/2 [==============================] - 0s 6ms/step - loss: 8.0870 - mae: 8.0870\n",
            "Epoch 42/100\n",
            "2/2 [==============================] - 0s 6ms/step - loss: 10.4817 - mae: 10.4817\n",
            "Epoch 43/100\n",
            "2/2 [==============================] - 0s 7ms/step - loss: 7.9811 - mae: 7.9811\n",
            "Epoch 44/100\n",
            "2/2 [==============================] - 0s 8ms/step - loss: 17.5195 - mae: 17.5195\n",
            "Epoch 45/100\n",
            "2/2 [==============================] - 0s 6ms/step - loss: 13.3639 - mae: 13.3639\n",
            "Epoch 46/100\n",
            "2/2 [==============================] - 0s 7ms/step - loss: 8.1153 - mae: 8.1153\n",
            "Epoch 47/100\n",
            "2/2 [==============================] - 0s 6ms/step - loss: 8.8869 - mae: 8.8869\n",
            "Epoch 48/100\n",
            "2/2 [==============================] - 0s 6ms/step - loss: 10.2421 - mae: 10.2421\n",
            "Epoch 49/100\n",
            "2/2 [==============================] - 0s 6ms/step - loss: 7.1143 - mae: 7.1143\n",
            "Epoch 50/100\n",
            "2/2 [==============================] - 0s 7ms/step - loss: 9.0971 - mae: 9.0971\n",
            "Epoch 51/100\n",
            "2/2 [==============================] - 0s 7ms/step - loss: 10.6444 - mae: 10.6444\n",
            "Epoch 52/100\n",
            "2/2 [==============================] - 0s 6ms/step - loss: 15.3583 - mae: 15.3583\n",
            "Epoch 53/100\n",
            "2/2 [==============================] - 0s 7ms/step - loss: 14.3662 - mae: 14.3662\n",
            "Epoch 54/100\n",
            "2/2 [==============================] - 0s 6ms/step - loss: 21.7075 - mae: 21.7075\n",
            "Epoch 55/100\n",
            "2/2 [==============================] - 0s 6ms/step - loss: 15.9332 - mae: 15.9332\n",
            "Epoch 56/100\n",
            "2/2 [==============================] - 0s 6ms/step - loss: 10.3582 - mae: 10.3582\n",
            "Epoch 57/100\n",
            "2/2 [==============================] - 0s 7ms/step - loss: 9.7567 - mae: 9.7567\n",
            "Epoch 58/100\n",
            "2/2 [==============================] - 0s 7ms/step - loss: 9.0484 - mae: 9.0484\n",
            "Epoch 59/100\n",
            "2/2 [==============================] - 0s 6ms/step - loss: 10.3078 - mae: 10.3078\n",
            "Epoch 60/100\n",
            "2/2 [==============================] - 0s 6ms/step - loss: 8.1535 - mae: 8.1535\n",
            "Epoch 61/100\n",
            "2/2 [==============================] - 0s 6ms/step - loss: 9.9868 - mae: 9.9868\n",
            "Epoch 62/100\n",
            "2/2 [==============================] - 0s 6ms/step - loss: 7.0828 - mae: 7.0828\n",
            "Epoch 63/100\n",
            "2/2 [==============================] - 0s 5ms/step - loss: 8.5876 - mae: 8.5876\n",
            "Epoch 64/100\n",
            "2/2 [==============================] - 0s 6ms/step - loss: 9.1711 - mae: 9.1711\n",
            "Epoch 65/100\n",
            "2/2 [==============================] - 0s 6ms/step - loss: 10.3589 - mae: 10.3589\n",
            "Epoch 66/100\n",
            "2/2 [==============================] - 0s 6ms/step - loss: 15.8211 - mae: 15.8211\n",
            "Epoch 67/100\n",
            "2/2 [==============================] - 0s 6ms/step - loss: 10.1724 - mae: 10.1724\n",
            "Epoch 68/100\n",
            "2/2 [==============================] - 0s 6ms/step - loss: 9.0980 - mae: 9.0980\n",
            "Epoch 69/100\n",
            "2/2 [==============================] - 0s 6ms/step - loss: 12.6955 - mae: 12.6955\n",
            "Epoch 70/100\n",
            "2/2 [==============================] - 0s 6ms/step - loss: 8.9109 - mae: 8.9109\n",
            "Epoch 71/100\n",
            "2/2 [==============================] - 0s 6ms/step - loss: 9.8788 - mae: 9.8788\n",
            "Epoch 72/100\n",
            "2/2 [==============================] - 0s 6ms/step - loss: 9.9335 - mae: 9.9335\n",
            "Epoch 73/100\n",
            "2/2 [==============================] - 0s 7ms/step - loss: 12.3394 - mae: 12.3394\n",
            "Epoch 74/100\n",
            "2/2 [==============================] - 0s 6ms/step - loss: 10.7075 - mae: 10.7075\n",
            "Epoch 75/100\n",
            "2/2 [==============================] - 0s 6ms/step - loss: 9.5842 - mae: 9.5842\n",
            "Epoch 76/100\n",
            "2/2 [==============================] - 0s 6ms/step - loss: 11.0351 - mae: 11.0351\n",
            "Epoch 77/100\n",
            "2/2 [==============================] - 0s 6ms/step - loss: 11.1158 - mae: 11.1158\n",
            "Epoch 78/100\n",
            "2/2 [==============================] - 0s 6ms/step - loss: 11.5677 - mae: 11.5677\n",
            "Epoch 79/100\n",
            "2/2 [==============================] - 0s 6ms/step - loss: 15.5892 - mae: 15.5892\n",
            "Epoch 80/100\n",
            "2/2 [==============================] - 0s 6ms/step - loss: 11.6137 - mae: 11.6137\n",
            "Epoch 81/100\n",
            "2/2 [==============================] - 0s 6ms/step - loss: 9.4501 - mae: 9.4501\n",
            "Epoch 82/100\n",
            "2/2 [==============================] - 0s 6ms/step - loss: 12.6032 - mae: 12.6032\n",
            "Epoch 83/100\n",
            "2/2 [==============================] - 0s 6ms/step - loss: 8.1969 - mae: 8.1969\n",
            "Epoch 84/100\n",
            "2/2 [==============================] - 0s 8ms/step - loss: 7.5447 - mae: 7.5447\n",
            "Epoch 85/100\n",
            "2/2 [==============================] - 0s 6ms/step - loss: 9.7177 - mae: 9.7177\n",
            "Epoch 86/100\n",
            "2/2 [==============================] - 0s 8ms/step - loss: 8.7887 - mae: 8.7887\n",
            "Epoch 87/100\n",
            "2/2 [==============================] - 0s 10ms/step - loss: 12.3387 - mae: 12.3387\n",
            "Epoch 88/100\n",
            "2/2 [==============================] - 0s 6ms/step - loss: 11.0655 - mae: 11.0655\n",
            "Epoch 89/100\n",
            "2/2 [==============================] - 0s 6ms/step - loss: 6.9825 - mae: 6.9825\n",
            "Epoch 90/100\n",
            "2/2 [==============================] - 0s 6ms/step - loss: 13.8213 - mae: 13.8213\n",
            "Epoch 91/100\n",
            "2/2 [==============================] - 0s 6ms/step - loss: 7.8930 - mae: 7.8930\n",
            "Epoch 92/100\n",
            "2/2 [==============================] - 0s 7ms/step - loss: 7.4639 - mae: 7.4639\n",
            "Epoch 93/100\n",
            "2/2 [==============================] - 0s 6ms/step - loss: 9.1695 - mae: 9.1695\n",
            "Epoch 94/100\n",
            "2/2 [==============================] - 0s 6ms/step - loss: 8.5719 - mae: 8.5719\n",
            "Epoch 95/100\n",
            "2/2 [==============================] - 0s 6ms/step - loss: 11.5161 - mae: 11.5161\n",
            "Epoch 96/100\n",
            "2/2 [==============================] - 0s 6ms/step - loss: 10.2940 - mae: 10.2940\n",
            "Epoch 97/100\n",
            "2/2 [==============================] - 0s 6ms/step - loss: 7.6966 - mae: 7.6966\n",
            "Epoch 98/100\n",
            "2/2 [==============================] - 0s 6ms/step - loss: 8.6315 - mae: 8.6315\n",
            "Epoch 99/100\n",
            "2/2 [==============================] - 0s 10ms/step - loss: 9.4113 - mae: 9.4113\n",
            "Epoch 100/100\n",
            "2/2 [==============================] - 0s 7ms/step - loss: 8.8543 - mae: 8.8543\n"
          ]
        },
        {
          "output_type": "execute_result",
          "data": {
            "text/plain": [
              "<keras.src.callbacks.History at 0x790ffbd739d0>"
            ]
          },
          "metadata": {},
          "execution_count": 96
        }
      ]
    },
    {
      "cell_type": "code",
      "source": [
        "# Make and plot predictions for model_1\n",
        "y_preds_1 = model_1.predict(tf.expand_dims(X_test, axis=-1))\n",
        "plot_predictions(train_data=X_train, train_labels=y_train,\n",
        "                 test_data=X_test, test_labels=y_test,\n",
        "                 predictions=y_preds_1)"
      ],
      "metadata": {
        "colab": {
          "base_uri": "https://localhost:8080/",
          "height": 480
        },
        "id": "xRZ9-6FRbcEL",
        "outputId": "dbe35270-0c3c-4f24-da40-4259f475208a"
      },
      "execution_count": 97,
      "outputs": [
        {
          "output_type": "stream",
          "name": "stdout",
          "text": [
            "1/1 [==============================] - 0s 40ms/step\n"
          ]
        },
        {
          "output_type": "display_data",
          "data": {
            "text/plain": [
              "<Figure size 1000x700 with 1 Axes>"
            ],
            "image/png": "[encoded data removed]"
          },
          "metadata": {}
        }
      ]
    },
    {
      "cell_type": "code",
      "source": [
        "# Calculate model_1 evaluation metrics\n",
        "mae_1 = mae(y_test, tf.squeeze(tf.constant(y_preds_1)))\n",
        "mse_1 = mse(y_test, tf.squeeze(tf.constant(y_preds_1)))\n",
        "mae_1, mse_1"
      ],
      "metadata": {
        "colab": {
          "base_uri": "https://localhost:8080/"
        },
        "id": "ud7dtmg2dD9q",
        "outputId": "f4d578c9-a7cb-4a45-ce00-5c662c5b209d"
      },
      "execution_count": 98,
      "outputs": [
        {
          "output_type": "execute_result",
          "data": {
            "text/plain": [
              "(<tf.Tensor: shape=(), dtype=float32, numpy=8.626664>,\n",
              " <tf.Tensor: shape=(), dtype=float32, numpy=80.94458>)"
            ]
          },
          "metadata": {},
          "execution_count": 98
        }
      ]
    },
    {
      "cell_type": "markdown",
      "source": [
        "**Build `model_2`\n",
        "\n",
        "* 2 dense layers trained for 100 epochs"
      ],
      "metadata": {
        "id": "4jTTOZc9e755"
      }
    },
    {
      "cell_type": "code",
      "source": [
        "# Set random seed\n",
        "tf.random.set_seed(42)\n",
        "\n",
        "# 1. Create the model\n",
        "model_2 = tf.keras.Sequential([\n",
        "    tf.keras.layers.Dense(16, activation='relu'),\n",
        "    tf.keras.layers.Dense(1)\n",
        "])\n",
        "\n",
        "# 2. Compile the model\n",
        "model_2.compile(loss=tf.keras.losses.mse,\n",
        "                optimizer=tf.keras.optimizers.SGD(learning_rate=0.0001),\n",
        "                metrics=[\"mse\"])\n",
        "\n",
        "# 3. Fit the model\n",
        "model_2.fit(tf.expand_dims(X_train, axis=-1), y_train, epochs=100)"
      ],
      "metadata": {
        "colab": {
          "base_uri": "https://localhost:8080/"
        },
        "id": "Vl1JsmVNdIvX",
        "outputId": "195dc107-9624-42a1-b073-9a49bc71509b"
      },
      "execution_count": 99,
      "outputs": [
        {
          "output_type": "stream",
          "name": "stdout",
          "text": [
            "Epoch 1/100\n",
            "2/2 [==============================] - 0s 11ms/step - loss: 1754.5374 - mse: 1754.5374\n",
            "Epoch 2/100\n",
            "2/2 [==============================] - 0s 7ms/step - loss: 435.6461 - mse: 435.6461\n",
            "Epoch 3/100\n",
            "2/2 [==============================] - 0s 6ms/step - loss: 175.0324 - mse: 175.0324\n",
            "Epoch 4/100\n",
            "2/2 [==============================] - 0s 6ms/step - loss: 57.9162 - mse: 57.9162\n",
            "Epoch 5/100\n",
            "2/2 [==============================] - 0s 7ms/step - loss: 29.5470 - mse: 29.5470\n",
            "Epoch 6/100\n",
            "2/2 [==============================] - 0s 7ms/step - loss: 26.9672 - mse: 26.9672\n",
            "Epoch 7/100\n",
            "2/2 [==============================] - 0s 7ms/step - loss: 25.6366 - mse: 25.6366\n",
            "Epoch 8/100\n",
            "2/2 [==============================] - 0s 7ms/step - loss: 25.7325 - mse: 25.7325\n",
            "Epoch 9/100\n",
            "2/2 [==============================] - 0s 6ms/step - loss: 39.0478 - mse: 39.0478\n",
            "Epoch 10/100\n",
            "2/2 [==============================] - 0s 6ms/step - loss: 25.9571 - mse: 25.9571\n",
            "Epoch 11/100\n",
            "2/2 [==============================] - 0s 6ms/step - loss: 25.2076 - mse: 25.2076\n",
            "Epoch 12/100\n",
            "2/2 [==============================] - 0s 6ms/step - loss: 24.9857 - mse: 24.9857\n",
            "Epoch 13/100\n",
            "2/2 [==============================] - 0s 6ms/step - loss: 25.7891 - mse: 25.7891\n",
            "Epoch 14/100\n",
            "2/2 [==============================] - 0s 7ms/step - loss: 30.5979 - mse: 30.5979\n",
            "Epoch 15/100\n",
            "2/2 [==============================] - 0s 6ms/step - loss: 25.6041 - mse: 25.6041\n",
            "Epoch 16/100\n",
            "2/2 [==============================] - 0s 6ms/step - loss: 24.9160 - mse: 24.9160\n",
            "Epoch 17/100\n",
            "2/2 [==============================] - 0s 6ms/step - loss: 26.3468 - mse: 26.3468\n",
            "Epoch 18/100\n",
            "2/2 [==============================] - 0s 7ms/step - loss: 25.4030 - mse: 25.4030\n",
            "Epoch 19/100\n",
            "2/2 [==============================] - 0s 7ms/step - loss: 25.0824 - mse: 25.0824\n",
            "Epoch 20/100\n",
            "2/2 [==============================] - 0s 7ms/step - loss: 25.2571 - mse: 25.2571\n",
            "Epoch 21/100\n",
            "2/2 [==============================] - 0s 7ms/step - loss: 25.2562 - mse: 25.2562\n",
            "Epoch 22/100\n",
            "2/2 [==============================] - 0s 7ms/step - loss: 24.8452 - mse: 24.8452\n",
            "Epoch 23/100\n",
            "2/2 [==============================] - 0s 6ms/step - loss: 24.8901 - mse: 24.8901\n",
            "Epoch 24/100\n",
            "2/2 [==============================] - 0s 6ms/step - loss: 25.5154 - mse: 25.5154\n",
            "Epoch 25/100\n",
            "2/2 [==============================] - 0s 7ms/step - loss: 26.9813 - mse: 26.9813\n",
            "Epoch 26/100\n",
            "2/2 [==============================] - 0s 7ms/step - loss: 25.2251 - mse: 25.2251\n",
            "Epoch 27/100\n",
            "2/2 [==============================] - 0s 6ms/step - loss: 25.1935 - mse: 25.1935\n",
            "Epoch 28/100\n",
            "2/2 [==============================] - 0s 6ms/step - loss: 24.8801 - mse: 24.8801\n",
            "Epoch 29/100\n",
            "2/2 [==============================] - 0s 6ms/step - loss: 25.6177 - mse: 25.6177\n",
            "Epoch 30/100\n",
            "2/2 [==============================] - 0s 6ms/step - loss: 30.1450 - mse: 30.1450\n",
            "Epoch 31/100\n",
            "2/2 [==============================] - 0s 6ms/step - loss: 29.1782 - mse: 29.1782\n",
            "Epoch 32/100\n",
            "2/2 [==============================] - 0s 8ms/step - loss: 27.7872 - mse: 27.7872\n",
            "Epoch 33/100\n",
            "2/2 [==============================] - 0s 6ms/step - loss: 24.8611 - mse: 24.8611\n",
            "Epoch 34/100\n",
            "2/2 [==============================] - 0s 10ms/step - loss: 25.1680 - mse: 25.1680\n",
            "Epoch 35/100\n",
            "2/2 [==============================] - 0s 6ms/step - loss: 27.5329 - mse: 27.5329\n",
            "Epoch 36/100\n",
            "2/2 [==============================] - 0s 6ms/step - loss: 27.0658 - mse: 27.0658\n",
            "Epoch 37/100\n",
            "2/2 [==============================] - 0s 7ms/step - loss: 24.9783 - mse: 24.9783\n",
            "Epoch 38/100\n",
            "2/2 [==============================] - 0s 6ms/step - loss: 24.9324 - mse: 24.9324\n",
            "Epoch 39/100\n",
            "2/2 [==============================] - 0s 6ms/step - loss: 24.7250 - mse: 24.7250\n",
            "Epoch 40/100\n",
            "2/2 [==============================] - 0s 6ms/step - loss: 24.8286 - mse: 24.8286\n",
            "Epoch 41/100\n",
            "2/2 [==============================] - 0s 6ms/step - loss: 25.4487 - mse: 25.4487\n",
            "Epoch 42/100\n",
            "2/2 [==============================] - 0s 6ms/step - loss: 24.8049 - mse: 24.8049\n",
            "Epoch 43/100\n",
            "2/2 [==============================] - 0s 6ms/step - loss: 25.0690 - mse: 25.0690\n",
            "Epoch 44/100\n",
            "2/2 [==============================] - 0s 6ms/step - loss: 26.1327 - mse: 26.1327\n",
            "Epoch 45/100\n",
            "2/2 [==============================] - 0s 6ms/step - loss: 26.7962 - mse: 26.7962\n",
            "Epoch 46/100\n",
            "2/2 [==============================] - 0s 6ms/step - loss: 26.1453 - mse: 26.1453\n",
            "Epoch 47/100\n",
            "2/2 [==============================] - 0s 7ms/step - loss: 26.0931 - mse: 26.0931\n",
            "Epoch 48/100\n",
            "2/2 [==============================] - 0s 7ms/step - loss: 25.6112 - mse: 25.6112\n",
            "Epoch 49/100\n",
            "2/2 [==============================] - 0s 8ms/step - loss: 26.3775 - mse: 26.3775\n",
            "Epoch 50/100\n",
            "2/2 [==============================] - 0s 6ms/step - loss: 27.8191 - mse: 27.8191\n",
            "Epoch 51/100\n",
            "2/2 [==============================] - 0s 6ms/step - loss: 25.3166 - mse: 25.3166\n",
            "Epoch 52/100\n",
            "2/2 [==============================] - 0s 6ms/step - loss: 27.1427 - mse: 27.1427\n",
            "Epoch 53/100\n",
            "2/2 [==============================] - 0s 6ms/step - loss: 25.8484 - mse: 25.8484\n",
            "Epoch 54/100\n",
            "2/2 [==============================] - 0s 6ms/step - loss: 25.5573 - mse: 25.5573\n",
            "Epoch 55/100\n",
            "2/2 [==============================] - 0s 6ms/step - loss: 25.7883 - mse: 25.7883\n",
            "Epoch 56/100\n",
            "2/2 [==============================] - 0s 6ms/step - loss: 24.5980 - mse: 24.5980\n",
            "Epoch 57/100\n",
            "2/2 [==============================] - 0s 6ms/step - loss: 25.4692 - mse: 25.4692\n",
            "Epoch 58/100\n",
            "2/2 [==============================] - 0s 10ms/step - loss: 24.6149 - mse: 24.6149\n",
            "Epoch 59/100\n",
            "2/2 [==============================] - 0s 7ms/step - loss: 24.8288 - mse: 24.8288\n",
            "Epoch 60/100\n",
            "2/2 [==============================] - 0s 7ms/step - loss: 26.6643 - mse: 26.6643\n",
            "Epoch 61/100\n",
            "2/2 [==============================] - 0s 7ms/step - loss: 24.7035 - mse: 24.7035\n",
            "Epoch 62/100\n",
            "2/2 [==============================] - 0s 7ms/step - loss: 24.8708 - mse: 24.8708\n",
            "Epoch 63/100\n",
            "2/2 [==============================] - 0s 7ms/step - loss: 25.0160 - mse: 25.0160\n",
            "Epoch 64/100\n",
            "2/2 [==============================] - 0s 6ms/step - loss: 24.5530 - mse: 24.5530\n",
            "Epoch 65/100\n",
            "2/2 [==============================] - 0s 6ms/step - loss: 25.6617 - mse: 25.6617\n",
            "Epoch 66/100\n",
            "2/2 [==============================] - 0s 7ms/step - loss: 25.5969 - mse: 25.5969\n",
            "Epoch 67/100\n",
            "2/2 [==============================] - 0s 7ms/step - loss: 24.6762 - mse: 24.6762\n",
            "Epoch 68/100\n",
            "2/2 [==============================] - 0s 6ms/step - loss: 24.5776 - mse: 24.5776\n",
            "Epoch 69/100\n",
            "2/2 [==============================] - 0s 6ms/step - loss: 25.2424 - mse: 25.2424\n",
            "Epoch 70/100\n",
            "2/2 [==============================] - 0s 7ms/step - loss: 24.7926 - mse: 24.7926\n",
            "Epoch 71/100\n",
            "2/2 [==============================] - 0s 7ms/step - loss: 25.6176 - mse: 25.6176\n",
            "Epoch 72/100\n",
            "2/2 [==============================] - 0s 7ms/step - loss: 24.5011 - mse: 24.5011\n",
            "Epoch 73/100\n",
            "2/2 [==============================] - 0s 9ms/step - loss: 25.3725 - mse: 25.3725\n",
            "Epoch 74/100\n",
            "2/2 [==============================] - 0s 7ms/step - loss: 26.9779 - mse: 26.9779\n",
            "Epoch 75/100\n",
            "2/2 [==============================] - 0s 6ms/step - loss: 28.2505 - mse: 28.2505\n",
            "Epoch 76/100\n",
            "2/2 [==============================] - 0s 7ms/step - loss: 25.5605 - mse: 25.5605\n",
            "Epoch 77/100\n",
            "2/2 [==============================] - 0s 7ms/step - loss: 25.1310 - mse: 25.1310\n",
            "Epoch 78/100\n",
            "2/2 [==============================] - 0s 6ms/step - loss: 26.8078 - mse: 26.8078\n",
            "Epoch 79/100\n",
            "2/2 [==============================] - 0s 7ms/step - loss: 27.2436 - mse: 27.2436\n",
            "Epoch 80/100\n",
            "2/2 [==============================] - 0s 11ms/step - loss: 26.9646 - mse: 26.9646\n",
            "Epoch 81/100\n",
            "2/2 [==============================] - 0s 7ms/step - loss: 25.2227 - mse: 25.2227\n",
            "Epoch 82/100\n",
            "2/2 [==============================] - 0s 6ms/step - loss: 24.8949 - mse: 24.8949\n",
            "Epoch 83/100\n",
            "2/2 [==============================] - 0s 6ms/step - loss: 25.4688 - mse: 25.4688\n",
            "Epoch 84/100\n",
            "2/2 [==============================] - 0s 7ms/step - loss: 25.3116 - mse: 25.3116\n",
            "Epoch 85/100\n",
            "2/2 [==============================] - 0s 7ms/step - loss: 29.1331 - mse: 29.1331\n",
            "Epoch 86/100\n",
            "2/2 [==============================] - 0s 7ms/step - loss: 25.0063 - mse: 25.0063\n",
            "Epoch 87/100\n",
            "2/2 [==============================] - 0s 6ms/step - loss: 30.5847 - mse: 30.5847\n",
            "Epoch 88/100\n",
            "2/2 [==============================] - 0s 7ms/step - loss: 31.8982 - mse: 31.8982\n",
            "Epoch 89/100\n",
            "2/2 [==============================] - 0s 6ms/step - loss: 26.3628 - mse: 26.3628\n",
            "Epoch 90/100\n",
            "2/2 [==============================] - 0s 7ms/step - loss: 26.5227 - mse: 26.5227\n",
            "Epoch 91/100\n",
            "2/2 [==============================] - 0s 7ms/step - loss: 24.3630 - mse: 24.3630\n",
            "Epoch 92/100\n",
            "2/2 [==============================] - 0s 6ms/step - loss: 24.5870 - mse: 24.5870\n",
            "Epoch 93/100\n",
            "2/2 [==============================] - 0s 6ms/step - loss: 24.7703 - mse: 24.7703\n",
            "Epoch 94/100\n",
            "2/2 [==============================] - 0s 6ms/step - loss: 24.5564 - mse: 24.5564\n",
            "Epoch 95/100\n",
            "2/2 [==============================] - 0s 8ms/step - loss: 24.7283 - mse: 24.7283\n",
            "Epoch 96/100\n",
            "2/2 [==============================] - 0s 6ms/step - loss: 25.1375 - mse: 25.1375\n",
            "Epoch 97/100\n",
            "2/2 [==============================] - 0s 6ms/step - loss: 26.4141 - mse: 26.4141\n",
            "Epoch 98/100\n",
            "2/2 [==============================] - 0s 7ms/step - loss: 24.9097 - mse: 24.9097\n",
            "Epoch 99/100\n",
            "2/2 [==============================] - 0s 6ms/step - loss: 24.2880 - mse: 24.2880\n",
            "Epoch 100/100\n",
            "2/2 [==============================] - 0s 6ms/step - loss: 24.2790 - mse: 24.2790\n"
          ]
        },
        {
          "output_type": "execute_result",
          "data": {
            "text/plain": [
              "<keras.src.callbacks.History at 0x790ffbc9afb0>"
            ]
          },
          "metadata": {},
          "execution_count": 99
        }
      ]
    },
    {
      "cell_type": "code",
      "source": [
        "# Make and plot predictions for model_1\n",
        "y_preds_2 = model_2.predict(tf.expand_dims(X_test, axis=-1))\n",
        "plot_predictions(train_data=X_train, train_labels=y_train,\n",
        "                 test_data=X_test, test_labels=y_test,\n",
        "                 predictions=y_preds_2)"
      ],
      "metadata": {
        "colab": {
          "base_uri": "https://localhost:8080/",
          "height": 480
        },
        "id": "JcCj-qqYdCd9",
        "outputId": "d979fa7e-85b6-4493-aa35-e76bd991d132"
      },
      "execution_count": 100,
      "outputs": [
        {
          "output_type": "stream",
          "name": "stdout",
          "text": [
            "1/1 [==============================] - 0s 48ms/step\n"
          ]
        },
        {
          "output_type": "display_data",
          "data": {
            "text/plain": [
              "<Figure size 1000x700 with 1 Axes>"
            ],
            "image/png": "[encoded data removed]"
          },
          "metadata": {}
        }
      ]
    },
    {
      "cell_type": "code",
      "source": [
        "# Calculate model_2 evaluation metrics\n",
        "mae_2 = mae(y_test, tf.squeeze(tf.constant(y_preds_2)))\n",
        "mse_2 = mse(y_test, tf.squeeze(tf.constant(y_preds_2)))\n",
        "mae_2, mse_2"
      ],
      "metadata": {
        "colab": {
          "base_uri": "https://localhost:8080/"
        },
        "id": "srKjRplOhkR2",
        "outputId": "c2d8c92b-84c2-445b-aa85-9faba6fc8330"
      },
      "execution_count": 101,
      "outputs": [
        {
          "output_type": "execute_result",
          "data": {
            "text/plain": [
              "(<tf.Tensor: shape=(), dtype=float32, numpy=8.281163>,\n",
              " <tf.Tensor: shape=(), dtype=float32, numpy=75.673386>)"
            ]
          },
          "metadata": {},
          "execution_count": 101
        }
      ]
    },
    {
      "cell_type": "markdown",
      "source": [
        "**Build `model_3`**\n",
        "* 3 layers, trained for 500 epochs"
      ],
      "metadata": {
        "id": "SP-1H_46jPJr"
      }
    },
    {
      "cell_type": "code",
      "source": [
        "# Set random seed\n",
        "tf.random.set_seed(42)\n",
        "\n",
        "# Create a model\n",
        "model_3 = tf.keras.Sequential([\n",
        "    tf.keras.layers.Dense(16, activation='relu'),\n",
        "    tf.keras.layers.Dense(16, activation='relu'),\n",
        "    tf.keras.layers.Dense(1)\n",
        "])\n",
        "\n",
        "# Compile the model\n",
        "model_3.compile(loss=tf.keras.losses.mae,\n",
        "                optimizer=tf.keras.optimizers.SGD(learning_rate=1e-3),\n",
        "                metrics=[\"mae\"])\n",
        "\n",
        "# Fit the model\n",
        "model_3.fit(tf.expand_dims(X_train, axis=-1), y_train, epochs=500)"
      ],
      "metadata": {
        "colab": {
          "base_uri": "https://localhost:8080/"
        },
        "id": "DHmdUTKxjGc5",
        "outputId": "ff2de112-3a2c-4f7c-8102-6ce31e671bfb"
      },
      "execution_count": 102,
      "outputs": [
        {
          "output_type": "stream",
          "name": "stdout",
          "text": [
            "Epoch 1/500\n",
            "2/2 [==============================] - 0s 10ms/step - loss: 31.8845 - mae: 31.8845\n",
            "Epoch 2/500\n",
            "2/2 [==============================] - 0s 9ms/step - loss: 22.8211 - mae: 22.8211\n",
            "Epoch 3/500\n",
            "2/2 [==============================] - 0s 7ms/step - loss: 18.3736 - mae: 18.3736\n",
            "Epoch 4/500\n",
            "2/2 [==============================] - 0s 6ms/step - loss: 19.0321 - mae: 19.0321\n",
            "Epoch 5/500\n",
            "2/2 [==============================] - 0s 6ms/step - loss: 18.8697 - mae: 18.8697\n",
            "Epoch 6/500\n",
            "2/2 [==============================] - 0s 6ms/step - loss: 18.1298 - mae: 18.1298\n",
            "Epoch 7/500\n",
            "2/2 [==============================] - 0s 6ms/step - loss: 18.9965 - mae: 18.9965\n",
            "Epoch 8/500\n",
            "2/2 [==============================] - 0s 6ms/step - loss: 17.2814 - mae: 17.2814\n",
            "Epoch 9/500\n",
            "2/2 [==============================] - 0s 6ms/step - loss: 23.2492 - mae: 23.2492\n",
            "Epoch 10/500\n",
            "2/2 [==============================] - 0s 6ms/step - loss: 17.4913 - mae: 17.4913\n",
            "Epoch 11/500\n",
            "2/2 [==============================] - 0s 6ms/step - loss: 17.8907 - mae: 17.8907\n",
            "Epoch 12/500\n",
            "2/2 [==============================] - 0s 6ms/step - loss: 17.7067 - mae: 17.7067\n",
            "Epoch 13/500\n",
            "2/2 [==============================] - 0s 6ms/step - loss: 17.8401 - mae: 17.8401\n",
            "Epoch 14/500\n",
            "2/2 [==============================] - 0s 6ms/step - loss: 19.1765 - mae: 19.1765\n",
            "Epoch 15/500\n",
            "2/2 [==============================] - 0s 6ms/step - loss: 17.8401 - mae: 17.8401\n",
            "Epoch 16/500\n",
            "2/2 [==============================] - 0s 7ms/step - loss: 15.9547 - mae: 15.9547\n",
            "Epoch 17/500\n",
            "2/2 [==============================] - 0s 6ms/step - loss: 15.9874 - mae: 15.9874\n",
            "Epoch 18/500\n",
            "2/2 [==============================] - 0s 6ms/step - loss: 16.0457 - mae: 16.0457\n",
            "Epoch 19/500\n",
            "2/2 [==============================] - 0s 6ms/step - loss: 15.8682 - mae: 15.8682\n",
            "Epoch 20/500\n",
            "2/2 [==============================] - 0s 6ms/step - loss: 15.5876 - mae: 15.5876\n",
            "Epoch 21/500\n",
            "2/2 [==============================] - 0s 6ms/step - loss: 15.6999 - mae: 15.6999\n",
            "Epoch 22/500\n",
            "2/2 [==============================] - 0s 6ms/step - loss: 15.7531 - mae: 15.7531\n",
            "Epoch 23/500\n",
            "2/2 [==============================] - 0s 6ms/step - loss: 15.8129 - mae: 15.8129\n",
            "Epoch 24/500\n",
            "2/2 [==============================] - 0s 6ms/step - loss: 16.6969 - mae: 16.6969\n",
            "Epoch 25/500\n",
            "2/2 [==============================] - 0s 6ms/step - loss: 17.0896 - mae: 17.0896\n",
            "Epoch 26/500\n",
            "2/2 [==============================] - 0s 6ms/step - loss: 15.6333 - mae: 15.6333\n",
            "Epoch 27/500\n",
            "2/2 [==============================] - 0s 7ms/step - loss: 16.2480 - mae: 16.2480\n",
            "Epoch 28/500\n",
            "2/2 [==============================] - 0s 6ms/step - loss: 15.7502 - mae: 15.7502\n",
            "Epoch 29/500\n",
            "2/2 [==============================] - 0s 9ms/step - loss: 14.5529 - mae: 14.5529\n",
            "Epoch 30/500\n",
            "2/2 [==============================] - 0s 9ms/step - loss: 15.7758 - mae: 15.7758\n",
            "Epoch 31/500\n",
            "2/2 [==============================] - 0s 6ms/step - loss: 20.7586 - mae: 20.7586\n",
            "Epoch 32/500\n",
            "2/2 [==============================] - 0s 6ms/step - loss: 14.4602 - mae: 14.4602\n",
            "Epoch 33/500\n",
            "2/2 [==============================] - 0s 6ms/step - loss: 14.2931 - mae: 14.2931\n",
            "Epoch 34/500\n",
            "2/2 [==============================] - 0s 6ms/step - loss: 13.9620 - mae: 13.9620\n",
            "Epoch 35/500\n",
            "2/2 [==============================] - 0s 6ms/step - loss: 14.0935 - mae: 14.0935\n",
            "Epoch 36/500\n",
            "2/2 [==============================] - 0s 6ms/step - loss: 14.6624 - mae: 14.6624\n",
            "Epoch 37/500\n",
            "2/2 [==============================] - 0s 6ms/step - loss: 13.5151 - mae: 13.5151\n",
            "Epoch 38/500\n",
            "2/2 [==============================] - 0s 6ms/step - loss: 14.3958 - mae: 14.3958\n",
            "Epoch 39/500\n",
            "2/2 [==============================] - 0s 7ms/step - loss: 13.0748 - mae: 13.0748\n",
            "Epoch 40/500\n",
            "2/2 [==============================] - 0s 7ms/step - loss: 13.1914 - mae: 13.1914\n",
            "Epoch 41/500\n",
            "2/2 [==============================] - 0s 8ms/step - loss: 14.1183 - mae: 14.1183\n",
            "Epoch 42/500\n",
            "2/2 [==============================] - 0s 7ms/step - loss: 12.5130 - mae: 12.5130\n",
            "Epoch 43/500\n",
            "2/2 [==============================] - 0s 6ms/step - loss: 12.1977 - mae: 12.1977\n",
            "Epoch 44/500\n",
            "2/2 [==============================] - 0s 6ms/step - loss: 12.3781 - mae: 12.3781\n",
            "Epoch 45/500\n",
            "2/2 [==============================] - 0s 6ms/step - loss: 11.6740 - mae: 11.6740\n",
            "Epoch 46/500\n",
            "2/2 [==============================] - 0s 6ms/step - loss: 13.0955 - mae: 13.0955\n",
            "Epoch 47/500\n",
            "2/2 [==============================] - 0s 6ms/step - loss: 11.9095 - mae: 11.9095\n",
            "Epoch 48/500\n",
            "2/2 [==============================] - 0s 7ms/step - loss: 11.1996 - mae: 11.1996\n",
            "Epoch 49/500\n",
            "2/2 [==============================] - 0s 6ms/step - loss: 10.8616 - mae: 10.8616\n",
            "Epoch 50/500\n",
            "2/2 [==============================] - 0s 7ms/step - loss: 11.7994 - mae: 11.7994\n",
            "Epoch 51/500\n",
            "2/2 [==============================] - 0s 6ms/step - loss: 10.0982 - mae: 10.0982\n",
            "Epoch 52/500\n",
            "2/2 [==============================] - 0s 6ms/step - loss: 9.6317 - mae: 9.6317\n",
            "Epoch 53/500\n",
            "2/2 [==============================] - 0s 6ms/step - loss: 8.5598 - mae: 8.5598\n",
            "Epoch 54/500\n",
            "2/2 [==============================] - 0s 7ms/step - loss: 8.2188 - mae: 8.2188\n",
            "Epoch 55/500\n",
            "2/2 [==============================] - 0s 6ms/step - loss: 10.0148 - mae: 10.0148\n",
            "Epoch 56/500\n",
            "2/2 [==============================] - 0s 6ms/step - loss: 7.1320 - mae: 7.1320\n",
            "Epoch 57/500\n",
            "2/2 [==============================] - 0s 6ms/step - loss: 7.1133 - mae: 7.1133\n",
            "Epoch 58/500\n",
            "2/2 [==============================] - 0s 7ms/step - loss: 5.7045 - mae: 5.7045\n",
            "Epoch 59/500\n",
            "2/2 [==============================] - 0s 6ms/step - loss: 5.3659 - mae: 5.3659\n",
            "Epoch 60/500\n",
            "2/2 [==============================] - 0s 6ms/step - loss: 4.4606 - mae: 4.4606\n",
            "Epoch 61/500\n",
            "2/2 [==============================] - 0s 6ms/step - loss: 4.9283 - mae: 4.9283\n",
            "Epoch 62/500\n",
            "2/2 [==============================] - 0s 7ms/step - loss: 4.3680 - mae: 4.3680\n",
            "Epoch 63/500\n",
            "2/2 [==============================] - 0s 6ms/step - loss: 4.2704 - mae: 4.2704\n",
            "Epoch 64/500\n",
            "2/2 [==============================] - 0s 6ms/step - loss: 4.8652 - mae: 4.8652\n",
            "Epoch 65/500\n",
            "2/2 [==============================] - 0s 6ms/step - loss: 5.3605 - mae: 5.3605\n",
            "Epoch 66/500\n",
            "2/2 [==============================] - 0s 6ms/step - loss: 5.3934 - mae: 5.3934\n",
            "Epoch 67/500\n",
            "2/2 [==============================] - 0s 6ms/step - loss: 4.2062 - mae: 4.2062\n",
            "Epoch 68/500\n",
            "2/2 [==============================] - 0s 6ms/step - loss: 4.2718 - mae: 4.2718\n",
            "Epoch 69/500\n",
            "2/2 [==============================] - 0s 6ms/step - loss: 5.3961 - mae: 5.3961\n",
            "Epoch 70/500\n",
            "2/2 [==============================] - 0s 6ms/step - loss: 4.2521 - mae: 4.2521\n",
            "Epoch 71/500\n",
            "2/2 [==============================] - 0s 6ms/step - loss: 6.0815 - mae: 6.0815\n",
            "Epoch 72/500\n",
            "2/2 [==============================] - 0s 6ms/step - loss: 4.1333 - mae: 4.1333\n",
            "Epoch 73/500\n",
            "2/2 [==============================] - 0s 7ms/step - loss: 4.1859 - mae: 4.1859\n",
            "Epoch 74/500\n",
            "2/2 [==============================] - 0s 7ms/step - loss: 4.2540 - mae: 4.2540\n",
            "Epoch 75/500\n",
            "2/2 [==============================] - 0s 7ms/step - loss: 4.7055 - mae: 4.7055\n",
            "Epoch 76/500\n",
            "2/2 [==============================] - 0s 6ms/step - loss: 5.1744 - mae: 5.1744\n",
            "Epoch 77/500\n",
            "2/2 [==============================] - 0s 6ms/step - loss: 5.5923 - mae: 5.5923\n",
            "Epoch 78/500\n",
            "2/2 [==============================] - 0s 6ms/step - loss: 4.4663 - mae: 4.4663\n",
            "Epoch 79/500\n",
            "2/2 [==============================] - 0s 6ms/step - loss: 6.5170 - mae: 6.5170\n",
            "Epoch 80/500\n",
            "2/2 [==============================] - 0s 6ms/step - loss: 5.5200 - mae: 5.5200\n",
            "Epoch 81/500\n",
            "2/2 [==============================] - 0s 6ms/step - loss: 4.3993 - mae: 4.3993\n",
            "Epoch 82/500\n",
            "2/2 [==============================] - 0s 6ms/step - loss: 4.0685 - mae: 4.0685\n",
            "Epoch 83/500\n",
            "2/2 [==============================] - 0s 6ms/step - loss: 4.3593 - mae: 4.3593\n",
            "Epoch 84/500\n",
            "2/2 [==============================] - 0s 6ms/step - loss: 4.3351 - mae: 4.3351\n",
            "Epoch 85/500\n",
            "2/2 [==============================] - 0s 6ms/step - loss: 6.0662 - mae: 6.0662\n",
            "Epoch 86/500\n",
            "2/2 [==============================] - 0s 6ms/step - loss: 6.3793 - mae: 6.3793\n",
            "Epoch 87/500\n",
            "2/2 [==============================] - 0s 6ms/step - loss: 7.2692 - mae: 7.2692\n",
            "Epoch 88/500\n",
            "2/2 [==============================] - 0s 6ms/step - loss: 7.1366 - mae: 7.1366\n",
            "Epoch 89/500\n",
            "2/2 [==============================] - 0s 6ms/step - loss: 5.2075 - mae: 5.2075\n",
            "Epoch 90/500\n",
            "2/2 [==============================] - 0s 6ms/step - loss: 5.2606 - mae: 5.2606\n",
            "Epoch 91/500\n",
            "2/2 [==============================] - 0s 6ms/step - loss: 4.1676 - mae: 4.1676\n",
            "Epoch 92/500\n",
            "2/2 [==============================] - 0s 6ms/step - loss: 4.2396 - mae: 4.2396\n",
            "Epoch 93/500\n",
            "2/2 [==============================] - 0s 6ms/step - loss: 5.4455 - mae: 5.4455\n",
            "Epoch 94/500\n",
            "2/2 [==============================] - 0s 10ms/step - loss: 4.1920 - mae: 4.1920\n",
            "Epoch 95/500\n",
            "2/2 [==============================] - 0s 8ms/step - loss: 4.2384 - mae: 4.2384\n",
            "Epoch 96/500\n",
            "2/2 [==============================] - 0s 6ms/step - loss: 4.8866 - mae: 4.8866\n",
            "Epoch 97/500\n",
            "2/2 [==============================] - 0s 7ms/step - loss: 6.3005 - mae: 6.3005\n",
            "Epoch 98/500\n",
            "2/2 [==============================] - 0s 7ms/step - loss: 4.4291 - mae: 4.4291\n",
            "Epoch 99/500\n",
            "2/2 [==============================] - 0s 7ms/step - loss: 4.0858 - mae: 4.0858\n",
            "Epoch 100/500\n",
            "2/2 [==============================] - 0s 9ms/step - loss: 4.7290 - mae: 4.7290\n",
            "Epoch 101/500\n",
            "2/2 [==============================] - 0s 13ms/step - loss: 4.9723 - mae: 4.9723\n",
            "Epoch 102/500\n",
            "2/2 [==============================] - 0s 7ms/step - loss: 4.1119 - mae: 4.1119\n",
            "Epoch 103/500\n",
            "2/2 [==============================] - 0s 10ms/step - loss: 4.0704 - mae: 4.0704\n",
            "Epoch 104/500\n",
            "2/2 [==============================] - 0s 9ms/step - loss: 5.6359 - mae: 5.6359\n",
            "Epoch 105/500\n",
            "2/2 [==============================] - 0s 10ms/step - loss: 4.8242 - mae: 4.8242\n",
            "Epoch 106/500\n",
            "2/2 [==============================] - 0s 8ms/step - loss: 4.2533 - mae: 4.2533\n",
            "Epoch 107/500\n",
            "2/2 [==============================] - 0s 7ms/step - loss: 5.7531 - mae: 5.7531\n",
            "Epoch 108/500\n",
            "2/2 [==============================] - 0s 8ms/step - loss: 4.2475 - mae: 4.2475\n",
            "Epoch 109/500\n",
            "2/2 [==============================] - 0s 7ms/step - loss: 4.4542 - mae: 4.4542\n",
            "Epoch 110/500\n",
            "2/2 [==============================] - 0s 7ms/step - loss: 4.8561 - mae: 4.8561\n",
            "Epoch 111/500\n",
            "2/2 [==============================] - 0s 7ms/step - loss: 4.1328 - mae: 4.1328\n",
            "Epoch 112/500\n",
            "2/2 [==============================] - 0s 6ms/step - loss: 4.1398 - mae: 4.1398\n",
            "Epoch 113/500\n",
            "2/2 [==============================] - 0s 7ms/step - loss: 4.2553 - mae: 4.2553\n",
            "Epoch 114/500\n",
            "2/2 [==============================] - 0s 7ms/step - loss: 6.2000 - mae: 6.2000\n",
            "Epoch 115/500\n",
            "2/2 [==============================] - 0s 7ms/step - loss: 4.0676 - mae: 4.0676\n",
            "Epoch 116/500\n",
            "2/2 [==============================] - 0s 7ms/step - loss: 4.8438 - mae: 4.8438\n",
            "Epoch 117/500\n",
            "2/2 [==============================] - 0s 7ms/step - loss: 4.3444 - mae: 4.3444\n",
            "Epoch 118/500\n",
            "2/2 [==============================] - 0s 7ms/step - loss: 5.3035 - mae: 5.3035\n",
            "Epoch 119/500\n",
            "2/2 [==============================] - 0s 7ms/step - loss: 4.1821 - mae: 4.1821\n",
            "Epoch 120/500\n",
            "2/2 [==============================] - 0s 7ms/step - loss: 5.7633 - mae: 5.7633\n",
            "Epoch 121/500\n",
            "2/2 [==============================] - 0s 7ms/step - loss: 4.0751 - mae: 4.0751\n",
            "Epoch 122/500\n",
            "2/2 [==============================] - 0s 7ms/step - loss: 6.0437 - mae: 6.0437\n",
            "Epoch 123/500\n",
            "2/2 [==============================] - 0s 7ms/step - loss: 6.7098 - mae: 6.7098\n",
            "Epoch 124/500\n",
            "2/2 [==============================] - 0s 7ms/step - loss: 4.0881 - mae: 4.0881\n",
            "Epoch 125/500\n",
            "2/2 [==============================] - 0s 7ms/step - loss: 4.2472 - mae: 4.2472\n",
            "Epoch 126/500\n",
            "2/2 [==============================] - 0s 7ms/step - loss: 5.7011 - mae: 5.7011\n",
            "Epoch 127/500\n",
            "2/2 [==============================] - 0s 6ms/step - loss: 4.1977 - mae: 4.1977\n",
            "Epoch 128/500\n",
            "2/2 [==============================] - 0s 6ms/step - loss: 4.8760 - mae: 4.8760\n",
            "Epoch 129/500\n",
            "2/2 [==============================] - 0s 7ms/step - loss: 4.1287 - mae: 4.1287\n",
            "Epoch 130/500\n",
            "2/2 [==============================] - 0s 7ms/step - loss: 4.4860 - mae: 4.4860\n",
            "Epoch 131/500\n",
            "2/2 [==============================] - 0s 7ms/step - loss: 5.8756 - mae: 5.8756\n",
            "Epoch 132/500\n",
            "2/2 [==============================] - 0s 7ms/step - loss: 4.8075 - mae: 4.8075\n",
            "Epoch 133/500\n",
            "2/2 [==============================] - 0s 7ms/step - loss: 4.1172 - mae: 4.1172\n",
            "Epoch 134/500\n",
            "2/2 [==============================] - 0s 7ms/step - loss: 4.1275 - mae: 4.1275\n",
            "Epoch 135/500\n",
            "2/2 [==============================] - 0s 7ms/step - loss: 4.0556 - mae: 4.0556\n",
            "Epoch 136/500\n",
            "2/2 [==============================] - 0s 6ms/step - loss: 4.7843 - mae: 4.7843\n",
            "Epoch 137/500\n",
            "2/2 [==============================] - 0s 7ms/step - loss: 4.8421 - mae: 4.8421\n",
            "Epoch 138/500\n",
            "2/2 [==============================] - 0s 7ms/step - loss: 4.4731 - mae: 4.4731\n",
            "Epoch 139/500\n",
            "2/2 [==============================] - 0s 7ms/step - loss: 4.5505 - mae: 4.5505\n",
            "Epoch 140/500\n",
            "2/2 [==============================] - 0s 7ms/step - loss: 4.8080 - mae: 4.8080\n",
            "Epoch 141/500\n",
            "2/2 [==============================] - 0s 6ms/step - loss: 4.1253 - mae: 4.1253\n",
            "Epoch 142/500\n",
            "2/2 [==============================] - 0s 7ms/step - loss: 4.3085 - mae: 4.3085\n",
            "Epoch 143/500\n",
            "2/2 [==============================] - 0s 7ms/step - loss: 4.5485 - mae: 4.5485\n",
            "Epoch 144/500\n",
            "2/2 [==============================] - 0s 7ms/step - loss: 4.4076 - mae: 4.4076\n",
            "Epoch 145/500\n",
            "2/2 [==============================] - 0s 7ms/step - loss: 6.3128 - mae: 6.3128\n",
            "Epoch 146/500\n",
            "2/2 [==============================] - 0s 7ms/step - loss: 4.0846 - mae: 4.0846\n",
            "Epoch 147/500\n",
            "2/2 [==============================] - 0s 7ms/step - loss: 4.4026 - mae: 4.4026\n",
            "Epoch 148/500\n",
            "2/2 [==============================] - 0s 7ms/step - loss: 6.0897 - mae: 6.0897\n",
            "Epoch 149/500\n",
            "2/2 [==============================] - 0s 6ms/step - loss: 4.3765 - mae: 4.3765\n",
            "Epoch 150/500\n",
            "2/2 [==============================] - 0s 7ms/step - loss: 4.3538 - mae: 4.3538\n",
            "Epoch 151/500\n",
            "2/2 [==============================] - 0s 7ms/step - loss: 4.6507 - mae: 4.6507\n",
            "Epoch 152/500\n",
            "2/2 [==============================] - 0s 6ms/step - loss: 4.0520 - mae: 4.0520\n",
            "Epoch 153/500\n",
            "2/2 [==============================] - 0s 6ms/step - loss: 5.4852 - mae: 5.4852\n",
            "Epoch 154/500\n",
            "2/2 [==============================] - 0s 7ms/step - loss: 4.8835 - mae: 4.8835\n",
            "Epoch 155/500\n",
            "2/2 [==============================] - 0s 7ms/step - loss: 4.1883 - mae: 4.1883\n",
            "Epoch 156/500\n",
            "2/2 [==============================] - 0s 8ms/step - loss: 4.5323 - mae: 4.5323\n",
            "Epoch 157/500\n",
            "2/2 [==============================] - 0s 6ms/step - loss: 5.7463 - mae: 5.7463\n",
            "Epoch 158/500\n",
            "2/2 [==============================] - 0s 6ms/step - loss: 4.3863 - mae: 4.3863\n",
            "Epoch 159/500\n",
            "2/2 [==============================] - 0s 6ms/step - loss: 4.2337 - mae: 4.2337\n",
            "Epoch 160/500\n",
            "2/2 [==============================] - 0s 6ms/step - loss: 4.0995 - mae: 4.0995\n",
            "Epoch 161/500\n",
            "2/2 [==============================] - 0s 6ms/step - loss: 4.4805 - mae: 4.4805\n",
            "Epoch 162/500\n",
            "2/2 [==============================] - 0s 6ms/step - loss: 4.9578 - mae: 4.9578\n",
            "Epoch 163/500\n",
            "2/2 [==============================] - 0s 6ms/step - loss: 6.0199 - mae: 6.0199\n",
            "Epoch 164/500\n",
            "2/2 [==============================] - 0s 6ms/step - loss: 4.1199 - mae: 4.1199\n",
            "Epoch 165/500\n",
            "2/2 [==============================] - 0s 6ms/step - loss: 4.1613 - mae: 4.1613\n",
            "Epoch 166/500\n",
            "2/2 [==============================] - 0s 6ms/step - loss: 4.2539 - mae: 4.2539\n",
            "Epoch 167/500\n",
            "2/2 [==============================] - 0s 7ms/step - loss: 6.1458 - mae: 6.1458\n",
            "Epoch 168/500\n",
            "2/2 [==============================] - 0s 6ms/step - loss: 4.2647 - mae: 4.2647\n",
            "Epoch 169/500\n",
            "2/2 [==============================] - 0s 7ms/step - loss: 6.7443 - mae: 6.7443\n",
            "Epoch 170/500\n",
            "2/2 [==============================] - 0s 7ms/step - loss: 4.2339 - mae: 4.2339\n",
            "Epoch 171/500\n",
            "2/2 [==============================] - 0s 7ms/step - loss: 4.1458 - mae: 4.1458\n",
            "Epoch 172/500\n",
            "2/2 [==============================] - 0s 7ms/step - loss: 4.0813 - mae: 4.0813\n",
            "Epoch 173/500\n",
            "2/2 [==============================] - 0s 7ms/step - loss: 4.1579 - mae: 4.1579\n",
            "Epoch 174/500\n",
            "2/2 [==============================] - 0s 7ms/step - loss: 4.0790 - mae: 4.0790\n",
            "Epoch 175/500\n",
            "2/2 [==============================] - 0s 8ms/step - loss: 5.2858 - mae: 5.2858\n",
            "Epoch 176/500\n",
            "2/2 [==============================] - 0s 7ms/step - loss: 6.0267 - mae: 6.0267\n",
            "Epoch 177/500\n",
            "2/2 [==============================] - 0s 6ms/step - loss: 5.1875 - mae: 5.1875\n",
            "Epoch 178/500\n",
            "2/2 [==============================] - 0s 6ms/step - loss: 5.1579 - mae: 5.1579\n",
            "Epoch 179/500\n",
            "2/2 [==============================] - 0s 6ms/step - loss: 4.2711 - mae: 4.2711\n",
            "Epoch 180/500\n",
            "2/2 [==============================] - 0s 6ms/step - loss: 4.1880 - mae: 4.1880\n",
            "Epoch 181/500\n",
            "2/2 [==============================] - 0s 7ms/step - loss: 5.1241 - mae: 5.1241\n",
            "Epoch 182/500\n",
            "2/2 [==============================] - 0s 6ms/step - loss: 5.2403 - mae: 5.2403\n",
            "Epoch 183/500\n",
            "2/2 [==============================] - 0s 7ms/step - loss: 4.1933 - mae: 4.1933\n",
            "Epoch 184/500\n",
            "2/2 [==============================] - 0s 9ms/step - loss: 6.3115 - mae: 6.3115\n",
            "Epoch 185/500\n",
            "2/2 [==============================] - 0s 6ms/step - loss: 4.2822 - mae: 4.2822\n",
            "Epoch 186/500\n",
            "2/2 [==============================] - 0s 8ms/step - loss: 4.1790 - mae: 4.1790\n",
            "Epoch 187/500\n",
            "2/2 [==============================] - 0s 6ms/step - loss: 4.4877 - mae: 4.4877\n",
            "Epoch 188/500\n",
            "2/2 [==============================] - 0s 9ms/step - loss: 5.7719 - mae: 5.7719\n",
            "Epoch 189/500\n",
            "2/2 [==============================] - 0s 9ms/step - loss: 4.4359 - mae: 4.4359\n",
            "Epoch 190/500\n",
            "2/2 [==============================] - 0s 6ms/step - loss: 4.9512 - mae: 4.9512\n",
            "Epoch 191/500\n",
            "2/2 [==============================] - 0s 7ms/step - loss: 4.1315 - mae: 4.1315\n",
            "Epoch 192/500\n",
            "2/2 [==============================] - 0s 9ms/step - loss: 4.4540 - mae: 4.4540\n",
            "Epoch 193/500\n",
            "2/2 [==============================] - 0s 6ms/step - loss: 5.5831 - mae: 5.5831\n",
            "Epoch 194/500\n",
            "2/2 [==============================] - 0s 8ms/step - loss: 4.0464 - mae: 4.0464\n",
            "Epoch 195/500\n",
            "2/2 [==============================] - 0s 7ms/step - loss: 4.4651 - mae: 4.4651\n",
            "Epoch 196/500\n",
            "2/2 [==============================] - 0s 6ms/step - loss: 4.6436 - mae: 4.6436\n",
            "Epoch 197/500\n",
            "2/2 [==============================] - 0s 9ms/step - loss: 4.8541 - mae: 4.8541\n",
            "Epoch 198/500\n",
            "2/2 [==============================] - 0s 8ms/step - loss: 4.1170 - mae: 4.1170\n",
            "Epoch 199/500\n",
            "2/2 [==============================] - 0s 6ms/step - loss: 5.1487 - mae: 5.1487\n",
            "Epoch 200/500\n",
            "2/2 [==============================] - 0s 6ms/step - loss: 4.9134 - mae: 4.9134\n",
            "Epoch 201/500\n",
            "2/2 [==============================] - 0s 7ms/step - loss: 4.0225 - mae: 4.0225\n",
            "Epoch 202/500\n",
            "2/2 [==============================] - 0s 9ms/step - loss: 5.0791 - mae: 5.0791\n",
            "Epoch 203/500\n",
            "2/2 [==============================] - 0s 6ms/step - loss: 4.5629 - mae: 4.5629\n",
            "Epoch 204/500\n",
            "2/2 [==============================] - 0s 8ms/step - loss: 5.4799 - mae: 5.4799\n",
            "Epoch 205/500\n",
            "2/2 [==============================] - 0s 8ms/step - loss: 4.1188 - mae: 4.1188\n",
            "Epoch 206/500\n",
            "2/2 [==============================] - 0s 6ms/step - loss: 4.7562 - mae: 4.7562\n",
            "Epoch 207/500\n",
            "2/2 [==============================] - 0s 8ms/step - loss: 4.7300 - mae: 4.7300\n",
            "Epoch 208/500\n",
            "2/2 [==============================] - 0s 6ms/step - loss: 4.9500 - mae: 4.9500\n",
            "Epoch 209/500\n",
            "2/2 [==============================] - 0s 8ms/step - loss: 4.3608 - mae: 4.3608\n",
            "Epoch 210/500\n",
            "2/2 [==============================] - 0s 6ms/step - loss: 6.5648 - mae: 6.5648\n",
            "Epoch 211/500\n",
            "2/2 [==============================] - 0s 5ms/step - loss: 4.7546 - mae: 4.7546\n",
            "Epoch 212/500\n",
            "2/2 [==============================] - 0s 6ms/step - loss: 4.7219 - mae: 4.7219\n",
            "Epoch 213/500\n",
            "2/2 [==============================] - 0s 6ms/step - loss: 4.3017 - mae: 4.3017\n",
            "Epoch 214/500\n",
            "2/2 [==============================] - 0s 6ms/step - loss: 4.1063 - mae: 4.1063\n",
            "Epoch 215/500\n",
            "2/2 [==============================] - 0s 8ms/step - loss: 5.0873 - mae: 5.0873\n",
            "Epoch 216/500\n",
            "2/2 [==============================] - 0s 6ms/step - loss: 4.8091 - mae: 4.8091\n",
            "Epoch 217/500\n",
            "2/2 [==============================] - 0s 6ms/step - loss: 3.9770 - mae: 3.9770\n",
            "Epoch 218/500\n",
            "2/2 [==============================] - 0s 8ms/step - loss: 4.2418 - mae: 4.2418\n",
            "Epoch 219/500\n",
            "2/2 [==============================] - 0s 6ms/step - loss: 4.4654 - mae: 4.4654\n",
            "Epoch 220/500\n",
            "2/2 [==============================] - 0s 10ms/step - loss: 4.4191 - mae: 4.4191\n",
            "Epoch 221/500\n",
            "2/2 [==============================] - 0s 6ms/step - loss: 7.8803 - mae: 7.8803\n",
            "Epoch 222/500\n",
            "2/2 [==============================] - 0s 6ms/step - loss: 5.5434 - mae: 5.5434\n",
            "Epoch 223/500\n",
            "2/2 [==============================] - 0s 6ms/step - loss: 4.8647 - mae: 4.8647\n",
            "Epoch 224/500\n",
            "2/2 [==============================] - 0s 5ms/step - loss: 4.2583 - mae: 4.2583\n",
            "Epoch 225/500\n",
            "2/2 [==============================] - 0s 6ms/step - loss: 4.8982 - mae: 4.8982\n",
            "Epoch 226/500\n",
            "2/2 [==============================] - 0s 6ms/step - loss: 4.1084 - mae: 4.1084\n",
            "Epoch 227/500\n",
            "2/2 [==============================] - 0s 9ms/step - loss: 4.0718 - mae: 4.0718\n",
            "Epoch 228/500\n",
            "2/2 [==============================] - 0s 6ms/step - loss: 4.0751 - mae: 4.0751\n",
            "Epoch 229/500\n",
            "2/2 [==============================] - 0s 6ms/step - loss: 4.0422 - mae: 4.0422\n",
            "Epoch 230/500\n",
            "2/2 [==============================] - 0s 6ms/step - loss: 4.1294 - mae: 4.1294\n",
            "Epoch 231/500\n",
            "2/2 [==============================] - 0s 6ms/step - loss: 4.2204 - mae: 4.2204\n",
            "Epoch 232/500\n",
            "2/2 [==============================] - 0s 6ms/step - loss: 4.2246 - mae: 4.2246\n",
            "Epoch 233/500\n",
            "2/2 [==============================] - 0s 8ms/step - loss: 6.4869 - mae: 6.4869\n",
            "Epoch 234/500\n",
            "2/2 [==============================] - 0s 6ms/step - loss: 4.0735 - mae: 4.0735\n",
            "Epoch 235/500\n",
            "2/2 [==============================] - 0s 11ms/step - loss: 5.0225 - mae: 5.0225\n",
            "Epoch 236/500\n",
            "2/2 [==============================] - 0s 8ms/step - loss: 4.1274 - mae: 4.1274\n",
            "Epoch 237/500\n",
            "2/2 [==============================] - 0s 8ms/step - loss: 4.1875 - mae: 4.1875\n",
            "Epoch 238/500\n",
            "2/2 [==============================] - 0s 9ms/step - loss: 4.2094 - mae: 4.2094\n",
            "Epoch 239/500\n",
            "2/2 [==============================] - 0s 11ms/step - loss: 5.2193 - mae: 5.2193\n",
            "Epoch 240/500\n",
            "2/2 [==============================] - 0s 10ms/step - loss: 4.2382 - mae: 4.2382\n",
            "Epoch 241/500\n",
            "2/2 [==============================] - 0s 6ms/step - loss: 4.6157 - mae: 4.6157\n",
            "Epoch 242/500\n",
            "2/2 [==============================] - 0s 6ms/step - loss: 4.9843 - mae: 4.9843\n",
            "Epoch 243/500\n",
            "2/2 [==============================] - 0s 6ms/step - loss: 4.0810 - mae: 4.0810\n",
            "Epoch 244/500\n",
            "2/2 [==============================] - 0s 8ms/step - loss: 4.4991 - mae: 4.4991\n",
            "Epoch 245/500\n",
            "2/2 [==============================] - 0s 7ms/step - loss: 4.2712 - mae: 4.2712\n",
            "Epoch 246/500\n",
            "2/2 [==============================] - 0s 10ms/step - loss: 4.1764 - mae: 4.1764\n",
            "Epoch 247/500\n",
            "2/2 [==============================] - 0s 6ms/step - loss: 5.9883 - mae: 5.9883\n",
            "Epoch 248/500\n",
            "2/2 [==============================] - 0s 9ms/step - loss: 3.9956 - mae: 3.9956\n",
            "Epoch 249/500\n",
            "2/2 [==============================] - 0s 8ms/step - loss: 4.0591 - mae: 4.0591\n",
            "Epoch 250/500\n",
            "2/2 [==============================] - 0s 6ms/step - loss: 4.4121 - mae: 4.4121\n",
            "Epoch 251/500\n",
            "2/2 [==============================] - 0s 6ms/step - loss: 4.3336 - mae: 4.3336\n",
            "Epoch 252/500\n",
            "2/2 [==============================] - 0s 6ms/step - loss: 6.5579 - mae: 6.5579\n",
            "Epoch 253/500\n",
            "2/2 [==============================] - 0s 10ms/step - loss: 4.2321 - mae: 4.2321\n",
            "Epoch 254/500\n",
            "2/2 [==============================] - 0s 6ms/step - loss: 4.7728 - mae: 4.7728\n",
            "Epoch 255/500\n",
            "2/2 [==============================] - 0s 8ms/step - loss: 4.1815 - mae: 4.1815\n",
            "Epoch 256/500\n",
            "2/2 [==============================] - 0s 10ms/step - loss: 4.7995 - mae: 4.7995\n",
            "Epoch 257/500\n",
            "2/2 [==============================] - 0s 7ms/step - loss: 4.1042 - mae: 4.1042\n",
            "Epoch 258/500\n",
            "2/2 [==============================] - 0s 12ms/step - loss: 3.9721 - mae: 3.9721\n",
            "Epoch 259/500\n",
            "2/2 [==============================] - 0s 7ms/step - loss: 5.1683 - mae: 5.1683\n",
            "Epoch 260/500\n",
            "2/2 [==============================] - 0s 8ms/step - loss: 5.1542 - mae: 5.1542\n",
            "Epoch 261/500\n",
            "2/2 [==============================] - 0s 7ms/step - loss: 4.0262 - mae: 4.0262\n",
            "Epoch 262/500\n",
            "2/2 [==============================] - 0s 7ms/step - loss: 4.3515 - mae: 4.3515\n",
            "Epoch 263/500\n",
            "2/2 [==============================] - 0s 7ms/step - loss: 3.9967 - mae: 3.9967\n",
            "Epoch 264/500\n",
            "2/2 [==============================] - 0s 8ms/step - loss: 5.3355 - mae: 5.3355\n",
            "Epoch 265/500\n",
            "2/2 [==============================] - 0s 6ms/step - loss: 4.4072 - mae: 4.4072\n",
            "Epoch 266/500\n",
            "2/2 [==============================] - 0s 6ms/step - loss: 4.2634 - mae: 4.2634\n",
            "Epoch 267/500\n",
            "2/2 [==============================] - 0s 8ms/step - loss: 4.1646 - mae: 4.1646\n",
            "Epoch 268/500\n",
            "2/2 [==============================] - 0s 6ms/step - loss: 4.7980 - mae: 4.7980\n",
            "Epoch 269/500\n",
            "2/2 [==============================] - 0s 6ms/step - loss: 5.8825 - mae: 5.8825\n",
            "Epoch 270/500\n",
            "2/2 [==============================] - 0s 6ms/step - loss: 4.0446 - mae: 4.0446\n",
            "Epoch 271/500\n",
            "2/2 [==============================] - 0s 8ms/step - loss: 4.1517 - mae: 4.1517\n",
            "Epoch 272/500\n",
            "2/2 [==============================] - 0s 7ms/step - loss: 5.8118 - mae: 5.8118\n",
            "Epoch 273/500\n",
            "2/2 [==============================] - 0s 6ms/step - loss: 4.8998 - mae: 4.8998\n",
            "Epoch 274/500\n",
            "2/2 [==============================] - 0s 6ms/step - loss: 4.4111 - mae: 4.4111\n",
            "Epoch 275/500\n",
            "2/2 [==============================] - 0s 10ms/step - loss: 5.9898 - mae: 5.9898\n",
            "Epoch 276/500\n",
            "2/2 [==============================] - 0s 6ms/step - loss: 4.2126 - mae: 4.2126\n",
            "Epoch 277/500\n",
            "2/2 [==============================] - 0s 6ms/step - loss: 6.7298 - mae: 6.7298\n",
            "Epoch 278/500\n",
            "2/2 [==============================] - 0s 8ms/step - loss: 4.1728 - mae: 4.1728\n",
            "Epoch 279/500\n",
            "2/2 [==============================] - 0s 7ms/step - loss: 4.1194 - mae: 4.1194\n",
            "Epoch 280/500\n",
            "2/2 [==============================] - 0s 6ms/step - loss: 6.1458 - mae: 6.1458\n",
            "Epoch 281/500\n",
            "2/2 [==============================] - 0s 7ms/step - loss: 4.1929 - mae: 4.1929\n",
            "Epoch 282/500\n",
            "2/2 [==============================] - 0s 7ms/step - loss: 4.0599 - mae: 4.0599\n",
            "Epoch 283/500\n",
            "2/2 [==============================] - 0s 6ms/step - loss: 3.9610 - mae: 3.9610\n",
            "Epoch 284/500\n",
            "2/2 [==============================] - 0s 9ms/step - loss: 5.0811 - mae: 5.0811\n",
            "Epoch 285/500\n",
            "2/2 [==============================] - 0s 9ms/step - loss: 3.8844 - mae: 3.8844\n",
            "Epoch 286/500\n",
            "2/2 [==============================] - 0s 7ms/step - loss: 4.5796 - mae: 4.5796\n",
            "Epoch 287/500\n",
            "2/2 [==============================] - 0s 6ms/step - loss: 4.0596 - mae: 4.0596\n",
            "Epoch 288/500\n",
            "2/2 [==============================] - 0s 7ms/step - loss: 4.0605 - mae: 4.0605\n",
            "Epoch 289/500\n",
            "2/2 [==============================] - 0s 6ms/step - loss: 4.0408 - mae: 4.0408\n",
            "Epoch 290/500\n",
            "2/2 [==============================] - 0s 6ms/step - loss: 3.9592 - mae: 3.9592\n",
            "Epoch 291/500\n",
            "2/2 [==============================] - 0s 8ms/step - loss: 5.0357 - mae: 5.0357\n",
            "Epoch 292/500\n",
            "2/2 [==============================] - 0s 9ms/step - loss: 3.9645 - mae: 3.9645\n",
            "Epoch 293/500\n",
            "2/2 [==============================] - 0s 10ms/step - loss: 4.0772 - mae: 4.0772\n",
            "Epoch 294/500\n",
            "2/2 [==============================] - 0s 6ms/step - loss: 5.8968 - mae: 5.8968\n",
            "Epoch 295/500\n",
            "2/2 [==============================] - 0s 6ms/step - loss: 4.5584 - mae: 4.5584\n",
            "Epoch 296/500\n",
            "2/2 [==============================] - 0s 6ms/step - loss: 4.4274 - mae: 4.4274\n",
            "Epoch 297/500\n",
            "2/2 [==============================] - 0s 6ms/step - loss: 4.0765 - mae: 4.0765\n",
            "Epoch 298/500\n",
            "2/2 [==============================] - 0s 6ms/step - loss: 5.2029 - mae: 5.2029\n",
            "Epoch 299/500\n",
            "2/2 [==============================] - 0s 6ms/step - loss: 4.9600 - mae: 4.9600\n",
            "Epoch 300/500\n",
            "2/2 [==============================] - 0s 6ms/step - loss: 3.9817 - mae: 3.9817\n",
            "Epoch 301/500\n",
            "2/2 [==============================] - 0s 8ms/step - loss: 4.3819 - mae: 4.3819\n",
            "Epoch 302/500\n",
            "2/2 [==============================] - 0s 8ms/step - loss: 4.5755 - mae: 4.5755\n",
            "Epoch 303/500\n",
            "2/2 [==============================] - 0s 6ms/step - loss: 4.1236 - mae: 4.1236\n",
            "Epoch 304/500\n",
            "2/2 [==============================] - 0s 8ms/step - loss: 4.1160 - mae: 4.1160\n",
            "Epoch 305/500\n",
            "2/2 [==============================] - 0s 7ms/step - loss: 4.2891 - mae: 4.2891\n",
            "Epoch 306/500\n",
            "2/2 [==============================] - 0s 9ms/step - loss: 4.4017 - mae: 4.4017\n",
            "Epoch 307/500\n",
            "2/2 [==============================] - 0s 7ms/step - loss: 4.0781 - mae: 4.0781\n",
            "Epoch 308/500\n",
            "2/2 [==============================] - 0s 6ms/step - loss: 4.1314 - mae: 4.1314\n",
            "Epoch 309/500\n",
            "2/2 [==============================] - 0s 6ms/step - loss: 4.4546 - mae: 4.4546\n",
            "Epoch 310/500\n",
            "2/2 [==============================] - 0s 6ms/step - loss: 4.0053 - mae: 4.0053\n",
            "Epoch 311/500\n",
            "2/2 [==============================] - 0s 8ms/step - loss: 3.9843 - mae: 3.9843\n",
            "Epoch 312/500\n",
            "2/2 [==============================] - 0s 7ms/step - loss: 4.1028 - mae: 4.1028\n",
            "Epoch 313/500\n",
            "2/2 [==============================] - 0s 6ms/step - loss: 4.3624 - mae: 4.3624\n",
            "Epoch 314/500\n",
            "2/2 [==============================] - 0s 8ms/step - loss: 4.1855 - mae: 4.1855\n",
            "Epoch 315/500\n",
            "2/2 [==============================] - 0s 6ms/step - loss: 6.3859 - mae: 6.3859\n",
            "Epoch 316/500\n",
            "2/2 [==============================] - 0s 6ms/step - loss: 3.9934 - mae: 3.9934\n",
            "Epoch 317/500\n",
            "2/2 [==============================] - 0s 6ms/step - loss: 5.6776 - mae: 5.6776\n",
            "Epoch 318/500\n",
            "2/2 [==============================] - 0s 6ms/step - loss: 4.9177 - mae: 4.9177\n",
            "Epoch 319/500\n",
            "2/2 [==============================] - 0s 6ms/step - loss: 4.3067 - mae: 4.3067\n",
            "Epoch 320/500\n",
            "2/2 [==============================] - 0s 6ms/step - loss: 4.6067 - mae: 4.6067\n",
            "Epoch 321/500\n",
            "2/2 [==============================] - 0s 8ms/step - loss: 3.9376 - mae: 3.9376\n",
            "Epoch 322/500\n",
            "2/2 [==============================] - 0s 8ms/step - loss: 3.9390 - mae: 3.9390\n",
            "Epoch 323/500\n",
            "2/2 [==============================] - 0s 8ms/step - loss: 4.1611 - mae: 4.1611\n",
            "Epoch 324/500\n",
            "2/2 [==============================] - 0s 6ms/step - loss: 4.3957 - mae: 4.3957\n",
            "Epoch 325/500\n",
            "2/2 [==============================] - 0s 6ms/step - loss: 3.9962 - mae: 3.9962\n",
            "Epoch 326/500\n",
            "2/2 [==============================] - 0s 8ms/step - loss: 4.4903 - mae: 4.4903\n",
            "Epoch 327/500\n",
            "2/2 [==============================] - 0s 6ms/step - loss: 3.9434 - mae: 3.9434\n",
            "Epoch 328/500\n",
            "2/2 [==============================] - 0s 6ms/step - loss: 4.1643 - mae: 4.1643\n",
            "Epoch 329/500\n",
            "2/2 [==============================] - 0s 8ms/step - loss: 4.0494 - mae: 4.0494\n",
            "Epoch 330/500\n",
            "2/2 [==============================] - 0s 6ms/step - loss: 4.1540 - mae: 4.1540\n",
            "Epoch 331/500\n",
            "2/2 [==============================] - 0s 8ms/step - loss: 5.2872 - mae: 5.2872\n",
            "Epoch 332/500\n",
            "2/2 [==============================] - 0s 6ms/step - loss: 4.0763 - mae: 4.0763\n",
            "Epoch 333/500\n",
            "2/2 [==============================] - 0s 9ms/step - loss: 5.3663 - mae: 5.3663\n",
            "Epoch 334/500\n",
            "2/2 [==============================] - 0s 8ms/step - loss: 3.9473 - mae: 3.9473\n",
            "Epoch 335/500\n",
            "2/2 [==============================] - 0s 6ms/step - loss: 4.3663 - mae: 4.3663\n",
            "Epoch 336/500\n",
            "2/2 [==============================] - 0s 8ms/step - loss: 7.8977 - mae: 7.8977\n",
            "Epoch 337/500\n",
            "2/2 [==============================] - 0s 6ms/step - loss: 4.9919 - mae: 4.9919\n",
            "Epoch 338/500\n",
            "2/2 [==============================] - 0s 6ms/step - loss: 3.9317 - mae: 3.9317\n",
            "Epoch 339/500\n",
            "2/2 [==============================] - 0s 6ms/step - loss: 4.6336 - mae: 4.6336\n",
            "Epoch 340/500\n",
            "2/2 [==============================] - 0s 8ms/step - loss: 4.0619 - mae: 4.0619\n",
            "Epoch 341/500\n",
            "2/2 [==============================] - 0s 6ms/step - loss: 4.0478 - mae: 4.0478\n",
            "Epoch 342/500\n",
            "2/2 [==============================] - 0s 6ms/step - loss: 4.0377 - mae: 4.0377\n",
            "Epoch 343/500\n",
            "2/2 [==============================] - 0s 6ms/step - loss: 4.0757 - mae: 4.0757\n",
            "Epoch 344/500\n",
            "2/2 [==============================] - 0s 6ms/step - loss: 4.0301 - mae: 4.0301\n",
            "Epoch 345/500\n",
            "2/2 [==============================] - 0s 6ms/step - loss: 4.2654 - mae: 4.2654\n",
            "Epoch 346/500\n",
            "2/2 [==============================] - 0s 6ms/step - loss: 4.5684 - mae: 4.5684\n",
            "Epoch 347/500\n",
            "2/2 [==============================] - 0s 6ms/step - loss: 5.0689 - mae: 5.0689\n",
            "Epoch 348/500\n",
            "2/2 [==============================] - 0s 6ms/step - loss: 3.9573 - mae: 3.9573\n",
            "Epoch 349/500\n",
            "2/2 [==============================] - 0s 6ms/step - loss: 3.9373 - mae: 3.9373\n",
            "Epoch 350/500\n",
            "2/2 [==============================] - 0s 6ms/step - loss: 4.0178 - mae: 4.0178\n",
            "Epoch 351/500\n",
            "2/2 [==============================] - 0s 6ms/step - loss: 5.4350 - mae: 5.4350\n",
            "Epoch 352/500\n",
            "2/2 [==============================] - 0s 6ms/step - loss: 4.4204 - mae: 4.4204\n",
            "Epoch 353/500\n",
            "2/2 [==============================] - 0s 6ms/step - loss: 4.5742 - mae: 4.5742\n",
            "Epoch 354/500\n",
            "2/2 [==============================] - 0s 6ms/step - loss: 4.1476 - mae: 4.1476\n",
            "Epoch 355/500\n",
            "2/2 [==============================] - 0s 8ms/step - loss: 5.4397 - mae: 5.4397\n",
            "Epoch 356/500\n",
            "2/2 [==============================] - 0s 9ms/step - loss: 4.4023 - mae: 4.4023\n",
            "Epoch 357/500\n",
            "2/2 [==============================] - 0s 6ms/step - loss: 4.4802 - mae: 4.4802\n",
            "Epoch 358/500\n",
            "2/2 [==============================] - 0s 5ms/step - loss: 3.9558 - mae: 3.9558\n",
            "Epoch 359/500\n",
            "2/2 [==============================] - 0s 6ms/step - loss: 4.0329 - mae: 4.0329\n",
            "Epoch 360/500\n",
            "2/2 [==============================] - 0s 9ms/step - loss: 6.0405 - mae: 6.0405\n",
            "Epoch 361/500\n",
            "2/2 [==============================] - 0s 6ms/step - loss: 3.9744 - mae: 3.9744\n",
            "Epoch 362/500\n",
            "2/2 [==============================] - 0s 6ms/step - loss: 4.9668 - mae: 4.9668\n",
            "Epoch 363/500\n",
            "2/2 [==============================] - 0s 6ms/step - loss: 5.0813 - mae: 5.0813\n",
            "Epoch 364/500\n",
            "2/2 [==============================] - 0s 10ms/step - loss: 5.3316 - mae: 5.3316\n",
            "Epoch 365/500\n",
            "2/2 [==============================] - 0s 7ms/step - loss: 3.8915 - mae: 3.8915\n",
            "Epoch 366/500\n",
            "2/2 [==============================] - 0s 6ms/step - loss: 4.0054 - mae: 4.0054\n",
            "Epoch 367/500\n",
            "2/2 [==============================] - 0s 6ms/step - loss: 5.4914 - mae: 5.4914\n",
            "Epoch 368/500\n",
            "2/2 [==============================] - 0s 6ms/step - loss: 3.9199 - mae: 3.9199\n",
            "Epoch 369/500\n",
            "2/2 [==============================] - 0s 7ms/step - loss: 3.8984 - mae: 3.8984\n",
            "Epoch 370/500\n",
            "2/2 [==============================] - 0s 6ms/step - loss: 4.0613 - mae: 4.0613\n",
            "Epoch 371/500\n",
            "2/2 [==============================] - 0s 6ms/step - loss: 4.0676 - mae: 4.0676\n",
            "Epoch 372/500\n",
            "2/2 [==============================] - 0s 6ms/step - loss: 3.9807 - mae: 3.9807\n",
            "Epoch 373/500\n",
            "2/2 [==============================] - 0s 7ms/step - loss: 3.9748 - mae: 3.9748\n",
            "Epoch 374/500\n",
            "2/2 [==============================] - 0s 9ms/step - loss: 4.8403 - mae: 4.8403\n",
            "Epoch 375/500\n",
            "2/2 [==============================] - 0s 10ms/step - loss: 4.5485 - mae: 4.5485\n",
            "Epoch 376/500\n",
            "2/2 [==============================] - 0s 6ms/step - loss: 4.0872 - mae: 4.0872\n",
            "Epoch 377/500\n",
            "2/2 [==============================] - 0s 9ms/step - loss: 4.1533 - mae: 4.1533\n",
            "Epoch 378/500\n",
            "2/2 [==============================] - 0s 6ms/step - loss: 3.9757 - mae: 3.9757\n",
            "Epoch 379/500\n",
            "2/2 [==============================] - 0s 8ms/step - loss: 4.7989 - mae: 4.7989\n",
            "Epoch 380/500\n",
            "2/2 [==============================] - 0s 6ms/step - loss: 5.2868 - mae: 5.2868\n",
            "Epoch 381/500\n",
            "2/2 [==============================] - 0s 8ms/step - loss: 3.8935 - mae: 3.8935\n",
            "Epoch 382/500\n",
            "2/2 [==============================] - 0s 6ms/step - loss: 4.0316 - mae: 4.0316\n",
            "Epoch 383/500\n",
            "2/2 [==============================] - 0s 6ms/step - loss: 4.1308 - mae: 4.1308\n",
            "Epoch 384/500\n",
            "2/2 [==============================] - 0s 6ms/step - loss: 4.1068 - mae: 4.1068\n",
            "Epoch 385/500\n",
            "2/2 [==============================] - 0s 6ms/step - loss: 3.9260 - mae: 3.9260\n",
            "Epoch 386/500\n",
            "2/2 [==============================] - 0s 6ms/step - loss: 3.9979 - mae: 3.9979\n",
            "Epoch 387/500\n",
            "2/2 [==============================] - 0s 8ms/step - loss: 4.7651 - mae: 4.7651\n",
            "Epoch 388/500\n",
            "2/2 [==============================] - 0s 6ms/step - loss: 3.9589 - mae: 3.9589\n",
            "Epoch 389/500\n",
            "2/2 [==============================] - 0s 7ms/step - loss: 4.3096 - mae: 4.3096\n",
            "Epoch 390/500\n",
            "2/2 [==============================] - 0s 6ms/step - loss: 5.7399 - mae: 5.7399\n",
            "Epoch 391/500\n",
            "2/2 [==============================] - 0s 11ms/step - loss: 3.9885 - mae: 3.9885\n",
            "Epoch 392/500\n",
            "2/2 [==============================] - 0s 10ms/step - loss: 5.4684 - mae: 5.4684\n",
            "Epoch 393/500\n",
            "2/2 [==============================] - 0s 10ms/step - loss: 4.7567 - mae: 4.7567\n",
            "Epoch 394/500\n",
            "2/2 [==============================] - 0s 7ms/step - loss: 3.8443 - mae: 3.8443\n",
            "Epoch 395/500\n",
            "2/2 [==============================] - 0s 10ms/step - loss: 3.9085 - mae: 3.9085\n",
            "Epoch 396/500\n",
            "2/2 [==============================] - 0s 10ms/step - loss: 4.2800 - mae: 4.2800\n",
            "Epoch 397/500\n",
            "2/2 [==============================] - 0s 10ms/step - loss: 4.3638 - mae: 4.3638\n",
            "Epoch 398/500\n",
            "2/2 [==============================] - 0s 11ms/step - loss: 3.9512 - mae: 3.9512\n",
            "Epoch 399/500\n",
            "2/2 [==============================] - 0s 8ms/step - loss: 4.0158 - mae: 4.0158\n",
            "Epoch 400/500\n",
            "2/2 [==============================] - 0s 9ms/step - loss: 4.2886 - mae: 4.2886\n",
            "Epoch 401/500\n",
            "2/2 [==============================] - 0s 11ms/step - loss: 4.2826 - mae: 4.2826\n",
            "Epoch 402/500\n",
            "2/2 [==============================] - 0s 6ms/step - loss: 3.9490 - mae: 3.9490\n",
            "Epoch 403/500\n",
            "2/2 [==============================] - 0s 8ms/step - loss: 4.5180 - mae: 4.5180\n",
            "Epoch 404/500\n",
            "2/2 [==============================] - 0s 7ms/step - loss: 3.9228 - mae: 3.9228\n",
            "Epoch 405/500\n",
            "2/2 [==============================] - 0s 7ms/step - loss: 5.3551 - mae: 5.3551\n",
            "Epoch 406/500\n",
            "2/2 [==============================] - 0s 7ms/step - loss: 4.2436 - mae: 4.2436\n",
            "Epoch 407/500\n",
            "2/2 [==============================] - 0s 7ms/step - loss: 4.2562 - mae: 4.2562\n",
            "Epoch 408/500\n",
            "2/2 [==============================] - 0s 6ms/step - loss: 3.8572 - mae: 3.8572\n",
            "Epoch 409/500\n",
            "2/2 [==============================] - 0s 6ms/step - loss: 4.3227 - mae: 4.3227\n",
            "Epoch 410/500\n",
            "2/2 [==============================] - 0s 6ms/step - loss: 4.4191 - mae: 4.4191\n",
            "Epoch 411/500\n",
            "2/2 [==============================] - 0s 6ms/step - loss: 4.3141 - mae: 4.3141\n",
            "Epoch 412/500\n",
            "2/2 [==============================] - 0s 9ms/step - loss: 4.3465 - mae: 4.3465\n",
            "Epoch 413/500\n",
            "2/2 [==============================] - 0s 9ms/step - loss: 4.0295 - mae: 4.0295\n",
            "Epoch 414/500\n",
            "2/2 [==============================] - 0s 8ms/step - loss: 5.3626 - mae: 5.3626\n",
            "Epoch 415/500\n",
            "2/2 [==============================] - 0s 8ms/step - loss: 4.2418 - mae: 4.2418\n",
            "Epoch 416/500\n",
            "2/2 [==============================] - 0s 7ms/step - loss: 5.3838 - mae: 5.3838\n",
            "Epoch 417/500\n",
            "2/2 [==============================] - 0s 9ms/step - loss: 4.3968 - mae: 4.3968\n",
            "Epoch 418/500\n",
            "2/2 [==============================] - 0s 7ms/step - loss: 4.2786 - mae: 4.2786\n",
            "Epoch 419/500\n",
            "2/2 [==============================] - 0s 6ms/step - loss: 4.6021 - mae: 4.6021\n",
            "Epoch 420/500\n",
            "2/2 [==============================] - 0s 6ms/step - loss: 4.5142 - mae: 4.5142\n",
            "Epoch 421/500\n",
            "2/2 [==============================] - 0s 7ms/step - loss: 3.8745 - mae: 3.8745\n",
            "Epoch 422/500\n",
            "2/2 [==============================] - 0s 7ms/step - loss: 3.9102 - mae: 3.9102\n",
            "Epoch 423/500\n",
            "2/2 [==============================] - 0s 7ms/step - loss: 3.8556 - mae: 3.8556\n",
            "Epoch 424/500\n",
            "2/2 [==============================] - 0s 7ms/step - loss: 4.8821 - mae: 4.8821\n",
            "Epoch 425/500\n",
            "2/2 [==============================] - 0s 8ms/step - loss: 4.9944 - mae: 4.9944\n",
            "Epoch 426/500\n",
            "2/2 [==============================] - 0s 6ms/step - loss: 3.9542 - mae: 3.9542\n",
            "Epoch 427/500\n",
            "2/2 [==============================] - 0s 8ms/step - loss: 3.9596 - mae: 3.9596\n",
            "Epoch 428/500\n",
            "2/2 [==============================] - 0s 8ms/step - loss: 3.8996 - mae: 3.8996\n",
            "Epoch 429/500\n",
            "2/2 [==============================] - 0s 11ms/step - loss: 4.4949 - mae: 4.4949\n",
            "Epoch 430/500\n",
            "2/2 [==============================] - 0s 10ms/step - loss: 3.9272 - mae: 3.9272\n",
            "Epoch 431/500\n",
            "2/2 [==============================] - 0s 8ms/step - loss: 5.9531 - mae: 5.9531\n",
            "Epoch 432/500\n",
            "2/2 [==============================] - 0s 8ms/step - loss: 5.4880 - mae: 5.4880\n",
            "Epoch 433/500\n",
            "2/2 [==============================] - 0s 11ms/step - loss: 4.7659 - mae: 4.7659\n",
            "Epoch 434/500\n",
            "2/2 [==============================] - 0s 7ms/step - loss: 5.7207 - mae: 5.7207\n",
            "Epoch 435/500\n",
            "2/2 [==============================] - 0s 8ms/step - loss: 4.0935 - mae: 4.0935\n",
            "Epoch 436/500\n",
            "2/2 [==============================] - 0s 9ms/step - loss: 4.7015 - mae: 4.7015\n",
            "Epoch 437/500\n",
            "2/2 [==============================] - 0s 13ms/step - loss: 4.7137 - mae: 4.7137\n",
            "Epoch 438/500\n",
            "2/2 [==============================] - 0s 11ms/step - loss: 4.0040 - mae: 4.0040\n",
            "Epoch 439/500\n",
            "2/2 [==============================] - 0s 8ms/step - loss: 6.2491 - mae: 6.2491\n",
            "Epoch 440/500\n",
            "2/2 [==============================] - 0s 11ms/step - loss: 4.4950 - mae: 4.4950\n",
            "Epoch 441/500\n",
            "2/2 [==============================] - 0s 7ms/step - loss: 3.9647 - mae: 3.9647\n",
            "Epoch 442/500\n",
            "2/2 [==============================] - 0s 7ms/step - loss: 4.4114 - mae: 4.4114\n",
            "Epoch 443/500\n",
            "2/2 [==============================] - 0s 7ms/step - loss: 4.0399 - mae: 4.0399\n",
            "Epoch 444/500\n",
            "2/2 [==============================] - 0s 8ms/step - loss: 5.1104 - mae: 5.1104\n",
            "Epoch 445/500\n",
            "2/2 [==============================] - 0s 9ms/step - loss: 4.2461 - mae: 4.2461\n",
            "Epoch 446/500\n",
            "2/2 [==============================] - 0s 7ms/step - loss: 5.1502 - mae: 5.1502\n",
            "Epoch 447/500\n",
            "2/2 [==============================] - 0s 10ms/step - loss: 3.8349 - mae: 3.8349\n",
            "Epoch 448/500\n",
            "2/2 [==============================] - 0s 8ms/step - loss: 4.4818 - mae: 4.4818\n",
            "Epoch 449/500\n",
            "2/2 [==============================] - 0s 8ms/step - loss: 3.8786 - mae: 3.8786\n",
            "Epoch 450/500\n",
            "2/2 [==============================] - 0s 7ms/step - loss: 4.1178 - mae: 4.1178\n",
            "Epoch 451/500\n",
            "2/2 [==============================] - 0s 7ms/step - loss: 4.5798 - mae: 4.5798\n",
            "Epoch 452/500\n",
            "2/2 [==============================] - 0s 11ms/step - loss: 5.0838 - mae: 5.0838\n",
            "Epoch 453/500\n",
            "2/2 [==============================] - 0s 7ms/step - loss: 4.1066 - mae: 4.1066\n",
            "Epoch 454/500\n",
            "2/2 [==============================] - 0s 9ms/step - loss: 5.5401 - mae: 5.5401\n",
            "Epoch 455/500\n",
            "2/2 [==============================] - 0s 9ms/step - loss: 3.8492 - mae: 3.8492\n",
            "Epoch 456/500\n",
            "2/2 [==============================] - 0s 7ms/step - loss: 4.4675 - mae: 4.4675\n",
            "Epoch 457/500\n",
            "2/2 [==============================] - 0s 9ms/step - loss: 3.9268 - mae: 3.9268\n",
            "Epoch 458/500\n",
            "2/2 [==============================] - 0s 8ms/step - loss: 4.4750 - mae: 4.4750\n",
            "Epoch 459/500\n",
            "2/2 [==============================] - 0s 10ms/step - loss: 4.2017 - mae: 4.2017\n",
            "Epoch 460/500\n",
            "2/2 [==============================] - 0s 7ms/step - loss: 4.3001 - mae: 4.3001\n",
            "Epoch 461/500\n",
            "2/2 [==============================] - 0s 8ms/step - loss: 3.8286 - mae: 3.8286\n",
            "Epoch 462/500\n",
            "2/2 [==============================] - 0s 7ms/step - loss: 4.3714 - mae: 4.3714\n",
            "Epoch 463/500\n",
            "2/2 [==============================] - 0s 9ms/step - loss: 5.2218 - mae: 5.2218\n",
            "Epoch 464/500\n",
            "2/2 [==============================] - 0s 7ms/step - loss: 3.8335 - mae: 3.8335\n",
            "Epoch 465/500\n",
            "2/2 [==============================] - 0s 7ms/step - loss: 4.0285 - mae: 4.0285\n",
            "Epoch 466/500\n",
            "2/2 [==============================] - 0s 7ms/step - loss: 4.5360 - mae: 4.5360\n",
            "Epoch 467/500\n",
            "2/2 [==============================] - 0s 6ms/step - loss: 4.3284 - mae: 4.3284\n",
            "Epoch 468/500\n",
            "2/2 [==============================] - 0s 7ms/step - loss: 4.0631 - mae: 4.0631\n",
            "Epoch 469/500\n",
            "2/2 [==============================] - 0s 7ms/step - loss: 4.5625 - mae: 4.5625\n",
            "Epoch 470/500\n",
            "2/2 [==============================] - 0s 7ms/step - loss: 3.9512 - mae: 3.9512\n",
            "Epoch 471/500\n",
            "2/2 [==============================] - 0s 8ms/step - loss: 4.8591 - mae: 4.8591\n",
            "Epoch 472/500\n",
            "2/2 [==============================] - 0s 9ms/step - loss: 4.2355 - mae: 4.2355\n",
            "Epoch 473/500\n",
            "2/2 [==============================] - 0s 7ms/step - loss: 3.9964 - mae: 3.9964\n",
            "Epoch 474/500\n",
            "2/2 [==============================] - 0s 8ms/step - loss: 4.4476 - mae: 4.4476\n",
            "Epoch 475/500\n",
            "2/2 [==============================] - 0s 7ms/step - loss: 3.8267 - mae: 3.8267\n",
            "Epoch 476/500\n",
            "2/2 [==============================] - 0s 7ms/step - loss: 3.9916 - mae: 3.9916\n",
            "Epoch 477/500\n",
            "2/2 [==============================] - 0s 10ms/step - loss: 5.3605 - mae: 5.3605\n",
            "Epoch 478/500\n",
            "2/2 [==============================] - 0s 9ms/step - loss: 3.8156 - mae: 3.8156\n",
            "Epoch 479/500\n",
            "2/2 [==============================] - 0s 8ms/step - loss: 3.8760 - mae: 3.8760\n",
            "Epoch 480/500\n",
            "2/2 [==============================] - 0s 8ms/step - loss: 4.7265 - mae: 4.7265\n",
            "Epoch 481/500\n",
            "2/2 [==============================] - 0s 7ms/step - loss: 3.9149 - mae: 3.9149\n",
            "Epoch 482/500\n",
            "2/2 [==============================] - 0s 7ms/step - loss: 3.8753 - mae: 3.8753\n",
            "Epoch 483/500\n",
            "2/2 [==============================] - 0s 6ms/step - loss: 4.0416 - mae: 4.0416\n",
            "Epoch 484/500\n",
            "2/2 [==============================] - 0s 8ms/step - loss: 4.9857 - mae: 4.9857\n",
            "Epoch 485/500\n",
            "2/2 [==============================] - 0s 8ms/step - loss: 3.8162 - mae: 3.8162\n",
            "Epoch 486/500\n",
            "2/2 [==============================] - 0s 10ms/step - loss: 3.8200 - mae: 3.8200\n",
            "Epoch 487/500\n",
            "2/2 [==============================] - 0s 9ms/step - loss: 3.9611 - mae: 3.9611\n",
            "Epoch 488/500\n",
            "2/2 [==============================] - 0s 13ms/step - loss: 6.8790 - mae: 6.8790\n",
            "Epoch 489/500\n",
            "2/2 [==============================] - 0s 8ms/step - loss: 4.0599 - mae: 4.0599\n",
            "Epoch 490/500\n",
            "2/2 [==============================] - 0s 10ms/step - loss: 3.9682 - mae: 3.9682\n",
            "Epoch 491/500\n",
            "2/2 [==============================] - 0s 11ms/step - loss: 4.3843 - mae: 4.3843\n",
            "Epoch 492/500\n",
            "2/2 [==============================] - 0s 8ms/step - loss: 3.8077 - mae: 3.8077\n",
            "Epoch 493/500\n",
            "2/2 [==============================] - 0s 7ms/step - loss: 4.0175 - mae: 4.0175\n",
            "Epoch 494/500\n",
            "2/2 [==============================] - 0s 6ms/step - loss: 3.9317 - mae: 3.9317\n",
            "Epoch 495/500\n",
            "2/2 [==============================] - 0s 6ms/step - loss: 3.9349 - mae: 3.9349\n",
            "Epoch 496/500\n",
            "2/2 [==============================] - 0s 6ms/step - loss: 3.9872 - mae: 3.9872\n",
            "Epoch 497/500\n",
            "2/2 [==============================] - 0s 6ms/step - loss: 3.8832 - mae: 3.8832\n",
            "Epoch 498/500\n",
            "2/2 [==============================] - 0s 6ms/step - loss: 4.6980 - mae: 4.6980\n",
            "Epoch 499/500\n",
            "2/2 [==============================] - 0s 6ms/step - loss: 3.8706 - mae: 3.8706\n",
            "Epoch 500/500\n",
            "2/2 [==============================] - 0s 6ms/step - loss: 4.2261 - mae: 4.2261\n"
          ]
        },
        {
          "output_type": "execute_result",
          "data": {
            "text/plain": [
              "<keras.src.callbacks.History at 0x790ffbb77df0>"
            ]
          },
          "metadata": {},
          "execution_count": 102
        }
      ]
    },
    {
      "cell_type": "code",
      "source": [
        "# Make and plot some predictions\n",
        "y_preds_3 = model_3.predict(tf.expand_dims(X_test, axis=-1))\n",
        "plot_predictions(train_data=X_train, train_labels=y_train,\n",
        "                 test_data=X_test, test_labels=y_test,\n",
        "                 predictions=y_preds_3)"
      ],
      "metadata": {
        "colab": {
          "base_uri": "https://localhost:8080/",
          "height": 480
        },
        "id": "cVR8EUkgjz6n",
        "outputId": "04668a15-8d04-4fc2-8e4d-f644a363e6f7"
      },
      "execution_count": 103,
      "outputs": [
        {
          "output_type": "stream",
          "name": "stdout",
          "text": [
            "1/1 [==============================] - 0s 54ms/step\n"
          ]
        },
        {
          "output_type": "display_data",
          "data": {
            "text/plain": [
              "<Figure size 1000x700 with 1 Axes>"
            ],
            "image/png": "[encoded data removed]"
          },
          "metadata": {}
        }
      ]
    },
    {
      "cell_type": "code",
      "source": [
        "# Calculate model_3 evaluation metrics\n",
        "mae_3 = mae(y_test, tf.squeeze(tf.constant(y_preds_3)))\n",
        "mse_3 = mse(y_test, tf.squeeze(tf.constant(y_preds_3)))\n",
        "mae_3, mse_3"
      ],
      "metadata": {
        "colab": {
          "base_uri": "https://localhost:8080/"
        },
        "id": "b4A1Xeeij-ol",
        "outputId": "c714ad6e-a8c0-43dd-ca7e-262cddd71f84"
      },
      "execution_count": 104,
      "outputs": [
        {
          "output_type": "execute_result",
          "data": {
            "text/plain": [
              "(<tf.Tensor: shape=(), dtype=float32, numpy=9.03522>,\n",
              " <tf.Tensor: shape=(), dtype=float32, numpy=88.777756>)"
            ]
          },
          "metadata": {},
          "execution_count": 104
        }
      ]
    },
    {
      "cell_type": "markdown",
      "source": [
        "🔑**Note:** Start with small experiments (small models) and make sure they work and scale up the complexity"
      ],
      "metadata": {
        "id": "Boyk6eJfvcMC"
      }
    },
    {
      "cell_type": "markdown",
      "source": [
        "### Comparing the results of our experiments\n",
        "\n",
        "We've run a few experiments, let's compare the results."
      ],
      "metadata": {
        "id": "6GFAzsV2k74D"
      }
    },
    {
      "cell_type": "code",
      "source": [
        "# Let's compare our model's results using a pandas DataFrame\n",
        "import pandas as pd\n",
        "\n",
        "model_results = [['model_1', mae_1.numpy(), mse_1.numpy()],\n",
        "                 ['model_2', mae_2.numpy(), mse_2.numpy()],\n",
        "                 ['model_3', mae_3.numpy(), mse_3.numpy()]]\n",
        "\n",
        "model_results = pd.DataFrame(model_results,\n",
        "                             columns=['model', 'mae', 'mse'])\n",
        "model_results"
      ],
      "metadata": {
        "id": "B39yEDTElJ6D",
        "colab": {
          "base_uri": "https://localhost:8080/",
          "height": 143
        },
        "outputId": "cffffdc4-1a94-4ae8-cf4c-3949fc037725"
      },
      "execution_count": 105,
      "outputs": [
        {
          "output_type": "execute_result",
          "data": {
            "text/plain": [
              "     model       mae        mse\n",
              "0  model_1  8.626664  80.944580\n",
              "1  model_2  8.281163  75.673386\n",
              "2  model_3  9.035220  88.777756"
            ],
            "text/html": [
              "\n",
              "  <div id=\"df-b0e3ddd5-a3b9-4e08-91c4-efa211a8d4f7\" class=\"colab-df-container\">\n",
              "    <div>\n",
              "<style scoped>\n",
              "    .dataframe tbody tr th:only-of-type {\n",
              "        vertical-align: middle;\n",
              "    }\n",
              "\n",
              "    .dataframe tbody tr th {\n",
              "        vertical-align: top;\n",
              "    }\n",
              "\n",
              "    .dataframe thead th {\n",
              "        text-align: right;\n",
              "    }\n",
              "</style>\n",
              "<table border=\"1\" class=\"dataframe\">\n",
              "  <thead>\n",
              "    <tr style=\"text-align: right;\">\n",
              "      <th></th>\n",
              "      <th>model</th>\n",
              "      <th>mae</th>\n",
              "      <th>mse</th>\n",
              "    </tr>\n",
              "  </thead>\n",
              "  <tbody>\n",
              "    <tr>\n",
              "      <th>0</th>\n",
              "      <td>model_1</td>\n",
              "      <td>8.626664</td>\n",
              "      <td>80.944580</td>\n",
              "    </tr>\n",
              "    <tr>\n",
              "      <th>1</th>\n",
              "      <td>model_2</td>\n",
              "      <td>8.281163</td>\n",
              "      <td>75.673386</td>\n",
              "    </tr>\n",
              "    <tr>\n",
              "      <th>2</th>\n",
              "      <td>model_3</td>\n",
              "      <td>9.035220</td>\n",
              "      <td>88.777756</td>\n",
              "    </tr>\n",
              "  </tbody>\n",
              "</table>\n",
              "</div>\n",
              "    <div class=\"colab-df-buttons\">\n",
              "\n",
              "  <div class=\"colab-df-container\">\n",
              "    <button class=\"colab-df-convert\" onclick=\"convertToInteractive('df-b0e3ddd5-a3b9-4e08-91c4-efa211a8d4f7')\"\n",
              "            title=\"Convert this dataframe to an interactive table.\"\n",
              "            style=\"display:none;\">\n",
              "\n",
              "  <svg xmlns=\"http://www.w3.org/2000/svg\" height=\"24px\" viewBox=\"0 -960 960 960\">\n",
              "    <path d=\"M120-120v-720h720v720H120Zm60-500h600v-160H180v160Zm220 220h160v-160H400v160Zm0 220h160v-160H400v160ZM180-400h160v-160H180v160Zm440 0h160v-160H620v160ZM180-180h160v-160H180v160Zm440 0h160v-160H620v160Z\"/>\n",
              "  </svg>\n",
              "    </button>\n",
              "\n",
              "  <style>\n",
              "    .colab-df-container {\n",
              "      display:flex;\n",
              "      gap: 12px;\n",
              "    }\n",
              "\n",
              "    .colab-df-convert {\n",
              "      background-color: #E8F0FE;\n",
              "      border: none;\n",
              "      border-radius: 50%;\n",
              "      cursor: pointer;\n",
              "      display: none;\n",
              "      fill: #1967D2;\n",
              "      height: 32px;\n",
              "      padding: 0 0 0 0;\n",
              "      width: 32px;\n",
              "    }\n",
              "\n",
              "    .colab-df-convert:hover {\n",
              "      background-color: #E2EBFA;\n",
              "      box-shadow: 0px 1px 2px rgba(60, 64, 67, 0.3), 0px 1px 3px 1px rgba(60, 64, 67, 0.15);\n",
              "      fill: #174EA6;\n",
              "    }\n",
              "\n",
              "    .colab-df-buttons div {\n",
              "      margin-bottom: 4px;\n",
              "    }\n",
              "\n",
              "    [theme=dark] .colab-df-convert {\n",
              "      background-color: #3B4455;\n",
              "      fill: #D2E3FC;\n",
              "    }\n",
              "\n",
              "    [theme=dark] .colab-df-convert:hover {\n",
              "      background-color: #434B5C;\n",
              "      box-shadow: 0px 1px 3px 1px rgba(0, 0, 0, 0.15);\n",
              "      filter: drop-shadow(0px 1px 2px rgba(0, 0, 0, 0.3));\n",
              "      fill: #FFFFFF;\n",
              "    }\n",
              "  </style>\n",
              "\n",
              "    <script>\n",
              "      const buttonEl =\n",
              "        document.querySelector('#df-b0e3ddd5-a3b9-4e08-91c4-efa211a8d4f7 button.colab-df-convert');\n",
              "      buttonEl.style.display =\n",
              "        google.colab.kernel.accessAllowed ? 'block' : 'none';\n",
              "\n",
              "      async function convertToInteractive(key) {\n",
              "        const element = document.querySelector('#df-b0e3ddd5-a3b9-4e08-91c4-efa211a8d4f7');\n",
              "        const dataTable =\n",
              "          await google.colab.kernel.invokeFunction('convertToInteractive',\n",
              "                                                    [key], {});\n",
              "        if (!dataTable) return;\n",
              "\n",
              "        const docLinkHtml = 'Like what you see? Visit the ' +\n",
              "          '<a target=\"_blank\" href=https://colab.research.google.com/notebooks/data_table.ipynb>data table notebook</a>'\n",
              "          + ' to learn more about interactive tables.';\n",
              "        element.innerHTML = '';\n",
              "        dataTable['output_type'] = 'display_data';\n",
              "        await google.colab.output.renderOutput(dataTable, element);\n",
              "        const docLink = document.createElement('div');\n",
              "        docLink.innerHTML = docLinkHtml;\n",
              "        element.appendChild(docLink);\n",
              "      }\n",
              "    </script>\n",
              "  </div>\n",
              "\n",
              "\n",
              "<div id=\"df-0e9239d2-4ecd-46fa-bbd8-127c6b83f840\">\n",
              "  <button class=\"colab-df-quickchart\" onclick=\"quickchart('df-0e9239d2-4ecd-46fa-bbd8-127c6b83f840')\"\n",
              "            title=\"Suggest charts\"\n",
              "            style=\"display:none;\">\n",
              "\n",
              "<svg xmlns=\"http://www.w3.org/2000/svg\" height=\"24px\"viewBox=\"0 0 24 24\"\n",
              "     width=\"24px\">\n",
              "    <g>\n",
              "        <path d=\"M19 3H5c-1.1 0-2 .9-2 2v14c0 1.1.9 2 2 2h14c1.1 0 2-.9 2-2V5c0-1.1-.9-2-2-2zM9 17H7v-7h2v7zm4 0h-2V7h2v10zm4 0h-2v-4h2v4z\"/>\n",
              "    </g>\n",
              "</svg>\n",
              "  </button>\n",
              "\n",
              "<style>\n",
              "  .colab-df-quickchart {\n",
              "      --bg-color: #E8F0FE;\n",
              "      --fill-color: #1967D2;\n",
              "      --hover-bg-color: #E2EBFA;\n",
              "      --hover-fill-color: #174EA6;\n",
              "      --disabled-fill-color: #AAA;\n",
              "      --disabled-bg-color: #DDD;\n",
              "  }\n",
              "\n",
              "  [theme=dark] .colab-df-quickchart {\n",
              "      --bg-color: #3B4455;\n",
              "      --fill-color: #D2E3FC;\n",
              "      --hover-bg-color: #434B5C;\n",
              "      --hover-fill-color: #FFFFFF;\n",
              "      --disabled-bg-color: #3B4455;\n",
              "      --disabled-fill-color: #666;\n",
              "  }\n",
              "\n",
              "  .colab-df-quickchart {\n",
              "    background-color: var(--bg-color);\n",
              "    border: none;\n",
              "    border-radius: 50%;\n",
              "    cursor: pointer;\n",
              "    display: none;\n",
              "    fill: var(--fill-color);\n",
              "    height: 32px;\n",
              "    padding: 0;\n",
              "    width: 32px;\n",
              "  }\n",
              "\n",
              "  .colab-df-quickchart:hover {\n",
              "    background-color: var(--hover-bg-color);\n",
              "    box-shadow: 0 1px 2px rgba(60, 64, 67, 0.3), 0 1px 3px 1px rgba(60, 64, 67, 0.15);\n",
              "    fill: var(--button-hover-fill-color);\n",
              "  }\n",
              "\n",
              "  .colab-df-quickchart-complete:disabled,\n",
              "  .colab-df-quickchart-complete:disabled:hover {\n",
              "    background-color: var(--disabled-bg-color);\n",
              "    fill: var(--disabled-fill-color);\n",
              "    box-shadow: none;\n",
              "  }\n",
              "\n",
              "  .colab-df-spinner {\n",
              "    border: 2px solid var(--fill-color);\n",
              "    border-color: transparent;\n",
              "    border-bottom-color: var(--fill-color);\n",
              "    animation:\n",
              "      spin 1s steps(1) infinite;\n",
              "  }\n",
              "\n",
              "  @keyframes spin {\n",
              "    0% {\n",
              "      border-color: transparent;\n",
              "      border-bottom-color: var(--fill-color);\n",
              "      border-left-color: var(--fill-color);\n",
              "    }\n",
              "    20% {\n",
              "      border-color: transparent;\n",
              "      border-left-color: var(--fill-color);\n",
              "      border-top-color: var(--fill-color);\n",
              "    }\n",
              "    30% {\n",
              "      border-color: transparent;\n",
              "      border-left-color: var(--fill-color);\n",
              "      border-top-color: var(--fill-color);\n",
              "      border-right-color: var(--fill-color);\n",
              "    }\n",
              "    40% {\n",
              "      border-color: transparent;\n",
              "      border-right-color: var(--fill-color);\n",
              "      border-top-color: var(--fill-color);\n",
              "    }\n",
              "    60% {\n",
              "      border-color: transparent;\n",
              "      border-right-color: var(--fill-color);\n",
              "    }\n",
              "    80% {\n",
              "      border-color: transparent;\n",
              "      border-right-color: var(--fill-color);\n",
              "      border-bottom-color: var(--fill-color);\n",
              "    }\n",
              "    90% {\n",
              "      border-color: transparent;\n",
              "      border-bottom-color: var(--fill-color);\n",
              "    }\n",
              "  }\n",
              "</style>\n",
              "\n",
              "  <script>\n",
              "    async function quickchart(key) {\n",
              "      const quickchartButtonEl =\n",
              "        document.querySelector('#' + key + ' button');\n",
              "      quickchartButtonEl.disabled = true;  // To prevent multiple clicks.\n",
              "      quickchartButtonEl.classList.add('colab-df-spinner');\n",
              "      try {\n",
              "        const charts = await google.colab.kernel.invokeFunction(\n",
              "            'suggestCharts', [key], {});\n",
              "      } catch (error) {\n",
              "        console.error('Error during call to suggestCharts:', error);\n",
              "      }\n",
              "      quickchartButtonEl.classList.remove('colab-df-spinner');\n",
              "      quickchartButtonEl.classList.add('colab-df-quickchart-complete');\n",
              "    }\n",
              "    (() => {\n",
              "      let quickchartButtonEl =\n",
              "        document.querySelector('#df-0e9239d2-4ecd-46fa-bbd8-127c6b83f840 button');\n",
              "      quickchartButtonEl.style.display =\n",
              "        google.colab.kernel.accessAllowed ? 'block' : 'none';\n",
              "    })();\n",
              "  </script>\n",
              "</div>\n",
              "\n",
              "  <div id=\"id_014aebcd-512b-4df6-a40b-a6501dc2eb6c\">\n",
              "    <style>\n",
              "      .colab-df-generate {\n",
              "        background-color: #E8F0FE;\n",
              "        border: none;\n",
              "        border-radius: 50%;\n",
              "        cursor: pointer;\n",
              "        display: none;\n",
              "        fill: #1967D2;\n",
              "        height: 32px;\n",
              "        padding: 0 0 0 0;\n",
              "        width: 32px;\n",
              "      }\n",
              "\n",
              "      .colab-df-generate:hover {\n",
              "        background-color: #E2EBFA;\n",
              "        box-shadow: 0px 1px 2px rgba(60, 64, 67, 0.3), 0px 1px 3px 1px rgba(60, 64, 67, 0.15);\n",
              "        fill: #174EA6;\n",
              "      }\n",
              "\n",
              "      [theme=dark] .colab-df-generate {\n",
              "        background-color: #3B4455;\n",
              "        fill: #D2E3FC;\n",
              "      }\n",
              "\n",
              "      [theme=dark] .colab-df-generate:hover {\n",
              "        background-color: #434B5C;\n",
              "        box-shadow: 0px 1px 3px 1px rgba(0, 0, 0, 0.15);\n",
              "        filter: drop-shadow(0px 1px 2px rgba(0, 0, 0, 0.3));\n",
              "        fill: #FFFFFF;\n",
              "      }\n",
              "    </style>\n",
              "    <button class=\"colab-df-generate\" onclick=\"generateWithVariable('model_results')\"\n",
              "            title=\"Generate code using this dataframe.\"\n",
              "            style=\"display:none;\">\n",
              "\n",
              "  <svg xmlns=\"http://www.w3.org/2000/svg\" height=\"24px\"viewBox=\"0 0 24 24\"\n",
              "       width=\"24px\">\n",
              "    <path d=\"M7,19H8.4L18.45,9,17,7.55,7,17.6ZM5,21V16.75L18.45,3.32a2,2,0,0,1,2.83,0l1.4,1.43a1.91,1.91,0,0,1,.58,1.4,1.91,1.91,0,0,1-.58,1.4L9.25,21ZM18.45,9,17,7.55Zm-12,3A5.31,5.31,0,0,0,4.9,8.1,5.31,5.31,0,0,0,1,6.5,5.31,5.31,0,0,0,4.9,4.9,5.31,5.31,0,0,0,6.5,1,5.31,5.31,0,0,0,8.1,4.9,5.31,5.31,0,0,0,12,6.5,5.46,5.46,0,0,0,6.5,12Z\"/>\n",
              "  </svg>\n",
              "    </button>\n",
              "    <script>\n",
              "      (() => {\n",
              "      const buttonEl =\n",
              "        document.querySelector('#id_014aebcd-512b-4df6-a40b-a6501dc2eb6c button.colab-df-generate');\n",
              "      buttonEl.style.display =\n",
              "        google.colab.kernel.accessAllowed ? 'block' : 'none';\n",
              "\n",
              "      buttonEl.onclick = () => {\n",
              "        google.colab.notebook.generateWithVariable('model_results');\n",
              "      }\n",
              "      })();\n",
              "    </script>\n",
              "  </div>\n",
              "\n",
              "    </div>\n",
              "  </div>\n"
            ],
            "application/vnd.google.colaboratory.intrinsic+json": {
              "type": "dataframe",
              "variable_name": "model_results",
              "summary": "{\n  \"name\": \"model_results\",\n  \"rows\": 3,\n  \"fields\": [\n    {\n      \"column\": \"model\",\n      \"properties\": {\n        \"dtype\": \"string\",\n        \"samples\": [\n          \"model_1\",\n          \"model_2\",\n          \"model_3\"\n        ],\n        \"num_unique_values\": 3,\n        \"semantic_type\": \"\",\n        \"description\": \"\"\n      }\n    },\n    {\n      \"column\": \"mae\",\n      \"properties\": {\n        \"dtype\": \"float32\",\n        \"samples\": [\n          8.626664161682129,\n          8.281163215637207,\n          9.0352201461792\n        ],\n        \"num_unique_values\": 3,\n        \"semantic_type\": \"\",\n        \"description\": \"\"\n      }\n    },\n    {\n      \"column\": \"mse\",\n      \"properties\": {\n        \"dtype\": \"float32\",\n        \"samples\": [\n          80.944580078125,\n          75.67338562011719,\n          88.77775573730469\n        ],\n        \"num_unique_values\": 3,\n        \"semantic_type\": \"\",\n        \"description\": \"\"\n      }\n    }\n  ]\n}"
            }
          },
          "metadata": {},
          "execution_count": 105
        }
      ]
    },
    {
      "cell_type": "markdown",
      "source": [
        "`model_2` performed the best."
      ],
      "metadata": {
        "id": "4lUVtGQ5xbGg"
      }
    },
    {
      "cell_type": "code",
      "source": [
        "model_2.summary()"
      ],
      "metadata": {
        "colab": {
          "base_uri": "https://localhost:8080/"
        },
        "id": "_pjxGsMZwNJN",
        "outputId": "3d414c82-27c1-4b23-d735-c0627fc05527"
      },
      "execution_count": 106,
      "outputs": [
        {
          "output_type": "stream",
          "name": "stdout",
          "text": [
            "Model: \"sequential_10\"\n",
            "_________________________________________________________________\n",
            " Layer (type)                Output Shape              Param #   \n",
            "=================================================================\n",
            " dense_19 (Dense)            (None, 16)                32        \n",
            "                                                                 \n",
            " dense_20 (Dense)            (None, 1)                 17        \n",
            "                                                                 \n",
            "=================================================================\n",
            "Total params: 49 (196.00 Byte)\n",
            "Trainable params: 49 (196.00 Byte)\n",
            "Non-trainable params: 0 (0.00 Byte)\n",
            "_________________________________________________________________\n"
          ]
        }
      ]
    },
    {
      "cell_type": "markdown",
      "source": [
        "> 🔑**Note:** One of the main goals should be to minimize the time between the experiments performed, the more things can be figured out what does work and what doesn't, Remember the ML Practioner's moto: 'Experiment, Experiment, Experiment...'"
      ],
      "metadata": {
        "id": "9x-5taMjxklx"
      }
    },
    {
      "cell_type": "markdown",
      "source": [
        "### Tracking your experiments\n",
        "\n",
        "One really good habit in machine learning modelling is to track the results of the experiments.\n",
        "\n",
        "And when doing so, it can be tedious if you're running lots of experiments.\n",
        "\n",
        "Luckily, There are tools to help us!\n",
        "\n",
        "📖**Resource:** As you build more models, you will want to look into using:\n",
        "\n",
        "* TensorBoard - a component of the TensorFlow library to help track modelling experiments (We'll see this one later).\n",
        "* Weights and Biases - a tool for tracking all kinds of machine learning experiments (plugs straight into TensorBoard)."
      ],
      "metadata": {
        "id": "k1kBzhFLT0ps"
      }
    },
    {
      "cell_type": "markdown",
      "source": [
        "### Saving our Models"
      ],
      "metadata": {
        "id": "unHMUlkNVDp7"
      }
    },
    {
      "cell_type": "code",
      "source": [],
      "metadata": {
        "id": "jyAE4y6Mxiww"
      },
      "execution_count": 106,
      "outputs": []
    }
  ]
}