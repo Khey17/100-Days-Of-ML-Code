{
  "nbformat": 4,
  "nbformat_minor": 0,
  "metadata": {
    "colab": {
      "provenance": [],
      "authorship_tag": "ABX9TyNgJcCa+B9Pb7sGR8S1kArA",
      "include_colab_link": true
    },
    "kernelspec": {
      "name": "python3",
      "display_name": "Python 3"
    },
    "language_info": {
      "name": "python"
    }
  },
  "cells": [
    {
      "cell_type": "markdown",
      "metadata": {
        "id": "view-in-github",
        "colab_type": "text"
      },
      "source": [
        "<a href=\"https://colab.research.google.com/github/Khey17/100-Days-Of-ML-Code/blob/main/Neural_Network_Regression_with_TensorFlow_01.ipynb\" target=\"_parent\"><img src=\"https://colab.research.google.com/assets/colab-badge.svg\" alt=\"Open In Colab\"/></a>"
      ]
    },
    {
      "cell_type": "markdown",
      "source": [
        "# Introduction to Regression with Neural Networks in TensorFlow\n",
        "\n",
        "There are many definitions for a regression problem but in our case, we're going to simplify it: predicting a continuous value based on some other combination of variables, even shorter... predicting a number."
      ],
      "metadata": {
        "id": "vvIp9ME4Eg3z"
      }
    },
    {
      "cell_type": "code",
      "source": [
        "# Import TensorFlow\n",
        "import tensorflow as tf\n",
        "print(tf.__version__)"
      ],
      "metadata": {
        "colab": {
          "base_uri": "https://localhost:8080/"
        },
        "id": "JLPb9RlqFNOp",
        "outputId": "b01be041-f8a4-4ae9-aef8-85a20080a21d"
      },
      "execution_count": 1,
      "outputs": [
        {
          "output_type": "stream",
          "name": "stdout",
          "text": [
            "2.15.0\n"
          ]
        }
      ]
    },
    {
      "cell_type": "markdown",
      "source": [
        "### Creating data to view and fit"
      ],
      "metadata": {
        "id": "Bz98xtVXFTbP"
      }
    },
    {
      "cell_type": "code",
      "source": [
        "import numpy as np\n",
        "import pandas as pd\n",
        "import matplotlib.pyplot as plt\n",
        "\n",
        "# Create features\n",
        "X = np.array([-7.0, -4.0, -1.0, 2.0, 5.0, 8.0, 11.0, 14.0])\n",
        "\n",
        "# Create labels\n",
        "y = np.array([3.0, 6.0, 9.0, 12.0, 15.0, 18.0, 21.0, 24.0])\n",
        "\n",
        "# Visualize it\n",
        "plt.scatter(X, y)"
      ],
      "metadata": {
        "colab": {
          "base_uri": "https://localhost:8080/",
          "height": 452
        },
        "id": "fq2-shCmFYEq",
        "outputId": "5cc6acf0-6770-4790-a501-1d5ca8bfbd04"
      },
      "execution_count": 2,
      "outputs": [
        {
          "output_type": "execute_result",
          "data": {
            "text/plain": [
              "<matplotlib.collections.PathCollection at 0x7ade5dd00f40>"
            ]
          },
          "metadata": {},
          "execution_count": 2
        },
        {
          "output_type": "display_data",
          "data": {
            "text/plain": [
              "<Figure size 640x480 with 1 Axes>"
            ],
            "image/png": "[encoded data removed]"
          },
          "metadata": {}
        }
      ]
    },
    {
      "cell_type": "code",
      "source": [
        "# y = X + 10\n",
        "y == X + 10"
      ],
      "metadata": {
        "colab": {
          "base_uri": "https://localhost:8080/"
        },
        "id": "X1m5MZdpFz7P",
        "outputId": "100da784-e5eb-43c7-d220-d901aa864002"
      },
      "execution_count": 3,
      "outputs": [
        {
          "output_type": "execute_result",
          "data": {
            "text/plain": [
              "array([ True,  True,  True,  True,  True,  True,  True,  True])"
            ]
          },
          "metadata": {},
          "execution_count": 3
        }
      ]
    },
    {
      "cell_type": "markdown",
      "source": [
        "### Input and Output shapes"
      ],
      "metadata": {
        "id": "Rc0XkyXXGMy7"
      }
    },
    {
      "cell_type": "code",
      "source": [
        "# Create a demo tensor for our housing prediction problem\n",
        "house_info = tf.constant(['bedroom', 'bedroom', 'garage'])\n",
        "house_price = tf.constant([939700])\n",
        "house_info, house_price"
      ],
      "metadata": {
        "colab": {
          "base_uri": "https://localhost:8080/"
        },
        "id": "3VQfB8J9GPpB",
        "outputId": "83b1ac60-148b-4fc0-db73-cd87bc50846d"
      },
      "execution_count": 4,
      "outputs": [
        {
          "output_type": "execute_result",
          "data": {
            "text/plain": [
              "(<tf.Tensor: shape=(3,), dtype=string, numpy=array([b'bedroom', b'bedroom', b'garage'], dtype=object)>,\n",
              " <tf.Tensor: shape=(1,), dtype=int32, numpy=array([939700], dtype=int32)>)"
            ]
          },
          "metadata": {},
          "execution_count": 4
        }
      ]
    },
    {
      "cell_type": "code",
      "source": [
        "input_shape = X.shape\n",
        "output_shape = y.shape\n",
        "input_shape, output_shape"
      ],
      "metadata": {
        "colab": {
          "base_uri": "https://localhost:8080/"
        },
        "id": "LPFcIAbAGthK",
        "outputId": "04bcaad0-084d-4961-dab5-37acaeb7802e"
      },
      "execution_count": 5,
      "outputs": [
        {
          "output_type": "execute_result",
          "data": {
            "text/plain": [
              "((8,), (8,))"
            ]
          },
          "metadata": {},
          "execution_count": 5
        }
      ]
    },
    {
      "cell_type": "code",
      "source": [
        "X[0].ndim"
      ],
      "metadata": {
        "colab": {
          "base_uri": "https://localhost:8080/"
        },
        "id": "C52imEb6G0pY",
        "outputId": "d1122175-2936-4612-c239-eed1572aceb6"
      },
      "execution_count": 6,
      "outputs": [
        {
          "output_type": "execute_result",
          "data": {
            "text/plain": [
              "0"
            ]
          },
          "metadata": {},
          "execution_count": 6
        }
      ]
    },
    {
      "cell_type": "code",
      "source": [
        "# Turn our NumPy arrays into tensors\n",
        "X = tf.constant(X)\n",
        "y = tf.constant(y)\n",
        "X, y"
      ],
      "metadata": {
        "colab": {
          "base_uri": "https://localhost:8080/"
        },
        "id": "q0A0573QHXmi",
        "outputId": "2d8ef490-eda6-46a9-aa9a-6cd1d5f2e648"
      },
      "execution_count": 7,
      "outputs": [
        {
          "output_type": "execute_result",
          "data": {
            "text/plain": [
              "(<tf.Tensor: shape=(8,), dtype=float64, numpy=array([-7., -4., -1.,  2.,  5.,  8., 11., 14.])>,\n",
              " <tf.Tensor: shape=(8,), dtype=float64, numpy=array([ 3.,  6.,  9., 12., 15., 18., 21., 24.])>)"
            ]
          },
          "metadata": {},
          "execution_count": 7
        }
      ]
    },
    {
      "cell_type": "code",
      "source": [
        "input_shape = X[0].shape\n",
        "output_shape = y[0].shape\n",
        "input_shape, output_shape"
      ],
      "metadata": {
        "colab": {
          "base_uri": "https://localhost:8080/"
        },
        "id": "_o8mhBpsin9v",
        "outputId": "7b9670a4-a1af-4cb8-9671-8ca8bdbc29e3"
      },
      "execution_count": 8,
      "outputs": [
        {
          "output_type": "execute_result",
          "data": {
            "text/plain": [
              "(TensorShape([]), TensorShape([]))"
            ]
          },
          "metadata": {},
          "execution_count": 8
        }
      ]
    },
    {
      "cell_type": "code",
      "source": [
        "plt.scatter(X, y)"
      ],
      "metadata": {
        "colab": {
          "base_uri": "https://localhost:8080/",
          "height": 452
        },
        "id": "1jAUTEjliu24",
        "outputId": "9ec3b669-c676-450c-a6e9-396c7c6f820e"
      },
      "execution_count": 9,
      "outputs": [
        {
          "output_type": "execute_result",
          "data": {
            "text/plain": [
              "<matplotlib.collections.PathCollection at 0x7ade5bc1feb0>"
            ]
          },
          "metadata": {},
          "execution_count": 9
        },
        {
          "output_type": "display_data",
          "data": {
            "text/plain": [
              "<Figure size 640x480 with 1 Axes>"
            ],
            "image/png": "[encoded data removed]"
          },
          "metadata": {}
        }
      ]
    },
    {
      "cell_type": "markdown",
      "source": [
        "### Steps in modelling with TensorFlow\n",
        "\n",
        "1. **Creating a model** - defing the input and output layers, as well as the hidden layers of a deep learning model.\n",
        "2. **Compiling a model** - define the loss function (in other words, the function which tells our model how wrong it is) and the optimizer (tells our model how to improve the patterns its learning) and evaluation metrics (what we can use to interpret the performance of our model).\n",
        "3. **Fitting a model** - letting the model try to find patterns between X & y (features and labels)."
      ],
      "metadata": {
        "id": "LG18OqwSi2kH"
      }
    },
    {
      "cell_type": "code",
      "source": [
        "# Set random seed\n",
        "tf.random.set_seed(42)\n",
        "\n",
        "# 1. Create a model using the Sequential API\n",
        "model = tf.keras.Sequential([\n",
        "    tf.keras.layers.Dense(1)\n",
        "])\n",
        "\n",
        "# 2. Compile the model\n",
        "model.compile(loss=tf.keras.losses.mae,\n",
        "              optimizer=tf.keras.optimizers.SGD(),\n",
        "              metrics=['mae'])\n",
        "\n",
        "# 3. Fit the model\n",
        "model.fit(tf.expand_dims(X, axis=-1), y, epochs=5)"
      ],
      "metadata": {
        "colab": {
          "base_uri": "https://localhost:8080/"
        },
        "id": "BXKJoqGZjt33",
        "outputId": "3092e87a-2732-4474-c371-172e8d4b69a3"
      },
      "execution_count": 10,
      "outputs": [
        {
          "output_type": "stream",
          "name": "stdout",
          "text": [
            "Epoch 1/5\n",
            "1/1 [==============================] - 1s 507ms/step - loss: 13.3920 - mae: 13.3920\n",
            "Epoch 2/5\n",
            "1/1 [==============================] - 0s 11ms/step - loss: 13.2595 - mae: 13.2595\n",
            "Epoch 3/5\n",
            "1/1 [==============================] - 0s 10ms/step - loss: 13.1270 - mae: 13.1270\n",
            "Epoch 4/5\n",
            "1/1 [==============================] - 0s 10ms/step - loss: 12.9945 - mae: 12.9945\n",
            "Epoch 5/5\n",
            "1/1 [==============================] - 0s 11ms/step - loss: 12.8620 - mae: 12.8620\n"
          ]
        },
        {
          "output_type": "execute_result",
          "data": {
            "text/plain": [
              "<keras.src.callbacks.History at 0x7ade58b4b7f0>"
            ]
          },
          "metadata": {},
          "execution_count": 10
        }
      ]
    },
    {
      "cell_type": "code",
      "source": [
        "# Check out X and y\n",
        "X, y"
      ],
      "metadata": {
        "colab": {
          "base_uri": "https://localhost:8080/"
        },
        "id": "GSem5a5dkPQq",
        "outputId": "21056488-f876-4634-d01e-d63582d883b8"
      },
      "execution_count": 11,
      "outputs": [
        {
          "output_type": "execute_result",
          "data": {
            "text/plain": [
              "(<tf.Tensor: shape=(8,), dtype=float64, numpy=array([-7., -4., -1.,  2.,  5.,  8., 11., 14.])>,\n",
              " <tf.Tensor: shape=(8,), dtype=float64, numpy=array([ 3.,  6.,  9., 12., 15., 18., 21., 24.])>)"
            ]
          },
          "metadata": {},
          "execution_count": 11
        }
      ]
    },
    {
      "cell_type": "code",
      "source": [
        "model.predict([17.0])"
      ],
      "metadata": {
        "colab": {
          "base_uri": "https://localhost:8080/"
        },
        "id": "xq8tgkFxnBxe",
        "outputId": "5b903de8-d36a-4a61-da20-ef6eec224cf9"
      },
      "execution_count": 12,
      "outputs": [
        {
          "output_type": "stream",
          "name": "stdout",
          "text": [
            "1/1 [==============================] - 0s 99ms/step\n"
          ]
        },
        {
          "output_type": "execute_result",
          "data": {
            "text/plain": [
              "array([[3.5494587]], dtype=float32)"
            ]
          },
          "metadata": {},
          "execution_count": 12
        }
      ]
    },
    {
      "cell_type": "markdown",
      "source": [
        "### Improve the model\n",
        "\n",
        "We can improve our model, by altering the steps we took to create a model\n",
        "\n",
        "1. **Create a model** - here we might add more layers, increase the no. of hidden layers, change the activation func of each layer.\n",
        "2. **Compiling a model** - here we might change the optimization function or perhaps the **learning rate** of the optimization func.\n",
        "3. **Fitting a model** - here we might fit a model for more epochs (leave it training for longer) or on more data (give the model more examples to learn from)."
      ],
      "metadata": {
        "id": "EyF3CXfKnIR2"
      }
    },
    {
      "cell_type": "code",
      "source": [
        "# Let's rebuild our model\n",
        "tf.random.set_seed(42)\n",
        "\n",
        "# 1. Create a model (Specified to your problem)\n",
        "model = tf.keras.Sequential([\n",
        "    tf.keras.layers.Dense(128, activation='relu'),\n",
        "    tf.keras.layers.Dense(128, activation='relu'),\n",
        "    tf.keras.layers.Dense(128, activation='relu'),\n",
        "    tf.keras.layers.Dense(1)\n",
        "])\n",
        "\n",
        "# 2. Compile the model\n",
        "model.compile(loss=tf.keras.losses.mae,\n",
        "              optimizer=tf.keras.optimizers.Adam(learning_rate=1e-2),\n",
        "              metrics=['mae'])\n",
        "\n",
        "# 3. Fit the model\n",
        "model.fit(tf.expand_dims(X, axis=-1), y, epochs=100)"
      ],
      "metadata": {
        "colab": {
          "base_uri": "https://localhost:8080/"
        },
        "id": "GYeR735B17qM",
        "outputId": "aaa2065d-48a0-4740-98be-9fa97e3996fe"
      },
      "execution_count": 13,
      "outputs": [
        {
          "output_type": "stream",
          "name": "stdout",
          "text": [
            "Epoch 1/100\n",
            "1/1 [==============================] - 1s 935ms/step - loss: 13.9378 - mae: 13.9378\n",
            "Epoch 2/100\n",
            "1/1 [==============================] - 0s 13ms/step - loss: 11.2572 - mae: 11.2572\n",
            "Epoch 3/100\n",
            "1/1 [==============================] - 0s 13ms/step - loss: 8.7432 - mae: 8.7432\n",
            "Epoch 4/100\n",
            "1/1 [==============================] - 0s 15ms/step - loss: 4.6900 - mae: 4.6900\n",
            "Epoch 5/100\n",
            "1/1 [==============================] - 0s 12ms/step - loss: 6.7058 - mae: 6.7058\n",
            "Epoch 6/100\n",
            "1/1 [==============================] - 0s 12ms/step - loss: 8.3179 - mae: 8.3179\n",
            "Epoch 7/100\n",
            "1/1 [==============================] - 0s 9ms/step - loss: 6.8506 - mae: 6.8506\n",
            "Epoch 8/100\n",
            "1/1 [==============================] - 0s 11ms/step - loss: 4.7121 - mae: 4.7121\n",
            "Epoch 9/100\n",
            "1/1 [==============================] - 0s 10ms/step - loss: 3.8104 - mae: 3.8104\n",
            "Epoch 10/100\n",
            "1/1 [==============================] - 0s 12ms/step - loss: 5.3059 - mae: 5.3059\n",
            "Epoch 11/100\n",
            "1/1 [==============================] - 0s 10ms/step - loss: 5.7588 - mae: 5.7588\n",
            "Epoch 12/100\n",
            "1/1 [==============================] - 0s 11ms/step - loss: 5.4706 - mae: 5.4706\n",
            "Epoch 13/100\n",
            "1/1 [==============================] - 0s 12ms/step - loss: 4.4955 - mae: 4.4955\n",
            "Epoch 14/100\n",
            "1/1 [==============================] - 0s 15ms/step - loss: 3.5452 - mae: 3.5452\n",
            "Epoch 15/100\n",
            "1/1 [==============================] - 0s 11ms/step - loss: 3.9216 - mae: 3.9216\n",
            "Epoch 16/100\n",
            "1/1 [==============================] - 0s 10ms/step - loss: 4.1924 - mae: 4.1924\n",
            "Epoch 17/100\n",
            "1/1 [==============================] - 0s 10ms/step - loss: 3.9832 - mae: 3.9832\n",
            "Epoch 18/100\n",
            "1/1 [==============================] - 0s 12ms/step - loss: 3.4421 - mae: 3.4421\n",
            "Epoch 19/100\n",
            "1/1 [==============================] - 0s 11ms/step - loss: 3.1758 - mae: 3.1758\n",
            "Epoch 20/100\n",
            "1/1 [==============================] - 0s 13ms/step - loss: 3.4606 - mae: 3.4606\n",
            "Epoch 21/100\n",
            "1/1 [==============================] - 0s 11ms/step - loss: 3.3346 - mae: 3.3346\n",
            "Epoch 22/100\n",
            "1/1 [==============================] - 0s 11ms/step - loss: 2.8721 - mae: 2.8721\n",
            "Epoch 23/100\n",
            "1/1 [==============================] - 0s 13ms/step - loss: 2.9286 - mae: 2.9286\n",
            "Epoch 24/100\n",
            "1/1 [==============================] - 0s 11ms/step - loss: 3.3260 - mae: 3.3260\n",
            "Epoch 25/100\n",
            "1/1 [==============================] - 0s 12ms/step - loss: 3.2550 - mae: 3.2550\n",
            "Epoch 26/100\n",
            "1/1 [==============================] - 0s 11ms/step - loss: 2.7660 - mae: 2.7660\n",
            "Epoch 27/100\n",
            "1/1 [==============================] - 0s 13ms/step - loss: 2.0127 - mae: 2.0127\n",
            "Epoch 28/100\n",
            "1/1 [==============================] - 0s 11ms/step - loss: 1.7506 - mae: 1.7506\n",
            "Epoch 29/100\n",
            "1/1 [==============================] - 0s 11ms/step - loss: 1.5960 - mae: 1.5960\n",
            "Epoch 30/100\n",
            "1/1 [==============================] - 0s 11ms/step - loss: 0.9552 - mae: 0.9552\n",
            "Epoch 31/100\n",
            "1/1 [==============================] - 0s 13ms/step - loss: 1.2438 - mae: 1.2438\n",
            "Epoch 32/100\n",
            "1/1 [==============================] - 0s 13ms/step - loss: 0.7574 - mae: 0.7574\n",
            "Epoch 33/100\n",
            "1/1 [==============================] - 0s 14ms/step - loss: 1.0507 - mae: 1.0507\n",
            "Epoch 34/100\n",
            "1/1 [==============================] - 0s 12ms/step - loss: 1.1196 - mae: 1.1196\n",
            "Epoch 35/100\n",
            "1/1 [==============================] - 0s 11ms/step - loss: 1.1462 - mae: 1.1462\n",
            "Epoch 36/100\n",
            "1/1 [==============================] - 0s 13ms/step - loss: 0.7617 - mae: 0.7617\n",
            "Epoch 37/100\n",
            "1/1 [==============================] - 0s 11ms/step - loss: 1.3624 - mae: 1.3624\n",
            "Epoch 38/100\n",
            "1/1 [==============================] - 0s 12ms/step - loss: 1.6051 - mae: 1.6051\n",
            "Epoch 39/100\n",
            "1/1 [==============================] - 0s 11ms/step - loss: 1.1135 - mae: 1.1135\n",
            "Epoch 40/100\n",
            "1/1 [==============================] - 0s 11ms/step - loss: 1.0892 - mae: 1.0892\n",
            "Epoch 41/100\n",
            "1/1 [==============================] - 0s 11ms/step - loss: 1.0824 - mae: 1.0824\n",
            "Epoch 42/100\n",
            "1/1 [==============================] - 0s 10ms/step - loss: 0.6011 - mae: 0.6011\n",
            "Epoch 43/100\n",
            "1/1 [==============================] - 0s 11ms/step - loss: 1.3291 - mae: 1.3291\n",
            "Epoch 44/100\n",
            "1/1 [==============================] - 0s 12ms/step - loss: 1.0607 - mae: 1.0607\n",
            "Epoch 45/100\n",
            "1/1 [==============================] - 0s 11ms/step - loss: 0.5047 - mae: 0.5047\n",
            "Epoch 46/100\n",
            "1/1 [==============================] - 0s 14ms/step - loss: 0.7006 - mae: 0.7006\n",
            "Epoch 47/100\n",
            "1/1 [==============================] - 0s 12ms/step - loss: 0.5781 - mae: 0.5781\n",
            "Epoch 48/100\n",
            "1/1 [==============================] - 0s 10ms/step - loss: 0.5175 - mae: 0.5175\n",
            "Epoch 49/100\n",
            "1/1 [==============================] - 0s 11ms/step - loss: 0.4595 - mae: 0.4595\n",
            "Epoch 50/100\n",
            "1/1 [==============================] - 0s 11ms/step - loss: 0.4629 - mae: 0.4629\n",
            "Epoch 51/100\n",
            "1/1 [==============================] - 0s 11ms/step - loss: 0.7507 - mae: 0.7507\n",
            "Epoch 52/100\n",
            "1/1 [==============================] - 0s 12ms/step - loss: 0.5192 - mae: 0.5192\n",
            "Epoch 53/100\n",
            "1/1 [==============================] - 0s 13ms/step - loss: 0.4894 - mae: 0.4894\n",
            "Epoch 54/100\n",
            "1/1 [==============================] - 0s 11ms/step - loss: 0.3181 - mae: 0.3181\n",
            "Epoch 55/100\n",
            "1/1 [==============================] - 0s 13ms/step - loss: 0.3730 - mae: 0.3730\n",
            "Epoch 56/100\n",
            "1/1 [==============================] - 0s 12ms/step - loss: 0.5355 - mae: 0.5355\n",
            "Epoch 57/100\n",
            "1/1 [==============================] - 0s 12ms/step - loss: 0.3868 - mae: 0.3868\n",
            "Epoch 58/100\n",
            "1/1 [==============================] - 0s 11ms/step - loss: 0.5265 - mae: 0.5265\n",
            "Epoch 59/100\n",
            "1/1 [==============================] - 0s 10ms/step - loss: 0.2863 - mae: 0.2863\n",
            "Epoch 60/100\n",
            "1/1 [==============================] - 0s 14ms/step - loss: 1.1430 - mae: 1.1430\n",
            "Epoch 61/100\n",
            "1/1 [==============================] - 0s 13ms/step - loss: 1.2347 - mae: 1.2347\n",
            "Epoch 62/100\n",
            "1/1 [==============================] - 0s 12ms/step - loss: 0.4515 - mae: 0.4515\n",
            "Epoch 63/100\n",
            "1/1 [==============================] - 0s 11ms/step - loss: 1.2666 - mae: 1.2666\n",
            "Epoch 64/100\n",
            "1/1 [==============================] - 0s 11ms/step - loss: 1.7610 - mae: 1.7610\n",
            "Epoch 65/100\n",
            "1/1 [==============================] - 0s 10ms/step - loss: 1.0648 - mae: 1.0648\n",
            "Epoch 66/100\n",
            "1/1 [==============================] - 0s 10ms/step - loss: 0.5370 - mae: 0.5370\n",
            "Epoch 67/100\n",
            "1/1 [==============================] - 0s 10ms/step - loss: 1.0014 - mae: 1.0014\n",
            "Epoch 68/100\n",
            "1/1 [==============================] - 0s 11ms/step - loss: 0.6854 - mae: 0.6854\n",
            "Epoch 69/100\n",
            "1/1 [==============================] - 0s 15ms/step - loss: 0.5127 - mae: 0.5127\n",
            "Epoch 70/100\n",
            "1/1 [==============================] - 0s 11ms/step - loss: 0.8068 - mae: 0.8068\n",
            "Epoch 71/100\n",
            "1/1 [==============================] - 0s 14ms/step - loss: 0.1574 - mae: 0.1574\n",
            "Epoch 72/100\n",
            "1/1 [==============================] - 0s 13ms/step - loss: 1.1446 - mae: 1.1446\n",
            "Epoch 73/100\n",
            "1/1 [==============================] - 0s 11ms/step - loss: 1.4818 - mae: 1.4818\n",
            "Epoch 74/100\n",
            "1/1 [==============================] - 0s 12ms/step - loss: 1.0565 - mae: 1.0565\n",
            "Epoch 75/100\n",
            "1/1 [==============================] - 0s 11ms/step - loss: 0.2391 - mae: 0.2391\n",
            "Epoch 76/100\n",
            "1/1 [==============================] - 0s 10ms/step - loss: 0.9814 - mae: 0.9814\n",
            "Epoch 77/100\n",
            "1/1 [==============================] - 0s 11ms/step - loss: 1.0571 - mae: 1.0571\n",
            "Epoch 78/100\n",
            "1/1 [==============================] - 0s 11ms/step - loss: 0.3450 - mae: 0.3450\n",
            "Epoch 79/100\n",
            "1/1 [==============================] - 0s 11ms/step - loss: 1.1549 - mae: 1.1549\n",
            "Epoch 80/100\n",
            "1/1 [==============================] - 0s 12ms/step - loss: 1.5837 - mae: 1.5837\n",
            "Epoch 81/100\n",
            "1/1 [==============================] - 0s 14ms/step - loss: 1.4073 - mae: 1.4073\n",
            "Epoch 82/100\n",
            "1/1 [==============================] - 0s 11ms/step - loss: 0.7320 - mae: 0.7320\n",
            "Epoch 83/100\n",
            "1/1 [==============================] - 0s 11ms/step - loss: 0.9013 - mae: 0.9013\n",
            "Epoch 84/100\n",
            "1/1 [==============================] - 0s 12ms/step - loss: 1.2381 - mae: 1.2381\n",
            "Epoch 85/100\n",
            "1/1 [==============================] - 0s 11ms/step - loss: 0.8606 - mae: 0.8606\n",
            "Epoch 86/100\n",
            "1/1 [==============================] - 0s 11ms/step - loss: 0.6081 - mae: 0.6081\n",
            "Epoch 87/100\n",
            "1/1 [==============================] - 0s 11ms/step - loss: 0.9074 - mae: 0.9074\n",
            "Epoch 88/100\n",
            "1/1 [==============================] - 0s 10ms/step - loss: 0.5476 - mae: 0.5476\n",
            "Epoch 89/100\n",
            "1/1 [==============================] - 0s 11ms/step - loss: 0.6625 - mae: 0.6625\n",
            "Epoch 90/100\n",
            "1/1 [==============================] - 0s 10ms/step - loss: 0.5951 - mae: 0.5951\n",
            "Epoch 91/100\n",
            "1/1 [==============================] - 0s 12ms/step - loss: 0.3061 - mae: 0.3061\n",
            "Epoch 92/100\n",
            "1/1 [==============================] - 0s 10ms/step - loss: 0.6784 - mae: 0.6784\n",
            "Epoch 93/100\n",
            "1/1 [==============================] - 0s 10ms/step - loss: 0.4659 - mae: 0.4659\n",
            "Epoch 94/100\n",
            "1/1 [==============================] - 0s 15ms/step - loss: 0.6599 - mae: 0.6599\n",
            "Epoch 95/100\n",
            "1/1 [==============================] - 0s 10ms/step - loss: 0.5492 - mae: 0.5492\n",
            "Epoch 96/100\n",
            "1/1 [==============================] - 0s 10ms/step - loss: 0.3254 - mae: 0.3254\n",
            "Epoch 97/100\n",
            "1/1 [==============================] - 0s 10ms/step - loss: 0.6085 - mae: 0.6085\n",
            "Epoch 98/100\n",
            "1/1 [==============================] - 0s 10ms/step - loss: 0.2606 - mae: 0.2606\n",
            "Epoch 99/100\n",
            "1/1 [==============================] - 0s 10ms/step - loss: 0.6263 - mae: 0.6263\n",
            "Epoch 100/100\n",
            "1/1 [==============================] - 0s 14ms/step - loss: 0.5267 - mae: 0.5267\n"
          ]
        },
        {
          "output_type": "execute_result",
          "data": {
            "text/plain": [
              "<keras.src.callbacks.History at 0x7ade4bfa1ed0>"
            ]
          },
          "metadata": {},
          "execution_count": 13
        }
      ]
    },
    {
      "cell_type": "code",
      "source": [
        "# Remind ourselves of the data\n",
        "X, y"
      ],
      "metadata": {
        "colab": {
          "base_uri": "https://localhost:8080/"
        },
        "id": "hO_Zukzb4Lgu",
        "outputId": "cfc7cbe2-e882-4984-9eca-befe584be730"
      },
      "execution_count": 14,
      "outputs": [
        {
          "output_type": "execute_result",
          "data": {
            "text/plain": [
              "(<tf.Tensor: shape=(8,), dtype=float64, numpy=array([-7., -4., -1.,  2.,  5.,  8., 11., 14.])>,\n",
              " <tf.Tensor: shape=(8,), dtype=float64, numpy=array([ 3.,  6.,  9., 12., 15., 18., 21., 24.])>)"
            ]
          },
          "metadata": {},
          "execution_count": 14
        }
      ]
    },
    {
      "cell_type": "code",
      "source": [
        "# Let's see if our model's prediction has improved\n",
        "model.predict([17.0])"
      ],
      "metadata": {
        "colab": {
          "base_uri": "https://localhost:8080/"
        },
        "id": "LfbIim1Y4jxI",
        "outputId": "80de959c-b265-4df4-8e4b-ad02b706e02d"
      },
      "execution_count": 15,
      "outputs": [
        {
          "output_type": "stream",
          "name": "stdout",
          "text": [
            "1/1 [==============================] - 0s 88ms/step\n"
          ]
        },
        {
          "output_type": "execute_result",
          "data": {
            "text/plain": [
              "array([[26.785055]], dtype=float32)"
            ]
          },
          "metadata": {},
          "execution_count": 15
        }
      ]
    },
    {
      "cell_type": "markdown",
      "source": [
        "### Common ways to improve a Deep Learning model\n",
        "- Adding Layers\n",
        "- Increase the number of hidden units\n",
        "- Change the activation function of each layer\n",
        "- Change the optimization function\n",
        "- Change the learning rate of the optimization function\n",
        "- Fitting on more data\n",
        "- Fitting for longer"
      ],
      "metadata": {
        "id": "SD3h0Rhf4p3j"
      }
    },
    {
      "cell_type": "markdown",
      "source": [
        "### Evaluating a model\n",
        "\n",
        "In practice, a typical workflow you'll go through when building neural networks is:\n",
        "\n",
        "```\n",
        "Build a model -> Fit it -> evaluate it -> tweak a model -> fit it -> tweak a model -> fit it...\n",
        "```"
      ],
      "metadata": {
        "id": "cNG9ORVm64Xv"
      }
    },
    {
      "cell_type": "markdown",
      "source": [
        "When it comes to evaluation.. there are 3 words you should memorize:\n",
        "\n",
        "> \"Visualize, Visualize,...\"\n",
        "\n",
        "It's a good idea to visualize:\n",
        "* The data - what data are working with? what does it look like?\n",
        "* The model itself - what does our model look like?\n",
        "* The training of a model - how does a model perform while it learns?\n",
        "* The predictions of the model - how do the predictions of a model line up against the ground truth (the original labels)?"
      ],
      "metadata": {
        "id": "brTwNhiv7Ym-"
      }
    },
    {
      "cell_type": "code",
      "source": [
        "# Make a bigger dataset\n",
        "X = tf.range(-100, 100, 4)\n",
        "\n",
        "# Make labels for the dataset\n",
        "Y = X + 10\n",
        "\n",
        "X, Y"
      ],
      "metadata": {
        "colab": {
          "base_uri": "https://localhost:8080/"
        },
        "id": "4LzapqLN8VRj",
        "outputId": "eade7f4a-3107-4aa7-890e-65cb52830190"
      },
      "execution_count": 16,
      "outputs": [
        {
          "output_type": "execute_result",
          "data": {
            "text/plain": [
              "(<tf.Tensor: shape=(50,), dtype=int32, numpy=\n",
              " array([-100,  -96,  -92,  -88,  -84,  -80,  -76,  -72,  -68,  -64,  -60,\n",
              "         -56,  -52,  -48,  -44,  -40,  -36,  -32,  -28,  -24,  -20,  -16,\n",
              "         -12,   -8,   -4,    0,    4,    8,   12,   16,   20,   24,   28,\n",
              "          32,   36,   40,   44,   48,   52,   56,   60,   64,   68,   72,\n",
              "          76,   80,   84,   88,   92,   96], dtype=int32)>,\n",
              " <tf.Tensor: shape=(50,), dtype=int32, numpy=\n",
              " array([-90, -86, -82, -78, -74, -70, -66, -62, -58, -54, -50, -46, -42,\n",
              "        -38, -34, -30, -26, -22, -18, -14, -10,  -6,  -2,   2,   6,  10,\n",
              "         14,  18,  22,  26,  30,  34,  38,  42,  46,  50,  54,  58,  62,\n",
              "         66,  70,  74,  78,  82,  86,  90,  94,  98, 102, 106], dtype=int32)>)"
            ]
          },
          "metadata": {},
          "execution_count": 16
        }
      ]
    },
    {
      "cell_type": "code",
      "source": [
        "# Visualize the data\n",
        "plt.scatter(X, Y)"
      ],
      "metadata": {
        "colab": {
          "base_uri": "https://localhost:8080/",
          "height": 447
        },
        "id": "WLdxhO1C9I8c",
        "outputId": "1d4b8b6f-2f0d-427a-ded4-f76b511949c9"
      },
      "execution_count": 17,
      "outputs": [
        {
          "output_type": "execute_result",
          "data": {
            "text/plain": [
              "<matplotlib.collections.PathCollection at 0x7ade5920b4c0>"
            ]
          },
          "metadata": {},
          "execution_count": 17
        },
        {
          "output_type": "display_data",
          "data": {
            "text/plain": [
              "<Figure size 640x480 with 1 Axes>"
            ],
            "image/png": "[encoded data removed]"
          },
          "metadata": {}
        }
      ]
    },
    {
      "cell_type": "markdown",
      "source": [
        "### The 3 sets...\n",
        "\n",
        "* **Training set** - the model learns from this data, which is typically 70%-80% of the total data you have available.\n",
        "* **Validation set** - the model gets tuned on this data, which is typically 10-15% of the data available.\n",
        "* **Test set** - the model gets evaluated on this data to test what it has learned, this set is typically 10-15% of the total data available."
      ],
      "metadata": {
        "id": "d1K0jY6G-zHF"
      }
    },
    {
      "cell_type": "code",
      "source": [
        "### Split the data into train and test sets\n",
        "X_train = X[:40]\n",
        "y_train = Y[:40]\n",
        "\n",
        "X_test = X[40:]\n",
        "y_test = Y[40:]\n",
        "\n",
        "len(X_train), len(y_train), len(X_test), len(y_test)"
      ],
      "metadata": {
        "colab": {
          "base_uri": "https://localhost:8080/"
        },
        "id": "lYFrbKuK9NTG",
        "outputId": "6e33d3e4-ef93-4247-8d48-1be6a52e49bd"
      },
      "execution_count": 18,
      "outputs": [
        {
          "output_type": "execute_result",
          "data": {
            "text/plain": [
              "(40, 40, 10, 10)"
            ]
          },
          "metadata": {},
          "execution_count": 18
        }
      ]
    },
    {
      "cell_type": "markdown",
      "source": [
        "### Visualize the data\n",
        "Now we've got our data in training and test sets... let's visualize it again!"
      ],
      "metadata": {
        "id": "YE48KgNVAyIC"
      }
    },
    {
      "cell_type": "code",
      "source": [
        "plt.figure(figsize=(10, 7))\n",
        "\n",
        "# Plot training in blue\n",
        "plt.scatter(X_train, y_train, c=\"b\", label=\"Training\")\n",
        "# Plot validation in red\n",
        "plt.scatter(X_test, y_test, c=\"r\", label=\"Testing\")\n",
        "# Show a legend\n",
        "plt.legend();"
      ],
      "metadata": {
        "colab": {
          "base_uri": "https://localhost:8080/",
          "height": 467
        },
        "id": "QnaiBsbMA53U",
        "outputId": "a4a90354-3fa9-43a3-f357-829130225f05"
      },
      "execution_count": 19,
      "outputs": [
        {
          "output_type": "display_data",
          "data": {
            "text/plain": [
              "<Figure size 1000x700 with 1 Axes>"
            ],
            "image/png": "[encoded data removed]"
          },
          "metadata": {}
        }
      ]
    },
    {
      "cell_type": "code",
      "source": [
        "# Let's look at how to build a neural network for our data\n",
        "\n",
        "tf.random.set_seed(42)\n",
        "\n",
        "# 1. Create a model (Specified to your problem)\n",
        "model_1 = tf.keras.Sequential([\n",
        "    # tf.keras.layers.Dense(32, activation='relu'),\n",
        "    # tf.keras.layers.Dense(64, activation='relu'),\n",
        "    # tf.keras.layers.Dense(128, activation='relu'),\n",
        "    tf.keras.layers.Dense(1)\n",
        "])\n",
        "\n",
        "# 2. Compile the model_1\n",
        "model_1.compile(loss=tf.keras.losses.mae,\n",
        "              optimizer=tf.keras.optimizers.SGD(learning_rate=1e-3),\n",
        "              metrics=['mae'])\n",
        "\n",
        "# # 3. Fit the model_1\n",
        "# model_1.fit(tf.expand_dims(X_train, axis=-1), y_train, epochs=100)"
      ],
      "metadata": {
        "id": "u5DidCks9krf"
      },
      "execution_count": 20,
      "outputs": []
    },
    {
      "cell_type": "markdown",
      "source": [
        "### Visualize our model"
      ],
      "metadata": {
        "id": "s3-lreIn-ar3"
      }
    },
    {
      "cell_type": "code",
      "source": [
        "model_1.summary()"
      ],
      "metadata": {
        "colab": {
          "base_uri": "https://localhost:8080/",
          "height": 315
        },
        "id": "5wlz1mxNCb7p",
        "outputId": "3b7cd849-df8e-4150-fa81-945db8d6b62b"
      },
      "execution_count": 22,
      "outputs": [
        {
          "output_type": "error",
          "ename": "ValueError",
          "evalue": "This model has not yet been built. Build the model first by calling `build()` or by calling the model on a batch of data.",
          "traceback": [
            "\u001b[0;31m---------------------------------------------------------------------------\u001b[0m",
            "\u001b[0;31mValueError\u001b[0m                                Traceback (most recent call last)",
            "\u001b[0;32m<ipython-input-22-38d62e0e91d7>\u001b[0m in \u001b[0;36m<cell line: 1>\u001b[0;34m()\u001b[0m\n\u001b[0;32m----> 1\u001b[0;31m \u001b[0mmodel_1\u001b[0m\u001b[0;34m.\u001b[0m\u001b[0msummary\u001b[0m\u001b[0;34m(\u001b[0m\u001b[0;34m)\u001b[0m\u001b[0;34m\u001b[0m\u001b[0;34m\u001b[0m\u001b[0m\n\u001b[0m",
            "\u001b[0;32m/usr/local/lib/python3.10/dist-packages/keras/src/engine/training.py\u001b[0m in \u001b[0;36msummary\u001b[0;34m(self, line_length, positions, print_fn, expand_nested, show_trainable, layer_range)\u001b[0m\n\u001b[1;32m   3504\u001b[0m         \"\"\"\n\u001b[1;32m   3505\u001b[0m         \u001b[0;32mif\u001b[0m \u001b[0;32mnot\u001b[0m \u001b[0mself\u001b[0m\u001b[0;34m.\u001b[0m\u001b[0mbuilt\u001b[0m\u001b[0;34m:\u001b[0m\u001b[0;34m\u001b[0m\u001b[0;34m\u001b[0m\u001b[0m\n\u001b[0;32m-> 3506\u001b[0;31m             raise ValueError(\n\u001b[0m\u001b[1;32m   3507\u001b[0m                 \u001b[0;34m\"This model has not yet been built. \"\u001b[0m\u001b[0;34m\u001b[0m\u001b[0;34m\u001b[0m\u001b[0m\n\u001b[1;32m   3508\u001b[0m                 \u001b[0;34m\"Build the model first by calling `build()` or by calling \"\u001b[0m\u001b[0;34m\u001b[0m\u001b[0;34m\u001b[0m\u001b[0m\n",
            "\u001b[0;31mValueError\u001b[0m: This model has not yet been built. Build the model first by calling `build()` or by calling the model on a batch of data."
          ]
        }
      ]
    },
    {
      "cell_type": "code",
      "source": [
        "# Build our model\n",
        "model_1.build(input_shape=(None, 1))\n",
        "model_1.summary()"
      ],
      "metadata": {
        "colab": {
          "base_uri": "https://localhost:8080/"
        },
        "id": "iJHjW1FDCOZZ",
        "outputId": "5c0e97fd-0dfd-4748-ae6a-5279859d332b"
      },
      "execution_count": 23,
      "outputs": [
        {
          "output_type": "stream",
          "name": "stdout",
          "text": [
            "Model: \"sequential_2\"\n",
            "_________________________________________________________________\n",
            " Layer (type)                Output Shape              Param #   \n",
            "=================================================================\n",
            " dense_5 (Dense)             (None, 1)                 2         \n",
            "                                                                 \n",
            "=================================================================\n",
            "Total params: 2 (8.00 Byte)\n",
            "Trainable params: 2 (8.00 Byte)\n",
            "Non-trainable params: 0 (0.00 Byte)\n",
            "_________________________________________________________________\n"
          ]
        }
      ]
    },
    {
      "cell_type": "code",
      "source": [
        "# Let's create a model which builds automatically by defining the input_shape argument\n",
        "tf.random.set_seed(42)\n",
        "\n",
        "# 1. Create a model (Specified to your problem)\n",
        "model_2 = tf.keras.Sequential([\n",
        "    tf.keras.layers.Dense(128, activation='relu', input_shape=[1], name='input_layer'),\n",
        "    tf.keras.layers.Dense(1, input_shape=[1], name='output_layer')\n",
        "], name='model_2')\n",
        "\n",
        "# 2. Compile the model\n",
        "model_2.compile(loss=tf.keras.losses.mae,\n",
        "              optimizer=tf.keras.optimizers.SGD(learning_rate=1e-3),\n",
        "              metrics=['mae'])"
      ],
      "metadata": {
        "id": "AbCwqg3wCWZs"
      },
      "execution_count": 24,
      "outputs": []
    },
    {
      "cell_type": "code",
      "source": [
        "model_2.summary()"
      ],
      "metadata": {
        "colab": {
          "base_uri": "https://localhost:8080/"
        },
        "id": "BYFsAEwNC_s8",
        "outputId": "9a495c9c-2678-46a7-c2b6-e357f2c1c0c6"
      },
      "execution_count": 25,
      "outputs": [
        {
          "output_type": "stream",
          "name": "stdout",
          "text": [
            "Model: \"model_2\"\n",
            "_________________________________________________________________\n",
            " Layer (type)                Output Shape              Param #   \n",
            "=================================================================\n",
            " input_layer (Dense)         (None, 128)               256       \n",
            "                                                                 \n",
            " output_layer (Dense)        (None, 1)                 129       \n",
            "                                                                 \n",
            "=================================================================\n",
            "Total params: 385 (1.50 KB)\n",
            "Trainable params: 385 (1.50 KB)\n",
            "Non-trainable params: 0 (0.00 Byte)\n",
            "_________________________________________________________________\n"
          ]
        }
      ]
    },
    {
      "cell_type": "markdown",
      "source": [
        "* Total params - total no. of parameters in the model.\n",
        "* Trainable parameters - these are the parameters (patterns) the model can update as it trains.\n",
        "* Non-trainable params- these parameters aren't updated during training (this is typical when you bring in already learn patterns or parameters from other models during **transfer learning**).\n",
        "\n",
        "📖**Resource:** For more in-depth overview of the trainable parameters with a layer, check out [MIT's introduction to deep learning video](https://www.youtube.com/watch?v=QDX-1M5Nj7s).\n",
        "\n",
        "📑**Exercise:** Try playing around with the no. of hidden units in the dense layer, see how that effects the number of parameters (total and trainable) by calling `model.summary()`"
      ],
      "metadata": {
        "id": "DPFMrb2zDB19"
      }
    },
    {
      "cell_type": "code",
      "source": [
        "# Let's fit our model to the training data\n",
        "model_2.fit(X_train, y_train, epochs=100, verbose=0)"
      ],
      "metadata": {
        "colab": {
          "base_uri": "https://localhost:8080/"
        },
        "id": "7zaFGRHeDasx",
        "outputId": "9552cfd7-ee95-490f-dd6e-5a39298e7ff8"
      },
      "execution_count": 26,
      "outputs": [
        {
          "output_type": "execute_result",
          "data": {
            "text/plain": [
              "<keras.src.callbacks.History at 0x7ade589219c0>"
            ]
          },
          "metadata": {},
          "execution_count": 26
        }
      ]
    },
    {
      "cell_type": "code",
      "source": [
        "# Get a summary of our model\n",
        "model_2.summary()"
      ],
      "metadata": {
        "colab": {
          "base_uri": "https://localhost:8080/"
        },
        "id": "mcN1D0XQFwm-",
        "outputId": "582a2682-6bd9-4817-ef67-c25a195624f9"
      },
      "execution_count": 27,
      "outputs": [
        {
          "output_type": "stream",
          "name": "stdout",
          "text": [
            "Model: \"model_2\"\n",
            "_________________________________________________________________\n",
            " Layer (type)                Output Shape              Param #   \n",
            "=================================================================\n",
            " input_layer (Dense)         (None, 128)               256       \n",
            "                                                                 \n",
            " output_layer (Dense)        (None, 1)                 129       \n",
            "                                                                 \n",
            "=================================================================\n",
            "Total params: 385 (1.50 KB)\n",
            "Trainable params: 385 (1.50 KB)\n",
            "Non-trainable params: 0 (0.00 Byte)\n",
            "_________________________________________________________________\n"
          ]
        }
      ]
    },
    {
      "cell_type": "code",
      "source": [
        "from tensorflow.keras.utils import plot_model\n",
        "\n",
        "plot_model(model_2, show_shapes=True)"
      ],
      "metadata": {
        "colab": {
          "base_uri": "https://localhost:8080/",
          "height": 312
        },
        "id": "wj9IowPhO_g5",
        "outputId": "dda8e26e-524d-428b-ca80-047836f5f574"
      },
      "execution_count": 28,
      "outputs": [
        {
          "output_type": "execute_result",
          "data": {
            "image/png": "[encoded data removed]",
            "text/plain": [
              "<IPython.core.display.Image object>"
            ]
          },
          "metadata": {},
          "execution_count": 28
        }
      ]
    },
    {
      "cell_type": "markdown",
      "source": [
        "### Visualizing our model's predictions\n",
        "\n",
        "To visualize predictions, it's a good idea to plot them against the ground truth labels.\n",
        "\n",
        "Often you'll see this in the form of `y_test` or `y_true` versus `y_pred` (ground truth versus model predictions)."
      ],
      "metadata": {
        "id": "nSPuFxaGP-rx"
      }
    },
    {
      "cell_type": "code",
      "source": [
        "# Make some predictions\n",
        "y_pred = model_2.predict(X_test)\n",
        "y_pred"
      ],
      "metadata": {
        "colab": {
          "base_uri": "https://localhost:8080/"
        },
        "id": "s_X_8q9iRljy",
        "outputId": "5a93fd81-13e4-466f-cfa6-83c710e39303"
      },
      "execution_count": 29,
      "outputs": [
        {
          "output_type": "stream",
          "name": "stdout",
          "text": [
            "1/1 [==============================] - 0s 53ms/step\n"
          ]
        },
        {
          "output_type": "execute_result",
          "data": {
            "text/plain": [
              "array([[ 72.89684 ],\n",
              "       [ 77.74717 ],\n",
              "       [ 82.59749 ],\n",
              "       [ 87.44781 ],\n",
              "       [ 92.298134],\n",
              "       [ 97.148445],\n",
              "       [101.99874 ],\n",
              "       [106.84905 ],\n",
              "       [111.69935 ],\n",
              "       [116.54966 ]], dtype=float32)"
            ]
          },
          "metadata": {},
          "execution_count": 29
        }
      ]
    },
    {
      "cell_type": "code",
      "source": [
        "y_test"
      ],
      "metadata": {
        "colab": {
          "base_uri": "https://localhost:8080/"
        },
        "id": "IOv7x99kSLMR",
        "outputId": "af8ed390-91b5-451f-ef04-e2740224142b"
      },
      "execution_count": 30,
      "outputs": [
        {
          "output_type": "execute_result",
          "data": {
            "text/plain": [
              "<tf.Tensor: shape=(10,), dtype=int32, numpy=array([ 70,  74,  78,  82,  86,  90,  94,  98, 102, 106], dtype=int32)>"
            ]
          },
          "metadata": {},
          "execution_count": 30
        }
      ]
    },
    {
      "cell_type": "markdown",
      "source": [
        "🔑**Note:** If you feel like you're going to reuse some kind of functionality in the future, it's a good idea to create a function for it."
      ],
      "metadata": {
        "id": "ilcxeOpmSVD2"
      }
    },
    {
      "cell_type": "code",
      "source": [
        "# Let's create a plotting a function\n",
        "def plot_predictions(train_data=X_train,\n",
        "                     train_labels=y_train,\n",
        "                     test_data=X_test,\n",
        "                     test_labels=y_test,\n",
        "                     predictions=y_pred):\n",
        "  '''\n",
        "  Plots training data, testing data, and compares the predictions to the ground truth labels.\n",
        "  '''\n",
        "  plt.figure(figsize=(10,7))\n",
        "  # Plot training data in blue\n",
        "  plt.scatter(train_data, train_labels, c=\"b\", label=\"Training\")\n",
        "  # Plot testing data in red\n",
        "  plt.scatter(test_data, test_labels, c=\"lightgreen\", label=\"Testing\")\n",
        "  # Plot the predictions in green\n",
        "  plt.scatter(test_data, predictions, c=\"r\", label=\"Predictions\")\n",
        "  # Show the legend\n",
        "  plt.legend()\n",
        "  # Show the plot\n",
        "  plt.show();"
      ],
      "metadata": {
        "id": "tFo13739SNAX"
      },
      "execution_count": 31,
      "outputs": []
    },
    {
      "cell_type": "code",
      "source": [
        "plot_predictions(train_data=X_train, train_labels=y_train,\n",
        "                 test_data=X_test, test_labels=y_test,\n",
        "                 predictions=y_pred)"
      ],
      "metadata": {
        "colab": {
          "base_uri": "https://localhost:8080/",
          "height": 463
        },
        "id": "pDv0DxafTq-z",
        "outputId": "4d3d8557-2246-451f-ab9b-c6b19b08095c"
      },
      "execution_count": 32,
      "outputs": [
        {
          "output_type": "display_data",
          "data": {
            "text/plain": [
              "<Figure size 1000x700 with 1 Axes>"
            ],
            "image/png": "[encoded data removed]"
          },
          "metadata": {}
        }
      ]
    },
    {
      "cell_type": "markdown",
      "source": [
        "### Evaluating our model's predictions with regression metrics\n",
        "\n",
        "Depending on the problem you're working on, there will be different evaluation metrics your model's performance.\n",
        "\n",
        "Since we're working on a regression, two of the main metrics:\n",
        "* **MAE** - mean absolute error, \"on average, how wrong is each of my model's predictions\"\n",
        "\n",
        "`(tf.keras.losses.MAE())`\n",
        "`tf.keras.losses.mean_absolute_error`\n",
        "* **MSE** - mean square error, \"square the average errors\"\n",
        "\n",
        "`tf.keras.losses.MSE()`\n",
        "`tf.keras.losses.mean_squared_error`"
      ],
      "metadata": {
        "id": "0m7PLPFHT1Cd"
      }
    },
    {
      "cell_type": "code",
      "source": [
        "# Evaluate the model on the test\n",
        "model_2.evaluate(X_test, y_test)"
      ],
      "metadata": {
        "id": "qrQag7NlUXBp",
        "colab": {
          "base_uri": "https://localhost:8080/"
        },
        "outputId": "9f4fca31-d420-4041-83a2-56e2dade30ef"
      },
      "execution_count": 33,
      "outputs": [
        {
          "output_type": "stream",
          "name": "stdout",
          "text": [
            "1/1 [==============================] - 0s 150ms/step - loss: 6.7233 - mae: 6.7233\n"
          ]
        },
        {
          "output_type": "execute_result",
          "data": {
            "text/plain": [
              "[6.723268985748291, 6.723268985748291]"
            ]
          },
          "metadata": {},
          "execution_count": 33
        }
      ]
    },
    {
      "cell_type": "code",
      "source": [
        "# Calculate the mean absolute error\n",
        "mae = tf.keras.losses.mean_absolute_error(y_true=y_test, y_pred=tf.squeeze(tf.constant(y_pred)))\n",
        "mae"
      ],
      "metadata": {
        "colab": {
          "base_uri": "https://localhost:8080/"
        },
        "id": "sraVP2oqW-2R",
        "outputId": "20cce8da-d0b3-4141-cb25-113772ae65a8"
      },
      "execution_count": 34,
      "outputs": [
        {
          "output_type": "execute_result",
          "data": {
            "text/plain": [
              "<tf.Tensor: shape=(), dtype=float32, numpy=6.723269>"
            ]
          },
          "metadata": {},
          "execution_count": 34
        }
      ]
    },
    {
      "cell_type": "code",
      "source": [
        "y_pred"
      ],
      "metadata": {
        "colab": {
          "base_uri": "https://localhost:8080/"
        },
        "id": "yredbHr1WuPk",
        "outputId": "f02adb65-3910-420e-f5b0-ffd656add362"
      },
      "execution_count": 35,
      "outputs": [
        {
          "output_type": "execute_result",
          "data": {
            "text/plain": [
              "array([[ 72.89684 ],\n",
              "       [ 77.74717 ],\n",
              "       [ 82.59749 ],\n",
              "       [ 87.44781 ],\n",
              "       [ 92.298134],\n",
              "       [ 97.148445],\n",
              "       [101.99874 ],\n",
              "       [106.84905 ],\n",
              "       [111.69935 ],\n",
              "       [116.54966 ]], dtype=float32)"
            ]
          },
          "metadata": {},
          "execution_count": 35
        }
      ]
    },
    {
      "cell_type": "code",
      "source": [
        "y_test"
      ],
      "metadata": {
        "colab": {
          "base_uri": "https://localhost:8080/"
        },
        "id": "dbqjiA4ZW7AZ",
        "outputId": "c3fcb77f-2e0c-47a7-9a15-c2ace399ad63"
      },
      "execution_count": 36,
      "outputs": [
        {
          "output_type": "execute_result",
          "data": {
            "text/plain": [
              "<tf.Tensor: shape=(10,), dtype=int32, numpy=array([ 70,  74,  78,  82,  86,  90,  94,  98, 102, 106], dtype=int32)>"
            ]
          },
          "metadata": {},
          "execution_count": 36
        }
      ]
    },
    {
      "cell_type": "code",
      "source": [
        "# Calculate the mean squared error\n",
        "mse = tf.keras.losses.mean_squared_error(y_true=y_test, y_pred=tf.squeeze(tf.constant(y_pred)))\n",
        "mse"
      ],
      "metadata": {
        "colab": {
          "base_uri": "https://localhost:8080/"
        },
        "id": "v6XQGimbW8RS",
        "outputId": "40821afd-94ef-4bd5-86e1-41716fbdc60d"
      },
      "execution_count": 37,
      "outputs": [
        {
          "output_type": "execute_result",
          "data": {
            "text/plain": [
              "<tf.Tensor: shape=(), dtype=float32, numpy=51.16735>"
            ]
          },
          "metadata": {},
          "execution_count": 37
        }
      ]
    },
    {
      "cell_type": "markdown",
      "source": [
        "🔑**Note:** Combination of MSE and MAE is called Huber Loss. Less sensitive to outliers than MSE\n",
        "\n",
        "`tf.keras.losses.Huber()`"
      ],
      "metadata": {
        "id": "WX4CoPHHZOdK"
      }
    },
    {
      "cell_type": "code",
      "source": [
        "# Make some functions to reuse MAE and MSE\n",
        "def mae(y_true, y_pred):\n",
        "  return tf.keras.losses.mean_absolute_error(y_true=y_true,\n",
        "                                             y_pred=y_pred)\n",
        "\n",
        "def mse(y_true, y_pred):\n",
        "  return tf.keras.losses.mean_squared_error(y_true=y_true,\n",
        "                                            y_pred=y_pred)"
      ],
      "metadata": {
        "id": "mOHF2cTTY0EB"
      },
      "execution_count": 38,
      "outputs": []
    },
    {
      "cell_type": "markdown",
      "source": [
        "### Running experiments to improve our model\n",
        "\n",
        "```\n",
        "Build a model -> fit it -> evaluate it -> tweak it -> fit it\n",
        "-> evaluate it -> tweak it -> fit it -> evaluate it - > repeat\n",
        "```\n",
        "\n",
        "1. Get more data - get more examples to train on (more opportunities to learn patterns or relationships b/w features and labels).\n",
        "2. Make your model larger (using more complex model) - this might come in form of more layers or more hidden units in each layer.\n",
        "3. Train for longer - give your model more of a chance to find patterns in the data.\n",
        "\n",
        "Let's do 3 modelling experiments:\n",
        "\n",
        "1. `model_1` - same as the original model, 1 layer, trained for 100 epochs.\n",
        "2. `model_2` - 2 layers, trained for 100 epochs\n",
        "3. `model_3` - 3 layers, trained for 500 epochs\n",
        "\n",
        "**Build `model_1`**"
      ],
      "metadata": {
        "id": "wcQ4iPIjaGlt"
      }
    },
    {
      "cell_type": "code",
      "source": [
        "# Set random seed\n",
        "tf.random.set_seed(42)\n",
        "\n",
        "# 1. Create the model\n",
        "model_1 = tf.keras.Sequential([\n",
        "    tf.keras.layers.Dense(1)\n",
        "])\n",
        "\n",
        "# 2. Compile the model\n",
        "model_1.compile(loss=tf.keras.losses.mae,\n",
        "                optimizer=tf.keras.optimizers.SGD(),\n",
        "                metrics=[\"mae\"])\n",
        "\n",
        "# 3. Fit the model\n",
        "model_1.fit(tf.expand_dims(X_train, axis=-1), y_train, epochs=100)"
      ],
      "metadata": {
        "colab": {
          "base_uri": "https://localhost:8080/"
        },
        "id": "PHGmINHkatgs",
        "outputId": "00554b37-1185-4f4b-f826-c6a10043488f"
      },
      "execution_count": 39,
      "outputs": [
        {
          "output_type": "stream",
          "name": "stdout",
          "text": [
            "Epoch 1/100\n",
            "2/2 [==============================] - 0s 10ms/step - loss: 7.6200 - mae: 7.6200\n",
            "Epoch 2/100\n",
            "2/2 [==============================] - 0s 7ms/step - loss: 8.2367 - mae: 8.2367\n",
            "Epoch 3/100\n",
            "2/2 [==============================] - 0s 8ms/step - loss: 10.3280 - mae: 10.3280\n",
            "Epoch 4/100\n",
            "2/2 [==============================] - 0s 7ms/step - loss: 12.7489 - mae: 12.7489\n",
            "Epoch 5/100\n",
            "2/2 [==============================] - 0s 8ms/step - loss: 11.7944 - mae: 11.7944\n",
            "Epoch 6/100\n",
            "2/2 [==============================] - 0s 7ms/step - loss: 10.9131 - mae: 10.9131\n",
            "Epoch 7/100\n",
            "2/2 [==============================] - 0s 9ms/step - loss: 8.6671 - mae: 8.6671\n",
            "Epoch 8/100\n",
            "2/2 [==============================] - 0s 9ms/step - loss: 7.7415 - mae: 7.7415\n",
            "Epoch 9/100\n",
            "2/2 [==============================] - 0s 7ms/step - loss: 19.8848 - mae: 19.8848\n",
            "Epoch 10/100\n",
            "2/2 [==============================] - 0s 7ms/step - loss: 13.7344 - mae: 13.7344\n",
            "Epoch 11/100\n",
            "2/2 [==============================] - 0s 7ms/step - loss: 11.8224 - mae: 11.8224\n",
            "Epoch 12/100\n",
            "2/2 [==============================] - 0s 9ms/step - loss: 16.3385 - mae: 16.3385\n",
            "Epoch 13/100\n",
            "2/2 [==============================] - 0s 7ms/step - loss: 11.8936 - mae: 11.8936\n",
            "Epoch 14/100\n",
            "2/2 [==============================] - 0s 7ms/step - loss: 13.8082 - mae: 13.8082\n",
            "Epoch 15/100\n",
            "2/2 [==============================] - 0s 9ms/step - loss: 11.1923 - mae: 11.1923\n",
            "Epoch 16/100\n",
            "2/2 [==============================] - 0s 7ms/step - loss: 8.5973 - mae: 8.5973\n",
            "Epoch 17/100\n",
            "2/2 [==============================] - 0s 7ms/step - loss: 13.7744 - mae: 13.7744\n",
            "Epoch 18/100\n",
            "2/2 [==============================] - 0s 8ms/step - loss: 11.6387 - mae: 11.6387\n",
            "Epoch 19/100\n",
            "2/2 [==============================] - 0s 7ms/step - loss: 17.6926 - mae: 17.6926\n",
            "Epoch 20/100\n",
            "2/2 [==============================] - 0s 9ms/step - loss: 14.8289 - mae: 14.8289\n",
            "Epoch 21/100\n",
            "2/2 [==============================] - 0s 8ms/step - loss: 10.7395 - mae: 10.7395\n",
            "Epoch 22/100\n",
            "2/2 [==============================] - 0s 8ms/step - loss: 8.4782 - mae: 8.4782\n",
            "Epoch 23/100\n",
            "2/2 [==============================] - 0s 7ms/step - loss: 9.7946 - mae: 9.7946\n",
            "Epoch 24/100\n",
            "2/2 [==============================] - 0s 7ms/step - loss: 10.8388 - mae: 10.8388\n",
            "Epoch 25/100\n",
            "2/2 [==============================] - 0s 7ms/step - loss: 9.1082 - mae: 9.1082\n",
            "Epoch 26/100\n",
            "2/2 [==============================] - 0s 7ms/step - loss: 13.0681 - mae: 13.0681\n",
            "Epoch 27/100\n",
            "2/2 [==============================] - 0s 7ms/step - loss: 10.3991 - mae: 10.3991\n",
            "Epoch 28/100\n",
            "2/2 [==============================] - 0s 9ms/step - loss: 13.4072 - mae: 13.4072\n",
            "Epoch 29/100\n",
            "2/2 [==============================] - 0s 7ms/step - loss: 9.6076 - mae: 9.6076\n",
            "Epoch 30/100\n",
            "2/2 [==============================] - 0s 7ms/step - loss: 17.2312 - mae: 17.2312\n",
            "Epoch 31/100\n",
            "2/2 [==============================] - 0s 9ms/step - loss: 22.8297 - mae: 22.8297\n",
            "Epoch 32/100\n",
            "2/2 [==============================] - 0s 7ms/step - loss: 7.9090 - mae: 7.9090\n",
            "Epoch 33/100\n",
            "2/2 [==============================] - 0s 9ms/step - loss: 14.1577 - mae: 14.1577\n",
            "Epoch 34/100\n",
            "2/2 [==============================] - 0s 9ms/step - loss: 12.4088 - mae: 12.4088\n",
            "Epoch 35/100\n",
            "2/2 [==============================] - 0s 7ms/step - loss: 8.2444 - mae: 8.2444\n",
            "Epoch 36/100\n",
            "2/2 [==============================] - 0s 8ms/step - loss: 10.4565 - mae: 10.4565\n",
            "Epoch 37/100\n",
            "2/2 [==============================] - 0s 8ms/step - loss: 10.1058 - mae: 10.1058\n",
            "Epoch 38/100\n",
            "2/2 [==============================] - 0s 8ms/step - loss: 11.2868 - mae: 11.2868\n",
            "Epoch 39/100\n",
            "2/2 [==============================] - 0s 7ms/step - loss: 14.7795 - mae: 14.7795\n",
            "Epoch 40/100\n",
            "2/2 [==============================] - 0s 7ms/step - loss: 12.9096 - mae: 12.9096\n",
            "Epoch 41/100\n",
            "2/2 [==============================] - 0s 7ms/step - loss: 9.3027 - mae: 9.3027\n",
            "Epoch 42/100\n",
            "2/2 [==============================] - 0s 8ms/step - loss: 10.9737 - mae: 10.9737\n",
            "Epoch 43/100\n",
            "2/2 [==============================] - 0s 8ms/step - loss: 8.3225 - mae: 8.3225\n",
            "Epoch 44/100\n",
            "2/2 [==============================] - 0s 7ms/step - loss: 13.0050 - mae: 13.0050\n",
            "Epoch 45/100\n",
            "2/2 [==============================] - 0s 7ms/step - loss: 13.7045 - mae: 13.7045\n",
            "Epoch 46/100\n",
            "2/2 [==============================] - 0s 7ms/step - loss: 8.4026 - mae: 8.4026\n",
            "Epoch 47/100\n",
            "2/2 [==============================] - 0s 8ms/step - loss: 9.1671 - mae: 9.1671\n",
            "Epoch 48/100\n",
            "2/2 [==============================] - 0s 8ms/step - loss: 10.6726 - mae: 10.6726\n",
            "Epoch 49/100\n",
            "2/2 [==============================] - 0s 7ms/step - loss: 7.7794 - mae: 7.7794\n",
            "Epoch 50/100\n",
            "2/2 [==============================] - 0s 8ms/step - loss: 9.5895 - mae: 9.5895\n",
            "Epoch 51/100\n",
            "2/2 [==============================] - 0s 7ms/step - loss: 9.1642 - mae: 9.1642\n",
            "Epoch 52/100\n",
            "2/2 [==============================] - 0s 7ms/step - loss: 16.4812 - mae: 16.4812\n",
            "Epoch 53/100\n",
            "2/2 [==============================] - 0s 7ms/step - loss: 14.0722 - mae: 14.0722\n",
            "Epoch 54/100\n",
            "2/2 [==============================] - 0s 8ms/step - loss: 20.9875 - mae: 20.9875\n",
            "Epoch 55/100\n",
            "2/2 [==============================] - 0s 8ms/step - loss: 16.5016 - mae: 16.5016\n",
            "Epoch 56/100\n",
            "2/2 [==============================] - 0s 8ms/step - loss: 9.8504 - mae: 9.8504\n",
            "Epoch 57/100\n",
            "2/2 [==============================] - 0s 8ms/step - loss: 9.6571 - mae: 9.6571\n",
            "Epoch 58/100\n",
            "2/2 [==============================] - 0s 12ms/step - loss: 8.9750 - mae: 8.9750\n",
            "Epoch 59/100\n",
            "2/2 [==============================] - 0s 10ms/step - loss: 10.1873 - mae: 10.1873\n",
            "Epoch 60/100\n",
            "2/2 [==============================] - 0s 8ms/step - loss: 8.4070 - mae: 8.4070\n",
            "Epoch 61/100\n",
            "2/2 [==============================] - 0s 7ms/step - loss: 9.2421 - mae: 9.2421\n",
            "Epoch 62/100\n",
            "2/2 [==============================] - 0s 7ms/step - loss: 7.0668 - mae: 7.0668\n",
            "Epoch 63/100\n",
            "2/2 [==============================] - 0s 8ms/step - loss: 8.6525 - mae: 8.6525\n",
            "Epoch 64/100\n",
            "2/2 [==============================] - 0s 8ms/step - loss: 9.2286 - mae: 9.2286\n",
            "Epoch 65/100\n",
            "2/2 [==============================] - 0s 8ms/step - loss: 10.4977 - mae: 10.4977\n",
            "Epoch 66/100\n",
            "2/2 [==============================] - 0s 8ms/step - loss: 15.6117 - mae: 15.6117\n",
            "Epoch 67/100\n",
            "2/2 [==============================] - 0s 8ms/step - loss: 10.0126 - mae: 10.0126\n",
            "Epoch 68/100\n",
            "2/2 [==============================] - 0s 9ms/step - loss: 8.7218 - mae: 8.7218\n",
            "Epoch 69/100\n",
            "2/2 [==============================] - 0s 8ms/step - loss: 13.4885 - mae: 13.4885\n",
            "Epoch 70/100\n",
            "2/2 [==============================] - 0s 8ms/step - loss: 7.4682 - mae: 7.4682\n",
            "Epoch 71/100\n",
            "2/2 [==============================] - 0s 8ms/step - loss: 12.2246 - mae: 12.2246\n",
            "Epoch 72/100\n",
            "2/2 [==============================] - 0s 9ms/step - loss: 8.5330 - mae: 8.5330\n",
            "Epoch 73/100\n",
            "2/2 [==============================] - 0s 8ms/step - loss: 7.0387 - mae: 7.0387\n",
            "Epoch 74/100\n",
            "2/2 [==============================] - 0s 8ms/step - loss: 9.9315 - mae: 9.9315\n",
            "Epoch 75/100\n",
            "2/2 [==============================] - 0s 9ms/step - loss: 9.9352 - mae: 9.9352\n",
            "Epoch 76/100\n",
            "2/2 [==============================] - 0s 6ms/step - loss: 10.1020 - mae: 10.1020\n",
            "Epoch 77/100\n",
            "2/2 [==============================] - 0s 13ms/step - loss: 12.9500 - mae: 12.9500\n",
            "Epoch 78/100\n",
            "2/2 [==============================] - 0s 10ms/step - loss: 11.1487 - mae: 11.1487\n",
            "Epoch 79/100\n",
            "2/2 [==============================] - 0s 8ms/step - loss: 14.7023 - mae: 14.7023\n",
            "Epoch 80/100\n",
            "2/2 [==============================] - 0s 8ms/step - loss: 8.9236 - mae: 8.9236\n",
            "Epoch 81/100\n",
            "2/2 [==============================] - 0s 8ms/step - loss: 10.7662 - mae: 10.7662\n",
            "Epoch 82/100\n",
            "2/2 [==============================] - 0s 7ms/step - loss: 8.3894 - mae: 8.3894\n",
            "Epoch 83/100\n",
            "2/2 [==============================] - 0s 7ms/step - loss: 9.2228 - mae: 9.2228\n",
            "Epoch 84/100\n",
            "2/2 [==============================] - 0s 9ms/step - loss: 8.9412 - mae: 8.9412\n",
            "Epoch 85/100\n",
            "2/2 [==============================] - 0s 7ms/step - loss: 13.1963 - mae: 13.1963\n",
            "Epoch 86/100\n",
            "2/2 [==============================] - 0s 13ms/step - loss: 13.7049 - mae: 13.7049\n",
            "Epoch 87/100\n",
            "2/2 [==============================] - 0s 8ms/step - loss: 13.1892 - mae: 13.1892\n",
            "Epoch 88/100\n",
            "2/2 [==============================] - 0s 8ms/step - loss: 11.5151 - mae: 11.5151\n",
            "Epoch 89/100\n",
            "2/2 [==============================] - 0s 8ms/step - loss: 7.8033 - mae: 7.8033\n",
            "Epoch 90/100\n",
            "2/2 [==============================] - 0s 7ms/step - loss: 10.9296 - mae: 10.9296\n",
            "Epoch 91/100\n",
            "2/2 [==============================] - 0s 7ms/step - loss: 6.7487 - mae: 6.7487\n",
            "Epoch 92/100\n",
            "2/2 [==============================] - 0s 7ms/step - loss: 10.1222 - mae: 10.1222\n",
            "Epoch 93/100\n",
            "2/2 [==============================] - 0s 7ms/step - loss: 7.6063 - mae: 7.6063\n",
            "Epoch 94/100\n",
            "2/2 [==============================] - 0s 8ms/step - loss: 9.2386 - mae: 9.2386\n",
            "Epoch 95/100\n",
            "2/2 [==============================] - 0s 8ms/step - loss: 10.8277 - mae: 10.8277\n",
            "Epoch 96/100\n",
            "2/2 [==============================] - 0s 9ms/step - loss: 10.2951 - mae: 10.2951\n",
            "Epoch 97/100\n",
            "2/2 [==============================] - 0s 7ms/step - loss: 7.6781 - mae: 7.6781\n",
            "Epoch 98/100\n",
            "2/2 [==============================] - 0s 7ms/step - loss: 8.6134 - mae: 8.6134\n",
            "Epoch 99/100\n",
            "2/2 [==============================] - 0s 7ms/step - loss: 9.3918 - mae: 9.3918\n",
            "Epoch 100/100\n",
            "2/2 [==============================] - 0s 7ms/step - loss: 8.8379 - mae: 8.8379\n"
          ]
        },
        {
          "output_type": "execute_result",
          "data": {
            "text/plain": [
              "<keras.src.callbacks.History at 0x7ade586a79a0>"
            ]
          },
          "metadata": {},
          "execution_count": 39
        }
      ]
    },
    {
      "cell_type": "code",
      "source": [
        "# Make and plot predictions for model_1\n",
        "y_preds_1 = model_1.predict(tf.expand_dims(X_test, axis=-1))\n",
        "plot_predictions(train_data=X_train, train_labels=y_train,\n",
        "                 test_data=X_test, test_labels=y_test,\n",
        "                 predictions=y_preds_1)"
      ],
      "metadata": {
        "colab": {
          "base_uri": "https://localhost:8080/",
          "height": 480
        },
        "id": "xRZ9-6FRbcEL",
        "outputId": "7160fdbb-3691-4773-d0bc-ba87f49200e3"
      },
      "execution_count": 40,
      "outputs": [
        {
          "output_type": "stream",
          "name": "stdout",
          "text": [
            "1/1 [==============================] - 0s 48ms/step\n"
          ]
        },
        {
          "output_type": "display_data",
          "data": {
            "text/plain": [
              "<Figure size 1000x700 with 1 Axes>"
            ],
            "image/png": "[encoded data removed]"
          },
          "metadata": {}
        }
      ]
    },
    {
      "cell_type": "code",
      "source": [
        "# Calculate model_1 evaluation metrics\n",
        "mae_1 = mae(y_test, tf.squeeze(tf.constant(y_preds_1)))\n",
        "mse_1 = mse(y_test, tf.squeeze(tf.constant(y_preds_1)))\n",
        "mae_1, mse_1"
      ],
      "metadata": {
        "colab": {
          "base_uri": "https://localhost:8080/"
        },
        "id": "ud7dtmg2dD9q",
        "outputId": "1f7bd165-fa3f-4838-81e5-15ba3ec58929"
      },
      "execution_count": 41,
      "outputs": [
        {
          "output_type": "execute_result",
          "data": {
            "text/plain": [
              "(<tf.Tensor: shape=(), dtype=float32, numpy=8.627173>,\n",
              " <tf.Tensor: shape=(), dtype=float32, numpy=80.94013>)"
            ]
          },
          "metadata": {},
          "execution_count": 41
        }
      ]
    },
    {
      "cell_type": "markdown",
      "source": [
        "**Build `model_2`\n",
        "\n",
        "* 2 dense layers trained for 100 epochs"
      ],
      "metadata": {
        "id": "4jTTOZc9e755"
      }
    },
    {
      "cell_type": "code",
      "source": [
        "# Set random seed\n",
        "tf.random.set_seed(42)\n",
        "\n",
        "# 1. Create the model\n",
        "model_2 = tf.keras.Sequential([\n",
        "    tf.keras.layers.Dense(16, activation='relu'),\n",
        "    tf.keras.layers.Dense(1)\n",
        "])\n",
        "\n",
        "# 2. Compile the model\n",
        "model_2.compile(loss=tf.keras.losses.mse,\n",
        "                optimizer=tf.keras.optimizers.SGD(learning_rate=0.0001),\n",
        "                metrics=[\"mse\"])\n",
        "\n",
        "# 3. Fit the model\n",
        "model_2.fit(tf.expand_dims(X_train, axis=-1), y_train, epochs=100)"
      ],
      "metadata": {
        "colab": {
          "base_uri": "https://localhost:8080/"
        },
        "id": "Vl1JsmVNdIvX",
        "outputId": "ee7dae78-e6b6-4496-b475-31451e280dc6"
      },
      "execution_count": 42,
      "outputs": [
        {
          "output_type": "stream",
          "name": "stdout",
          "text": [
            "Epoch 1/100\n",
            "2/2 [==============================] - 0s 11ms/step - loss: 4153.4805 - mse: 4153.4805\n",
            "Epoch 2/100\n",
            "2/2 [==============================] - 0s 8ms/step - loss: 492.0801 - mse: 492.0801\n",
            "Epoch 3/100\n",
            "2/2 [==============================] - 0s 7ms/step - loss: 345.6018 - mse: 345.6018\n",
            "Epoch 4/100\n",
            "2/2 [==============================] - 0s 9ms/step - loss: 203.3341 - mse: 203.3341\n",
            "Epoch 5/100\n",
            "2/2 [==============================] - 0s 7ms/step - loss: 106.8667 - mse: 106.8667\n",
            "Epoch 6/100\n",
            "2/2 [==============================] - 0s 7ms/step - loss: 60.1821 - mse: 60.1821\n",
            "Epoch 7/100\n",
            "2/2 [==============================] - 0s 12ms/step - loss: 43.2447 - mse: 43.2447\n",
            "Epoch 8/100\n",
            "2/2 [==============================] - 0s 7ms/step - loss: 34.3999 - mse: 34.3999\n",
            "Epoch 9/100\n",
            "2/2 [==============================] - 0s 7ms/step - loss: 41.8187 - mse: 41.8187\n",
            "Epoch 10/100\n",
            "2/2 [==============================] - 0s 9ms/step - loss: 26.9374 - mse: 26.9374\n",
            "Epoch 11/100\n",
            "2/2 [==============================] - 0s 8ms/step - loss: 25.5357 - mse: 25.5357\n",
            "Epoch 12/100\n",
            "2/2 [==============================] - 0s 7ms/step - loss: 25.0770 - mse: 25.0770\n",
            "Epoch 13/100\n",
            "2/2 [==============================] - 0s 7ms/step - loss: 25.7356 - mse: 25.7356\n",
            "Epoch 14/100\n",
            "2/2 [==============================] - 0s 7ms/step - loss: 29.9848 - mse: 29.9848\n",
            "Epoch 15/100\n",
            "2/2 [==============================] - 0s 8ms/step - loss: 25.4479 - mse: 25.4479\n",
            "Epoch 16/100\n",
            "2/2 [==============================] - 0s 7ms/step - loss: 24.9242 - mse: 24.9242\n",
            "Epoch 17/100\n",
            "2/2 [==============================] - 0s 7ms/step - loss: 26.1678 - mse: 26.1678\n",
            "Epoch 18/100\n",
            "2/2 [==============================] - 0s 7ms/step - loss: 25.1566 - mse: 25.1566\n",
            "Epoch 19/100\n",
            "2/2 [==============================] - 0s 7ms/step - loss: 25.0278 - mse: 25.0278\n",
            "Epoch 20/100\n",
            "2/2 [==============================] - 0s 8ms/step - loss: 25.2341 - mse: 25.2341\n",
            "Epoch 21/100\n",
            "2/2 [==============================] - 0s 8ms/step - loss: 25.2269 - mse: 25.2269\n",
            "Epoch 22/100\n",
            "2/2 [==============================] - 0s 11ms/step - loss: 24.8477 - mse: 24.8477\n",
            "Epoch 23/100\n",
            "2/2 [==============================] - 0s 8ms/step - loss: 24.8637 - mse: 24.8637\n",
            "Epoch 24/100\n",
            "2/2 [==============================] - 0s 8ms/step - loss: 25.4665 - mse: 25.4665\n",
            "Epoch 25/100\n",
            "2/2 [==============================] - 0s 8ms/step - loss: 26.8589 - mse: 26.8589\n",
            "Epoch 26/100\n",
            "2/2 [==============================] - 0s 8ms/step - loss: 25.1326 - mse: 25.1326\n",
            "Epoch 27/100\n",
            "2/2 [==============================] - 0s 10ms/step - loss: 25.1519 - mse: 25.1519\n",
            "Epoch 28/100\n",
            "2/2 [==============================] - 0s 8ms/step - loss: 24.8745 - mse: 24.8745\n",
            "Epoch 29/100\n",
            "2/2 [==============================] - 0s 7ms/step - loss: 25.5849 - mse: 25.5849\n",
            "Epoch 30/100\n",
            "2/2 [==============================] - 0s 7ms/step - loss: 29.9232 - mse: 29.9232\n",
            "Epoch 31/100\n",
            "2/2 [==============================] - 0s 8ms/step - loss: 28.4070 - mse: 28.4070\n",
            "Epoch 32/100\n",
            "2/2 [==============================] - 0s 7ms/step - loss: 27.5739 - mse: 27.5739\n",
            "Epoch 33/100\n",
            "2/2 [==============================] - 0s 11ms/step - loss: 24.8664 - mse: 24.8664\n",
            "Epoch 34/100\n",
            "2/2 [==============================] - 0s 12ms/step - loss: 25.1652 - mse: 25.1652\n",
            "Epoch 35/100\n",
            "2/2 [==============================] - 0s 9ms/step - loss: 27.9445 - mse: 27.9445\n",
            "Epoch 36/100\n",
            "2/2 [==============================] - 0s 7ms/step - loss: 27.5096 - mse: 27.5096\n",
            "Epoch 37/100\n",
            "2/2 [==============================] - 0s 8ms/step - loss: 24.9872 - mse: 24.9872\n",
            "Epoch 38/100\n",
            "2/2 [==============================] - 0s 11ms/step - loss: 24.9666 - mse: 24.9666\n",
            "Epoch 39/100\n",
            "2/2 [==============================] - 0s 8ms/step - loss: 24.7142 - mse: 24.7142\n",
            "Epoch 40/100\n",
            "2/2 [==============================] - 0s 8ms/step - loss: 24.8330 - mse: 24.8330\n",
            "Epoch 41/100\n",
            "2/2 [==============================] - 0s 8ms/step - loss: 25.5224 - mse: 25.5224\n",
            "Epoch 42/100\n",
            "2/2 [==============================] - 0s 7ms/step - loss: 24.7984 - mse: 24.7984\n",
            "Epoch 43/100\n",
            "2/2 [==============================] - 0s 9ms/step - loss: 25.0308 - mse: 25.0308\n",
            "Epoch 44/100\n",
            "2/2 [==============================] - 0s 8ms/step - loss: 26.3657 - mse: 26.3657\n",
            "Epoch 45/100\n",
            "2/2 [==============================] - 0s 8ms/step - loss: 27.0631 - mse: 27.0631\n",
            "Epoch 46/100\n",
            "2/2 [==============================] - 0s 8ms/step - loss: 26.2924 - mse: 26.2924\n",
            "Epoch 47/100\n",
            "2/2 [==============================] - 0s 7ms/step - loss: 26.1469 - mse: 26.1469\n",
            "Epoch 48/100\n",
            "2/2 [==============================] - 0s 7ms/step - loss: 25.7424 - mse: 25.7424\n",
            "Epoch 49/100\n",
            "2/2 [==============================] - 0s 11ms/step - loss: 26.5458 - mse: 26.5458\n",
            "Epoch 50/100\n",
            "2/2 [==============================] - 0s 9ms/step - loss: 28.1879 - mse: 28.1879\n",
            "Epoch 51/100\n",
            "2/2 [==============================] - 0s 8ms/step - loss: 25.1939 - mse: 25.1939\n",
            "Epoch 52/100\n",
            "2/2 [==============================] - 0s 8ms/step - loss: 27.4180 - mse: 27.4180\n",
            "Epoch 53/100\n",
            "2/2 [==============================] - 0s 9ms/step - loss: 25.9425 - mse: 25.9425\n",
            "Epoch 54/100\n",
            "2/2 [==============================] - 0s 8ms/step - loss: 25.6070 - mse: 25.6070\n",
            "Epoch 55/100\n",
            "2/2 [==============================] - 0s 10ms/step - loss: 26.0504 - mse: 26.0504\n",
            "Epoch 56/100\n",
            "2/2 [==============================] - 0s 8ms/step - loss: 24.6135 - mse: 24.6135\n",
            "Epoch 57/100\n",
            "2/2 [==============================] - 0s 8ms/step - loss: 25.6190 - mse: 25.6190\n",
            "Epoch 58/100\n",
            "2/2 [==============================] - 0s 12ms/step - loss: 24.6137 - mse: 24.6137\n",
            "Epoch 59/100\n",
            "2/2 [==============================] - 0s 10ms/step - loss: 24.8237 - mse: 24.8237\n",
            "Epoch 60/100\n",
            "2/2 [==============================] - 0s 8ms/step - loss: 26.9646 - mse: 26.9646\n",
            "Epoch 61/100\n",
            "2/2 [==============================] - 0s 7ms/step - loss: 24.7290 - mse: 24.7290\n",
            "Epoch 62/100\n",
            "2/2 [==============================] - 0s 8ms/step - loss: 24.9422 - mse: 24.9422\n",
            "Epoch 63/100\n",
            "2/2 [==============================] - 0s 7ms/step - loss: 25.1080 - mse: 25.1080\n",
            "Epoch 64/100\n",
            "2/2 [==============================] - 0s 11ms/step - loss: 24.5977 - mse: 24.5977\n",
            "Epoch 65/100\n",
            "2/2 [==============================] - 0s 7ms/step - loss: 25.8243 - mse: 25.8243\n",
            "Epoch 66/100\n",
            "2/2 [==============================] - 0s 7ms/step - loss: 25.8461 - mse: 25.8461\n",
            "Epoch 67/100\n",
            "2/2 [==============================] - 0s 7ms/step - loss: 24.7213 - mse: 24.7213\n",
            "Epoch 68/100\n",
            "2/2 [==============================] - 0s 7ms/step - loss: 24.5836 - mse: 24.5836\n",
            "Epoch 69/100\n",
            "2/2 [==============================] - 0s 7ms/step - loss: 25.3078 - mse: 25.3078\n",
            "Epoch 70/100\n",
            "2/2 [==============================] - 0s 7ms/step - loss: 24.7692 - mse: 24.7692\n",
            "Epoch 71/100\n",
            "2/2 [==============================] - 0s 7ms/step - loss: 25.7929 - mse: 25.7929\n",
            "Epoch 72/100\n",
            "2/2 [==============================] - 0s 7ms/step - loss: 24.4749 - mse: 24.4749\n",
            "Epoch 73/100\n",
            "2/2 [==============================] - 0s 7ms/step - loss: 25.4845 - mse: 25.4845\n",
            "Epoch 74/100\n",
            "2/2 [==============================] - 0s 7ms/step - loss: 27.2250 - mse: 27.2250\n",
            "Epoch 75/100\n",
            "2/2 [==============================] - 0s 7ms/step - loss: 28.5701 - mse: 28.5701\n",
            "Epoch 76/100\n",
            "2/2 [==============================] - 0s 7ms/step - loss: 25.4752 - mse: 25.4752\n",
            "Epoch 77/100\n",
            "2/2 [==============================] - 0s 7ms/step - loss: 25.0363 - mse: 25.0363\n",
            "Epoch 78/100\n",
            "2/2 [==============================] - 0s 7ms/step - loss: 26.9062 - mse: 26.9062\n",
            "Epoch 79/100\n",
            "2/2 [==============================] - 0s 7ms/step - loss: 27.5224 - mse: 27.5224\n",
            "Epoch 80/100\n",
            "2/2 [==============================] - 0s 7ms/step - loss: 27.5988 - mse: 27.5988\n",
            "Epoch 81/100\n",
            "2/2 [==============================] - 0s 7ms/step - loss: 25.3706 - mse: 25.3706\n",
            "Epoch 82/100\n",
            "2/2 [==============================] - 0s 7ms/step - loss: 24.9536 - mse: 24.9536\n",
            "Epoch 83/100\n",
            "2/2 [==============================] - 0s 7ms/step - loss: 25.6144 - mse: 25.6144\n",
            "Epoch 84/100\n",
            "2/2 [==============================] - 0s 7ms/step - loss: 25.3707 - mse: 25.3707\n",
            "Epoch 85/100\n",
            "2/2 [==============================] - 0s 8ms/step - loss: 29.6917 - mse: 29.6917\n",
            "Epoch 86/100\n",
            "2/2 [==============================] - 0s 7ms/step - loss: 25.1612 - mse: 25.1612\n",
            "Epoch 87/100\n",
            "2/2 [==============================] - 0s 8ms/step - loss: 31.5102 - mse: 31.5102\n",
            "Epoch 88/100\n",
            "2/2 [==============================] - 0s 7ms/step - loss: 33.4264 - mse: 33.4264\n",
            "Epoch 89/100\n",
            "2/2 [==============================] - 0s 7ms/step - loss: 26.7741 - mse: 26.7741\n",
            "Epoch 90/100\n",
            "2/2 [==============================] - 0s 7ms/step - loss: 27.0141 - mse: 27.0141\n",
            "Epoch 91/100\n",
            "2/2 [==============================] - 0s 7ms/step - loss: 24.4087 - mse: 24.4087\n",
            "Epoch 92/100\n",
            "2/2 [==============================] - 0s 11ms/step - loss: 24.6438 - mse: 24.6438\n",
            "Epoch 93/100\n",
            "2/2 [==============================] - 0s 7ms/step - loss: 24.8348 - mse: 24.8348\n",
            "Epoch 94/100\n",
            "2/2 [==============================] - 0s 7ms/step - loss: 24.6270 - mse: 24.6270\n",
            "Epoch 95/100\n",
            "2/2 [==============================] - 0s 8ms/step - loss: 24.8158 - mse: 24.8158\n",
            "Epoch 96/100\n",
            "2/2 [==============================] - 0s 7ms/step - loss: 25.2819 - mse: 25.2819\n",
            "Epoch 97/100\n",
            "2/2 [==============================] - 0s 7ms/step - loss: 26.7060 - mse: 26.7060\n",
            "Epoch 98/100\n",
            "2/2 [==============================] - 0s 7ms/step - loss: 25.0736 - mse: 25.0736\n",
            "Epoch 99/100\n",
            "2/2 [==============================] - 0s 7ms/step - loss: 24.3561 - mse: 24.3561\n",
            "Epoch 100/100\n",
            "2/2 [==============================] - 0s 8ms/step - loss: 24.3158 - mse: 24.3158\n"
          ]
        },
        {
          "output_type": "execute_result",
          "data": {
            "text/plain": [
              "<keras.src.callbacks.History at 0x7ade58620370>"
            ]
          },
          "metadata": {},
          "execution_count": 42
        }
      ]
    },
    {
      "cell_type": "code",
      "source": [
        "# Make and plot predictions for model_1\n",
        "y_preds_2 = model_2.predict(tf.expand_dims(X_test, axis=-1))\n",
        "plot_predictions(train_data=X_train, train_labels=y_train,\n",
        "                 test_data=X_test, test_labels=y_test,\n",
        "                 predictions=y_preds_2)"
      ],
      "metadata": {
        "colab": {
          "base_uri": "https://localhost:8080/",
          "height": 517
        },
        "id": "JcCj-qqYdCd9",
        "outputId": "2f72ecc8-994b-4fba-9a9d-6bcd58b9d0e2"
      },
      "execution_count": 43,
      "outputs": [
        {
          "output_type": "stream",
          "name": "stderr",
          "text": [
            "WARNING:tensorflow:5 out of the last 5 calls to <function Model.make_predict_function.<locals>.predict_function at 0x7ade585da680> triggered tf.function retracing. Tracing is expensive and the excessive number of tracings could be due to (1) creating @tf.function repeatedly in a loop, (2) passing tensors with different shapes, (3) passing Python objects instead of tensors. For (1), please define your @tf.function outside of the loop. For (2), @tf.function has reduce_retracing=True option that can avoid unnecessary retracing. For (3), please refer to https://www.tensorflow.org/guide/function#controlling_retracing and https://www.tensorflow.org/api_docs/python/tf/function for  more details.\n"
          ]
        },
        {
          "output_type": "stream",
          "name": "stdout",
          "text": [
            "1/1 [==============================] - 0s 99ms/step\n"
          ]
        },
        {
          "output_type": "display_data",
          "data": {
            "text/plain": [
              "<Figure size 1000x700 with 1 Axes>"
            ],
            "image/png": "[encoded data removed]"
          },
          "metadata": {}
        }
      ]
    },
    {
      "cell_type": "code",
      "source": [
        "# Calculate model_2 evaluation metrics\n",
        "mae_2 = mae(y_test, tf.squeeze(tf.constant(y_preds_2)))\n",
        "mse_2 = mse(y_test, tf.squeeze(tf.constant(y_preds_2)))\n",
        "mae_2, mse_2"
      ],
      "metadata": {
        "colab": {
          "base_uri": "https://localhost:8080/"
        },
        "id": "srKjRplOhkR2",
        "outputId": "3d8f94bf-bba2-4f3f-dd8c-78baea625b5c"
      },
      "execution_count": 44,
      "outputs": [
        {
          "output_type": "execute_result",
          "data": {
            "text/plain": [
              "(<tf.Tensor: shape=(), dtype=float32, numpy=8.815245>,\n",
              " <tf.Tensor: shape=(), dtype=float32, numpy=85.24426>)"
            ]
          },
          "metadata": {},
          "execution_count": 44
        }
      ]
    },
    {
      "cell_type": "markdown",
      "source": [
        "**Build `model_3`**\n",
        "* 3 layers, trained for 500 epochs"
      ],
      "metadata": {
        "id": "SP-1H_46jPJr"
      }
    },
    {
      "cell_type": "code",
      "source": [
        "# Set random seed\n",
        "tf.random.set_seed(42)\n",
        "\n",
        "# Create a model\n",
        "model_3 = tf.keras.Sequential([\n",
        "    tf.keras.layers.Dense(16, activation='relu'),\n",
        "    tf.keras.layers.Dense(16, activation='relu'),\n",
        "    tf.keras.layers.Dense(1)\n",
        "])\n",
        "\n",
        "# Compile the model\n",
        "model_3.compile(loss=tf.keras.losses.mae,\n",
        "                optimizer=tf.keras.optimizers.SGD(learning_rate=1e-3),\n",
        "                metrics=[\"mae\"])\n",
        "\n",
        "# Fit the model\n",
        "model_3.fit(tf.expand_dims(X_train, axis=-1), y_train, epochs=500)"
      ],
      "metadata": {
        "colab": {
          "base_uri": "https://localhost:8080/"
        },
        "id": "DHmdUTKxjGc5",
        "outputId": "9f8043f7-ccf0-4bb6-a5e7-02f4f81588bb"
      },
      "execution_count": 45,
      "outputs": [
        {
          "output_type": "stream",
          "name": "stdout",
          "text": [
            "Epoch 1/500\n",
            "2/2 [==============================] - 1s 11ms/step - loss: 36.4948 - mae: 36.4948\n",
            "Epoch 2/500\n",
            "2/2 [==============================] - 0s 8ms/step - loss: 34.0379 - mae: 34.0379\n",
            "Epoch 3/500\n",
            "2/2 [==============================] - 0s 7ms/step - loss: 31.4150 - mae: 31.4150\n",
            "Epoch 4/500\n",
            "2/2 [==============================] - 0s 8ms/step - loss: 28.8630 - mae: 28.8630\n",
            "Epoch 5/500\n",
            "2/2 [==============================] - 0s 8ms/step - loss: 26.0649 - mae: 26.0649\n",
            "Epoch 6/500\n",
            "2/2 [==============================] - 0s 7ms/step - loss: 23.0838 - mae: 23.0838\n",
            "Epoch 7/500\n",
            "2/2 [==============================] - 0s 11ms/step - loss: 19.5769 - mae: 19.5769\n",
            "Epoch 8/500\n",
            "2/2 [==============================] - 0s 7ms/step - loss: 16.2655 - mae: 16.2655\n",
            "Epoch 9/500\n",
            "2/2 [==============================] - 0s 8ms/step - loss: 13.6366 - mae: 13.6366\n",
            "Epoch 10/500\n",
            "2/2 [==============================] - 0s 8ms/step - loss: 12.9850 - mae: 12.9850\n",
            "Epoch 11/500\n",
            "2/2 [==============================] - 0s 7ms/step - loss: 12.4848 - mae: 12.4848\n",
            "Epoch 12/500\n",
            "2/2 [==============================] - 0s 8ms/step - loss: 12.1543 - mae: 12.1543\n",
            "Epoch 13/500\n",
            "2/2 [==============================] - 0s 8ms/step - loss: 11.5391 - mae: 11.5391\n",
            "Epoch 14/500\n",
            "2/2 [==============================] - 0s 7ms/step - loss: 12.4300 - mae: 12.4300\n",
            "Epoch 15/500\n",
            "2/2 [==============================] - 0s 7ms/step - loss: 10.8058 - mae: 10.8058\n",
            "Epoch 16/500\n",
            "2/2 [==============================] - 0s 8ms/step - loss: 9.4770 - mae: 9.4770\n",
            "Epoch 17/500\n",
            "2/2 [==============================] - 0s 7ms/step - loss: 9.1402 - mae: 9.1402\n",
            "Epoch 18/500\n",
            "2/2 [==============================] - 0s 7ms/step - loss: 7.6101 - mae: 7.6101\n",
            "Epoch 19/500\n",
            "2/2 [==============================] - 0s 7ms/step - loss: 7.0610 - mae: 7.0610\n",
            "Epoch 20/500\n",
            "2/2 [==============================] - 0s 8ms/step - loss: 6.9353 - mae: 6.9353\n",
            "Epoch 21/500\n",
            "2/2 [==============================] - 0s 8ms/step - loss: 5.5038 - mae: 5.5038\n",
            "Epoch 22/500\n",
            "2/2 [==============================] - 0s 7ms/step - loss: 4.2950 - mae: 4.2950\n",
            "Epoch 23/500\n",
            "2/2 [==============================] - 0s 7ms/step - loss: 4.3075 - mae: 4.3075\n",
            "Epoch 24/500\n",
            "2/2 [==============================] - 0s 7ms/step - loss: 5.2520 - mae: 5.2520\n",
            "Epoch 25/500\n",
            "2/2 [==============================] - 0s 8ms/step - loss: 5.1549 - mae: 5.1549\n",
            "Epoch 26/500\n",
            "2/2 [==============================] - 0s 7ms/step - loss: 4.1935 - mae: 4.1935\n",
            "Epoch 27/500\n",
            "2/2 [==============================] - 0s 11ms/step - loss: 4.2605 - mae: 4.2605\n",
            "Epoch 28/500\n",
            "2/2 [==============================] - 0s 8ms/step - loss: 4.3107 - mae: 4.3107\n",
            "Epoch 29/500\n",
            "2/2 [==============================] - 0s 9ms/step - loss: 4.1777 - mae: 4.1777\n",
            "Epoch 30/500\n",
            "2/2 [==============================] - 0s 7ms/step - loss: 4.4334 - mae: 4.4334\n",
            "Epoch 31/500\n",
            "2/2 [==============================] - 0s 7ms/step - loss: 6.2469 - mae: 6.2469\n",
            "Epoch 32/500\n",
            "2/2 [==============================] - 0s 7ms/step - loss: 4.5716 - mae: 4.5716\n",
            "Epoch 33/500\n",
            "2/2 [==============================] - 0s 7ms/step - loss: 4.4367 - mae: 4.4367\n",
            "Epoch 34/500\n",
            "2/2 [==============================] - 0s 8ms/step - loss: 4.1378 - mae: 4.1378\n",
            "Epoch 35/500\n",
            "2/2 [==============================] - 0s 7ms/step - loss: 4.9574 - mae: 4.9574\n",
            "Epoch 36/500\n",
            "2/2 [==============================] - 0s 8ms/step - loss: 4.4825 - mae: 4.4825\n",
            "Epoch 37/500\n",
            "2/2 [==============================] - 0s 8ms/step - loss: 4.2222 - mae: 4.2222\n",
            "Epoch 38/500\n",
            "2/2 [==============================] - 0s 9ms/step - loss: 4.9340 - mae: 4.9340\n",
            "Epoch 39/500\n",
            "2/2 [==============================] - 0s 7ms/step - loss: 4.2003 - mae: 4.2003\n",
            "Epoch 40/500\n",
            "2/2 [==============================] - 0s 8ms/step - loss: 4.2509 - mae: 4.2509\n",
            "Epoch 41/500\n",
            "2/2 [==============================] - 0s 8ms/step - loss: 4.9036 - mae: 4.9036\n",
            "Epoch 42/500\n",
            "2/2 [==============================] - 0s 8ms/step - loss: 4.3110 - mae: 4.3110\n",
            "Epoch 43/500\n",
            "2/2 [==============================] - 0s 8ms/step - loss: 4.1600 - mae: 4.1600\n",
            "Epoch 44/500\n",
            "2/2 [==============================] - 0s 8ms/step - loss: 4.5239 - mae: 4.5239\n",
            "Epoch 45/500\n",
            "2/2 [==============================] - 0s 8ms/step - loss: 4.2581 - mae: 4.2581\n",
            "Epoch 46/500\n",
            "2/2 [==============================] - 0s 8ms/step - loss: 5.5680 - mae: 5.5680\n",
            "Epoch 47/500\n",
            "2/2 [==============================] - 0s 8ms/step - loss: 4.8041 - mae: 4.8041\n",
            "Epoch 48/500\n",
            "2/2 [==============================] - 0s 8ms/step - loss: 4.4755 - mae: 4.4755\n",
            "Epoch 49/500\n",
            "2/2 [==============================] - 0s 9ms/step - loss: 4.6710 - mae: 4.6710\n",
            "Epoch 50/500\n",
            "2/2 [==============================] - 0s 8ms/step - loss: 4.6410 - mae: 4.6410\n",
            "Epoch 51/500\n",
            "2/2 [==============================] - 0s 8ms/step - loss: 4.2723 - mae: 4.2723\n",
            "Epoch 52/500\n",
            "2/2 [==============================] - 0s 7ms/step - loss: 4.9114 - mae: 4.9114\n",
            "Epoch 53/500\n",
            "2/2 [==============================] - 0s 7ms/step - loss: 4.2197 - mae: 4.2197\n",
            "Epoch 54/500\n",
            "2/2 [==============================] - 0s 7ms/step - loss: 5.0665 - mae: 5.0665\n",
            "Epoch 55/500\n",
            "2/2 [==============================] - 0s 11ms/step - loss: 5.0476 - mae: 5.0476\n",
            "Epoch 56/500\n",
            "2/2 [==============================] - 0s 8ms/step - loss: 4.1468 - mae: 4.1468\n",
            "Epoch 57/500\n",
            "2/2 [==============================] - 0s 7ms/step - loss: 5.5175 - mae: 5.5175\n",
            "Epoch 58/500\n",
            "2/2 [==============================] - 0s 8ms/step - loss: 4.4369 - mae: 4.4369\n",
            "Epoch 59/500\n",
            "2/2 [==============================] - 0s 7ms/step - loss: 4.0958 - mae: 4.0958\n",
            "Epoch 60/500\n",
            "2/2 [==============================] - 0s 8ms/step - loss: 4.7978 - mae: 4.7978\n",
            "Epoch 61/500\n",
            "2/2 [==============================] - 0s 8ms/step - loss: 4.2351 - mae: 4.2351\n",
            "Epoch 62/500\n",
            "2/2 [==============================] - 0s 8ms/step - loss: 5.1454 - mae: 5.1454\n",
            "Epoch 63/500\n",
            "2/2 [==============================] - 0s 8ms/step - loss: 4.2945 - mae: 4.2945\n",
            "Epoch 64/500\n",
            "2/2 [==============================] - 0s 9ms/step - loss: 4.1689 - mae: 4.1689\n",
            "Epoch 65/500\n",
            "2/2 [==============================] - 0s 8ms/step - loss: 4.9435 - mae: 4.9435\n",
            "Epoch 66/500\n",
            "2/2 [==============================] - 0s 8ms/step - loss: 4.1259 - mae: 4.1259\n",
            "Epoch 67/500\n",
            "2/2 [==============================] - 0s 9ms/step - loss: 4.3493 - mae: 4.3493\n",
            "Epoch 68/500\n",
            "2/2 [==============================] - 0s 8ms/step - loss: 4.6460 - mae: 4.6460\n",
            "Epoch 69/500\n",
            "2/2 [==============================] - 0s 7ms/step - loss: 4.2480 - mae: 4.2480\n",
            "Epoch 70/500\n",
            "2/2 [==============================] - 0s 9ms/step - loss: 4.2369 - mae: 4.2369\n",
            "Epoch 71/500\n",
            "2/2 [==============================] - 0s 8ms/step - loss: 5.3316 - mae: 5.3316\n",
            "Epoch 72/500\n",
            "2/2 [==============================] - 0s 7ms/step - loss: 4.5008 - mae: 4.5008\n",
            "Epoch 73/500\n",
            "2/2 [==============================] - 0s 8ms/step - loss: 4.6058 - mae: 4.6058\n",
            "Epoch 74/500\n",
            "2/2 [==============================] - 0s 7ms/step - loss: 5.8865 - mae: 5.8865\n",
            "Epoch 75/500\n",
            "2/2 [==============================] - 0s 8ms/step - loss: 4.9355 - mae: 4.9355\n",
            "Epoch 76/500\n",
            "2/2 [==============================] - 0s 8ms/step - loss: 4.4612 - mae: 4.4612\n",
            "Epoch 77/500\n",
            "2/2 [==============================] - 0s 8ms/step - loss: 5.3686 - mae: 5.3686\n",
            "Epoch 78/500\n",
            "2/2 [==============================] - 0s 8ms/step - loss: 4.9339 - mae: 4.9339\n",
            "Epoch 79/500\n",
            "2/2 [==============================] - 0s 8ms/step - loss: 5.3547 - mae: 5.3547\n",
            "Epoch 80/500\n",
            "2/2 [==============================] - 0s 8ms/step - loss: 4.3126 - mae: 4.3126\n",
            "Epoch 81/500\n",
            "2/2 [==============================] - 0s 8ms/step - loss: 4.1071 - mae: 4.1071\n",
            "Epoch 82/500\n",
            "2/2 [==============================] - 0s 8ms/step - loss: 4.2175 - mae: 4.2175\n",
            "Epoch 83/500\n",
            "2/2 [==============================] - 0s 8ms/step - loss: 4.9537 - mae: 4.9537\n",
            "Epoch 84/500\n",
            "2/2 [==============================] - 0s 8ms/step - loss: 4.4157 - mae: 4.4157\n",
            "Epoch 85/500\n",
            "2/2 [==============================] - 0s 8ms/step - loss: 5.3174 - mae: 5.3174\n",
            "Epoch 86/500\n",
            "2/2 [==============================] - 0s 7ms/step - loss: 5.6432 - mae: 5.6432\n",
            "Epoch 87/500\n",
            "2/2 [==============================] - 0s 8ms/step - loss: 6.3324 - mae: 6.3324\n",
            "Epoch 88/500\n",
            "2/2 [==============================] - 0s 8ms/step - loss: 6.1203 - mae: 6.1203\n",
            "Epoch 89/500\n",
            "2/2 [==============================] - 0s 11ms/step - loss: 4.5294 - mae: 4.5294\n",
            "Epoch 90/500\n",
            "2/2 [==============================] - 0s 10ms/step - loss: 4.6398 - mae: 4.6398\n",
            "Epoch 91/500\n",
            "2/2 [==============================] - 0s 8ms/step - loss: 4.1132 - mae: 4.1132\n",
            "Epoch 92/500\n",
            "2/2 [==============================] - 0s 8ms/step - loss: 4.1560 - mae: 4.1560\n",
            "Epoch 93/500\n",
            "2/2 [==============================] - 0s 8ms/step - loss: 4.1261 - mae: 4.1261\n",
            "Epoch 94/500\n",
            "2/2 [==============================] - 0s 10ms/step - loss: 4.2092 - mae: 4.2092\n",
            "Epoch 95/500\n",
            "2/2 [==============================] - 0s 8ms/step - loss: 4.2707 - mae: 4.2707\n",
            "Epoch 96/500\n",
            "2/2 [==============================] - 0s 8ms/step - loss: 4.6486 - mae: 4.6486\n",
            "Epoch 97/500\n",
            "2/2 [==============================] - 0s 7ms/step - loss: 5.5811 - mae: 5.5811\n",
            "Epoch 98/500\n",
            "2/2 [==============================] - 0s 9ms/step - loss: 4.4309 - mae: 4.4309\n",
            "Epoch 99/500\n",
            "2/2 [==============================] - 0s 8ms/step - loss: 4.6019 - mae: 4.6019\n",
            "Epoch 100/500\n",
            "2/2 [==============================] - 0s 8ms/step - loss: 4.5505 - mae: 4.5505\n",
            "Epoch 101/500\n",
            "2/2 [==============================] - 0s 8ms/step - loss: 4.2619 - mae: 4.2619\n",
            "Epoch 102/500\n",
            "2/2 [==============================] - 0s 7ms/step - loss: 4.5013 - mae: 4.5013\n",
            "Epoch 103/500\n",
            "2/2 [==============================] - 0s 7ms/step - loss: 4.1604 - mae: 4.1604\n",
            "Epoch 104/500\n",
            "2/2 [==============================] - 0s 6ms/step - loss: 4.9952 - mae: 4.9952\n",
            "Epoch 105/500\n",
            "2/2 [==============================] - 0s 11ms/step - loss: 4.3176 - mae: 4.3176\n",
            "Epoch 106/500\n",
            "2/2 [==============================] - 0s 8ms/step - loss: 4.3171 - mae: 4.3171\n",
            "Epoch 107/500\n",
            "2/2 [==============================] - 0s 7ms/step - loss: 4.3860 - mae: 4.3860\n",
            "Epoch 108/500\n",
            "2/2 [==============================] - 0s 7ms/step - loss: 4.6612 - mae: 4.6612\n",
            "Epoch 109/500\n",
            "2/2 [==============================] - 0s 7ms/step - loss: 4.1843 - mae: 4.1843\n",
            "Epoch 110/500\n",
            "2/2 [==============================] - 0s 7ms/step - loss: 4.3934 - mae: 4.3934\n",
            "Epoch 111/500\n",
            "2/2 [==============================] - 0s 7ms/step - loss: 4.1730 - mae: 4.1730\n",
            "Epoch 112/500\n",
            "2/2 [==============================] - 0s 7ms/step - loss: 4.1546 - mae: 4.1546\n",
            "Epoch 113/500\n",
            "2/2 [==============================] - 0s 8ms/step - loss: 4.2526 - mae: 4.2526\n",
            "Epoch 114/500\n",
            "2/2 [==============================] - 0s 8ms/step - loss: 5.6938 - mae: 5.6938\n",
            "Epoch 115/500\n",
            "2/2 [==============================] - 0s 11ms/step - loss: 4.1055 - mae: 4.1055\n",
            "Epoch 116/500\n",
            "2/2 [==============================] - 0s 9ms/step - loss: 4.2220 - mae: 4.2220\n",
            "Epoch 117/500\n",
            "2/2 [==============================] - 0s 7ms/step - loss: 4.0871 - mae: 4.0871\n",
            "Epoch 118/500\n",
            "2/2 [==============================] - 0s 7ms/step - loss: 4.8873 - mae: 4.8873\n",
            "Epoch 119/500\n",
            "2/2 [==============================] - 0s 8ms/step - loss: 4.2887 - mae: 4.2887\n",
            "Epoch 120/500\n",
            "2/2 [==============================] - 0s 8ms/step - loss: 5.1338 - mae: 5.1338\n",
            "Epoch 121/500\n",
            "2/2 [==============================] - 0s 7ms/step - loss: 4.1380 - mae: 4.1380\n",
            "Epoch 122/500\n",
            "2/2 [==============================] - 0s 7ms/step - loss: 5.5266 - mae: 5.5266\n",
            "Epoch 123/500\n",
            "2/2 [==============================] - 0s 8ms/step - loss: 6.0125 - mae: 6.0125\n",
            "Epoch 124/500\n",
            "2/2 [==============================] - 0s 8ms/step - loss: 6.8003 - mae: 6.8003\n",
            "Epoch 125/500\n",
            "2/2 [==============================] - 0s 8ms/step - loss: 4.0767 - mae: 4.0767\n",
            "Epoch 126/500\n",
            "2/2 [==============================] - 0s 8ms/step - loss: 5.2382 - mae: 5.2382\n",
            "Epoch 127/500\n",
            "2/2 [==============================] - 0s 8ms/step - loss: 4.1857 - mae: 4.1857\n",
            "Epoch 128/500\n",
            "2/2 [==============================] - 0s 8ms/step - loss: 4.9078 - mae: 4.9078\n",
            "Epoch 129/500\n",
            "2/2 [==============================] - 0s 8ms/step - loss: 4.0740 - mae: 4.0740\n",
            "Epoch 130/500\n",
            "2/2 [==============================] - 0s 8ms/step - loss: 4.1093 - mae: 4.1093\n",
            "Epoch 131/500\n",
            "2/2 [==============================] - 0s 8ms/step - loss: 5.4651 - mae: 5.4651\n",
            "Epoch 132/500\n",
            "2/2 [==============================] - 0s 8ms/step - loss: 4.4888 - mae: 4.4888\n",
            "Epoch 133/500\n",
            "2/2 [==============================] - 0s 8ms/step - loss: 4.2730 - mae: 4.2730\n",
            "Epoch 134/500\n",
            "2/2 [==============================] - 0s 8ms/step - loss: 4.1171 - mae: 4.1171\n",
            "Epoch 135/500\n",
            "2/2 [==============================] - 0s 8ms/step - loss: 4.0961 - mae: 4.0961\n",
            "Epoch 136/500\n",
            "2/2 [==============================] - 0s 8ms/step - loss: 4.5640 - mae: 4.5640\n",
            "Epoch 137/500\n",
            "2/2 [==============================] - 0s 8ms/step - loss: 4.2373 - mae: 4.2373\n",
            "Epoch 138/500\n",
            "2/2 [==============================] - 0s 8ms/step - loss: 4.2412 - mae: 4.2412\n",
            "Epoch 139/500\n",
            "2/2 [==============================] - 0s 9ms/step - loss: 4.7302 - mae: 4.7302\n",
            "Epoch 140/500\n",
            "2/2 [==============================] - 0s 9ms/step - loss: 4.4218 - mae: 4.4218\n",
            "Epoch 141/500\n",
            "2/2 [==============================] - 0s 9ms/step - loss: 4.1676 - mae: 4.1676\n",
            "Epoch 142/500\n",
            "2/2 [==============================] - 0s 9ms/step - loss: 4.8522 - mae: 4.8522\n",
            "Epoch 143/500\n",
            "2/2 [==============================] - 0s 10ms/step - loss: 4.6329 - mae: 4.6329\n",
            "Epoch 144/500\n",
            "2/2 [==============================] - 0s 9ms/step - loss: 4.4945 - mae: 4.4945\n",
            "Epoch 145/500\n",
            "2/2 [==============================] - 0s 8ms/step - loss: 5.8023 - mae: 5.8023\n",
            "Epoch 146/500\n",
            "2/2 [==============================] - 0s 8ms/step - loss: 4.1701 - mae: 4.1701\n",
            "Epoch 147/500\n",
            "2/2 [==============================] - 0s 8ms/step - loss: 4.2521 - mae: 4.2521\n",
            "Epoch 148/500\n",
            "2/2 [==============================] - 0s 7ms/step - loss: 4.4845 - mae: 4.4845\n",
            "Epoch 149/500\n",
            "2/2 [==============================] - 0s 13ms/step - loss: 4.1390 - mae: 4.1390\n",
            "Epoch 150/500\n",
            "2/2 [==============================] - 0s 10ms/step - loss: 4.6384 - mae: 4.6384\n",
            "Epoch 151/500\n",
            "2/2 [==============================] - 0s 12ms/step - loss: 4.0845 - mae: 4.0845\n",
            "Epoch 152/500\n",
            "2/2 [==============================] - 0s 13ms/step - loss: 4.4494 - mae: 4.4494\n",
            "Epoch 153/500\n",
            "2/2 [==============================] - 0s 9ms/step - loss: 4.8469 - mae: 4.8469\n",
            "Epoch 154/500\n",
            "2/2 [==============================] - 0s 9ms/step - loss: 5.4855 - mae: 5.4855\n",
            "Epoch 155/500\n",
            "2/2 [==============================] - 0s 8ms/step - loss: 4.1459 - mae: 4.1459\n",
            "Epoch 156/500\n",
            "2/2 [==============================] - 0s 7ms/step - loss: 4.3649 - mae: 4.3649\n",
            "Epoch 157/500\n",
            "2/2 [==============================] - 0s 7ms/step - loss: 5.7242 - mae: 5.7242\n",
            "Epoch 158/500\n",
            "2/2 [==============================] - 0s 7ms/step - loss: 4.0943 - mae: 4.0943\n",
            "Epoch 159/500\n",
            "2/2 [==============================] - 0s 11ms/step - loss: 4.1608 - mae: 4.1608\n",
            "Epoch 160/500\n",
            "2/2 [==============================] - 0s 11ms/step - loss: 4.5899 - mae: 4.5899\n",
            "Epoch 161/500\n",
            "2/2 [==============================] - 0s 8ms/step - loss: 4.3427 - mae: 4.3427\n",
            "Epoch 162/500\n",
            "2/2 [==============================] - 0s 8ms/step - loss: 5.0437 - mae: 5.0437\n",
            "Epoch 163/500\n",
            "2/2 [==============================] - 0s 8ms/step - loss: 6.1379 - mae: 6.1379\n",
            "Epoch 164/500\n",
            "2/2 [==============================] - 0s 9ms/step - loss: 4.3053 - mae: 4.3053\n",
            "Epoch 165/500\n",
            "2/2 [==============================] - 0s 8ms/step - loss: 4.2687 - mae: 4.2687\n",
            "Epoch 166/500\n",
            "2/2 [==============================] - 0s 8ms/step - loss: 4.1544 - mae: 4.1544\n",
            "Epoch 167/500\n",
            "2/2 [==============================] - 0s 8ms/step - loss: 4.5355 - mae: 4.5355\n",
            "Epoch 168/500\n",
            "2/2 [==============================] - 0s 8ms/step - loss: 4.2479 - mae: 4.2479\n",
            "Epoch 169/500\n",
            "2/2 [==============================] - 0s 8ms/step - loss: 5.7155 - mae: 5.7155\n",
            "Epoch 170/500\n",
            "2/2 [==============================] - 0s 8ms/step - loss: 4.3914 - mae: 4.3914\n",
            "Epoch 171/500\n",
            "2/2 [==============================] - 0s 9ms/step - loss: 4.1294 - mae: 4.1294\n",
            "Epoch 172/500\n",
            "2/2 [==============================] - 0s 12ms/step - loss: 4.0577 - mae: 4.0577\n",
            "Epoch 173/500\n",
            "2/2 [==============================] - 0s 9ms/step - loss: 4.0448 - mae: 4.0448\n",
            "Epoch 174/500\n",
            "2/2 [==============================] - 0s 8ms/step - loss: 4.1085 - mae: 4.1085\n",
            "Epoch 175/500\n",
            "2/2 [==============================] - 0s 8ms/step - loss: 4.3080 - mae: 4.3080\n",
            "Epoch 176/500\n",
            "2/2 [==============================] - 0s 8ms/step - loss: 5.6677 - mae: 5.6677\n",
            "Epoch 177/500\n",
            "2/2 [==============================] - 0s 11ms/step - loss: 4.9420 - mae: 4.9420\n",
            "Epoch 178/500\n",
            "2/2 [==============================] - 0s 8ms/step - loss: 4.7274 - mae: 4.7274\n",
            "Epoch 179/500\n",
            "2/2 [==============================] - 0s 8ms/step - loss: 4.3128 - mae: 4.3128\n",
            "Epoch 180/500\n",
            "2/2 [==============================] - 0s 9ms/step - loss: 4.1451 - mae: 4.1451\n",
            "Epoch 181/500\n",
            "2/2 [==============================] - 0s 9ms/step - loss: 5.0825 - mae: 5.0825\n",
            "Epoch 182/500\n",
            "2/2 [==============================] - 0s 9ms/step - loss: 4.1823 - mae: 4.1823\n",
            "Epoch 183/500\n",
            "2/2 [==============================] - 0s 9ms/step - loss: 4.2745 - mae: 4.2745\n",
            "Epoch 184/500\n",
            "2/2 [==============================] - 0s 8ms/step - loss: 5.7916 - mae: 5.7916\n",
            "Epoch 185/500\n",
            "2/2 [==============================] - 0s 9ms/step - loss: 4.2881 - mae: 4.2881\n",
            "Epoch 186/500\n",
            "2/2 [==============================] - 0s 8ms/step - loss: 4.2306 - mae: 4.2306\n",
            "Epoch 187/500\n",
            "2/2 [==============================] - 0s 8ms/step - loss: 4.2378 - mae: 4.2378\n",
            "Epoch 188/500\n",
            "2/2 [==============================] - 0s 10ms/step - loss: 4.6681 - mae: 4.6681\n",
            "Epoch 189/500\n",
            "2/2 [==============================] - 0s 8ms/step - loss: 4.6360 - mae: 4.6360\n",
            "Epoch 190/500\n",
            "2/2 [==============================] - 0s 8ms/step - loss: 4.1143 - mae: 4.1143\n",
            "Epoch 191/500\n",
            "2/2 [==============================] - 0s 8ms/step - loss: 4.2247 - mae: 4.2247\n",
            "Epoch 192/500\n",
            "2/2 [==============================] - 0s 8ms/step - loss: 4.2981 - mae: 4.2981\n",
            "Epoch 193/500\n",
            "2/2 [==============================] - 0s 10ms/step - loss: 4.1917 - mae: 4.1917\n",
            "Epoch 194/500\n",
            "2/2 [==============================] - 0s 9ms/step - loss: 4.2139 - mae: 4.2139\n",
            "Epoch 195/500\n",
            "2/2 [==============================] - 0s 8ms/step - loss: 4.6045 - mae: 4.6045\n",
            "Epoch 196/500\n",
            "2/2 [==============================] - 0s 8ms/step - loss: 4.2310 - mae: 4.2310\n",
            "Epoch 197/500\n",
            "2/2 [==============================] - 0s 8ms/step - loss: 4.0706 - mae: 4.0706\n",
            "Epoch 198/500\n",
            "2/2 [==============================] - 0s 8ms/step - loss: 4.0609 - mae: 4.0609\n",
            "Epoch 199/500\n",
            "2/2 [==============================] - 0s 8ms/step - loss: 4.7922 - mae: 4.7922\n",
            "Epoch 200/500\n",
            "2/2 [==============================] - 0s 8ms/step - loss: 4.5283 - mae: 4.5283\n",
            "Epoch 201/500\n",
            "2/2 [==============================] - 0s 8ms/step - loss: 4.0553 - mae: 4.0553\n",
            "Epoch 202/500\n",
            "2/2 [==============================] - 0s 8ms/step - loss: 4.5987 - mae: 4.5987\n",
            "Epoch 203/500\n",
            "2/2 [==============================] - 0s 12ms/step - loss: 4.7833 - mae: 4.7833\n",
            "Epoch 204/500\n",
            "2/2 [==============================] - 0s 8ms/step - loss: 4.9894 - mae: 4.9894\n",
            "Epoch 205/500\n",
            "2/2 [==============================] - 0s 11ms/step - loss: 4.1928 - mae: 4.1928\n",
            "Epoch 206/500\n",
            "2/2 [==============================] - 0s 9ms/step - loss: 4.2183 - mae: 4.2183\n",
            "Epoch 207/500\n",
            "2/2 [==============================] - 0s 9ms/step - loss: 4.1668 - mae: 4.1668\n",
            "Epoch 208/500\n",
            "2/2 [==============================] - 0s 8ms/step - loss: 4.1401 - mae: 4.1401\n",
            "Epoch 209/500\n",
            "2/2 [==============================] - 0s 8ms/step - loss: 4.5577 - mae: 4.5577\n",
            "Epoch 210/500\n",
            "2/2 [==============================] - 0s 7ms/step - loss: 5.9888 - mae: 5.9888\n",
            "Epoch 211/500\n",
            "2/2 [==============================] - 0s 7ms/step - loss: 4.5287 - mae: 4.5287\n",
            "Epoch 212/500\n",
            "2/2 [==============================] - 0s 7ms/step - loss: 4.9244 - mae: 4.9244\n",
            "Epoch 213/500\n",
            "2/2 [==============================] - 0s 8ms/step - loss: 4.1268 - mae: 4.1268\n",
            "Epoch 214/500\n",
            "2/2 [==============================] - 0s 11ms/step - loss: 4.3002 - mae: 4.3002\n",
            "Epoch 215/500\n",
            "2/2 [==============================] - 0s 7ms/step - loss: 4.0528 - mae: 4.0528\n",
            "Epoch 216/500\n",
            "2/2 [==============================] - 0s 11ms/step - loss: 4.2791 - mae: 4.2791\n",
            "Epoch 217/500\n",
            "2/2 [==============================] - 0s 8ms/step - loss: 4.0499 - mae: 4.0499\n",
            "Epoch 218/500\n",
            "2/2 [==============================] - 0s 7ms/step - loss: 4.2413 - mae: 4.2413\n",
            "Epoch 219/500\n",
            "2/2 [==============================] - 0s 7ms/step - loss: 4.4140 - mae: 4.4140\n",
            "Epoch 220/500\n",
            "2/2 [==============================] - 0s 7ms/step - loss: 4.4714 - mae: 4.4714\n",
            "Epoch 221/500\n",
            "2/2 [==============================] - 0s 8ms/step - loss: 6.8118 - mae: 6.8118\n",
            "Epoch 222/500\n",
            "2/2 [==============================] - 0s 7ms/step - loss: 5.2540 - mae: 5.2540\n",
            "Epoch 223/500\n",
            "2/2 [==============================] - 0s 7ms/step - loss: 4.7704 - mae: 4.7704\n",
            "Epoch 224/500\n",
            "2/2 [==============================] - 0s 7ms/step - loss: 4.1351 - mae: 4.1351\n",
            "Epoch 225/500\n",
            "2/2 [==============================] - 0s 8ms/step - loss: 4.6117 - mae: 4.6117\n",
            "Epoch 226/500\n",
            "2/2 [==============================] - 0s 10ms/step - loss: 4.4181 - mae: 4.4181\n",
            "Epoch 227/500\n",
            "2/2 [==============================] - 0s 10ms/step - loss: 4.0453 - mae: 4.0453\n",
            "Epoch 228/500\n",
            "2/2 [==============================] - 0s 10ms/step - loss: 4.0173 - mae: 4.0173\n",
            "Epoch 229/500\n",
            "2/2 [==============================] - 0s 11ms/step - loss: 4.0567 - mae: 4.0567\n",
            "Epoch 230/500\n",
            "2/2 [==============================] - 0s 10ms/step - loss: 4.0811 - mae: 4.0811\n",
            "Epoch 231/500\n",
            "2/2 [==============================] - 0s 8ms/step - loss: 4.6331 - mae: 4.6331\n",
            "Epoch 232/500\n",
            "2/2 [==============================] - 0s 7ms/step - loss: 4.2466 - mae: 4.2466\n",
            "Epoch 233/500\n",
            "2/2 [==============================] - 0s 8ms/step - loss: 5.7866 - mae: 5.7866\n",
            "Epoch 234/500\n",
            "2/2 [==============================] - 0s 7ms/step - loss: 4.1116 - mae: 4.1116\n",
            "Epoch 235/500\n",
            "2/2 [==============================] - 0s 11ms/step - loss: 4.5671 - mae: 4.5671\n",
            "Epoch 236/500\n",
            "2/2 [==============================] - 0s 8ms/step - loss: 4.1900 - mae: 4.1900\n",
            "Epoch 237/500\n",
            "2/2 [==============================] - 0s 13ms/step - loss: 4.1750 - mae: 4.1750\n",
            "Epoch 238/500\n",
            "2/2 [==============================] - 0s 9ms/step - loss: 4.2041 - mae: 4.2041\n",
            "Epoch 239/500\n",
            "2/2 [==============================] - 0s 7ms/step - loss: 4.8721 - mae: 4.8721\n",
            "Epoch 240/500\n",
            "2/2 [==============================] - 0s 7ms/step - loss: 4.2584 - mae: 4.2584\n",
            "Epoch 241/500\n",
            "2/2 [==============================] - 0s 7ms/step - loss: 4.5684 - mae: 4.5684\n",
            "Epoch 242/500\n",
            "2/2 [==============================] - 0s 7ms/step - loss: 4.4009 - mae: 4.4009\n",
            "Epoch 243/500\n",
            "2/2 [==============================] - 0s 7ms/step - loss: 4.1614 - mae: 4.1614\n",
            "Epoch 244/500\n",
            "2/2 [==============================] - 0s 8ms/step - loss: 4.5844 - mae: 4.5844\n",
            "Epoch 245/500\n",
            "2/2 [==============================] - 0s 7ms/step - loss: 4.0660 - mae: 4.0660\n",
            "Epoch 246/500\n",
            "2/2 [==============================] - 0s 8ms/step - loss: 4.2513 - mae: 4.2513\n",
            "Epoch 247/500\n",
            "2/2 [==============================] - 0s 7ms/step - loss: 5.5652 - mae: 5.5652\n",
            "Epoch 248/500\n",
            "2/2 [==============================] - 0s 7ms/step - loss: 4.0799 - mae: 4.0799\n",
            "Epoch 249/500\n",
            "2/2 [==============================] - 0s 7ms/step - loss: 4.1329 - mae: 4.1329\n",
            "Epoch 250/500\n",
            "2/2 [==============================] - 0s 8ms/step - loss: 4.1059 - mae: 4.1059\n",
            "Epoch 251/500\n",
            "2/2 [==============================] - 0s 7ms/step - loss: 4.2214 - mae: 4.2214\n",
            "Epoch 252/500\n",
            "2/2 [==============================] - 0s 8ms/step - loss: 6.1247 - mae: 6.1247\n",
            "Epoch 253/500\n",
            "2/2 [==============================] - 0s 12ms/step - loss: 4.1788 - mae: 4.1788\n",
            "Epoch 254/500\n",
            "2/2 [==============================] - 0s 9ms/step - loss: 4.4085 - mae: 4.4085\n",
            "Epoch 255/500\n",
            "2/2 [==============================] - 0s 9ms/step - loss: 4.1447 - mae: 4.1447\n",
            "Epoch 256/500\n",
            "2/2 [==============================] - 0s 7ms/step - loss: 4.6498 - mae: 4.6498\n",
            "Epoch 257/500\n",
            "2/2 [==============================] - 0s 8ms/step - loss: 4.0587 - mae: 4.0587\n",
            "Epoch 258/500\n",
            "2/2 [==============================] - 0s 10ms/step - loss: 4.0661 - mae: 4.0661\n",
            "Epoch 259/500\n",
            "2/2 [==============================] - 0s 8ms/step - loss: 4.8211 - mae: 4.8211\n",
            "Epoch 260/500\n",
            "2/2 [==============================] - 0s 9ms/step - loss: 4.7393 - mae: 4.7393\n",
            "Epoch 261/500\n",
            "2/2 [==============================] - 0s 9ms/step - loss: 4.1264 - mae: 4.1264\n",
            "Epoch 262/500\n",
            "2/2 [==============================] - 0s 7ms/step - loss: 4.5968 - mae: 4.5968\n",
            "Epoch 263/500\n",
            "2/2 [==============================] - 0s 11ms/step - loss: 4.1105 - mae: 4.1105\n",
            "Epoch 264/500\n",
            "2/2 [==============================] - 0s 9ms/step - loss: 5.1764 - mae: 5.1764\n",
            "Epoch 265/500\n",
            "2/2 [==============================] - 0s 8ms/step - loss: 4.2688 - mae: 4.2688\n",
            "Epoch 266/500\n",
            "2/2 [==============================] - 0s 8ms/step - loss: 4.0306 - mae: 4.0306\n",
            "Epoch 267/500\n",
            "2/2 [==============================] - 0s 8ms/step - loss: 4.0222 - mae: 4.0222\n",
            "Epoch 268/500\n",
            "2/2 [==============================] - 0s 8ms/step - loss: 4.0485 - mae: 4.0485\n",
            "Epoch 269/500\n",
            "2/2 [==============================] - 0s 12ms/step - loss: 4.3726 - mae: 4.3726\n",
            "Epoch 270/500\n",
            "2/2 [==============================] - 0s 12ms/step - loss: 4.0398 - mae: 4.0398\n",
            "Epoch 271/500\n",
            "2/2 [==============================] - 0s 10ms/step - loss: 4.4245 - mae: 4.4245\n",
            "Epoch 272/500\n",
            "2/2 [==============================] - 0s 10ms/step - loss: 5.0163 - mae: 5.0163\n",
            "Epoch 273/500\n",
            "2/2 [==============================] - 0s 10ms/step - loss: 4.2153 - mae: 4.2153\n",
            "Epoch 274/500\n",
            "2/2 [==============================] - 0s 9ms/step - loss: 4.2267 - mae: 4.2267\n",
            "Epoch 275/500\n",
            "2/2 [==============================] - 0s 11ms/step - loss: 4.3665 - mae: 4.3665\n",
            "Epoch 276/500\n",
            "2/2 [==============================] - 0s 10ms/step - loss: 4.1696 - mae: 4.1696\n",
            "Epoch 277/500\n",
            "2/2 [==============================] - 0s 10ms/step - loss: 6.1705 - mae: 6.1705\n",
            "Epoch 278/500\n",
            "2/2 [==============================] - 0s 10ms/step - loss: 4.2437 - mae: 4.2437\n",
            "Epoch 279/500\n",
            "2/2 [==============================] - 0s 8ms/step - loss: 4.1997 - mae: 4.1997\n",
            "Epoch 280/500\n",
            "2/2 [==============================] - 0s 10ms/step - loss: 5.7164 - mae: 5.7164\n",
            "Epoch 281/500\n",
            "2/2 [==============================] - 0s 7ms/step - loss: 4.1628 - mae: 4.1628\n",
            "Epoch 282/500\n",
            "2/2 [==============================] - 0s 8ms/step - loss: 4.1140 - mae: 4.1140\n",
            "Epoch 283/500\n",
            "2/2 [==============================] - 0s 9ms/step - loss: 4.1312 - mae: 4.1312\n",
            "Epoch 284/500\n",
            "2/2 [==============================] - 0s 10ms/step - loss: 4.7317 - mae: 4.7317\n",
            "Epoch 285/500\n",
            "2/2 [==============================] - 0s 8ms/step - loss: 4.0760 - mae: 4.0760\n",
            "Epoch 286/500\n",
            "2/2 [==============================] - 0s 9ms/step - loss: 4.8516 - mae: 4.8516\n",
            "Epoch 287/500\n",
            "2/2 [==============================] - 0s 10ms/step - loss: 4.0188 - mae: 4.0188\n",
            "Epoch 288/500\n",
            "2/2 [==============================] - 0s 8ms/step - loss: 4.1545 - mae: 4.1545\n",
            "Epoch 289/500\n",
            "2/2 [==============================] - 0s 13ms/step - loss: 4.0477 - mae: 4.0477\n",
            "Epoch 290/500\n",
            "2/2 [==============================] - 0s 10ms/step - loss: 3.9922 - mae: 3.9922\n",
            "Epoch 291/500\n",
            "2/2 [==============================] - 0s 8ms/step - loss: 3.9940 - mae: 3.9940\n",
            "Epoch 292/500\n",
            "2/2 [==============================] - 0s 7ms/step - loss: 4.6971 - mae: 4.6971\n",
            "Epoch 293/500\n",
            "2/2 [==============================] - 0s 7ms/step - loss: 4.0891 - mae: 4.0891\n",
            "Epoch 294/500\n",
            "2/2 [==============================] - 0s 7ms/step - loss: 5.3952 - mae: 5.3952\n",
            "Epoch 295/500\n",
            "2/2 [==============================] - 0s 7ms/step - loss: 4.5188 - mae: 4.5188\n",
            "Epoch 296/500\n",
            "2/2 [==============================] - 0s 7ms/step - loss: 4.3699 - mae: 4.3699\n",
            "Epoch 297/500\n",
            "2/2 [==============================] - 0s 8ms/step - loss: 4.2664 - mae: 4.2664\n",
            "Epoch 298/500\n",
            "2/2 [==============================] - 0s 7ms/step - loss: 4.6236 - mae: 4.6236\n",
            "Epoch 299/500\n",
            "2/2 [==============================] - 0s 7ms/step - loss: 4.4322 - mae: 4.4322\n",
            "Epoch 300/500\n",
            "2/2 [==============================] - 0s 7ms/step - loss: 4.0589 - mae: 4.0589\n",
            "Epoch 301/500\n",
            "2/2 [==============================] - 0s 7ms/step - loss: 4.3303 - mae: 4.3303\n",
            "Epoch 302/500\n",
            "2/2 [==============================] - 0s 8ms/step - loss: 4.3722 - mae: 4.3722\n",
            "Epoch 303/500\n",
            "2/2 [==============================] - 0s 7ms/step - loss: 4.1266 - mae: 4.1266\n",
            "Epoch 304/500\n",
            "2/2 [==============================] - 0s 7ms/step - loss: 4.1353 - mae: 4.1353\n",
            "Epoch 305/500\n",
            "2/2 [==============================] - 0s 8ms/step - loss: 4.1935 - mae: 4.1935\n",
            "Epoch 306/500\n",
            "2/2 [==============================] - 0s 8ms/step - loss: 4.6210 - mae: 4.6210\n",
            "Epoch 307/500\n",
            "2/2 [==============================] - 0s 7ms/step - loss: 4.3063 - mae: 4.3063\n",
            "Epoch 308/500\n",
            "2/2 [==============================] - 0s 7ms/step - loss: 4.1750 - mae: 4.1750\n",
            "Epoch 309/500\n",
            "2/2 [==============================] - 0s 10ms/step - loss: 4.3715 - mae: 4.3715\n",
            "Epoch 310/500\n",
            "2/2 [==============================] - 0s 7ms/step - loss: 4.0393 - mae: 4.0393\n",
            "Epoch 311/500\n",
            "2/2 [==============================] - 0s 7ms/step - loss: 3.9735 - mae: 3.9735\n",
            "Epoch 312/500\n",
            "2/2 [==============================] - 0s 8ms/step - loss: 4.1356 - mae: 4.1356\n",
            "Epoch 313/500\n",
            "2/2 [==============================] - 0s 7ms/step - loss: 4.3408 - mae: 4.3408\n",
            "Epoch 314/500\n",
            "2/2 [==============================] - 0s 7ms/step - loss: 4.1848 - mae: 4.1848\n",
            "Epoch 315/500\n",
            "2/2 [==============================] - 0s 10ms/step - loss: 5.8059 - mae: 5.8059\n",
            "Epoch 316/500\n",
            "2/2 [==============================] - 0s 7ms/step - loss: 4.0755 - mae: 4.0755\n",
            "Epoch 317/500\n",
            "2/2 [==============================] - 0s 8ms/step - loss: 6.1988 - mae: 6.1988\n",
            "Epoch 318/500\n",
            "2/2 [==============================] - 0s 11ms/step - loss: 5.8502 - mae: 5.8502\n",
            "Epoch 319/500\n",
            "2/2 [==============================] - 0s 7ms/step - loss: 4.2331 - mae: 4.2331\n",
            "Epoch 320/500\n",
            "2/2 [==============================] - 0s 10ms/step - loss: 4.3592 - mae: 4.3592\n",
            "Epoch 321/500\n",
            "2/2 [==============================] - 0s 10ms/step - loss: 4.1201 - mae: 4.1201\n",
            "Epoch 322/500\n",
            "2/2 [==============================] - 0s 8ms/step - loss: 3.9793 - mae: 3.9793\n",
            "Epoch 323/500\n",
            "2/2 [==============================] - 0s 7ms/step - loss: 4.1011 - mae: 4.1011\n",
            "Epoch 324/500\n",
            "2/2 [==============================] - 0s 8ms/step - loss: 4.0133 - mae: 4.0133\n",
            "Epoch 325/500\n",
            "2/2 [==============================] - 0s 7ms/step - loss: 4.3656 - mae: 4.3656\n",
            "Epoch 326/500\n",
            "2/2 [==============================] - 0s 7ms/step - loss: 4.1679 - mae: 4.1679\n",
            "Epoch 327/500\n",
            "2/2 [==============================] - 0s 7ms/step - loss: 4.0148 - mae: 4.0148\n",
            "Epoch 328/500\n",
            "2/2 [==============================] - 0s 7ms/step - loss: 4.0724 - mae: 4.0724\n",
            "Epoch 329/500\n",
            "2/2 [==============================] - 0s 7ms/step - loss: 4.1552 - mae: 4.1552\n",
            "Epoch 330/500\n",
            "2/2 [==============================] - 0s 8ms/step - loss: 4.1222 - mae: 4.1222\n",
            "Epoch 331/500\n",
            "2/2 [==============================] - 0s 8ms/step - loss: 4.7643 - mae: 4.7643\n",
            "Epoch 332/500\n",
            "2/2 [==============================] - 0s 15ms/step - loss: 4.0822 - mae: 4.0822\n",
            "Epoch 333/500\n",
            "2/2 [==============================] - 0s 11ms/step - loss: 4.7547 - mae: 4.7547\n",
            "Epoch 334/500\n",
            "2/2 [==============================] - 0s 8ms/step - loss: 4.0646 - mae: 4.0646\n",
            "Epoch 335/500\n",
            "2/2 [==============================] - 0s 9ms/step - loss: 4.3560 - mae: 4.3560\n",
            "Epoch 336/500\n",
            "2/2 [==============================] - 0s 7ms/step - loss: 7.2332 - mae: 7.2332\n",
            "Epoch 337/500\n",
            "2/2 [==============================] - 0s 10ms/step - loss: 4.8017 - mae: 4.8017\n",
            "Epoch 338/500\n",
            "2/2 [==============================] - 0s 8ms/step - loss: 3.9943 - mae: 3.9943\n",
            "Epoch 339/500\n",
            "2/2 [==============================] - 0s 7ms/step - loss: 4.5672 - mae: 4.5672\n",
            "Epoch 340/500\n",
            "2/2 [==============================] - 0s 9ms/step - loss: 4.0475 - mae: 4.0475\n",
            "Epoch 341/500\n",
            "2/2 [==============================] - 0s 7ms/step - loss: 4.1893 - mae: 4.1893\n",
            "Epoch 342/500\n",
            "2/2 [==============================] - 0s 7ms/step - loss: 4.0000 - mae: 4.0000\n",
            "Epoch 343/500\n",
            "2/2 [==============================] - 0s 7ms/step - loss: 4.3789 - mae: 4.3789\n",
            "Epoch 344/500\n",
            "2/2 [==============================] - 0s 7ms/step - loss: 4.1582 - mae: 4.1582\n",
            "Epoch 345/500\n",
            "2/2 [==============================] - 0s 7ms/step - loss: 4.1335 - mae: 4.1335\n",
            "Epoch 346/500\n",
            "2/2 [==============================] - 0s 7ms/step - loss: 4.4964 - mae: 4.4964\n",
            "Epoch 347/500\n",
            "2/2 [==============================] - 0s 7ms/step - loss: 4.7459 - mae: 4.7459\n",
            "Epoch 348/500\n",
            "2/2 [==============================] - 0s 8ms/step - loss: 4.0233 - mae: 4.0233\n",
            "Epoch 349/500\n",
            "2/2 [==============================] - 0s 16ms/step - loss: 3.9997 - mae: 3.9997\n",
            "Epoch 350/500\n",
            "2/2 [==============================] - 0s 14ms/step - loss: 4.0288 - mae: 4.0288\n",
            "Epoch 351/500\n",
            "2/2 [==============================] - 0s 8ms/step - loss: 5.3420 - mae: 5.3420\n",
            "Epoch 352/500\n",
            "2/2 [==============================] - 0s 12ms/step - loss: 4.2796 - mae: 4.2796\n",
            "Epoch 353/500\n",
            "2/2 [==============================] - 0s 11ms/step - loss: 4.1329 - mae: 4.1329\n",
            "Epoch 354/500\n",
            "2/2 [==============================] - 0s 12ms/step - loss: 4.3972 - mae: 4.3972\n",
            "Epoch 355/500\n",
            "2/2 [==============================] - 0s 10ms/step - loss: 5.0863 - mae: 5.0863\n",
            "Epoch 356/500\n",
            "2/2 [==============================] - 0s 10ms/step - loss: 4.3872 - mae: 4.3872\n",
            "Epoch 357/500\n",
            "2/2 [==============================] - 0s 10ms/step - loss: 4.4732 - mae: 4.4732\n",
            "Epoch 358/500\n",
            "2/2 [==============================] - 0s 9ms/step - loss: 3.9730 - mae: 3.9730\n",
            "Epoch 359/500\n",
            "2/2 [==============================] - 0s 11ms/step - loss: 4.0611 - mae: 4.0611\n",
            "Epoch 360/500\n",
            "2/2 [==============================] - 0s 8ms/step - loss: 5.4819 - mae: 5.4819\n",
            "Epoch 361/500\n",
            "2/2 [==============================] - 0s 8ms/step - loss: 4.0749 - mae: 4.0749\n",
            "Epoch 362/500\n",
            "2/2 [==============================] - 0s 9ms/step - loss: 4.5783 - mae: 4.5783\n",
            "Epoch 363/500\n",
            "2/2 [==============================] - 0s 9ms/step - loss: 5.1291 - mae: 5.1291\n",
            "Epoch 364/500\n",
            "2/2 [==============================] - 0s 8ms/step - loss: 4.2303 - mae: 4.2303\n",
            "Epoch 365/500\n",
            "2/2 [==============================] - 0s 7ms/step - loss: 4.0493 - mae: 4.0493\n",
            "Epoch 366/500\n",
            "2/2 [==============================] - 0s 8ms/step - loss: 4.1118 - mae: 4.1118\n",
            "Epoch 367/500\n",
            "2/2 [==============================] - 0s 8ms/step - loss: 6.1303 - mae: 6.1303\n",
            "Epoch 368/500\n",
            "2/2 [==============================] - 0s 8ms/step - loss: 4.0949 - mae: 4.0949\n",
            "Epoch 369/500\n",
            "2/2 [==============================] - 0s 8ms/step - loss: 3.9573 - mae: 3.9573\n",
            "Epoch 370/500\n",
            "2/2 [==============================] - 0s 9ms/step - loss: 4.0607 - mae: 4.0607\n",
            "Epoch 371/500\n",
            "2/2 [==============================] - 0s 8ms/step - loss: 4.0465 - mae: 4.0465\n",
            "Epoch 372/500\n",
            "2/2 [==============================] - 0s 10ms/step - loss: 3.9628 - mae: 3.9628\n",
            "Epoch 373/500\n",
            "2/2 [==============================] - 0s 9ms/step - loss: 3.9858 - mae: 3.9858\n",
            "Epoch 374/500\n",
            "2/2 [==============================] - 0s 9ms/step - loss: 4.7082 - mae: 4.7082\n",
            "Epoch 375/500\n",
            "2/2 [==============================] - 0s 9ms/step - loss: 4.1398 - mae: 4.1398\n",
            "Epoch 376/500\n",
            "2/2 [==============================] - 0s 9ms/step - loss: 4.5228 - mae: 4.5228\n",
            "Epoch 377/500\n",
            "2/2 [==============================] - 0s 9ms/step - loss: 4.2340 - mae: 4.2340\n",
            "Epoch 378/500\n",
            "2/2 [==============================] - 0s 9ms/step - loss: 3.9402 - mae: 3.9402\n",
            "Epoch 379/500\n",
            "2/2 [==============================] - 0s 8ms/step - loss: 4.0893 - mae: 4.0893\n",
            "Epoch 380/500\n",
            "2/2 [==============================] - 0s 10ms/step - loss: 6.0182 - mae: 6.0182\n",
            "Epoch 381/500\n",
            "2/2 [==============================] - 0s 9ms/step - loss: 4.3989 - mae: 4.3989\n",
            "Epoch 382/500\n",
            "2/2 [==============================] - 0s 8ms/step - loss: 4.2857 - mae: 4.2857\n",
            "Epoch 383/500\n",
            "2/2 [==============================] - 0s 7ms/step - loss: 4.1594 - mae: 4.1594\n",
            "Epoch 384/500\n",
            "2/2 [==============================] - 0s 12ms/step - loss: 4.1749 - mae: 4.1749\n",
            "Epoch 385/500\n",
            "2/2 [==============================] - 0s 9ms/step - loss: 3.9749 - mae: 3.9749\n",
            "Epoch 386/500\n",
            "2/2 [==============================] - 0s 8ms/step - loss: 4.0177 - mae: 4.0177\n",
            "Epoch 387/500\n",
            "2/2 [==============================] - 0s 8ms/step - loss: 4.0628 - mae: 4.0628\n",
            "Epoch 388/500\n",
            "2/2 [==============================] - 0s 8ms/step - loss: 3.9995 - mae: 3.9995\n",
            "Epoch 389/500\n",
            "2/2 [==============================] - 0s 9ms/step - loss: 4.2993 - mae: 4.2993\n",
            "Epoch 390/500\n",
            "2/2 [==============================] - 0s 8ms/step - loss: 5.4210 - mae: 5.4210\n",
            "Epoch 391/500\n",
            "2/2 [==============================] - 0s 11ms/step - loss: 4.0734 - mae: 4.0734\n",
            "Epoch 392/500\n",
            "2/2 [==============================] - 0s 10ms/step - loss: 5.0688 - mae: 5.0688\n",
            "Epoch 393/500\n",
            "2/2 [==============================] - 0s 8ms/step - loss: 4.3745 - mae: 4.3745\n",
            "Epoch 394/500\n",
            "2/2 [==============================] - 0s 8ms/step - loss: 4.0383 - mae: 4.0383\n",
            "Epoch 395/500\n",
            "2/2 [==============================] - 0s 8ms/step - loss: 3.9927 - mae: 3.9927\n",
            "Epoch 396/500\n",
            "2/2 [==============================] - 0s 9ms/step - loss: 3.9479 - mae: 3.9479\n",
            "Epoch 397/500\n",
            "2/2 [==============================] - 0s 9ms/step - loss: 4.0751 - mae: 4.0751\n",
            "Epoch 398/500\n",
            "2/2 [==============================] - 0s 9ms/step - loss: 3.9814 - mae: 3.9814\n",
            "Epoch 399/500\n",
            "2/2 [==============================] - 0s 9ms/step - loss: 4.0596 - mae: 4.0596\n",
            "Epoch 400/500\n",
            "2/2 [==============================] - 0s 9ms/step - loss: 4.2612 - mae: 4.2612\n",
            "Epoch 401/500\n",
            "2/2 [==============================] - 0s 13ms/step - loss: 4.2114 - mae: 4.2114\n",
            "Epoch 402/500\n",
            "2/2 [==============================] - 0s 9ms/step - loss: 3.9995 - mae: 3.9995\n",
            "Epoch 403/500\n",
            "2/2 [==============================] - 0s 8ms/step - loss: 4.4336 - mae: 4.4336\n",
            "Epoch 404/500\n",
            "2/2 [==============================] - 0s 8ms/step - loss: 3.9675 - mae: 3.9675\n",
            "Epoch 405/500\n",
            "2/2 [==============================] - 0s 8ms/step - loss: 5.1804 - mae: 5.1804\n",
            "Epoch 406/500\n",
            "2/2 [==============================] - 0s 8ms/step - loss: 4.2019 - mae: 4.2019\n",
            "Epoch 407/500\n",
            "2/2 [==============================] - 0s 13ms/step - loss: 4.2154 - mae: 4.2154\n",
            "Epoch 408/500\n",
            "2/2 [==============================] - 0s 9ms/step - loss: 3.9344 - mae: 3.9344\n",
            "Epoch 409/500\n",
            "2/2 [==============================] - 0s 8ms/step - loss: 4.2350 - mae: 4.2350\n",
            "Epoch 410/500\n",
            "2/2 [==============================] - 0s 8ms/step - loss: 4.4686 - mae: 4.4686\n",
            "Epoch 411/500\n",
            "2/2 [==============================] - 0s 9ms/step - loss: 4.0464 - mae: 4.0464\n",
            "Epoch 412/500\n",
            "2/2 [==============================] - 0s 8ms/step - loss: 3.9571 - mae: 3.9571\n",
            "Epoch 413/500\n",
            "2/2 [==============================] - 0s 8ms/step - loss: 4.0531 - mae: 4.0531\n",
            "Epoch 414/500\n",
            "2/2 [==============================] - 0s 10ms/step - loss: 4.6981 - mae: 4.6981\n",
            "Epoch 415/500\n",
            "2/2 [==============================] - 0s 8ms/step - loss: 4.2298 - mae: 4.2298\n",
            "Epoch 416/500\n",
            "2/2 [==============================] - 0s 8ms/step - loss: 5.1477 - mae: 5.1477\n",
            "Epoch 417/500\n",
            "2/2 [==============================] - 0s 11ms/step - loss: 4.1555 - mae: 4.1555\n",
            "Epoch 418/500\n",
            "2/2 [==============================] - 0s 9ms/step - loss: 3.9976 - mae: 3.9976\n",
            "Epoch 419/500\n",
            "2/2 [==============================] - 0s 8ms/step - loss: 4.5795 - mae: 4.5795\n",
            "Epoch 420/500\n",
            "2/2 [==============================] - 0s 8ms/step - loss: 4.2899 - mae: 4.2899\n",
            "Epoch 421/500\n",
            "2/2 [==============================] - 0s 8ms/step - loss: 3.9589 - mae: 3.9589\n",
            "Epoch 422/500\n",
            "2/2 [==============================] - 0s 8ms/step - loss: 4.0511 - mae: 4.0511\n",
            "Epoch 423/500\n",
            "2/2 [==============================] - 0s 12ms/step - loss: 4.0380 - mae: 4.0380\n",
            "Epoch 424/500\n",
            "2/2 [==============================] - 0s 9ms/step - loss: 5.0683 - mae: 5.0683\n",
            "Epoch 425/500\n",
            "2/2 [==============================] - 0s 9ms/step - loss: 4.2251 - mae: 4.2251\n",
            "Epoch 426/500\n",
            "2/2 [==============================] - 0s 8ms/step - loss: 3.9709 - mae: 3.9709\n",
            "Epoch 427/500\n",
            "2/2 [==============================] - 0s 14ms/step - loss: 3.9643 - mae: 3.9643\n",
            "Epoch 428/500\n",
            "2/2 [==============================] - 0s 13ms/step - loss: 3.9615 - mae: 3.9615\n",
            "Epoch 429/500\n",
            "2/2 [==============================] - 0s 11ms/step - loss: 4.3685 - mae: 4.3685\n",
            "Epoch 430/500\n",
            "2/2 [==============================] - 0s 8ms/step - loss: 3.9865 - mae: 3.9865\n",
            "Epoch 431/500\n",
            "2/2 [==============================] - 0s 8ms/step - loss: 5.6747 - mae: 5.6747\n",
            "Epoch 432/500\n",
            "2/2 [==============================] - 0s 8ms/step - loss: 5.2406 - mae: 5.2406\n",
            "Epoch 433/500\n",
            "2/2 [==============================] - 0s 8ms/step - loss: 3.9504 - mae: 3.9504\n",
            "Epoch 434/500\n",
            "2/2 [==============================] - 0s 8ms/step - loss: 3.8950 - mae: 3.8950\n",
            "Epoch 435/500\n",
            "2/2 [==============================] - 0s 9ms/step - loss: 3.9150 - mae: 3.9150\n",
            "Epoch 436/500\n",
            "2/2 [==============================] - 0s 9ms/step - loss: 3.9098 - mae: 3.9098\n",
            "Epoch 437/500\n",
            "2/2 [==============================] - 0s 9ms/step - loss: 4.4786 - mae: 4.4786\n",
            "Epoch 438/500\n",
            "2/2 [==============================] - 0s 8ms/step - loss: 4.0488 - mae: 4.0488\n",
            "Epoch 439/500\n",
            "2/2 [==============================] - 0s 12ms/step - loss: 5.9057 - mae: 5.9057\n",
            "Epoch 440/500\n",
            "2/2 [==============================] - 0s 7ms/step - loss: 3.9291 - mae: 3.9291\n",
            "Epoch 441/500\n",
            "2/2 [==============================] - 0s 8ms/step - loss: 4.0902 - mae: 4.0902\n",
            "Epoch 442/500\n",
            "2/2 [==============================] - 0s 8ms/step - loss: 4.0823 - mae: 4.0823\n",
            "Epoch 443/500\n",
            "2/2 [==============================] - 0s 9ms/step - loss: 4.0321 - mae: 4.0321\n",
            "Epoch 444/500\n",
            "2/2 [==============================] - 0s 10ms/step - loss: 4.8230 - mae: 4.8230\n",
            "Epoch 445/500\n",
            "2/2 [==============================] - 0s 9ms/step - loss: 4.2748 - mae: 4.2748\n",
            "Epoch 446/500\n",
            "2/2 [==============================] - 0s 9ms/step - loss: 5.0620 - mae: 5.0620\n",
            "Epoch 447/500\n",
            "2/2 [==============================] - 0s 8ms/step - loss: 3.9307 - mae: 3.9307\n",
            "Epoch 448/500\n",
            "2/2 [==============================] - 0s 8ms/step - loss: 4.2489 - mae: 4.2489\n",
            "Epoch 449/500\n",
            "2/2 [==============================] - 0s 12ms/step - loss: 3.9370 - mae: 3.9370\n",
            "Epoch 450/500\n",
            "2/2 [==============================] - 0s 8ms/step - loss: 4.0702 - mae: 4.0702\n",
            "Epoch 451/500\n",
            "2/2 [==============================] - 0s 8ms/step - loss: 4.6645 - mae: 4.6645\n",
            "Epoch 452/500\n",
            "2/2 [==============================] - 0s 8ms/step - loss: 5.1954 - mae: 5.1954\n",
            "Epoch 453/500\n",
            "2/2 [==============================] - 0s 8ms/step - loss: 4.0303 - mae: 4.0303\n",
            "Epoch 454/500\n",
            "2/2 [==============================] - 0s 12ms/step - loss: 5.4138 - mae: 5.4138\n",
            "Epoch 455/500\n",
            "2/2 [==============================] - 0s 12ms/step - loss: 3.9100 - mae: 3.9100\n",
            "Epoch 456/500\n",
            "2/2 [==============================] - 0s 11ms/step - loss: 4.4559 - mae: 4.4559\n",
            "Epoch 457/500\n",
            "2/2 [==============================] - 0s 8ms/step - loss: 3.9921 - mae: 3.9921\n",
            "Epoch 458/500\n",
            "2/2 [==============================] - 0s 9ms/step - loss: 4.4344 - mae: 4.4344\n",
            "Epoch 459/500\n",
            "2/2 [==============================] - 0s 8ms/step - loss: 4.2066 - mae: 4.2066\n",
            "Epoch 460/500\n",
            "2/2 [==============================] - 0s 8ms/step - loss: 4.7141 - mae: 4.7141\n",
            "Epoch 461/500\n",
            "2/2 [==============================] - 0s 7ms/step - loss: 4.0172 - mae: 4.0172\n",
            "Epoch 462/500\n",
            "2/2 [==============================] - 0s 10ms/step - loss: 3.9366 - mae: 3.9366\n",
            "Epoch 463/500\n",
            "2/2 [==============================] - 0s 8ms/step - loss: 5.1851 - mae: 5.1851\n",
            "Epoch 464/500\n",
            "2/2 [==============================] - 0s 11ms/step - loss: 3.9258 - mae: 3.9258\n",
            "Epoch 465/500\n",
            "2/2 [==============================] - 0s 8ms/step - loss: 3.9654 - mae: 3.9654\n",
            "Epoch 466/500\n",
            "2/2 [==============================] - 0s 9ms/step - loss: 4.1188 - mae: 4.1188\n",
            "Epoch 467/500\n",
            "2/2 [==============================] - 0s 9ms/step - loss: 3.9218 - mae: 3.9218\n",
            "Epoch 468/500\n",
            "2/2 [==============================] - 0s 10ms/step - loss: 3.9997 - mae: 3.9997\n",
            "Epoch 469/500\n",
            "2/2 [==============================] - 0s 10ms/step - loss: 4.5637 - mae: 4.5637\n",
            "Epoch 470/500\n",
            "2/2 [==============================] - 0s 10ms/step - loss: 3.9667 - mae: 3.9667\n",
            "Epoch 471/500\n",
            "2/2 [==============================] - 0s 10ms/step - loss: 4.8729 - mae: 4.8729\n",
            "Epoch 472/500\n",
            "2/2 [==============================] - 0s 9ms/step - loss: 4.1659 - mae: 4.1659\n",
            "Epoch 473/500\n",
            "2/2 [==============================] - 0s 9ms/step - loss: 4.0620 - mae: 4.0620\n",
            "Epoch 474/500\n",
            "2/2 [==============================] - 0s 8ms/step - loss: 4.4902 - mae: 4.4902\n",
            "Epoch 475/500\n",
            "2/2 [==============================] - 0s 8ms/step - loss: 3.8929 - mae: 3.8929\n",
            "Epoch 476/500\n",
            "2/2 [==============================] - 0s 8ms/step - loss: 4.0043 - mae: 4.0043\n",
            "Epoch 477/500\n",
            "2/2 [==============================] - 0s 7ms/step - loss: 5.2425 - mae: 5.2425\n",
            "Epoch 478/500\n",
            "2/2 [==============================] - 0s 9ms/step - loss: 3.9222 - mae: 3.9222\n",
            "Epoch 479/500\n",
            "2/2 [==============================] - 0s 8ms/step - loss: 3.8922 - mae: 3.8922\n",
            "Epoch 480/500\n",
            "2/2 [==============================] - 0s 11ms/step - loss: 3.9098 - mae: 3.9098\n",
            "Epoch 481/500\n",
            "2/2 [==============================] - 0s 10ms/step - loss: 3.9673 - mae: 3.9673\n",
            "Epoch 482/500\n",
            "2/2 [==============================] - 0s 9ms/step - loss: 3.9032 - mae: 3.9032\n",
            "Epoch 483/500\n",
            "2/2 [==============================] - 0s 10ms/step - loss: 3.9057 - mae: 3.9057\n",
            "Epoch 484/500\n",
            "2/2 [==============================] - 0s 15ms/step - loss: 3.9494 - mae: 3.9494\n",
            "Epoch 485/500\n",
            "2/2 [==============================] - 0s 8ms/step - loss: 3.8925 - mae: 3.8925\n",
            "Epoch 486/500\n",
            "2/2 [==============================] - 0s 16ms/step - loss: 4.5292 - mae: 4.5292\n",
            "Epoch 487/500\n",
            "2/2 [==============================] - 0s 9ms/step - loss: 4.6385 - mae: 4.6385\n",
            "Epoch 488/500\n",
            "2/2 [==============================] - 0s 10ms/step - loss: 5.5612 - mae: 5.5612\n",
            "Epoch 489/500\n",
            "2/2 [==============================] - 0s 8ms/step - loss: 4.4243 - mae: 4.4243\n",
            "Epoch 490/500\n",
            "2/2 [==============================] - 0s 8ms/step - loss: 3.8982 - mae: 3.8982\n",
            "Epoch 491/500\n",
            "2/2 [==============================] - 0s 12ms/step - loss: 3.8952 - mae: 3.8952\n",
            "Epoch 492/500\n",
            "2/2 [==============================] - 0s 9ms/step - loss: 4.0629 - mae: 4.0629\n",
            "Epoch 493/500\n",
            "2/2 [==============================] - 0s 9ms/step - loss: 4.3005 - mae: 4.3005\n",
            "Epoch 494/500\n",
            "2/2 [==============================] - 0s 8ms/step - loss: 3.8855 - mae: 3.8855\n",
            "Epoch 495/500\n",
            "2/2 [==============================] - 0s 13ms/step - loss: 4.3841 - mae: 4.3841\n",
            "Epoch 496/500\n",
            "2/2 [==============================] - 0s 11ms/step - loss: 4.0259 - mae: 4.0259\n",
            "Epoch 497/500\n",
            "2/2 [==============================] - 0s 7ms/step - loss: 3.9338 - mae: 3.9338\n",
            "Epoch 498/500\n",
            "2/2 [==============================] - 0s 8ms/step - loss: 4.0150 - mae: 4.0150\n",
            "Epoch 499/500\n",
            "2/2 [==============================] - 0s 7ms/step - loss: 4.3527 - mae: 4.3527\n",
            "Epoch 500/500\n",
            "2/2 [==============================] - 0s 7ms/step - loss: 4.0705 - mae: 4.0705\n"
          ]
        },
        {
          "output_type": "execute_result",
          "data": {
            "text/plain": [
              "<keras.src.callbacks.History at 0x7ade59209660>"
            ]
          },
          "metadata": {},
          "execution_count": 45
        }
      ]
    },
    {
      "cell_type": "code",
      "source": [
        "# Make and plot some predictions\n",
        "y_preds_3 = model_3.predict(tf.expand_dims(X_test, axis=-1))\n",
        "plot_predictions(train_data=X_train, train_labels=y_train,\n",
        "                 test_data=X_test, test_labels=y_test,\n",
        "                 predictions=y_preds_3)"
      ],
      "metadata": {
        "colab": {
          "base_uri": "https://localhost:8080/",
          "height": 517
        },
        "id": "cVR8EUkgjz6n",
        "outputId": "7d2f531b-746d-4ca0-f8c6-13ed9e8fed7f"
      },
      "execution_count": 46,
      "outputs": [
        {
          "output_type": "stream",
          "name": "stderr",
          "text": [
            "WARNING:tensorflow:6 out of the last 6 calls to <function Model.make_predict_function.<locals>.predict_function at 0x7ade587e1ea0> triggered tf.function retracing. Tracing is expensive and the excessive number of tracings could be due to (1) creating @tf.function repeatedly in a loop, (2) passing tensors with different shapes, (3) passing Python objects instead of tensors. For (1), please define your @tf.function outside of the loop. For (2), @tf.function has reduce_retracing=True option that can avoid unnecessary retracing. For (3), please refer to https://www.tensorflow.org/guide/function#controlling_retracing and https://www.tensorflow.org/api_docs/python/tf/function for  more details.\n"
          ]
        },
        {
          "output_type": "stream",
          "name": "stdout",
          "text": [
            "1/1 [==============================] - 0s 125ms/step\n"
          ]
        },
        {
          "output_type": "display_data",
          "data": {
            "text/plain": [
              "<Figure size 1000x700 with 1 Axes>"
            ],
            "image/png": "[encoded data removed]"
          },
          "metadata": {}
        }
      ]
    },
    {
      "cell_type": "code",
      "source": [
        "# Calculate model_3 evaluation metrics\n",
        "mae_3 = mae(y_test, tf.squeeze(tf.constant(y_preds_3)))\n",
        "mse_3 = mse(y_test, tf.squeeze(tf.constant(y_preds_3)))\n",
        "mae_3, mse_3"
      ],
      "metadata": {
        "colab": {
          "base_uri": "https://localhost:8080/"
        },
        "id": "b4A1Xeeij-ol",
        "outputId": "c6f0cf2b-6397-45af-8bcf-3a7e584c2cc5"
      },
      "execution_count": 47,
      "outputs": [
        {
          "output_type": "execute_result",
          "data": {
            "text/plain": [
              "(<tf.Tensor: shape=(), dtype=float32, numpy=9.3447075>,\n",
              " <tf.Tensor: shape=(), dtype=float32, numpy=94.872696>)"
            ]
          },
          "metadata": {},
          "execution_count": 47
        }
      ]
    },
    {
      "cell_type": "markdown",
      "source": [
        "🔑**Note:** Start with small experiments (small models) and make sure they work and scale up the complexity"
      ],
      "metadata": {
        "id": "Boyk6eJfvcMC"
      }
    },
    {
      "cell_type": "markdown",
      "source": [
        "### Comparing the results of our experiments\n",
        "\n",
        "We've run a few experiments, let's compare the results."
      ],
      "metadata": {
        "id": "6GFAzsV2k74D"
      }
    },
    {
      "cell_type": "code",
      "source": [
        "# Let's compare our model's results using a pandas DataFrame\n",
        "import pandas as pd\n",
        "\n",
        "model_results = [['model_1', mae_1.numpy(), mse_1.numpy()],\n",
        "                 ['model_2', mae_2.numpy(), mse_2.numpy()],\n",
        "                 ['model_3', mae_3.numpy(), mse_3.numpy()]]\n",
        "\n",
        "model_results = pd.DataFrame(model_results,\n",
        "                             columns=['model', 'mae', 'mse'])\n",
        "model_results"
      ],
      "metadata": {
        "id": "B39yEDTElJ6D",
        "colab": {
          "base_uri": "https://localhost:8080/",
          "height": 143
        },
        "outputId": "e65027a9-5811-4321-d921-c8f68b056f63"
      },
      "execution_count": 48,
      "outputs": [
        {
          "output_type": "execute_result",
          "data": {
            "text/plain": [
              "     model       mae        mse\n",
              "0  model_1  8.627173  80.940132\n",
              "1  model_2  8.815245  85.244263\n",
              "2  model_3  9.344707  94.872696"
            ],
            "text/html": [
              "\n",
              "  <div id=\"df-b1e7fd5e-6d6f-43df-9318-1e4a5c59ad89\" class=\"colab-df-container\">\n",
              "    <div>\n",
              "<style scoped>\n",
              "    .dataframe tbody tr th:only-of-type {\n",
              "        vertical-align: middle;\n",
              "    }\n",
              "\n",
              "    .dataframe tbody tr th {\n",
              "        vertical-align: top;\n",
              "    }\n",
              "\n",
              "    .dataframe thead th {\n",
              "        text-align: right;\n",
              "    }\n",
              "</style>\n",
              "<table border=\"1\" class=\"dataframe\">\n",
              "  <thead>\n",
              "    <tr style=\"text-align: right;\">\n",
              "      <th></th>\n",
              "      <th>model</th>\n",
              "      <th>mae</th>\n",
              "      <th>mse</th>\n",
              "    </tr>\n",
              "  </thead>\n",
              "  <tbody>\n",
              "    <tr>\n",
              "      <th>0</th>\n",
              "      <td>model_1</td>\n",
              "      <td>8.627173</td>\n",
              "      <td>80.940132</td>\n",
              "    </tr>\n",
              "    <tr>\n",
              "      <th>1</th>\n",
              "      <td>model_2</td>\n",
              "      <td>8.815245</td>\n",
              "      <td>85.244263</td>\n",
              "    </tr>\n",
              "    <tr>\n",
              "      <th>2</th>\n",
              "      <td>model_3</td>\n",
              "      <td>9.344707</td>\n",
              "      <td>94.872696</td>\n",
              "    </tr>\n",
              "  </tbody>\n",
              "</table>\n",
              "</div>\n",
              "    <div class=\"colab-df-buttons\">\n",
              "\n",
              "  <div class=\"colab-df-container\">\n",
              "    <button class=\"colab-df-convert\" onclick=\"convertToInteractive('df-b1e7fd5e-6d6f-43df-9318-1e4a5c59ad89')\"\n",
              "            title=\"Convert this dataframe to an interactive table.\"\n",
              "            style=\"display:none;\">\n",
              "\n",
              "  <svg xmlns=\"http://www.w3.org/2000/svg\" height=\"24px\" viewBox=\"0 -960 960 960\">\n",
              "    <path d=\"M120-120v-720h720v720H120Zm60-500h600v-160H180v160Zm220 220h160v-160H400v160Zm0 220h160v-160H400v160ZM180-400h160v-160H180v160Zm440 0h160v-160H620v160ZM180-180h160v-160H180v160Zm440 0h160v-160H620v160Z\"/>\n",
              "  </svg>\n",
              "    </button>\n",
              "\n",
              "  <style>\n",
              "    .colab-df-container {\n",
              "      display:flex;\n",
              "      gap: 12px;\n",
              "    }\n",
              "\n",
              "    .colab-df-convert {\n",
              "      background-color: #E8F0FE;\n",
              "      border: none;\n",
              "      border-radius: 50%;\n",
              "      cursor: pointer;\n",
              "      display: none;\n",
              "      fill: #1967D2;\n",
              "      height: 32px;\n",
              "      padding: 0 0 0 0;\n",
              "      width: 32px;\n",
              "    }\n",
              "\n",
              "    .colab-df-convert:hover {\n",
              "      background-color: #E2EBFA;\n",
              "      box-shadow: 0px 1px 2px rgba(60, 64, 67, 0.3), 0px 1px 3px 1px rgba(60, 64, 67, 0.15);\n",
              "      fill: #174EA6;\n",
              "    }\n",
              "\n",
              "    .colab-df-buttons div {\n",
              "      margin-bottom: 4px;\n",
              "    }\n",
              "\n",
              "    [theme=dark] .colab-df-convert {\n",
              "      background-color: #3B4455;\n",
              "      fill: #D2E3FC;\n",
              "    }\n",
              "\n",
              "    [theme=dark] .colab-df-convert:hover {\n",
              "      background-color: #434B5C;\n",
              "      box-shadow: 0px 1px 3px 1px rgba(0, 0, 0, 0.15);\n",
              "      filter: drop-shadow(0px 1px 2px rgba(0, 0, 0, 0.3));\n",
              "      fill: #FFFFFF;\n",
              "    }\n",
              "  </style>\n",
              "\n",
              "    <script>\n",
              "      const buttonEl =\n",
              "        document.querySelector('#df-b1e7fd5e-6d6f-43df-9318-1e4a5c59ad89 button.colab-df-convert');\n",
              "      buttonEl.style.display =\n",
              "        google.colab.kernel.accessAllowed ? 'block' : 'none';\n",
              "\n",
              "      async function convertToInteractive(key) {\n",
              "        const element = document.querySelector('#df-b1e7fd5e-6d6f-43df-9318-1e4a5c59ad89');\n",
              "        const dataTable =\n",
              "          await google.colab.kernel.invokeFunction('convertToInteractive',\n",
              "                                                    [key], {});\n",
              "        if (!dataTable) return;\n",
              "\n",
              "        const docLinkHtml = 'Like what you see? Visit the ' +\n",
              "          '<a target=\"_blank\" href=https://colab.research.google.com/notebooks/data_table.ipynb>data table notebook</a>'\n",
              "          + ' to learn more about interactive tables.';\n",
              "        element.innerHTML = '';\n",
              "        dataTable['output_type'] = 'display_data';\n",
              "        await google.colab.output.renderOutput(dataTable, element);\n",
              "        const docLink = document.createElement('div');\n",
              "        docLink.innerHTML = docLinkHtml;\n",
              "        element.appendChild(docLink);\n",
              "      }\n",
              "    </script>\n",
              "  </div>\n",
              "\n",
              "\n",
              "<div id=\"df-9ce7fb73-86de-41ae-828f-ae97083813af\">\n",
              "  <button class=\"colab-df-quickchart\" onclick=\"quickchart('df-9ce7fb73-86de-41ae-828f-ae97083813af')\"\n",
              "            title=\"Suggest charts\"\n",
              "            style=\"display:none;\">\n",
              "\n",
              "<svg xmlns=\"http://www.w3.org/2000/svg\" height=\"24px\"viewBox=\"0 0 24 24\"\n",
              "     width=\"24px\">\n",
              "    <g>\n",
              "        <path d=\"M19 3H5c-1.1 0-2 .9-2 2v14c0 1.1.9 2 2 2h14c1.1 0 2-.9 2-2V5c0-1.1-.9-2-2-2zM9 17H7v-7h2v7zm4 0h-2V7h2v10zm4 0h-2v-4h2v4z\"/>\n",
              "    </g>\n",
              "</svg>\n",
              "  </button>\n",
              "\n",
              "<style>\n",
              "  .colab-df-quickchart {\n",
              "      --bg-color: #E8F0FE;\n",
              "      --fill-color: #1967D2;\n",
              "      --hover-bg-color: #E2EBFA;\n",
              "      --hover-fill-color: #174EA6;\n",
              "      --disabled-fill-color: #AAA;\n",
              "      --disabled-bg-color: #DDD;\n",
              "  }\n",
              "\n",
              "  [theme=dark] .colab-df-quickchart {\n",
              "      --bg-color: #3B4455;\n",
              "      --fill-color: #D2E3FC;\n",
              "      --hover-bg-color: #434B5C;\n",
              "      --hover-fill-color: #FFFFFF;\n",
              "      --disabled-bg-color: #3B4455;\n",
              "      --disabled-fill-color: #666;\n",
              "  }\n",
              "\n",
              "  .colab-df-quickchart {\n",
              "    background-color: var(--bg-color);\n",
              "    border: none;\n",
              "    border-radius: 50%;\n",
              "    cursor: pointer;\n",
              "    display: none;\n",
              "    fill: var(--fill-color);\n",
              "    height: 32px;\n",
              "    padding: 0;\n",
              "    width: 32px;\n",
              "  }\n",
              "\n",
              "  .colab-df-quickchart:hover {\n",
              "    background-color: var(--hover-bg-color);\n",
              "    box-shadow: 0 1px 2px rgba(60, 64, 67, 0.3), 0 1px 3px 1px rgba(60, 64, 67, 0.15);\n",
              "    fill: var(--button-hover-fill-color);\n",
              "  }\n",
              "\n",
              "  .colab-df-quickchart-complete:disabled,\n",
              "  .colab-df-quickchart-complete:disabled:hover {\n",
              "    background-color: var(--disabled-bg-color);\n",
              "    fill: var(--disabled-fill-color);\n",
              "    box-shadow: none;\n",
              "  }\n",
              "\n",
              "  .colab-df-spinner {\n",
              "    border: 2px solid var(--fill-color);\n",
              "    border-color: transparent;\n",
              "    border-bottom-color: var(--fill-color);\n",
              "    animation:\n",
              "      spin 1s steps(1) infinite;\n",
              "  }\n",
              "\n",
              "  @keyframes spin {\n",
              "    0% {\n",
              "      border-color: transparent;\n",
              "      border-bottom-color: var(--fill-color);\n",
              "      border-left-color: var(--fill-color);\n",
              "    }\n",
              "    20% {\n",
              "      border-color: transparent;\n",
              "      border-left-color: var(--fill-color);\n",
              "      border-top-color: var(--fill-color);\n",
              "    }\n",
              "    30% {\n",
              "      border-color: transparent;\n",
              "      border-left-color: var(--fill-color);\n",
              "      border-top-color: var(--fill-color);\n",
              "      border-right-color: var(--fill-color);\n",
              "    }\n",
              "    40% {\n",
              "      border-color: transparent;\n",
              "      border-right-color: var(--fill-color);\n",
              "      border-top-color: var(--fill-color);\n",
              "    }\n",
              "    60% {\n",
              "      border-color: transparent;\n",
              "      border-right-color: var(--fill-color);\n",
              "    }\n",
              "    80% {\n",
              "      border-color: transparent;\n",
              "      border-right-color: var(--fill-color);\n",
              "      border-bottom-color: var(--fill-color);\n",
              "    }\n",
              "    90% {\n",
              "      border-color: transparent;\n",
              "      border-bottom-color: var(--fill-color);\n",
              "    }\n",
              "  }\n",
              "</style>\n",
              "\n",
              "  <script>\n",
              "    async function quickchart(key) {\n",
              "      const quickchartButtonEl =\n",
              "        document.querySelector('#' + key + ' button');\n",
              "      quickchartButtonEl.disabled = true;  // To prevent multiple clicks.\n",
              "      quickchartButtonEl.classList.add('colab-df-spinner');\n",
              "      try {\n",
              "        const charts = await google.colab.kernel.invokeFunction(\n",
              "            'suggestCharts', [key], {});\n",
              "      } catch (error) {\n",
              "        console.error('Error during call to suggestCharts:', error);\n",
              "      }\n",
              "      quickchartButtonEl.classList.remove('colab-df-spinner');\n",
              "      quickchartButtonEl.classList.add('colab-df-quickchart-complete');\n",
              "    }\n",
              "    (() => {\n",
              "      let quickchartButtonEl =\n",
              "        document.querySelector('#df-9ce7fb73-86de-41ae-828f-ae97083813af button');\n",
              "      quickchartButtonEl.style.display =\n",
              "        google.colab.kernel.accessAllowed ? 'block' : 'none';\n",
              "    })();\n",
              "  </script>\n",
              "</div>\n",
              "\n",
              "  <div id=\"id_139b21bd-a99f-439c-8f89-46583206632a\">\n",
              "    <style>\n",
              "      .colab-df-generate {\n",
              "        background-color: #E8F0FE;\n",
              "        border: none;\n",
              "        border-radius: 50%;\n",
              "        cursor: pointer;\n",
              "        display: none;\n",
              "        fill: #1967D2;\n",
              "        height: 32px;\n",
              "        padding: 0 0 0 0;\n",
              "        width: 32px;\n",
              "      }\n",
              "\n",
              "      .colab-df-generate:hover {\n",
              "        background-color: #E2EBFA;\n",
              "        box-shadow: 0px 1px 2px rgba(60, 64, 67, 0.3), 0px 1px 3px 1px rgba(60, 64, 67, 0.15);\n",
              "        fill: #174EA6;\n",
              "      }\n",
              "\n",
              "      [theme=dark] .colab-df-generate {\n",
              "        background-color: #3B4455;\n",
              "        fill: #D2E3FC;\n",
              "      }\n",
              "\n",
              "      [theme=dark] .colab-df-generate:hover {\n",
              "        background-color: #434B5C;\n",
              "        box-shadow: 0px 1px 3px 1px rgba(0, 0, 0, 0.15);\n",
              "        filter: drop-shadow(0px 1px 2px rgba(0, 0, 0, 0.3));\n",
              "        fill: #FFFFFF;\n",
              "      }\n",
              "    </style>\n",
              "    <button class=\"colab-df-generate\" onclick=\"generateWithVariable('model_results')\"\n",
              "            title=\"Generate code using this dataframe.\"\n",
              "            style=\"display:none;\">\n",
              "\n",
              "  <svg xmlns=\"http://www.w3.org/2000/svg\" height=\"24px\"viewBox=\"0 0 24 24\"\n",
              "       width=\"24px\">\n",
              "    <path d=\"M7,19H8.4L18.45,9,17,7.55,7,17.6ZM5,21V16.75L18.45,3.32a2,2,0,0,1,2.83,0l1.4,1.43a1.91,1.91,0,0,1,.58,1.4,1.91,1.91,0,0,1-.58,1.4L9.25,21ZM18.45,9,17,7.55Zm-12,3A5.31,5.31,0,0,0,4.9,8.1,5.31,5.31,0,0,0,1,6.5,5.31,5.31,0,0,0,4.9,4.9,5.31,5.31,0,0,0,6.5,1,5.31,5.31,0,0,0,8.1,4.9,5.31,5.31,0,0,0,12,6.5,5.46,5.46,0,0,0,6.5,12Z\"/>\n",
              "  </svg>\n",
              "    </button>\n",
              "    <script>\n",
              "      (() => {\n",
              "      const buttonEl =\n",
              "        document.querySelector('#id_139b21bd-a99f-439c-8f89-46583206632a button.colab-df-generate');\n",
              "      buttonEl.style.display =\n",
              "        google.colab.kernel.accessAllowed ? 'block' : 'none';\n",
              "\n",
              "      buttonEl.onclick = () => {\n",
              "        google.colab.notebook.generateWithVariable('model_results');\n",
              "      }\n",
              "      })();\n",
              "    </script>\n",
              "  </div>\n",
              "\n",
              "    </div>\n",
              "  </div>\n"
            ],
            "application/vnd.google.colaboratory.intrinsic+json": {
              "type": "dataframe",
              "variable_name": "model_results",
              "summary": "{\n  \"name\": \"model_results\",\n  \"rows\": 3,\n  \"fields\": [\n    {\n      \"column\": \"model\",\n      \"properties\": {\n        \"dtype\": \"string\",\n        \"samples\": [\n          \"model_1\",\n          \"model_2\",\n          \"model_3\"\n        ],\n        \"num_unique_values\": 3,\n        \"semantic_type\": \"\",\n        \"description\": \"\"\n      }\n    },\n    {\n      \"column\": \"mae\",\n      \"properties\": {\n        \"dtype\": \"float32\",\n        \"samples\": [\n          8.62717342376709,\n          8.815244674682617,\n          9.344707489013672\n        ],\n        \"num_unique_values\": 3,\n        \"semantic_type\": \"\",\n        \"description\": \"\"\n      }\n    },\n    {\n      \"column\": \"mse\",\n      \"properties\": {\n        \"dtype\": \"float32\",\n        \"samples\": [\n          80.94013214111328,\n          85.2442626953125,\n          94.87269592285156\n        ],\n        \"num_unique_values\": 3,\n        \"semantic_type\": \"\",\n        \"description\": \"\"\n      }\n    }\n  ]\n}"
            }
          },
          "metadata": {},
          "execution_count": 48
        }
      ]
    },
    {
      "cell_type": "markdown",
      "source": [
        "`model_2` performed the best."
      ],
      "metadata": {
        "id": "4lUVtGQ5xbGg"
      }
    },
    {
      "cell_type": "code",
      "source": [
        "model_2.summary()"
      ],
      "metadata": {
        "colab": {
          "base_uri": "https://localhost:8080/"
        },
        "id": "_pjxGsMZwNJN",
        "outputId": "244fa9df-a6ad-40e8-8f00-75bd40dc8208"
      },
      "execution_count": 49,
      "outputs": [
        {
          "output_type": "stream",
          "name": "stdout",
          "text": [
            "Model: \"sequential_4\"\n",
            "_________________________________________________________________\n",
            " Layer (type)                Output Shape              Param #   \n",
            "=================================================================\n",
            " dense_7 (Dense)             (None, 16)                32        \n",
            "                                                                 \n",
            " dense_8 (Dense)             (None, 1)                 17        \n",
            "                                                                 \n",
            "=================================================================\n",
            "Total params: 49 (196.00 Byte)\n",
            "Trainable params: 49 (196.00 Byte)\n",
            "Non-trainable params: 0 (0.00 Byte)\n",
            "_________________________________________________________________\n"
          ]
        }
      ]
    },
    {
      "cell_type": "markdown",
      "source": [
        "> 🔑**Note:** One of the main goals should be to minimize the time between the experiments performed, the more things can be figured out what does work and what doesn't, Remember the ML Practioner's moto: 'Experiment, Experiment, Experiment...'"
      ],
      "metadata": {
        "id": "9x-5taMjxklx"
      }
    },
    {
      "cell_type": "markdown",
      "source": [
        "### Tracking your experiments\n",
        "\n",
        "One really good habit in machine learning modelling is to track the results of the experiments.\n",
        "\n",
        "And when doing so, it can be tedious if you're running lots of experiments.\n",
        "\n",
        "Luckily, There are tools to help us!\n",
        "\n",
        "📖**Resource:** As you build more models, you will want to look into using:\n",
        "\n",
        "* TensorBoard - a component of the TensorFlow library to help track modelling experiments (We'll see this one later).\n",
        "* Weights and Biases - a tool for tracking all kinds of machine learning experiments (plugs straight into TensorBoard)."
      ],
      "metadata": {
        "id": "k1kBzhFLT0ps"
      }
    },
    {
      "cell_type": "markdown",
      "source": [
        "### Saving our Models\n",
        "\n",
        "Saving our models allows us to use them outside of Google Colab (or wherever they were trained) such as in a web application or a mobile app.\n",
        "\n",
        "There are two main formats we can save our model's too:\n",
        "\n",
        "1. The SavedModel format\n",
        "2. The HDF5 format"
      ],
      "metadata": {
        "id": "unHMUlkNVDp7"
      }
    },
    {
      "cell_type": "code",
      "source": [
        "# Save model using the SavedModel format\n",
        "model_2.save('best_model_SavedModel_format')"
      ],
      "metadata": {
        "id": "jyAE4y6Mxiww"
      },
      "execution_count": 50,
      "outputs": []
    },
    {
      "cell_type": "code",
      "source": [
        "# Save model using the HDF5\n",
        "model_2.save('best_model_HDF5_format.h5')"
      ],
      "metadata": {
        "colab": {
          "base_uri": "https://localhost:8080/"
        },
        "id": "tVZk-cHcP46M",
        "outputId": "5b094e2d-2227-4aa7-fd17-15dfb427eda4"
      },
      "execution_count": 51,
      "outputs": [
        {
          "output_type": "stream",
          "name": "stderr",
          "text": [
            "/usr/local/lib/python3.10/dist-packages/keras/src/engine/training.py:3103: UserWarning: You are saving your model as an HDF5 file via `model.save()`. This file format is considered legacy. We recommend using instead the native Keras format, e.g. `model.save('my_model.keras')`.\n",
            "  saving_api.save_model(\n"
          ]
        }
      ]
    },
    {
      "cell_type": "markdown",
      "source": [
        "### Loading a Saved model"
      ],
      "metadata": {
        "id": "hEJ5NcdqRFl1"
      }
    },
    {
      "cell_type": "code",
      "source": [
        "# Load in the SavedModel format\n",
        "loaded_saved_format_model = tf.keras.models.load_model('best_model_SavedModel_format')\n",
        "loaded_saved_format_model.summary()"
      ],
      "metadata": {
        "colab": {
          "base_uri": "https://localhost:8080/"
        },
        "id": "61Qy541DQZ9X",
        "outputId": "67ca094b-17dd-462d-c08d-88fa2c7a5299"
      },
      "execution_count": 52,
      "outputs": [
        {
          "output_type": "stream",
          "name": "stdout",
          "text": [
            "Model: \"sequential_4\"\n",
            "_________________________________________________________________\n",
            " Layer (type)                Output Shape              Param #   \n",
            "=================================================================\n",
            " dense_7 (Dense)             (None, 16)                32        \n",
            "                                                                 \n",
            " dense_8 (Dense)             (None, 1)                 17        \n",
            "                                                                 \n",
            "=================================================================\n",
            "Total params: 49 (196.00 Byte)\n",
            "Trainable params: 49 (196.00 Byte)\n",
            "Non-trainable params: 0 (0.00 Byte)\n",
            "_________________________________________________________________\n"
          ]
        }
      ]
    },
    {
      "cell_type": "code",
      "source": [
        "model_2.summary()"
      ],
      "metadata": {
        "colab": {
          "base_uri": "https://localhost:8080/"
        },
        "id": "H5KLYxUARZ7q",
        "outputId": "2ecf2ef6-3a26-4b96-fe92-9571e6b98c2d"
      },
      "execution_count": 53,
      "outputs": [
        {
          "output_type": "stream",
          "name": "stdout",
          "text": [
            "Model: \"sequential_4\"\n",
            "_________________________________________________________________\n",
            " Layer (type)                Output Shape              Param #   \n",
            "=================================================================\n",
            " dense_7 (Dense)             (None, 16)                32        \n",
            "                                                                 \n",
            " dense_8 (Dense)             (None, 1)                 17        \n",
            "                                                                 \n",
            "=================================================================\n",
            "Total params: 49 (196.00 Byte)\n",
            "Trainable params: 49 (196.00 Byte)\n",
            "Non-trainable params: 0 (0.00 Byte)\n",
            "_________________________________________________________________\n"
          ]
        }
      ]
    },
    {
      "cell_type": "code",
      "source": [
        "# Compare model_2 preds with SavedModel format model preds\n",
        "model_2_preds = model_2.predict(tf.expand_dims(X_test, axis=-1))\n",
        "loaded_saved_format_model_preds = loaded_saved_format_model.predict(tf.expand_dims(X_test, axis=-1))\n",
        "model_2_preds == loaded_saved_format_model_preds"
      ],
      "metadata": {
        "colab": {
          "base_uri": "https://localhost:8080/"
        },
        "id": "6lrI7RZiReIt",
        "outputId": "896f3ee9-38f9-40a0-b407-4e622724bf99"
      },
      "execution_count": 54,
      "outputs": [
        {
          "output_type": "stream",
          "name": "stdout",
          "text": [
            "1/1 [==============================] - 0s 35ms/step\n",
            "1/1 [==============================] - 0s 57ms/step\n"
          ]
        },
        {
          "output_type": "execute_result",
          "data": {
            "text/plain": [
              "array([[ True],\n",
              "       [ True],\n",
              "       [ True],\n",
              "       [ True],\n",
              "       [ True],\n",
              "       [ True],\n",
              "       [ True],\n",
              "       [ True],\n",
              "       [ True],\n",
              "       [ True]])"
            ]
          },
          "metadata": {},
          "execution_count": 54
        }
      ]
    },
    {
      "cell_type": "code",
      "source": [
        "mae(y_test, tf.squeeze(tf.constant(model_2_preds))) == mae(y_test, tf.squeeze(tf.constant(loaded_saved_format_model_preds)))"
      ],
      "metadata": {
        "colab": {
          "base_uri": "https://localhost:8080/"
        },
        "id": "uT9GyHEdRyY8",
        "outputId": "b316a2b9-88f7-4f5c-ecf6-8f520bbf0e03"
      },
      "execution_count": 55,
      "outputs": [
        {
          "output_type": "execute_result",
          "data": {
            "text/plain": [
              "<tf.Tensor: shape=(), dtype=bool, numpy=True>"
            ]
          },
          "metadata": {},
          "execution_count": 55
        }
      ]
    },
    {
      "cell_type": "code",
      "source": [
        "# Load in a model using the .h5 format\n",
        "loaded_h5_format_model = tf.keras.models.load_model('best_model_HDF5_format.h5')\n",
        "loaded_h5_format_model.summary()"
      ],
      "metadata": {
        "colab": {
          "base_uri": "https://localhost:8080/"
        },
        "id": "-LhBjGSHR-au",
        "outputId": "26129aa0-a3f2-4ee8-de68-46dbc4a004b1"
      },
      "execution_count": 56,
      "outputs": [
        {
          "output_type": "stream",
          "name": "stdout",
          "text": [
            "Model: \"sequential_4\"\n",
            "_________________________________________________________________\n",
            " Layer (type)                Output Shape              Param #   \n",
            "=================================================================\n",
            " dense_7 (Dense)             (None, 16)                32        \n",
            "                                                                 \n",
            " dense_8 (Dense)             (None, 1)                 17        \n",
            "                                                                 \n",
            "=================================================================\n",
            "Total params: 49 (196.00 Byte)\n",
            "Trainable params: 49 (196.00 Byte)\n",
            "Non-trainable params: 0 (0.00 Byte)\n",
            "_________________________________________________________________\n"
          ]
        }
      ]
    },
    {
      "cell_type": "code",
      "source": [
        "# Compare the model_2 preds with loaded .h5 model preds\n",
        "loaded_h5_format_model_preds = loaded_h5_format_model.predict(tf.expand_dims(X_test, axis=-1))\n",
        "model_2_preds == loaded_h5_format_model_preds"
      ],
      "metadata": {
        "colab": {
          "base_uri": "https://localhost:8080/"
        },
        "id": "RfHXJu5CSZ-c",
        "outputId": "2c2b8936-4b47-49d9-85bc-e72c8cab9a93"
      },
      "execution_count": 57,
      "outputs": [
        {
          "output_type": "stream",
          "name": "stdout",
          "text": [
            "1/1 [==============================] - 0s 54ms/step\n"
          ]
        },
        {
          "output_type": "execute_result",
          "data": {
            "text/plain": [
              "array([[ True],\n",
              "       [ True],\n",
              "       [ True],\n",
              "       [ True],\n",
              "       [ True],\n",
              "       [ True],\n",
              "       [ True],\n",
              "       [ True],\n",
              "       [ True],\n",
              "       [ True]])"
            ]
          },
          "metadata": {},
          "execution_count": 57
        }
      ]
    },
    {
      "cell_type": "code",
      "source": [
        "mae(y_test, tf.squeeze(tf.constant(model_2_preds))) == mae(y_test, tf.squeeze(tf.constant(loaded_h5_format_model_preds)))"
      ],
      "metadata": {
        "colab": {
          "base_uri": "https://localhost:8080/"
        },
        "id": "BojhBSGeSrT3",
        "outputId": "a014fd0d-2f6e-45ba-9d8a-f150c79d661e"
      },
      "execution_count": 58,
      "outputs": [
        {
          "output_type": "execute_result",
          "data": {
            "text/plain": [
              "<tf.Tensor: shape=(), dtype=bool, numpy=True>"
            ]
          },
          "metadata": {},
          "execution_count": 58
        }
      ]
    },
    {
      "cell_type": "code",
      "source": [],
      "metadata": {
        "id": "8pUTZ0wlSvas"
      },
      "execution_count": null,
      "outputs": []
    }
  ]
}