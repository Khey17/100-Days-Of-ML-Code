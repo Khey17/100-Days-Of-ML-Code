{
 "cells": [
  {
   "cell_type": "code",
   "execution_count": 1,
   "id": "6ec67b7d",
   "metadata": {
    "_cell_guid": "b1076dfc-b9ad-4769-8c92-a6c4dae69d19",
    "_uuid": "8f2839f25d086af736a60e9eeb907d3b93b6e0e5",
    "execution": {
     "iopub.execute_input": "2023-02-24T15:20:15.054221Z",
     "iopub.status.busy": "2023-02-24T15:20:15.053430Z",
     "iopub.status.idle": "2023-02-24T15:20:15.103397Z",
     "shell.execute_reply": "2023-02-24T15:20:15.102217Z"
    },
    "papermill": {
     "duration": 0.069767,
     "end_time": "2023-02-24T15:20:15.106073",
     "exception": false,
     "start_time": "2023-02-24T15:20:15.036306",
     "status": "completed"
    },
    "tags": []
   },
   "outputs": [
    {
     "data": {
      "text/html": [
       "<div>\n",
       "<style scoped>\n",
       "    .dataframe tbody tr th:only-of-type {\n",
       "        vertical-align: middle;\n",
       "    }\n",
       "\n",
       "    .dataframe tbody tr th {\n",
       "        vertical-align: top;\n",
       "    }\n",
       "\n",
       "    .dataframe thead th {\n",
       "        text-align: right;\n",
       "    }\n",
       "</style>\n",
       "<table border=\"1\" class=\"dataframe\">\n",
       "  <thead>\n",
       "    <tr style=\"text-align: right;\">\n",
       "      <th></th>\n",
       "      <th>PassengerId</th>\n",
       "      <th>Survived</th>\n",
       "      <th>Pclass</th>\n",
       "      <th>Name</th>\n",
       "      <th>Sex</th>\n",
       "      <th>Age</th>\n",
       "      <th>SibSp</th>\n",
       "      <th>Parch</th>\n",
       "      <th>Ticket</th>\n",
       "      <th>Fare</th>\n",
       "      <th>Cabin</th>\n",
       "      <th>Embarked</th>\n",
       "    </tr>\n",
       "  </thead>\n",
       "  <tbody>\n",
       "    <tr>\n",
       "      <th>0</th>\n",
       "      <td>1</td>\n",
       "      <td>0</td>\n",
       "      <td>3</td>\n",
       "      <td>Braund, Mr. Owen Harris</td>\n",
       "      <td>male</td>\n",
       "      <td>22.0</td>\n",
       "      <td>1</td>\n",
       "      <td>0</td>\n",
       "      <td>A/5 21171</td>\n",
       "      <td>7.2500</td>\n",
       "      <td>NaN</td>\n",
       "      <td>S</td>\n",
       "    </tr>\n",
       "    <tr>\n",
       "      <th>1</th>\n",
       "      <td>2</td>\n",
       "      <td>1</td>\n",
       "      <td>1</td>\n",
       "      <td>Cumings, Mrs. John Bradley (Florence Briggs Th...</td>\n",
       "      <td>female</td>\n",
       "      <td>38.0</td>\n",
       "      <td>1</td>\n",
       "      <td>0</td>\n",
       "      <td>PC 17599</td>\n",
       "      <td>71.2833</td>\n",
       "      <td>C85</td>\n",
       "      <td>C</td>\n",
       "    </tr>\n",
       "    <tr>\n",
       "      <th>2</th>\n",
       "      <td>3</td>\n",
       "      <td>1</td>\n",
       "      <td>3</td>\n",
       "      <td>Heikkinen, Miss. Laina</td>\n",
       "      <td>female</td>\n",
       "      <td>26.0</td>\n",
       "      <td>0</td>\n",
       "      <td>0</td>\n",
       "      <td>STON/O2. 3101282</td>\n",
       "      <td>7.9250</td>\n",
       "      <td>NaN</td>\n",
       "      <td>S</td>\n",
       "    </tr>\n",
       "    <tr>\n",
       "      <th>3</th>\n",
       "      <td>4</td>\n",
       "      <td>1</td>\n",
       "      <td>1</td>\n",
       "      <td>Futrelle, Mrs. Jacques Heath (Lily May Peel)</td>\n",
       "      <td>female</td>\n",
       "      <td>35.0</td>\n",
       "      <td>1</td>\n",
       "      <td>0</td>\n",
       "      <td>113803</td>\n",
       "      <td>53.1000</td>\n",
       "      <td>C123</td>\n",
       "      <td>S</td>\n",
       "    </tr>\n",
       "    <tr>\n",
       "      <th>4</th>\n",
       "      <td>5</td>\n",
       "      <td>0</td>\n",
       "      <td>3</td>\n",
       "      <td>Allen, Mr. William Henry</td>\n",
       "      <td>male</td>\n",
       "      <td>35.0</td>\n",
       "      <td>0</td>\n",
       "      <td>0</td>\n",
       "      <td>373450</td>\n",
       "      <td>8.0500</td>\n",
       "      <td>NaN</td>\n",
       "      <td>S</td>\n",
       "    </tr>\n",
       "  </tbody>\n",
       "</table>\n",
       "</div>"
      ],
      "text/plain": [
       "   PassengerId  Survived  Pclass  \\\n",
       "0            1         0       3   \n",
       "1            2         1       1   \n",
       "2            3         1       3   \n",
       "3            4         1       1   \n",
       "4            5         0       3   \n",
       "\n",
       "                                                Name     Sex   Age  SibSp  \\\n",
       "0                            Braund, Mr. Owen Harris    male  22.0      1   \n",
       "1  Cumings, Mrs. John Bradley (Florence Briggs Th...  female  38.0      1   \n",
       "2                             Heikkinen, Miss. Laina  female  26.0      0   \n",
       "3       Futrelle, Mrs. Jacques Heath (Lily May Peel)  female  35.0      1   \n",
       "4                           Allen, Mr. William Henry    male  35.0      0   \n",
       "\n",
       "   Parch            Ticket     Fare Cabin Embarked  \n",
       "0      0         A/5 21171   7.2500   NaN        S  \n",
       "1      0          PC 17599  71.2833   C85        C  \n",
       "2      0  STON/O2. 3101282   7.9250   NaN        S  \n",
       "3      0            113803  53.1000  C123        S  \n",
       "4      0            373450   8.0500   NaN        S  "
      ]
     },
     "execution_count": 1,
     "metadata": {},
     "output_type": "execute_result"
    }
   ],
   "source": [
    "# This Python 3 environment comes with many helpful analytics libraries installed\n",
    "# It is defined by the kaggle/python Docker image: https://github.com/kaggle/docker-python\n",
    "# For example, here's several helpful packages to load\n",
    "\n",
    "import numpy as np # linear algebra\n",
    "import pandas as pd # data processing, CSV file I/O (e.g. pd.read_csv)\n",
    "import matplotlib.pyplot as plt\n",
    "\n",
    "# Input data files are available in the read-only \"../input/\" directory\n",
    "# For example, running this (by clicking run or pressing Shift+Enter) will list all files under the input directory\n",
    "\n",
    "df = pd.read_csv('/kaggle/input/titanic/train.csv')\n",
    "df.head()\n",
    "\n",
    "# You can write up to 20GB to the current directory (/kaggle/working/) that gets preserved as output when you create a version using \"Save & Run All\" \n",
    "# You can also write temporary files to /kaggle/temp/, but they won't be saved outside of the current session"
   ]
  },
  {
   "cell_type": "code",
   "execution_count": 2,
   "id": "f81f9aa6",
   "metadata": {
    "execution": {
     "iopub.execute_input": "2023-02-24T15:20:15.136197Z",
     "iopub.status.busy": "2023-02-24T15:20:15.135728Z",
     "iopub.status.idle": "2023-02-24T15:20:15.145322Z",
     "shell.execute_reply": "2023-02-24T15:20:15.144167Z"
    },
    "papermill": {
     "duration": 0.02714,
     "end_time": "2023-02-24T15:20:15.147506",
     "exception": false,
     "start_time": "2023-02-24T15:20:15.120366",
     "status": "completed"
    },
    "tags": []
   },
   "outputs": [
    {
     "data": {
      "text/plain": [
       "PassengerId      int64\n",
       "Survived         int64\n",
       "Pclass           int64\n",
       "Name            object\n",
       "Sex             object\n",
       "Age            float64\n",
       "SibSp            int64\n",
       "Parch            int64\n",
       "Ticket          object\n",
       "Fare           float64\n",
       "Cabin           object\n",
       "Embarked        object\n",
       "dtype: object"
      ]
     },
     "execution_count": 2,
     "metadata": {},
     "output_type": "execute_result"
    }
   ],
   "source": [
    "df.dtypes"
   ]
  },
  {
   "cell_type": "code",
   "execution_count": 3,
   "id": "044f410b",
   "metadata": {
    "execution": {
     "iopub.execute_input": "2023-02-24T15:20:15.176885Z",
     "iopub.status.busy": "2023-02-24T15:20:15.176401Z",
     "iopub.status.idle": "2023-02-24T15:20:15.204066Z",
     "shell.execute_reply": "2023-02-24T15:20:15.202872Z"
    },
    "papermill": {
     "duration": 0.045409,
     "end_time": "2023-02-24T15:20:15.206686",
     "exception": false,
     "start_time": "2023-02-24T15:20:15.161277",
     "status": "completed"
    },
    "tags": []
   },
   "outputs": [
    {
     "data": {
      "text/html": [
       "<div>\n",
       "<style scoped>\n",
       "    .dataframe tbody tr th:only-of-type {\n",
       "        vertical-align: middle;\n",
       "    }\n",
       "\n",
       "    .dataframe tbody tr th {\n",
       "        vertical-align: top;\n",
       "    }\n",
       "\n",
       "    .dataframe thead th {\n",
       "        text-align: right;\n",
       "    }\n",
       "</style>\n",
       "<table border=\"1\" class=\"dataframe\">\n",
       "  <thead>\n",
       "    <tr style=\"text-align: right;\">\n",
       "      <th></th>\n",
       "      <th>PassengerId</th>\n",
       "      <th>Survived</th>\n",
       "      <th>Pclass</th>\n",
       "      <th>Name</th>\n",
       "      <th>Sex</th>\n",
       "      <th>Age</th>\n",
       "      <th>SibSp</th>\n",
       "      <th>Parch</th>\n",
       "      <th>Ticket</th>\n",
       "      <th>Fare</th>\n",
       "      <th>Cabin</th>\n",
       "      <th>Embarked</th>\n",
       "    </tr>\n",
       "  </thead>\n",
       "  <tbody>\n",
       "    <tr>\n",
       "      <th>0</th>\n",
       "      <td>1</td>\n",
       "      <td>0</td>\n",
       "      <td>3</td>\n",
       "      <td>Braund, Mr. Owen Harris</td>\n",
       "      <td>1</td>\n",
       "      <td>22.0</td>\n",
       "      <td>1</td>\n",
       "      <td>0</td>\n",
       "      <td>A/5 21171</td>\n",
       "      <td>7.2500</td>\n",
       "      <td>NaN</td>\n",
       "      <td>S</td>\n",
       "    </tr>\n",
       "    <tr>\n",
       "      <th>1</th>\n",
       "      <td>2</td>\n",
       "      <td>1</td>\n",
       "      <td>1</td>\n",
       "      <td>Cumings, Mrs. John Bradley (Florence Briggs Th...</td>\n",
       "      <td>0</td>\n",
       "      <td>38.0</td>\n",
       "      <td>1</td>\n",
       "      <td>0</td>\n",
       "      <td>PC 17599</td>\n",
       "      <td>71.2833</td>\n",
       "      <td>C85</td>\n",
       "      <td>C</td>\n",
       "    </tr>\n",
       "    <tr>\n",
       "      <th>2</th>\n",
       "      <td>3</td>\n",
       "      <td>1</td>\n",
       "      <td>3</td>\n",
       "      <td>Heikkinen, Miss. Laina</td>\n",
       "      <td>0</td>\n",
       "      <td>26.0</td>\n",
       "      <td>0</td>\n",
       "      <td>0</td>\n",
       "      <td>STON/O2. 3101282</td>\n",
       "      <td>7.9250</td>\n",
       "      <td>NaN</td>\n",
       "      <td>S</td>\n",
       "    </tr>\n",
       "    <tr>\n",
       "      <th>3</th>\n",
       "      <td>4</td>\n",
       "      <td>1</td>\n",
       "      <td>1</td>\n",
       "      <td>Futrelle, Mrs. Jacques Heath (Lily May Peel)</td>\n",
       "      <td>0</td>\n",
       "      <td>35.0</td>\n",
       "      <td>1</td>\n",
       "      <td>0</td>\n",
       "      <td>113803</td>\n",
       "      <td>53.1000</td>\n",
       "      <td>C123</td>\n",
       "      <td>S</td>\n",
       "    </tr>\n",
       "    <tr>\n",
       "      <th>4</th>\n",
       "      <td>5</td>\n",
       "      <td>0</td>\n",
       "      <td>3</td>\n",
       "      <td>Allen, Mr. William Henry</td>\n",
       "      <td>1</td>\n",
       "      <td>35.0</td>\n",
       "      <td>0</td>\n",
       "      <td>0</td>\n",
       "      <td>373450</td>\n",
       "      <td>8.0500</td>\n",
       "      <td>NaN</td>\n",
       "      <td>S</td>\n",
       "    </tr>\n",
       "  </tbody>\n",
       "</table>\n",
       "</div>"
      ],
      "text/plain": [
       "   PassengerId  Survived  Pclass  \\\n",
       "0            1         0       3   \n",
       "1            2         1       1   \n",
       "2            3         1       3   \n",
       "3            4         1       1   \n",
       "4            5         0       3   \n",
       "\n",
       "                                                Name  Sex   Age  SibSp  Parch  \\\n",
       "0                            Braund, Mr. Owen Harris    1  22.0      1      0   \n",
       "1  Cumings, Mrs. John Bradley (Florence Briggs Th...    0  38.0      1      0   \n",
       "2                             Heikkinen, Miss. Laina    0  26.0      0      0   \n",
       "3       Futrelle, Mrs. Jacques Heath (Lily May Peel)    0  35.0      1      0   \n",
       "4                           Allen, Mr. William Henry    1  35.0      0      0   \n",
       "\n",
       "             Ticket     Fare Cabin Embarked  \n",
       "0         A/5 21171   7.2500   NaN        S  \n",
       "1          PC 17599  71.2833   C85        C  \n",
       "2  STON/O2. 3101282   7.9250   NaN        S  \n",
       "3            113803  53.1000  C123        S  \n",
       "4            373450   8.0500   NaN        S  "
      ]
     },
     "execution_count": 3,
     "metadata": {},
     "output_type": "execute_result"
    }
   ],
   "source": [
    "df.Sex = df.Sex.map({'male': 1, 'female': 0})\n",
    "df.head()"
   ]
  },
  {
   "cell_type": "code",
   "execution_count": 4,
   "id": "cd5a6ae6",
   "metadata": {
    "execution": {
     "iopub.execute_input": "2023-02-24T15:20:15.236984Z",
     "iopub.status.busy": "2023-02-24T15:20:15.236543Z",
     "iopub.status.idle": "2023-02-24T15:20:15.243655Z",
     "shell.execute_reply": "2023-02-24T15:20:15.242535Z"
    },
    "papermill": {
     "duration": 0.025169,
     "end_time": "2023-02-24T15:20:15.245940",
     "exception": false,
     "start_time": "2023-02-24T15:20:15.220771",
     "status": "completed"
    },
    "tags": []
   },
   "outputs": [
    {
     "data": {
      "text/plain": [
       "(891, 12)"
      ]
     },
     "execution_count": 4,
     "metadata": {},
     "output_type": "execute_result"
    }
   ],
   "source": [
    "df.shape"
   ]
  },
  {
   "cell_type": "code",
   "execution_count": 5,
   "id": "c26925da",
   "metadata": {
    "execution": {
     "iopub.execute_input": "2023-02-24T15:20:15.277460Z",
     "iopub.status.busy": "2023-02-24T15:20:15.276432Z",
     "iopub.status.idle": "2023-02-24T15:20:15.288054Z",
     "shell.execute_reply": "2023-02-24T15:20:15.286817Z"
    },
    "papermill": {
     "duration": 0.030462,
     "end_time": "2023-02-24T15:20:15.290594",
     "exception": false,
     "start_time": "2023-02-24T15:20:15.260132",
     "status": "completed"
    },
    "tags": []
   },
   "outputs": [
    {
     "data": {
      "text/plain": [
       "PassengerId      0\n",
       "Survived         0\n",
       "Pclass           0\n",
       "Name             0\n",
       "Sex              0\n",
       "Age            177\n",
       "SibSp            0\n",
       "Parch            0\n",
       "Ticket           0\n",
       "Fare             0\n",
       "Cabin          687\n",
       "Embarked         2\n",
       "dtype: int64"
      ]
     },
     "execution_count": 5,
     "metadata": {},
     "output_type": "execute_result"
    }
   ],
   "source": [
    "df.isna().sum()"
   ]
  },
  {
   "cell_type": "code",
   "execution_count": 6,
   "id": "210265c0",
   "metadata": {
    "execution": {
     "iopub.execute_input": "2023-02-24T15:20:15.321611Z",
     "iopub.status.busy": "2023-02-24T15:20:15.320600Z",
     "iopub.status.idle": "2023-02-24T15:20:15.329258Z",
     "shell.execute_reply": "2023-02-24T15:20:15.328308Z"
    },
    "papermill": {
     "duration": 0.027038,
     "end_time": "2023-02-24T15:20:15.331928",
     "exception": false,
     "start_time": "2023-02-24T15:20:15.304890",
     "status": "completed"
    },
    "tags": []
   },
   "outputs": [],
   "source": [
    "# Cabin column has 687 Nan values out of 891, So probably the best thing to do is drop the column\n",
    "df.drop('Cabin', axis=1, inplace=True)"
   ]
  },
  {
   "cell_type": "code",
   "execution_count": 7,
   "id": "7e4870c2",
   "metadata": {
    "execution": {
     "iopub.execute_input": "2023-02-24T15:20:15.363738Z",
     "iopub.status.busy": "2023-02-24T15:20:15.363034Z",
     "iopub.status.idle": "2023-02-24T15:20:15.369570Z",
     "shell.execute_reply": "2023-02-24T15:20:15.368449Z"
    },
    "papermill": {
     "duration": 0.02585,
     "end_time": "2023-02-24T15:20:15.372205",
     "exception": false,
     "start_time": "2023-02-24T15:20:15.346355",
     "status": "completed"
    },
    "tags": []
   },
   "outputs": [
    {
     "data": {
      "text/plain": [
       "(891, 11)"
      ]
     },
     "execution_count": 7,
     "metadata": {},
     "output_type": "execute_result"
    }
   ],
   "source": [
    "df.shape"
   ]
  },
  {
   "cell_type": "code",
   "execution_count": 8,
   "id": "a40ef01c",
   "metadata": {
    "execution": {
     "iopub.execute_input": "2023-02-24T15:20:15.402992Z",
     "iopub.status.busy": "2023-02-24T15:20:15.402539Z",
     "iopub.status.idle": "2023-02-24T15:20:15.418120Z",
     "shell.execute_reply": "2023-02-24T15:20:15.417293Z"
    },
    "papermill": {
     "duration": 0.03357,
     "end_time": "2023-02-24T15:20:15.420251",
     "exception": false,
     "start_time": "2023-02-24T15:20:15.386681",
     "status": "completed"
    },
    "tags": []
   },
   "outputs": [
    {
     "data": {
      "text/html": [
       "<div>\n",
       "<style scoped>\n",
       "    .dataframe tbody tr th:only-of-type {\n",
       "        vertical-align: middle;\n",
       "    }\n",
       "\n",
       "    .dataframe tbody tr th {\n",
       "        vertical-align: top;\n",
       "    }\n",
       "\n",
       "    .dataframe thead th {\n",
       "        text-align: right;\n",
       "    }\n",
       "</style>\n",
       "<table border=\"1\" class=\"dataframe\">\n",
       "  <thead>\n",
       "    <tr style=\"text-align: right;\">\n",
       "      <th></th>\n",
       "      <th>PassengerId</th>\n",
       "      <th>Survived</th>\n",
       "      <th>Pclass</th>\n",
       "      <th>Name</th>\n",
       "      <th>Sex</th>\n",
       "      <th>Age</th>\n",
       "      <th>SibSp</th>\n",
       "      <th>Parch</th>\n",
       "      <th>Ticket</th>\n",
       "      <th>Fare</th>\n",
       "      <th>Embarked</th>\n",
       "    </tr>\n",
       "  </thead>\n",
       "  <tbody>\n",
       "    <tr>\n",
       "      <th>0</th>\n",
       "      <td>1</td>\n",
       "      <td>0</td>\n",
       "      <td>3</td>\n",
       "      <td>Braund, Mr. Owen Harris</td>\n",
       "      <td>1</td>\n",
       "      <td>22.0</td>\n",
       "      <td>1</td>\n",
       "      <td>0</td>\n",
       "      <td>A/5 21171</td>\n",
       "      <td>7.2500</td>\n",
       "      <td>S</td>\n",
       "    </tr>\n",
       "    <tr>\n",
       "      <th>1</th>\n",
       "      <td>2</td>\n",
       "      <td>1</td>\n",
       "      <td>1</td>\n",
       "      <td>Cumings, Mrs. John Bradley (Florence Briggs Th...</td>\n",
       "      <td>0</td>\n",
       "      <td>38.0</td>\n",
       "      <td>1</td>\n",
       "      <td>0</td>\n",
       "      <td>PC 17599</td>\n",
       "      <td>71.2833</td>\n",
       "      <td>C</td>\n",
       "    </tr>\n",
       "    <tr>\n",
       "      <th>2</th>\n",
       "      <td>3</td>\n",
       "      <td>1</td>\n",
       "      <td>3</td>\n",
       "      <td>Heikkinen, Miss. Laina</td>\n",
       "      <td>0</td>\n",
       "      <td>26.0</td>\n",
       "      <td>0</td>\n",
       "      <td>0</td>\n",
       "      <td>STON/O2. 3101282</td>\n",
       "      <td>7.9250</td>\n",
       "      <td>S</td>\n",
       "    </tr>\n",
       "    <tr>\n",
       "      <th>3</th>\n",
       "      <td>4</td>\n",
       "      <td>1</td>\n",
       "      <td>1</td>\n",
       "      <td>Futrelle, Mrs. Jacques Heath (Lily May Peel)</td>\n",
       "      <td>0</td>\n",
       "      <td>35.0</td>\n",
       "      <td>1</td>\n",
       "      <td>0</td>\n",
       "      <td>113803</td>\n",
       "      <td>53.1000</td>\n",
       "      <td>S</td>\n",
       "    </tr>\n",
       "    <tr>\n",
       "      <th>4</th>\n",
       "      <td>5</td>\n",
       "      <td>0</td>\n",
       "      <td>3</td>\n",
       "      <td>Allen, Mr. William Henry</td>\n",
       "      <td>1</td>\n",
       "      <td>35.0</td>\n",
       "      <td>0</td>\n",
       "      <td>0</td>\n",
       "      <td>373450</td>\n",
       "      <td>8.0500</td>\n",
       "      <td>S</td>\n",
       "    </tr>\n",
       "  </tbody>\n",
       "</table>\n",
       "</div>"
      ],
      "text/plain": [
       "   PassengerId  Survived  Pclass  \\\n",
       "0            1         0       3   \n",
       "1            2         1       1   \n",
       "2            3         1       3   \n",
       "3            4         1       1   \n",
       "4            5         0       3   \n",
       "\n",
       "                                                Name  Sex   Age  SibSp  Parch  \\\n",
       "0                            Braund, Mr. Owen Harris    1  22.0      1      0   \n",
       "1  Cumings, Mrs. John Bradley (Florence Briggs Th...    0  38.0      1      0   \n",
       "2                             Heikkinen, Miss. Laina    0  26.0      0      0   \n",
       "3       Futrelle, Mrs. Jacques Heath (Lily May Peel)    0  35.0      1      0   \n",
       "4                           Allen, Mr. William Henry    1  35.0      0      0   \n",
       "\n",
       "             Ticket     Fare Embarked  \n",
       "0         A/5 21171   7.2500        S  \n",
       "1          PC 17599  71.2833        C  \n",
       "2  STON/O2. 3101282   7.9250        S  \n",
       "3            113803  53.1000        S  \n",
       "4            373450   8.0500        S  "
      ]
     },
     "execution_count": 8,
     "metadata": {},
     "output_type": "execute_result"
    }
   ],
   "source": [
    "df.head()"
   ]
  },
  {
   "cell_type": "code",
   "execution_count": 9,
   "id": "6f1238b3",
   "metadata": {
    "execution": {
     "iopub.execute_input": "2023-02-24T15:20:15.452044Z",
     "iopub.status.busy": "2023-02-24T15:20:15.451282Z",
     "iopub.status.idle": "2023-02-24T15:20:15.460315Z",
     "shell.execute_reply": "2023-02-24T15:20:15.459187Z"
    },
    "papermill": {
     "duration": 0.027692,
     "end_time": "2023-02-24T15:20:15.462631",
     "exception": false,
     "start_time": "2023-02-24T15:20:15.434939",
     "status": "completed"
    },
    "tags": []
   },
   "outputs": [
    {
     "data": {
      "text/plain": [
       "PassengerId      0\n",
       "Survived         0\n",
       "Pclass           0\n",
       "Name             0\n",
       "Sex              0\n",
       "Age            177\n",
       "SibSp            0\n",
       "Parch            0\n",
       "Ticket           0\n",
       "Fare             0\n",
       "Embarked         2\n",
       "dtype: int64"
      ]
     },
     "execution_count": 9,
     "metadata": {},
     "output_type": "execute_result"
    }
   ],
   "source": [
    "df.isna().sum()"
   ]
  },
  {
   "cell_type": "code",
   "execution_count": 10,
   "id": "106bdb55",
   "metadata": {
    "execution": {
     "iopub.execute_input": "2023-02-24T15:20:15.494403Z",
     "iopub.status.busy": "2023-02-24T15:20:15.494000Z",
     "iopub.status.idle": "2023-02-24T15:20:15.506531Z",
     "shell.execute_reply": "2023-02-24T15:20:15.505218Z"
    },
    "papermill": {
     "duration": 0.031062,
     "end_time": "2023-02-24T15:20:15.508879",
     "exception": false,
     "start_time": "2023-02-24T15:20:15.477817",
     "status": "completed"
    },
    "tags": []
   },
   "outputs": [
    {
     "data": {
      "text/plain": [
       "0    S\n",
       "dtype: object"
      ]
     },
     "execution_count": 10,
     "metadata": {},
     "output_type": "execute_result"
    }
   ],
   "source": [
    "df['Embarked'].mode()"
   ]
  },
  {
   "cell_type": "code",
   "execution_count": 11,
   "id": "0febef2e",
   "metadata": {
    "execution": {
     "iopub.execute_input": "2023-02-24T15:20:15.540565Z",
     "iopub.status.busy": "2023-02-24T15:20:15.540136Z",
     "iopub.status.idle": "2023-02-24T15:20:15.560468Z",
     "shell.execute_reply": "2023-02-24T15:20:15.559008Z"
    },
    "papermill": {
     "duration": 0.03931,
     "end_time": "2023-02-24T15:20:15.563198",
     "exception": false,
     "start_time": "2023-02-24T15:20:15.523888",
     "status": "completed"
    },
    "tags": []
   },
   "outputs": [
    {
     "data": {
      "text/html": [
       "<div>\n",
       "<style scoped>\n",
       "    .dataframe tbody tr th:only-of-type {\n",
       "        vertical-align: middle;\n",
       "    }\n",
       "\n",
       "    .dataframe tbody tr th {\n",
       "        vertical-align: top;\n",
       "    }\n",
       "\n",
       "    .dataframe thead th {\n",
       "        text-align: right;\n",
       "    }\n",
       "</style>\n",
       "<table border=\"1\" class=\"dataframe\">\n",
       "  <thead>\n",
       "    <tr style=\"text-align: right;\">\n",
       "      <th></th>\n",
       "      <th>PassengerId</th>\n",
       "      <th>Survived</th>\n",
       "      <th>Pclass</th>\n",
       "      <th>Name</th>\n",
       "      <th>Sex</th>\n",
       "      <th>Age</th>\n",
       "      <th>SibSp</th>\n",
       "      <th>Parch</th>\n",
       "      <th>Ticket</th>\n",
       "      <th>Fare</th>\n",
       "      <th>Embarked</th>\n",
       "    </tr>\n",
       "  </thead>\n",
       "  <tbody>\n",
       "    <tr>\n",
       "      <th>0</th>\n",
       "      <td>1</td>\n",
       "      <td>0</td>\n",
       "      <td>3</td>\n",
       "      <td>Braund, Mr. Owen Harris</td>\n",
       "      <td>1</td>\n",
       "      <td>22.0</td>\n",
       "      <td>1</td>\n",
       "      <td>0</td>\n",
       "      <td>A/5 21171</td>\n",
       "      <td>7.2500</td>\n",
       "      <td>1</td>\n",
       "    </tr>\n",
       "    <tr>\n",
       "      <th>1</th>\n",
       "      <td>2</td>\n",
       "      <td>1</td>\n",
       "      <td>1</td>\n",
       "      <td>Cumings, Mrs. John Bradley (Florence Briggs Th...</td>\n",
       "      <td>0</td>\n",
       "      <td>38.0</td>\n",
       "      <td>1</td>\n",
       "      <td>0</td>\n",
       "      <td>PC 17599</td>\n",
       "      <td>71.2833</td>\n",
       "      <td>2</td>\n",
       "    </tr>\n",
       "    <tr>\n",
       "      <th>2</th>\n",
       "      <td>3</td>\n",
       "      <td>1</td>\n",
       "      <td>3</td>\n",
       "      <td>Heikkinen, Miss. Laina</td>\n",
       "      <td>0</td>\n",
       "      <td>26.0</td>\n",
       "      <td>0</td>\n",
       "      <td>0</td>\n",
       "      <td>STON/O2. 3101282</td>\n",
       "      <td>7.9250</td>\n",
       "      <td>1</td>\n",
       "    </tr>\n",
       "    <tr>\n",
       "      <th>3</th>\n",
       "      <td>4</td>\n",
       "      <td>1</td>\n",
       "      <td>1</td>\n",
       "      <td>Futrelle, Mrs. Jacques Heath (Lily May Peel)</td>\n",
       "      <td>0</td>\n",
       "      <td>35.0</td>\n",
       "      <td>1</td>\n",
       "      <td>0</td>\n",
       "      <td>113803</td>\n",
       "      <td>53.1000</td>\n",
       "      <td>1</td>\n",
       "    </tr>\n",
       "    <tr>\n",
       "      <th>4</th>\n",
       "      <td>5</td>\n",
       "      <td>0</td>\n",
       "      <td>3</td>\n",
       "      <td>Allen, Mr. William Henry</td>\n",
       "      <td>1</td>\n",
       "      <td>35.0</td>\n",
       "      <td>0</td>\n",
       "      <td>0</td>\n",
       "      <td>373450</td>\n",
       "      <td>8.0500</td>\n",
       "      <td>1</td>\n",
       "    </tr>\n",
       "  </tbody>\n",
       "</table>\n",
       "</div>"
      ],
      "text/plain": [
       "   PassengerId  Survived  Pclass  \\\n",
       "0            1         0       3   \n",
       "1            2         1       1   \n",
       "2            3         1       3   \n",
       "3            4         1       1   \n",
       "4            5         0       3   \n",
       "\n",
       "                                                Name  Sex   Age  SibSp  Parch  \\\n",
       "0                            Braund, Mr. Owen Harris    1  22.0      1      0   \n",
       "1  Cumings, Mrs. John Bradley (Florence Briggs Th...    0  38.0      1      0   \n",
       "2                             Heikkinen, Miss. Laina    0  26.0      0      0   \n",
       "3       Futrelle, Mrs. Jacques Heath (Lily May Peel)    0  35.0      1      0   \n",
       "4                           Allen, Mr. William Henry    1  35.0      0      0   \n",
       "\n",
       "             Ticket     Fare  Embarked  \n",
       "0         A/5 21171   7.2500         1  \n",
       "1          PC 17599  71.2833         2  \n",
       "2  STON/O2. 3101282   7.9250         1  \n",
       "3            113803  53.1000         1  \n",
       "4            373450   8.0500         1  "
      ]
     },
     "execution_count": 11,
     "metadata": {},
     "output_type": "execute_result"
    }
   ],
   "source": [
    "df['Embarked'].fillna(df['Embarked'].mode()[0], inplace=True)\n",
    "df.Embarked = df['Embarked'].map({'Q': 0, 'S': 1, 'C': 2})\n",
    "df.head()"
   ]
  },
  {
   "cell_type": "code",
   "execution_count": 12,
   "id": "4791ad46",
   "metadata": {
    "execution": {
     "iopub.execute_input": "2023-02-24T15:20:15.595456Z",
     "iopub.status.busy": "2023-02-24T15:20:15.595036Z",
     "iopub.status.idle": "2023-02-24T15:20:15.607126Z",
     "shell.execute_reply": "2023-02-24T15:20:15.606214Z"
    },
    "papermill": {
     "duration": 0.030612,
     "end_time": "2023-02-24T15:20:15.609340",
     "exception": false,
     "start_time": "2023-02-24T15:20:15.578728",
     "status": "completed"
    },
    "tags": []
   },
   "outputs": [
    {
     "data": {
      "text/plain": [
       "PassengerId      int64\n",
       "Survived         int64\n",
       "Pclass           int64\n",
       "Sex              int64\n",
       "Age            float64\n",
       "SibSp            int64\n",
       "Parch            int64\n",
       "Fare           float64\n",
       "Embarked         int64\n",
       "dtype: object"
      ]
     },
     "execution_count": 12,
     "metadata": {},
     "output_type": "execute_result"
    }
   ],
   "source": [
    "# Fill the Nan in Age column\n",
    "df['Age'].fillna(df['Age'].mean(), inplace=True)\n",
    "\n",
    "# Drop the unnecessary columns\n",
    "df.drop(['Name', 'Ticket'], axis=1, inplace=True)\n",
    "df.dtypes"
   ]
  },
  {
   "cell_type": "code",
   "execution_count": 13,
   "id": "01d56cdd",
   "metadata": {
    "execution": {
     "iopub.execute_input": "2023-02-24T15:20:15.641891Z",
     "iopub.status.busy": "2023-02-24T15:20:15.641104Z",
     "iopub.status.idle": "2023-02-24T15:20:15.655990Z",
     "shell.execute_reply": "2023-02-24T15:20:15.654677Z"
    },
    "papermill": {
     "duration": 0.033645,
     "end_time": "2023-02-24T15:20:15.658520",
     "exception": false,
     "start_time": "2023-02-24T15:20:15.624875",
     "status": "completed"
    },
    "tags": []
   },
   "outputs": [
    {
     "data": {
      "text/html": [
       "<div>\n",
       "<style scoped>\n",
       "    .dataframe tbody tr th:only-of-type {\n",
       "        vertical-align: middle;\n",
       "    }\n",
       "\n",
       "    .dataframe tbody tr th {\n",
       "        vertical-align: top;\n",
       "    }\n",
       "\n",
       "    .dataframe thead th {\n",
       "        text-align: right;\n",
       "    }\n",
       "</style>\n",
       "<table border=\"1\" class=\"dataframe\">\n",
       "  <thead>\n",
       "    <tr style=\"text-align: right;\">\n",
       "      <th></th>\n",
       "      <th>PassengerId</th>\n",
       "      <th>Survived</th>\n",
       "      <th>Pclass</th>\n",
       "      <th>Sex</th>\n",
       "      <th>Age</th>\n",
       "      <th>SibSp</th>\n",
       "      <th>Parch</th>\n",
       "      <th>Fare</th>\n",
       "      <th>Embarked</th>\n",
       "    </tr>\n",
       "  </thead>\n",
       "  <tbody>\n",
       "    <tr>\n",
       "      <th>0</th>\n",
       "      <td>1</td>\n",
       "      <td>0</td>\n",
       "      <td>3</td>\n",
       "      <td>1</td>\n",
       "      <td>22.0</td>\n",
       "      <td>1</td>\n",
       "      <td>0</td>\n",
       "      <td>7.2500</td>\n",
       "      <td>1</td>\n",
       "    </tr>\n",
       "    <tr>\n",
       "      <th>1</th>\n",
       "      <td>2</td>\n",
       "      <td>1</td>\n",
       "      <td>1</td>\n",
       "      <td>0</td>\n",
       "      <td>38.0</td>\n",
       "      <td>1</td>\n",
       "      <td>0</td>\n",
       "      <td>71.2833</td>\n",
       "      <td>2</td>\n",
       "    </tr>\n",
       "    <tr>\n",
       "      <th>2</th>\n",
       "      <td>3</td>\n",
       "      <td>1</td>\n",
       "      <td>3</td>\n",
       "      <td>0</td>\n",
       "      <td>26.0</td>\n",
       "      <td>0</td>\n",
       "      <td>0</td>\n",
       "      <td>7.9250</td>\n",
       "      <td>1</td>\n",
       "    </tr>\n",
       "    <tr>\n",
       "      <th>3</th>\n",
       "      <td>4</td>\n",
       "      <td>1</td>\n",
       "      <td>1</td>\n",
       "      <td>0</td>\n",
       "      <td>35.0</td>\n",
       "      <td>1</td>\n",
       "      <td>0</td>\n",
       "      <td>53.1000</td>\n",
       "      <td>1</td>\n",
       "    </tr>\n",
       "    <tr>\n",
       "      <th>4</th>\n",
       "      <td>5</td>\n",
       "      <td>0</td>\n",
       "      <td>3</td>\n",
       "      <td>1</td>\n",
       "      <td>35.0</td>\n",
       "      <td>0</td>\n",
       "      <td>0</td>\n",
       "      <td>8.0500</td>\n",
       "      <td>1</td>\n",
       "    </tr>\n",
       "  </tbody>\n",
       "</table>\n",
       "</div>"
      ],
      "text/plain": [
       "   PassengerId  Survived  Pclass  Sex   Age  SibSp  Parch     Fare  Embarked\n",
       "0            1         0       3    1  22.0      1      0   7.2500         1\n",
       "1            2         1       1    0  38.0      1      0  71.2833         2\n",
       "2            3         1       3    0  26.0      0      0   7.9250         1\n",
       "3            4         1       1    0  35.0      1      0  53.1000         1\n",
       "4            5         0       3    1  35.0      0      0   8.0500         1"
      ]
     },
     "execution_count": 13,
     "metadata": {},
     "output_type": "execute_result"
    }
   ],
   "source": [
    "df.head()"
   ]
  },
  {
   "cell_type": "code",
   "execution_count": 14,
   "id": "779df13e",
   "metadata": {
    "execution": {
     "iopub.execute_input": "2023-02-24T15:20:15.691973Z",
     "iopub.status.busy": "2023-02-24T15:20:15.690947Z",
     "iopub.status.idle": "2023-02-24T15:20:15.700598Z",
     "shell.execute_reply": "2023-02-24T15:20:15.699376Z"
    },
    "papermill": {
     "duration": 0.028739,
     "end_time": "2023-02-24T15:20:15.702926",
     "exception": false,
     "start_time": "2023-02-24T15:20:15.674187",
     "status": "completed"
    },
    "tags": []
   },
   "outputs": [
    {
     "data": {
      "text/plain": [
       "PassengerId    0\n",
       "Survived       0\n",
       "Pclass         0\n",
       "Sex            0\n",
       "Age            0\n",
       "SibSp          0\n",
       "Parch          0\n",
       "Fare           0\n",
       "Embarked       0\n",
       "dtype: int64"
      ]
     },
     "execution_count": 14,
     "metadata": {},
     "output_type": "execute_result"
    }
   ],
   "source": [
    "df.isna().sum()"
   ]
  },
  {
   "cell_type": "code",
   "execution_count": 15,
   "id": "4c65cddd",
   "metadata": {
    "execution": {
     "iopub.execute_input": "2023-02-24T15:20:15.736244Z",
     "iopub.status.busy": "2023-02-24T15:20:15.735554Z",
     "iopub.status.idle": "2023-02-24T15:20:15.749741Z",
     "shell.execute_reply": "2023-02-24T15:20:15.748569Z"
    },
    "papermill": {
     "duration": 0.034228,
     "end_time": "2023-02-24T15:20:15.752531",
     "exception": false,
     "start_time": "2023-02-24T15:20:15.718303",
     "status": "completed"
    },
    "tags": []
   },
   "outputs": [
    {
     "data": {
      "text/html": [
       "<div>\n",
       "<style scoped>\n",
       "    .dataframe tbody tr th:only-of-type {\n",
       "        vertical-align: middle;\n",
       "    }\n",
       "\n",
       "    .dataframe tbody tr th {\n",
       "        vertical-align: top;\n",
       "    }\n",
       "\n",
       "    .dataframe thead th {\n",
       "        text-align: right;\n",
       "    }\n",
       "</style>\n",
       "<table border=\"1\" class=\"dataframe\">\n",
       "  <thead>\n",
       "    <tr style=\"text-align: right;\">\n",
       "      <th></th>\n",
       "      <th>PassengerId</th>\n",
       "      <th>Survived</th>\n",
       "      <th>Pclass</th>\n",
       "      <th>Sex</th>\n",
       "      <th>Age</th>\n",
       "      <th>SibSp</th>\n",
       "      <th>Parch</th>\n",
       "      <th>Fare</th>\n",
       "      <th>Embarked</th>\n",
       "    </tr>\n",
       "  </thead>\n",
       "  <tbody>\n",
       "    <tr>\n",
       "      <th>886</th>\n",
       "      <td>887</td>\n",
       "      <td>0</td>\n",
       "      <td>2</td>\n",
       "      <td>1</td>\n",
       "      <td>27.000000</td>\n",
       "      <td>0</td>\n",
       "      <td>0</td>\n",
       "      <td>13.00</td>\n",
       "      <td>1</td>\n",
       "    </tr>\n",
       "    <tr>\n",
       "      <th>887</th>\n",
       "      <td>888</td>\n",
       "      <td>1</td>\n",
       "      <td>1</td>\n",
       "      <td>0</td>\n",
       "      <td>19.000000</td>\n",
       "      <td>0</td>\n",
       "      <td>0</td>\n",
       "      <td>30.00</td>\n",
       "      <td>1</td>\n",
       "    </tr>\n",
       "    <tr>\n",
       "      <th>888</th>\n",
       "      <td>889</td>\n",
       "      <td>0</td>\n",
       "      <td>3</td>\n",
       "      <td>0</td>\n",
       "      <td>29.699118</td>\n",
       "      <td>1</td>\n",
       "      <td>2</td>\n",
       "      <td>23.45</td>\n",
       "      <td>1</td>\n",
       "    </tr>\n",
       "    <tr>\n",
       "      <th>889</th>\n",
       "      <td>890</td>\n",
       "      <td>1</td>\n",
       "      <td>1</td>\n",
       "      <td>1</td>\n",
       "      <td>26.000000</td>\n",
       "      <td>0</td>\n",
       "      <td>0</td>\n",
       "      <td>30.00</td>\n",
       "      <td>2</td>\n",
       "    </tr>\n",
       "    <tr>\n",
       "      <th>890</th>\n",
       "      <td>891</td>\n",
       "      <td>0</td>\n",
       "      <td>3</td>\n",
       "      <td>1</td>\n",
       "      <td>32.000000</td>\n",
       "      <td>0</td>\n",
       "      <td>0</td>\n",
       "      <td>7.75</td>\n",
       "      <td>0</td>\n",
       "    </tr>\n",
       "  </tbody>\n",
       "</table>\n",
       "</div>"
      ],
      "text/plain": [
       "     PassengerId  Survived  Pclass  Sex        Age  SibSp  Parch   Fare  \\\n",
       "886          887         0       2    1  27.000000      0      0  13.00   \n",
       "887          888         1       1    0  19.000000      0      0  30.00   \n",
       "888          889         0       3    0  29.699118      1      2  23.45   \n",
       "889          890         1       1    1  26.000000      0      0  30.00   \n",
       "890          891         0       3    1  32.000000      0      0   7.75   \n",
       "\n",
       "     Embarked  \n",
       "886         1  \n",
       "887         1  \n",
       "888         1  \n",
       "889         2  \n",
       "890         0  "
      ]
     },
     "execution_count": 15,
     "metadata": {},
     "output_type": "execute_result"
    }
   ],
   "source": [
    "df.tail()"
   ]
  },
  {
   "cell_type": "code",
   "execution_count": 16,
   "id": "16a6a85d",
   "metadata": {
    "execution": {
     "iopub.execute_input": "2023-02-24T15:20:15.785735Z",
     "iopub.status.busy": "2023-02-24T15:20:15.785295Z",
     "iopub.status.idle": "2023-02-24T15:20:15.792416Z",
     "shell.execute_reply": "2023-02-24T15:20:15.791529Z"
    },
    "papermill": {
     "duration": 0.026245,
     "end_time": "2023-02-24T15:20:15.794625",
     "exception": false,
     "start_time": "2023-02-24T15:20:15.768380",
     "status": "completed"
    },
    "tags": []
   },
   "outputs": [
    {
     "data": {
      "text/plain": [
       "(891, 9)"
      ]
     },
     "execution_count": 16,
     "metadata": {},
     "output_type": "execute_result"
    }
   ],
   "source": [
    "df.shape"
   ]
  },
  {
   "cell_type": "code",
   "execution_count": 17,
   "id": "07edda53",
   "metadata": {
    "execution": {
     "iopub.execute_input": "2023-02-24T15:20:15.829006Z",
     "iopub.status.busy": "2023-02-24T15:20:15.828301Z",
     "iopub.status.idle": "2023-02-24T15:20:15.835720Z",
     "shell.execute_reply": "2023-02-24T15:20:15.834860Z"
    },
    "papermill": {
     "duration": 0.027141,
     "end_time": "2023-02-24T15:20:15.837993",
     "exception": false,
     "start_time": "2023-02-24T15:20:15.810852",
     "status": "completed"
    },
    "tags": []
   },
   "outputs": [
    {
     "data": {
      "text/plain": [
       "0    678\n",
       "1    118\n",
       "2     80\n",
       "5      5\n",
       "3      5\n",
       "4      4\n",
       "6      1\n",
       "Name: Parch, dtype: int64"
      ]
     },
     "execution_count": 17,
     "metadata": {},
     "output_type": "execute_result"
    }
   ],
   "source": [
    "df.Parch.value_counts()"
   ]
  },
  {
   "cell_type": "code",
   "execution_count": 18,
   "id": "2d9bab7c",
   "metadata": {
    "execution": {
     "iopub.execute_input": "2023-02-24T15:20:15.872016Z",
     "iopub.status.busy": "2023-02-24T15:20:15.871309Z",
     "iopub.status.idle": "2023-02-24T15:20:16.163145Z",
     "shell.execute_reply": "2023-02-24T15:20:16.161893Z"
    },
    "papermill": {
     "duration": 0.311931,
     "end_time": "2023-02-24T15:20:16.165981",
     "exception": false,
     "start_time": "2023-02-24T15:20:15.854050",
     "status": "completed"
    },
    "tags": []
   },
   "outputs": [
    {
     "data": {
      "image/png": "[encoded data removed]",
      "text/plain": [
       "<Figure size 640x480 with 1 Axes>"
      ]
     },
     "metadata": {},
     "output_type": "display_data"
    }
   ],
   "source": [
    "# Let's visualize our data\n",
    "sub_df = pd.crosstab(df.Embarked, df.Survived)\n",
    "sub_df.plot(kind='bar', color=['salmon', 'lightblue'])\n",
    "plt.legend(['Not Survived', 'Survived'])\n",
    "plt.ylabel('Frequency')\n",
    "plt.xlabel('Embarked')\n",
    "plt.show();"
   ]
  },
  {
   "cell_type": "code",
   "execution_count": 19,
   "id": "c5149629",
   "metadata": {
    "execution": {
     "iopub.execute_input": "2023-02-24T15:20:16.200494Z",
     "iopub.status.busy": "2023-02-24T15:20:16.200058Z",
     "iopub.status.idle": "2023-02-24T15:20:16.419047Z",
     "shell.execute_reply": "2023-02-24T15:20:16.418098Z"
    },
    "papermill": {
     "duration": 0.239062,
     "end_time": "2023-02-24T15:20:16.421415",
     "exception": false,
     "start_time": "2023-02-24T15:20:16.182353",
     "status": "completed"
    },
    "tags": []
   },
   "outputs": [
    {
     "data": {
      "image/png": "[encoded data removed]",
      "text/plain": [
       "<Figure size 640x480 with 1 Axes>"
      ]
     },
     "metadata": {},
     "output_type": "display_data"
    }
   ],
   "source": [
    "sub_df = pd.crosstab(df.Pclass, df.Survived)\n",
    "sub_df.plot(kind='bar', color=['salmon', 'lightblue'])\n",
    "plt.legend(['Not Survived', 'Survived'])\n",
    "plt.ylabel('Frequency')\n",
    "plt.xlabel('Class')\n",
    "plt.show();"
   ]
  },
  {
   "cell_type": "code",
   "execution_count": 20,
   "id": "9f2a4da5",
   "metadata": {
    "execution": {
     "iopub.execute_input": "2023-02-24T15:20:16.458114Z",
     "iopub.status.busy": "2023-02-24T15:20:16.457036Z",
     "iopub.status.idle": "2023-02-24T15:20:16.465089Z",
     "shell.execute_reply": "2023-02-24T15:20:16.463853Z"
    },
    "papermill": {
     "duration": 0.029565,
     "end_time": "2023-02-24T15:20:16.467660",
     "exception": false,
     "start_time": "2023-02-24T15:20:16.438095",
     "status": "completed"
    },
    "tags": []
   },
   "outputs": [
    {
     "data": {
      "text/plain": [
       "1    577\n",
       "0    314\n",
       "Name: Sex, dtype: int64"
      ]
     },
     "execution_count": 20,
     "metadata": {},
     "output_type": "execute_result"
    }
   ],
   "source": [
    "df['Sex'].value_counts()"
   ]
  },
  {
   "cell_type": "code",
   "execution_count": 21,
   "id": "93874ab6",
   "metadata": {
    "execution": {
     "iopub.execute_input": "2023-02-24T15:20:16.504476Z",
     "iopub.status.busy": "2023-02-24T15:20:16.503458Z",
     "iopub.status.idle": "2023-02-24T15:20:16.723655Z",
     "shell.execute_reply": "2023-02-24T15:20:16.722742Z"
    },
    "papermill": {
     "duration": 0.240855,
     "end_time": "2023-02-24T15:20:16.726114",
     "exception": false,
     "start_time": "2023-02-24T15:20:16.485259",
     "status": "completed"
    },
    "tags": []
   },
   "outputs": [
    {
     "data": {
      "image/png": "[encoded data removed]",
      "text/plain": [
       "<Figure size 640x480 with 1 Axes>"
      ]
     },
     "metadata": {},
     "output_type": "display_data"
    }
   ],
   "source": [
    "sub_df = pd.crosstab(df.Pclass, df.Sex)\n",
    "sub_df.plot(kind='bar', color=['salmon', 'lightblue'])\n",
    "plt.legend(['Female', 'Male'])\n",
    "plt.ylabel('Frequency')\n",
    "plt.xlabel('Class')\n",
    "plt.show();"
   ]
  },
  {
   "cell_type": "code",
   "execution_count": 22,
   "id": "6ab8122b",
   "metadata": {
    "execution": {
     "iopub.execute_input": "2023-02-24T15:20:16.762818Z",
     "iopub.status.busy": "2023-02-24T15:20:16.762118Z",
     "iopub.status.idle": "2023-02-24T15:20:16.968194Z",
     "shell.execute_reply": "2023-02-24T15:20:16.967024Z"
    },
    "papermill": {
     "duration": 0.227114,
     "end_time": "2023-02-24T15:20:16.970639",
     "exception": false,
     "start_time": "2023-02-24T15:20:16.743525",
     "status": "completed"
    },
    "tags": []
   },
   "outputs": [
    {
     "data": {
      "image/png": "[encoded data removed]",
      "text/plain": [
       "<Figure size 640x480 with 1 Axes>"
      ]
     },
     "metadata": {},
     "output_type": "display_data"
    }
   ],
   "source": [
    "sub_df = pd.crosstab(df.Survived, df.Sex)\n",
    "sub_df.plot(kind='bar', color=['salmon', 'lightblue'])\n",
    "plt.legend(['Female', 'Male'])\n",
    "plt.ylabel('Frequency')\n",
    "plt.xlabel('Survival Status')\n",
    "plt.show();"
   ]
  },
  {
   "cell_type": "code",
   "execution_count": 23,
   "id": "bd73a0a0",
   "metadata": {
    "execution": {
     "iopub.execute_input": "2023-02-24T15:20:17.007809Z",
     "iopub.status.busy": "2023-02-24T15:20:17.007318Z",
     "iopub.status.idle": "2023-02-24T15:20:17.230131Z",
     "shell.execute_reply": "2023-02-24T15:20:17.229044Z"
    },
    "papermill": {
     "duration": 0.244586,
     "end_time": "2023-02-24T15:20:17.232783",
     "exception": false,
     "start_time": "2023-02-24T15:20:16.988197",
     "status": "completed"
    },
    "tags": []
   },
   "outputs": [
    {
     "data": {
      "image/png": "[encoded data removed]",
      "text/plain": [
       "<Figure size 640x480 with 1 Axes>"
      ]
     },
     "metadata": {},
     "output_type": "display_data"
    }
   ],
   "source": [
    "df['Age'].plot(kind='hist', color='lightblue')\n",
    "plt.show()"
   ]
  },
  {
   "cell_type": "code",
   "execution_count": 24,
   "id": "e888632a",
   "metadata": {
    "execution": {
     "iopub.execute_input": "2023-02-24T15:20:17.270753Z",
     "iopub.status.busy": "2023-02-24T15:20:17.269640Z",
     "iopub.status.idle": "2023-02-24T15:20:17.278139Z",
     "shell.execute_reply": "2023-02-24T15:20:17.276851Z"
    },
    "papermill": {
     "duration": 0.029971,
     "end_time": "2023-02-24T15:20:17.280614",
     "exception": false,
     "start_time": "2023-02-24T15:20:17.250643",
     "status": "completed"
    },
    "tags": []
   },
   "outputs": [
    {
     "data": {
      "text/plain": [
       "29.69911764705882"
      ]
     },
     "execution_count": 24,
     "metadata": {},
     "output_type": "execute_result"
    }
   ],
   "source": [
    "df['Age'].mean()"
   ]
  },
  {
   "cell_type": "code",
   "execution_count": 25,
   "id": "486ab9b7",
   "metadata": {
    "execution": {
     "iopub.execute_input": "2023-02-24T15:20:17.320205Z",
     "iopub.status.busy": "2023-02-24T15:20:17.319121Z",
     "iopub.status.idle": "2023-02-24T15:20:17.334575Z",
     "shell.execute_reply": "2023-02-24T15:20:17.333557Z"
    },
    "papermill": {
     "duration": 0.037881,
     "end_time": "2023-02-24T15:20:17.336937",
     "exception": false,
     "start_time": "2023-02-24T15:20:17.299056",
     "status": "completed"
    },
    "tags": []
   },
   "outputs": [
    {
     "data": {
      "text/html": [
       "<div>\n",
       "<style scoped>\n",
       "    .dataframe tbody tr th:only-of-type {\n",
       "        vertical-align: middle;\n",
       "    }\n",
       "\n",
       "    .dataframe tbody tr th {\n",
       "        vertical-align: top;\n",
       "    }\n",
       "\n",
       "    .dataframe thead th {\n",
       "        text-align: right;\n",
       "    }\n",
       "</style>\n",
       "<table border=\"1\" class=\"dataframe\">\n",
       "  <thead>\n",
       "    <tr style=\"text-align: right;\">\n",
       "      <th></th>\n",
       "      <th>PassengerId</th>\n",
       "      <th>Survived</th>\n",
       "      <th>Pclass</th>\n",
       "      <th>Sex</th>\n",
       "      <th>Age</th>\n",
       "      <th>SibSp</th>\n",
       "      <th>Parch</th>\n",
       "      <th>Fare</th>\n",
       "      <th>Embarked</th>\n",
       "    </tr>\n",
       "  </thead>\n",
       "  <tbody>\n",
       "    <tr>\n",
       "      <th>0</th>\n",
       "      <td>1</td>\n",
       "      <td>0</td>\n",
       "      <td>3</td>\n",
       "      <td>1</td>\n",
       "      <td>22.000000</td>\n",
       "      <td>1</td>\n",
       "      <td>0</td>\n",
       "      <td>7.2500</td>\n",
       "      <td>1</td>\n",
       "    </tr>\n",
       "    <tr>\n",
       "      <th>1</th>\n",
       "      <td>2</td>\n",
       "      <td>1</td>\n",
       "      <td>1</td>\n",
       "      <td>0</td>\n",
       "      <td>38.000000</td>\n",
       "      <td>1</td>\n",
       "      <td>0</td>\n",
       "      <td>71.2833</td>\n",
       "      <td>2</td>\n",
       "    </tr>\n",
       "    <tr>\n",
       "      <th>2</th>\n",
       "      <td>3</td>\n",
       "      <td>1</td>\n",
       "      <td>3</td>\n",
       "      <td>0</td>\n",
       "      <td>26.000000</td>\n",
       "      <td>0</td>\n",
       "      <td>0</td>\n",
       "      <td>7.9250</td>\n",
       "      <td>1</td>\n",
       "    </tr>\n",
       "    <tr>\n",
       "      <th>3</th>\n",
       "      <td>4</td>\n",
       "      <td>1</td>\n",
       "      <td>1</td>\n",
       "      <td>0</td>\n",
       "      <td>35.000000</td>\n",
       "      <td>1</td>\n",
       "      <td>0</td>\n",
       "      <td>53.1000</td>\n",
       "      <td>1</td>\n",
       "    </tr>\n",
       "    <tr>\n",
       "      <th>4</th>\n",
       "      <td>5</td>\n",
       "      <td>0</td>\n",
       "      <td>3</td>\n",
       "      <td>1</td>\n",
       "      <td>35.000000</td>\n",
       "      <td>0</td>\n",
       "      <td>0</td>\n",
       "      <td>8.0500</td>\n",
       "      <td>1</td>\n",
       "    </tr>\n",
       "    <tr>\n",
       "      <th>5</th>\n",
       "      <td>6</td>\n",
       "      <td>0</td>\n",
       "      <td>3</td>\n",
       "      <td>1</td>\n",
       "      <td>29.699118</td>\n",
       "      <td>0</td>\n",
       "      <td>0</td>\n",
       "      <td>8.4583</td>\n",
       "      <td>0</td>\n",
       "    </tr>\n",
       "    <tr>\n",
       "      <th>6</th>\n",
       "      <td>7</td>\n",
       "      <td>0</td>\n",
       "      <td>1</td>\n",
       "      <td>1</td>\n",
       "      <td>54.000000</td>\n",
       "      <td>0</td>\n",
       "      <td>0</td>\n",
       "      <td>51.8625</td>\n",
       "      <td>1</td>\n",
       "    </tr>\n",
       "    <tr>\n",
       "      <th>7</th>\n",
       "      <td>8</td>\n",
       "      <td>0</td>\n",
       "      <td>3</td>\n",
       "      <td>1</td>\n",
       "      <td>2.000000</td>\n",
       "      <td>3</td>\n",
       "      <td>1</td>\n",
       "      <td>21.0750</td>\n",
       "      <td>1</td>\n",
       "    </tr>\n",
       "    <tr>\n",
       "      <th>8</th>\n",
       "      <td>9</td>\n",
       "      <td>1</td>\n",
       "      <td>3</td>\n",
       "      <td>0</td>\n",
       "      <td>27.000000</td>\n",
       "      <td>0</td>\n",
       "      <td>2</td>\n",
       "      <td>11.1333</td>\n",
       "      <td>1</td>\n",
       "    </tr>\n",
       "    <tr>\n",
       "      <th>9</th>\n",
       "      <td>10</td>\n",
       "      <td>1</td>\n",
       "      <td>2</td>\n",
       "      <td>0</td>\n",
       "      <td>14.000000</td>\n",
       "      <td>1</td>\n",
       "      <td>0</td>\n",
       "      <td>30.0708</td>\n",
       "      <td>2</td>\n",
       "    </tr>\n",
       "  </tbody>\n",
       "</table>\n",
       "</div>"
      ],
      "text/plain": [
       "   PassengerId  Survived  Pclass  Sex        Age  SibSp  Parch     Fare  \\\n",
       "0            1         0       3    1  22.000000      1      0   7.2500   \n",
       "1            2         1       1    0  38.000000      1      0  71.2833   \n",
       "2            3         1       3    0  26.000000      0      0   7.9250   \n",
       "3            4         1       1    0  35.000000      1      0  53.1000   \n",
       "4            5         0       3    1  35.000000      0      0   8.0500   \n",
       "5            6         0       3    1  29.699118      0      0   8.4583   \n",
       "6            7         0       1    1  54.000000      0      0  51.8625   \n",
       "7            8         0       3    1   2.000000      3      1  21.0750   \n",
       "8            9         1       3    0  27.000000      0      2  11.1333   \n",
       "9           10         1       2    0  14.000000      1      0  30.0708   \n",
       "\n",
       "   Embarked  \n",
       "0         1  \n",
       "1         2  \n",
       "2         1  \n",
       "3         1  \n",
       "4         1  \n",
       "5         0  \n",
       "6         1  \n",
       "7         1  \n",
       "8         1  \n",
       "9         2  "
      ]
     },
     "execution_count": 25,
     "metadata": {},
     "output_type": "execute_result"
    }
   ],
   "source": [
    "df.head(10)"
   ]
  },
  {
   "cell_type": "code",
   "execution_count": 26,
   "id": "c5a43ee8",
   "metadata": {
    "execution": {
     "iopub.execute_input": "2023-02-24T15:20:17.376173Z",
     "iopub.status.busy": "2023-02-24T15:20:17.375106Z",
     "iopub.status.idle": "2023-02-24T15:20:18.453786Z",
     "shell.execute_reply": "2023-02-24T15:20:18.452585Z"
    },
    "papermill": {
     "duration": 1.101335,
     "end_time": "2023-02-24T15:20:18.456493",
     "exception": false,
     "start_time": "2023-02-24T15:20:17.355158",
     "status": "completed"
    },
    "tags": []
   },
   "outputs": [
    {
     "data": {
      "text/plain": [
       "((712, 8), (179, 8), (712,), (179,))"
      ]
     },
     "execution_count": 26,
     "metadata": {},
     "output_type": "execute_result"
    }
   ],
   "source": [
    "# Split the data\n",
    "from sklearn.model_selection import train_test_split\n",
    "np.random.seed(2)\n",
    "\n",
    "# Create x and y Dataframes\n",
    "x = df.drop('Survived', axis=1)\n",
    "y = df['Survived']\n",
    "\n",
    "# Scale the data\n",
    "from sklearn.preprocessing import StandardScaler\n",
    "scaler = StandardScaler()\n",
    "scaler.fit(x)\n",
    "X = scaler.transform(x)\n",
    "X = pd.DataFrame(X)\n",
    "\n",
    "x_tr, x_tst, y_tr, y_tst = train_test_split(X, y, test_size=0.2, random_state=0)\n",
    "x_tr.shape, x_tst.shape, y_tr.shape, y_tst.shape"
   ]
  },
  {
   "cell_type": "code",
   "execution_count": 27,
   "id": "f78a5f7f",
   "metadata": {
    "execution": {
     "iopub.execute_input": "2023-02-24T15:20:18.496176Z",
     "iopub.status.busy": "2023-02-24T15:20:18.494966Z",
     "iopub.status.idle": "2023-02-24T15:20:18.589783Z",
     "shell.execute_reply": "2023-02-24T15:20:18.588564Z"
    },
    "papermill": {
     "duration": 0.117195,
     "end_time": "2023-02-24T15:20:18.592262",
     "exception": false,
     "start_time": "2023-02-24T15:20:18.475067",
     "status": "completed"
    },
    "tags": []
   },
   "outputs": [
    {
     "data": {
      "text/plain": [
       "LogisticRegression()"
      ]
     },
     "execution_count": 27,
     "metadata": {},
     "output_type": "execute_result"
    }
   ],
   "source": [
    "# Build a Classification Model\n",
    "from sklearn.linear_model import LogisticRegression\n",
    "lr = LogisticRegression(max_iter=100)\n",
    "\n",
    "# Fit the model\n",
    "lr.fit(x_tr, y_tr)"
   ]
  },
  {
   "cell_type": "code",
   "execution_count": 28,
   "id": "2a7c5ba0",
   "metadata": {
    "execution": {
     "iopub.execute_input": "2023-02-24T15:20:18.632451Z",
     "iopub.status.busy": "2023-02-24T15:20:18.631737Z",
     "iopub.status.idle": "2023-02-24T15:20:18.643550Z",
     "shell.execute_reply": "2023-02-24T15:20:18.642577Z"
    },
    "papermill": {
     "duration": 0.035302,
     "end_time": "2023-02-24T15:20:18.646148",
     "exception": false,
     "start_time": "2023-02-24T15:20:18.610846",
     "status": "completed"
    },
    "tags": []
   },
   "outputs": [
    {
     "data": {
      "text/plain": [
       "(0.8019662921348315, 0.7988826815642458)"
      ]
     },
     "execution_count": 28,
     "metadata": {},
     "output_type": "execute_result"
    }
   ],
   "source": [
    "# Evaluate the metrics\n",
    "lr.score(x_tr, y_tr), lr.score(x_tst, y_tst)"
   ]
  },
  {
   "cell_type": "code",
   "execution_count": 29,
   "id": "b43fc1ef",
   "metadata": {
    "execution": {
     "iopub.execute_input": "2023-02-24T15:20:18.685851Z",
     "iopub.status.busy": "2023-02-24T15:20:18.684561Z",
     "iopub.status.idle": "2023-02-24T15:20:19.021504Z",
     "shell.execute_reply": "2023-02-24T15:20:19.020198Z"
    },
    "papermill": {
     "duration": 0.359643,
     "end_time": "2023-02-24T15:20:19.024286",
     "exception": false,
     "start_time": "2023-02-24T15:20:18.664643",
     "status": "completed"
    },
    "tags": []
   },
   "outputs": [
    {
     "data": {
      "text/plain": [
       "RandomForestClassifier()"
      ]
     },
     "execution_count": 29,
     "metadata": {},
     "output_type": "execute_result"
    }
   ],
   "source": [
    "# Creating a RandomForestClassifier\n",
    "from sklearn.ensemble import RandomForestClassifier\n",
    "rfc = RandomForestClassifier()\n",
    "rfc.fit(x_tr, y_tr)"
   ]
  },
  {
   "cell_type": "code",
   "execution_count": 30,
   "id": "61ccef75",
   "metadata": {
    "execution": {
     "iopub.execute_input": "2023-02-24T15:20:19.063814Z",
     "iopub.status.busy": "2023-02-24T15:20:19.063382Z",
     "iopub.status.idle": "2023-02-24T15:20:19.112378Z",
     "shell.execute_reply": "2023-02-24T15:20:19.111008Z"
    },
    "papermill": {
     "duration": 0.071852,
     "end_time": "2023-02-24T15:20:19.115071",
     "exception": false,
     "start_time": "2023-02-24T15:20:19.043219",
     "status": "completed"
    },
    "tags": []
   },
   "outputs": [
    {
     "data": {
      "text/plain": [
       "(1.0, 0.8603351955307262)"
      ]
     },
     "execution_count": 30,
     "metadata": {},
     "output_type": "execute_result"
    }
   ],
   "source": [
    "rfc.score(x_tr, y_tr), rfc.score(x_tst, y_tst)"
   ]
  },
  {
   "cell_type": "code",
   "execution_count": 31,
   "id": "39050656",
   "metadata": {
    "execution": {
     "iopub.execute_input": "2023-02-24T15:20:19.155070Z",
     "iopub.status.busy": "2023-02-24T15:20:19.153958Z",
     "iopub.status.idle": "2023-02-24T15:20:20.183448Z",
     "shell.execute_reply": "2023-02-24T15:20:20.182183Z"
    },
    "papermill": {
     "duration": 1.052626,
     "end_time": "2023-02-24T15:20:20.186310",
     "exception": false,
     "start_time": "2023-02-24T15:20:19.133684",
     "status": "completed"
    },
    "tags": []
   },
   "outputs": [
    {
     "data": {
      "text/plain": [
       "array([0.70949721, 0.79213483, 0.85955056, 0.82022472, 0.85955056])"
      ]
     },
     "execution_count": 31,
     "metadata": {},
     "output_type": "execute_result"
    }
   ],
   "source": [
    "# Cross Validating the score\n",
    "from sklearn.model_selection import cross_val_score\n",
    "cv = cross_val_score(rfc, X, y, cv=5, scoring=None)\n",
    "cv"
   ]
  },
  {
   "cell_type": "code",
   "execution_count": 32,
   "id": "cf005aa7",
   "metadata": {
    "execution": {
     "iopub.execute_input": "2023-02-24T15:20:20.226491Z",
     "iopub.status.busy": "2023-02-24T15:20:20.226026Z",
     "iopub.status.idle": "2023-02-24T15:20:20.234571Z",
     "shell.execute_reply": "2023-02-24T15:20:20.233256Z"
    },
    "papermill": {
     "duration": 0.032008,
     "end_time": "2023-02-24T15:20:20.237370",
     "exception": false,
     "start_time": "2023-02-24T15:20:20.205362",
     "status": "completed"
    },
    "tags": []
   },
   "outputs": [],
   "source": [
    "from sklearn.metrics import accuracy_score, precision_score, recall_score, f1_score\n",
    "\n",
    "def evaluate_preds(y_true, y_preds):\n",
    "    accuracy = accuracy_score(y_true, y_preds)\n",
    "    precision = precision_score(y_true, y_preds)\n",
    "    recall = recall_score(y_true, y_preds)\n",
    "    f1 = f1_score(y_true, y_preds)\n",
    "    \n",
    "    metric_dict = {\n",
    "        'accuracy': round(accuracy, 2),\n",
    "        'precision': round(precision, 2),\n",
    "        'recall': round(recall, 2),\n",
    "        'f1': round(f1, 2)\n",
    "    }\n",
    "    \n",
    "    print(f\"Accuracy: {metric_dict['accuracy']}\")\n",
    "    print(f\"Precision: {metric_dict['precision']}\")\n",
    "    print(f\"Recall: {metric_dict['recall']}\")\n",
    "    print(f\"F1 Score: {metric_dict['f1']}\")\n",
    "    \n",
    "    return metric_dict"
   ]
  },
  {
   "cell_type": "code",
   "execution_count": 33,
   "id": "919e752a",
   "metadata": {
    "execution": {
     "iopub.execute_input": "2023-02-24T15:20:20.277870Z",
     "iopub.status.busy": "2023-02-24T15:20:20.277369Z",
     "iopub.status.idle": "2023-02-24T15:20:20.307005Z",
     "shell.execute_reply": "2023-02-24T15:20:20.305590Z"
    },
    "papermill": {
     "duration": 0.052669,
     "end_time": "2023-02-24T15:20:20.309405",
     "exception": false,
     "start_time": "2023-02-24T15:20:20.256736",
     "status": "completed"
    },
    "tags": []
   },
   "outputs": [
    {
     "name": "stdout",
     "output_type": "stream",
     "text": [
      "Accuracy: 0.86\n",
      "Precision: 0.89\n",
      "Recall: 0.72\n",
      "F1 Score: 0.8\n"
     ]
    },
    {
     "data": {
      "text/plain": [
       "{'accuracy': 0.86, 'precision': 0.89, 'recall': 0.72, 'f1': 0.8}"
      ]
     },
     "execution_count": 33,
     "metadata": {},
     "output_type": "execute_result"
    }
   ],
   "source": [
    "y_preds = rfc.predict(x_tst)\n",
    "evaluate_preds(y_tst, y_preds)"
   ]
  },
  {
   "cell_type": "code",
   "execution_count": 34,
   "id": "c09a57a5",
   "metadata": {
    "execution": {
     "iopub.execute_input": "2023-02-24T15:20:20.351754Z",
     "iopub.status.busy": "2023-02-24T15:20:20.351280Z",
     "iopub.status.idle": "2023-02-24T15:20:20.356720Z",
     "shell.execute_reply": "2023-02-24T15:20:20.355385Z"
    },
    "papermill": {
     "duration": 0.029822,
     "end_time": "2023-02-24T15:20:20.359201",
     "exception": false,
     "start_time": "2023-02-24T15:20:20.329379",
     "status": "completed"
    },
    "tags": []
   },
   "outputs": [],
   "source": [
    "# # Display the Confusion Matrix\n",
    "# from sklearn.metrics import ConfusionMatrixDisplay, confusion_matrix\n",
    "\n",
    "# matrix = confusion_matrix(y_tst, y_preds, labels=lr.classes_)\n",
    "# graph = ConfusionMatrixDisplay(confusion_matrix=matrix, display_labels=lr.classes_)\n",
    "\n",
    "# graph.plot()\n",
    "# plt.show()"
   ]
  },
  {
   "cell_type": "code",
   "execution_count": 35,
   "id": "792262be",
   "metadata": {
    "execution": {
     "iopub.execute_input": "2023-02-24T15:20:20.400681Z",
     "iopub.status.busy": "2023-02-24T15:20:20.400244Z",
     "iopub.status.idle": "2023-02-24T15:20:20.651852Z",
     "shell.execute_reply": "2023-02-24T15:20:20.650544Z"
    },
    "papermill": {
     "duration": 0.276219,
     "end_time": "2023-02-24T15:20:20.654531",
     "exception": false,
     "start_time": "2023-02-24T15:20:20.378312",
     "status": "completed"
    },
    "tags": []
   },
   "outputs": [
    {
     "data": {
      "image/png": "[encoded data removed]",
      "text/plain": [
       "<Figure size 640x480 with 2 Axes>"
      ]
     },
     "metadata": {},
     "output_type": "display_data"
    }
   ],
   "source": [
    "# Display the Confusion Matrix\n",
    "from sklearn.metrics import ConfusionMatrixDisplay, confusion_matrix\n",
    "\n",
    "matrix = confusion_matrix(y_tst, y_preds, labels=rfc.classes_)\n",
    "graph = ConfusionMatrixDisplay(confusion_matrix=matrix, display_labels=rfc.classes_)\n",
    "\n",
    "graph.plot()\n",
    "plt.show()"
   ]
  },
  {
   "cell_type": "code",
   "execution_count": 36,
   "id": "99acb7dd",
   "metadata": {
    "execution": {
     "iopub.execute_input": "2023-02-24T15:20:20.697659Z",
     "iopub.status.busy": "2023-02-24T15:20:20.697137Z",
     "iopub.status.idle": "2023-02-24T15:20:20.703691Z",
     "shell.execute_reply": "2023-02-24T15:20:20.702134Z"
    },
    "papermill": {
     "duration": 0.031676,
     "end_time": "2023-02-24T15:20:20.706639",
     "exception": false,
     "start_time": "2023-02-24T15:20:20.674963",
     "status": "completed"
    },
    "tags": []
   },
   "outputs": [],
   "source": [
    "# # Feature Importance\n",
    "\n",
    "# # Feature importance is another way of asking, 'which features contribute the most to the outcomes of the model and how did they contribute?'\n",
    "# # Finding feature importance is different for each ML Model\n",
    "# feature_dict = dict(zip(x.columns, list(lr.coef_[0])))\n",
    "# feature_dict"
   ]
  },
  {
   "cell_type": "code",
   "execution_count": 37,
   "id": "20d3c5b0",
   "metadata": {
    "execution": {
     "iopub.execute_input": "2023-02-24T15:20:20.750275Z",
     "iopub.status.busy": "2023-02-24T15:20:20.749754Z",
     "iopub.status.idle": "2023-02-24T15:20:20.755225Z",
     "shell.execute_reply": "2023-02-24T15:20:20.754042Z"
    },
    "papermill": {
     "duration": 0.03039,
     "end_time": "2023-02-24T15:20:20.757758",
     "exception": false,
     "start_time": "2023-02-24T15:20:20.727368",
     "status": "completed"
    },
    "tags": []
   },
   "outputs": [],
   "source": [
    "# features = pd.DataFrame(feature_dict, index=[0])\n",
    "# features.T.plot.bar(title='Feature Importance' , color='lightblue', legend=False)\n",
    "# plt.show()"
   ]
  },
  {
   "cell_type": "code",
   "execution_count": 38,
   "id": "86d685d5",
   "metadata": {
    "execution": {
     "iopub.execute_input": "2023-02-24T15:20:20.799834Z",
     "iopub.status.busy": "2023-02-24T15:20:20.799385Z",
     "iopub.status.idle": "2023-02-24T15:20:20.851015Z",
     "shell.execute_reply": "2023-02-24T15:20:20.849727Z"
    },
    "papermill": {
     "duration": 0.076142,
     "end_time": "2023-02-24T15:20:20.853856",
     "exception": false,
     "start_time": "2023-02-24T15:20:20.777714",
     "status": "completed"
    },
    "tags": []
   },
   "outputs": [
    {
     "data": {
      "text/plain": [
       "array([0, 0, 0, 0, 1, 0, 1, 0, 1, 0, 0, 0, 1, 0, 1, 1, 0, 0, 1, 1, 0, 1,\n",
       "       1, 0, 1, 0, 1, 0, 0, 0, 0, 0, 0, 0, 0, 0, 1, 1, 0, 0, 0, 0, 0, 1,\n",
       "       1, 0, 0, 0, 1, 0, 0, 0, 1, 1, 0, 0, 0, 0, 0, 1, 0, 0, 0, 1, 1, 1,\n",
       "       1, 0, 0, 1, 1, 0, 0, 0, 1, 0, 0, 1, 0, 1, 1, 0, 0, 0, 0, 0, 1, 1,\n",
       "       1, 1, 0, 0, 1, 0, 0, 0, 1, 0, 1, 0, 1, 0, 0, 0, 1, 0, 0, 0, 0, 0,\n",
       "       0, 1, 1, 1, 1, 0, 0, 1, 0, 1, 1, 0, 1, 0, 0, 1, 0, 1, 0, 0, 0, 0,\n",
       "       0, 0, 0, 0, 0, 0, 1, 0, 0, 1, 0, 0, 0, 0, 0, 0, 0, 0, 1, 0, 0, 0,\n",
       "       0, 0, 1, 1, 0, 1, 1, 1, 1, 0, 0, 1, 0, 0, 1, 0, 0, 0, 0, 0, 0, 1,\n",
       "       1, 0, 1, 1, 0, 0, 1, 0, 1, 0, 1, 0, 0, 0, 0, 0, 1, 0, 1, 0, 1, 1,\n",
       "       0, 0, 1, 1, 0, 1, 0, 0, 0, 0, 1, 0, 0, 0, 0, 1, 0, 0, 0, 0, 1, 0,\n",
       "       1, 0, 1, 0, 1, 0, 0, 0, 0, 0, 0, 1, 0, 0, 1, 0, 0, 0, 1, 1, 1, 1,\n",
       "       0, 0, 0, 0, 1, 0, 1, 0, 1, 0, 1, 0, 0, 0, 0, 0, 1, 0, 0, 0, 1, 1,\n",
       "       0, 0, 0, 0, 0, 0, 0, 0, 1, 1, 0, 1, 0, 0, 0, 0, 0, 1, 0, 1, 1, 0,\n",
       "       0, 1, 0, 0, 0, 0, 0, 0, 0, 0, 1, 0, 0, 0, 0, 1, 0, 0, 1, 1, 0, 1,\n",
       "       0, 0, 0, 0, 0, 0, 1, 1, 0, 0, 0, 0, 0, 0, 0, 0, 1, 0, 1, 0, 0, 0,\n",
       "       1, 1, 0, 0, 0, 0, 0, 0, 0, 0, 0, 0, 0, 1, 0, 1, 0, 1, 0, 1, 1, 0,\n",
       "       0, 0, 1, 0, 1, 0, 0, 1, 0, 1, 1, 0, 1, 0, 0, 0, 1, 0, 0, 1, 0, 0,\n",
       "       1, 1, 0, 0, 0, 0, 0, 0, 1, 0, 0, 1, 0, 0, 0, 0, 0, 1, 1, 0, 0, 1,\n",
       "       0, 1, 0, 0, 1, 0, 1, 0, 0, 0, 0, 0, 0, 1, 0, 1, 1, 0, 1, 0, 0, 1])"
      ]
     },
     "execution_count": 38,
     "metadata": {},
     "output_type": "execute_result"
    }
   ],
   "source": [
    "# Cleaning the test dataset\n",
    "np.random.seed(2)\n",
    "test = pd.read_csv('/kaggle/input/titanic/test.csv')\n",
    "# Dropping the unnecessary features\n",
    "test.drop(['Cabin', 'Name', 'Ticket'], axis=1, inplace=True)\n",
    "# Filling the missing data\n",
    "test['Age'] = test['Age'].fillna(test.Age.mean())\n",
    "test['Sex'] = test['Sex'].map({'male': 1, 'female': 0})\n",
    "test['Embarked'] = test['Embarked'].map({'Q': 0, 'S': 1, 'C': 2})\n",
    "test['Fare'] = test.Fare.fillna(test.Fare.mean())\n",
    "# Scale the data\n",
    "scaler.fit(test)\n",
    "X_test = scaler.transform(test)\n",
    "X_test = pd.DataFrame(X_test)\n",
    "# Make predictions\n",
    "y_pred = rfc.predict(X_test)\n",
    "y_pred"
   ]
  },
  {
   "cell_type": "code",
   "execution_count": 39,
   "id": "357d177d",
   "metadata": {
    "execution": {
     "iopub.execute_input": "2023-02-24T15:20:20.895299Z",
     "iopub.status.busy": "2023-02-24T15:20:20.894823Z",
     "iopub.status.idle": "2023-02-24T15:20:21.158462Z",
     "shell.execute_reply": "2023-02-24T15:20:21.157242Z"
    },
    "papermill": {
     "duration": 0.288484,
     "end_time": "2023-02-24T15:20:21.162120",
     "exception": false,
     "start_time": "2023-02-24T15:20:20.873636",
     "status": "completed"
    },
    "tags": []
   },
   "outputs": [
    {
     "name": "stdout",
     "output_type": "stream",
     "text": [
      "0.8350461133069829 \n",
      "\n"
     ]
    },
    {
     "data": {
      "image/png": "[encoded data removed]",
      "text/plain": [
       "<Figure size 640x480 with 1 Axes>"
      ]
     },
     "metadata": {},
     "output_type": "display_data"
    }
   ],
   "source": [
    "# Import ROC curve from the sklearn.metrics\n",
    "\n",
    "# Plot ROC curve and calculate AUC metric\n",
    "from sklearn.metrics import RocCurveDisplay, roc_auc_score\n",
    "print(roc_auc_score(y_tst, y_preds), '\\n')\n",
    "RocCurveDisplay.from_estimator(rfc, x_tst, y_tst);"
   ]
  },
  {
   "cell_type": "code",
   "execution_count": 40,
   "id": "4d08e4dd",
   "metadata": {
    "execution": {
     "iopub.execute_input": "2023-02-24T15:20:21.205902Z",
     "iopub.status.busy": "2023-02-24T15:20:21.205356Z",
     "iopub.status.idle": "2023-02-24T15:20:21.241510Z",
     "shell.execute_reply": "2023-02-24T15:20:21.240318Z"
    },
    "papermill": {
     "duration": 0.06069,
     "end_time": "2023-02-24T15:20:21.244084",
     "exception": false,
     "start_time": "2023-02-24T15:20:21.183394",
     "status": "completed"
    },
    "tags": []
   },
   "outputs": [
    {
     "data": {
      "text/plain": [
       "0.8827751196172249"
      ]
     },
     "execution_count": 40,
     "metadata": {},
     "output_type": "execute_result"
    }
   ],
   "source": [
    "np.random.seed(2)\n",
    "output = pd.read_csv('/kaggle/input/titanic/gender_submission.csv')\n",
    "rfc.score(X_test, output['Survived'])"
   ]
  },
  {
   "cell_type": "code",
   "execution_count": 41,
   "id": "fd548ac8",
   "metadata": {
    "execution": {
     "iopub.execute_input": "2023-02-24T15:20:21.288108Z",
     "iopub.status.busy": "2023-02-24T15:20:21.287462Z",
     "iopub.status.idle": "2023-02-24T15:20:21.298278Z",
     "shell.execute_reply": "2023-02-24T15:20:21.297108Z"
    },
    "papermill": {
     "duration": 0.036212,
     "end_time": "2023-02-24T15:20:21.300691",
     "exception": false,
     "start_time": "2023-02-24T15:20:21.264479",
     "status": "completed"
    },
    "tags": []
   },
   "outputs": [
    {
     "data": {
      "text/plain": [
       "0      0\n",
       "1      1\n",
       "2      0\n",
       "3      0\n",
       "4      1\n",
       "      ..\n",
       "413    0\n",
       "414    1\n",
       "415    0\n",
       "416    0\n",
       "417    0\n",
       "Name: Survived, Length: 418, dtype: int64"
      ]
     },
     "execution_count": 41,
     "metadata": {},
     "output_type": "execute_result"
    }
   ],
   "source": [
    "output.Survived"
   ]
  },
  {
   "cell_type": "code",
   "execution_count": 42,
   "id": "5404f8fb",
   "metadata": {
    "execution": {
     "iopub.execute_input": "2023-02-24T15:20:21.343518Z",
     "iopub.status.busy": "2023-02-24T15:20:21.343042Z",
     "iopub.status.idle": "2023-02-24T15:20:21.348585Z",
     "shell.execute_reply": "2023-02-24T15:20:21.347246Z"
    },
    "papermill": {
     "duration": 0.029909,
     "end_time": "2023-02-24T15:20:21.351072",
     "exception": false,
     "start_time": "2023-02-24T15:20:21.321163",
     "status": "completed"
    },
    "tags": []
   },
   "outputs": [],
   "source": [
    "# # Tuning the model\n",
    "# # Hyperparameters\n",
    "# from sklearn.model_selection import GridSearchCV\n",
    "# solvers = ['newton-cg', 'lbfgs', 'liblinear']\n",
    "# penalty = ['l2']\n",
    "# c_values = [100, 10, 1.0, 0.1, 0.01]\n",
    "# grid = dict(solver=solvers, penalty=penalty, C=c_values)\n",
    "# gsv = GridSearchCV(estimator=lr, param_grid=grid, cv=5, verbose=True)\n",
    "# gsv.fit(x_tr, y_tr)"
   ]
  },
  {
   "cell_type": "code",
   "execution_count": 43,
   "id": "03fe8d2d",
   "metadata": {
    "execution": {
     "iopub.execute_input": "2023-02-24T15:20:21.394304Z",
     "iopub.status.busy": "2023-02-24T15:20:21.393750Z",
     "iopub.status.idle": "2023-02-24T15:20:21.419851Z",
     "shell.execute_reply": "2023-02-24T15:20:21.418647Z"
    },
    "papermill": {
     "duration": 0.050801,
     "end_time": "2023-02-24T15:20:21.422228",
     "exception": false,
     "start_time": "2023-02-24T15:20:21.371427",
     "status": "completed"
    },
    "tags": []
   },
   "outputs": [
    {
     "data": {
      "text/html": [
       "<div>\n",
       "<style scoped>\n",
       "    .dataframe tbody tr th:only-of-type {\n",
       "        vertical-align: middle;\n",
       "    }\n",
       "\n",
       "    .dataframe tbody tr th {\n",
       "        vertical-align: top;\n",
       "    }\n",
       "\n",
       "    .dataframe thead th {\n",
       "        text-align: right;\n",
       "    }\n",
       "</style>\n",
       "<table border=\"1\" class=\"dataframe\">\n",
       "  <thead>\n",
       "    <tr style=\"text-align: right;\">\n",
       "      <th>Survived</th>\n",
       "      <th>0</th>\n",
       "      <th>1</th>\n",
       "    </tr>\n",
       "    <tr>\n",
       "      <th>0</th>\n",
       "      <th></th>\n",
       "      <th></th>\n",
       "    </tr>\n",
       "  </thead>\n",
       "  <tbody>\n",
       "    <tr>\n",
       "      <th>0</th>\n",
       "      <td>248</td>\n",
       "      <td>31</td>\n",
       "    </tr>\n",
       "    <tr>\n",
       "      <th>1</th>\n",
       "      <td>18</td>\n",
       "      <td>121</td>\n",
       "    </tr>\n",
       "  </tbody>\n",
       "</table>\n",
       "</div>"
      ],
      "text/plain": [
       "Survived    0    1\n",
       "0                 \n",
       "0         248   31\n",
       "1          18  121"
      ]
     },
     "execution_count": 43,
     "metadata": {},
     "output_type": "execute_result"
    }
   ],
   "source": [
    "pd.crosstab(pd.DataFrame(y_pred)[0], output.Survived)"
   ]
  },
  {
   "cell_type": "code",
   "execution_count": 44,
   "id": "7f6eb78a",
   "metadata": {
    "execution": {
     "iopub.execute_input": "2023-02-24T15:20:21.467585Z",
     "iopub.status.busy": "2023-02-24T15:20:21.467111Z",
     "iopub.status.idle": "2023-02-24T15:20:21.472447Z",
     "shell.execute_reply": "2023-02-24T15:20:21.471151Z"
    },
    "papermill": {
     "duration": 0.031141,
     "end_time": "2023-02-24T15:20:21.475035",
     "exception": false,
     "start_time": "2023-02-24T15:20:21.443894",
     "status": "completed"
    },
    "tags": []
   },
   "outputs": [],
   "source": [
    "# gsv.best_params_"
   ]
  },
  {
   "cell_type": "code",
   "execution_count": 45,
   "id": "5c3b9c2e",
   "metadata": {
    "execution": {
     "iopub.execute_input": "2023-02-24T15:20:21.518778Z",
     "iopub.status.busy": "2023-02-24T15:20:21.517975Z",
     "iopub.status.idle": "2023-02-24T15:20:21.523035Z",
     "shell.execute_reply": "2023-02-24T15:20:21.521865Z"
    },
    "papermill": {
     "duration": 0.029467,
     "end_time": "2023-02-24T15:20:21.525468",
     "exception": false,
     "start_time": "2023-02-24T15:20:21.496001",
     "status": "completed"
    },
    "tags": []
   },
   "outputs": [],
   "source": [
    "# gsv.score(x_tst, y_tst)"
   ]
  },
  {
   "cell_type": "code",
   "execution_count": 46,
   "id": "89ddd340",
   "metadata": {
    "execution": {
     "iopub.execute_input": "2023-02-24T15:20:21.569293Z",
     "iopub.status.busy": "2023-02-24T15:20:21.568752Z",
     "iopub.status.idle": "2023-02-24T15:20:21.574075Z",
     "shell.execute_reply": "2023-02-24T15:20:21.572857Z"
    },
    "papermill": {
     "duration": 0.030177,
     "end_time": "2023-02-24T15:20:21.576375",
     "exception": false,
     "start_time": "2023-02-24T15:20:21.546198",
     "status": "completed"
    },
    "tags": []
   },
   "outputs": [],
   "source": [
    "# y_preds = gsv.predict(X_test)\n",
    "# len(y_preds)"
   ]
  },
  {
   "cell_type": "code",
   "execution_count": 47,
   "id": "25437816",
   "metadata": {
    "execution": {
     "iopub.execute_input": "2023-02-24T15:20:21.619236Z",
     "iopub.status.busy": "2023-02-24T15:20:21.618775Z",
     "iopub.status.idle": "2023-02-24T15:20:21.624939Z",
     "shell.execute_reply": "2023-02-24T15:20:21.623857Z"
    },
    "papermill": {
     "duration": 0.030244,
     "end_time": "2023-02-24T15:20:21.627157",
     "exception": false,
     "start_time": "2023-02-24T15:20:21.596913",
     "status": "completed"
    },
    "tags": []
   },
   "outputs": [],
   "source": [
    "# RandomizedSearchCV & GridSearchCV for RandomForestClassifier\n",
    "grid = {\n",
    "    'n_estimators': [10, 100, 200, 500, 1200],\n",
    "    'max_depth': [None, 5, 10, 20, 30],\n",
    "    'max_features': ['auto', 'sqrt'],\n",
    "    'min_samples_split': [2, 4, 6],\n",
    "    'min_samples_leaf': [1, 2, 4]\n",
    "}"
   ]
  },
  {
   "cell_type": "code",
   "execution_count": 48,
   "id": "2e378da8",
   "metadata": {
    "execution": {
     "iopub.execute_input": "2023-02-24T15:20:21.671322Z",
     "iopub.status.busy": "2023-02-24T15:20:21.670361Z",
     "iopub.status.idle": "2023-02-24T15:21:05.962894Z",
     "shell.execute_reply": "2023-02-24T15:21:05.961739Z"
    },
    "papermill": {
     "duration": 44.317313,
     "end_time": "2023-02-24T15:21:05.965254",
     "exception": false,
     "start_time": "2023-02-24T15:20:21.647941",
     "status": "completed"
    },
    "tags": []
   },
   "outputs": [
    {
     "name": "stdout",
     "output_type": "stream",
     "text": [
      "Fitting 5 folds for each of 10 candidates, totalling 50 fits\n",
      "[CV] END max_depth=20, max_features=sqrt, min_samples_leaf=1, min_samples_split=2, n_estimators=10; total time=   0.0s\n",
      "[CV] END max_depth=20, max_features=sqrt, min_samples_leaf=1, min_samples_split=2, n_estimators=10; total time=   0.0s\n",
      "[CV] END max_depth=20, max_features=sqrt, min_samples_leaf=1, min_samples_split=2, n_estimators=10; total time=   0.0s\n",
      "[CV] END max_depth=20, max_features=sqrt, min_samples_leaf=1, min_samples_split=2, n_estimators=10; total time=   0.0s\n",
      "[CV] END max_depth=20, max_features=sqrt, min_samples_leaf=1, min_samples_split=2, n_estimators=10; total time=   0.0s\n",
      "[CV] END max_depth=30, max_features=sqrt, min_samples_leaf=1, min_samples_split=4, n_estimators=200; total time=   0.4s\n",
      "[CV] END max_depth=30, max_features=sqrt, min_samples_leaf=1, min_samples_split=4, n_estimators=200; total time=   0.4s\n",
      "[CV] END max_depth=30, max_features=sqrt, min_samples_leaf=1, min_samples_split=4, n_estimators=200; total time=   0.4s\n",
      "[CV] END max_depth=30, max_features=sqrt, min_samples_leaf=1, min_samples_split=4, n_estimators=200; total time=   0.4s\n",
      "[CV] END max_depth=30, max_features=sqrt, min_samples_leaf=1, min_samples_split=4, n_estimators=200; total time=   0.4s\n",
      "[CV] END max_depth=20, max_features=sqrt, min_samples_leaf=4, min_samples_split=6, n_estimators=500; total time=   0.9s\n",
      "[CV] END max_depth=20, max_features=sqrt, min_samples_leaf=4, min_samples_split=6, n_estimators=500; total time=   0.9s\n",
      "[CV] END max_depth=20, max_features=sqrt, min_samples_leaf=4, min_samples_split=6, n_estimators=500; total time=   0.9s\n",
      "[CV] END max_depth=20, max_features=sqrt, min_samples_leaf=4, min_samples_split=6, n_estimators=500; total time=   0.9s\n",
      "[CV] END max_depth=20, max_features=sqrt, min_samples_leaf=4, min_samples_split=6, n_estimators=500; total time=   0.9s\n",
      "[CV] END max_depth=5, max_features=sqrt, min_samples_leaf=1, min_samples_split=4, n_estimators=200; total time=   0.3s\n",
      "[CV] END max_depth=5, max_features=sqrt, min_samples_leaf=1, min_samples_split=4, n_estimators=200; total time=   0.3s\n",
      "[CV] END max_depth=5, max_features=sqrt, min_samples_leaf=1, min_samples_split=4, n_estimators=200; total time=   0.3s\n",
      "[CV] END max_depth=5, max_features=sqrt, min_samples_leaf=1, min_samples_split=4, n_estimators=200; total time=   0.3s\n",
      "[CV] END max_depth=5, max_features=sqrt, min_samples_leaf=1, min_samples_split=4, n_estimators=200; total time=   0.3s\n",
      "[CV] END max_depth=10, max_features=sqrt, min_samples_leaf=2, min_samples_split=6, n_estimators=100; total time=   0.2s\n",
      "[CV] END max_depth=10, max_features=sqrt, min_samples_leaf=2, min_samples_split=6, n_estimators=100; total time=   0.2s\n",
      "[CV] END max_depth=10, max_features=sqrt, min_samples_leaf=2, min_samples_split=6, n_estimators=100; total time=   0.2s\n",
      "[CV] END max_depth=10, max_features=sqrt, min_samples_leaf=2, min_samples_split=6, n_estimators=100; total time=   0.2s\n",
      "[CV] END max_depth=10, max_features=sqrt, min_samples_leaf=2, min_samples_split=6, n_estimators=100; total time=   0.2s\n",
      "[CV] END max_depth=20, max_features=sqrt, min_samples_leaf=1, min_samples_split=6, n_estimators=500; total time=   0.9s\n",
      "[CV] END max_depth=20, max_features=sqrt, min_samples_leaf=1, min_samples_split=6, n_estimators=500; total time=   0.9s\n",
      "[CV] END max_depth=20, max_features=sqrt, min_samples_leaf=1, min_samples_split=6, n_estimators=500; total time=   0.9s\n",
      "[CV] END max_depth=20, max_features=sqrt, min_samples_leaf=1, min_samples_split=6, n_estimators=500; total time=   0.9s\n",
      "[CV] END max_depth=20, max_features=sqrt, min_samples_leaf=1, min_samples_split=6, n_estimators=500; total time=   0.9s\n",
      "[CV] END max_depth=None, max_features=auto, min_samples_leaf=2, min_samples_split=2, n_estimators=500; total time=   0.9s\n",
      "[CV] END max_depth=None, max_features=auto, min_samples_leaf=2, min_samples_split=2, n_estimators=500; total time=   0.9s\n",
      "[CV] END max_depth=None, max_features=auto, min_samples_leaf=2, min_samples_split=2, n_estimators=500; total time=   0.9s\n",
      "[CV] END max_depth=None, max_features=auto, min_samples_leaf=2, min_samples_split=2, n_estimators=500; total time=   0.9s\n",
      "[CV] END max_depth=None, max_features=auto, min_samples_leaf=2, min_samples_split=2, n_estimators=500; total time=   0.9s\n",
      "[CV] END max_depth=5, max_features=auto, min_samples_leaf=2, min_samples_split=2, n_estimators=1200; total time=   2.0s\n",
      "[CV] END max_depth=5, max_features=auto, min_samples_leaf=2, min_samples_split=2, n_estimators=1200; total time=   2.2s\n",
      "[CV] END max_depth=5, max_features=auto, min_samples_leaf=2, min_samples_split=2, n_estimators=1200; total time=   2.0s\n",
      "[CV] END max_depth=5, max_features=auto, min_samples_leaf=2, min_samples_split=2, n_estimators=1200; total time=   2.0s\n",
      "[CV] END max_depth=5, max_features=auto, min_samples_leaf=2, min_samples_split=2, n_estimators=1200; total time=   2.0s\n",
      "[CV] END max_depth=10, max_features=sqrt, min_samples_leaf=2, min_samples_split=2, n_estimators=500; total time=   0.9s\n",
      "[CV] END max_depth=10, max_features=sqrt, min_samples_leaf=2, min_samples_split=2, n_estimators=500; total time=   0.9s\n",
      "[CV] END max_depth=10, max_features=sqrt, min_samples_leaf=2, min_samples_split=2, n_estimators=500; total time=   0.9s\n",
      "[CV] END max_depth=10, max_features=sqrt, min_samples_leaf=2, min_samples_split=2, n_estimators=500; total time=   0.9s\n",
      "[CV] END max_depth=10, max_features=sqrt, min_samples_leaf=2, min_samples_split=2, n_estimators=500; total time=   0.9s\n",
      "[CV] END max_depth=None, max_features=auto, min_samples_leaf=2, min_samples_split=4, n_estimators=1200; total time=   2.2s\n",
      "[CV] END max_depth=None, max_features=auto, min_samples_leaf=2, min_samples_split=4, n_estimators=1200; total time=   2.2s\n",
      "[CV] END max_depth=None, max_features=auto, min_samples_leaf=2, min_samples_split=4, n_estimators=1200; total time=   2.2s\n",
      "[CV] END max_depth=None, max_features=auto, min_samples_leaf=2, min_samples_split=4, n_estimators=1200; total time=   2.1s\n",
      "[CV] END max_depth=None, max_features=auto, min_samples_leaf=2, min_samples_split=4, n_estimators=1200; total time=   2.1s\n"
     ]
    },
    {
     "data": {
      "text/plain": [
       "RandomizedSearchCV(cv=5, estimator=RandomForestClassifier(),\n",
       "                   param_distributions={'max_depth': [None, 5, 10, 20, 30],\n",
       "                                        'max_features': ['auto', 'sqrt'],\n",
       "                                        'min_samples_leaf': [1, 2, 4],\n",
       "                                        'min_samples_split': [2, 4, 6],\n",
       "                                        'n_estimators': [10, 100, 200, 500,\n",
       "                                                         1200]},\n",
       "                   verbose=2)"
      ]
     },
     "execution_count": 48,
     "metadata": {},
     "output_type": "execute_result"
    }
   ],
   "source": [
    "from sklearn.model_selection import GridSearchCV, RandomizedSearchCV\n",
    "rsv = RandomizedSearchCV(estimator=rfc, param_distributions=grid, n_iter=10, cv=5, verbose=2)\n",
    "rsv.fit(x_tr, y_tr)"
   ]
  },
  {
   "cell_type": "code",
   "execution_count": 49,
   "id": "4bc6a1ed",
   "metadata": {
    "execution": {
     "iopub.execute_input": "2023-02-24T15:21:06.013818Z",
     "iopub.status.busy": "2023-02-24T15:21:06.013382Z",
     "iopub.status.idle": "2023-02-24T15:21:06.020165Z",
     "shell.execute_reply": "2023-02-24T15:21:06.019089Z"
    },
    "papermill": {
     "duration": 0.03405,
     "end_time": "2023-02-24T15:21:06.022725",
     "exception": false,
     "start_time": "2023-02-24T15:21:05.988675",
     "status": "completed"
    },
    "tags": []
   },
   "outputs": [
    {
     "data": {
      "text/plain": [
       "{'n_estimators': 500,\n",
       " 'min_samples_split': 2,\n",
       " 'min_samples_leaf': 2,\n",
       " 'max_features': 'auto',\n",
       " 'max_depth': None}"
      ]
     },
     "execution_count": 49,
     "metadata": {},
     "output_type": "execute_result"
    }
   ],
   "source": [
    "rsv.best_params_"
   ]
  },
  {
   "cell_type": "code",
   "execution_count": 50,
   "id": "86ee1775",
   "metadata": {
    "execution": {
     "iopub.execute_input": "2023-02-24T15:21:06.070349Z",
     "iopub.status.busy": "2023-02-24T15:21:06.069961Z",
     "iopub.status.idle": "2023-02-24T15:21:06.249110Z",
     "shell.execute_reply": "2023-02-24T15:21:06.247993Z"
    },
    "papermill": {
     "duration": 0.205748,
     "end_time": "2023-02-24T15:21:06.251585",
     "exception": false,
     "start_time": "2023-02-24T15:21:06.045837",
     "status": "completed"
    },
    "tags": []
   },
   "outputs": [
    {
     "data": {
      "text/plain": [
       "(0.9311797752808989, 0.8491620111731844)"
      ]
     },
     "execution_count": 50,
     "metadata": {},
     "output_type": "execute_result"
    }
   ],
   "source": [
    "rsv.score(x_tr, y_tr), rsv.score(x_tst, y_tst)"
   ]
  },
  {
   "cell_type": "code",
   "execution_count": 51,
   "id": "86389269",
   "metadata": {
    "execution": {
     "iopub.execute_input": "2023-02-24T15:21:06.300012Z",
     "iopub.status.busy": "2023-02-24T15:21:06.299603Z",
     "iopub.status.idle": "2023-02-24T15:21:06.391940Z",
     "shell.execute_reply": "2023-02-24T15:21:06.390696Z"
    },
    "papermill": {
     "duration": 0.119916,
     "end_time": "2023-02-24T15:21:06.394824",
     "exception": false,
     "start_time": "2023-02-24T15:21:06.274908",
     "status": "completed"
    },
    "tags": []
   },
   "outputs": [
    {
     "data": {
      "text/plain": [
       "0.9043062200956937"
      ]
     },
     "execution_count": 51,
     "metadata": {},
     "output_type": "execute_result"
    }
   ],
   "source": [
    "rsv.score(X_test, output['Survived'])"
   ]
  },
  {
   "cell_type": "code",
   "execution_count": 52,
   "id": "98ee954a",
   "metadata": {
    "execution": {
     "iopub.execute_input": "2023-02-24T15:21:06.443886Z",
     "iopub.status.busy": "2023-02-24T15:21:06.443437Z",
     "iopub.status.idle": "2023-02-24T15:21:06.449246Z",
     "shell.execute_reply": "2023-02-24T15:21:06.448080Z"
    },
    "papermill": {
     "duration": 0.032893,
     "end_time": "2023-02-24T15:21:06.451415",
     "exception": false,
     "start_time": "2023-02-24T15:21:06.418522",
     "status": "completed"
    },
    "tags": []
   },
   "outputs": [],
   "source": [
    "grid2 = {\n",
    "    'n_estimators': [500, 700],\n",
    "    'min_samples_split': [4, 6],\n",
    "    'min_samples_leaf': [2, 4, 6],\n",
    "    'max_features': ['auto'],\n",
    "    'max_depth': [None, 5, 10]\n",
    "}"
   ]
  },
  {
   "cell_type": "code",
   "execution_count": 53,
   "id": "ca2b4751",
   "metadata": {
    "execution": {
     "iopub.execute_input": "2023-02-24T15:21:06.499735Z",
     "iopub.status.busy": "2023-02-24T15:21:06.499300Z",
     "iopub.status.idle": "2023-02-24T15:24:12.922916Z",
     "shell.execute_reply": "2023-02-24T15:24:12.921472Z"
    },
    "papermill": {
     "duration": 186.474701,
     "end_time": "2023-02-24T15:24:12.949487",
     "exception": false,
     "start_time": "2023-02-24T15:21:06.474786",
     "status": "completed"
    },
    "tags": []
   },
   "outputs": [
    {
     "name": "stdout",
     "output_type": "stream",
     "text": [
      "Fitting 5 folds for each of 36 candidates, totalling 180 fits\n"
     ]
    },
    {
     "data": {
      "text/plain": [
       "GridSearchCV(cv=5, estimator=RandomForestClassifier(),\n",
       "             param_grid={'max_depth': [None, 5, 10], 'max_features': ['auto'],\n",
       "                         'min_samples_leaf': [2, 4, 6],\n",
       "                         'min_samples_split': [4, 6],\n",
       "                         'n_estimators': [500, 700]},\n",
       "             verbose=True)"
      ]
     },
     "execution_count": 53,
     "metadata": {},
     "output_type": "execute_result"
    }
   ],
   "source": [
    "gsv = GridSearchCV(estimator=rfc, param_grid=grid2, cv=5, verbose=True)\n",
    "gsv.fit(x_tr, y_tr)"
   ]
  },
  {
   "cell_type": "code",
   "execution_count": 54,
   "id": "4da0f1cc",
   "metadata": {
    "execution": {
     "iopub.execute_input": "2023-02-24T15:24:12.999197Z",
     "iopub.status.busy": "2023-02-24T15:24:12.998385Z",
     "iopub.status.idle": "2023-02-24T15:24:13.357614Z",
     "shell.execute_reply": "2023-02-24T15:24:13.356243Z"
    },
    "papermill": {
     "duration": 0.387117,
     "end_time": "2023-02-24T15:24:13.360243",
     "exception": false,
     "start_time": "2023-02-24T15:24:12.973126",
     "status": "completed"
    },
    "tags": []
   },
   "outputs": [
    {
     "data": {
      "text/plain": [
       "(0.9353932584269663, 0.8491620111731844, 0.8995215311004785)"
      ]
     },
     "execution_count": 54,
     "metadata": {},
     "output_type": "execute_result"
    }
   ],
   "source": [
    "gsv.score(x_tr, y_tr), gsv.score(x_tst, y_tst), gsv.score(X_test, output.Survived)"
   ]
  },
  {
   "cell_type": "code",
   "execution_count": 55,
   "id": "470e44ba",
   "metadata": {
    "execution": {
     "iopub.execute_input": "2023-02-24T15:24:13.409665Z",
     "iopub.status.busy": "2023-02-24T15:24:13.409275Z",
     "iopub.status.idle": "2023-02-24T15:24:13.532916Z",
     "shell.execute_reply": "2023-02-24T15:24:13.531581Z"
    },
    "papermill": {
     "duration": 0.151427,
     "end_time": "2023-02-24T15:24:13.535434",
     "exception": false,
     "start_time": "2023-02-24T15:24:13.384007",
     "status": "completed"
    },
    "tags": []
   },
   "outputs": [
    {
     "data": {
      "text/plain": [
       "array([0, 0, 0, 0, 1, 0, 1, 0, 1, 0, 0, 0, 1, 0, 1, 1, 0, 0, 1, 0, 0, 0,\n",
       "       1, 0, 1, 0, 1, 0, 0, 0, 0, 0, 0, 0, 0, 0, 1, 1, 0, 0, 0, 0, 0, 1,\n",
       "       1, 0, 0, 0, 1, 0, 0, 0, 1, 1, 0, 0, 0, 0, 0, 1, 0, 0, 0, 1, 1, 1,\n",
       "       1, 0, 0, 1, 1, 0, 0, 0, 1, 0, 0, 1, 0, 1, 1, 0, 0, 0, 0, 0, 1, 1,\n",
       "       1, 1, 0, 0, 1, 0, 0, 0, 1, 0, 1, 0, 1, 0, 0, 0, 1, 0, 0, 0, 0, 0,\n",
       "       0, 1, 1, 1, 1, 0, 0, 1, 0, 1, 1, 0, 1, 0, 0, 1, 0, 1, 0, 0, 0, 0,\n",
       "       0, 0, 0, 0, 0, 0, 1, 0, 0, 1, 0, 0, 0, 0, 0, 0, 0, 0, 1, 0, 0, 0,\n",
       "       0, 0, 1, 1, 0, 1, 1, 1, 1, 0, 0, 1, 0, 0, 1, 0, 0, 0, 0, 0, 0, 1,\n",
       "       1, 0, 1, 1, 0, 0, 1, 0, 1, 0, 1, 0, 0, 0, 0, 0, 0, 0, 1, 0, 1, 1,\n",
       "       0, 0, 1, 1, 0, 1, 0, 0, 0, 0, 1, 0, 0, 0, 0, 1, 0, 0, 1, 0, 1, 0,\n",
       "       1, 0, 1, 0, 1, 0, 0, 1, 0, 0, 0, 1, 0, 0, 1, 0, 0, 0, 1, 1, 1, 1,\n",
       "       0, 0, 0, 0, 1, 0, 1, 0, 1, 0, 1, 0, 0, 0, 0, 0, 1, 0, 0, 0, 1, 1,\n",
       "       0, 0, 0, 0, 1, 0, 0, 0, 1, 1, 0, 1, 0, 0, 0, 0, 0, 1, 1, 1, 1, 0,\n",
       "       0, 1, 0, 0, 0, 1, 0, 0, 0, 0, 1, 0, 0, 0, 0, 0, 0, 0, 1, 1, 0, 1,\n",
       "       0, 0, 0, 0, 0, 0, 1, 1, 1, 0, 0, 0, 0, 0, 0, 0, 1, 0, 1, 0, 0, 0,\n",
       "       1, 1, 0, 0, 0, 0, 0, 0, 0, 0, 0, 0, 0, 1, 0, 1, 0, 0, 0, 1, 1, 0,\n",
       "       0, 0, 1, 0, 1, 0, 0, 0, 0, 1, 1, 0, 1, 0, 0, 0, 1, 0, 0, 1, 0, 0,\n",
       "       1, 1, 0, 0, 0, 0, 0, 0, 0, 0, 0, 1, 0, 0, 0, 0, 0, 1, 0, 0, 0, 1,\n",
       "       0, 1, 0, 0, 1, 0, 1, 0, 0, 0, 0, 0, 1, 1, 1, 1, 1, 0, 1, 0, 0, 0])"
      ]
     },
     "execution_count": 55,
     "metadata": {},
     "output_type": "execute_result"
    }
   ],
   "source": [
    "prediction = gsv.predict(X_test)\n",
    "prediction"
   ]
  },
  {
   "cell_type": "code",
   "execution_count": 56,
   "id": "b4d43818",
   "metadata": {
    "execution": {
     "iopub.execute_input": "2023-02-24T15:24:13.584708Z",
     "iopub.status.busy": "2023-02-24T15:24:13.584297Z",
     "iopub.status.idle": "2023-02-24T15:24:13.605489Z",
     "shell.execute_reply": "2023-02-24T15:24:13.604379Z"
    },
    "papermill": {
     "duration": 0.04891,
     "end_time": "2023-02-24T15:24:13.608043",
     "exception": false,
     "start_time": "2023-02-24T15:24:13.559133",
     "status": "completed"
    },
    "tags": []
   },
   "outputs": [
    {
     "data": {
      "text/html": [
       "<div>\n",
       "<style scoped>\n",
       "    .dataframe tbody tr th:only-of-type {\n",
       "        vertical-align: middle;\n",
       "    }\n",
       "\n",
       "    .dataframe tbody tr th {\n",
       "        vertical-align: top;\n",
       "    }\n",
       "\n",
       "    .dataframe thead th {\n",
       "        text-align: right;\n",
       "    }\n",
       "</style>\n",
       "<table border=\"1\" class=\"dataframe\">\n",
       "  <thead>\n",
       "    <tr style=\"text-align: right;\">\n",
       "      <th>Survived</th>\n",
       "      <th>0</th>\n",
       "      <th>1</th>\n",
       "    </tr>\n",
       "    <tr>\n",
       "      <th>0</th>\n",
       "      <th></th>\n",
       "      <th></th>\n",
       "    </tr>\n",
       "  </thead>\n",
       "  <tbody>\n",
       "    <tr>\n",
       "      <th>0</th>\n",
       "      <td>252</td>\n",
       "      <td>28</td>\n",
       "    </tr>\n",
       "    <tr>\n",
       "      <th>1</th>\n",
       "      <td>14</td>\n",
       "      <td>124</td>\n",
       "    </tr>\n",
       "  </tbody>\n",
       "</table>\n",
       "</div>"
      ],
      "text/plain": [
       "Survived    0    1\n",
       "0                 \n",
       "0         252   28\n",
       "1          14  124"
      ]
     },
     "execution_count": 56,
     "metadata": {},
     "output_type": "execute_result"
    }
   ],
   "source": [
    "pd.crosstab(pd.DataFrame(prediction)[0], output.Survived)"
   ]
  },
  {
   "cell_type": "code",
   "execution_count": 57,
   "id": "a76e4160",
   "metadata": {
    "execution": {
     "iopub.execute_input": "2023-02-24T15:24:13.658539Z",
     "iopub.status.busy": "2023-02-24T15:24:13.658143Z",
     "iopub.status.idle": "2023-02-24T15:24:13.666809Z",
     "shell.execute_reply": "2023-02-24T15:24:13.665976Z"
    },
    "papermill": {
     "duration": 0.036846,
     "end_time": "2023-02-24T15:24:13.669164",
     "exception": false,
     "start_time": "2023-02-24T15:24:13.632318",
     "status": "completed"
    },
    "tags": []
   },
   "outputs": [],
   "source": [
    "submission = output\n",
    "submission['Survived'] = list(map(int, prediction))\n",
    "submission.to_csv('submission.csv', index=False)"
   ]
  },
  {
   "cell_type": "code",
   "execution_count": 58,
   "id": "c5bcc687",
   "metadata": {
    "execution": {
     "iopub.execute_input": "2023-02-24T15:24:13.719716Z",
     "iopub.status.busy": "2023-02-24T15:24:13.719310Z",
     "iopub.status.idle": "2023-02-24T15:24:13.723502Z",
     "shell.execute_reply": "2023-02-24T15:24:13.722629Z"
    },
    "papermill": {
     "duration": 0.032443,
     "end_time": "2023-02-24T15:24:13.725581",
     "exception": false,
     "start_time": "2023-02-24T15:24:13.693138",
     "status": "completed"
    },
    "tags": []
   },
   "outputs": [],
   "source": [
    "# Save the model and Load it\n",
    "# import pickle\n",
    "# pickle.dump(lr, open('Model.pkl', 'wb'))\n",
    "# loaded_model = pickle.load(open('Model.pkl', 'rb'))"
   ]
  }
 ],
 "metadata": {
  "kernelspec": {
   "display_name": "Python 3",
   "language": "python",
   "name": "python3"
  },
  "language_info": {
   "codemirror_mode": {
    "name": "ipython",
    "version": 3
   },
   "file_extension": ".py",
   "mimetype": "text/x-python",
   "name": "python",
   "nbconvert_exporter": "python",
   "pygments_lexer": "ipython3",
   "version": "3.7.12"
  },
  "papermill": {
   "default_parameters": {},
   "duration": 249.58451,
   "end_time": "2023-02-24T15:24:14.572222",
   "environment_variables": {},
   "exception": null,
   "input_path": "__notebook__.ipynb",
   "output_path": "__notebook__.ipynb",
   "parameters": {},
   "start_time": "2023-02-24T15:20:04.987712",
   "version": "2.3.4"
  }
 },
 "nbformat": 4,
 "nbformat_minor": 5
}
